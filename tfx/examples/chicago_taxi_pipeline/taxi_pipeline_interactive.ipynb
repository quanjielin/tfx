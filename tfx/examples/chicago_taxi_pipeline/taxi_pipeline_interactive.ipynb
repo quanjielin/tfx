{
 "cells": [
  {
   "cell_type": "markdown",
   "metadata": {
    "colab_type": "text",
    "id": "23R0Z9RojXYW"
   },
   "source": [
    "<!-- TODO(ccy): split this notebook into (1) a beginner friendly notebook that\n",
    "     avoids directly calling into TFX libraries and (2) an advanced notebook\n",
    "     or notebooks that delve more deeply into each component, along with their\n",
    "     underlying libraries. -->\n",
    "# TFX Iterative Development Example\n",
    "This notebook demonstrates how to use Jupyter notebooks for TFX iterative development.  Here, we walk through the Chicago Taxi example in an interactive Jupyter notebook.\n",
    "\n",
    "Note: this notebook along with its associated APIs are **experimental** and are\n",
    "in active development.  Major changes in functionality, behavior and\n",
    "presentation are expected."
   ]
  },
  {
   "cell_type": "markdown",
   "metadata": {
    "colab_type": "text",
    "id": "2GivNBNYjb3b"
   },
   "source": [
    "## Setup\n",
    "First, download data, import modules and set up paths."
   ]
  },
  {
   "cell_type": "markdown",
   "metadata": {
    "colab_type": "text",
    "id": "N-ePgV0Lj68Q"
   },
   "source": [
    "### Import packages\n",
    "We import necessary packages, including standard TFX component classes."
   ]
  },
  {
   "cell_type": "code",
   "execution_count": 1,
   "metadata": {
    "colab": {},
    "colab_type": "code",
    "id": "YIqpWK9efviJ"
   },
   "outputs": [
    {
     "name": "stderr",
     "output_type": "stream",
     "text": [
      "/usr/local/google/home/joeyounglee/git-repos/tfx_oss.git/tfx/examples/chicago_taxi_pipeline/taxi_pipeline/local/lib/python3.6/site-packages/tensorflow/python/framework/dtypes.py:516: FutureWarning: Passing (type, 1) or '1type' as a synonym of type is deprecated; in a future version of numpy, it will be understood as (type, (1,)) / '(1,)type'.\n",
      "  _np_qint8 = np.dtype([(\"qint8\", np.int8, 1)])\n",
      "/usr/local/google/home/joeyounglee/git-repos/tfx_oss.git/tfx/examples/chicago_taxi_pipeline/taxi_pipeline/local/lib/python3.6/site-packages/tensorflow/python/framework/dtypes.py:517: FutureWarning: Passing (type, 1) or '1type' as a synonym of type is deprecated; in a future version of numpy, it will be understood as (type, (1,)) / '(1,)type'.\n",
      "  _np_quint8 = np.dtype([(\"quint8\", np.uint8, 1)])\n",
      "/usr/local/google/home/joeyounglee/git-repos/tfx_oss.git/tfx/examples/chicago_taxi_pipeline/taxi_pipeline/local/lib/python3.6/site-packages/tensorflow/python/framework/dtypes.py:518: FutureWarning: Passing (type, 1) or '1type' as a synonym of type is deprecated; in a future version of numpy, it will be understood as (type, (1,)) / '(1,)type'.\n",
      "  _np_qint16 = np.dtype([(\"qint16\", np.int16, 1)])\n",
      "/usr/local/google/home/joeyounglee/git-repos/tfx_oss.git/tfx/examples/chicago_taxi_pipeline/taxi_pipeline/local/lib/python3.6/site-packages/tensorflow/python/framework/dtypes.py:519: FutureWarning: Passing (type, 1) or '1type' as a synonym of type is deprecated; in a future version of numpy, it will be understood as (type, (1,)) / '(1,)type'.\n",
      "  _np_quint16 = np.dtype([(\"quint16\", np.uint16, 1)])\n",
      "/usr/local/google/home/joeyounglee/git-repos/tfx_oss.git/tfx/examples/chicago_taxi_pipeline/taxi_pipeline/local/lib/python3.6/site-packages/tensorflow/python/framework/dtypes.py:520: FutureWarning: Passing (type, 1) or '1type' as a synonym of type is deprecated; in a future version of numpy, it will be understood as (type, (1,)) / '(1,)type'.\n",
      "  _np_qint32 = np.dtype([(\"qint32\", np.int32, 1)])\n",
      "/usr/local/google/home/joeyounglee/git-repos/tfx_oss.git/tfx/examples/chicago_taxi_pipeline/taxi_pipeline/local/lib/python3.6/site-packages/tensorflow/python/framework/dtypes.py:525: FutureWarning: Passing (type, 1) or '1type' as a synonym of type is deprecated; in a future version of numpy, it will be understood as (type, (1,)) / '(1,)type'.\n",
      "  np_resource = np.dtype([(\"resource\", np.ubyte, 1)])\n",
      "/usr/local/google/home/joeyounglee/git-repos/tfx_oss.git/tfx/examples/chicago_taxi_pipeline/taxi_pipeline/local/lib/python3.6/site-packages/tensorboard/compat/tensorflow_stub/dtypes.py:541: FutureWarning: Passing (type, 1) or '1type' as a synonym of type is deprecated; in a future version of numpy, it will be understood as (type, (1,)) / '(1,)type'.\n",
      "  _np_qint8 = np.dtype([(\"qint8\", np.int8, 1)])\n",
      "/usr/local/google/home/joeyounglee/git-repos/tfx_oss.git/tfx/examples/chicago_taxi_pipeline/taxi_pipeline/local/lib/python3.6/site-packages/tensorboard/compat/tensorflow_stub/dtypes.py:542: FutureWarning: Passing (type, 1) or '1type' as a synonym of type is deprecated; in a future version of numpy, it will be understood as (type, (1,)) / '(1,)type'.\n",
      "  _np_quint8 = np.dtype([(\"quint8\", np.uint8, 1)])\n",
      "/usr/local/google/home/joeyounglee/git-repos/tfx_oss.git/tfx/examples/chicago_taxi_pipeline/taxi_pipeline/local/lib/python3.6/site-packages/tensorboard/compat/tensorflow_stub/dtypes.py:543: FutureWarning: Passing (type, 1) or '1type' as a synonym of type is deprecated; in a future version of numpy, it will be understood as (type, (1,)) / '(1,)type'.\n",
      "  _np_qint16 = np.dtype([(\"qint16\", np.int16, 1)])\n",
      "/usr/local/google/home/joeyounglee/git-repos/tfx_oss.git/tfx/examples/chicago_taxi_pipeline/taxi_pipeline/local/lib/python3.6/site-packages/tensorboard/compat/tensorflow_stub/dtypes.py:544: FutureWarning: Passing (type, 1) or '1type' as a synonym of type is deprecated; in a future version of numpy, it will be understood as (type, (1,)) / '(1,)type'.\n",
      "  _np_quint16 = np.dtype([(\"quint16\", np.uint16, 1)])\n",
      "/usr/local/google/home/joeyounglee/git-repos/tfx_oss.git/tfx/examples/chicago_taxi_pipeline/taxi_pipeline/local/lib/python3.6/site-packages/tensorboard/compat/tensorflow_stub/dtypes.py:545: FutureWarning: Passing (type, 1) or '1type' as a synonym of type is deprecated; in a future version of numpy, it will be understood as (type, (1,)) / '(1,)type'.\n",
      "  _np_qint32 = np.dtype([(\"qint32\", np.int32, 1)])\n",
      "/usr/local/google/home/joeyounglee/git-repos/tfx_oss.git/tfx/examples/chicago_taxi_pipeline/taxi_pipeline/local/lib/python3.6/site-packages/tensorboard/compat/tensorflow_stub/dtypes.py:550: FutureWarning: Passing (type, 1) or '1type' as a synonym of type is deprecated; in a future version of numpy, it will be understood as (type, (1,)) / '(1,)type'.\n",
      "  np_resource = np.dtype([(\"resource\", np.ubyte, 1)])\n",
      "/usr/local/google/home/joeyounglee/git-repos/tfx_oss.git/tfx/examples/chicago_taxi_pipeline/taxi_pipeline/local/lib/python3.6/site-packages/apache_beam/__init__.py:84: UserWarning: Some syntactic constructs of Python 3 are not yet fully supported by Apache Beam.\n",
      "  'Some syntactic constructs of Python 3 are not yet fully supported by '\n"
     ]
    },
    {
     "name": "stdout",
     "output_type": "stream",
     "text": [
      "WARNING:tensorflow:From /usr/local/google/home/joeyounglee/git-repos/tfx_oss.git/tfx/examples/chicago_taxi_pipeline/taxi_pipeline/local/lib/python3.6/site-packages/tfx/components/transform/executor.py:57: The name tf.FixedLenFeature is deprecated. Please use tf.io.FixedLenFeature instead.\n",
      "\n",
      "WARNING:tensorflow:From /usr/local/google/home/joeyounglee/git-repos/tfx_oss.git/tfx/examples/chicago_taxi_pipeline/taxi_pipeline/local/lib/python3.6/site-packages/tfx/components/transform/executor.py:57: from_feature_spec (from tensorflow_transform.tf_metadata.dataset_schema) is deprecated and will be removed in a future version.\n",
      "Instructions for updating:\n",
      "from_feature_spec is a deprecated, use schema_utils.schema_from_feature_spec\n"
     ]
    }
   ],
   "source": [
    "import os\n",
    "import tempfile\n",
    "import urllib\n",
    "\n",
    "import tensorflow as tf\n",
    "import tfx\n",
    "from tfx.components.evaluator.component import Evaluator\n",
    "from tfx.components.example_gen.csv_example_gen.component import CsvExampleGen\n",
    "from tfx.components.example_validator.component import ExampleValidator\n",
    "from tfx.components.model_validator.component import ModelValidator\n",
    "from tfx.components.pusher.component import Pusher\n",
    "from tfx.components.schema_gen.component import SchemaGen\n",
    "from tfx.components.statistics_gen.component import StatisticsGen\n",
    "from tfx.components.trainer.component import Trainer\n",
    "from tfx.components.transform.component import Transform\n",
    "from tfx.orchestration import metadata\n",
    "from tfx.orchestration import pipeline\n",
    "from tfx.orchestration.interactive.interactive_context import InteractiveContext, check_ipython\n",
    "from tfx.proto import evaluator_pb2\n",
    "from tfx.proto import pusher_pb2\n",
    "from tfx.proto import trainer_pb2\n",
    "from tfx.proto.evaluator_pb2 import SingleSlicingSpec\n",
    "from tfx.utils.dsl_utils import csv_input"
   ]
  },
  {
   "cell_type": "markdown",
   "metadata": {
    "colab_type": "text",
    "id": "ufJKQ6OvkJlY"
   },
   "source": [
    "### Set up pipeline paths"
   ]
  },
  {
   "cell_type": "code",
   "execution_count": 2,
   "metadata": {
    "colab": {},
    "colab_type": "code",
    "id": "ad5JLpKbf6sN"
   },
   "outputs": [],
   "source": [
    "# Set up paths.\n",
    "\n",
    "_pipeline_name = 'chicago_taxi_beam'\n",
    "\n",
    "if check_ipython():\n",
    "  _tfx_root = tfx.__path__[0]\n",
    "  _taxi_root = os.path.join(_tfx_root, 'examples/chicago_taxi_pipeline')\n",
    "  # Path which can be listened to by the model server.  Pusher will output the\n",
    "  # trained model here.\n",
    "  _serving_model_dir = os.path.join(tempfile.mkdtemp(), 'serving_model/taxi_simple')\n",
    "else:\n",
    "  # Paths for exported pipeline.\n",
    "  _tfx_root = os.path.join(os.environ['HOME'], 'tfx')\n",
    "  _taxi_root = os.path.join(os.environ['HOME'], 'taxi')    \n",
    "  _serving_model_dir = os.path.join(_taxi_root, 'serving_model')\n",
    "\n",
    "# Python module file to inject customized logic into the TFX components. The\n",
    "# Transform and Trainer both require user-defined functions to run successfully.\n",
    "_taxi_module_file = os.path.join(_taxi_root, 'taxi_utils.py')\n",
    "\n",
    "_pipeline_root = os.path.join(_tfx_root, 'pipelines', _pipeline_name)\n",
    "# Sqlite ML-metadata db path.\n",
    "_metadata_path = os.path.join(_tfx_root, 'metadata', _pipeline_name,\n",
    "                              'metadata.db')"
   ]
  },
  {
   "cell_type": "markdown",
   "metadata": {
    "colab_type": "text",
    "id": "n2cMMAbSkGfX"
   },
   "source": [
    "### Download example data\n",
    "We download the sample dataset for use in our TFX pipeline."
   ]
  },
  {
   "cell_type": "code",
   "execution_count": 3,
   "metadata": {
    "colab": {},
    "colab_type": "code",
    "id": "BywX6OUEhAqn"
   },
   "outputs": [],
   "source": [
    "# Download the example data.\n",
    "if check_ipython():\n",
    "  _data_root = tempfile.mkdtemp(prefix='tfx-data')\n",
    "  DATA_PATH = 'https://raw.githubusercontent.com/tensorflow/tfx/master/tfx/examples/chicago_taxi_pipeline/data/simple/data.csv'\n",
    "  with open(os.path.join(_data_root, 'data.csv'), 'wb') as f:\n",
    "      contents = urllib.request.urlopen(DATA_PATH).read()\n",
    "      f.write(contents)\n",
    "else:\n",
    "  _data_root = os.path.join(_taxi_root, 'data', 'simple')"
   ]
  },
  {
   "cell_type": "markdown",
   "metadata": {
    "colab_type": "text",
    "id": "8ONIE_hdkPS4"
   },
   "source": [
    "## Create the InteractiveContext\n",
    "We now create the interactive context."
   ]
  },
  {
   "cell_type": "code",
   "execution_count": 4,
   "metadata": {
    "colab": {},
    "colab_type": "code",
    "id": "0Rh6K5sUf9dd"
   },
   "outputs": [],
   "source": [
    "# Here, we create an InteractiveContext using default parameters. This will\n",
    "# use a temporary directory with an ephemeral ML Metadata database instance.\n",
    "# To use your own pipeline root or database, the optional properties\n",
    "# `pipeline_root` and `metadata_connection_config` may be passed to\n",
    "# InteractiveContext.\n",
    "context = InteractiveContext()"
   ]
  },
  {
   "cell_type": "markdown",
   "metadata": {
    "colab_type": "text",
    "id": "HdQWxfsVkzdJ"
   },
   "source": [
    "## Run TFX components interactively\n",
    "Next, we construct TFX components and run each one interactively using within the interactive session to obtain `ExecutionResult` objects."
   ]
  },
  {
   "cell_type": "markdown",
   "metadata": {
    "colab_type": "text",
    "id": "L9fwt9gQk3BR"
   },
   "source": [
    "### ExampleGen\n",
    "`ExampleGen` brings data into the TFX pipeline."
   ]
  },
  {
   "cell_type": "code",
   "execution_count": 5,
   "metadata": {
    "colab": {},
    "colab_type": "code",
    "id": "PyXjuMt8f-9u"
   },
   "outputs": [
    {
     "name": "stdout",
     "output_type": "stream",
     "text": [
      "WARNING:tensorflow:From <ipython-input-5-94deed105576>:2: The name csv_input is deprecated. Please use external_input instead.\n",
      "\n"
     ]
    },
    {
     "name": "stderr",
     "output_type": "stream",
     "text": [
      "WARNING:tensorflow:From <ipython-input-5-94deed105576>:2: The name csv_input is deprecated. Please use external_input instead.\n",
      "\n"
     ]
    },
    {
     "name": "stdout",
     "output_type": "stream",
     "text": [
      "WARNING:tensorflow:From /usr/local/google/home/joeyounglee/git-repos/tfx_oss.git/tfx/examples/chicago_taxi_pipeline/taxi_pipeline/local/lib/python3.6/site-packages/tfx/orchestration/component_launcher.py:87: The name tf.logging.info is deprecated. Please use tf.compat.v1.logging.info instead.\n",
      "\n"
     ]
    },
    {
     "name": "stderr",
     "output_type": "stream",
     "text": [
      "WARNING:tensorflow:From /usr/local/google/home/joeyounglee/git-repos/tfx_oss.git/tfx/examples/chicago_taxi_pipeline/taxi_pipeline/local/lib/python3.6/site-packages/tfx/orchestration/component_launcher.py:87: The name tf.logging.info is deprecated. Please use tf.compat.v1.logging.info instead.\n",
      "\n"
     ]
    },
    {
     "name": "stdout",
     "output_type": "stream",
     "text": [
      "INFO:tensorflow:Run driver for CsvExampleGen\n"
     ]
    },
    {
     "name": "stderr",
     "output_type": "stream",
     "text": [
      "INFO:tensorflow:Run driver for CsvExampleGen\n"
     ]
    },
    {
     "name": "stdout",
     "output_type": "stream",
     "text": [
      "INFO:tensorflow:Created run context interactive-2019-09-13T16_46_14.222336.2019-09-13T16:46:14.243518.\n"
     ]
    },
    {
     "name": "stderr",
     "output_type": "stream",
     "text": [
      "INFO:tensorflow:Created run context interactive-2019-09-13T16_46_14.222336.2019-09-13T16:46:14.243518.\n"
     ]
    },
    {
     "name": "stdout",
     "output_type": "stream",
     "text": [
      "INFO:tensorflow:ID of run context interactive-2019-09-13T16_46_14.222336.2019-09-13T16:46:14.243518 is 1.\n"
     ]
    },
    {
     "name": "stderr",
     "output_type": "stream",
     "text": [
      "INFO:tensorflow:ID of run context interactive-2019-09-13T16_46_14.222336.2019-09-13T16:46:14.243518 is 1.\n"
     ]
    },
    {
     "name": "stdout",
     "output_type": "stream",
     "text": [
      "INFO:tensorflow:Processing input /tmp/tfx-datazuettbe6.\n"
     ]
    },
    {
     "name": "stderr",
     "output_type": "stream",
     "text": [
      "INFO:tensorflow:Processing input /tmp/tfx-datazuettbe6.\n"
     ]
    },
    {
     "name": "stdout",
     "output_type": "stream",
     "text": [
      "INFO:tensorflow:single_input Artifact(type_name: ExternalPath, uri: /tmp/tfx-datazuettbe6, split: , id: 0).\n"
     ]
    },
    {
     "name": "stderr",
     "output_type": "stream",
     "text": [
      "INFO:tensorflow:single_input Artifact(type_name: ExternalPath, uri: /tmp/tfx-datazuettbe6, split: , id: 0).\n"
     ]
    },
    {
     "name": "stdout",
     "output_type": "stream",
     "text": [
      "INFO:tensorflow:single_input.artifact uri: \"/tmp/tfx-datazuettbe6\"\n",
      "properties {\n",
      "  key: \"split\"\n",
      "  value {\n",
      "    string_value: \"\"\n",
      "  }\n",
      "}\n",
      "properties {\n",
      "  key: \"type_name\"\n",
      "  value {\n",
      "    string_value: \"ExternalPath\"\n",
      "  }\n",
      "}\n",
      ".\n"
     ]
    },
    {
     "name": "stderr",
     "output_type": "stream",
     "text": [
      "INFO:tensorflow:single_input.artifact uri: \"/tmp/tfx-datazuettbe6\"\n",
      "properties {\n",
      "  key: \"split\"\n",
      "  value {\n",
      "    string_value: \"\"\n",
      "  }\n",
      "}\n",
      "properties {\n",
      "  key: \"type_name\"\n",
      "  value {\n",
      "    string_value: \"ExternalPath\"\n",
      "  }\n",
      "}\n",
      ".\n"
     ]
    },
    {
     "name": "stdout",
     "output_type": "stream",
     "text": [
      "INFO:tensorflow:Registered new input: id: 1\n",
      "type_id: 2\n",
      "uri: \"/tmp/tfx-datazuettbe6\"\n",
      "properties {\n",
      "  key: \"split\"\n",
      "  value {\n",
      "    string_value: \"\"\n",
      "  }\n",
      "}\n",
      "properties {\n",
      "  key: \"state\"\n",
      "  value {\n",
      "    string_value: \"published\"\n",
      "  }\n",
      "}\n",
      "properties {\n",
      "  key: \"type_name\"\n",
      "  value {\n",
      "    string_value: \"ExternalPath\"\n",
      "  }\n",
      "}\n",
      "custom_properties {\n",
      "  key: \"input_fingerprint\"\n",
      "  value {\n",
      "    string_value: \"split:single_split,num_files:1,total_bytes:1922668,xor_checksum:1568418374,sum_checksum:1568418374\"\n",
      "  }\n",
      "}\n",
      "\n"
     ]
    },
    {
     "name": "stderr",
     "output_type": "stream",
     "text": [
      "INFO:tensorflow:Registered new input: id: 1\n",
      "type_id: 2\n",
      "uri: \"/tmp/tfx-datazuettbe6\"\n",
      "properties {\n",
      "  key: \"split\"\n",
      "  value {\n",
      "    string_value: \"\"\n",
      "  }\n",
      "}\n",
      "properties {\n",
      "  key: \"state\"\n",
      "  value {\n",
      "    string_value: \"published\"\n",
      "  }\n",
      "}\n",
      "properties {\n",
      "  key: \"type_name\"\n",
      "  value {\n",
      "    string_value: \"ExternalPath\"\n",
      "  }\n",
      "}\n",
      "custom_properties {\n",
      "  key: \"input_fingerprint\"\n",
      "  value {\n",
      "    string_value: \"split:single_split,num_files:1,total_bytes:1922668,xor_checksum:1568418374,sum_checksum:1568418374\"\n",
      "  }\n",
      "}\n",
      "\n"
     ]
    },
    {
     "name": "stdout",
     "output_type": "stream",
     "text": [
      "WARNING:tensorflow:From /usr/local/google/home/joeyounglee/git-repos/tfx_oss.git/tfx/examples/chicago_taxi_pipeline/taxi_pipeline/local/lib/python3.6/site-packages/tfx/components/base/base_driver.py:44: The name tf.gfile.Exists is deprecated. Please use tf.io.gfile.exists instead.\n",
      "\n"
     ]
    },
    {
     "name": "stderr",
     "output_type": "stream",
     "text": [
      "WARNING:tensorflow:From /usr/local/google/home/joeyounglee/git-repos/tfx_oss.git/tfx/examples/chicago_taxi_pipeline/taxi_pipeline/local/lib/python3.6/site-packages/tfx/components/base/base_driver.py:44: The name tf.gfile.Exists is deprecated. Please use tf.io.gfile.exists instead.\n",
      "\n"
     ]
    },
    {
     "name": "stdout",
     "output_type": "stream",
     "text": [
      "INFO:tensorflow:Resolved input artifacts are: {'input_base': [Artifact(type_name: ExternalPath, uri: /tmp/tfx-datazuettbe6, split: , id: 1)]}\n"
     ]
    },
    {
     "name": "stderr",
     "output_type": "stream",
     "text": [
      "INFO:tensorflow:Resolved input artifacts are: {'input_base': [Artifact(type_name: ExternalPath, uri: /tmp/tfx-datazuettbe6, split: , id: 1)]}\n"
     ]
    },
    {
     "name": "stdout",
     "output_type": "stream",
     "text": [
      "INFO:tensorflow:Prepared EXECUTION:\n",
      " type_id: 3\n",
      "properties {\n",
      "  key: \"component_id\"\n",
      "  value {\n",
      "    string_value: \"CsvExampleGen\"\n",
      "  }\n",
      "}\n",
      "properties {\n",
      "  key: \"custom_config\"\n",
      "  value {\n",
      "    string_value: \"None\"\n",
      "  }\n",
      "}\n",
      "properties {\n",
      "  key: \"input_config\"\n",
      "  value {\n",
      "    string_value: \"{\\n  \\\"splits\\\": [\\n    {\\n      \\\"name\\\": \\\"single_split\\\",\\n      \\\"pattern\\\": \\\"*\\\"\\n    }\\n  ]\\n}\"\n",
      "  }\n",
      "}\n",
      "properties {\n",
      "  key: \"output_config\"\n",
      "  value {\n",
      "    string_value: \"{\\n  \\\"splitConfig\\\": {\\n    \\\"splits\\\": [\\n      {\\n        \\\"hashBuckets\\\": 2,\\n        \\\"name\\\": \\\"train\\\"\\n      },\\n      {\\n        \\\"hashBuckets\\\": 1,\\n        \\\"name\\\": \\\"eval\\\"\\n      }\\n    ]\\n  }\\n}\"\n",
      "  }\n",
      "}\n",
      "properties {\n",
      "  key: \"pipeline_name\"\n",
      "  value {\n",
      "    string_value: \"interactive-2019-09-13T16_46_14.222336\"\n",
      "  }\n",
      "}\n",
      "properties {\n",
      "  key: \"pipeline_root\"\n",
      "  value {\n",
      "    string_value: \"/tmp/tfx-interactive-2019-09-13T16_46_14.222336-5zedre0a\"\n",
      "  }\n",
      "}\n",
      "properties {\n",
      "  key: \"run_id\"\n",
      "  value {\n",
      "    string_value: \"2019-09-13T16:46:14.243518\"\n",
      "  }\n",
      "}\n",
      "properties {\n",
      "  key: \"state\"\n",
      "  value {\n",
      "    string_value: \"new\"\n",
      "  }\n",
      "}\n",
      "\n"
     ]
    },
    {
     "name": "stderr",
     "output_type": "stream",
     "text": [
      "INFO:tensorflow:Prepared EXECUTION:\n",
      " type_id: 3\n",
      "properties {\n",
      "  key: \"component_id\"\n",
      "  value {\n",
      "    string_value: \"CsvExampleGen\"\n",
      "  }\n",
      "}\n",
      "properties {\n",
      "  key: \"custom_config\"\n",
      "  value {\n",
      "    string_value: \"None\"\n",
      "  }\n",
      "}\n",
      "properties {\n",
      "  key: \"input_config\"\n",
      "  value {\n",
      "    string_value: \"{\\n  \\\"splits\\\": [\\n    {\\n      \\\"name\\\": \\\"single_split\\\",\\n      \\\"pattern\\\": \\\"*\\\"\\n    }\\n  ]\\n}\"\n",
      "  }\n",
      "}\n",
      "properties {\n",
      "  key: \"output_config\"\n",
      "  value {\n",
      "    string_value: \"{\\n  \\\"splitConfig\\\": {\\n    \\\"splits\\\": [\\n      {\\n        \\\"hashBuckets\\\": 2,\\n        \\\"name\\\": \\\"train\\\"\\n      },\\n      {\\n        \\\"hashBuckets\\\": 1,\\n        \\\"name\\\": \\\"eval\\\"\\n      }\\n    ]\\n  }\\n}\"\n",
      "  }\n",
      "}\n",
      "properties {\n",
      "  key: \"pipeline_name\"\n",
      "  value {\n",
      "    string_value: \"interactive-2019-09-13T16_46_14.222336\"\n",
      "  }\n",
      "}\n",
      "properties {\n",
      "  key: \"pipeline_root\"\n",
      "  value {\n",
      "    string_value: \"/tmp/tfx-interactive-2019-09-13T16_46_14.222336-5zedre0a\"\n",
      "  }\n",
      "}\n",
      "properties {\n",
      "  key: \"run_id\"\n",
      "  value {\n",
      "    string_value: \"2019-09-13T16:46:14.243518\"\n",
      "  }\n",
      "}\n",
      "properties {\n",
      "  key: \"state\"\n",
      "  value {\n",
      "    string_value: \"new\"\n",
      "  }\n",
      "}\n",
      "\n"
     ]
    },
    {
     "name": "stdout",
     "output_type": "stream",
     "text": [
      "INFO:tensorflow:Execution id of the upcoming component execution is 1\n"
     ]
    },
    {
     "name": "stderr",
     "output_type": "stream",
     "text": [
      "INFO:tensorflow:Execution id of the upcoming component execution is 1\n"
     ]
    },
    {
     "name": "stdout",
     "output_type": "stream",
     "text": [
      "INFO:tensorflow:Checking previous run for execution_type_name tfx.components.example_gen.csv_example_gen.component.CsvExampleGen and input_artifacts {'input_base': [Artifact(type_name: ExternalPath, uri: /tmp/tfx-datazuettbe6, split: , id: 1)]}\n"
     ]
    },
    {
     "name": "stderr",
     "output_type": "stream",
     "text": [
      "INFO:tensorflow:Checking previous run for execution_type_name tfx.components.example_gen.csv_example_gen.component.CsvExampleGen and input_artifacts {'input_base': [Artifact(type_name: ExternalPath, uri: /tmp/tfx-datazuettbe6, split: , id: 1)]}\n"
     ]
    },
    {
     "name": "stdout",
     "output_type": "stream",
     "text": [
      "INFO:tensorflow:Prepared EXECUTION:\n",
      " type_id: 3\n",
      "properties {\n",
      "  key: \"component_id\"\n",
      "  value {\n",
      "    string_value: \"CsvExampleGen\"\n",
      "  }\n",
      "}\n",
      "properties {\n",
      "  key: \"custom_config\"\n",
      "  value {\n",
      "    string_value: \"None\"\n",
      "  }\n",
      "}\n",
      "properties {\n",
      "  key: \"input_config\"\n",
      "  value {\n",
      "    string_value: \"{\\n  \\\"splits\\\": [\\n    {\\n      \\\"name\\\": \\\"single_split\\\",\\n      \\\"pattern\\\": \\\"*\\\"\\n    }\\n  ]\\n}\"\n",
      "  }\n",
      "}\n",
      "properties {\n",
      "  key: \"output_config\"\n",
      "  value {\n",
      "    string_value: \"{\\n  \\\"splitConfig\\\": {\\n    \\\"splits\\\": [\\n      {\\n        \\\"hashBuckets\\\": 2,\\n        \\\"name\\\": \\\"train\\\"\\n      },\\n      {\\n        \\\"hashBuckets\\\": 1,\\n        \\\"name\\\": \\\"eval\\\"\\n      }\\n    ]\\n  }\\n}\"\n",
      "  }\n",
      "}\n",
      "properties {\n",
      "  key: \"pipeline_name\"\n",
      "  value {\n",
      "    string_value: \"interactive-2019-09-13T16_46_14.222336\"\n",
      "  }\n",
      "}\n",
      "properties {\n",
      "  key: \"pipeline_root\"\n",
      "  value {\n",
      "    string_value: \"/tmp/tfx-interactive-2019-09-13T16_46_14.222336-5zedre0a\"\n",
      "  }\n",
      "}\n",
      "properties {\n",
      "  key: \"run_id\"\n",
      "  value {\n",
      "    string_value: \"2019-09-13T16:46:14.243518\"\n",
      "  }\n",
      "}\n",
      "properties {\n",
      "  key: \"state\"\n",
      "  value {\n",
      "    string_value: \"complete\"\n",
      "  }\n",
      "}\n",
      "\n"
     ]
    },
    {
     "name": "stderr",
     "output_type": "stream",
     "text": [
      "INFO:tensorflow:Prepared EXECUTION:\n",
      " type_id: 3\n",
      "properties {\n",
      "  key: \"component_id\"\n",
      "  value {\n",
      "    string_value: \"CsvExampleGen\"\n",
      "  }\n",
      "}\n",
      "properties {\n",
      "  key: \"custom_config\"\n",
      "  value {\n",
      "    string_value: \"None\"\n",
      "  }\n",
      "}\n",
      "properties {\n",
      "  key: \"input_config\"\n",
      "  value {\n",
      "    string_value: \"{\\n  \\\"splits\\\": [\\n    {\\n      \\\"name\\\": \\\"single_split\\\",\\n      \\\"pattern\\\": \\\"*\\\"\\n    }\\n  ]\\n}\"\n",
      "  }\n",
      "}\n",
      "properties {\n",
      "  key: \"output_config\"\n",
      "  value {\n",
      "    string_value: \"{\\n  \\\"splitConfig\\\": {\\n    \\\"splits\\\": [\\n      {\\n        \\\"hashBuckets\\\": 2,\\n        \\\"name\\\": \\\"train\\\"\\n      },\\n      {\\n        \\\"hashBuckets\\\": 1,\\n        \\\"name\\\": \\\"eval\\\"\\n      }\\n    ]\\n  }\\n}\"\n",
      "  }\n",
      "}\n",
      "properties {\n",
      "  key: \"pipeline_name\"\n",
      "  value {\n",
      "    string_value: \"interactive-2019-09-13T16_46_14.222336\"\n",
      "  }\n",
      "}\n",
      "properties {\n",
      "  key: \"pipeline_root\"\n",
      "  value {\n",
      "    string_value: \"/tmp/tfx-interactive-2019-09-13T16_46_14.222336-5zedre0a\"\n",
      "  }\n",
      "}\n",
      "properties {\n",
      "  key: \"run_id\"\n",
      "  value {\n",
      "    string_value: \"2019-09-13T16:46:14.243518\"\n",
      "  }\n",
      "}\n",
      "properties {\n",
      "  key: \"state\"\n",
      "  value {\n",
      "    string_value: \"complete\"\n",
      "  }\n",
      "}\n",
      "\n"
     ]
    },
    {
     "name": "stdout",
     "output_type": "stream",
     "text": [
      "INFO:tensorflow:No execution matching type id and input artifacts found\n"
     ]
    },
    {
     "name": "stderr",
     "output_type": "stream",
     "text": [
      "INFO:tensorflow:No execution matching type id and input artifacts found\n"
     ]
    },
    {
     "name": "stdout",
     "output_type": "stream",
     "text": [
      "INFO:tensorflow:Cached results not found, move on to new execution\n"
     ]
    },
    {
     "name": "stderr",
     "output_type": "stream",
     "text": [
      "INFO:tensorflow:Cached results not found, move on to new execution\n"
     ]
    },
    {
     "name": "stdout",
     "output_type": "stream",
     "text": [
      "INFO:tensorflow:Creating output artifact uri /tmp/tfx-interactive-2019-09-13T16_46_14.222336-5zedre0a/CsvExampleGen/examples/1/train/ as directory\n"
     ]
    },
    {
     "name": "stderr",
     "output_type": "stream",
     "text": [
      "INFO:tensorflow:Creating output artifact uri /tmp/tfx-interactive-2019-09-13T16_46_14.222336-5zedre0a/CsvExampleGen/examples/1/train/ as directory\n"
     ]
    },
    {
     "name": "stdout",
     "output_type": "stream",
     "text": [
      "INFO:tensorflow:Creating output artifact uri /tmp/tfx-interactive-2019-09-13T16_46_14.222336-5zedre0a/CsvExampleGen/examples/1/eval/ as directory\n"
     ]
    },
    {
     "name": "stderr",
     "output_type": "stream",
     "text": [
      "INFO:tensorflow:Creating output artifact uri /tmp/tfx-interactive-2019-09-13T16_46_14.222336-5zedre0a/CsvExampleGen/examples/1/eval/ as directory\n"
     ]
    },
    {
     "name": "stdout",
     "output_type": "stream",
     "text": [
      "INFO:tensorflow:Output artifacts skeleton for the upcoming execution are: {'examples': [Artifact(type_name: ExamplesPath, uri: /tmp/tfx-interactive-2019-09-13T16_46_14.222336-5zedre0a/CsvExampleGen/examples/1/train/, split: train, id: 0), Artifact(type_name: ExamplesPath, uri: /tmp/tfx-interactive-2019-09-13T16_46_14.222336-5zedre0a/CsvExampleGen/examples/1/eval/, split: eval, id: 0)]}\n"
     ]
    },
    {
     "name": "stderr",
     "output_type": "stream",
     "text": [
      "INFO:tensorflow:Output artifacts skeleton for the upcoming execution are: {'examples': [Artifact(type_name: ExamplesPath, uri: /tmp/tfx-interactive-2019-09-13T16_46_14.222336-5zedre0a/CsvExampleGen/examples/1/train/, split: train, id: 0), Artifact(type_name: ExamplesPath, uri: /tmp/tfx-interactive-2019-09-13T16_46_14.222336-5zedre0a/CsvExampleGen/examples/1/eval/, split: eval, id: 0)]}\n"
     ]
    },
    {
     "name": "stdout",
     "output_type": "stream",
     "text": [
      "INFO:tensorflow:Execution properties for the upcoming execution are: {'input_config': '{\\n  \"splits\": [\\n    {\\n      \"name\": \"single_split\",\\n      \"pattern\": \"*\"\\n    }\\n  ]\\n}', 'output_config': '{\\n  \"splitConfig\": {\\n    \"splits\": [\\n      {\\n        \"hashBuckets\": 2,\\n        \"name\": \"train\"\\n      },\\n      {\\n        \"hashBuckets\": 1,\\n        \"name\": \"eval\"\\n      }\\n    ]\\n  }\\n}', 'custom_config': None}\n"
     ]
    },
    {
     "name": "stderr",
     "output_type": "stream",
     "text": [
      "INFO:tensorflow:Execution properties for the upcoming execution are: {'input_config': '{\\n  \"splits\": [\\n    {\\n      \"name\": \"single_split\",\\n      \"pattern\": \"*\"\\n    }\\n  ]\\n}', 'output_config': '{\\n  \"splitConfig\": {\\n    \"splits\": [\\n      {\\n        \"hashBuckets\": 2,\\n        \"name\": \"train\"\\n      },\\n      {\\n        \"hashBuckets\": 1,\\n        \"name\": \"eval\"\\n      }\\n    ]\\n  }\\n}', 'custom_config': None}\n"
     ]
    },
    {
     "name": "stdout",
     "output_type": "stream",
     "text": [
      "INFO:tensorflow:Run executor for CsvExampleGen\n"
     ]
    },
    {
     "name": "stderr",
     "output_type": "stream",
     "text": [
      "INFO:tensorflow:Run executor for CsvExampleGen\n"
     ]
    },
    {
     "name": "stdout",
     "output_type": "stream",
     "text": [
      "INFO:tensorflow:Starting Executor execution.\n"
     ]
    },
    {
     "name": "stderr",
     "output_type": "stream",
     "text": [
      "INFO:tensorflow:Starting Executor execution.\n"
     ]
    },
    {
     "name": "stdout",
     "output_type": "stream",
     "text": [
      "INFO:tensorflow:Inputs for Executor is: {\"input_base\": [{\"artifact\": {\"id\": \"1\", \"typeId\": \"2\", \"uri\": \"/tmp/tfx-datazuettbe6\", \"properties\": {\"type_name\": {\"stringValue\": \"ExternalPath\"}, \"split\": {\"stringValue\": \"\"}, \"state\": {\"stringValue\": \"published\"}}, \"customProperties\": {\"input_fingerprint\": {\"stringValue\": \"split:single_split,num_files:1,total_bytes:1922668,xor_checksum:1568418374,sum_checksum:1568418374\"}}}, \"artifact_type\": {\"id\": \"2\", \"name\": \"ExternalPath\", \"properties\": {\"producer_component\": \"STRING\", \"span\": \"INT\", \"pipeline_name\": \"STRING\", \"split\": \"STRING\", \"name\": \"STRING\", \"type_name\": \"STRING\", \"state\": \"STRING\"}}}]}\n"
     ]
    },
    {
     "name": "stderr",
     "output_type": "stream",
     "text": [
      "INFO:tensorflow:Inputs for Executor is: {\"input_base\": [{\"artifact\": {\"id\": \"1\", \"typeId\": \"2\", \"uri\": \"/tmp/tfx-datazuettbe6\", \"properties\": {\"type_name\": {\"stringValue\": \"ExternalPath\"}, \"split\": {\"stringValue\": \"\"}, \"state\": {\"stringValue\": \"published\"}}, \"customProperties\": {\"input_fingerprint\": {\"stringValue\": \"split:single_split,num_files:1,total_bytes:1922668,xor_checksum:1568418374,sum_checksum:1568418374\"}}}, \"artifact_type\": {\"id\": \"2\", \"name\": \"ExternalPath\", \"properties\": {\"producer_component\": \"STRING\", \"span\": \"INT\", \"pipeline_name\": \"STRING\", \"split\": \"STRING\", \"name\": \"STRING\", \"type_name\": \"STRING\", \"state\": \"STRING\"}}}]}\n"
     ]
    },
    {
     "name": "stdout",
     "output_type": "stream",
     "text": [
      "INFO:tensorflow:Outputs for Executor is: {\"examples\": [{\"artifact\": {\"uri\": \"/tmp/tfx-interactive-2019-09-13T16_46_14.222336-5zedre0a/CsvExampleGen/examples/1/train/\", \"properties\": {\"producer_component\": {\"stringValue\": \"CsvExampleGen\"}, \"pipeline_name\": {\"stringValue\": \"interactive-2019-09-13T16_46_14.222336\"}, \"name\": {\"stringValue\": \"examples\"}, \"type_name\": {\"stringValue\": \"ExamplesPath\"}, \"split\": {\"stringValue\": \"train\"}}}, \"artifact_type\": {\"name\": \"ExamplesPath\", \"properties\": {\"name\": \"STRING\", \"type_name\": \"STRING\", \"state\": \"STRING\", \"producer_component\": \"STRING\", \"span\": \"INT\", \"pipeline_name\": \"STRING\", \"split\": \"STRING\"}}}, {\"artifact\": {\"uri\": \"/tmp/tfx-interactive-2019-09-13T16_46_14.222336-5zedre0a/CsvExampleGen/examples/1/eval/\", \"properties\": {\"type_name\": {\"stringValue\": \"ExamplesPath\"}, \"split\": {\"stringValue\": \"eval\"}, \"producer_component\": {\"stringValue\": \"CsvExampleGen\"}, \"pipeline_name\": {\"stringValue\": \"interactive-2019-09-13T16_46_14.222336\"}, \"name\": {\"stringValue\": \"examples\"}}}, \"artifact_type\": {\"name\": \"ExamplesPath\", \"properties\": {\"name\": \"STRING\", \"type_name\": \"STRING\", \"state\": \"STRING\", \"producer_component\": \"STRING\", \"span\": \"INT\", \"pipeline_name\": \"STRING\", \"split\": \"STRING\"}}}]}\n"
     ]
    },
    {
     "name": "stderr",
     "output_type": "stream",
     "text": [
      "INFO:tensorflow:Outputs for Executor is: {\"examples\": [{\"artifact\": {\"uri\": \"/tmp/tfx-interactive-2019-09-13T16_46_14.222336-5zedre0a/CsvExampleGen/examples/1/train/\", \"properties\": {\"producer_component\": {\"stringValue\": \"CsvExampleGen\"}, \"pipeline_name\": {\"stringValue\": \"interactive-2019-09-13T16_46_14.222336\"}, \"name\": {\"stringValue\": \"examples\"}, \"type_name\": {\"stringValue\": \"ExamplesPath\"}, \"split\": {\"stringValue\": \"train\"}}}, \"artifact_type\": {\"name\": \"ExamplesPath\", \"properties\": {\"name\": \"STRING\", \"type_name\": \"STRING\", \"state\": \"STRING\", \"producer_component\": \"STRING\", \"span\": \"INT\", \"pipeline_name\": \"STRING\", \"split\": \"STRING\"}}}, {\"artifact\": {\"uri\": \"/tmp/tfx-interactive-2019-09-13T16_46_14.222336-5zedre0a/CsvExampleGen/examples/1/eval/\", \"properties\": {\"type_name\": {\"stringValue\": \"ExamplesPath\"}, \"split\": {\"stringValue\": \"eval\"}, \"producer_component\": {\"stringValue\": \"CsvExampleGen\"}, \"pipeline_name\": {\"stringValue\": \"interactive-2019-09-13T16_46_14.222336\"}, \"name\": {\"stringValue\": \"examples\"}}}, \"artifact_type\": {\"name\": \"ExamplesPath\", \"properties\": {\"name\": \"STRING\", \"type_name\": \"STRING\", \"state\": \"STRING\", \"producer_component\": \"STRING\", \"span\": \"INT\", \"pipeline_name\": \"STRING\", \"split\": \"STRING\"}}}]}\n"
     ]
    },
    {
     "name": "stdout",
     "output_type": "stream",
     "text": [
      "INFO:tensorflow:Execution properties for Executor is: {\"input_config\": \"{\\n  \\\"splits\\\": [\\n    {\\n      \\\"name\\\": \\\"single_split\\\",\\n      \\\"pattern\\\": \\\"*\\\"\\n    }\\n  ]\\n}\", \"output_config\": \"{\\n  \\\"splitConfig\\\": {\\n    \\\"splits\\\": [\\n      {\\n        \\\"hashBuckets\\\": 2,\\n        \\\"name\\\": \\\"train\\\"\\n      },\\n      {\\n        \\\"hashBuckets\\\": 1,\\n        \\\"name\\\": \\\"eval\\\"\\n      }\\n    ]\\n  }\\n}\", \"custom_config\": null}\n"
     ]
    },
    {
     "name": "stderr",
     "output_type": "stream",
     "text": [
      "INFO:tensorflow:Execution properties for Executor is: {\"input_config\": \"{\\n  \\\"splits\\\": [\\n    {\\n      \\\"name\\\": \\\"single_split\\\",\\n      \\\"pattern\\\": \\\"*\\\"\\n    }\\n  ]\\n}\", \"output_config\": \"{\\n  \\\"splitConfig\\\": {\\n    \\\"splits\\\": [\\n      {\\n        \\\"hashBuckets\\\": 2,\\n        \\\"name\\\": \\\"train\\\"\\n      },\\n      {\\n        \\\"hashBuckets\\\": 1,\\n        \\\"name\\\": \\\"eval\\\"\\n      }\\n    ]\\n  }\\n}\", \"custom_config\": null}\n"
     ]
    },
    {
     "name": "stdout",
     "output_type": "stream",
     "text": [
      "INFO:tensorflow:Generating examples.\n"
     ]
    },
    {
     "name": "stderr",
     "output_type": "stream",
     "text": [
      "INFO:tensorflow:Generating examples.\n"
     ]
    },
    {
     "name": "stdout",
     "output_type": "stream",
     "text": [
      "INFO:tensorflow:Processing input csv data /tmp/tfx-datazuettbe6/* to TFExample.\n"
     ]
    },
    {
     "name": "stderr",
     "output_type": "stream",
     "text": [
      "INFO:tensorflow:Processing input csv data /tmp/tfx-datazuettbe6/* to TFExample.\n"
     ]
    },
    {
     "name": "stdout",
     "output_type": "stream",
     "text": [
      "WARNING:tensorflow:From /usr/local/google/home/joeyounglee/git-repos/tfx_oss.git/tfx/examples/chicago_taxi_pipeline/taxi_pipeline/local/lib/python3.6/site-packages/tfx/components/example_gen/csv_example_gen/executor.py:83: The name tf.gfile.Glob is deprecated. Please use tf.io.gfile.glob instead.\n",
      "\n"
     ]
    },
    {
     "name": "stderr",
     "output_type": "stream",
     "text": [
      "WARNING:tensorflow:From /usr/local/google/home/joeyounglee/git-repos/tfx_oss.git/tfx/examples/chicago_taxi_pipeline/taxi_pipeline/local/lib/python3.6/site-packages/tfx/components/example_gen/csv_example_gen/executor.py:83: The name tf.gfile.Glob is deprecated. Please use tf.io.gfile.glob instead.\n",
      "\n",
      "WARNING:root:Couldn't find python-snappy so the implementation of _TFRecordUtil._masked_crc32c is not as fast as it could be.\n"
     ]
    },
    {
     "name": "stdout",
     "output_type": "stream",
     "text": [
      "INFO:tensorflow:Examples generated.\n"
     ]
    },
    {
     "name": "stderr",
     "output_type": "stream",
     "text": [
      "INFO:tensorflow:Examples generated.\n"
     ]
    },
    {
     "name": "stdout",
     "output_type": "stream",
     "text": [
      "INFO:tensorflow:Run publisher for CsvExampleGen\n"
     ]
    },
    {
     "name": "stderr",
     "output_type": "stream",
     "text": [
      "INFO:tensorflow:Run publisher for CsvExampleGen\n"
     ]
    },
    {
     "name": "stdout",
     "output_type": "stream",
     "text": [
      "INFO:tensorflow:Whether cached results are used: False\n"
     ]
    },
    {
     "name": "stderr",
     "output_type": "stream",
     "text": [
      "INFO:tensorflow:Whether cached results are used: False\n"
     ]
    },
    {
     "name": "stdout",
     "output_type": "stream",
     "text": [
      "INFO:tensorflow:Execution id: 1\n"
     ]
    },
    {
     "name": "stderr",
     "output_type": "stream",
     "text": [
      "INFO:tensorflow:Execution id: 1\n"
     ]
    },
    {
     "name": "stdout",
     "output_type": "stream",
     "text": [
      "INFO:tensorflow:Inputs: {'input_base': [Artifact(type_name: ExternalPath, uri: /tmp/tfx-datazuettbe6, split: , id: 1)]}\n"
     ]
    },
    {
     "name": "stderr",
     "output_type": "stream",
     "text": [
      "INFO:tensorflow:Inputs: {'input_base': [Artifact(type_name: ExternalPath, uri: /tmp/tfx-datazuettbe6, split: , id: 1)]}\n"
     ]
    },
    {
     "name": "stdout",
     "output_type": "stream",
     "text": [
      "INFO:tensorflow:Outputs: {'examples': [Artifact(type_name: ExamplesPath, uri: /tmp/tfx-interactive-2019-09-13T16_46_14.222336-5zedre0a/CsvExampleGen/examples/1/train/, split: train, id: 0), Artifact(type_name: ExamplesPath, uri: /tmp/tfx-interactive-2019-09-13T16_46_14.222336-5zedre0a/CsvExampleGen/examples/1/eval/, split: eval, id: 0)]}\n"
     ]
    },
    {
     "name": "stderr",
     "output_type": "stream",
     "text": [
      "INFO:tensorflow:Outputs: {'examples': [Artifact(type_name: ExamplesPath, uri: /tmp/tfx-interactive-2019-09-13T16_46_14.222336-5zedre0a/CsvExampleGen/examples/1/train/, split: train, id: 0), Artifact(type_name: ExamplesPath, uri: /tmp/tfx-interactive-2019-09-13T16_46_14.222336-5zedre0a/CsvExampleGen/examples/1/eval/, split: eval, id: 0)]}\n"
     ]
    },
    {
     "name": "stdout",
     "output_type": "stream",
     "text": [
      "INFO:tensorflow:Publishing execution id: 1\n",
      "type_id: 3\n",
      "properties {\n",
      "  key: \"component_id\"\n",
      "  value {\n",
      "    string_value: \"CsvExampleGen\"\n",
      "  }\n",
      "}\n",
      "properties {\n",
      "  key: \"custom_config\"\n",
      "  value {\n",
      "    string_value: \"None\"\n",
      "  }\n",
      "}\n",
      "properties {\n",
      "  key: \"input_config\"\n",
      "  value {\n",
      "    string_value: \"{\\n  \\\"splits\\\": [\\n    {\\n      \\\"name\\\": \\\"single_split\\\",\\n      \\\"pattern\\\": \\\"*\\\"\\n    }\\n  ]\\n}\"\n",
      "  }\n",
      "}\n",
      "properties {\n",
      "  key: \"output_config\"\n",
      "  value {\n",
      "    string_value: \"{\\n  \\\"splitConfig\\\": {\\n    \\\"splits\\\": [\\n      {\\n        \\\"hashBuckets\\\": 2,\\n        \\\"name\\\": \\\"train\\\"\\n      },\\n      {\\n        \\\"hashBuckets\\\": 1,\\n        \\\"name\\\": \\\"eval\\\"\\n      }\\n    ]\\n  }\\n}\"\n",
      "  }\n",
      "}\n",
      "properties {\n",
      "  key: \"pipeline_name\"\n",
      "  value {\n",
      "    string_value: \"interactive-2019-09-13T16_46_14.222336\"\n",
      "  }\n",
      "}\n",
      "properties {\n",
      "  key: \"pipeline_root\"\n",
      "  value {\n",
      "    string_value: \"/tmp/tfx-interactive-2019-09-13T16_46_14.222336-5zedre0a\"\n",
      "  }\n",
      "}\n",
      "properties {\n",
      "  key: \"run_id\"\n",
      "  value {\n",
      "    string_value: \"2019-09-13T16:46:14.243518\"\n",
      "  }\n",
      "}\n",
      "properties {\n",
      "  key: \"state\"\n",
      "  value {\n",
      "    string_value: \"complete\"\n",
      "  }\n",
      "}\n",
      ", with inputs {'input_base': [Artifact(type_name: ExternalPath, uri: /tmp/tfx-datazuettbe6, split: , id: 1)]} and outputs {'examples': [Artifact(type_name: ExamplesPath, uri: /tmp/tfx-interactive-2019-09-13T16_46_14.222336-5zedre0a/CsvExampleGen/examples/1/train/, split: train, id: 0), Artifact(type_name: ExamplesPath, uri: /tmp/tfx-interactive-2019-09-13T16_46_14.222336-5zedre0a/CsvExampleGen/examples/1/eval/, split: eval, id: 0)]}\n"
     ]
    },
    {
     "name": "stderr",
     "output_type": "stream",
     "text": [
      "INFO:tensorflow:Publishing execution id: 1\n",
      "type_id: 3\n",
      "properties {\n",
      "  key: \"component_id\"\n",
      "  value {\n",
      "    string_value: \"CsvExampleGen\"\n",
      "  }\n",
      "}\n",
      "properties {\n",
      "  key: \"custom_config\"\n",
      "  value {\n",
      "    string_value: \"None\"\n",
      "  }\n",
      "}\n",
      "properties {\n",
      "  key: \"input_config\"\n",
      "  value {\n",
      "    string_value: \"{\\n  \\\"splits\\\": [\\n    {\\n      \\\"name\\\": \\\"single_split\\\",\\n      \\\"pattern\\\": \\\"*\\\"\\n    }\\n  ]\\n}\"\n",
      "  }\n",
      "}\n",
      "properties {\n",
      "  key: \"output_config\"\n",
      "  value {\n",
      "    string_value: \"{\\n  \\\"splitConfig\\\": {\\n    \\\"splits\\\": [\\n      {\\n        \\\"hashBuckets\\\": 2,\\n        \\\"name\\\": \\\"train\\\"\\n      },\\n      {\\n        \\\"hashBuckets\\\": 1,\\n        \\\"name\\\": \\\"eval\\\"\\n      }\\n    ]\\n  }\\n}\"\n",
      "  }\n",
      "}\n",
      "properties {\n",
      "  key: \"pipeline_name\"\n",
      "  value {\n",
      "    string_value: \"interactive-2019-09-13T16_46_14.222336\"\n",
      "  }\n",
      "}\n",
      "properties {\n",
      "  key: \"pipeline_root\"\n",
      "  value {\n",
      "    string_value: \"/tmp/tfx-interactive-2019-09-13T16_46_14.222336-5zedre0a\"\n",
      "  }\n",
      "}\n",
      "properties {\n",
      "  key: \"run_id\"\n",
      "  value {\n",
      "    string_value: \"2019-09-13T16:46:14.243518\"\n",
      "  }\n",
      "}\n",
      "properties {\n",
      "  key: \"state\"\n",
      "  value {\n",
      "    string_value: \"complete\"\n",
      "  }\n",
      "}\n",
      ", with inputs {'input_base': [Artifact(type_name: ExternalPath, uri: /tmp/tfx-datazuettbe6, split: , id: 1)]} and outputs {'examples': [Artifact(type_name: ExamplesPath, uri: /tmp/tfx-interactive-2019-09-13T16_46_14.222336-5zedre0a/CsvExampleGen/examples/1/train/, split: train, id: 0), Artifact(type_name: ExamplesPath, uri: /tmp/tfx-interactive-2019-09-13T16_46_14.222336-5zedre0a/CsvExampleGen/examples/1/eval/, split: eval, id: 0)]}\n"
     ]
    },
    {
     "name": "stdout",
     "output_type": "stream",
     "text": [
      "INFO:tensorflow:Published execution with final outputs {'examples': [Artifact(type_name: ExamplesPath, uri: /tmp/tfx-interactive-2019-09-13T16_46_14.222336-5zedre0a/CsvExampleGen/examples/1/train/, split: train, id: 2), Artifact(type_name: ExamplesPath, uri: /tmp/tfx-interactive-2019-09-13T16_46_14.222336-5zedre0a/CsvExampleGen/examples/1/eval/, split: eval, id: 3)]}\n"
     ]
    },
    {
     "name": "stderr",
     "output_type": "stream",
     "text": [
      "INFO:tensorflow:Published execution with final outputs {'examples': [Artifact(type_name: ExamplesPath, uri: /tmp/tfx-interactive-2019-09-13T16_46_14.222336-5zedre0a/CsvExampleGen/examples/1/train/, split: train, id: 2), Artifact(type_name: ExamplesPath, uri: /tmp/tfx-interactive-2019-09-13T16_46_14.222336-5zedre0a/CsvExampleGen/examples/1/eval/, split: eval, id: 3)]}\n"
     ]
    },
    {
     "data": {
      "text/html": [
       "<style>\n",
       ".tfx-object.expanded {\n",
       "  padding: 4px 8px 4px 8px;\n",
       "  background: white;\n",
       "  border: 1px solid #bbbbbb;\n",
       "  box-shadow: 4px 4px 2px rgba(0,0,0,0.05);\n",
       "}\n",
       ".tfx-object, .tfx-object * {\n",
       "  font-size: 11pt;\n",
       "}\n",
       ".tfx-object > .title {\n",
       "  cursor: pointer;\n",
       "}\n",
       ".tfx-object .expansion-marker {\n",
       "  color: #999999;\n",
       "}\n",
       ".tfx-object.expanded > .title > .expansion-marker:before {\n",
       "  content: '▼';\n",
       "}\n",
       ".tfx-object.collapsed > .title > .expansion-marker:before {\n",
       "  content: '▶';\n",
       "}\n",
       ".tfx-object .class-name {\n",
       "  font-weight: bold;\n",
       "}\n",
       ".tfx-object .deemphasize {\n",
       "  opacity: 0.5;\n",
       "}\n",
       ".tfx-object.collapsed > table.attr-table {\n",
       "  display: none;\n",
       "}\n",
       ".tfx-object.expanded > table.attr-table {\n",
       "  display: block;\n",
       "}\n",
       ".tfx-object table.attr-table {\n",
       "  border: 2px solid white;\n",
       "  margin-top: 5px;\n",
       "}\n",
       ".tfx-object table.attr-table td.attr-name {\n",
       "  vertical-align: top;\n",
       "  font-weight: bold;\n",
       "}\n",
       ".tfx-object table.attr-table td.attrvalue {\n",
       "  text-align: left;\n",
       "}\n",
       "</style>\n",
       "<script>\n",
       "function toggleTfxObject(element) {\n",
       "  var objElement = element.parentElement;\n",
       "  if (objElement.classList.contains('collapsed')) {\n",
       "    objElement.classList.remove('collapsed');\n",
       "    objElement.classList.add('expanded');\n",
       "  } else {\n",
       "    objElement.classList.add('collapsed');\n",
       "    objElement.classList.remove('expanded');\n",
       "  }\n",
       "}\n",
       "</script>\n",
       "<div class=\"tfx-object expanded\"><div class = \"title\" onclick=\"toggleTfxObject(this)\"><span class=\"expansion-marker\"></span><span class=\"class-name\">ExecutionResult</span><span class=\"deemphasize\"> at 0x7fac94e03978</span></div><table class=\"attr-table\"><tr><td class=\"attr-name\">.execution_id</td><td class = \"attrvalue\">1</td></tr><tr><td class=\"attr-name\">.component</td><td class = \"attrvalue\"><style>\n",
       ".tfx-object.expanded {\n",
       "  padding: 4px 8px 4px 8px;\n",
       "  background: white;\n",
       "  border: 1px solid #bbbbbb;\n",
       "  box-shadow: 4px 4px 2px rgba(0,0,0,0.05);\n",
       "}\n",
       ".tfx-object, .tfx-object * {\n",
       "  font-size: 11pt;\n",
       "}\n",
       ".tfx-object > .title {\n",
       "  cursor: pointer;\n",
       "}\n",
       ".tfx-object .expansion-marker {\n",
       "  color: #999999;\n",
       "}\n",
       ".tfx-object.expanded > .title > .expansion-marker:before {\n",
       "  content: '▼';\n",
       "}\n",
       ".tfx-object.collapsed > .title > .expansion-marker:before {\n",
       "  content: '▶';\n",
       "}\n",
       ".tfx-object .class-name {\n",
       "  font-weight: bold;\n",
       "}\n",
       ".tfx-object .deemphasize {\n",
       "  opacity: 0.5;\n",
       "}\n",
       ".tfx-object.collapsed > table.attr-table {\n",
       "  display: none;\n",
       "}\n",
       ".tfx-object.expanded > table.attr-table {\n",
       "  display: block;\n",
       "}\n",
       ".tfx-object table.attr-table {\n",
       "  border: 2px solid white;\n",
       "  margin-top: 5px;\n",
       "}\n",
       ".tfx-object table.attr-table td.attr-name {\n",
       "  vertical-align: top;\n",
       "  font-weight: bold;\n",
       "}\n",
       ".tfx-object table.attr-table td.attrvalue {\n",
       "  text-align: left;\n",
       "}\n",
       "</style>\n",
       "<script>\n",
       "function toggleTfxObject(element) {\n",
       "  var objElement = element.parentElement;\n",
       "  if (objElement.classList.contains('collapsed')) {\n",
       "    objElement.classList.remove('collapsed');\n",
       "    objElement.classList.add('expanded');\n",
       "  } else {\n",
       "    objElement.classList.add('collapsed');\n",
       "    objElement.classList.remove('expanded');\n",
       "  }\n",
       "}\n",
       "</script>\n",
       "<div class=\"tfx-object collapsed\"><div class = \"title\" onclick=\"toggleTfxObject(this)\"><span class=\"expansion-marker\"></span><span class=\"class-name\">CsvExampleGen</span><span class=\"deemphasize\"> at 0x7fade432ca58</span></div><table class=\"attr-table\"><tr><td class=\"attr-name\">.inputs</td><td class = \"attrvalue\"><table class=\"attr-table\"><tr><td class=\"attr-name\">['input_base']</td><td class = \"attrvalue\"><style>\n",
       ".tfx-object.expanded {\n",
       "  padding: 4px 8px 4px 8px;\n",
       "  background: white;\n",
       "  border: 1px solid #bbbbbb;\n",
       "  box-shadow: 4px 4px 2px rgba(0,0,0,0.05);\n",
       "}\n",
       ".tfx-object, .tfx-object * {\n",
       "  font-size: 11pt;\n",
       "}\n",
       ".tfx-object > .title {\n",
       "  cursor: pointer;\n",
       "}\n",
       ".tfx-object .expansion-marker {\n",
       "  color: #999999;\n",
       "}\n",
       ".tfx-object.expanded > .title > .expansion-marker:before {\n",
       "  content: '▼';\n",
       "}\n",
       ".tfx-object.collapsed > .title > .expansion-marker:before {\n",
       "  content: '▶';\n",
       "}\n",
       ".tfx-object .class-name {\n",
       "  font-weight: bold;\n",
       "}\n",
       ".tfx-object .deemphasize {\n",
       "  opacity: 0.5;\n",
       "}\n",
       ".tfx-object.collapsed > table.attr-table {\n",
       "  display: none;\n",
       "}\n",
       ".tfx-object.expanded > table.attr-table {\n",
       "  display: block;\n",
       "}\n",
       ".tfx-object table.attr-table {\n",
       "  border: 2px solid white;\n",
       "  margin-top: 5px;\n",
       "}\n",
       ".tfx-object table.attr-table td.attr-name {\n",
       "  vertical-align: top;\n",
       "  font-weight: bold;\n",
       "}\n",
       ".tfx-object table.attr-table td.attrvalue {\n",
       "  text-align: left;\n",
       "}\n",
       "</style>\n",
       "<script>\n",
       "function toggleTfxObject(element) {\n",
       "  var objElement = element.parentElement;\n",
       "  if (objElement.classList.contains('collapsed')) {\n",
       "    objElement.classList.remove('collapsed');\n",
       "    objElement.classList.add('expanded');\n",
       "  } else {\n",
       "    objElement.classList.add('collapsed');\n",
       "    objElement.classList.remove('expanded');\n",
       "  }\n",
       "}\n",
       "</script>\n",
       "<div class=\"tfx-object collapsed\"><div class = \"title\" onclick=\"toggleTfxObject(this)\"><span class=\"expansion-marker\"></span><span class=\"class-name\">Channel</span> of type <span class=\"class-name\">'ExternalPath'</span> (1 artifact)<span class=\"deemphasize\"> at 0x7fade432c1d0</span></div><table class=\"attr-table\"><tr><td class=\"attr-name\">.type_name</td><td class = \"attrvalue\">ExternalPath</td></tr><tr><td class=\"attr-name\">._artifacts</td><td class = \"attrvalue\"><table class=\"attr-table\"><tr><td class=\"attr-name\">[0]</td><td class = \"attrvalue\"><style>\n",
       ".tfx-object.expanded {\n",
       "  padding: 4px 8px 4px 8px;\n",
       "  background: white;\n",
       "  border: 1px solid #bbbbbb;\n",
       "  box-shadow: 4px 4px 2px rgba(0,0,0,0.05);\n",
       "}\n",
       ".tfx-object, .tfx-object * {\n",
       "  font-size: 11pt;\n",
       "}\n",
       ".tfx-object > .title {\n",
       "  cursor: pointer;\n",
       "}\n",
       ".tfx-object .expansion-marker {\n",
       "  color: #999999;\n",
       "}\n",
       ".tfx-object.expanded > .title > .expansion-marker:before {\n",
       "  content: '▼';\n",
       "}\n",
       ".tfx-object.collapsed > .title > .expansion-marker:before {\n",
       "  content: '▶';\n",
       "}\n",
       ".tfx-object .class-name {\n",
       "  font-weight: bold;\n",
       "}\n",
       ".tfx-object .deemphasize {\n",
       "  opacity: 0.5;\n",
       "}\n",
       ".tfx-object.collapsed > table.attr-table {\n",
       "  display: none;\n",
       "}\n",
       ".tfx-object.expanded > table.attr-table {\n",
       "  display: block;\n",
       "}\n",
       ".tfx-object table.attr-table {\n",
       "  border: 2px solid white;\n",
       "  margin-top: 5px;\n",
       "}\n",
       ".tfx-object table.attr-table td.attr-name {\n",
       "  vertical-align: top;\n",
       "  font-weight: bold;\n",
       "}\n",
       ".tfx-object table.attr-table td.attrvalue {\n",
       "  text-align: left;\n",
       "}\n",
       "</style>\n",
       "<script>\n",
       "function toggleTfxObject(element) {\n",
       "  var objElement = element.parentElement;\n",
       "  if (objElement.classList.contains('collapsed')) {\n",
       "    objElement.classList.remove('collapsed');\n",
       "    objElement.classList.add('expanded');\n",
       "  } else {\n",
       "    objElement.classList.add('collapsed');\n",
       "    objElement.classList.remove('expanded');\n",
       "  }\n",
       "}\n",
       "</script>\n",
       "<div class=\"tfx-object collapsed\"><div class = \"title\" onclick=\"toggleTfxObject(this)\"><span class=\"expansion-marker\"></span><span class=\"class-name\">Artifact</span> of type <span class=\"class-name\">'ExternalPath'</span> (uri: /tmp/tfx-datazuettbe6)<span class=\"deemphasize\"> at 0x7fade432ca20</span></div><table class=\"attr-table\"><tr><td class=\"attr-name\">.type_name</td><td class = \"attrvalue\">ExternalPath</td></tr><tr><td class=\"attr-name\">.uri</td><td class = \"attrvalue\">/tmp/tfx-datazuettbe6</td></tr><tr><td class=\"attr-name\">.span</td><td class = \"attrvalue\">0</td></tr><tr><td class=\"attr-name\">.split</td><td class = \"attrvalue\"></td></tr></table></div></td></tr></table></td></tr></table></div></td></tr></table></td></tr><tr><td class=\"attr-name\">.outputs</td><td class = \"attrvalue\"><table class=\"attr-table\"><tr><td class=\"attr-name\">['examples']</td><td class = \"attrvalue\"><style>\n",
       ".tfx-object.expanded {\n",
       "  padding: 4px 8px 4px 8px;\n",
       "  background: white;\n",
       "  border: 1px solid #bbbbbb;\n",
       "  box-shadow: 4px 4px 2px rgba(0,0,0,0.05);\n",
       "}\n",
       ".tfx-object, .tfx-object * {\n",
       "  font-size: 11pt;\n",
       "}\n",
       ".tfx-object > .title {\n",
       "  cursor: pointer;\n",
       "}\n",
       ".tfx-object .expansion-marker {\n",
       "  color: #999999;\n",
       "}\n",
       ".tfx-object.expanded > .title > .expansion-marker:before {\n",
       "  content: '▼';\n",
       "}\n",
       ".tfx-object.collapsed > .title > .expansion-marker:before {\n",
       "  content: '▶';\n",
       "}\n",
       ".tfx-object .class-name {\n",
       "  font-weight: bold;\n",
       "}\n",
       ".tfx-object .deemphasize {\n",
       "  opacity: 0.5;\n",
       "}\n",
       ".tfx-object.collapsed > table.attr-table {\n",
       "  display: none;\n",
       "}\n",
       ".tfx-object.expanded > table.attr-table {\n",
       "  display: block;\n",
       "}\n",
       ".tfx-object table.attr-table {\n",
       "  border: 2px solid white;\n",
       "  margin-top: 5px;\n",
       "}\n",
       ".tfx-object table.attr-table td.attr-name {\n",
       "  vertical-align: top;\n",
       "  font-weight: bold;\n",
       "}\n",
       ".tfx-object table.attr-table td.attrvalue {\n",
       "  text-align: left;\n",
       "}\n",
       "</style>\n",
       "<script>\n",
       "function toggleTfxObject(element) {\n",
       "  var objElement = element.parentElement;\n",
       "  if (objElement.classList.contains('collapsed')) {\n",
       "    objElement.classList.remove('collapsed');\n",
       "    objElement.classList.add('expanded');\n",
       "  } else {\n",
       "    objElement.classList.add('collapsed');\n",
       "    objElement.classList.remove('expanded');\n",
       "  }\n",
       "}\n",
       "</script>\n",
       "<div class=\"tfx-object collapsed\"><div class = \"title\" onclick=\"toggleTfxObject(this)\"><span class=\"expansion-marker\"></span><span class=\"class-name\">Channel</span> of type <span class=\"class-name\">'ExamplesPath'</span> (2 artifacts)<span class=\"deemphasize\"> at 0x7fade432c0f0</span></div><table class=\"attr-table\"><tr><td class=\"attr-name\">.type_name</td><td class = \"attrvalue\">ExamplesPath</td></tr><tr><td class=\"attr-name\">._artifacts</td><td class = \"attrvalue\"><table class=\"attr-table\"><tr><td class=\"attr-name\">[0]</td><td class = \"attrvalue\"><style>\n",
       ".tfx-object.expanded {\n",
       "  padding: 4px 8px 4px 8px;\n",
       "  background: white;\n",
       "  border: 1px solid #bbbbbb;\n",
       "  box-shadow: 4px 4px 2px rgba(0,0,0,0.05);\n",
       "}\n",
       ".tfx-object, .tfx-object * {\n",
       "  font-size: 11pt;\n",
       "}\n",
       ".tfx-object > .title {\n",
       "  cursor: pointer;\n",
       "}\n",
       ".tfx-object .expansion-marker {\n",
       "  color: #999999;\n",
       "}\n",
       ".tfx-object.expanded > .title > .expansion-marker:before {\n",
       "  content: '▼';\n",
       "}\n",
       ".tfx-object.collapsed > .title > .expansion-marker:before {\n",
       "  content: '▶';\n",
       "}\n",
       ".tfx-object .class-name {\n",
       "  font-weight: bold;\n",
       "}\n",
       ".tfx-object .deemphasize {\n",
       "  opacity: 0.5;\n",
       "}\n",
       ".tfx-object.collapsed > table.attr-table {\n",
       "  display: none;\n",
       "}\n",
       ".tfx-object.expanded > table.attr-table {\n",
       "  display: block;\n",
       "}\n",
       ".tfx-object table.attr-table {\n",
       "  border: 2px solid white;\n",
       "  margin-top: 5px;\n",
       "}\n",
       ".tfx-object table.attr-table td.attr-name {\n",
       "  vertical-align: top;\n",
       "  font-weight: bold;\n",
       "}\n",
       ".tfx-object table.attr-table td.attrvalue {\n",
       "  text-align: left;\n",
       "}\n",
       "</style>\n",
       "<script>\n",
       "function toggleTfxObject(element) {\n",
       "  var objElement = element.parentElement;\n",
       "  if (objElement.classList.contains('collapsed')) {\n",
       "    objElement.classList.remove('collapsed');\n",
       "    objElement.classList.add('expanded');\n",
       "  } else {\n",
       "    objElement.classList.add('collapsed');\n",
       "    objElement.classList.remove('expanded');\n",
       "  }\n",
       "}\n",
       "</script>\n",
       "<div class=\"tfx-object collapsed\"><div class = \"title\" onclick=\"toggleTfxObject(this)\"><span class=\"expansion-marker\"></span><span class=\"class-name\">Artifact</span> of type <span class=\"class-name\">'ExamplesPath'</span> (uri: /tmp/tfx-interactive-2019-09-13T16_46_14.222336-5zedre0a/CsvExampleGen/examples/1/train/)<span class=\"deemphasize\"> at 0x7fade432c978</span></div><table class=\"attr-table\"><tr><td class=\"attr-name\">.type_name</td><td class = \"attrvalue\">ExamplesPath</td></tr><tr><td class=\"attr-name\">.uri</td><td class = \"attrvalue\">/tmp/tfx-interactive-2019-09-13T16_46_14.222336-5zedre0a/CsvExampleGen/examples/1/train/</td></tr><tr><td class=\"attr-name\">.span</td><td class = \"attrvalue\">0</td></tr><tr><td class=\"attr-name\">.split</td><td class = \"attrvalue\">train</td></tr></table></div></td></tr><tr><td class=\"attr-name\">[1]</td><td class = \"attrvalue\"><style>\n",
       ".tfx-object.expanded {\n",
       "  padding: 4px 8px 4px 8px;\n",
       "  background: white;\n",
       "  border: 1px solid #bbbbbb;\n",
       "  box-shadow: 4px 4px 2px rgba(0,0,0,0.05);\n",
       "}\n",
       ".tfx-object, .tfx-object * {\n",
       "  font-size: 11pt;\n",
       "}\n",
       ".tfx-object > .title {\n",
       "  cursor: pointer;\n",
       "}\n",
       ".tfx-object .expansion-marker {\n",
       "  color: #999999;\n",
       "}\n",
       ".tfx-object.expanded > .title > .expansion-marker:before {\n",
       "  content: '▼';\n",
       "}\n",
       ".tfx-object.collapsed > .title > .expansion-marker:before {\n",
       "  content: '▶';\n",
       "}\n",
       ".tfx-object .class-name {\n",
       "  font-weight: bold;\n",
       "}\n",
       ".tfx-object .deemphasize {\n",
       "  opacity: 0.5;\n",
       "}\n",
       ".tfx-object.collapsed > table.attr-table {\n",
       "  display: none;\n",
       "}\n",
       ".tfx-object.expanded > table.attr-table {\n",
       "  display: block;\n",
       "}\n",
       ".tfx-object table.attr-table {\n",
       "  border: 2px solid white;\n",
       "  margin-top: 5px;\n",
       "}\n",
       ".tfx-object table.attr-table td.attr-name {\n",
       "  vertical-align: top;\n",
       "  font-weight: bold;\n",
       "}\n",
       ".tfx-object table.attr-table td.attrvalue {\n",
       "  text-align: left;\n",
       "}\n",
       "</style>\n",
       "<script>\n",
       "function toggleTfxObject(element) {\n",
       "  var objElement = element.parentElement;\n",
       "  if (objElement.classList.contains('collapsed')) {\n",
       "    objElement.classList.remove('collapsed');\n",
       "    objElement.classList.add('expanded');\n",
       "  } else {\n",
       "    objElement.classList.add('collapsed');\n",
       "    objElement.classList.remove('expanded');\n",
       "  }\n",
       "}\n",
       "</script>\n",
       "<div class=\"tfx-object collapsed\"><div class = \"title\" onclick=\"toggleTfxObject(this)\"><span class=\"expansion-marker\"></span><span class=\"class-name\">Artifact</span> of type <span class=\"class-name\">'ExamplesPath'</span> (uri: /tmp/tfx-interactive-2019-09-13T16_46_14.222336-5zedre0a/CsvExampleGen/examples/1/eval/)<span class=\"deemphasize\"> at 0x7fade432c198</span></div><table class=\"attr-table\"><tr><td class=\"attr-name\">.type_name</td><td class = \"attrvalue\">ExamplesPath</td></tr><tr><td class=\"attr-name\">.uri</td><td class = \"attrvalue\">/tmp/tfx-interactive-2019-09-13T16_46_14.222336-5zedre0a/CsvExampleGen/examples/1/eval/</td></tr><tr><td class=\"attr-name\">.span</td><td class = \"attrvalue\">0</td></tr><tr><td class=\"attr-name\">.split</td><td class = \"attrvalue\">eval</td></tr></table></div></td></tr></table></td></tr></table></div></td></tr></table></td></tr><tr><td class=\"attr-name\">.exec_properties</td><td class = \"attrvalue\"><table class=\"attr-table\"><tr><td class=\"attr-name\">['input_config']</td><td class = \"attrvalue\">{\n",
       "  \"splits\": [\n",
       "    {\n",
       "      \"name\": \"single_split\",\n",
       "      \"pattern\": \"*\"\n",
       "    }\n",
       "  ]\n",
       "}</td></tr><tr><td class=\"attr-name\">['output_config']</td><td class = \"attrvalue\">{\n",
       "  \"splitConfig\": {\n",
       "    \"splits\": [\n",
       "      {\n",
       "        \"hashBuckets\": 2,\n",
       "        \"name\": \"train\"\n",
       "      },\n",
       "      {\n",
       "        \"hashBuckets\": 1,\n",
       "        \"name\": \"eval\"\n",
       "      }\n",
       "    ]\n",
       "  }\n",
       "}</td></tr><tr><td class=\"attr-name\">['custom_config']</td><td class = \"attrvalue\">None</td></tr></table></td></tr></table></div></td></tr><tr><td class=\"attr-name\">.component.inputs</td><td class = \"attrvalue\"><table class=\"attr-table\"><tr><td class=\"attr-name\">['input_base']</td><td class = \"attrvalue\"><style>\n",
       ".tfx-object.expanded {\n",
       "  padding: 4px 8px 4px 8px;\n",
       "  background: white;\n",
       "  border: 1px solid #bbbbbb;\n",
       "  box-shadow: 4px 4px 2px rgba(0,0,0,0.05);\n",
       "}\n",
       ".tfx-object, .tfx-object * {\n",
       "  font-size: 11pt;\n",
       "}\n",
       ".tfx-object > .title {\n",
       "  cursor: pointer;\n",
       "}\n",
       ".tfx-object .expansion-marker {\n",
       "  color: #999999;\n",
       "}\n",
       ".tfx-object.expanded > .title > .expansion-marker:before {\n",
       "  content: '▼';\n",
       "}\n",
       ".tfx-object.collapsed > .title > .expansion-marker:before {\n",
       "  content: '▶';\n",
       "}\n",
       ".tfx-object .class-name {\n",
       "  font-weight: bold;\n",
       "}\n",
       ".tfx-object .deemphasize {\n",
       "  opacity: 0.5;\n",
       "}\n",
       ".tfx-object.collapsed > table.attr-table {\n",
       "  display: none;\n",
       "}\n",
       ".tfx-object.expanded > table.attr-table {\n",
       "  display: block;\n",
       "}\n",
       ".tfx-object table.attr-table {\n",
       "  border: 2px solid white;\n",
       "  margin-top: 5px;\n",
       "}\n",
       ".tfx-object table.attr-table td.attr-name {\n",
       "  vertical-align: top;\n",
       "  font-weight: bold;\n",
       "}\n",
       ".tfx-object table.attr-table td.attrvalue {\n",
       "  text-align: left;\n",
       "}\n",
       "</style>\n",
       "<script>\n",
       "function toggleTfxObject(element) {\n",
       "  var objElement = element.parentElement;\n",
       "  if (objElement.classList.contains('collapsed')) {\n",
       "    objElement.classList.remove('collapsed');\n",
       "    objElement.classList.add('expanded');\n",
       "  } else {\n",
       "    objElement.classList.add('collapsed');\n",
       "    objElement.classList.remove('expanded');\n",
       "  }\n",
       "}\n",
       "</script>\n",
       "<div class=\"tfx-object collapsed\"><div class = \"title\" onclick=\"toggleTfxObject(this)\"><span class=\"expansion-marker\"></span><span class=\"class-name\">Channel</span> of type <span class=\"class-name\">'ExternalPath'</span> (1 artifact)<span class=\"deemphasize\"> at 0x7fade432c1d0</span></div><table class=\"attr-table\"><tr><td class=\"attr-name\">.type_name</td><td class = \"attrvalue\">ExternalPath</td></tr><tr><td class=\"attr-name\">._artifacts</td><td class = \"attrvalue\"><table class=\"attr-table\"><tr><td class=\"attr-name\">[0]</td><td class = \"attrvalue\"><style>\n",
       ".tfx-object.expanded {\n",
       "  padding: 4px 8px 4px 8px;\n",
       "  background: white;\n",
       "  border: 1px solid #bbbbbb;\n",
       "  box-shadow: 4px 4px 2px rgba(0,0,0,0.05);\n",
       "}\n",
       ".tfx-object, .tfx-object * {\n",
       "  font-size: 11pt;\n",
       "}\n",
       ".tfx-object > .title {\n",
       "  cursor: pointer;\n",
       "}\n",
       ".tfx-object .expansion-marker {\n",
       "  color: #999999;\n",
       "}\n",
       ".tfx-object.expanded > .title > .expansion-marker:before {\n",
       "  content: '▼';\n",
       "}\n",
       ".tfx-object.collapsed > .title > .expansion-marker:before {\n",
       "  content: '▶';\n",
       "}\n",
       ".tfx-object .class-name {\n",
       "  font-weight: bold;\n",
       "}\n",
       ".tfx-object .deemphasize {\n",
       "  opacity: 0.5;\n",
       "}\n",
       ".tfx-object.collapsed > table.attr-table {\n",
       "  display: none;\n",
       "}\n",
       ".tfx-object.expanded > table.attr-table {\n",
       "  display: block;\n",
       "}\n",
       ".tfx-object table.attr-table {\n",
       "  border: 2px solid white;\n",
       "  margin-top: 5px;\n",
       "}\n",
       ".tfx-object table.attr-table td.attr-name {\n",
       "  vertical-align: top;\n",
       "  font-weight: bold;\n",
       "}\n",
       ".tfx-object table.attr-table td.attrvalue {\n",
       "  text-align: left;\n",
       "}\n",
       "</style>\n",
       "<script>\n",
       "function toggleTfxObject(element) {\n",
       "  var objElement = element.parentElement;\n",
       "  if (objElement.classList.contains('collapsed')) {\n",
       "    objElement.classList.remove('collapsed');\n",
       "    objElement.classList.add('expanded');\n",
       "  } else {\n",
       "    objElement.classList.add('collapsed');\n",
       "    objElement.classList.remove('expanded');\n",
       "  }\n",
       "}\n",
       "</script>\n",
       "<div class=\"tfx-object collapsed\"><div class = \"title\" onclick=\"toggleTfxObject(this)\"><span class=\"expansion-marker\"></span><span class=\"class-name\">Artifact</span> of type <span class=\"class-name\">'ExternalPath'</span> (uri: /tmp/tfx-datazuettbe6)<span class=\"deemphasize\"> at 0x7fade432ca20</span></div><table class=\"attr-table\"><tr><td class=\"attr-name\">.type_name</td><td class = \"attrvalue\">ExternalPath</td></tr><tr><td class=\"attr-name\">.uri</td><td class = \"attrvalue\">/tmp/tfx-datazuettbe6</td></tr><tr><td class=\"attr-name\">.span</td><td class = \"attrvalue\">0</td></tr><tr><td class=\"attr-name\">.split</td><td class = \"attrvalue\"></td></tr></table></div></td></tr></table></td></tr></table></div></td></tr></table></td></tr><tr><td class=\"attr-name\">.component.outputs</td><td class = \"attrvalue\"><table class=\"attr-table\"><tr><td class=\"attr-name\">['examples']</td><td class = \"attrvalue\"><style>\n",
       ".tfx-object.expanded {\n",
       "  padding: 4px 8px 4px 8px;\n",
       "  background: white;\n",
       "  border: 1px solid #bbbbbb;\n",
       "  box-shadow: 4px 4px 2px rgba(0,0,0,0.05);\n",
       "}\n",
       ".tfx-object, .tfx-object * {\n",
       "  font-size: 11pt;\n",
       "}\n",
       ".tfx-object > .title {\n",
       "  cursor: pointer;\n",
       "}\n",
       ".tfx-object .expansion-marker {\n",
       "  color: #999999;\n",
       "}\n",
       ".tfx-object.expanded > .title > .expansion-marker:before {\n",
       "  content: '▼';\n",
       "}\n",
       ".tfx-object.collapsed > .title > .expansion-marker:before {\n",
       "  content: '▶';\n",
       "}\n",
       ".tfx-object .class-name {\n",
       "  font-weight: bold;\n",
       "}\n",
       ".tfx-object .deemphasize {\n",
       "  opacity: 0.5;\n",
       "}\n",
       ".tfx-object.collapsed > table.attr-table {\n",
       "  display: none;\n",
       "}\n",
       ".tfx-object.expanded > table.attr-table {\n",
       "  display: block;\n",
       "}\n",
       ".tfx-object table.attr-table {\n",
       "  border: 2px solid white;\n",
       "  margin-top: 5px;\n",
       "}\n",
       ".tfx-object table.attr-table td.attr-name {\n",
       "  vertical-align: top;\n",
       "  font-weight: bold;\n",
       "}\n",
       ".tfx-object table.attr-table td.attrvalue {\n",
       "  text-align: left;\n",
       "}\n",
       "</style>\n",
       "<script>\n",
       "function toggleTfxObject(element) {\n",
       "  var objElement = element.parentElement;\n",
       "  if (objElement.classList.contains('collapsed')) {\n",
       "    objElement.classList.remove('collapsed');\n",
       "    objElement.classList.add('expanded');\n",
       "  } else {\n",
       "    objElement.classList.add('collapsed');\n",
       "    objElement.classList.remove('expanded');\n",
       "  }\n",
       "}\n",
       "</script>\n",
       "<div class=\"tfx-object collapsed\"><div class = \"title\" onclick=\"toggleTfxObject(this)\"><span class=\"expansion-marker\"></span><span class=\"class-name\">Channel</span> of type <span class=\"class-name\">'ExamplesPath'</span> (2 artifacts)<span class=\"deemphasize\"> at 0x7fade432c0f0</span></div><table class=\"attr-table\"><tr><td class=\"attr-name\">.type_name</td><td class = \"attrvalue\">ExamplesPath</td></tr><tr><td class=\"attr-name\">._artifacts</td><td class = \"attrvalue\"><table class=\"attr-table\"><tr><td class=\"attr-name\">[0]</td><td class = \"attrvalue\"><style>\n",
       ".tfx-object.expanded {\n",
       "  padding: 4px 8px 4px 8px;\n",
       "  background: white;\n",
       "  border: 1px solid #bbbbbb;\n",
       "  box-shadow: 4px 4px 2px rgba(0,0,0,0.05);\n",
       "}\n",
       ".tfx-object, .tfx-object * {\n",
       "  font-size: 11pt;\n",
       "}\n",
       ".tfx-object > .title {\n",
       "  cursor: pointer;\n",
       "}\n",
       ".tfx-object .expansion-marker {\n",
       "  color: #999999;\n",
       "}\n",
       ".tfx-object.expanded > .title > .expansion-marker:before {\n",
       "  content: '▼';\n",
       "}\n",
       ".tfx-object.collapsed > .title > .expansion-marker:before {\n",
       "  content: '▶';\n",
       "}\n",
       ".tfx-object .class-name {\n",
       "  font-weight: bold;\n",
       "}\n",
       ".tfx-object .deemphasize {\n",
       "  opacity: 0.5;\n",
       "}\n",
       ".tfx-object.collapsed > table.attr-table {\n",
       "  display: none;\n",
       "}\n",
       ".tfx-object.expanded > table.attr-table {\n",
       "  display: block;\n",
       "}\n",
       ".tfx-object table.attr-table {\n",
       "  border: 2px solid white;\n",
       "  margin-top: 5px;\n",
       "}\n",
       ".tfx-object table.attr-table td.attr-name {\n",
       "  vertical-align: top;\n",
       "  font-weight: bold;\n",
       "}\n",
       ".tfx-object table.attr-table td.attrvalue {\n",
       "  text-align: left;\n",
       "}\n",
       "</style>\n",
       "<script>\n",
       "function toggleTfxObject(element) {\n",
       "  var objElement = element.parentElement;\n",
       "  if (objElement.classList.contains('collapsed')) {\n",
       "    objElement.classList.remove('collapsed');\n",
       "    objElement.classList.add('expanded');\n",
       "  } else {\n",
       "    objElement.classList.add('collapsed');\n",
       "    objElement.classList.remove('expanded');\n",
       "  }\n",
       "}\n",
       "</script>\n",
       "<div class=\"tfx-object collapsed\"><div class = \"title\" onclick=\"toggleTfxObject(this)\"><span class=\"expansion-marker\"></span><span class=\"class-name\">Artifact</span> of type <span class=\"class-name\">'ExamplesPath'</span> (uri: /tmp/tfx-interactive-2019-09-13T16_46_14.222336-5zedre0a/CsvExampleGen/examples/1/train/)<span class=\"deemphasize\"> at 0x7fade432c978</span></div><table class=\"attr-table\"><tr><td class=\"attr-name\">.type_name</td><td class = \"attrvalue\">ExamplesPath</td></tr><tr><td class=\"attr-name\">.uri</td><td class = \"attrvalue\">/tmp/tfx-interactive-2019-09-13T16_46_14.222336-5zedre0a/CsvExampleGen/examples/1/train/</td></tr><tr><td class=\"attr-name\">.span</td><td class = \"attrvalue\">0</td></tr><tr><td class=\"attr-name\">.split</td><td class = \"attrvalue\">train</td></tr></table></div></td></tr><tr><td class=\"attr-name\">[1]</td><td class = \"attrvalue\"><style>\n",
       ".tfx-object.expanded {\n",
       "  padding: 4px 8px 4px 8px;\n",
       "  background: white;\n",
       "  border: 1px solid #bbbbbb;\n",
       "  box-shadow: 4px 4px 2px rgba(0,0,0,0.05);\n",
       "}\n",
       ".tfx-object, .tfx-object * {\n",
       "  font-size: 11pt;\n",
       "}\n",
       ".tfx-object > .title {\n",
       "  cursor: pointer;\n",
       "}\n",
       ".tfx-object .expansion-marker {\n",
       "  color: #999999;\n",
       "}\n",
       ".tfx-object.expanded > .title > .expansion-marker:before {\n",
       "  content: '▼';\n",
       "}\n",
       ".tfx-object.collapsed > .title > .expansion-marker:before {\n",
       "  content: '▶';\n",
       "}\n",
       ".tfx-object .class-name {\n",
       "  font-weight: bold;\n",
       "}\n",
       ".tfx-object .deemphasize {\n",
       "  opacity: 0.5;\n",
       "}\n",
       ".tfx-object.collapsed > table.attr-table {\n",
       "  display: none;\n",
       "}\n",
       ".tfx-object.expanded > table.attr-table {\n",
       "  display: block;\n",
       "}\n",
       ".tfx-object table.attr-table {\n",
       "  border: 2px solid white;\n",
       "  margin-top: 5px;\n",
       "}\n",
       ".tfx-object table.attr-table td.attr-name {\n",
       "  vertical-align: top;\n",
       "  font-weight: bold;\n",
       "}\n",
       ".tfx-object table.attr-table td.attrvalue {\n",
       "  text-align: left;\n",
       "}\n",
       "</style>\n",
       "<script>\n",
       "function toggleTfxObject(element) {\n",
       "  var objElement = element.parentElement;\n",
       "  if (objElement.classList.contains('collapsed')) {\n",
       "    objElement.classList.remove('collapsed');\n",
       "    objElement.classList.add('expanded');\n",
       "  } else {\n",
       "    objElement.classList.add('collapsed');\n",
       "    objElement.classList.remove('expanded');\n",
       "  }\n",
       "}\n",
       "</script>\n",
       "<div class=\"tfx-object collapsed\"><div class = \"title\" onclick=\"toggleTfxObject(this)\"><span class=\"expansion-marker\"></span><span class=\"class-name\">Artifact</span> of type <span class=\"class-name\">'ExamplesPath'</span> (uri: /tmp/tfx-interactive-2019-09-13T16_46_14.222336-5zedre0a/CsvExampleGen/examples/1/eval/)<span class=\"deemphasize\"> at 0x7fade432c198</span></div><table class=\"attr-table\"><tr><td class=\"attr-name\">.type_name</td><td class = \"attrvalue\">ExamplesPath</td></tr><tr><td class=\"attr-name\">.uri</td><td class = \"attrvalue\">/tmp/tfx-interactive-2019-09-13T16_46_14.222336-5zedre0a/CsvExampleGen/examples/1/eval/</td></tr><tr><td class=\"attr-name\">.span</td><td class = \"attrvalue\">0</td></tr><tr><td class=\"attr-name\">.split</td><td class = \"attrvalue\">eval</td></tr></table></div></td></tr></table></td></tr></table></div></td></tr></table></td></tr></table></div>"
      ],
      "text/plain": [
       "ExecutionResult(\n",
       "    component_id: CsvExampleGen\n",
       "    execution_id: 1\n",
       "    outputs:\n",
       "        examples: Channel(\n",
       "            type_name: ExamplesPath\n",
       "            artifacts: [Artifact(type_name: ExamplesPath, uri: /tmp/tfx-interactive-2019-09-13T16_46_14.222336-5zedre0a/CsvExampleGen/examples/1/train/, split: train, id: 2)\n",
       "            Artifact(type_name: ExamplesPath, uri: /tmp/tfx-interactive-2019-09-13T16_46_14.222336-5zedre0a/CsvExampleGen/examples/1/eval/, split: eval, id: 3)]\n",
       "        ))"
      ]
     },
     "execution_count": 5,
     "metadata": {},
     "output_type": "execute_result"
    }
   ],
   "source": [
    "# Use the packaged CSV input data.\n",
    "examples = csv_input(_data_root)\n",
    "\n",
    "# Brings data into the pipeline or otherwise joins/converts training data.\n",
    "example_gen = CsvExampleGen(input_base=examples)\n",
    "context.run(example_gen)"
   ]
  },
  {
   "cell_type": "markdown",
   "metadata": {
    "colab_type": "text",
    "id": "csM6BFhtk5Aa"
   },
   "source": [
    "### StatisticsGen (using Tensorflow Data Validation)\n",
    "`StatisticsGen` computes statistics for visualization and example validation. This uses the [Tensorflow Data Validation](https://www.tensorflow.org/tfx/data_validation/get_started) library."
   ]
  },
  {
   "cell_type": "markdown",
   "metadata": {
    "colab_type": "text",
    "id": "W0tl75TMW3DR"
   },
   "source": [
    "#### Run TFDV statistics computation using the StatisticsGen component"
   ]
  },
  {
   "cell_type": "code",
   "execution_count": 6,
   "metadata": {
    "colab": {},
    "colab_type": "code",
    "id": "MAscCCYWgA-9"
   },
   "outputs": [
    {
     "name": "stdout",
     "output_type": "stream",
     "text": [
      "INFO:tensorflow:Run driver for StatisticsGen\n"
     ]
    },
    {
     "name": "stderr",
     "output_type": "stream",
     "text": [
      "INFO:tensorflow:Run driver for StatisticsGen\n"
     ]
    },
    {
     "name": "stdout",
     "output_type": "stream",
     "text": [
      "INFO:tensorflow:Created run context interactive-2019-09-13T16_46_14.222336.2019-09-13T16:46:25.072102.\n"
     ]
    },
    {
     "name": "stderr",
     "output_type": "stream",
     "text": [
      "INFO:tensorflow:Created run context interactive-2019-09-13T16_46_14.222336.2019-09-13T16:46:25.072102.\n"
     ]
    },
    {
     "name": "stdout",
     "output_type": "stream",
     "text": [
      "INFO:tensorflow:ID of run context interactive-2019-09-13T16_46_14.222336.2019-09-13T16:46:25.072102 is 2.\n"
     ]
    },
    {
     "name": "stderr",
     "output_type": "stream",
     "text": [
      "INFO:tensorflow:ID of run context interactive-2019-09-13T16_46_14.222336.2019-09-13T16:46:25.072102 is 2.\n"
     ]
    },
    {
     "name": "stdout",
     "output_type": "stream",
     "text": [
      "INFO:tensorflow:Resolved input artifacts are: {'input_data': [Artifact(type_name: ExamplesPath, uri: /tmp/tfx-interactive-2019-09-13T16_46_14.222336-5zedre0a/CsvExampleGen/examples/1/train/, split: train, id: 2), Artifact(type_name: ExamplesPath, uri: /tmp/tfx-interactive-2019-09-13T16_46_14.222336-5zedre0a/CsvExampleGen/examples/1/eval/, split: eval, id: 3)]}\n"
     ]
    },
    {
     "name": "stderr",
     "output_type": "stream",
     "text": [
      "INFO:tensorflow:Resolved input artifacts are: {'input_data': [Artifact(type_name: ExamplesPath, uri: /tmp/tfx-interactive-2019-09-13T16_46_14.222336-5zedre0a/CsvExampleGen/examples/1/train/, split: train, id: 2), Artifact(type_name: ExamplesPath, uri: /tmp/tfx-interactive-2019-09-13T16_46_14.222336-5zedre0a/CsvExampleGen/examples/1/eval/, split: eval, id: 3)]}\n"
     ]
    },
    {
     "name": "stdout",
     "output_type": "stream",
     "text": [
      "INFO:tensorflow:Prepared EXECUTION:\n",
      " type_id: 5\n",
      "properties {\n",
      "  key: \"component_id\"\n",
      "  value {\n",
      "    string_value: \"StatisticsGen\"\n",
      "  }\n",
      "}\n",
      "properties {\n",
      "  key: \"pipeline_name\"\n",
      "  value {\n",
      "    string_value: \"interactive-2019-09-13T16_46_14.222336\"\n",
      "  }\n",
      "}\n",
      "properties {\n",
      "  key: \"pipeline_root\"\n",
      "  value {\n",
      "    string_value: \"/tmp/tfx-interactive-2019-09-13T16_46_14.222336-5zedre0a\"\n",
      "  }\n",
      "}\n",
      "properties {\n",
      "  key: \"run_id\"\n",
      "  value {\n",
      "    string_value: \"2019-09-13T16:46:25.072102\"\n",
      "  }\n",
      "}\n",
      "properties {\n",
      "  key: \"state\"\n",
      "  value {\n",
      "    string_value: \"new\"\n",
      "  }\n",
      "}\n",
      "\n"
     ]
    },
    {
     "name": "stderr",
     "output_type": "stream",
     "text": [
      "INFO:tensorflow:Prepared EXECUTION:\n",
      " type_id: 5\n",
      "properties {\n",
      "  key: \"component_id\"\n",
      "  value {\n",
      "    string_value: \"StatisticsGen\"\n",
      "  }\n",
      "}\n",
      "properties {\n",
      "  key: \"pipeline_name\"\n",
      "  value {\n",
      "    string_value: \"interactive-2019-09-13T16_46_14.222336\"\n",
      "  }\n",
      "}\n",
      "properties {\n",
      "  key: \"pipeline_root\"\n",
      "  value {\n",
      "    string_value: \"/tmp/tfx-interactive-2019-09-13T16_46_14.222336-5zedre0a\"\n",
      "  }\n",
      "}\n",
      "properties {\n",
      "  key: \"run_id\"\n",
      "  value {\n",
      "    string_value: \"2019-09-13T16:46:25.072102\"\n",
      "  }\n",
      "}\n",
      "properties {\n",
      "  key: \"state\"\n",
      "  value {\n",
      "    string_value: \"new\"\n",
      "  }\n",
      "}\n",
      "\n"
     ]
    },
    {
     "name": "stdout",
     "output_type": "stream",
     "text": [
      "INFO:tensorflow:Execution id of the upcoming component execution is 2\n"
     ]
    },
    {
     "name": "stderr",
     "output_type": "stream",
     "text": [
      "INFO:tensorflow:Execution id of the upcoming component execution is 2\n"
     ]
    },
    {
     "name": "stdout",
     "output_type": "stream",
     "text": [
      "INFO:tensorflow:Checking previous run for execution_type_name tfx.components.statistics_gen.component.StatisticsGen and input_artifacts {'input_data': [Artifact(type_name: ExamplesPath, uri: /tmp/tfx-interactive-2019-09-13T16_46_14.222336-5zedre0a/CsvExampleGen/examples/1/train/, split: train, id: 2), Artifact(type_name: ExamplesPath, uri: /tmp/tfx-interactive-2019-09-13T16_46_14.222336-5zedre0a/CsvExampleGen/examples/1/eval/, split: eval, id: 3)]}\n"
     ]
    },
    {
     "name": "stderr",
     "output_type": "stream",
     "text": [
      "INFO:tensorflow:Checking previous run for execution_type_name tfx.components.statistics_gen.component.StatisticsGen and input_artifacts {'input_data': [Artifact(type_name: ExamplesPath, uri: /tmp/tfx-interactive-2019-09-13T16_46_14.222336-5zedre0a/CsvExampleGen/examples/1/train/, split: train, id: 2), Artifact(type_name: ExamplesPath, uri: /tmp/tfx-interactive-2019-09-13T16_46_14.222336-5zedre0a/CsvExampleGen/examples/1/eval/, split: eval, id: 3)]}\n"
     ]
    },
    {
     "name": "stdout",
     "output_type": "stream",
     "text": [
      "INFO:tensorflow:Prepared EXECUTION:\n",
      " type_id: 5\n",
      "properties {\n",
      "  key: \"component_id\"\n",
      "  value {\n",
      "    string_value: \"StatisticsGen\"\n",
      "  }\n",
      "}\n",
      "properties {\n",
      "  key: \"pipeline_name\"\n",
      "  value {\n",
      "    string_value: \"interactive-2019-09-13T16_46_14.222336\"\n",
      "  }\n",
      "}\n",
      "properties {\n",
      "  key: \"pipeline_root\"\n",
      "  value {\n",
      "    string_value: \"/tmp/tfx-interactive-2019-09-13T16_46_14.222336-5zedre0a\"\n",
      "  }\n",
      "}\n",
      "properties {\n",
      "  key: \"run_id\"\n",
      "  value {\n",
      "    string_value: \"2019-09-13T16:46:25.072102\"\n",
      "  }\n",
      "}\n",
      "properties {\n",
      "  key: \"state\"\n",
      "  value {\n",
      "    string_value: \"complete\"\n",
      "  }\n",
      "}\n",
      "\n"
     ]
    },
    {
     "name": "stderr",
     "output_type": "stream",
     "text": [
      "INFO:tensorflow:Prepared EXECUTION:\n",
      " type_id: 5\n",
      "properties {\n",
      "  key: \"component_id\"\n",
      "  value {\n",
      "    string_value: \"StatisticsGen\"\n",
      "  }\n",
      "}\n",
      "properties {\n",
      "  key: \"pipeline_name\"\n",
      "  value {\n",
      "    string_value: \"interactive-2019-09-13T16_46_14.222336\"\n",
      "  }\n",
      "}\n",
      "properties {\n",
      "  key: \"pipeline_root\"\n",
      "  value {\n",
      "    string_value: \"/tmp/tfx-interactive-2019-09-13T16_46_14.222336-5zedre0a\"\n",
      "  }\n",
      "}\n",
      "properties {\n",
      "  key: \"run_id\"\n",
      "  value {\n",
      "    string_value: \"2019-09-13T16:46:25.072102\"\n",
      "  }\n",
      "}\n",
      "properties {\n",
      "  key: \"state\"\n",
      "  value {\n",
      "    string_value: \"complete\"\n",
      "  }\n",
      "}\n",
      "\n"
     ]
    },
    {
     "name": "stdout",
     "output_type": "stream",
     "text": [
      "INFO:tensorflow:No execution matching type id and input artifacts found\n"
     ]
    },
    {
     "name": "stderr",
     "output_type": "stream",
     "text": [
      "INFO:tensorflow:No execution matching type id and input artifacts found\n"
     ]
    },
    {
     "name": "stdout",
     "output_type": "stream",
     "text": [
      "INFO:tensorflow:Cached results not found, move on to new execution\n"
     ]
    },
    {
     "name": "stderr",
     "output_type": "stream",
     "text": [
      "INFO:tensorflow:Cached results not found, move on to new execution\n"
     ]
    },
    {
     "name": "stdout",
     "output_type": "stream",
     "text": [
      "INFO:tensorflow:Creating output artifact uri /tmp/tfx-interactive-2019-09-13T16_46_14.222336-5zedre0a/StatisticsGen/output/2/train/ as directory\n"
     ]
    },
    {
     "name": "stderr",
     "output_type": "stream",
     "text": [
      "INFO:tensorflow:Creating output artifact uri /tmp/tfx-interactive-2019-09-13T16_46_14.222336-5zedre0a/StatisticsGen/output/2/train/ as directory\n"
     ]
    },
    {
     "name": "stdout",
     "output_type": "stream",
     "text": [
      "INFO:tensorflow:Creating output artifact uri /tmp/tfx-interactive-2019-09-13T16_46_14.222336-5zedre0a/StatisticsGen/output/2/eval/ as directory\n"
     ]
    },
    {
     "name": "stderr",
     "output_type": "stream",
     "text": [
      "INFO:tensorflow:Creating output artifact uri /tmp/tfx-interactive-2019-09-13T16_46_14.222336-5zedre0a/StatisticsGen/output/2/eval/ as directory\n"
     ]
    },
    {
     "name": "stdout",
     "output_type": "stream",
     "text": [
      "INFO:tensorflow:Output artifacts skeleton for the upcoming execution are: {'output': [Artifact(type_name: ExampleStatisticsPath, uri: /tmp/tfx-interactive-2019-09-13T16_46_14.222336-5zedre0a/StatisticsGen/output/2/train/, split: train, id: 0), Artifact(type_name: ExampleStatisticsPath, uri: /tmp/tfx-interactive-2019-09-13T16_46_14.222336-5zedre0a/StatisticsGen/output/2/eval/, split: eval, id: 0)]}\n"
     ]
    },
    {
     "name": "stderr",
     "output_type": "stream",
     "text": [
      "INFO:tensorflow:Output artifacts skeleton for the upcoming execution are: {'output': [Artifact(type_name: ExampleStatisticsPath, uri: /tmp/tfx-interactive-2019-09-13T16_46_14.222336-5zedre0a/StatisticsGen/output/2/train/, split: train, id: 0), Artifact(type_name: ExampleStatisticsPath, uri: /tmp/tfx-interactive-2019-09-13T16_46_14.222336-5zedre0a/StatisticsGen/output/2/eval/, split: eval, id: 0)]}\n"
     ]
    },
    {
     "name": "stdout",
     "output_type": "stream",
     "text": [
      "INFO:tensorflow:Execution properties for the upcoming execution are: {}\n"
     ]
    },
    {
     "name": "stderr",
     "output_type": "stream",
     "text": [
      "INFO:tensorflow:Execution properties for the upcoming execution are: {}\n"
     ]
    },
    {
     "name": "stdout",
     "output_type": "stream",
     "text": [
      "INFO:tensorflow:Run executor for StatisticsGen\n"
     ]
    },
    {
     "name": "stderr",
     "output_type": "stream",
     "text": [
      "INFO:tensorflow:Run executor for StatisticsGen\n"
     ]
    },
    {
     "name": "stdout",
     "output_type": "stream",
     "text": [
      "INFO:tensorflow:Starting Executor execution.\n"
     ]
    },
    {
     "name": "stderr",
     "output_type": "stream",
     "text": [
      "INFO:tensorflow:Starting Executor execution.\n"
     ]
    },
    {
     "name": "stdout",
     "output_type": "stream",
     "text": [
      "INFO:tensorflow:Inputs for Executor is: {\"input_data\": [{\"artifact\": {\"id\": \"2\", \"typeId\": \"4\", \"uri\": \"/tmp/tfx-interactive-2019-09-13T16_46_14.222336-5zedre0a/CsvExampleGen/examples/1/train/\", \"properties\": {\"span\": {}, \"pipeline_name\": {\"stringValue\": \"interactive-2019-09-13T16_46_14.222336\"}, \"producer_component\": {\"stringValue\": \"CsvExampleGen\"}, \"split\": {\"stringValue\": \"train\"}, \"name\": {\"stringValue\": \"examples\"}, \"type_name\": {\"stringValue\": \"ExamplesPath\"}, \"state\": {\"stringValue\": \"published\"}}}, \"artifact_type\": {\"id\": \"4\", \"name\": \"ExamplesPath\", \"properties\": {\"name\": \"STRING\", \"type_name\": \"STRING\", \"state\": \"STRING\", \"producer_component\": \"STRING\", \"span\": \"INT\", \"pipeline_name\": \"STRING\", \"split\": \"STRING\"}}}, {\"artifact\": {\"id\": \"3\", \"typeId\": \"4\", \"uri\": \"/tmp/tfx-interactive-2019-09-13T16_46_14.222336-5zedre0a/CsvExampleGen/examples/1/eval/\", \"properties\": {\"split\": {\"stringValue\": \"eval\"}, \"name\": {\"stringValue\": \"examples\"}, \"type_name\": {\"stringValue\": \"ExamplesPath\"}, \"state\": {\"stringValue\": \"published\"}, \"span\": {}, \"pipeline_name\": {\"stringValue\": \"interactive-2019-09-13T16_46_14.222336\"}, \"producer_component\": {\"stringValue\": \"CsvExampleGen\"}}}, \"artifact_type\": {\"id\": \"4\", \"name\": \"ExamplesPath\", \"properties\": {\"name\": \"STRING\", \"type_name\": \"STRING\", \"state\": \"STRING\", \"producer_component\": \"STRING\", \"span\": \"INT\", \"pipeline_name\": \"STRING\", \"split\": \"STRING\"}}}]}\n"
     ]
    },
    {
     "name": "stderr",
     "output_type": "stream",
     "text": [
      "INFO:tensorflow:Inputs for Executor is: {\"input_data\": [{\"artifact\": {\"id\": \"2\", \"typeId\": \"4\", \"uri\": \"/tmp/tfx-interactive-2019-09-13T16_46_14.222336-5zedre0a/CsvExampleGen/examples/1/train/\", \"properties\": {\"span\": {}, \"pipeline_name\": {\"stringValue\": \"interactive-2019-09-13T16_46_14.222336\"}, \"producer_component\": {\"stringValue\": \"CsvExampleGen\"}, \"split\": {\"stringValue\": \"train\"}, \"name\": {\"stringValue\": \"examples\"}, \"type_name\": {\"stringValue\": \"ExamplesPath\"}, \"state\": {\"stringValue\": \"published\"}}}, \"artifact_type\": {\"id\": \"4\", \"name\": \"ExamplesPath\", \"properties\": {\"name\": \"STRING\", \"type_name\": \"STRING\", \"state\": \"STRING\", \"producer_component\": \"STRING\", \"span\": \"INT\", \"pipeline_name\": \"STRING\", \"split\": \"STRING\"}}}, {\"artifact\": {\"id\": \"3\", \"typeId\": \"4\", \"uri\": \"/tmp/tfx-interactive-2019-09-13T16_46_14.222336-5zedre0a/CsvExampleGen/examples/1/eval/\", \"properties\": {\"split\": {\"stringValue\": \"eval\"}, \"name\": {\"stringValue\": \"examples\"}, \"type_name\": {\"stringValue\": \"ExamplesPath\"}, \"state\": {\"stringValue\": \"published\"}, \"span\": {}, \"pipeline_name\": {\"stringValue\": \"interactive-2019-09-13T16_46_14.222336\"}, \"producer_component\": {\"stringValue\": \"CsvExampleGen\"}}}, \"artifact_type\": {\"id\": \"4\", \"name\": \"ExamplesPath\", \"properties\": {\"name\": \"STRING\", \"type_name\": \"STRING\", \"state\": \"STRING\", \"producer_component\": \"STRING\", \"span\": \"INT\", \"pipeline_name\": \"STRING\", \"split\": \"STRING\"}}}]}\n"
     ]
    },
    {
     "name": "stdout",
     "output_type": "stream",
     "text": [
      "INFO:tensorflow:Outputs for Executor is: {\"output\": [{\"artifact\": {\"uri\": \"/tmp/tfx-interactive-2019-09-13T16_46_14.222336-5zedre0a/StatisticsGen/output/2/train/\", \"properties\": {\"type_name\": {\"stringValue\": \"ExampleStatisticsPath\"}, \"split\": {\"stringValue\": \"train\"}, \"producer_component\": {\"stringValue\": \"StatisticsGen\"}, \"pipeline_name\": {\"stringValue\": \"interactive-2019-09-13T16_46_14.222336\"}, \"name\": {\"stringValue\": \"output\"}}}, \"artifact_type\": {\"name\": \"ExampleStatisticsPath\", \"properties\": {\"name\": \"STRING\", \"type_name\": \"STRING\", \"state\": \"STRING\", \"producer_component\": \"STRING\", \"span\": \"INT\", \"pipeline_name\": \"STRING\", \"split\": \"STRING\"}}}, {\"artifact\": {\"uri\": \"/tmp/tfx-interactive-2019-09-13T16_46_14.222336-5zedre0a/StatisticsGen/output/2/eval/\", \"properties\": {\"producer_component\": {\"stringValue\": \"StatisticsGen\"}, \"pipeline_name\": {\"stringValue\": \"interactive-2019-09-13T16_46_14.222336\"}, \"name\": {\"stringValue\": \"output\"}, \"type_name\": {\"stringValue\": \"ExampleStatisticsPath\"}, \"split\": {\"stringValue\": \"eval\"}}}, \"artifact_type\": {\"name\": \"ExampleStatisticsPath\", \"properties\": {\"split\": \"STRING\", \"name\": \"STRING\", \"type_name\": \"STRING\", \"state\": \"STRING\", \"producer_component\": \"STRING\", \"span\": \"INT\", \"pipeline_name\": \"STRING\"}}}]}\n"
     ]
    },
    {
     "name": "stderr",
     "output_type": "stream",
     "text": [
      "INFO:tensorflow:Outputs for Executor is: {\"output\": [{\"artifact\": {\"uri\": \"/tmp/tfx-interactive-2019-09-13T16_46_14.222336-5zedre0a/StatisticsGen/output/2/train/\", \"properties\": {\"type_name\": {\"stringValue\": \"ExampleStatisticsPath\"}, \"split\": {\"stringValue\": \"train\"}, \"producer_component\": {\"stringValue\": \"StatisticsGen\"}, \"pipeline_name\": {\"stringValue\": \"interactive-2019-09-13T16_46_14.222336\"}, \"name\": {\"stringValue\": \"output\"}}}, \"artifact_type\": {\"name\": \"ExampleStatisticsPath\", \"properties\": {\"name\": \"STRING\", \"type_name\": \"STRING\", \"state\": \"STRING\", \"producer_component\": \"STRING\", \"span\": \"INT\", \"pipeline_name\": \"STRING\", \"split\": \"STRING\"}}}, {\"artifact\": {\"uri\": \"/tmp/tfx-interactive-2019-09-13T16_46_14.222336-5zedre0a/StatisticsGen/output/2/eval/\", \"properties\": {\"producer_component\": {\"stringValue\": \"StatisticsGen\"}, \"pipeline_name\": {\"stringValue\": \"interactive-2019-09-13T16_46_14.222336\"}, \"name\": {\"stringValue\": \"output\"}, \"type_name\": {\"stringValue\": \"ExampleStatisticsPath\"}, \"split\": {\"stringValue\": \"eval\"}}}, \"artifact_type\": {\"name\": \"ExampleStatisticsPath\", \"properties\": {\"split\": \"STRING\", \"name\": \"STRING\", \"type_name\": \"STRING\", \"state\": \"STRING\", \"producer_component\": \"STRING\", \"span\": \"INT\", \"pipeline_name\": \"STRING\"}}}]}\n"
     ]
    },
    {
     "name": "stdout",
     "output_type": "stream",
     "text": [
      "INFO:tensorflow:Execution properties for Executor is: {}\n"
     ]
    },
    {
     "name": "stderr",
     "output_type": "stream",
     "text": [
      "INFO:tensorflow:Execution properties for Executor is: {}\n"
     ]
    },
    {
     "name": "stdout",
     "output_type": "stream",
     "text": [
      "INFO:tensorflow:Generating statistics for split train\n"
     ]
    },
    {
     "name": "stderr",
     "output_type": "stream",
     "text": [
      "INFO:tensorflow:Generating statistics for split train\n"
     ]
    },
    {
     "name": "stdout",
     "output_type": "stream",
     "text": [
      "INFO:tensorflow:Statistics for split train written to /tmp/tfx-interactive-2019-09-13T16_46_14.222336-5zedre0a/StatisticsGen/output/2/train/.\n"
     ]
    },
    {
     "name": "stderr",
     "output_type": "stream",
     "text": [
      "INFO:tensorflow:Statistics for split train written to /tmp/tfx-interactive-2019-09-13T16_46_14.222336-5zedre0a/StatisticsGen/output/2/train/.\n"
     ]
    },
    {
     "name": "stdout",
     "output_type": "stream",
     "text": [
      "INFO:tensorflow:Generating statistics for split eval\n"
     ]
    },
    {
     "name": "stderr",
     "output_type": "stream",
     "text": [
      "INFO:tensorflow:Generating statistics for split eval\n"
     ]
    },
    {
     "name": "stdout",
     "output_type": "stream",
     "text": [
      "INFO:tensorflow:Statistics for split eval written to /tmp/tfx-interactive-2019-09-13T16_46_14.222336-5zedre0a/StatisticsGen/output/2/eval/.\n"
     ]
    },
    {
     "name": "stderr",
     "output_type": "stream",
     "text": [
      "INFO:tensorflow:Statistics for split eval written to /tmp/tfx-interactive-2019-09-13T16_46_14.222336-5zedre0a/StatisticsGen/output/2/eval/.\n"
     ]
    },
    {
     "name": "stdout",
     "output_type": "stream",
     "text": [
      "INFO:tensorflow:Run publisher for StatisticsGen\n"
     ]
    },
    {
     "name": "stderr",
     "output_type": "stream",
     "text": [
      "INFO:tensorflow:Run publisher for StatisticsGen\n"
     ]
    },
    {
     "name": "stdout",
     "output_type": "stream",
     "text": [
      "INFO:tensorflow:Whether cached results are used: False\n"
     ]
    },
    {
     "name": "stderr",
     "output_type": "stream",
     "text": [
      "INFO:tensorflow:Whether cached results are used: False\n"
     ]
    },
    {
     "name": "stdout",
     "output_type": "stream",
     "text": [
      "INFO:tensorflow:Execution id: 2\n"
     ]
    },
    {
     "name": "stderr",
     "output_type": "stream",
     "text": [
      "INFO:tensorflow:Execution id: 2\n"
     ]
    },
    {
     "name": "stdout",
     "output_type": "stream",
     "text": [
      "INFO:tensorflow:Inputs: {'input_data': [Artifact(type_name: ExamplesPath, uri: /tmp/tfx-interactive-2019-09-13T16_46_14.222336-5zedre0a/CsvExampleGen/examples/1/train/, split: train, id: 2), Artifact(type_name: ExamplesPath, uri: /tmp/tfx-interactive-2019-09-13T16_46_14.222336-5zedre0a/CsvExampleGen/examples/1/eval/, split: eval, id: 3)]}\n"
     ]
    },
    {
     "name": "stderr",
     "output_type": "stream",
     "text": [
      "INFO:tensorflow:Inputs: {'input_data': [Artifact(type_name: ExamplesPath, uri: /tmp/tfx-interactive-2019-09-13T16_46_14.222336-5zedre0a/CsvExampleGen/examples/1/train/, split: train, id: 2), Artifact(type_name: ExamplesPath, uri: /tmp/tfx-interactive-2019-09-13T16_46_14.222336-5zedre0a/CsvExampleGen/examples/1/eval/, split: eval, id: 3)]}\n"
     ]
    },
    {
     "name": "stdout",
     "output_type": "stream",
     "text": [
      "INFO:tensorflow:Outputs: {'output': [Artifact(type_name: ExampleStatisticsPath, uri: /tmp/tfx-interactive-2019-09-13T16_46_14.222336-5zedre0a/StatisticsGen/output/2/train/, split: train, id: 0), Artifact(type_name: ExampleStatisticsPath, uri: /tmp/tfx-interactive-2019-09-13T16_46_14.222336-5zedre0a/StatisticsGen/output/2/eval/, split: eval, id: 0)]}\n"
     ]
    },
    {
     "name": "stderr",
     "output_type": "stream",
     "text": [
      "INFO:tensorflow:Outputs: {'output': [Artifact(type_name: ExampleStatisticsPath, uri: /tmp/tfx-interactive-2019-09-13T16_46_14.222336-5zedre0a/StatisticsGen/output/2/train/, split: train, id: 0), Artifact(type_name: ExampleStatisticsPath, uri: /tmp/tfx-interactive-2019-09-13T16_46_14.222336-5zedre0a/StatisticsGen/output/2/eval/, split: eval, id: 0)]}\n"
     ]
    },
    {
     "name": "stdout",
     "output_type": "stream",
     "text": [
      "INFO:tensorflow:Publishing execution id: 2\n",
      "type_id: 5\n",
      "properties {\n",
      "  key: \"component_id\"\n",
      "  value {\n",
      "    string_value: \"StatisticsGen\"\n",
      "  }\n",
      "}\n",
      "properties {\n",
      "  key: \"pipeline_name\"\n",
      "  value {\n",
      "    string_value: \"interactive-2019-09-13T16_46_14.222336\"\n",
      "  }\n",
      "}\n",
      "properties {\n",
      "  key: \"pipeline_root\"\n",
      "  value {\n",
      "    string_value: \"/tmp/tfx-interactive-2019-09-13T16_46_14.222336-5zedre0a\"\n",
      "  }\n",
      "}\n",
      "properties {\n",
      "  key: \"run_id\"\n",
      "  value {\n",
      "    string_value: \"2019-09-13T16:46:25.072102\"\n",
      "  }\n",
      "}\n",
      "properties {\n",
      "  key: \"state\"\n",
      "  value {\n",
      "    string_value: \"complete\"\n",
      "  }\n",
      "}\n",
      ", with inputs {'input_data': [Artifact(type_name: ExamplesPath, uri: /tmp/tfx-interactive-2019-09-13T16_46_14.222336-5zedre0a/CsvExampleGen/examples/1/train/, split: train, id: 2), Artifact(type_name: ExamplesPath, uri: /tmp/tfx-interactive-2019-09-13T16_46_14.222336-5zedre0a/CsvExampleGen/examples/1/eval/, split: eval, id: 3)]} and outputs {'output': [Artifact(type_name: ExampleStatisticsPath, uri: /tmp/tfx-interactive-2019-09-13T16_46_14.222336-5zedre0a/StatisticsGen/output/2/train/, split: train, id: 0), Artifact(type_name: ExampleStatisticsPath, uri: /tmp/tfx-interactive-2019-09-13T16_46_14.222336-5zedre0a/StatisticsGen/output/2/eval/, split: eval, id: 0)]}\n"
     ]
    },
    {
     "name": "stderr",
     "output_type": "stream",
     "text": [
      "INFO:tensorflow:Publishing execution id: 2\n",
      "type_id: 5\n",
      "properties {\n",
      "  key: \"component_id\"\n",
      "  value {\n",
      "    string_value: \"StatisticsGen\"\n",
      "  }\n",
      "}\n",
      "properties {\n",
      "  key: \"pipeline_name\"\n",
      "  value {\n",
      "    string_value: \"interactive-2019-09-13T16_46_14.222336\"\n",
      "  }\n",
      "}\n",
      "properties {\n",
      "  key: \"pipeline_root\"\n",
      "  value {\n",
      "    string_value: \"/tmp/tfx-interactive-2019-09-13T16_46_14.222336-5zedre0a\"\n",
      "  }\n",
      "}\n",
      "properties {\n",
      "  key: \"run_id\"\n",
      "  value {\n",
      "    string_value: \"2019-09-13T16:46:25.072102\"\n",
      "  }\n",
      "}\n",
      "properties {\n",
      "  key: \"state\"\n",
      "  value {\n",
      "    string_value: \"complete\"\n",
      "  }\n",
      "}\n",
      ", with inputs {'input_data': [Artifact(type_name: ExamplesPath, uri: /tmp/tfx-interactive-2019-09-13T16_46_14.222336-5zedre0a/CsvExampleGen/examples/1/train/, split: train, id: 2), Artifact(type_name: ExamplesPath, uri: /tmp/tfx-interactive-2019-09-13T16_46_14.222336-5zedre0a/CsvExampleGen/examples/1/eval/, split: eval, id: 3)]} and outputs {'output': [Artifact(type_name: ExampleStatisticsPath, uri: /tmp/tfx-interactive-2019-09-13T16_46_14.222336-5zedre0a/StatisticsGen/output/2/train/, split: train, id: 0), Artifact(type_name: ExampleStatisticsPath, uri: /tmp/tfx-interactive-2019-09-13T16_46_14.222336-5zedre0a/StatisticsGen/output/2/eval/, split: eval, id: 0)]}\n"
     ]
    },
    {
     "name": "stdout",
     "output_type": "stream",
     "text": [
      "INFO:tensorflow:Published execution with final outputs {'output': [Artifact(type_name: ExampleStatisticsPath, uri: /tmp/tfx-interactive-2019-09-13T16_46_14.222336-5zedre0a/StatisticsGen/output/2/train/, split: train, id: 4), Artifact(type_name: ExampleStatisticsPath, uri: /tmp/tfx-interactive-2019-09-13T16_46_14.222336-5zedre0a/StatisticsGen/output/2/eval/, split: eval, id: 5)]}\n"
     ]
    },
    {
     "name": "stderr",
     "output_type": "stream",
     "text": [
      "INFO:tensorflow:Published execution with final outputs {'output': [Artifact(type_name: ExampleStatisticsPath, uri: /tmp/tfx-interactive-2019-09-13T16_46_14.222336-5zedre0a/StatisticsGen/output/2/train/, split: train, id: 4), Artifact(type_name: ExampleStatisticsPath, uri: /tmp/tfx-interactive-2019-09-13T16_46_14.222336-5zedre0a/StatisticsGen/output/2/eval/, split: eval, id: 5)]}\n"
     ]
    },
    {
     "data": {
      "text/html": [
       "<style>\n",
       ".tfx-object.expanded {\n",
       "  padding: 4px 8px 4px 8px;\n",
       "  background: white;\n",
       "  border: 1px solid #bbbbbb;\n",
       "  box-shadow: 4px 4px 2px rgba(0,0,0,0.05);\n",
       "}\n",
       ".tfx-object, .tfx-object * {\n",
       "  font-size: 11pt;\n",
       "}\n",
       ".tfx-object > .title {\n",
       "  cursor: pointer;\n",
       "}\n",
       ".tfx-object .expansion-marker {\n",
       "  color: #999999;\n",
       "}\n",
       ".tfx-object.expanded > .title > .expansion-marker:before {\n",
       "  content: '▼';\n",
       "}\n",
       ".tfx-object.collapsed > .title > .expansion-marker:before {\n",
       "  content: '▶';\n",
       "}\n",
       ".tfx-object .class-name {\n",
       "  font-weight: bold;\n",
       "}\n",
       ".tfx-object .deemphasize {\n",
       "  opacity: 0.5;\n",
       "}\n",
       ".tfx-object.collapsed > table.attr-table {\n",
       "  display: none;\n",
       "}\n",
       ".tfx-object.expanded > table.attr-table {\n",
       "  display: block;\n",
       "}\n",
       ".tfx-object table.attr-table {\n",
       "  border: 2px solid white;\n",
       "  margin-top: 5px;\n",
       "}\n",
       ".tfx-object table.attr-table td.attr-name {\n",
       "  vertical-align: top;\n",
       "  font-weight: bold;\n",
       "}\n",
       ".tfx-object table.attr-table td.attrvalue {\n",
       "  text-align: left;\n",
       "}\n",
       "</style>\n",
       "<script>\n",
       "function toggleTfxObject(element) {\n",
       "  var objElement = element.parentElement;\n",
       "  if (objElement.classList.contains('collapsed')) {\n",
       "    objElement.classList.remove('collapsed');\n",
       "    objElement.classList.add('expanded');\n",
       "  } else {\n",
       "    objElement.classList.add('collapsed');\n",
       "    objElement.classList.remove('expanded');\n",
       "  }\n",
       "}\n",
       "</script>\n",
       "<div class=\"tfx-object expanded\"><div class = \"title\" onclick=\"toggleTfxObject(this)\"><span class=\"expansion-marker\"></span><span class=\"class-name\">ExecutionResult</span><span class=\"deemphasize\"> at 0x7fadae1254e0</span></div><table class=\"attr-table\"><tr><td class=\"attr-name\">.execution_id</td><td class = \"attrvalue\">2</td></tr><tr><td class=\"attr-name\">.component</td><td class = \"attrvalue\"><style>\n",
       ".tfx-object.expanded {\n",
       "  padding: 4px 8px 4px 8px;\n",
       "  background: white;\n",
       "  border: 1px solid #bbbbbb;\n",
       "  box-shadow: 4px 4px 2px rgba(0,0,0,0.05);\n",
       "}\n",
       ".tfx-object, .tfx-object * {\n",
       "  font-size: 11pt;\n",
       "}\n",
       ".tfx-object > .title {\n",
       "  cursor: pointer;\n",
       "}\n",
       ".tfx-object .expansion-marker {\n",
       "  color: #999999;\n",
       "}\n",
       ".tfx-object.expanded > .title > .expansion-marker:before {\n",
       "  content: '▼';\n",
       "}\n",
       ".tfx-object.collapsed > .title > .expansion-marker:before {\n",
       "  content: '▶';\n",
       "}\n",
       ".tfx-object .class-name {\n",
       "  font-weight: bold;\n",
       "}\n",
       ".tfx-object .deemphasize {\n",
       "  opacity: 0.5;\n",
       "}\n",
       ".tfx-object.collapsed > table.attr-table {\n",
       "  display: none;\n",
       "}\n",
       ".tfx-object.expanded > table.attr-table {\n",
       "  display: block;\n",
       "}\n",
       ".tfx-object table.attr-table {\n",
       "  border: 2px solid white;\n",
       "  margin-top: 5px;\n",
       "}\n",
       ".tfx-object table.attr-table td.attr-name {\n",
       "  vertical-align: top;\n",
       "  font-weight: bold;\n",
       "}\n",
       ".tfx-object table.attr-table td.attrvalue {\n",
       "  text-align: left;\n",
       "}\n",
       "</style>\n",
       "<script>\n",
       "function toggleTfxObject(element) {\n",
       "  var objElement = element.parentElement;\n",
       "  if (objElement.classList.contains('collapsed')) {\n",
       "    objElement.classList.remove('collapsed');\n",
       "    objElement.classList.add('expanded');\n",
       "  } else {\n",
       "    objElement.classList.add('collapsed');\n",
       "    objElement.classList.remove('expanded');\n",
       "  }\n",
       "}\n",
       "</script>\n",
       "<div class=\"tfx-object collapsed\"><div class = \"title\" onclick=\"toggleTfxObject(this)\"><span class=\"expansion-marker\"></span><span class=\"class-name\">StatisticsGen</span><span class=\"deemphasize\"> at 0x7fadadfada58</span></div><table class=\"attr-table\"><tr><td class=\"attr-name\">.inputs</td><td class = \"attrvalue\"><table class=\"attr-table\"><tr><td class=\"attr-name\">['input_data']</td><td class = \"attrvalue\"><style>\n",
       ".tfx-object.expanded {\n",
       "  padding: 4px 8px 4px 8px;\n",
       "  background: white;\n",
       "  border: 1px solid #bbbbbb;\n",
       "  box-shadow: 4px 4px 2px rgba(0,0,0,0.05);\n",
       "}\n",
       ".tfx-object, .tfx-object * {\n",
       "  font-size: 11pt;\n",
       "}\n",
       ".tfx-object > .title {\n",
       "  cursor: pointer;\n",
       "}\n",
       ".tfx-object .expansion-marker {\n",
       "  color: #999999;\n",
       "}\n",
       ".tfx-object.expanded > .title > .expansion-marker:before {\n",
       "  content: '▼';\n",
       "}\n",
       ".tfx-object.collapsed > .title > .expansion-marker:before {\n",
       "  content: '▶';\n",
       "}\n",
       ".tfx-object .class-name {\n",
       "  font-weight: bold;\n",
       "}\n",
       ".tfx-object .deemphasize {\n",
       "  opacity: 0.5;\n",
       "}\n",
       ".tfx-object.collapsed > table.attr-table {\n",
       "  display: none;\n",
       "}\n",
       ".tfx-object.expanded > table.attr-table {\n",
       "  display: block;\n",
       "}\n",
       ".tfx-object table.attr-table {\n",
       "  border: 2px solid white;\n",
       "  margin-top: 5px;\n",
       "}\n",
       ".tfx-object table.attr-table td.attr-name {\n",
       "  vertical-align: top;\n",
       "  font-weight: bold;\n",
       "}\n",
       ".tfx-object table.attr-table td.attrvalue {\n",
       "  text-align: left;\n",
       "}\n",
       "</style>\n",
       "<script>\n",
       "function toggleTfxObject(element) {\n",
       "  var objElement = element.parentElement;\n",
       "  if (objElement.classList.contains('collapsed')) {\n",
       "    objElement.classList.remove('collapsed');\n",
       "    objElement.classList.add('expanded');\n",
       "  } else {\n",
       "    objElement.classList.add('collapsed');\n",
       "    objElement.classList.remove('expanded');\n",
       "  }\n",
       "}\n",
       "</script>\n",
       "<div class=\"tfx-object collapsed\"><div class = \"title\" onclick=\"toggleTfxObject(this)\"><span class=\"expansion-marker\"></span><span class=\"class-name\">Channel</span> of type <span class=\"class-name\">'ExamplesPath'</span> (2 artifacts)<span class=\"deemphasize\"> at 0x7fade432c0f0</span></div><table class=\"attr-table\"><tr><td class=\"attr-name\">.type_name</td><td class = \"attrvalue\">ExamplesPath</td></tr><tr><td class=\"attr-name\">._artifacts</td><td class = \"attrvalue\"><table class=\"attr-table\"><tr><td class=\"attr-name\">[0]</td><td class = \"attrvalue\"><style>\n",
       ".tfx-object.expanded {\n",
       "  padding: 4px 8px 4px 8px;\n",
       "  background: white;\n",
       "  border: 1px solid #bbbbbb;\n",
       "  box-shadow: 4px 4px 2px rgba(0,0,0,0.05);\n",
       "}\n",
       ".tfx-object, .tfx-object * {\n",
       "  font-size: 11pt;\n",
       "}\n",
       ".tfx-object > .title {\n",
       "  cursor: pointer;\n",
       "}\n",
       ".tfx-object .expansion-marker {\n",
       "  color: #999999;\n",
       "}\n",
       ".tfx-object.expanded > .title > .expansion-marker:before {\n",
       "  content: '▼';\n",
       "}\n",
       ".tfx-object.collapsed > .title > .expansion-marker:before {\n",
       "  content: '▶';\n",
       "}\n",
       ".tfx-object .class-name {\n",
       "  font-weight: bold;\n",
       "}\n",
       ".tfx-object .deemphasize {\n",
       "  opacity: 0.5;\n",
       "}\n",
       ".tfx-object.collapsed > table.attr-table {\n",
       "  display: none;\n",
       "}\n",
       ".tfx-object.expanded > table.attr-table {\n",
       "  display: block;\n",
       "}\n",
       ".tfx-object table.attr-table {\n",
       "  border: 2px solid white;\n",
       "  margin-top: 5px;\n",
       "}\n",
       ".tfx-object table.attr-table td.attr-name {\n",
       "  vertical-align: top;\n",
       "  font-weight: bold;\n",
       "}\n",
       ".tfx-object table.attr-table td.attrvalue {\n",
       "  text-align: left;\n",
       "}\n",
       "</style>\n",
       "<script>\n",
       "function toggleTfxObject(element) {\n",
       "  var objElement = element.parentElement;\n",
       "  if (objElement.classList.contains('collapsed')) {\n",
       "    objElement.classList.remove('collapsed');\n",
       "    objElement.classList.add('expanded');\n",
       "  } else {\n",
       "    objElement.classList.add('collapsed');\n",
       "    objElement.classList.remove('expanded');\n",
       "  }\n",
       "}\n",
       "</script>\n",
       "<div class=\"tfx-object collapsed\"><div class = \"title\" onclick=\"toggleTfxObject(this)\"><span class=\"expansion-marker\"></span><span class=\"class-name\">Artifact</span> of type <span class=\"class-name\">'ExamplesPath'</span> (uri: /tmp/tfx-interactive-2019-09-13T16_46_14.222336-5zedre0a/CsvExampleGen/examples/1/train/)<span class=\"deemphasize\"> at 0x7fade432c978</span></div><table class=\"attr-table\"><tr><td class=\"attr-name\">.type_name</td><td class = \"attrvalue\">ExamplesPath</td></tr><tr><td class=\"attr-name\">.uri</td><td class = \"attrvalue\">/tmp/tfx-interactive-2019-09-13T16_46_14.222336-5zedre0a/CsvExampleGen/examples/1/train/</td></tr><tr><td class=\"attr-name\">.span</td><td class = \"attrvalue\">0</td></tr><tr><td class=\"attr-name\">.split</td><td class = \"attrvalue\">train</td></tr></table></div></td></tr><tr><td class=\"attr-name\">[1]</td><td class = \"attrvalue\"><style>\n",
       ".tfx-object.expanded {\n",
       "  padding: 4px 8px 4px 8px;\n",
       "  background: white;\n",
       "  border: 1px solid #bbbbbb;\n",
       "  box-shadow: 4px 4px 2px rgba(0,0,0,0.05);\n",
       "}\n",
       ".tfx-object, .tfx-object * {\n",
       "  font-size: 11pt;\n",
       "}\n",
       ".tfx-object > .title {\n",
       "  cursor: pointer;\n",
       "}\n",
       ".tfx-object .expansion-marker {\n",
       "  color: #999999;\n",
       "}\n",
       ".tfx-object.expanded > .title > .expansion-marker:before {\n",
       "  content: '▼';\n",
       "}\n",
       ".tfx-object.collapsed > .title > .expansion-marker:before {\n",
       "  content: '▶';\n",
       "}\n",
       ".tfx-object .class-name {\n",
       "  font-weight: bold;\n",
       "}\n",
       ".tfx-object .deemphasize {\n",
       "  opacity: 0.5;\n",
       "}\n",
       ".tfx-object.collapsed > table.attr-table {\n",
       "  display: none;\n",
       "}\n",
       ".tfx-object.expanded > table.attr-table {\n",
       "  display: block;\n",
       "}\n",
       ".tfx-object table.attr-table {\n",
       "  border: 2px solid white;\n",
       "  margin-top: 5px;\n",
       "}\n",
       ".tfx-object table.attr-table td.attr-name {\n",
       "  vertical-align: top;\n",
       "  font-weight: bold;\n",
       "}\n",
       ".tfx-object table.attr-table td.attrvalue {\n",
       "  text-align: left;\n",
       "}\n",
       "</style>\n",
       "<script>\n",
       "function toggleTfxObject(element) {\n",
       "  var objElement = element.parentElement;\n",
       "  if (objElement.classList.contains('collapsed')) {\n",
       "    objElement.classList.remove('collapsed');\n",
       "    objElement.classList.add('expanded');\n",
       "  } else {\n",
       "    objElement.classList.add('collapsed');\n",
       "    objElement.classList.remove('expanded');\n",
       "  }\n",
       "}\n",
       "</script>\n",
       "<div class=\"tfx-object collapsed\"><div class = \"title\" onclick=\"toggleTfxObject(this)\"><span class=\"expansion-marker\"></span><span class=\"class-name\">Artifact</span> of type <span class=\"class-name\">'ExamplesPath'</span> (uri: /tmp/tfx-interactive-2019-09-13T16_46_14.222336-5zedre0a/CsvExampleGen/examples/1/eval/)<span class=\"deemphasize\"> at 0x7fade432c198</span></div><table class=\"attr-table\"><tr><td class=\"attr-name\">.type_name</td><td class = \"attrvalue\">ExamplesPath</td></tr><tr><td class=\"attr-name\">.uri</td><td class = \"attrvalue\">/tmp/tfx-interactive-2019-09-13T16_46_14.222336-5zedre0a/CsvExampleGen/examples/1/eval/</td></tr><tr><td class=\"attr-name\">.span</td><td class = \"attrvalue\">0</td></tr><tr><td class=\"attr-name\">.split</td><td class = \"attrvalue\">eval</td></tr></table></div></td></tr></table></td></tr></table></div></td></tr></table></td></tr><tr><td class=\"attr-name\">.outputs</td><td class = \"attrvalue\"><table class=\"attr-table\"><tr><td class=\"attr-name\">['output']</td><td class = \"attrvalue\"><style>\n",
       ".tfx-object.expanded {\n",
       "  padding: 4px 8px 4px 8px;\n",
       "  background: white;\n",
       "  border: 1px solid #bbbbbb;\n",
       "  box-shadow: 4px 4px 2px rgba(0,0,0,0.05);\n",
       "}\n",
       ".tfx-object, .tfx-object * {\n",
       "  font-size: 11pt;\n",
       "}\n",
       ".tfx-object > .title {\n",
       "  cursor: pointer;\n",
       "}\n",
       ".tfx-object .expansion-marker {\n",
       "  color: #999999;\n",
       "}\n",
       ".tfx-object.expanded > .title > .expansion-marker:before {\n",
       "  content: '▼';\n",
       "}\n",
       ".tfx-object.collapsed > .title > .expansion-marker:before {\n",
       "  content: '▶';\n",
       "}\n",
       ".tfx-object .class-name {\n",
       "  font-weight: bold;\n",
       "}\n",
       ".tfx-object .deemphasize {\n",
       "  opacity: 0.5;\n",
       "}\n",
       ".tfx-object.collapsed > table.attr-table {\n",
       "  display: none;\n",
       "}\n",
       ".tfx-object.expanded > table.attr-table {\n",
       "  display: block;\n",
       "}\n",
       ".tfx-object table.attr-table {\n",
       "  border: 2px solid white;\n",
       "  margin-top: 5px;\n",
       "}\n",
       ".tfx-object table.attr-table td.attr-name {\n",
       "  vertical-align: top;\n",
       "  font-weight: bold;\n",
       "}\n",
       ".tfx-object table.attr-table td.attrvalue {\n",
       "  text-align: left;\n",
       "}\n",
       "</style>\n",
       "<script>\n",
       "function toggleTfxObject(element) {\n",
       "  var objElement = element.parentElement;\n",
       "  if (objElement.classList.contains('collapsed')) {\n",
       "    objElement.classList.remove('collapsed');\n",
       "    objElement.classList.add('expanded');\n",
       "  } else {\n",
       "    objElement.classList.add('collapsed');\n",
       "    objElement.classList.remove('expanded');\n",
       "  }\n",
       "}\n",
       "</script>\n",
       "<div class=\"tfx-object collapsed\"><div class = \"title\" onclick=\"toggleTfxObject(this)\"><span class=\"expansion-marker\"></span><span class=\"class-name\">Channel</span> of type <span class=\"class-name\">'ExampleStatisticsPath'</span> (2 artifacts)<span class=\"deemphasize\"> at 0x7fadadfad9b0</span></div><table class=\"attr-table\"><tr><td class=\"attr-name\">.type_name</td><td class = \"attrvalue\">ExampleStatisticsPath</td></tr><tr><td class=\"attr-name\">._artifacts</td><td class = \"attrvalue\"><table class=\"attr-table\"><tr><td class=\"attr-name\">[0]</td><td class = \"attrvalue\"><style>\n",
       ".tfx-object.expanded {\n",
       "  padding: 4px 8px 4px 8px;\n",
       "  background: white;\n",
       "  border: 1px solid #bbbbbb;\n",
       "  box-shadow: 4px 4px 2px rgba(0,0,0,0.05);\n",
       "}\n",
       ".tfx-object, .tfx-object * {\n",
       "  font-size: 11pt;\n",
       "}\n",
       ".tfx-object > .title {\n",
       "  cursor: pointer;\n",
       "}\n",
       ".tfx-object .expansion-marker {\n",
       "  color: #999999;\n",
       "}\n",
       ".tfx-object.expanded > .title > .expansion-marker:before {\n",
       "  content: '▼';\n",
       "}\n",
       ".tfx-object.collapsed > .title > .expansion-marker:before {\n",
       "  content: '▶';\n",
       "}\n",
       ".tfx-object .class-name {\n",
       "  font-weight: bold;\n",
       "}\n",
       ".tfx-object .deemphasize {\n",
       "  opacity: 0.5;\n",
       "}\n",
       ".tfx-object.collapsed > table.attr-table {\n",
       "  display: none;\n",
       "}\n",
       ".tfx-object.expanded > table.attr-table {\n",
       "  display: block;\n",
       "}\n",
       ".tfx-object table.attr-table {\n",
       "  border: 2px solid white;\n",
       "  margin-top: 5px;\n",
       "}\n",
       ".tfx-object table.attr-table td.attr-name {\n",
       "  vertical-align: top;\n",
       "  font-weight: bold;\n",
       "}\n",
       ".tfx-object table.attr-table td.attrvalue {\n",
       "  text-align: left;\n",
       "}\n",
       "</style>\n",
       "<script>\n",
       "function toggleTfxObject(element) {\n",
       "  var objElement = element.parentElement;\n",
       "  if (objElement.classList.contains('collapsed')) {\n",
       "    objElement.classList.remove('collapsed');\n",
       "    objElement.classList.add('expanded');\n",
       "  } else {\n",
       "    objElement.classList.add('collapsed');\n",
       "    objElement.classList.remove('expanded');\n",
       "  }\n",
       "}\n",
       "</script>\n",
       "<div class=\"tfx-object collapsed\"><div class = \"title\" onclick=\"toggleTfxObject(this)\"><span class=\"expansion-marker\"></span><span class=\"class-name\">Artifact</span> of type <span class=\"class-name\">'ExampleStatisticsPath'</span> (uri: /tmp/tfx-interactive-2019-09-13T16_46_14.222336-5zedre0a/StatisticsGen/output/2/train/)<span class=\"deemphasize\"> at 0x7fadadfade80</span></div><table class=\"attr-table\"><tr><td class=\"attr-name\">.type_name</td><td class = \"attrvalue\">ExampleStatisticsPath</td></tr><tr><td class=\"attr-name\">.uri</td><td class = \"attrvalue\">/tmp/tfx-interactive-2019-09-13T16_46_14.222336-5zedre0a/StatisticsGen/output/2/train/</td></tr><tr><td class=\"attr-name\">.span</td><td class = \"attrvalue\">0</td></tr><tr><td class=\"attr-name\">.split</td><td class = \"attrvalue\">train</td></tr></table></div></td></tr><tr><td class=\"attr-name\">[1]</td><td class = \"attrvalue\"><style>\n",
       ".tfx-object.expanded {\n",
       "  padding: 4px 8px 4px 8px;\n",
       "  background: white;\n",
       "  border: 1px solid #bbbbbb;\n",
       "  box-shadow: 4px 4px 2px rgba(0,0,0,0.05);\n",
       "}\n",
       ".tfx-object, .tfx-object * {\n",
       "  font-size: 11pt;\n",
       "}\n",
       ".tfx-object > .title {\n",
       "  cursor: pointer;\n",
       "}\n",
       ".tfx-object .expansion-marker {\n",
       "  color: #999999;\n",
       "}\n",
       ".tfx-object.expanded > .title > .expansion-marker:before {\n",
       "  content: '▼';\n",
       "}\n",
       ".tfx-object.collapsed > .title > .expansion-marker:before {\n",
       "  content: '▶';\n",
       "}\n",
       ".tfx-object .class-name {\n",
       "  font-weight: bold;\n",
       "}\n",
       ".tfx-object .deemphasize {\n",
       "  opacity: 0.5;\n",
       "}\n",
       ".tfx-object.collapsed > table.attr-table {\n",
       "  display: none;\n",
       "}\n",
       ".tfx-object.expanded > table.attr-table {\n",
       "  display: block;\n",
       "}\n",
       ".tfx-object table.attr-table {\n",
       "  border: 2px solid white;\n",
       "  margin-top: 5px;\n",
       "}\n",
       ".tfx-object table.attr-table td.attr-name {\n",
       "  vertical-align: top;\n",
       "  font-weight: bold;\n",
       "}\n",
       ".tfx-object table.attr-table td.attrvalue {\n",
       "  text-align: left;\n",
       "}\n",
       "</style>\n",
       "<script>\n",
       "function toggleTfxObject(element) {\n",
       "  var objElement = element.parentElement;\n",
       "  if (objElement.classList.contains('collapsed')) {\n",
       "    objElement.classList.remove('collapsed');\n",
       "    objElement.classList.add('expanded');\n",
       "  } else {\n",
       "    objElement.classList.add('collapsed');\n",
       "    objElement.classList.remove('expanded');\n",
       "  }\n",
       "}\n",
       "</script>\n",
       "<div class=\"tfx-object collapsed\"><div class = \"title\" onclick=\"toggleTfxObject(this)\"><span class=\"expansion-marker\"></span><span class=\"class-name\">Artifact</span> of type <span class=\"class-name\">'ExampleStatisticsPath'</span> (uri: /tmp/tfx-interactive-2019-09-13T16_46_14.222336-5zedre0a/StatisticsGen/output/2/eval/)<span class=\"deemphasize\"> at 0x7fadadfad908</span></div><table class=\"attr-table\"><tr><td class=\"attr-name\">.type_name</td><td class = \"attrvalue\">ExampleStatisticsPath</td></tr><tr><td class=\"attr-name\">.uri</td><td class = \"attrvalue\">/tmp/tfx-interactive-2019-09-13T16_46_14.222336-5zedre0a/StatisticsGen/output/2/eval/</td></tr><tr><td class=\"attr-name\">.span</td><td class = \"attrvalue\">0</td></tr><tr><td class=\"attr-name\">.split</td><td class = \"attrvalue\">eval</td></tr></table></div></td></tr></table></td></tr></table></div></td></tr></table></td></tr><tr><td class=\"attr-name\">.exec_properties</td><td class = \"attrvalue\">{}</td></tr></table></div></td></tr><tr><td class=\"attr-name\">.component.inputs</td><td class = \"attrvalue\"><table class=\"attr-table\"><tr><td class=\"attr-name\">['input_data']</td><td class = \"attrvalue\"><style>\n",
       ".tfx-object.expanded {\n",
       "  padding: 4px 8px 4px 8px;\n",
       "  background: white;\n",
       "  border: 1px solid #bbbbbb;\n",
       "  box-shadow: 4px 4px 2px rgba(0,0,0,0.05);\n",
       "}\n",
       ".tfx-object, .tfx-object * {\n",
       "  font-size: 11pt;\n",
       "}\n",
       ".tfx-object > .title {\n",
       "  cursor: pointer;\n",
       "}\n",
       ".tfx-object .expansion-marker {\n",
       "  color: #999999;\n",
       "}\n",
       ".tfx-object.expanded > .title > .expansion-marker:before {\n",
       "  content: '▼';\n",
       "}\n",
       ".tfx-object.collapsed > .title > .expansion-marker:before {\n",
       "  content: '▶';\n",
       "}\n",
       ".tfx-object .class-name {\n",
       "  font-weight: bold;\n",
       "}\n",
       ".tfx-object .deemphasize {\n",
       "  opacity: 0.5;\n",
       "}\n",
       ".tfx-object.collapsed > table.attr-table {\n",
       "  display: none;\n",
       "}\n",
       ".tfx-object.expanded > table.attr-table {\n",
       "  display: block;\n",
       "}\n",
       ".tfx-object table.attr-table {\n",
       "  border: 2px solid white;\n",
       "  margin-top: 5px;\n",
       "}\n",
       ".tfx-object table.attr-table td.attr-name {\n",
       "  vertical-align: top;\n",
       "  font-weight: bold;\n",
       "}\n",
       ".tfx-object table.attr-table td.attrvalue {\n",
       "  text-align: left;\n",
       "}\n",
       "</style>\n",
       "<script>\n",
       "function toggleTfxObject(element) {\n",
       "  var objElement = element.parentElement;\n",
       "  if (objElement.classList.contains('collapsed')) {\n",
       "    objElement.classList.remove('collapsed');\n",
       "    objElement.classList.add('expanded');\n",
       "  } else {\n",
       "    objElement.classList.add('collapsed');\n",
       "    objElement.classList.remove('expanded');\n",
       "  }\n",
       "}\n",
       "</script>\n",
       "<div class=\"tfx-object collapsed\"><div class = \"title\" onclick=\"toggleTfxObject(this)\"><span class=\"expansion-marker\"></span><span class=\"class-name\">Channel</span> of type <span class=\"class-name\">'ExamplesPath'</span> (2 artifacts)<span class=\"deemphasize\"> at 0x7fade432c0f0</span></div><table class=\"attr-table\"><tr><td class=\"attr-name\">.type_name</td><td class = \"attrvalue\">ExamplesPath</td></tr><tr><td class=\"attr-name\">._artifacts</td><td class = \"attrvalue\"><table class=\"attr-table\"><tr><td class=\"attr-name\">[0]</td><td class = \"attrvalue\"><style>\n",
       ".tfx-object.expanded {\n",
       "  padding: 4px 8px 4px 8px;\n",
       "  background: white;\n",
       "  border: 1px solid #bbbbbb;\n",
       "  box-shadow: 4px 4px 2px rgba(0,0,0,0.05);\n",
       "}\n",
       ".tfx-object, .tfx-object * {\n",
       "  font-size: 11pt;\n",
       "}\n",
       ".tfx-object > .title {\n",
       "  cursor: pointer;\n",
       "}\n",
       ".tfx-object .expansion-marker {\n",
       "  color: #999999;\n",
       "}\n",
       ".tfx-object.expanded > .title > .expansion-marker:before {\n",
       "  content: '▼';\n",
       "}\n",
       ".tfx-object.collapsed > .title > .expansion-marker:before {\n",
       "  content: '▶';\n",
       "}\n",
       ".tfx-object .class-name {\n",
       "  font-weight: bold;\n",
       "}\n",
       ".tfx-object .deemphasize {\n",
       "  opacity: 0.5;\n",
       "}\n",
       ".tfx-object.collapsed > table.attr-table {\n",
       "  display: none;\n",
       "}\n",
       ".tfx-object.expanded > table.attr-table {\n",
       "  display: block;\n",
       "}\n",
       ".tfx-object table.attr-table {\n",
       "  border: 2px solid white;\n",
       "  margin-top: 5px;\n",
       "}\n",
       ".tfx-object table.attr-table td.attr-name {\n",
       "  vertical-align: top;\n",
       "  font-weight: bold;\n",
       "}\n",
       ".tfx-object table.attr-table td.attrvalue {\n",
       "  text-align: left;\n",
       "}\n",
       "</style>\n",
       "<script>\n",
       "function toggleTfxObject(element) {\n",
       "  var objElement = element.parentElement;\n",
       "  if (objElement.classList.contains('collapsed')) {\n",
       "    objElement.classList.remove('collapsed');\n",
       "    objElement.classList.add('expanded');\n",
       "  } else {\n",
       "    objElement.classList.add('collapsed');\n",
       "    objElement.classList.remove('expanded');\n",
       "  }\n",
       "}\n",
       "</script>\n",
       "<div class=\"tfx-object collapsed\"><div class = \"title\" onclick=\"toggleTfxObject(this)\"><span class=\"expansion-marker\"></span><span class=\"class-name\">Artifact</span> of type <span class=\"class-name\">'ExamplesPath'</span> (uri: /tmp/tfx-interactive-2019-09-13T16_46_14.222336-5zedre0a/CsvExampleGen/examples/1/train/)<span class=\"deemphasize\"> at 0x7fade432c978</span></div><table class=\"attr-table\"><tr><td class=\"attr-name\">.type_name</td><td class = \"attrvalue\">ExamplesPath</td></tr><tr><td class=\"attr-name\">.uri</td><td class = \"attrvalue\">/tmp/tfx-interactive-2019-09-13T16_46_14.222336-5zedre0a/CsvExampleGen/examples/1/train/</td></tr><tr><td class=\"attr-name\">.span</td><td class = \"attrvalue\">0</td></tr><tr><td class=\"attr-name\">.split</td><td class = \"attrvalue\">train</td></tr></table></div></td></tr><tr><td class=\"attr-name\">[1]</td><td class = \"attrvalue\"><style>\n",
       ".tfx-object.expanded {\n",
       "  padding: 4px 8px 4px 8px;\n",
       "  background: white;\n",
       "  border: 1px solid #bbbbbb;\n",
       "  box-shadow: 4px 4px 2px rgba(0,0,0,0.05);\n",
       "}\n",
       ".tfx-object, .tfx-object * {\n",
       "  font-size: 11pt;\n",
       "}\n",
       ".tfx-object > .title {\n",
       "  cursor: pointer;\n",
       "}\n",
       ".tfx-object .expansion-marker {\n",
       "  color: #999999;\n",
       "}\n",
       ".tfx-object.expanded > .title > .expansion-marker:before {\n",
       "  content: '▼';\n",
       "}\n",
       ".tfx-object.collapsed > .title > .expansion-marker:before {\n",
       "  content: '▶';\n",
       "}\n",
       ".tfx-object .class-name {\n",
       "  font-weight: bold;\n",
       "}\n",
       ".tfx-object .deemphasize {\n",
       "  opacity: 0.5;\n",
       "}\n",
       ".tfx-object.collapsed > table.attr-table {\n",
       "  display: none;\n",
       "}\n",
       ".tfx-object.expanded > table.attr-table {\n",
       "  display: block;\n",
       "}\n",
       ".tfx-object table.attr-table {\n",
       "  border: 2px solid white;\n",
       "  margin-top: 5px;\n",
       "}\n",
       ".tfx-object table.attr-table td.attr-name {\n",
       "  vertical-align: top;\n",
       "  font-weight: bold;\n",
       "}\n",
       ".tfx-object table.attr-table td.attrvalue {\n",
       "  text-align: left;\n",
       "}\n",
       "</style>\n",
       "<script>\n",
       "function toggleTfxObject(element) {\n",
       "  var objElement = element.parentElement;\n",
       "  if (objElement.classList.contains('collapsed')) {\n",
       "    objElement.classList.remove('collapsed');\n",
       "    objElement.classList.add('expanded');\n",
       "  } else {\n",
       "    objElement.classList.add('collapsed');\n",
       "    objElement.classList.remove('expanded');\n",
       "  }\n",
       "}\n",
       "</script>\n",
       "<div class=\"tfx-object collapsed\"><div class = \"title\" onclick=\"toggleTfxObject(this)\"><span class=\"expansion-marker\"></span><span class=\"class-name\">Artifact</span> of type <span class=\"class-name\">'ExamplesPath'</span> (uri: /tmp/tfx-interactive-2019-09-13T16_46_14.222336-5zedre0a/CsvExampleGen/examples/1/eval/)<span class=\"deemphasize\"> at 0x7fade432c198</span></div><table class=\"attr-table\"><tr><td class=\"attr-name\">.type_name</td><td class = \"attrvalue\">ExamplesPath</td></tr><tr><td class=\"attr-name\">.uri</td><td class = \"attrvalue\">/tmp/tfx-interactive-2019-09-13T16_46_14.222336-5zedre0a/CsvExampleGen/examples/1/eval/</td></tr><tr><td class=\"attr-name\">.span</td><td class = \"attrvalue\">0</td></tr><tr><td class=\"attr-name\">.split</td><td class = \"attrvalue\">eval</td></tr></table></div></td></tr></table></td></tr></table></div></td></tr></table></td></tr><tr><td class=\"attr-name\">.component.outputs</td><td class = \"attrvalue\"><table class=\"attr-table\"><tr><td class=\"attr-name\">['output']</td><td class = \"attrvalue\"><style>\n",
       ".tfx-object.expanded {\n",
       "  padding: 4px 8px 4px 8px;\n",
       "  background: white;\n",
       "  border: 1px solid #bbbbbb;\n",
       "  box-shadow: 4px 4px 2px rgba(0,0,0,0.05);\n",
       "}\n",
       ".tfx-object, .tfx-object * {\n",
       "  font-size: 11pt;\n",
       "}\n",
       ".tfx-object > .title {\n",
       "  cursor: pointer;\n",
       "}\n",
       ".tfx-object .expansion-marker {\n",
       "  color: #999999;\n",
       "}\n",
       ".tfx-object.expanded > .title > .expansion-marker:before {\n",
       "  content: '▼';\n",
       "}\n",
       ".tfx-object.collapsed > .title > .expansion-marker:before {\n",
       "  content: '▶';\n",
       "}\n",
       ".tfx-object .class-name {\n",
       "  font-weight: bold;\n",
       "}\n",
       ".tfx-object .deemphasize {\n",
       "  opacity: 0.5;\n",
       "}\n",
       ".tfx-object.collapsed > table.attr-table {\n",
       "  display: none;\n",
       "}\n",
       ".tfx-object.expanded > table.attr-table {\n",
       "  display: block;\n",
       "}\n",
       ".tfx-object table.attr-table {\n",
       "  border: 2px solid white;\n",
       "  margin-top: 5px;\n",
       "}\n",
       ".tfx-object table.attr-table td.attr-name {\n",
       "  vertical-align: top;\n",
       "  font-weight: bold;\n",
       "}\n",
       ".tfx-object table.attr-table td.attrvalue {\n",
       "  text-align: left;\n",
       "}\n",
       "</style>\n",
       "<script>\n",
       "function toggleTfxObject(element) {\n",
       "  var objElement = element.parentElement;\n",
       "  if (objElement.classList.contains('collapsed')) {\n",
       "    objElement.classList.remove('collapsed');\n",
       "    objElement.classList.add('expanded');\n",
       "  } else {\n",
       "    objElement.classList.add('collapsed');\n",
       "    objElement.classList.remove('expanded');\n",
       "  }\n",
       "}\n",
       "</script>\n",
       "<div class=\"tfx-object collapsed\"><div class = \"title\" onclick=\"toggleTfxObject(this)\"><span class=\"expansion-marker\"></span><span class=\"class-name\">Channel</span> of type <span class=\"class-name\">'ExampleStatisticsPath'</span> (2 artifacts)<span class=\"deemphasize\"> at 0x7fadadfad9b0</span></div><table class=\"attr-table\"><tr><td class=\"attr-name\">.type_name</td><td class = \"attrvalue\">ExampleStatisticsPath</td></tr><tr><td class=\"attr-name\">._artifacts</td><td class = \"attrvalue\"><table class=\"attr-table\"><tr><td class=\"attr-name\">[0]</td><td class = \"attrvalue\"><style>\n",
       ".tfx-object.expanded {\n",
       "  padding: 4px 8px 4px 8px;\n",
       "  background: white;\n",
       "  border: 1px solid #bbbbbb;\n",
       "  box-shadow: 4px 4px 2px rgba(0,0,0,0.05);\n",
       "}\n",
       ".tfx-object, .tfx-object * {\n",
       "  font-size: 11pt;\n",
       "}\n",
       ".tfx-object > .title {\n",
       "  cursor: pointer;\n",
       "}\n",
       ".tfx-object .expansion-marker {\n",
       "  color: #999999;\n",
       "}\n",
       ".tfx-object.expanded > .title > .expansion-marker:before {\n",
       "  content: '▼';\n",
       "}\n",
       ".tfx-object.collapsed > .title > .expansion-marker:before {\n",
       "  content: '▶';\n",
       "}\n",
       ".tfx-object .class-name {\n",
       "  font-weight: bold;\n",
       "}\n",
       ".tfx-object .deemphasize {\n",
       "  opacity: 0.5;\n",
       "}\n",
       ".tfx-object.collapsed > table.attr-table {\n",
       "  display: none;\n",
       "}\n",
       ".tfx-object.expanded > table.attr-table {\n",
       "  display: block;\n",
       "}\n",
       ".tfx-object table.attr-table {\n",
       "  border: 2px solid white;\n",
       "  margin-top: 5px;\n",
       "}\n",
       ".tfx-object table.attr-table td.attr-name {\n",
       "  vertical-align: top;\n",
       "  font-weight: bold;\n",
       "}\n",
       ".tfx-object table.attr-table td.attrvalue {\n",
       "  text-align: left;\n",
       "}\n",
       "</style>\n",
       "<script>\n",
       "function toggleTfxObject(element) {\n",
       "  var objElement = element.parentElement;\n",
       "  if (objElement.classList.contains('collapsed')) {\n",
       "    objElement.classList.remove('collapsed');\n",
       "    objElement.classList.add('expanded');\n",
       "  } else {\n",
       "    objElement.classList.add('collapsed');\n",
       "    objElement.classList.remove('expanded');\n",
       "  }\n",
       "}\n",
       "</script>\n",
       "<div class=\"tfx-object collapsed\"><div class = \"title\" onclick=\"toggleTfxObject(this)\"><span class=\"expansion-marker\"></span><span class=\"class-name\">Artifact</span> of type <span class=\"class-name\">'ExampleStatisticsPath'</span> (uri: /tmp/tfx-interactive-2019-09-13T16_46_14.222336-5zedre0a/StatisticsGen/output/2/train/)<span class=\"deemphasize\"> at 0x7fadadfade80</span></div><table class=\"attr-table\"><tr><td class=\"attr-name\">.type_name</td><td class = \"attrvalue\">ExampleStatisticsPath</td></tr><tr><td class=\"attr-name\">.uri</td><td class = \"attrvalue\">/tmp/tfx-interactive-2019-09-13T16_46_14.222336-5zedre0a/StatisticsGen/output/2/train/</td></tr><tr><td class=\"attr-name\">.span</td><td class = \"attrvalue\">0</td></tr><tr><td class=\"attr-name\">.split</td><td class = \"attrvalue\">train</td></tr></table></div></td></tr><tr><td class=\"attr-name\">[1]</td><td class = \"attrvalue\"><style>\n",
       ".tfx-object.expanded {\n",
       "  padding: 4px 8px 4px 8px;\n",
       "  background: white;\n",
       "  border: 1px solid #bbbbbb;\n",
       "  box-shadow: 4px 4px 2px rgba(0,0,0,0.05);\n",
       "}\n",
       ".tfx-object, .tfx-object * {\n",
       "  font-size: 11pt;\n",
       "}\n",
       ".tfx-object > .title {\n",
       "  cursor: pointer;\n",
       "}\n",
       ".tfx-object .expansion-marker {\n",
       "  color: #999999;\n",
       "}\n",
       ".tfx-object.expanded > .title > .expansion-marker:before {\n",
       "  content: '▼';\n",
       "}\n",
       ".tfx-object.collapsed > .title > .expansion-marker:before {\n",
       "  content: '▶';\n",
       "}\n",
       ".tfx-object .class-name {\n",
       "  font-weight: bold;\n",
       "}\n",
       ".tfx-object .deemphasize {\n",
       "  opacity: 0.5;\n",
       "}\n",
       ".tfx-object.collapsed > table.attr-table {\n",
       "  display: none;\n",
       "}\n",
       ".tfx-object.expanded > table.attr-table {\n",
       "  display: block;\n",
       "}\n",
       ".tfx-object table.attr-table {\n",
       "  border: 2px solid white;\n",
       "  margin-top: 5px;\n",
       "}\n",
       ".tfx-object table.attr-table td.attr-name {\n",
       "  vertical-align: top;\n",
       "  font-weight: bold;\n",
       "}\n",
       ".tfx-object table.attr-table td.attrvalue {\n",
       "  text-align: left;\n",
       "}\n",
       "</style>\n",
       "<script>\n",
       "function toggleTfxObject(element) {\n",
       "  var objElement = element.parentElement;\n",
       "  if (objElement.classList.contains('collapsed')) {\n",
       "    objElement.classList.remove('collapsed');\n",
       "    objElement.classList.add('expanded');\n",
       "  } else {\n",
       "    objElement.classList.add('collapsed');\n",
       "    objElement.classList.remove('expanded');\n",
       "  }\n",
       "}\n",
       "</script>\n",
       "<div class=\"tfx-object collapsed\"><div class = \"title\" onclick=\"toggleTfxObject(this)\"><span class=\"expansion-marker\"></span><span class=\"class-name\">Artifact</span> of type <span class=\"class-name\">'ExampleStatisticsPath'</span> (uri: /tmp/tfx-interactive-2019-09-13T16_46_14.222336-5zedre0a/StatisticsGen/output/2/eval/)<span class=\"deemphasize\"> at 0x7fadadfad908</span></div><table class=\"attr-table\"><tr><td class=\"attr-name\">.type_name</td><td class = \"attrvalue\">ExampleStatisticsPath</td></tr><tr><td class=\"attr-name\">.uri</td><td class = \"attrvalue\">/tmp/tfx-interactive-2019-09-13T16_46_14.222336-5zedre0a/StatisticsGen/output/2/eval/</td></tr><tr><td class=\"attr-name\">.span</td><td class = \"attrvalue\">0</td></tr><tr><td class=\"attr-name\">.split</td><td class = \"attrvalue\">eval</td></tr></table></div></td></tr></table></td></tr></table></div></td></tr></table></td></tr></table></div>"
      ],
      "text/plain": [
       "ExecutionResult(\n",
       "    component_id: StatisticsGen\n",
       "    execution_id: 2\n",
       "    outputs:\n",
       "        output: Channel(\n",
       "            type_name: ExampleStatisticsPath\n",
       "            artifacts: [Artifact(type_name: ExampleStatisticsPath, uri: /tmp/tfx-interactive-2019-09-13T16_46_14.222336-5zedre0a/StatisticsGen/output/2/train/, split: train, id: 4)\n",
       "            Artifact(type_name: ExampleStatisticsPath, uri: /tmp/tfx-interactive-2019-09-13T16_46_14.222336-5zedre0a/StatisticsGen/output/2/eval/, split: eval, id: 5)]\n",
       "        ))"
      ]
     },
     "execution_count": 6,
     "metadata": {},
     "output_type": "execute_result"
    }
   ],
   "source": [
    "# Computes statistics over data for visualization and example validation.\n",
    "statistics_gen = StatisticsGen(\n",
    "    input_data=example_gen.outputs['examples'])\n",
    "context.run(statistics_gen)"
   ]
  },
  {
   "cell_type": "markdown",
   "metadata": {
    "colab_type": "text",
    "id": "HLI6cb_5WugZ"
   },
   "source": [
    "#### Import TFDV and visualize the statistics result"
   ]
  },
  {
   "cell_type": "code",
   "execution_count": 7,
   "metadata": {
    "colab": {},
    "colab_type": "code",
    "id": "tLjXy7K6Tp_G"
   },
   "outputs": [],
   "source": [
    "# Import TFDV and get the train statistics path.\n",
    "if check_ipython():\n",
    "  import tensorflow_data_validation as tfdv\n",
    "  from tfx.types.artifact_utils import get_split_uri\n",
    "  \n",
    "  artifact_list = statistics_gen.outputs['output'].get()\n",
    "  train_artifact_uri = get_split_uri(artifact_list, 'train')\n",
    "  train_stats_path = os.path.join(train_artifact_uri, 'stats_tfrecord')"
   ]
  },
  {
   "cell_type": "code",
   "execution_count": 8,
   "metadata": {
    "colab": {},
    "colab_type": "code",
    "id": "bKicTZkPTUY8"
   },
   "outputs": [
    {
     "name": "stdout",
     "output_type": "stream",
     "text": [
      "WARNING:tensorflow:From /usr/local/google/home/joeyounglee/git-repos/tfx_oss.git/tfx/examples/chicago_taxi_pipeline/taxi_pipeline/local/lib/python3.6/site-packages/tensorflow_data_validation/utils/stats_gen_lib.py:357: tf_record_iterator (from tensorflow.python.lib.io.tf_record) is deprecated and will be removed in a future version.\n",
      "Instructions for updating:\n",
      "Use eager execution and: \n",
      "`tf.data.TFRecordDataset(path)`\n"
     ]
    },
    {
     "name": "stderr",
     "output_type": "stream",
     "text": [
      "WARNING:tensorflow:From /usr/local/google/home/joeyounglee/git-repos/tfx_oss.git/tfx/examples/chicago_taxi_pipeline/taxi_pipeline/local/lib/python3.6/site-packages/tensorflow_data_validation/utils/stats_gen_lib.py:357: tf_record_iterator (from tensorflow.python.lib.io.tf_record) is deprecated and will be removed in a future version.\n",
      "Instructions for updating:\n",
      "Use eager execution and: \n",
      "`tf.data.TFRecordDataset(path)`\n"
     ]
    },
    {
     "data": {
      "text/html": [
       "<iframe id='facets-iframe' width=\"100%\" height=\"500px\"></iframe>\n",
       "        <script>\n",
       "        facets_iframe = document.getElementById('facets-iframe');\n",
       "        facets_html = '<link rel=\"import\" href=\"https://raw.githubusercontent.com/PAIR-code/facets/master/facets-dist/facets-jupyter.html\"><facets-overview proto-input=\"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\"></facets-overview>';\n",
       "        facets_iframe.srcdoc = facets_html;\n",
       "         facets_iframe.id = \"\";\n",
       "         setTimeout(() => {\n",
       "           facets_iframe.setAttribute('height', facets_iframe.contentWindow.document.body.offsetHeight + 'px')\n",
       "         }, 1500)\n",
       "         </script>"
      ],
      "text/plain": [
       "<IPython.core.display.HTML object>"
      ]
     },
     "metadata": {},
     "output_type": "display_data"
    }
   ],
   "source": [
    "# Load statistics and visualize training data stats.\n",
    "if check_ipython():\n",
    "  train_stats = tfdv.load_statistics(train_stats_path)\n",
    "  tfdv.visualize_statistics(train_stats)"
   ]
  },
  {
   "cell_type": "markdown",
   "metadata": {
    "colab_type": "text",
    "id": "HLKLTO9Nk60p"
   },
   "source": [
    "### SchemaGen (using Tensorflow Data Validation)\n",
    "`SchemaGen` generates a schema for your data based on computed statistics. This component also uses the [Tensorflow Data Validation](https://www.tensorflow.org/tfx/data_validation/get_started) library."
   ]
  },
  {
   "cell_type": "markdown",
   "metadata": {
    "colab_type": "text",
    "id": "L0xvulenXSK3"
   },
   "source": [
    "#### Run TFDV schema inference using the SchemaGen component"
   ]
  },
  {
   "cell_type": "code",
   "execution_count": 9,
   "metadata": {
    "colab": {},
    "colab_type": "code",
    "id": "ygQvZ6hsiQ_J"
   },
   "outputs": [
    {
     "name": "stdout",
     "output_type": "stream",
     "text": [
      "INFO:tensorflow:Run driver for SchemaGen\n"
     ]
    },
    {
     "name": "stderr",
     "output_type": "stream",
     "text": [
      "INFO:tensorflow:Run driver for SchemaGen\n"
     ]
    },
    {
     "name": "stdout",
     "output_type": "stream",
     "text": [
      "INFO:tensorflow:Created run context interactive-2019-09-13T16_46_14.222336.2019-09-13T16:46:34.400867.\n"
     ]
    },
    {
     "name": "stderr",
     "output_type": "stream",
     "text": [
      "INFO:tensorflow:Created run context interactive-2019-09-13T16_46_14.222336.2019-09-13T16:46:34.400867.\n"
     ]
    },
    {
     "name": "stdout",
     "output_type": "stream",
     "text": [
      "INFO:tensorflow:ID of run context interactive-2019-09-13T16_46_14.222336.2019-09-13T16:46:34.400867 is 3.\n"
     ]
    },
    {
     "name": "stderr",
     "output_type": "stream",
     "text": [
      "INFO:tensorflow:ID of run context interactive-2019-09-13T16_46_14.222336.2019-09-13T16:46:34.400867 is 3.\n"
     ]
    },
    {
     "name": "stdout",
     "output_type": "stream",
     "text": [
      "INFO:tensorflow:Resolved input artifacts are: {'stats': [Artifact(type_name: ExampleStatisticsPath, uri: /tmp/tfx-interactive-2019-09-13T16_46_14.222336-5zedre0a/StatisticsGen/output/2/train/, split: train, id: 4), Artifact(type_name: ExampleStatisticsPath, uri: /tmp/tfx-interactive-2019-09-13T16_46_14.222336-5zedre0a/StatisticsGen/output/2/eval/, split: eval, id: 5)]}\n"
     ]
    },
    {
     "name": "stderr",
     "output_type": "stream",
     "text": [
      "INFO:tensorflow:Resolved input artifacts are: {'stats': [Artifact(type_name: ExampleStatisticsPath, uri: /tmp/tfx-interactive-2019-09-13T16_46_14.222336-5zedre0a/StatisticsGen/output/2/train/, split: train, id: 4), Artifact(type_name: ExampleStatisticsPath, uri: /tmp/tfx-interactive-2019-09-13T16_46_14.222336-5zedre0a/StatisticsGen/output/2/eval/, split: eval, id: 5)]}\n"
     ]
    },
    {
     "name": "stdout",
     "output_type": "stream",
     "text": [
      "INFO:tensorflow:Prepared EXECUTION:\n",
      " type_id: 7\n",
      "properties {\n",
      "  key: \"component_id\"\n",
      "  value {\n",
      "    string_value: \"SchemaGen\"\n",
      "  }\n",
      "}\n",
      "properties {\n",
      "  key: \"infer_feature_shape\"\n",
      "  value {\n",
      "    string_value: \"False\"\n",
      "  }\n",
      "}\n",
      "properties {\n",
      "  key: \"pipeline_name\"\n",
      "  value {\n",
      "    string_value: \"interactive-2019-09-13T16_46_14.222336\"\n",
      "  }\n",
      "}\n",
      "properties {\n",
      "  key: \"pipeline_root\"\n",
      "  value {\n",
      "    string_value: \"/tmp/tfx-interactive-2019-09-13T16_46_14.222336-5zedre0a\"\n",
      "  }\n",
      "}\n",
      "properties {\n",
      "  key: \"run_id\"\n",
      "  value {\n",
      "    string_value: \"2019-09-13T16:46:34.400867\"\n",
      "  }\n",
      "}\n",
      "properties {\n",
      "  key: \"state\"\n",
      "  value {\n",
      "    string_value: \"new\"\n",
      "  }\n",
      "}\n",
      "\n"
     ]
    },
    {
     "name": "stderr",
     "output_type": "stream",
     "text": [
      "INFO:tensorflow:Prepared EXECUTION:\n",
      " type_id: 7\n",
      "properties {\n",
      "  key: \"component_id\"\n",
      "  value {\n",
      "    string_value: \"SchemaGen\"\n",
      "  }\n",
      "}\n",
      "properties {\n",
      "  key: \"infer_feature_shape\"\n",
      "  value {\n",
      "    string_value: \"False\"\n",
      "  }\n",
      "}\n",
      "properties {\n",
      "  key: \"pipeline_name\"\n",
      "  value {\n",
      "    string_value: \"interactive-2019-09-13T16_46_14.222336\"\n",
      "  }\n",
      "}\n",
      "properties {\n",
      "  key: \"pipeline_root\"\n",
      "  value {\n",
      "    string_value: \"/tmp/tfx-interactive-2019-09-13T16_46_14.222336-5zedre0a\"\n",
      "  }\n",
      "}\n",
      "properties {\n",
      "  key: \"run_id\"\n",
      "  value {\n",
      "    string_value: \"2019-09-13T16:46:34.400867\"\n",
      "  }\n",
      "}\n",
      "properties {\n",
      "  key: \"state\"\n",
      "  value {\n",
      "    string_value: \"new\"\n",
      "  }\n",
      "}\n",
      "\n"
     ]
    },
    {
     "name": "stdout",
     "output_type": "stream",
     "text": [
      "INFO:tensorflow:Execution id of the upcoming component execution is 3\n"
     ]
    },
    {
     "name": "stderr",
     "output_type": "stream",
     "text": [
      "INFO:tensorflow:Execution id of the upcoming component execution is 3\n"
     ]
    },
    {
     "name": "stdout",
     "output_type": "stream",
     "text": [
      "INFO:tensorflow:Checking previous run for execution_type_name tfx.components.schema_gen.component.SchemaGen and input_artifacts {'stats': [Artifact(type_name: ExampleStatisticsPath, uri: /tmp/tfx-interactive-2019-09-13T16_46_14.222336-5zedre0a/StatisticsGen/output/2/train/, split: train, id: 4), Artifact(type_name: ExampleStatisticsPath, uri: /tmp/tfx-interactive-2019-09-13T16_46_14.222336-5zedre0a/StatisticsGen/output/2/eval/, split: eval, id: 5)]}\n"
     ]
    },
    {
     "name": "stderr",
     "output_type": "stream",
     "text": [
      "INFO:tensorflow:Checking previous run for execution_type_name tfx.components.schema_gen.component.SchemaGen and input_artifacts {'stats': [Artifact(type_name: ExampleStatisticsPath, uri: /tmp/tfx-interactive-2019-09-13T16_46_14.222336-5zedre0a/StatisticsGen/output/2/train/, split: train, id: 4), Artifact(type_name: ExampleStatisticsPath, uri: /tmp/tfx-interactive-2019-09-13T16_46_14.222336-5zedre0a/StatisticsGen/output/2/eval/, split: eval, id: 5)]}\n"
     ]
    },
    {
     "name": "stdout",
     "output_type": "stream",
     "text": [
      "INFO:tensorflow:Prepared EXECUTION:\n",
      " type_id: 7\n",
      "properties {\n",
      "  key: \"component_id\"\n",
      "  value {\n",
      "    string_value: \"SchemaGen\"\n",
      "  }\n",
      "}\n",
      "properties {\n",
      "  key: \"infer_feature_shape\"\n",
      "  value {\n",
      "    string_value: \"False\"\n",
      "  }\n",
      "}\n",
      "properties {\n",
      "  key: \"pipeline_name\"\n",
      "  value {\n",
      "    string_value: \"interactive-2019-09-13T16_46_14.222336\"\n",
      "  }\n",
      "}\n",
      "properties {\n",
      "  key: \"pipeline_root\"\n",
      "  value {\n",
      "    string_value: \"/tmp/tfx-interactive-2019-09-13T16_46_14.222336-5zedre0a\"\n",
      "  }\n",
      "}\n",
      "properties {\n",
      "  key: \"run_id\"\n",
      "  value {\n",
      "    string_value: \"2019-09-13T16:46:34.400867\"\n",
      "  }\n",
      "}\n",
      "properties {\n",
      "  key: \"state\"\n",
      "  value {\n",
      "    string_value: \"complete\"\n",
      "  }\n",
      "}\n",
      "\n"
     ]
    },
    {
     "name": "stderr",
     "output_type": "stream",
     "text": [
      "INFO:tensorflow:Prepared EXECUTION:\n",
      " type_id: 7\n",
      "properties {\n",
      "  key: \"component_id\"\n",
      "  value {\n",
      "    string_value: \"SchemaGen\"\n",
      "  }\n",
      "}\n",
      "properties {\n",
      "  key: \"infer_feature_shape\"\n",
      "  value {\n",
      "    string_value: \"False\"\n",
      "  }\n",
      "}\n",
      "properties {\n",
      "  key: \"pipeline_name\"\n",
      "  value {\n",
      "    string_value: \"interactive-2019-09-13T16_46_14.222336\"\n",
      "  }\n",
      "}\n",
      "properties {\n",
      "  key: \"pipeline_root\"\n",
      "  value {\n",
      "    string_value: \"/tmp/tfx-interactive-2019-09-13T16_46_14.222336-5zedre0a\"\n",
      "  }\n",
      "}\n",
      "properties {\n",
      "  key: \"run_id\"\n",
      "  value {\n",
      "    string_value: \"2019-09-13T16:46:34.400867\"\n",
      "  }\n",
      "}\n",
      "properties {\n",
      "  key: \"state\"\n",
      "  value {\n",
      "    string_value: \"complete\"\n",
      "  }\n",
      "}\n",
      "\n"
     ]
    },
    {
     "name": "stdout",
     "output_type": "stream",
     "text": [
      "INFO:tensorflow:No execution matching type id and input artifacts found\n"
     ]
    },
    {
     "name": "stderr",
     "output_type": "stream",
     "text": [
      "INFO:tensorflow:No execution matching type id and input artifacts found\n"
     ]
    },
    {
     "name": "stdout",
     "output_type": "stream",
     "text": [
      "INFO:tensorflow:Cached results not found, move on to new execution\n"
     ]
    },
    {
     "name": "stderr",
     "output_type": "stream",
     "text": [
      "INFO:tensorflow:Cached results not found, move on to new execution\n"
     ]
    },
    {
     "name": "stdout",
     "output_type": "stream",
     "text": [
      "INFO:tensorflow:Creating output artifact uri /tmp/tfx-interactive-2019-09-13T16_46_14.222336-5zedre0a/SchemaGen/output/3/ as directory\n"
     ]
    },
    {
     "name": "stderr",
     "output_type": "stream",
     "text": [
      "INFO:tensorflow:Creating output artifact uri /tmp/tfx-interactive-2019-09-13T16_46_14.222336-5zedre0a/SchemaGen/output/3/ as directory\n"
     ]
    },
    {
     "name": "stdout",
     "output_type": "stream",
     "text": [
      "INFO:tensorflow:Output artifacts skeleton for the upcoming execution are: {'output': [Artifact(type_name: SchemaPath, uri: /tmp/tfx-interactive-2019-09-13T16_46_14.222336-5zedre0a/SchemaGen/output/3/, split: , id: 0)]}\n"
     ]
    },
    {
     "name": "stderr",
     "output_type": "stream",
     "text": [
      "INFO:tensorflow:Output artifacts skeleton for the upcoming execution are: {'output': [Artifact(type_name: SchemaPath, uri: /tmp/tfx-interactive-2019-09-13T16_46_14.222336-5zedre0a/SchemaGen/output/3/, split: , id: 0)]}\n"
     ]
    },
    {
     "name": "stdout",
     "output_type": "stream",
     "text": [
      "INFO:tensorflow:Execution properties for the upcoming execution are: {'infer_feature_shape': False}\n"
     ]
    },
    {
     "name": "stderr",
     "output_type": "stream",
     "text": [
      "INFO:tensorflow:Execution properties for the upcoming execution are: {'infer_feature_shape': False}\n"
     ]
    },
    {
     "name": "stdout",
     "output_type": "stream",
     "text": [
      "INFO:tensorflow:Run executor for SchemaGen\n"
     ]
    },
    {
     "name": "stderr",
     "output_type": "stream",
     "text": [
      "INFO:tensorflow:Run executor for SchemaGen\n"
     ]
    },
    {
     "name": "stdout",
     "output_type": "stream",
     "text": [
      "WARNING:tensorflow:From /usr/local/google/home/joeyounglee/git-repos/tfx_oss.git/tfx/examples/chicago_taxi_pipeline/taxi_pipeline/local/lib/python3.6/site-packages/tfx/utils/io_utils.py:76: The name tf.gfile.ListDirectory is deprecated. Please use tf.io.gfile.listdir instead.\n",
      "\n"
     ]
    },
    {
     "name": "stderr",
     "output_type": "stream",
     "text": [
      "WARNING:tensorflow:From /usr/local/google/home/joeyounglee/git-repos/tfx_oss.git/tfx/examples/chicago_taxi_pipeline/taxi_pipeline/local/lib/python3.6/site-packages/tfx/utils/io_utils.py:76: The name tf.gfile.ListDirectory is deprecated. Please use tf.io.gfile.listdir instead.\n",
      "\n"
     ]
    },
    {
     "name": "stdout",
     "output_type": "stream",
     "text": [
      "INFO:tensorflow:Infering schema from statistics.\n"
     ]
    },
    {
     "name": "stderr",
     "output_type": "stream",
     "text": [
      "INFO:tensorflow:Infering schema from statistics.\n"
     ]
    },
    {
     "name": "stdout",
     "output_type": "stream",
     "text": [
      "INFO:tensorflow:Schema written to /tmp/tfx-interactive-2019-09-13T16_46_14.222336-5zedre0a/SchemaGen/output/3/schema.pbtxt.\n"
     ]
    },
    {
     "name": "stderr",
     "output_type": "stream",
     "text": [
      "INFO:tensorflow:Schema written to /tmp/tfx-interactive-2019-09-13T16_46_14.222336-5zedre0a/SchemaGen/output/3/schema.pbtxt.\n"
     ]
    },
    {
     "name": "stdout",
     "output_type": "stream",
     "text": [
      "INFO:tensorflow:Run publisher for SchemaGen\n"
     ]
    },
    {
     "name": "stderr",
     "output_type": "stream",
     "text": [
      "INFO:tensorflow:Run publisher for SchemaGen\n"
     ]
    },
    {
     "name": "stdout",
     "output_type": "stream",
     "text": [
      "INFO:tensorflow:Whether cached results are used: False\n"
     ]
    },
    {
     "name": "stderr",
     "output_type": "stream",
     "text": [
      "INFO:tensorflow:Whether cached results are used: False\n"
     ]
    },
    {
     "name": "stdout",
     "output_type": "stream",
     "text": [
      "INFO:tensorflow:Execution id: 3\n"
     ]
    },
    {
     "name": "stderr",
     "output_type": "stream",
     "text": [
      "INFO:tensorflow:Execution id: 3\n"
     ]
    },
    {
     "name": "stdout",
     "output_type": "stream",
     "text": [
      "INFO:tensorflow:Inputs: {'stats': [Artifact(type_name: ExampleStatisticsPath, uri: /tmp/tfx-interactive-2019-09-13T16_46_14.222336-5zedre0a/StatisticsGen/output/2/train/, split: train, id: 4), Artifact(type_name: ExampleStatisticsPath, uri: /tmp/tfx-interactive-2019-09-13T16_46_14.222336-5zedre0a/StatisticsGen/output/2/eval/, split: eval, id: 5)]}\n"
     ]
    },
    {
     "name": "stderr",
     "output_type": "stream",
     "text": [
      "INFO:tensorflow:Inputs: {'stats': [Artifact(type_name: ExampleStatisticsPath, uri: /tmp/tfx-interactive-2019-09-13T16_46_14.222336-5zedre0a/StatisticsGen/output/2/train/, split: train, id: 4), Artifact(type_name: ExampleStatisticsPath, uri: /tmp/tfx-interactive-2019-09-13T16_46_14.222336-5zedre0a/StatisticsGen/output/2/eval/, split: eval, id: 5)]}\n"
     ]
    },
    {
     "name": "stdout",
     "output_type": "stream",
     "text": [
      "INFO:tensorflow:Outputs: {'output': [Artifact(type_name: SchemaPath, uri: /tmp/tfx-interactive-2019-09-13T16_46_14.222336-5zedre0a/SchemaGen/output/3/, split: , id: 0)]}\n"
     ]
    },
    {
     "name": "stderr",
     "output_type": "stream",
     "text": [
      "INFO:tensorflow:Outputs: {'output': [Artifact(type_name: SchemaPath, uri: /tmp/tfx-interactive-2019-09-13T16_46_14.222336-5zedre0a/SchemaGen/output/3/, split: , id: 0)]}\n"
     ]
    },
    {
     "name": "stdout",
     "output_type": "stream",
     "text": [
      "INFO:tensorflow:Publishing execution id: 3\n",
      "type_id: 7\n",
      "properties {\n",
      "  key: \"component_id\"\n",
      "  value {\n",
      "    string_value: \"SchemaGen\"\n",
      "  }\n",
      "}\n",
      "properties {\n",
      "  key: \"infer_feature_shape\"\n",
      "  value {\n",
      "    string_value: \"False\"\n",
      "  }\n",
      "}\n",
      "properties {\n",
      "  key: \"pipeline_name\"\n",
      "  value {\n",
      "    string_value: \"interactive-2019-09-13T16_46_14.222336\"\n",
      "  }\n",
      "}\n",
      "properties {\n",
      "  key: \"pipeline_root\"\n",
      "  value {\n",
      "    string_value: \"/tmp/tfx-interactive-2019-09-13T16_46_14.222336-5zedre0a\"\n",
      "  }\n",
      "}\n",
      "properties {\n",
      "  key: \"run_id\"\n",
      "  value {\n",
      "    string_value: \"2019-09-13T16:46:34.400867\"\n",
      "  }\n",
      "}\n",
      "properties {\n",
      "  key: \"state\"\n",
      "  value {\n",
      "    string_value: \"complete\"\n",
      "  }\n",
      "}\n",
      ", with inputs {'stats': [Artifact(type_name: ExampleStatisticsPath, uri: /tmp/tfx-interactive-2019-09-13T16_46_14.222336-5zedre0a/StatisticsGen/output/2/train/, split: train, id: 4), Artifact(type_name: ExampleStatisticsPath, uri: /tmp/tfx-interactive-2019-09-13T16_46_14.222336-5zedre0a/StatisticsGen/output/2/eval/, split: eval, id: 5)]} and outputs {'output': [Artifact(type_name: SchemaPath, uri: /tmp/tfx-interactive-2019-09-13T16_46_14.222336-5zedre0a/SchemaGen/output/3/, split: , id: 0)]}\n"
     ]
    },
    {
     "name": "stderr",
     "output_type": "stream",
     "text": [
      "INFO:tensorflow:Publishing execution id: 3\n",
      "type_id: 7\n",
      "properties {\n",
      "  key: \"component_id\"\n",
      "  value {\n",
      "    string_value: \"SchemaGen\"\n",
      "  }\n",
      "}\n",
      "properties {\n",
      "  key: \"infer_feature_shape\"\n",
      "  value {\n",
      "    string_value: \"False\"\n",
      "  }\n",
      "}\n",
      "properties {\n",
      "  key: \"pipeline_name\"\n",
      "  value {\n",
      "    string_value: \"interactive-2019-09-13T16_46_14.222336\"\n",
      "  }\n",
      "}\n",
      "properties {\n",
      "  key: \"pipeline_root\"\n",
      "  value {\n",
      "    string_value: \"/tmp/tfx-interactive-2019-09-13T16_46_14.222336-5zedre0a\"\n",
      "  }\n",
      "}\n",
      "properties {\n",
      "  key: \"run_id\"\n",
      "  value {\n",
      "    string_value: \"2019-09-13T16:46:34.400867\"\n",
      "  }\n",
      "}\n",
      "properties {\n",
      "  key: \"state\"\n",
      "  value {\n",
      "    string_value: \"complete\"\n",
      "  }\n",
      "}\n",
      ", with inputs {'stats': [Artifact(type_name: ExampleStatisticsPath, uri: /tmp/tfx-interactive-2019-09-13T16_46_14.222336-5zedre0a/StatisticsGen/output/2/train/, split: train, id: 4), Artifact(type_name: ExampleStatisticsPath, uri: /tmp/tfx-interactive-2019-09-13T16_46_14.222336-5zedre0a/StatisticsGen/output/2/eval/, split: eval, id: 5)]} and outputs {'output': [Artifact(type_name: SchemaPath, uri: /tmp/tfx-interactive-2019-09-13T16_46_14.222336-5zedre0a/SchemaGen/output/3/, split: , id: 0)]}\n"
     ]
    },
    {
     "name": "stdout",
     "output_type": "stream",
     "text": [
      "INFO:tensorflow:Published execution with final outputs {'output': [Artifact(type_name: SchemaPath, uri: /tmp/tfx-interactive-2019-09-13T16_46_14.222336-5zedre0a/SchemaGen/output/3/, split: , id: 6)]}\n"
     ]
    },
    {
     "name": "stderr",
     "output_type": "stream",
     "text": [
      "INFO:tensorflow:Published execution with final outputs {'output': [Artifact(type_name: SchemaPath, uri: /tmp/tfx-interactive-2019-09-13T16_46_14.222336-5zedre0a/SchemaGen/output/3/, split: , id: 6)]}\n"
     ]
    },
    {
     "data": {
      "text/html": [
       "<style>\n",
       ".tfx-object.expanded {\n",
       "  padding: 4px 8px 4px 8px;\n",
       "  background: white;\n",
       "  border: 1px solid #bbbbbb;\n",
       "  box-shadow: 4px 4px 2px rgba(0,0,0,0.05);\n",
       "}\n",
       ".tfx-object, .tfx-object * {\n",
       "  font-size: 11pt;\n",
       "}\n",
       ".tfx-object > .title {\n",
       "  cursor: pointer;\n",
       "}\n",
       ".tfx-object .expansion-marker {\n",
       "  color: #999999;\n",
       "}\n",
       ".tfx-object.expanded > .title > .expansion-marker:before {\n",
       "  content: '▼';\n",
       "}\n",
       ".tfx-object.collapsed > .title > .expansion-marker:before {\n",
       "  content: '▶';\n",
       "}\n",
       ".tfx-object .class-name {\n",
       "  font-weight: bold;\n",
       "}\n",
       ".tfx-object .deemphasize {\n",
       "  opacity: 0.5;\n",
       "}\n",
       ".tfx-object.collapsed > table.attr-table {\n",
       "  display: none;\n",
       "}\n",
       ".tfx-object.expanded > table.attr-table {\n",
       "  display: block;\n",
       "}\n",
       ".tfx-object table.attr-table {\n",
       "  border: 2px solid white;\n",
       "  margin-top: 5px;\n",
       "}\n",
       ".tfx-object table.attr-table td.attr-name {\n",
       "  vertical-align: top;\n",
       "  font-weight: bold;\n",
       "}\n",
       ".tfx-object table.attr-table td.attrvalue {\n",
       "  text-align: left;\n",
       "}\n",
       "</style>\n",
       "<script>\n",
       "function toggleTfxObject(element) {\n",
       "  var objElement = element.parentElement;\n",
       "  if (objElement.classList.contains('collapsed')) {\n",
       "    objElement.classList.remove('collapsed');\n",
       "    objElement.classList.add('expanded');\n",
       "  } else {\n",
       "    objElement.classList.add('collapsed');\n",
       "    objElement.classList.remove('expanded');\n",
       "  }\n",
       "}\n",
       "</script>\n",
       "<div class=\"tfx-object expanded\"><div class = \"title\" onclick=\"toggleTfxObject(this)\"><span class=\"expansion-marker\"></span><span class=\"class-name\">ExecutionResult</span><span class=\"deemphasize\"> at 0x7fadade76a90</span></div><table class=\"attr-table\"><tr><td class=\"attr-name\">.execution_id</td><td class = \"attrvalue\">3</td></tr><tr><td class=\"attr-name\">.component</td><td class = \"attrvalue\"><style>\n",
       ".tfx-object.expanded {\n",
       "  padding: 4px 8px 4px 8px;\n",
       "  background: white;\n",
       "  border: 1px solid #bbbbbb;\n",
       "  box-shadow: 4px 4px 2px rgba(0,0,0,0.05);\n",
       "}\n",
       ".tfx-object, .tfx-object * {\n",
       "  font-size: 11pt;\n",
       "}\n",
       ".tfx-object > .title {\n",
       "  cursor: pointer;\n",
       "}\n",
       ".tfx-object .expansion-marker {\n",
       "  color: #999999;\n",
       "}\n",
       ".tfx-object.expanded > .title > .expansion-marker:before {\n",
       "  content: '▼';\n",
       "}\n",
       ".tfx-object.collapsed > .title > .expansion-marker:before {\n",
       "  content: '▶';\n",
       "}\n",
       ".tfx-object .class-name {\n",
       "  font-weight: bold;\n",
       "}\n",
       ".tfx-object .deemphasize {\n",
       "  opacity: 0.5;\n",
       "}\n",
       ".tfx-object.collapsed > table.attr-table {\n",
       "  display: none;\n",
       "}\n",
       ".tfx-object.expanded > table.attr-table {\n",
       "  display: block;\n",
       "}\n",
       ".tfx-object table.attr-table {\n",
       "  border: 2px solid white;\n",
       "  margin-top: 5px;\n",
       "}\n",
       ".tfx-object table.attr-table td.attr-name {\n",
       "  vertical-align: top;\n",
       "  font-weight: bold;\n",
       "}\n",
       ".tfx-object table.attr-table td.attrvalue {\n",
       "  text-align: left;\n",
       "}\n",
       "</style>\n",
       "<script>\n",
       "function toggleTfxObject(element) {\n",
       "  var objElement = element.parentElement;\n",
       "  if (objElement.classList.contains('collapsed')) {\n",
       "    objElement.classList.remove('collapsed');\n",
       "    objElement.classList.add('expanded');\n",
       "  } else {\n",
       "    objElement.classList.add('collapsed');\n",
       "    objElement.classList.remove('expanded');\n",
       "  }\n",
       "}\n",
       "</script>\n",
       "<div class=\"tfx-object collapsed\"><div class = \"title\" onclick=\"toggleTfxObject(this)\"><span class=\"expansion-marker\"></span><span class=\"class-name\">SchemaGen</span><span class=\"deemphasize\"> at 0x7fadad8aab38</span></div><table class=\"attr-table\"><tr><td class=\"attr-name\">.inputs</td><td class = \"attrvalue\"><table class=\"attr-table\"><tr><td class=\"attr-name\">['stats']</td><td class = \"attrvalue\"><style>\n",
       ".tfx-object.expanded {\n",
       "  padding: 4px 8px 4px 8px;\n",
       "  background: white;\n",
       "  border: 1px solid #bbbbbb;\n",
       "  box-shadow: 4px 4px 2px rgba(0,0,0,0.05);\n",
       "}\n",
       ".tfx-object, .tfx-object * {\n",
       "  font-size: 11pt;\n",
       "}\n",
       ".tfx-object > .title {\n",
       "  cursor: pointer;\n",
       "}\n",
       ".tfx-object .expansion-marker {\n",
       "  color: #999999;\n",
       "}\n",
       ".tfx-object.expanded > .title > .expansion-marker:before {\n",
       "  content: '▼';\n",
       "}\n",
       ".tfx-object.collapsed > .title > .expansion-marker:before {\n",
       "  content: '▶';\n",
       "}\n",
       ".tfx-object .class-name {\n",
       "  font-weight: bold;\n",
       "}\n",
       ".tfx-object .deemphasize {\n",
       "  opacity: 0.5;\n",
       "}\n",
       ".tfx-object.collapsed > table.attr-table {\n",
       "  display: none;\n",
       "}\n",
       ".tfx-object.expanded > table.attr-table {\n",
       "  display: block;\n",
       "}\n",
       ".tfx-object table.attr-table {\n",
       "  border: 2px solid white;\n",
       "  margin-top: 5px;\n",
       "}\n",
       ".tfx-object table.attr-table td.attr-name {\n",
       "  vertical-align: top;\n",
       "  font-weight: bold;\n",
       "}\n",
       ".tfx-object table.attr-table td.attrvalue {\n",
       "  text-align: left;\n",
       "}\n",
       "</style>\n",
       "<script>\n",
       "function toggleTfxObject(element) {\n",
       "  var objElement = element.parentElement;\n",
       "  if (objElement.classList.contains('collapsed')) {\n",
       "    objElement.classList.remove('collapsed');\n",
       "    objElement.classList.add('expanded');\n",
       "  } else {\n",
       "    objElement.classList.add('collapsed');\n",
       "    objElement.classList.remove('expanded');\n",
       "  }\n",
       "}\n",
       "</script>\n",
       "<div class=\"tfx-object collapsed\"><div class = \"title\" onclick=\"toggleTfxObject(this)\"><span class=\"expansion-marker\"></span><span class=\"class-name\">Channel</span> of type <span class=\"class-name\">'ExampleStatisticsPath'</span> (2 artifacts)<span class=\"deemphasize\"> at 0x7fadadfad9b0</span></div><table class=\"attr-table\"><tr><td class=\"attr-name\">.type_name</td><td class = \"attrvalue\">ExampleStatisticsPath</td></tr><tr><td class=\"attr-name\">._artifacts</td><td class = \"attrvalue\"><table class=\"attr-table\"><tr><td class=\"attr-name\">[0]</td><td class = \"attrvalue\"><style>\n",
       ".tfx-object.expanded {\n",
       "  padding: 4px 8px 4px 8px;\n",
       "  background: white;\n",
       "  border: 1px solid #bbbbbb;\n",
       "  box-shadow: 4px 4px 2px rgba(0,0,0,0.05);\n",
       "}\n",
       ".tfx-object, .tfx-object * {\n",
       "  font-size: 11pt;\n",
       "}\n",
       ".tfx-object > .title {\n",
       "  cursor: pointer;\n",
       "}\n",
       ".tfx-object .expansion-marker {\n",
       "  color: #999999;\n",
       "}\n",
       ".tfx-object.expanded > .title > .expansion-marker:before {\n",
       "  content: '▼';\n",
       "}\n",
       ".tfx-object.collapsed > .title > .expansion-marker:before {\n",
       "  content: '▶';\n",
       "}\n",
       ".tfx-object .class-name {\n",
       "  font-weight: bold;\n",
       "}\n",
       ".tfx-object .deemphasize {\n",
       "  opacity: 0.5;\n",
       "}\n",
       ".tfx-object.collapsed > table.attr-table {\n",
       "  display: none;\n",
       "}\n",
       ".tfx-object.expanded > table.attr-table {\n",
       "  display: block;\n",
       "}\n",
       ".tfx-object table.attr-table {\n",
       "  border: 2px solid white;\n",
       "  margin-top: 5px;\n",
       "}\n",
       ".tfx-object table.attr-table td.attr-name {\n",
       "  vertical-align: top;\n",
       "  font-weight: bold;\n",
       "}\n",
       ".tfx-object table.attr-table td.attrvalue {\n",
       "  text-align: left;\n",
       "}\n",
       "</style>\n",
       "<script>\n",
       "function toggleTfxObject(element) {\n",
       "  var objElement = element.parentElement;\n",
       "  if (objElement.classList.contains('collapsed')) {\n",
       "    objElement.classList.remove('collapsed');\n",
       "    objElement.classList.add('expanded');\n",
       "  } else {\n",
       "    objElement.classList.add('collapsed');\n",
       "    objElement.classList.remove('expanded');\n",
       "  }\n",
       "}\n",
       "</script>\n",
       "<div class=\"tfx-object collapsed\"><div class = \"title\" onclick=\"toggleTfxObject(this)\"><span class=\"expansion-marker\"></span><span class=\"class-name\">Artifact</span> of type <span class=\"class-name\">'ExampleStatisticsPath'</span> (uri: /tmp/tfx-interactive-2019-09-13T16_46_14.222336-5zedre0a/StatisticsGen/output/2/train/)<span class=\"deemphasize\"> at 0x7fadadfade80</span></div><table class=\"attr-table\"><tr><td class=\"attr-name\">.type_name</td><td class = \"attrvalue\">ExampleStatisticsPath</td></tr><tr><td class=\"attr-name\">.uri</td><td class = \"attrvalue\">/tmp/tfx-interactive-2019-09-13T16_46_14.222336-5zedre0a/StatisticsGen/output/2/train/</td></tr><tr><td class=\"attr-name\">.span</td><td class = \"attrvalue\">0</td></tr><tr><td class=\"attr-name\">.split</td><td class = \"attrvalue\">train</td></tr></table></div></td></tr><tr><td class=\"attr-name\">[1]</td><td class = \"attrvalue\"><style>\n",
       ".tfx-object.expanded {\n",
       "  padding: 4px 8px 4px 8px;\n",
       "  background: white;\n",
       "  border: 1px solid #bbbbbb;\n",
       "  box-shadow: 4px 4px 2px rgba(0,0,0,0.05);\n",
       "}\n",
       ".tfx-object, .tfx-object * {\n",
       "  font-size: 11pt;\n",
       "}\n",
       ".tfx-object > .title {\n",
       "  cursor: pointer;\n",
       "}\n",
       ".tfx-object .expansion-marker {\n",
       "  color: #999999;\n",
       "}\n",
       ".tfx-object.expanded > .title > .expansion-marker:before {\n",
       "  content: '▼';\n",
       "}\n",
       ".tfx-object.collapsed > .title > .expansion-marker:before {\n",
       "  content: '▶';\n",
       "}\n",
       ".tfx-object .class-name {\n",
       "  font-weight: bold;\n",
       "}\n",
       ".tfx-object .deemphasize {\n",
       "  opacity: 0.5;\n",
       "}\n",
       ".tfx-object.collapsed > table.attr-table {\n",
       "  display: none;\n",
       "}\n",
       ".tfx-object.expanded > table.attr-table {\n",
       "  display: block;\n",
       "}\n",
       ".tfx-object table.attr-table {\n",
       "  border: 2px solid white;\n",
       "  margin-top: 5px;\n",
       "}\n",
       ".tfx-object table.attr-table td.attr-name {\n",
       "  vertical-align: top;\n",
       "  font-weight: bold;\n",
       "}\n",
       ".tfx-object table.attr-table td.attrvalue {\n",
       "  text-align: left;\n",
       "}\n",
       "</style>\n",
       "<script>\n",
       "function toggleTfxObject(element) {\n",
       "  var objElement = element.parentElement;\n",
       "  if (objElement.classList.contains('collapsed')) {\n",
       "    objElement.classList.remove('collapsed');\n",
       "    objElement.classList.add('expanded');\n",
       "  } else {\n",
       "    objElement.classList.add('collapsed');\n",
       "    objElement.classList.remove('expanded');\n",
       "  }\n",
       "}\n",
       "</script>\n",
       "<div class=\"tfx-object collapsed\"><div class = \"title\" onclick=\"toggleTfxObject(this)\"><span class=\"expansion-marker\"></span><span class=\"class-name\">Artifact</span> of type <span class=\"class-name\">'ExampleStatisticsPath'</span> (uri: /tmp/tfx-interactive-2019-09-13T16_46_14.222336-5zedre0a/StatisticsGen/output/2/eval/)<span class=\"deemphasize\"> at 0x7fadadfad908</span></div><table class=\"attr-table\"><tr><td class=\"attr-name\">.type_name</td><td class = \"attrvalue\">ExampleStatisticsPath</td></tr><tr><td class=\"attr-name\">.uri</td><td class = \"attrvalue\">/tmp/tfx-interactive-2019-09-13T16_46_14.222336-5zedre0a/StatisticsGen/output/2/eval/</td></tr><tr><td class=\"attr-name\">.span</td><td class = \"attrvalue\">0</td></tr><tr><td class=\"attr-name\">.split</td><td class = \"attrvalue\">eval</td></tr></table></div></td></tr></table></td></tr></table></div></td></tr></table></td></tr><tr><td class=\"attr-name\">.outputs</td><td class = \"attrvalue\"><table class=\"attr-table\"><tr><td class=\"attr-name\">['output']</td><td class = \"attrvalue\"><style>\n",
       ".tfx-object.expanded {\n",
       "  padding: 4px 8px 4px 8px;\n",
       "  background: white;\n",
       "  border: 1px solid #bbbbbb;\n",
       "  box-shadow: 4px 4px 2px rgba(0,0,0,0.05);\n",
       "}\n",
       ".tfx-object, .tfx-object * {\n",
       "  font-size: 11pt;\n",
       "}\n",
       ".tfx-object > .title {\n",
       "  cursor: pointer;\n",
       "}\n",
       ".tfx-object .expansion-marker {\n",
       "  color: #999999;\n",
       "}\n",
       ".tfx-object.expanded > .title > .expansion-marker:before {\n",
       "  content: '▼';\n",
       "}\n",
       ".tfx-object.collapsed > .title > .expansion-marker:before {\n",
       "  content: '▶';\n",
       "}\n",
       ".tfx-object .class-name {\n",
       "  font-weight: bold;\n",
       "}\n",
       ".tfx-object .deemphasize {\n",
       "  opacity: 0.5;\n",
       "}\n",
       ".tfx-object.collapsed > table.attr-table {\n",
       "  display: none;\n",
       "}\n",
       ".tfx-object.expanded > table.attr-table {\n",
       "  display: block;\n",
       "}\n",
       ".tfx-object table.attr-table {\n",
       "  border: 2px solid white;\n",
       "  margin-top: 5px;\n",
       "}\n",
       ".tfx-object table.attr-table td.attr-name {\n",
       "  vertical-align: top;\n",
       "  font-weight: bold;\n",
       "}\n",
       ".tfx-object table.attr-table td.attrvalue {\n",
       "  text-align: left;\n",
       "}\n",
       "</style>\n",
       "<script>\n",
       "function toggleTfxObject(element) {\n",
       "  var objElement = element.parentElement;\n",
       "  if (objElement.classList.contains('collapsed')) {\n",
       "    objElement.classList.remove('collapsed');\n",
       "    objElement.classList.add('expanded');\n",
       "  } else {\n",
       "    objElement.classList.add('collapsed');\n",
       "    objElement.classList.remove('expanded');\n",
       "  }\n",
       "}\n",
       "</script>\n",
       "<div class=\"tfx-object collapsed\"><div class = \"title\" onclick=\"toggleTfxObject(this)\"><span class=\"expansion-marker\"></span><span class=\"class-name\">Channel</span> of type <span class=\"class-name\">'SchemaPath'</span> (1 artifact)<span class=\"deemphasize\"> at 0x7face81e1f28</span></div><table class=\"attr-table\"><tr><td class=\"attr-name\">.type_name</td><td class = \"attrvalue\">SchemaPath</td></tr><tr><td class=\"attr-name\">._artifacts</td><td class = \"attrvalue\"><table class=\"attr-table\"><tr><td class=\"attr-name\">[0]</td><td class = \"attrvalue\"><style>\n",
       ".tfx-object.expanded {\n",
       "  padding: 4px 8px 4px 8px;\n",
       "  background: white;\n",
       "  border: 1px solid #bbbbbb;\n",
       "  box-shadow: 4px 4px 2px rgba(0,0,0,0.05);\n",
       "}\n",
       ".tfx-object, .tfx-object * {\n",
       "  font-size: 11pt;\n",
       "}\n",
       ".tfx-object > .title {\n",
       "  cursor: pointer;\n",
       "}\n",
       ".tfx-object .expansion-marker {\n",
       "  color: #999999;\n",
       "}\n",
       ".tfx-object.expanded > .title > .expansion-marker:before {\n",
       "  content: '▼';\n",
       "}\n",
       ".tfx-object.collapsed > .title > .expansion-marker:before {\n",
       "  content: '▶';\n",
       "}\n",
       ".tfx-object .class-name {\n",
       "  font-weight: bold;\n",
       "}\n",
       ".tfx-object .deemphasize {\n",
       "  opacity: 0.5;\n",
       "}\n",
       ".tfx-object.collapsed > table.attr-table {\n",
       "  display: none;\n",
       "}\n",
       ".tfx-object.expanded > table.attr-table {\n",
       "  display: block;\n",
       "}\n",
       ".tfx-object table.attr-table {\n",
       "  border: 2px solid white;\n",
       "  margin-top: 5px;\n",
       "}\n",
       ".tfx-object table.attr-table td.attr-name {\n",
       "  vertical-align: top;\n",
       "  font-weight: bold;\n",
       "}\n",
       ".tfx-object table.attr-table td.attrvalue {\n",
       "  text-align: left;\n",
       "}\n",
       "</style>\n",
       "<script>\n",
       "function toggleTfxObject(element) {\n",
       "  var objElement = element.parentElement;\n",
       "  if (objElement.classList.contains('collapsed')) {\n",
       "    objElement.classList.remove('collapsed');\n",
       "    objElement.classList.add('expanded');\n",
       "  } else {\n",
       "    objElement.classList.add('collapsed');\n",
       "    objElement.classList.remove('expanded');\n",
       "  }\n",
       "}\n",
       "</script>\n",
       "<div class=\"tfx-object collapsed\"><div class = \"title\" onclick=\"toggleTfxObject(this)\"><span class=\"expansion-marker\"></span><span class=\"class-name\">Artifact</span> of type <span class=\"class-name\">'SchemaPath'</span> (uri: /tmp/tfx-interactive-2019-09-13T16_46_14.222336-5zedre0a/SchemaGen/output/3/)<span class=\"deemphasize\"> at 0x7fadad8aaf60</span></div><table class=\"attr-table\"><tr><td class=\"attr-name\">.type_name</td><td class = \"attrvalue\">SchemaPath</td></tr><tr><td class=\"attr-name\">.uri</td><td class = \"attrvalue\">/tmp/tfx-interactive-2019-09-13T16_46_14.222336-5zedre0a/SchemaGen/output/3/</td></tr><tr><td class=\"attr-name\">.span</td><td class = \"attrvalue\">0</td></tr><tr><td class=\"attr-name\">.split</td><td class = \"attrvalue\"></td></tr></table></div></td></tr></table></td></tr></table></div></td></tr></table></td></tr><tr><td class=\"attr-name\">.exec_properties</td><td class = \"attrvalue\"><table class=\"attr-table\"><tr><td class=\"attr-name\">['infer_feature_shape']</td><td class = \"attrvalue\">False</td></tr></table></td></tr></table></div></td></tr><tr><td class=\"attr-name\">.component.inputs</td><td class = \"attrvalue\"><table class=\"attr-table\"><tr><td class=\"attr-name\">['stats']</td><td class = \"attrvalue\"><style>\n",
       ".tfx-object.expanded {\n",
       "  padding: 4px 8px 4px 8px;\n",
       "  background: white;\n",
       "  border: 1px solid #bbbbbb;\n",
       "  box-shadow: 4px 4px 2px rgba(0,0,0,0.05);\n",
       "}\n",
       ".tfx-object, .tfx-object * {\n",
       "  font-size: 11pt;\n",
       "}\n",
       ".tfx-object > .title {\n",
       "  cursor: pointer;\n",
       "}\n",
       ".tfx-object .expansion-marker {\n",
       "  color: #999999;\n",
       "}\n",
       ".tfx-object.expanded > .title > .expansion-marker:before {\n",
       "  content: '▼';\n",
       "}\n",
       ".tfx-object.collapsed > .title > .expansion-marker:before {\n",
       "  content: '▶';\n",
       "}\n",
       ".tfx-object .class-name {\n",
       "  font-weight: bold;\n",
       "}\n",
       ".tfx-object .deemphasize {\n",
       "  opacity: 0.5;\n",
       "}\n",
       ".tfx-object.collapsed > table.attr-table {\n",
       "  display: none;\n",
       "}\n",
       ".tfx-object.expanded > table.attr-table {\n",
       "  display: block;\n",
       "}\n",
       ".tfx-object table.attr-table {\n",
       "  border: 2px solid white;\n",
       "  margin-top: 5px;\n",
       "}\n",
       ".tfx-object table.attr-table td.attr-name {\n",
       "  vertical-align: top;\n",
       "  font-weight: bold;\n",
       "}\n",
       ".tfx-object table.attr-table td.attrvalue {\n",
       "  text-align: left;\n",
       "}\n",
       "</style>\n",
       "<script>\n",
       "function toggleTfxObject(element) {\n",
       "  var objElement = element.parentElement;\n",
       "  if (objElement.classList.contains('collapsed')) {\n",
       "    objElement.classList.remove('collapsed');\n",
       "    objElement.classList.add('expanded');\n",
       "  } else {\n",
       "    objElement.classList.add('collapsed');\n",
       "    objElement.classList.remove('expanded');\n",
       "  }\n",
       "}\n",
       "</script>\n",
       "<div class=\"tfx-object collapsed\"><div class = \"title\" onclick=\"toggleTfxObject(this)\"><span class=\"expansion-marker\"></span><span class=\"class-name\">Channel</span> of type <span class=\"class-name\">'ExampleStatisticsPath'</span> (2 artifacts)<span class=\"deemphasize\"> at 0x7fadadfad9b0</span></div><table class=\"attr-table\"><tr><td class=\"attr-name\">.type_name</td><td class = \"attrvalue\">ExampleStatisticsPath</td></tr><tr><td class=\"attr-name\">._artifacts</td><td class = \"attrvalue\"><table class=\"attr-table\"><tr><td class=\"attr-name\">[0]</td><td class = \"attrvalue\"><style>\n",
       ".tfx-object.expanded {\n",
       "  padding: 4px 8px 4px 8px;\n",
       "  background: white;\n",
       "  border: 1px solid #bbbbbb;\n",
       "  box-shadow: 4px 4px 2px rgba(0,0,0,0.05);\n",
       "}\n",
       ".tfx-object, .tfx-object * {\n",
       "  font-size: 11pt;\n",
       "}\n",
       ".tfx-object > .title {\n",
       "  cursor: pointer;\n",
       "}\n",
       ".tfx-object .expansion-marker {\n",
       "  color: #999999;\n",
       "}\n",
       ".tfx-object.expanded > .title > .expansion-marker:before {\n",
       "  content: '▼';\n",
       "}\n",
       ".tfx-object.collapsed > .title > .expansion-marker:before {\n",
       "  content: '▶';\n",
       "}\n",
       ".tfx-object .class-name {\n",
       "  font-weight: bold;\n",
       "}\n",
       ".tfx-object .deemphasize {\n",
       "  opacity: 0.5;\n",
       "}\n",
       ".tfx-object.collapsed > table.attr-table {\n",
       "  display: none;\n",
       "}\n",
       ".tfx-object.expanded > table.attr-table {\n",
       "  display: block;\n",
       "}\n",
       ".tfx-object table.attr-table {\n",
       "  border: 2px solid white;\n",
       "  margin-top: 5px;\n",
       "}\n",
       ".tfx-object table.attr-table td.attr-name {\n",
       "  vertical-align: top;\n",
       "  font-weight: bold;\n",
       "}\n",
       ".tfx-object table.attr-table td.attrvalue {\n",
       "  text-align: left;\n",
       "}\n",
       "</style>\n",
       "<script>\n",
       "function toggleTfxObject(element) {\n",
       "  var objElement = element.parentElement;\n",
       "  if (objElement.classList.contains('collapsed')) {\n",
       "    objElement.classList.remove('collapsed');\n",
       "    objElement.classList.add('expanded');\n",
       "  } else {\n",
       "    objElement.classList.add('collapsed');\n",
       "    objElement.classList.remove('expanded');\n",
       "  }\n",
       "}\n",
       "</script>\n",
       "<div class=\"tfx-object collapsed\"><div class = \"title\" onclick=\"toggleTfxObject(this)\"><span class=\"expansion-marker\"></span><span class=\"class-name\">Artifact</span> of type <span class=\"class-name\">'ExampleStatisticsPath'</span> (uri: /tmp/tfx-interactive-2019-09-13T16_46_14.222336-5zedre0a/StatisticsGen/output/2/train/)<span class=\"deemphasize\"> at 0x7fadadfade80</span></div><table class=\"attr-table\"><tr><td class=\"attr-name\">.type_name</td><td class = \"attrvalue\">ExampleStatisticsPath</td></tr><tr><td class=\"attr-name\">.uri</td><td class = \"attrvalue\">/tmp/tfx-interactive-2019-09-13T16_46_14.222336-5zedre0a/StatisticsGen/output/2/train/</td></tr><tr><td class=\"attr-name\">.span</td><td class = \"attrvalue\">0</td></tr><tr><td class=\"attr-name\">.split</td><td class = \"attrvalue\">train</td></tr></table></div></td></tr><tr><td class=\"attr-name\">[1]</td><td class = \"attrvalue\"><style>\n",
       ".tfx-object.expanded {\n",
       "  padding: 4px 8px 4px 8px;\n",
       "  background: white;\n",
       "  border: 1px solid #bbbbbb;\n",
       "  box-shadow: 4px 4px 2px rgba(0,0,0,0.05);\n",
       "}\n",
       ".tfx-object, .tfx-object * {\n",
       "  font-size: 11pt;\n",
       "}\n",
       ".tfx-object > .title {\n",
       "  cursor: pointer;\n",
       "}\n",
       ".tfx-object .expansion-marker {\n",
       "  color: #999999;\n",
       "}\n",
       ".tfx-object.expanded > .title > .expansion-marker:before {\n",
       "  content: '▼';\n",
       "}\n",
       ".tfx-object.collapsed > .title > .expansion-marker:before {\n",
       "  content: '▶';\n",
       "}\n",
       ".tfx-object .class-name {\n",
       "  font-weight: bold;\n",
       "}\n",
       ".tfx-object .deemphasize {\n",
       "  opacity: 0.5;\n",
       "}\n",
       ".tfx-object.collapsed > table.attr-table {\n",
       "  display: none;\n",
       "}\n",
       ".tfx-object.expanded > table.attr-table {\n",
       "  display: block;\n",
       "}\n",
       ".tfx-object table.attr-table {\n",
       "  border: 2px solid white;\n",
       "  margin-top: 5px;\n",
       "}\n",
       ".tfx-object table.attr-table td.attr-name {\n",
       "  vertical-align: top;\n",
       "  font-weight: bold;\n",
       "}\n",
       ".tfx-object table.attr-table td.attrvalue {\n",
       "  text-align: left;\n",
       "}\n",
       "</style>\n",
       "<script>\n",
       "function toggleTfxObject(element) {\n",
       "  var objElement = element.parentElement;\n",
       "  if (objElement.classList.contains('collapsed')) {\n",
       "    objElement.classList.remove('collapsed');\n",
       "    objElement.classList.add('expanded');\n",
       "  } else {\n",
       "    objElement.classList.add('collapsed');\n",
       "    objElement.classList.remove('expanded');\n",
       "  }\n",
       "}\n",
       "</script>\n",
       "<div class=\"tfx-object collapsed\"><div class = \"title\" onclick=\"toggleTfxObject(this)\"><span class=\"expansion-marker\"></span><span class=\"class-name\">Artifact</span> of type <span class=\"class-name\">'ExampleStatisticsPath'</span> (uri: /tmp/tfx-interactive-2019-09-13T16_46_14.222336-5zedre0a/StatisticsGen/output/2/eval/)<span class=\"deemphasize\"> at 0x7fadadfad908</span></div><table class=\"attr-table\"><tr><td class=\"attr-name\">.type_name</td><td class = \"attrvalue\">ExampleStatisticsPath</td></tr><tr><td class=\"attr-name\">.uri</td><td class = \"attrvalue\">/tmp/tfx-interactive-2019-09-13T16_46_14.222336-5zedre0a/StatisticsGen/output/2/eval/</td></tr><tr><td class=\"attr-name\">.span</td><td class = \"attrvalue\">0</td></tr><tr><td class=\"attr-name\">.split</td><td class = \"attrvalue\">eval</td></tr></table></div></td></tr></table></td></tr></table></div></td></tr></table></td></tr><tr><td class=\"attr-name\">.component.outputs</td><td class = \"attrvalue\"><table class=\"attr-table\"><tr><td class=\"attr-name\">['output']</td><td class = \"attrvalue\"><style>\n",
       ".tfx-object.expanded {\n",
       "  padding: 4px 8px 4px 8px;\n",
       "  background: white;\n",
       "  border: 1px solid #bbbbbb;\n",
       "  box-shadow: 4px 4px 2px rgba(0,0,0,0.05);\n",
       "}\n",
       ".tfx-object, .tfx-object * {\n",
       "  font-size: 11pt;\n",
       "}\n",
       ".tfx-object > .title {\n",
       "  cursor: pointer;\n",
       "}\n",
       ".tfx-object .expansion-marker {\n",
       "  color: #999999;\n",
       "}\n",
       ".tfx-object.expanded > .title > .expansion-marker:before {\n",
       "  content: '▼';\n",
       "}\n",
       ".tfx-object.collapsed > .title > .expansion-marker:before {\n",
       "  content: '▶';\n",
       "}\n",
       ".tfx-object .class-name {\n",
       "  font-weight: bold;\n",
       "}\n",
       ".tfx-object .deemphasize {\n",
       "  opacity: 0.5;\n",
       "}\n",
       ".tfx-object.collapsed > table.attr-table {\n",
       "  display: none;\n",
       "}\n",
       ".tfx-object.expanded > table.attr-table {\n",
       "  display: block;\n",
       "}\n",
       ".tfx-object table.attr-table {\n",
       "  border: 2px solid white;\n",
       "  margin-top: 5px;\n",
       "}\n",
       ".tfx-object table.attr-table td.attr-name {\n",
       "  vertical-align: top;\n",
       "  font-weight: bold;\n",
       "}\n",
       ".tfx-object table.attr-table td.attrvalue {\n",
       "  text-align: left;\n",
       "}\n",
       "</style>\n",
       "<script>\n",
       "function toggleTfxObject(element) {\n",
       "  var objElement = element.parentElement;\n",
       "  if (objElement.classList.contains('collapsed')) {\n",
       "    objElement.classList.remove('collapsed');\n",
       "    objElement.classList.add('expanded');\n",
       "  } else {\n",
       "    objElement.classList.add('collapsed');\n",
       "    objElement.classList.remove('expanded');\n",
       "  }\n",
       "}\n",
       "</script>\n",
       "<div class=\"tfx-object collapsed\"><div class = \"title\" onclick=\"toggleTfxObject(this)\"><span class=\"expansion-marker\"></span><span class=\"class-name\">Channel</span> of type <span class=\"class-name\">'SchemaPath'</span> (1 artifact)<span class=\"deemphasize\"> at 0x7face81e1f28</span></div><table class=\"attr-table\"><tr><td class=\"attr-name\">.type_name</td><td class = \"attrvalue\">SchemaPath</td></tr><tr><td class=\"attr-name\">._artifacts</td><td class = \"attrvalue\"><table class=\"attr-table\"><tr><td class=\"attr-name\">[0]</td><td class = \"attrvalue\"><style>\n",
       ".tfx-object.expanded {\n",
       "  padding: 4px 8px 4px 8px;\n",
       "  background: white;\n",
       "  border: 1px solid #bbbbbb;\n",
       "  box-shadow: 4px 4px 2px rgba(0,0,0,0.05);\n",
       "}\n",
       ".tfx-object, .tfx-object * {\n",
       "  font-size: 11pt;\n",
       "}\n",
       ".tfx-object > .title {\n",
       "  cursor: pointer;\n",
       "}\n",
       ".tfx-object .expansion-marker {\n",
       "  color: #999999;\n",
       "}\n",
       ".tfx-object.expanded > .title > .expansion-marker:before {\n",
       "  content: '▼';\n",
       "}\n",
       ".tfx-object.collapsed > .title > .expansion-marker:before {\n",
       "  content: '▶';\n",
       "}\n",
       ".tfx-object .class-name {\n",
       "  font-weight: bold;\n",
       "}\n",
       ".tfx-object .deemphasize {\n",
       "  opacity: 0.5;\n",
       "}\n",
       ".tfx-object.collapsed > table.attr-table {\n",
       "  display: none;\n",
       "}\n",
       ".tfx-object.expanded > table.attr-table {\n",
       "  display: block;\n",
       "}\n",
       ".tfx-object table.attr-table {\n",
       "  border: 2px solid white;\n",
       "  margin-top: 5px;\n",
       "}\n",
       ".tfx-object table.attr-table td.attr-name {\n",
       "  vertical-align: top;\n",
       "  font-weight: bold;\n",
       "}\n",
       ".tfx-object table.attr-table td.attrvalue {\n",
       "  text-align: left;\n",
       "}\n",
       "</style>\n",
       "<script>\n",
       "function toggleTfxObject(element) {\n",
       "  var objElement = element.parentElement;\n",
       "  if (objElement.classList.contains('collapsed')) {\n",
       "    objElement.classList.remove('collapsed');\n",
       "    objElement.classList.add('expanded');\n",
       "  } else {\n",
       "    objElement.classList.add('collapsed');\n",
       "    objElement.classList.remove('expanded');\n",
       "  }\n",
       "}\n",
       "</script>\n",
       "<div class=\"tfx-object collapsed\"><div class = \"title\" onclick=\"toggleTfxObject(this)\"><span class=\"expansion-marker\"></span><span class=\"class-name\">Artifact</span> of type <span class=\"class-name\">'SchemaPath'</span> (uri: /tmp/tfx-interactive-2019-09-13T16_46_14.222336-5zedre0a/SchemaGen/output/3/)<span class=\"deemphasize\"> at 0x7fadad8aaf60</span></div><table class=\"attr-table\"><tr><td class=\"attr-name\">.type_name</td><td class = \"attrvalue\">SchemaPath</td></tr><tr><td class=\"attr-name\">.uri</td><td class = \"attrvalue\">/tmp/tfx-interactive-2019-09-13T16_46_14.222336-5zedre0a/SchemaGen/output/3/</td></tr><tr><td class=\"attr-name\">.span</td><td class = \"attrvalue\">0</td></tr><tr><td class=\"attr-name\">.split</td><td class = \"attrvalue\"></td></tr></table></div></td></tr></table></td></tr></table></div></td></tr></table></td></tr></table></div>"
      ],
      "text/plain": [
       "ExecutionResult(\n",
       "    component_id: SchemaGen\n",
       "    execution_id: 3\n",
       "    outputs:\n",
       "        output: Channel(\n",
       "            type_name: SchemaPath\n",
       "            artifacts: [Artifact(type_name: SchemaPath, uri: /tmp/tfx-interactive-2019-09-13T16_46_14.222336-5zedre0a/SchemaGen/output/3/, split: , id: 6)]\n",
       "        ))"
      ]
     },
     "execution_count": 9,
     "metadata": {},
     "output_type": "execute_result"
    }
   ],
   "source": [
    "# Generates schema based on statistics files.\n",
    "infer_schema = SchemaGen(\n",
    "    stats=statistics_gen.outputs['output'],\n",
    "    infer_feature_shape=False)\n",
    "context.run(infer_schema)"
   ]
  },
  {
   "cell_type": "markdown",
   "metadata": {
    "colab_type": "text",
    "id": "zi6TxTUKXM6b"
   },
   "source": [
    "#### Visualize the inferred schema"
   ]
  },
  {
   "cell_type": "code",
   "execution_count": 10,
   "metadata": {
    "colab": {},
    "colab_type": "code",
    "id": "Ec9vqDXpXeMb"
   },
   "outputs": [
    {
     "data": {
      "text/html": [
       "<div>\n",
       "<style scoped>\n",
       "    .dataframe tbody tr th:only-of-type {\n",
       "        vertical-align: middle;\n",
       "    }\n",
       "\n",
       "    .dataframe tbody tr th {\n",
       "        vertical-align: top;\n",
       "    }\n",
       "\n",
       "    .dataframe thead th {\n",
       "        text-align: right;\n",
       "    }\n",
       "</style>\n",
       "<table border=\"1\" class=\"dataframe\">\n",
       "  <thead>\n",
       "    <tr style=\"text-align: right;\">\n",
       "      <th></th>\n",
       "      <th>Type</th>\n",
       "      <th>Presence</th>\n",
       "      <th>Valency</th>\n",
       "      <th>Domain</th>\n",
       "    </tr>\n",
       "    <tr>\n",
       "      <th>Feature name</th>\n",
       "      <th></th>\n",
       "      <th></th>\n",
       "      <th></th>\n",
       "      <th></th>\n",
       "    </tr>\n",
       "  </thead>\n",
       "  <tbody>\n",
       "    <tr>\n",
       "      <td>'company'</td>\n",
       "      <td>STRING</td>\n",
       "      <td>optional</td>\n",
       "      <td>single</td>\n",
       "      <td>'company'</td>\n",
       "    </tr>\n",
       "    <tr>\n",
       "      <td>'payment_type'</td>\n",
       "      <td>STRING</td>\n",
       "      <td>required</td>\n",
       "      <td>single</td>\n",
       "      <td>'payment_type'</td>\n",
       "    </tr>\n",
       "    <tr>\n",
       "      <td>'trip_start_month'</td>\n",
       "      <td>INT</td>\n",
       "      <td>required</td>\n",
       "      <td>single</td>\n",
       "      <td>-</td>\n",
       "    </tr>\n",
       "    <tr>\n",
       "      <td>'pickup_longitude'</td>\n",
       "      <td>FLOAT</td>\n",
       "      <td>required</td>\n",
       "      <td>single</td>\n",
       "      <td>-</td>\n",
       "    </tr>\n",
       "    <tr>\n",
       "      <td>'trip_start_hour'</td>\n",
       "      <td>INT</td>\n",
       "      <td>required</td>\n",
       "      <td>single</td>\n",
       "      <td>-</td>\n",
       "    </tr>\n",
       "    <tr>\n",
       "      <td>'dropoff_longitude'</td>\n",
       "      <td>FLOAT</td>\n",
       "      <td>optional</td>\n",
       "      <td>single</td>\n",
       "      <td>-</td>\n",
       "    </tr>\n",
       "    <tr>\n",
       "      <td>'dropoff_community_area'</td>\n",
       "      <td>FLOAT</td>\n",
       "      <td>optional</td>\n",
       "      <td>single</td>\n",
       "      <td>-</td>\n",
       "    </tr>\n",
       "    <tr>\n",
       "      <td>'trip_seconds'</td>\n",
       "      <td>FLOAT</td>\n",
       "      <td>optional</td>\n",
       "      <td>single</td>\n",
       "      <td>-</td>\n",
       "    </tr>\n",
       "    <tr>\n",
       "      <td>'pickup_community_area'</td>\n",
       "      <td>INT</td>\n",
       "      <td>required</td>\n",
       "      <td>single</td>\n",
       "      <td>-</td>\n",
       "    </tr>\n",
       "    <tr>\n",
       "      <td>'pickup_census_tract'</td>\n",
       "      <td>BYTES</td>\n",
       "      <td>optional</td>\n",
       "      <td></td>\n",
       "      <td>-</td>\n",
       "    </tr>\n",
       "    <tr>\n",
       "      <td>'fare'</td>\n",
       "      <td>FLOAT</td>\n",
       "      <td>required</td>\n",
       "      <td>single</td>\n",
       "      <td>-</td>\n",
       "    </tr>\n",
       "    <tr>\n",
       "      <td>'trip_start_timestamp'</td>\n",
       "      <td>INT</td>\n",
       "      <td>required</td>\n",
       "      <td>single</td>\n",
       "      <td>-</td>\n",
       "    </tr>\n",
       "    <tr>\n",
       "      <td>'trip_start_day'</td>\n",
       "      <td>INT</td>\n",
       "      <td>required</td>\n",
       "      <td>single</td>\n",
       "      <td>-</td>\n",
       "    </tr>\n",
       "    <tr>\n",
       "      <td>'pickup_latitude'</td>\n",
       "      <td>FLOAT</td>\n",
       "      <td>required</td>\n",
       "      <td>single</td>\n",
       "      <td>-</td>\n",
       "    </tr>\n",
       "    <tr>\n",
       "      <td>'tips'</td>\n",
       "      <td>FLOAT</td>\n",
       "      <td>required</td>\n",
       "      <td>single</td>\n",
       "      <td>-</td>\n",
       "    </tr>\n",
       "    <tr>\n",
       "      <td>'trip_miles'</td>\n",
       "      <td>FLOAT</td>\n",
       "      <td>required</td>\n",
       "      <td>single</td>\n",
       "      <td>-</td>\n",
       "    </tr>\n",
       "    <tr>\n",
       "      <td>'dropoff_latitude'</td>\n",
       "      <td>FLOAT</td>\n",
       "      <td>optional</td>\n",
       "      <td>single</td>\n",
       "      <td>-</td>\n",
       "    </tr>\n",
       "    <tr>\n",
       "      <td>'dropoff_census_tract'</td>\n",
       "      <td>FLOAT</td>\n",
       "      <td>optional</td>\n",
       "      <td>single</td>\n",
       "      <td>-</td>\n",
       "    </tr>\n",
       "  </tbody>\n",
       "</table>\n",
       "</div>"
      ],
      "text/plain": [
       "                            Type  Presence Valency          Domain\n",
       "Feature name                                                      \n",
       "'company'                 STRING  optional  single       'company'\n",
       "'payment_type'            STRING  required  single  'payment_type'\n",
       "'trip_start_month'           INT  required  single               -\n",
       "'pickup_longitude'         FLOAT  required  single               -\n",
       "'trip_start_hour'            INT  required  single               -\n",
       "'dropoff_longitude'        FLOAT  optional  single               -\n",
       "'dropoff_community_area'   FLOAT  optional  single               -\n",
       "'trip_seconds'             FLOAT  optional  single               -\n",
       "'pickup_community_area'      INT  required  single               -\n",
       "'pickup_census_tract'      BYTES  optional                       -\n",
       "'fare'                     FLOAT  required  single               -\n",
       "'trip_start_timestamp'       INT  required  single               -\n",
       "'trip_start_day'             INT  required  single               -\n",
       "'pickup_latitude'          FLOAT  required  single               -\n",
       "'tips'                     FLOAT  required  single               -\n",
       "'trip_miles'               FLOAT  required  single               -\n",
       "'dropoff_latitude'         FLOAT  optional  single               -\n",
       "'dropoff_census_tract'     FLOAT  optional  single               -"
      ]
     },
     "metadata": {},
     "output_type": "display_data"
    },
    {
     "data": {
      "text/html": [
       "<div>\n",
       "<style scoped>\n",
       "    .dataframe tbody tr th:only-of-type {\n",
       "        vertical-align: middle;\n",
       "    }\n",
       "\n",
       "    .dataframe tbody tr th {\n",
       "        vertical-align: top;\n",
       "    }\n",
       "\n",
       "    .dataframe thead th {\n",
       "        text-align: right;\n",
       "    }\n",
       "</style>\n",
       "<table border=\"1\" class=\"dataframe\">\n",
       "  <thead>\n",
       "    <tr style=\"text-align: right;\">\n",
       "      <th></th>\n",
       "      <th>Values</th>\n",
       "    </tr>\n",
       "    <tr>\n",
       "      <th>Domain</th>\n",
       "      <th></th>\n",
       "    </tr>\n",
       "  </thead>\n",
       "  <tbody>\n",
       "    <tr>\n",
       "      <td>'company'</td>\n",
       "      <td>'0118 - 42111 Godfrey S.Awir', '0694 - 59280 Chinesco Trans Inc', '2092 - 61288 Sbeih company', '2192 - 73487 Zeymane Corp', '2733 - 74600 Benny Jona', '2823 - 73307 Seung Lee', '3011 - 66308 JBL Cab Inc.', '3094 - 24059 G.L.B. Cab Co', '3152 - 97284 Crystal Abernathy', '3201 - C&amp;D Cab Co Inc', '3201 - CID Cab Co Inc', '3253 - 91138 Gaither Cab Co.', '3319 - CD Cab Co', '3385 - 23210 Eman Cab', '3385 - Eman Cab', '3623 - 72222 Arrington Enterprises', '3897 - Ilie Malec', '4053 - 40193 Adwar H. Nikola', '4053 - Adwar H. Nikola', '4197 - 41842 Royal Star', '4197 - Royal Star', '4615 - 83503 Tyrone Henderson', '4623 - Jay Kim', '5006 - 39261 Salifu Bawa', '5006 - Salifu Bawa', '5074 - 54002 Ahzmi Inc', '5074 - Ahzmi Inc', '5129 - 87128', '5129 - 98755 Mengisti Taxi', '5129 - Mengisti Taxi', '5724 - KYVI Cab Inc', '585 - 88805 Valley Cab Co', '5864 - 73614 Thomas Owusu', '5864 - Thomas Owusu', '5874 - 73628 Sergey Cab Corp.', '5997 - 65283 AW Services Inc.', '6488 - 83287 Zuha Taxi', '6742 - 83735 Tasha ride inc', 'Blue Ribbon Taxi Association Inc.', 'C &amp; D Cab Co Inc', 'Chicago Elite Cab Corp.', 'Chicago Elite Cab Corp. (Chicago Carriag', 'Chicago Medallion Leasing INC', 'Chicago Medallion Management', 'Choice Taxi Association', 'Dispatch Taxi Affiliation', 'KOAM Taxi Association', 'Northwest Management LLC', 'Taxi Affiliation Services', 'Top Cab Affiliation'</td>\n",
       "    </tr>\n",
       "    <tr>\n",
       "      <td>'payment_type'</td>\n",
       "      <td>'Cash', 'Credit Card', 'Dispute', 'No Charge', 'Pcard', 'Prcard', 'Unknown'</td>\n",
       "    </tr>\n",
       "  </tbody>\n",
       "</table>\n",
       "</div>"
      ],
      "text/plain": [
       "                                                                                                                                                                                                                                                                                                                                                                                                                                                                                                                                                                                                                                                                                                                                                                                                                                                                                                                                                                                                                                                                                                                                                                                                                                                                                                                                                                                                                                            Values\n",
       "Domain                                                                                                                                                                                                                                                                                                                                                                                                                                                                                                                                                                                                                                                                                                                                                                                                                                                                                                                                                                                                                                                                                                                                                                                                                                                                                                                                                                                                                                            \n",
       "'company'       '0118 - 42111 Godfrey S.Awir', '0694 - 59280 Chinesco Trans Inc', '2092 - 61288 Sbeih company', '2192 - 73487 Zeymane Corp', '2733 - 74600 Benny Jona', '2823 - 73307 Seung Lee', '3011 - 66308 JBL Cab Inc.', '3094 - 24059 G.L.B. Cab Co', '3152 - 97284 Crystal Abernathy', '3201 - C&D Cab Co Inc', '3201 - CID Cab Co Inc', '3253 - 91138 Gaither Cab Co.', '3319 - CD Cab Co', '3385 - 23210 Eman Cab', '3385 - Eman Cab', '3623 - 72222 Arrington Enterprises', '3897 - Ilie Malec', '4053 - 40193 Adwar H. Nikola', '4053 - Adwar H. Nikola', '4197 - 41842 Royal Star', '4197 - Royal Star', '4615 - 83503 Tyrone Henderson', '4623 - Jay Kim', '5006 - 39261 Salifu Bawa', '5006 - Salifu Bawa', '5074 - 54002 Ahzmi Inc', '5074 - Ahzmi Inc', '5129 - 87128', '5129 - 98755 Mengisti Taxi', '5129 - Mengisti Taxi', '5724 - KYVI Cab Inc', '585 - 88805 Valley Cab Co', '5864 - 73614 Thomas Owusu', '5864 - Thomas Owusu', '5874 - 73628 Sergey Cab Corp.', '5997 - 65283 AW Services Inc.', '6488 - 83287 Zuha Taxi', '6742 - 83735 Tasha ride inc', 'Blue Ribbon Taxi Association Inc.', 'C & D Cab Co Inc', 'Chicago Elite Cab Corp.', 'Chicago Elite Cab Corp. (Chicago Carriag', 'Chicago Medallion Leasing INC', 'Chicago Medallion Management', 'Choice Taxi Association', 'Dispatch Taxi Affiliation', 'KOAM Taxi Association', 'Northwest Management LLC', 'Taxi Affiliation Services', 'Top Cab Affiliation'\n",
       "'payment_type'  'Cash', 'Credit Card', 'Dispute', 'No Charge', 'Pcard', 'Prcard', 'Unknown'                                                                                                                                                                                                                                                                                                                                                                                                                                                                                                                                                                                                                                                                                                                                                                                                                                                                                                                                                                                                                                                                                                                                                                                                                                                                                                                                                       "
      ]
     },
     "metadata": {},
     "output_type": "display_data"
    }
   ],
   "source": [
    "if check_ipython():\n",
    "  # Get the schema path.\n",
    "  schema_dir = infer_schema.outputs['output'].get()[0].uri\n",
    "  schema_path = os.path.join(schema_dir, 'schema.pbtxt')\n",
    "\n",
    "  # Load and visualize the generated schema.\n",
    "  schema = tfdv.load_schema_text(schema_path)\n",
    "  tfdv.display_schema(schema)"
   ]
  },
  {
   "cell_type": "markdown",
   "metadata": {
    "colab_type": "text",
    "id": "V1qcUuO9k9f8"
   },
   "source": [
    "### ExampleValidator\n",
    "`ExampleValidator` performs anomaly detection based on computed statistics and your data schema."
   ]
  },
  {
   "cell_type": "markdown",
   "metadata": {
    "colab_type": "text",
    "id": "ONg1bt57gVna"
   },
   "source": [
    "#### Run TFDV data validation using the ExampleValidation component"
   ]
  },
  {
   "cell_type": "code",
   "execution_count": 11,
   "metadata": {
    "colab": {},
    "colab_type": "code",
    "id": "XRlRUuGgiXks"
   },
   "outputs": [
    {
     "name": "stdout",
     "output_type": "stream",
     "text": [
      "INFO:tensorflow:Run driver for ExampleValidator\n"
     ]
    },
    {
     "name": "stderr",
     "output_type": "stream",
     "text": [
      "INFO:tensorflow:Run driver for ExampleValidator\n"
     ]
    },
    {
     "name": "stdout",
     "output_type": "stream",
     "text": [
      "INFO:tensorflow:Created run context interactive-2019-09-13T16_46_14.222336.2019-09-13T16:46:34.591902.\n"
     ]
    },
    {
     "name": "stderr",
     "output_type": "stream",
     "text": [
      "INFO:tensorflow:Created run context interactive-2019-09-13T16_46_14.222336.2019-09-13T16:46:34.591902.\n"
     ]
    },
    {
     "name": "stdout",
     "output_type": "stream",
     "text": [
      "INFO:tensorflow:ID of run context interactive-2019-09-13T16_46_14.222336.2019-09-13T16:46:34.591902 is 4.\n"
     ]
    },
    {
     "name": "stderr",
     "output_type": "stream",
     "text": [
      "INFO:tensorflow:ID of run context interactive-2019-09-13T16_46_14.222336.2019-09-13T16:46:34.591902 is 4.\n"
     ]
    },
    {
     "name": "stdout",
     "output_type": "stream",
     "text": [
      "INFO:tensorflow:Resolved input artifacts are: {'stats': [Artifact(type_name: ExampleStatisticsPath, uri: /tmp/tfx-interactive-2019-09-13T16_46_14.222336-5zedre0a/StatisticsGen/output/2/train/, split: train, id: 4), Artifact(type_name: ExampleStatisticsPath, uri: /tmp/tfx-interactive-2019-09-13T16_46_14.222336-5zedre0a/StatisticsGen/output/2/eval/, split: eval, id: 5)], 'schema': [Artifact(type_name: SchemaPath, uri: /tmp/tfx-interactive-2019-09-13T16_46_14.222336-5zedre0a/SchemaGen/output/3/, split: , id: 6)]}\n"
     ]
    },
    {
     "name": "stderr",
     "output_type": "stream",
     "text": [
      "INFO:tensorflow:Resolved input artifacts are: {'stats': [Artifact(type_name: ExampleStatisticsPath, uri: /tmp/tfx-interactive-2019-09-13T16_46_14.222336-5zedre0a/StatisticsGen/output/2/train/, split: train, id: 4), Artifact(type_name: ExampleStatisticsPath, uri: /tmp/tfx-interactive-2019-09-13T16_46_14.222336-5zedre0a/StatisticsGen/output/2/eval/, split: eval, id: 5)], 'schema': [Artifact(type_name: SchemaPath, uri: /tmp/tfx-interactive-2019-09-13T16_46_14.222336-5zedre0a/SchemaGen/output/3/, split: , id: 6)]}\n"
     ]
    },
    {
     "name": "stdout",
     "output_type": "stream",
     "text": [
      "INFO:tensorflow:Prepared EXECUTION:\n",
      " type_id: 9\n",
      "properties {\n",
      "  key: \"component_id\"\n",
      "  value {\n",
      "    string_value: \"ExampleValidator\"\n",
      "  }\n",
      "}\n",
      "properties {\n",
      "  key: \"pipeline_name\"\n",
      "  value {\n",
      "    string_value: \"interactive-2019-09-13T16_46_14.222336\"\n",
      "  }\n",
      "}\n",
      "properties {\n",
      "  key: \"pipeline_root\"\n",
      "  value {\n",
      "    string_value: \"/tmp/tfx-interactive-2019-09-13T16_46_14.222336-5zedre0a\"\n",
      "  }\n",
      "}\n",
      "properties {\n",
      "  key: \"run_id\"\n",
      "  value {\n",
      "    string_value: \"2019-09-13T16:46:34.591902\"\n",
      "  }\n",
      "}\n",
      "properties {\n",
      "  key: \"state\"\n",
      "  value {\n",
      "    string_value: \"new\"\n",
      "  }\n",
      "}\n",
      "\n"
     ]
    },
    {
     "name": "stderr",
     "output_type": "stream",
     "text": [
      "INFO:tensorflow:Prepared EXECUTION:\n",
      " type_id: 9\n",
      "properties {\n",
      "  key: \"component_id\"\n",
      "  value {\n",
      "    string_value: \"ExampleValidator\"\n",
      "  }\n",
      "}\n",
      "properties {\n",
      "  key: \"pipeline_name\"\n",
      "  value {\n",
      "    string_value: \"interactive-2019-09-13T16_46_14.222336\"\n",
      "  }\n",
      "}\n",
      "properties {\n",
      "  key: \"pipeline_root\"\n",
      "  value {\n",
      "    string_value: \"/tmp/tfx-interactive-2019-09-13T16_46_14.222336-5zedre0a\"\n",
      "  }\n",
      "}\n",
      "properties {\n",
      "  key: \"run_id\"\n",
      "  value {\n",
      "    string_value: \"2019-09-13T16:46:34.591902\"\n",
      "  }\n",
      "}\n",
      "properties {\n",
      "  key: \"state\"\n",
      "  value {\n",
      "    string_value: \"new\"\n",
      "  }\n",
      "}\n",
      "\n"
     ]
    },
    {
     "name": "stdout",
     "output_type": "stream",
     "text": [
      "INFO:tensorflow:Execution id of the upcoming component execution is 4\n"
     ]
    },
    {
     "name": "stderr",
     "output_type": "stream",
     "text": [
      "INFO:tensorflow:Execution id of the upcoming component execution is 4\n"
     ]
    },
    {
     "name": "stdout",
     "output_type": "stream",
     "text": [
      "INFO:tensorflow:Checking previous run for execution_type_name tfx.components.example_validator.component.ExampleValidator and input_artifacts {'stats': [Artifact(type_name: ExampleStatisticsPath, uri: /tmp/tfx-interactive-2019-09-13T16_46_14.222336-5zedre0a/StatisticsGen/output/2/train/, split: train, id: 4), Artifact(type_name: ExampleStatisticsPath, uri: /tmp/tfx-interactive-2019-09-13T16_46_14.222336-5zedre0a/StatisticsGen/output/2/eval/, split: eval, id: 5)], 'schema': [Artifact(type_name: SchemaPath, uri: /tmp/tfx-interactive-2019-09-13T16_46_14.222336-5zedre0a/SchemaGen/output/3/, split: , id: 6)]}\n"
     ]
    },
    {
     "name": "stderr",
     "output_type": "stream",
     "text": [
      "INFO:tensorflow:Checking previous run for execution_type_name tfx.components.example_validator.component.ExampleValidator and input_artifacts {'stats': [Artifact(type_name: ExampleStatisticsPath, uri: /tmp/tfx-interactive-2019-09-13T16_46_14.222336-5zedre0a/StatisticsGen/output/2/train/, split: train, id: 4), Artifact(type_name: ExampleStatisticsPath, uri: /tmp/tfx-interactive-2019-09-13T16_46_14.222336-5zedre0a/StatisticsGen/output/2/eval/, split: eval, id: 5)], 'schema': [Artifact(type_name: SchemaPath, uri: /tmp/tfx-interactive-2019-09-13T16_46_14.222336-5zedre0a/SchemaGen/output/3/, split: , id: 6)]}\n"
     ]
    },
    {
     "name": "stdout",
     "output_type": "stream",
     "text": [
      "INFO:tensorflow:Prepared EXECUTION:\n",
      " type_id: 9\n",
      "properties {\n",
      "  key: \"component_id\"\n",
      "  value {\n",
      "    string_value: \"ExampleValidator\"\n",
      "  }\n",
      "}\n",
      "properties {\n",
      "  key: \"pipeline_name\"\n",
      "  value {\n",
      "    string_value: \"interactive-2019-09-13T16_46_14.222336\"\n",
      "  }\n",
      "}\n",
      "properties {\n",
      "  key: \"pipeline_root\"\n",
      "  value {\n",
      "    string_value: \"/tmp/tfx-interactive-2019-09-13T16_46_14.222336-5zedre0a\"\n",
      "  }\n",
      "}\n",
      "properties {\n",
      "  key: \"run_id\"\n",
      "  value {\n",
      "    string_value: \"2019-09-13T16:46:34.591902\"\n",
      "  }\n",
      "}\n",
      "properties {\n",
      "  key: \"state\"\n",
      "  value {\n",
      "    string_value: \"complete\"\n",
      "  }\n",
      "}\n",
      "\n"
     ]
    },
    {
     "name": "stderr",
     "output_type": "stream",
     "text": [
      "INFO:tensorflow:Prepared EXECUTION:\n",
      " type_id: 9\n",
      "properties {\n",
      "  key: \"component_id\"\n",
      "  value {\n",
      "    string_value: \"ExampleValidator\"\n",
      "  }\n",
      "}\n",
      "properties {\n",
      "  key: \"pipeline_name\"\n",
      "  value {\n",
      "    string_value: \"interactive-2019-09-13T16_46_14.222336\"\n",
      "  }\n",
      "}\n",
      "properties {\n",
      "  key: \"pipeline_root\"\n",
      "  value {\n",
      "    string_value: \"/tmp/tfx-interactive-2019-09-13T16_46_14.222336-5zedre0a\"\n",
      "  }\n",
      "}\n",
      "properties {\n",
      "  key: \"run_id\"\n",
      "  value {\n",
      "    string_value: \"2019-09-13T16:46:34.591902\"\n",
      "  }\n",
      "}\n",
      "properties {\n",
      "  key: \"state\"\n",
      "  value {\n",
      "    string_value: \"complete\"\n",
      "  }\n",
      "}\n",
      "\n"
     ]
    },
    {
     "name": "stdout",
     "output_type": "stream",
     "text": [
      "INFO:tensorflow:No execution matching type id and input artifacts found\n"
     ]
    },
    {
     "name": "stderr",
     "output_type": "stream",
     "text": [
      "INFO:tensorflow:No execution matching type id and input artifacts found\n"
     ]
    },
    {
     "name": "stdout",
     "output_type": "stream",
     "text": [
      "INFO:tensorflow:Cached results not found, move on to new execution\n"
     ]
    },
    {
     "name": "stderr",
     "output_type": "stream",
     "text": [
      "INFO:tensorflow:Cached results not found, move on to new execution\n"
     ]
    },
    {
     "name": "stdout",
     "output_type": "stream",
     "text": [
      "INFO:tensorflow:Creating output artifact uri /tmp/tfx-interactive-2019-09-13T16_46_14.222336-5zedre0a/ExampleValidator/output/4/ as directory\n"
     ]
    },
    {
     "name": "stderr",
     "output_type": "stream",
     "text": [
      "INFO:tensorflow:Creating output artifact uri /tmp/tfx-interactive-2019-09-13T16_46_14.222336-5zedre0a/ExampleValidator/output/4/ as directory\n"
     ]
    },
    {
     "name": "stdout",
     "output_type": "stream",
     "text": [
      "INFO:tensorflow:Output artifacts skeleton for the upcoming execution are: {'output': [Artifact(type_name: ExampleValidationPath, uri: /tmp/tfx-interactive-2019-09-13T16_46_14.222336-5zedre0a/ExampleValidator/output/4/, split: , id: 0)]}\n"
     ]
    },
    {
     "name": "stderr",
     "output_type": "stream",
     "text": [
      "INFO:tensorflow:Output artifacts skeleton for the upcoming execution are: {'output': [Artifact(type_name: ExampleValidationPath, uri: /tmp/tfx-interactive-2019-09-13T16_46_14.222336-5zedre0a/ExampleValidator/output/4/, split: , id: 0)]}\n"
     ]
    },
    {
     "name": "stdout",
     "output_type": "stream",
     "text": [
      "INFO:tensorflow:Execution properties for the upcoming execution are: {}\n"
     ]
    },
    {
     "name": "stderr",
     "output_type": "stream",
     "text": [
      "INFO:tensorflow:Execution properties for the upcoming execution are: {}\n"
     ]
    },
    {
     "name": "stdout",
     "output_type": "stream",
     "text": [
      "INFO:tensorflow:Run executor for ExampleValidator\n"
     ]
    },
    {
     "name": "stderr",
     "output_type": "stream",
     "text": [
      "INFO:tensorflow:Run executor for ExampleValidator\n"
     ]
    },
    {
     "name": "stdout",
     "output_type": "stream",
     "text": [
      "INFO:tensorflow:Starting Executor execution.\n"
     ]
    },
    {
     "name": "stderr",
     "output_type": "stream",
     "text": [
      "INFO:tensorflow:Starting Executor execution.\n"
     ]
    },
    {
     "name": "stdout",
     "output_type": "stream",
     "text": [
      "INFO:tensorflow:Inputs for Executor is: {\"stats\": [{\"artifact\": {\"id\": \"4\", \"typeId\": \"6\", \"uri\": \"/tmp/tfx-interactive-2019-09-13T16_46_14.222336-5zedre0a/StatisticsGen/output/2/train/\", \"properties\": {\"type_name\": {\"stringValue\": \"ExampleStatisticsPath\"}, \"state\": {\"stringValue\": \"published\"}, \"span\": {}, \"pipeline_name\": {\"stringValue\": \"interactive-2019-09-13T16_46_14.222336\"}, \"producer_component\": {\"stringValue\": \"StatisticsGen\"}, \"split\": {\"stringValue\": \"train\"}, \"name\": {\"stringValue\": \"output\"}}}, \"artifact_type\": {\"id\": \"6\", \"name\": \"ExampleStatisticsPath\", \"properties\": {\"name\": \"STRING\", \"type_name\": \"STRING\", \"state\": \"STRING\", \"producer_component\": \"STRING\", \"span\": \"INT\", \"pipeline_name\": \"STRING\", \"split\": \"STRING\"}}}, {\"artifact\": {\"id\": \"5\", \"typeId\": \"6\", \"uri\": \"/tmp/tfx-interactive-2019-09-13T16_46_14.222336-5zedre0a/StatisticsGen/output/2/eval/\", \"properties\": {\"name\": {\"stringValue\": \"output\"}, \"type_name\": {\"stringValue\": \"ExampleStatisticsPath\"}, \"state\": {\"stringValue\": \"published\"}, \"span\": {}, \"pipeline_name\": {\"stringValue\": \"interactive-2019-09-13T16_46_14.222336\"}, \"producer_component\": {\"stringValue\": \"StatisticsGen\"}, \"split\": {\"stringValue\": \"eval\"}}}, \"artifact_type\": {\"id\": \"6\", \"name\": \"ExampleStatisticsPath\", \"properties\": {\"split\": \"STRING\", \"name\": \"STRING\", \"type_name\": \"STRING\", \"state\": \"STRING\", \"producer_component\": \"STRING\", \"span\": \"INT\", \"pipeline_name\": \"STRING\"}}}], \"schema\": [{\"artifact\": {\"id\": \"6\", \"typeId\": \"8\", \"uri\": \"/tmp/tfx-interactive-2019-09-13T16_46_14.222336-5zedre0a/SchemaGen/output/3/\", \"properties\": {\"split\": {\"stringValue\": \"\"}, \"name\": {\"stringValue\": \"output\"}, \"type_name\": {\"stringValue\": \"SchemaPath\"}, \"state\": {\"stringValue\": \"published\"}, \"span\": {}, \"pipeline_name\": {\"stringValue\": \"interactive-2019-09-13T16_46_14.222336\"}, \"producer_component\": {\"stringValue\": \"SchemaGen\"}}}, \"artifact_type\": {\"id\": \"8\", \"name\": \"SchemaPath\", \"properties\": {\"name\": \"STRING\", \"type_name\": \"STRING\", \"state\": \"STRING\", \"producer_component\": \"STRING\", \"span\": \"INT\", \"pipeline_name\": \"STRING\", \"split\": \"STRING\"}}}]}\n"
     ]
    },
    {
     "name": "stderr",
     "output_type": "stream",
     "text": [
      "INFO:tensorflow:Inputs for Executor is: {\"stats\": [{\"artifact\": {\"id\": \"4\", \"typeId\": \"6\", \"uri\": \"/tmp/tfx-interactive-2019-09-13T16_46_14.222336-5zedre0a/StatisticsGen/output/2/train/\", \"properties\": {\"type_name\": {\"stringValue\": \"ExampleStatisticsPath\"}, \"state\": {\"stringValue\": \"published\"}, \"span\": {}, \"pipeline_name\": {\"stringValue\": \"interactive-2019-09-13T16_46_14.222336\"}, \"producer_component\": {\"stringValue\": \"StatisticsGen\"}, \"split\": {\"stringValue\": \"train\"}, \"name\": {\"stringValue\": \"output\"}}}, \"artifact_type\": {\"id\": \"6\", \"name\": \"ExampleStatisticsPath\", \"properties\": {\"name\": \"STRING\", \"type_name\": \"STRING\", \"state\": \"STRING\", \"producer_component\": \"STRING\", \"span\": \"INT\", \"pipeline_name\": \"STRING\", \"split\": \"STRING\"}}}, {\"artifact\": {\"id\": \"5\", \"typeId\": \"6\", \"uri\": \"/tmp/tfx-interactive-2019-09-13T16_46_14.222336-5zedre0a/StatisticsGen/output/2/eval/\", \"properties\": {\"name\": {\"stringValue\": \"output\"}, \"type_name\": {\"stringValue\": \"ExampleStatisticsPath\"}, \"state\": {\"stringValue\": \"published\"}, \"span\": {}, \"pipeline_name\": {\"stringValue\": \"interactive-2019-09-13T16_46_14.222336\"}, \"producer_component\": {\"stringValue\": \"StatisticsGen\"}, \"split\": {\"stringValue\": \"eval\"}}}, \"artifact_type\": {\"id\": \"6\", \"name\": \"ExampleStatisticsPath\", \"properties\": {\"split\": \"STRING\", \"name\": \"STRING\", \"type_name\": \"STRING\", \"state\": \"STRING\", \"producer_component\": \"STRING\", \"span\": \"INT\", \"pipeline_name\": \"STRING\"}}}], \"schema\": [{\"artifact\": {\"id\": \"6\", \"typeId\": \"8\", \"uri\": \"/tmp/tfx-interactive-2019-09-13T16_46_14.222336-5zedre0a/SchemaGen/output/3/\", \"properties\": {\"split\": {\"stringValue\": \"\"}, \"name\": {\"stringValue\": \"output\"}, \"type_name\": {\"stringValue\": \"SchemaPath\"}, \"state\": {\"stringValue\": \"published\"}, \"span\": {}, \"pipeline_name\": {\"stringValue\": \"interactive-2019-09-13T16_46_14.222336\"}, \"producer_component\": {\"stringValue\": \"SchemaGen\"}}}, \"artifact_type\": {\"id\": \"8\", \"name\": \"SchemaPath\", \"properties\": {\"name\": \"STRING\", \"type_name\": \"STRING\", \"state\": \"STRING\", \"producer_component\": \"STRING\", \"span\": \"INT\", \"pipeline_name\": \"STRING\", \"split\": \"STRING\"}}}]}\n"
     ]
    },
    {
     "name": "stdout",
     "output_type": "stream",
     "text": [
      "INFO:tensorflow:Outputs for Executor is: {\"output\": [{\"artifact\": {\"uri\": \"/tmp/tfx-interactive-2019-09-13T16_46_14.222336-5zedre0a/ExampleValidator/output/4/\", \"properties\": {\"name\": {\"stringValue\": \"output\"}, \"type_name\": {\"stringValue\": \"ExampleValidationPath\"}, \"split\": {\"stringValue\": \"\"}, \"producer_component\": {\"stringValue\": \"ExampleValidator\"}, \"pipeline_name\": {\"stringValue\": \"interactive-2019-09-13T16_46_14.222336\"}}}, \"artifact_type\": {\"name\": \"ExampleValidationPath\", \"properties\": {\"name\": \"STRING\", \"type_name\": \"STRING\", \"state\": \"STRING\", \"producer_component\": \"STRING\", \"span\": \"INT\", \"pipeline_name\": \"STRING\", \"split\": \"STRING\"}}}]}\n"
     ]
    },
    {
     "name": "stderr",
     "output_type": "stream",
     "text": [
      "INFO:tensorflow:Outputs for Executor is: {\"output\": [{\"artifact\": {\"uri\": \"/tmp/tfx-interactive-2019-09-13T16_46_14.222336-5zedre0a/ExampleValidator/output/4/\", \"properties\": {\"name\": {\"stringValue\": \"output\"}, \"type_name\": {\"stringValue\": \"ExampleValidationPath\"}, \"split\": {\"stringValue\": \"\"}, \"producer_component\": {\"stringValue\": \"ExampleValidator\"}, \"pipeline_name\": {\"stringValue\": \"interactive-2019-09-13T16_46_14.222336\"}}}, \"artifact_type\": {\"name\": \"ExampleValidationPath\", \"properties\": {\"name\": \"STRING\", \"type_name\": \"STRING\", \"state\": \"STRING\", \"producer_component\": \"STRING\", \"span\": \"INT\", \"pipeline_name\": \"STRING\", \"split\": \"STRING\"}}}]}\n"
     ]
    },
    {
     "name": "stdout",
     "output_type": "stream",
     "text": [
      "INFO:tensorflow:Execution properties for Executor is: {}\n"
     ]
    },
    {
     "name": "stderr",
     "output_type": "stream",
     "text": [
      "INFO:tensorflow:Execution properties for Executor is: {}\n"
     ]
    },
    {
     "name": "stdout",
     "output_type": "stream",
     "text": [
      "INFO:tensorflow:Validating schema against the computed statistics.\n"
     ]
    },
    {
     "name": "stderr",
     "output_type": "stream",
     "text": [
      "INFO:tensorflow:Validating schema against the computed statistics.\n"
     ]
    },
    {
     "name": "stdout",
     "output_type": "stream",
     "text": [
      "INFO:tensorflow:Validation complete. Anomalies written to /tmp/tfx-interactive-2019-09-13T16_46_14.222336-5zedre0a/ExampleValidator/output/4/.\n"
     ]
    },
    {
     "name": "stderr",
     "output_type": "stream",
     "text": [
      "INFO:tensorflow:Validation complete. Anomalies written to /tmp/tfx-interactive-2019-09-13T16_46_14.222336-5zedre0a/ExampleValidator/output/4/.\n"
     ]
    },
    {
     "name": "stdout",
     "output_type": "stream",
     "text": [
      "INFO:tensorflow:Run publisher for ExampleValidator\n"
     ]
    },
    {
     "name": "stderr",
     "output_type": "stream",
     "text": [
      "INFO:tensorflow:Run publisher for ExampleValidator\n"
     ]
    },
    {
     "name": "stdout",
     "output_type": "stream",
     "text": [
      "INFO:tensorflow:Whether cached results are used: False\n"
     ]
    },
    {
     "name": "stderr",
     "output_type": "stream",
     "text": [
      "INFO:tensorflow:Whether cached results are used: False\n"
     ]
    },
    {
     "name": "stdout",
     "output_type": "stream",
     "text": [
      "INFO:tensorflow:Execution id: 4\n"
     ]
    },
    {
     "name": "stderr",
     "output_type": "stream",
     "text": [
      "INFO:tensorflow:Execution id: 4\n"
     ]
    },
    {
     "name": "stdout",
     "output_type": "stream",
     "text": [
      "INFO:tensorflow:Inputs: {'stats': [Artifact(type_name: ExampleStatisticsPath, uri: /tmp/tfx-interactive-2019-09-13T16_46_14.222336-5zedre0a/StatisticsGen/output/2/train/, split: train, id: 4), Artifact(type_name: ExampleStatisticsPath, uri: /tmp/tfx-interactive-2019-09-13T16_46_14.222336-5zedre0a/StatisticsGen/output/2/eval/, split: eval, id: 5)], 'schema': [Artifact(type_name: SchemaPath, uri: /tmp/tfx-interactive-2019-09-13T16_46_14.222336-5zedre0a/SchemaGen/output/3/, split: , id: 6)]}\n"
     ]
    },
    {
     "name": "stderr",
     "output_type": "stream",
     "text": [
      "INFO:tensorflow:Inputs: {'stats': [Artifact(type_name: ExampleStatisticsPath, uri: /tmp/tfx-interactive-2019-09-13T16_46_14.222336-5zedre0a/StatisticsGen/output/2/train/, split: train, id: 4), Artifact(type_name: ExampleStatisticsPath, uri: /tmp/tfx-interactive-2019-09-13T16_46_14.222336-5zedre0a/StatisticsGen/output/2/eval/, split: eval, id: 5)], 'schema': [Artifact(type_name: SchemaPath, uri: /tmp/tfx-interactive-2019-09-13T16_46_14.222336-5zedre0a/SchemaGen/output/3/, split: , id: 6)]}\n"
     ]
    },
    {
     "name": "stdout",
     "output_type": "stream",
     "text": [
      "INFO:tensorflow:Outputs: {'output': [Artifact(type_name: ExampleValidationPath, uri: /tmp/tfx-interactive-2019-09-13T16_46_14.222336-5zedre0a/ExampleValidator/output/4/, split: , id: 0)]}\n"
     ]
    },
    {
     "name": "stderr",
     "output_type": "stream",
     "text": [
      "INFO:tensorflow:Outputs: {'output': [Artifact(type_name: ExampleValidationPath, uri: /tmp/tfx-interactive-2019-09-13T16_46_14.222336-5zedre0a/ExampleValidator/output/4/, split: , id: 0)]}\n"
     ]
    },
    {
     "name": "stdout",
     "output_type": "stream",
     "text": [
      "INFO:tensorflow:Publishing execution id: 4\n",
      "type_id: 9\n",
      "properties {\n",
      "  key: \"component_id\"\n",
      "  value {\n",
      "    string_value: \"ExampleValidator\"\n",
      "  }\n",
      "}\n",
      "properties {\n",
      "  key: \"pipeline_name\"\n",
      "  value {\n",
      "    string_value: \"interactive-2019-09-13T16_46_14.222336\"\n",
      "  }\n",
      "}\n",
      "properties {\n",
      "  key: \"pipeline_root\"\n",
      "  value {\n",
      "    string_value: \"/tmp/tfx-interactive-2019-09-13T16_46_14.222336-5zedre0a\"\n",
      "  }\n",
      "}\n",
      "properties {\n",
      "  key: \"run_id\"\n",
      "  value {\n",
      "    string_value: \"2019-09-13T16:46:34.591902\"\n",
      "  }\n",
      "}\n",
      "properties {\n",
      "  key: \"state\"\n",
      "  value {\n",
      "    string_value: \"complete\"\n",
      "  }\n",
      "}\n",
      ", with inputs {'stats': [Artifact(type_name: ExampleStatisticsPath, uri: /tmp/tfx-interactive-2019-09-13T16_46_14.222336-5zedre0a/StatisticsGen/output/2/train/, split: train, id: 4), Artifact(type_name: ExampleStatisticsPath, uri: /tmp/tfx-interactive-2019-09-13T16_46_14.222336-5zedre0a/StatisticsGen/output/2/eval/, split: eval, id: 5)], 'schema': [Artifact(type_name: SchemaPath, uri: /tmp/tfx-interactive-2019-09-13T16_46_14.222336-5zedre0a/SchemaGen/output/3/, split: , id: 6)]} and outputs {'output': [Artifact(type_name: ExampleValidationPath, uri: /tmp/tfx-interactive-2019-09-13T16_46_14.222336-5zedre0a/ExampleValidator/output/4/, split: , id: 0)]}\n"
     ]
    },
    {
     "name": "stderr",
     "output_type": "stream",
     "text": [
      "INFO:tensorflow:Publishing execution id: 4\n",
      "type_id: 9\n",
      "properties {\n",
      "  key: \"component_id\"\n",
      "  value {\n",
      "    string_value: \"ExampleValidator\"\n",
      "  }\n",
      "}\n",
      "properties {\n",
      "  key: \"pipeline_name\"\n",
      "  value {\n",
      "    string_value: \"interactive-2019-09-13T16_46_14.222336\"\n",
      "  }\n",
      "}\n",
      "properties {\n",
      "  key: \"pipeline_root\"\n",
      "  value {\n",
      "    string_value: \"/tmp/tfx-interactive-2019-09-13T16_46_14.222336-5zedre0a\"\n",
      "  }\n",
      "}\n",
      "properties {\n",
      "  key: \"run_id\"\n",
      "  value {\n",
      "    string_value: \"2019-09-13T16:46:34.591902\"\n",
      "  }\n",
      "}\n",
      "properties {\n",
      "  key: \"state\"\n",
      "  value {\n",
      "    string_value: \"complete\"\n",
      "  }\n",
      "}\n",
      ", with inputs {'stats': [Artifact(type_name: ExampleStatisticsPath, uri: /tmp/tfx-interactive-2019-09-13T16_46_14.222336-5zedre0a/StatisticsGen/output/2/train/, split: train, id: 4), Artifact(type_name: ExampleStatisticsPath, uri: /tmp/tfx-interactive-2019-09-13T16_46_14.222336-5zedre0a/StatisticsGen/output/2/eval/, split: eval, id: 5)], 'schema': [Artifact(type_name: SchemaPath, uri: /tmp/tfx-interactive-2019-09-13T16_46_14.222336-5zedre0a/SchemaGen/output/3/, split: , id: 6)]} and outputs {'output': [Artifact(type_name: ExampleValidationPath, uri: /tmp/tfx-interactive-2019-09-13T16_46_14.222336-5zedre0a/ExampleValidator/output/4/, split: , id: 0)]}\n"
     ]
    },
    {
     "name": "stdout",
     "output_type": "stream",
     "text": [
      "INFO:tensorflow:Published execution with final outputs {'output': [Artifact(type_name: ExampleValidationPath, uri: /tmp/tfx-interactive-2019-09-13T16_46_14.222336-5zedre0a/ExampleValidator/output/4/, split: , id: 7)]}\n"
     ]
    },
    {
     "name": "stderr",
     "output_type": "stream",
     "text": [
      "INFO:tensorflow:Published execution with final outputs {'output': [Artifact(type_name: ExampleValidationPath, uri: /tmp/tfx-interactive-2019-09-13T16_46_14.222336-5zedre0a/ExampleValidator/output/4/, split: , id: 7)]}\n"
     ]
    },
    {
     "data": {
      "text/html": [
       "<style>\n",
       ".tfx-object.expanded {\n",
       "  padding: 4px 8px 4px 8px;\n",
       "  background: white;\n",
       "  border: 1px solid #bbbbbb;\n",
       "  box-shadow: 4px 4px 2px rgba(0,0,0,0.05);\n",
       "}\n",
       ".tfx-object, .tfx-object * {\n",
       "  font-size: 11pt;\n",
       "}\n",
       ".tfx-object > .title {\n",
       "  cursor: pointer;\n",
       "}\n",
       ".tfx-object .expansion-marker {\n",
       "  color: #999999;\n",
       "}\n",
       ".tfx-object.expanded > .title > .expansion-marker:before {\n",
       "  content: '▼';\n",
       "}\n",
       ".tfx-object.collapsed > .title > .expansion-marker:before {\n",
       "  content: '▶';\n",
       "}\n",
       ".tfx-object .class-name {\n",
       "  font-weight: bold;\n",
       "}\n",
       ".tfx-object .deemphasize {\n",
       "  opacity: 0.5;\n",
       "}\n",
       ".tfx-object.collapsed > table.attr-table {\n",
       "  display: none;\n",
       "}\n",
       ".tfx-object.expanded > table.attr-table {\n",
       "  display: block;\n",
       "}\n",
       ".tfx-object table.attr-table {\n",
       "  border: 2px solid white;\n",
       "  margin-top: 5px;\n",
       "}\n",
       ".tfx-object table.attr-table td.attr-name {\n",
       "  vertical-align: top;\n",
       "  font-weight: bold;\n",
       "}\n",
       ".tfx-object table.attr-table td.attrvalue {\n",
       "  text-align: left;\n",
       "}\n",
       "</style>\n",
       "<script>\n",
       "function toggleTfxObject(element) {\n",
       "  var objElement = element.parentElement;\n",
       "  if (objElement.classList.contains('collapsed')) {\n",
       "    objElement.classList.remove('collapsed');\n",
       "    objElement.classList.add('expanded');\n",
       "  } else {\n",
       "    objElement.classList.add('collapsed');\n",
       "    objElement.classList.remove('expanded');\n",
       "  }\n",
       "}\n",
       "</script>\n",
       "<div class=\"tfx-object expanded\"><div class = \"title\" onclick=\"toggleTfxObject(this)\"><span class=\"expansion-marker\"></span><span class=\"class-name\">ExecutionResult</span><span class=\"deemphasize\"> at 0x7fadade520b8</span></div><table class=\"attr-table\"><tr><td class=\"attr-name\">.execution_id</td><td class = \"attrvalue\">4</td></tr><tr><td class=\"attr-name\">.component</td><td class = \"attrvalue\"><style>\n",
       ".tfx-object.expanded {\n",
       "  padding: 4px 8px 4px 8px;\n",
       "  background: white;\n",
       "  border: 1px solid #bbbbbb;\n",
       "  box-shadow: 4px 4px 2px rgba(0,0,0,0.05);\n",
       "}\n",
       ".tfx-object, .tfx-object * {\n",
       "  font-size: 11pt;\n",
       "}\n",
       ".tfx-object > .title {\n",
       "  cursor: pointer;\n",
       "}\n",
       ".tfx-object .expansion-marker {\n",
       "  color: #999999;\n",
       "}\n",
       ".tfx-object.expanded > .title > .expansion-marker:before {\n",
       "  content: '▼';\n",
       "}\n",
       ".tfx-object.collapsed > .title > .expansion-marker:before {\n",
       "  content: '▶';\n",
       "}\n",
       ".tfx-object .class-name {\n",
       "  font-weight: bold;\n",
       "}\n",
       ".tfx-object .deemphasize {\n",
       "  opacity: 0.5;\n",
       "}\n",
       ".tfx-object.collapsed > table.attr-table {\n",
       "  display: none;\n",
       "}\n",
       ".tfx-object.expanded > table.attr-table {\n",
       "  display: block;\n",
       "}\n",
       ".tfx-object table.attr-table {\n",
       "  border: 2px solid white;\n",
       "  margin-top: 5px;\n",
       "}\n",
       ".tfx-object table.attr-table td.attr-name {\n",
       "  vertical-align: top;\n",
       "  font-weight: bold;\n",
       "}\n",
       ".tfx-object table.attr-table td.attrvalue {\n",
       "  text-align: left;\n",
       "}\n",
       "</style>\n",
       "<script>\n",
       "function toggleTfxObject(element) {\n",
       "  var objElement = element.parentElement;\n",
       "  if (objElement.classList.contains('collapsed')) {\n",
       "    objElement.classList.remove('collapsed');\n",
       "    objElement.classList.add('expanded');\n",
       "  } else {\n",
       "    objElement.classList.add('collapsed');\n",
       "    objElement.classList.remove('expanded');\n",
       "  }\n",
       "}\n",
       "</script>\n",
       "<div class=\"tfx-object collapsed\"><div class = \"title\" onclick=\"toggleTfxObject(this)\"><span class=\"expansion-marker\"></span><span class=\"class-name\">ExampleValidator</span><span class=\"deemphasize\"> at 0x7fadadfadcf8</span></div><table class=\"attr-table\"><tr><td class=\"attr-name\">.inputs</td><td class = \"attrvalue\"><table class=\"attr-table\"><tr><td class=\"attr-name\">['stats']</td><td class = \"attrvalue\"><style>\n",
       ".tfx-object.expanded {\n",
       "  padding: 4px 8px 4px 8px;\n",
       "  background: white;\n",
       "  border: 1px solid #bbbbbb;\n",
       "  box-shadow: 4px 4px 2px rgba(0,0,0,0.05);\n",
       "}\n",
       ".tfx-object, .tfx-object * {\n",
       "  font-size: 11pt;\n",
       "}\n",
       ".tfx-object > .title {\n",
       "  cursor: pointer;\n",
       "}\n",
       ".tfx-object .expansion-marker {\n",
       "  color: #999999;\n",
       "}\n",
       ".tfx-object.expanded > .title > .expansion-marker:before {\n",
       "  content: '▼';\n",
       "}\n",
       ".tfx-object.collapsed > .title > .expansion-marker:before {\n",
       "  content: '▶';\n",
       "}\n",
       ".tfx-object .class-name {\n",
       "  font-weight: bold;\n",
       "}\n",
       ".tfx-object .deemphasize {\n",
       "  opacity: 0.5;\n",
       "}\n",
       ".tfx-object.collapsed > table.attr-table {\n",
       "  display: none;\n",
       "}\n",
       ".tfx-object.expanded > table.attr-table {\n",
       "  display: block;\n",
       "}\n",
       ".tfx-object table.attr-table {\n",
       "  border: 2px solid white;\n",
       "  margin-top: 5px;\n",
       "}\n",
       ".tfx-object table.attr-table td.attr-name {\n",
       "  vertical-align: top;\n",
       "  font-weight: bold;\n",
       "}\n",
       ".tfx-object table.attr-table td.attrvalue {\n",
       "  text-align: left;\n",
       "}\n",
       "</style>\n",
       "<script>\n",
       "function toggleTfxObject(element) {\n",
       "  var objElement = element.parentElement;\n",
       "  if (objElement.classList.contains('collapsed')) {\n",
       "    objElement.classList.remove('collapsed');\n",
       "    objElement.classList.add('expanded');\n",
       "  } else {\n",
       "    objElement.classList.add('collapsed');\n",
       "    objElement.classList.remove('expanded');\n",
       "  }\n",
       "}\n",
       "</script>\n",
       "<div class=\"tfx-object collapsed\"><div class = \"title\" onclick=\"toggleTfxObject(this)\"><span class=\"expansion-marker\"></span><span class=\"class-name\">Channel</span> of type <span class=\"class-name\">'ExampleStatisticsPath'</span> (2 artifacts)<span class=\"deemphasize\"> at 0x7fadadfad9b0</span></div><table class=\"attr-table\"><tr><td class=\"attr-name\">.type_name</td><td class = \"attrvalue\">ExampleStatisticsPath</td></tr><tr><td class=\"attr-name\">._artifacts</td><td class = \"attrvalue\"><table class=\"attr-table\"><tr><td class=\"attr-name\">[0]</td><td class = \"attrvalue\"><style>\n",
       ".tfx-object.expanded {\n",
       "  padding: 4px 8px 4px 8px;\n",
       "  background: white;\n",
       "  border: 1px solid #bbbbbb;\n",
       "  box-shadow: 4px 4px 2px rgba(0,0,0,0.05);\n",
       "}\n",
       ".tfx-object, .tfx-object * {\n",
       "  font-size: 11pt;\n",
       "}\n",
       ".tfx-object > .title {\n",
       "  cursor: pointer;\n",
       "}\n",
       ".tfx-object .expansion-marker {\n",
       "  color: #999999;\n",
       "}\n",
       ".tfx-object.expanded > .title > .expansion-marker:before {\n",
       "  content: '▼';\n",
       "}\n",
       ".tfx-object.collapsed > .title > .expansion-marker:before {\n",
       "  content: '▶';\n",
       "}\n",
       ".tfx-object .class-name {\n",
       "  font-weight: bold;\n",
       "}\n",
       ".tfx-object .deemphasize {\n",
       "  opacity: 0.5;\n",
       "}\n",
       ".tfx-object.collapsed > table.attr-table {\n",
       "  display: none;\n",
       "}\n",
       ".tfx-object.expanded > table.attr-table {\n",
       "  display: block;\n",
       "}\n",
       ".tfx-object table.attr-table {\n",
       "  border: 2px solid white;\n",
       "  margin-top: 5px;\n",
       "}\n",
       ".tfx-object table.attr-table td.attr-name {\n",
       "  vertical-align: top;\n",
       "  font-weight: bold;\n",
       "}\n",
       ".tfx-object table.attr-table td.attrvalue {\n",
       "  text-align: left;\n",
       "}\n",
       "</style>\n",
       "<script>\n",
       "function toggleTfxObject(element) {\n",
       "  var objElement = element.parentElement;\n",
       "  if (objElement.classList.contains('collapsed')) {\n",
       "    objElement.classList.remove('collapsed');\n",
       "    objElement.classList.add('expanded');\n",
       "  } else {\n",
       "    objElement.classList.add('collapsed');\n",
       "    objElement.classList.remove('expanded');\n",
       "  }\n",
       "}\n",
       "</script>\n",
       "<div class=\"tfx-object collapsed\"><div class = \"title\" onclick=\"toggleTfxObject(this)\"><span class=\"expansion-marker\"></span><span class=\"class-name\">Artifact</span> of type <span class=\"class-name\">'ExampleStatisticsPath'</span> (uri: /tmp/tfx-interactive-2019-09-13T16_46_14.222336-5zedre0a/StatisticsGen/output/2/train/)<span class=\"deemphasize\"> at 0x7fadadfade80</span></div><table class=\"attr-table\"><tr><td class=\"attr-name\">.type_name</td><td class = \"attrvalue\">ExampleStatisticsPath</td></tr><tr><td class=\"attr-name\">.uri</td><td class = \"attrvalue\">/tmp/tfx-interactive-2019-09-13T16_46_14.222336-5zedre0a/StatisticsGen/output/2/train/</td></tr><tr><td class=\"attr-name\">.span</td><td class = \"attrvalue\">0</td></tr><tr><td class=\"attr-name\">.split</td><td class = \"attrvalue\">train</td></tr></table></div></td></tr><tr><td class=\"attr-name\">[1]</td><td class = \"attrvalue\"><style>\n",
       ".tfx-object.expanded {\n",
       "  padding: 4px 8px 4px 8px;\n",
       "  background: white;\n",
       "  border: 1px solid #bbbbbb;\n",
       "  box-shadow: 4px 4px 2px rgba(0,0,0,0.05);\n",
       "}\n",
       ".tfx-object, .tfx-object * {\n",
       "  font-size: 11pt;\n",
       "}\n",
       ".tfx-object > .title {\n",
       "  cursor: pointer;\n",
       "}\n",
       ".tfx-object .expansion-marker {\n",
       "  color: #999999;\n",
       "}\n",
       ".tfx-object.expanded > .title > .expansion-marker:before {\n",
       "  content: '▼';\n",
       "}\n",
       ".tfx-object.collapsed > .title > .expansion-marker:before {\n",
       "  content: '▶';\n",
       "}\n",
       ".tfx-object .class-name {\n",
       "  font-weight: bold;\n",
       "}\n",
       ".tfx-object .deemphasize {\n",
       "  opacity: 0.5;\n",
       "}\n",
       ".tfx-object.collapsed > table.attr-table {\n",
       "  display: none;\n",
       "}\n",
       ".tfx-object.expanded > table.attr-table {\n",
       "  display: block;\n",
       "}\n",
       ".tfx-object table.attr-table {\n",
       "  border: 2px solid white;\n",
       "  margin-top: 5px;\n",
       "}\n",
       ".tfx-object table.attr-table td.attr-name {\n",
       "  vertical-align: top;\n",
       "  font-weight: bold;\n",
       "}\n",
       ".tfx-object table.attr-table td.attrvalue {\n",
       "  text-align: left;\n",
       "}\n",
       "</style>\n",
       "<script>\n",
       "function toggleTfxObject(element) {\n",
       "  var objElement = element.parentElement;\n",
       "  if (objElement.classList.contains('collapsed')) {\n",
       "    objElement.classList.remove('collapsed');\n",
       "    objElement.classList.add('expanded');\n",
       "  } else {\n",
       "    objElement.classList.add('collapsed');\n",
       "    objElement.classList.remove('expanded');\n",
       "  }\n",
       "}\n",
       "</script>\n",
       "<div class=\"tfx-object collapsed\"><div class = \"title\" onclick=\"toggleTfxObject(this)\"><span class=\"expansion-marker\"></span><span class=\"class-name\">Artifact</span> of type <span class=\"class-name\">'ExampleStatisticsPath'</span> (uri: /tmp/tfx-interactive-2019-09-13T16_46_14.222336-5zedre0a/StatisticsGen/output/2/eval/)<span class=\"deemphasize\"> at 0x7fadadfad908</span></div><table class=\"attr-table\"><tr><td class=\"attr-name\">.type_name</td><td class = \"attrvalue\">ExampleStatisticsPath</td></tr><tr><td class=\"attr-name\">.uri</td><td class = \"attrvalue\">/tmp/tfx-interactive-2019-09-13T16_46_14.222336-5zedre0a/StatisticsGen/output/2/eval/</td></tr><tr><td class=\"attr-name\">.span</td><td class = \"attrvalue\">0</td></tr><tr><td class=\"attr-name\">.split</td><td class = \"attrvalue\">eval</td></tr></table></div></td></tr></table></td></tr></table></div></td></tr><tr><td class=\"attr-name\">['schema']</td><td class = \"attrvalue\"><style>\n",
       ".tfx-object.expanded {\n",
       "  padding: 4px 8px 4px 8px;\n",
       "  background: white;\n",
       "  border: 1px solid #bbbbbb;\n",
       "  box-shadow: 4px 4px 2px rgba(0,0,0,0.05);\n",
       "}\n",
       ".tfx-object, .tfx-object * {\n",
       "  font-size: 11pt;\n",
       "}\n",
       ".tfx-object > .title {\n",
       "  cursor: pointer;\n",
       "}\n",
       ".tfx-object .expansion-marker {\n",
       "  color: #999999;\n",
       "}\n",
       ".tfx-object.expanded > .title > .expansion-marker:before {\n",
       "  content: '▼';\n",
       "}\n",
       ".tfx-object.collapsed > .title > .expansion-marker:before {\n",
       "  content: '▶';\n",
       "}\n",
       ".tfx-object .class-name {\n",
       "  font-weight: bold;\n",
       "}\n",
       ".tfx-object .deemphasize {\n",
       "  opacity: 0.5;\n",
       "}\n",
       ".tfx-object.collapsed > table.attr-table {\n",
       "  display: none;\n",
       "}\n",
       ".tfx-object.expanded > table.attr-table {\n",
       "  display: block;\n",
       "}\n",
       ".tfx-object table.attr-table {\n",
       "  border: 2px solid white;\n",
       "  margin-top: 5px;\n",
       "}\n",
       ".tfx-object table.attr-table td.attr-name {\n",
       "  vertical-align: top;\n",
       "  font-weight: bold;\n",
       "}\n",
       ".tfx-object table.attr-table td.attrvalue {\n",
       "  text-align: left;\n",
       "}\n",
       "</style>\n",
       "<script>\n",
       "function toggleTfxObject(element) {\n",
       "  var objElement = element.parentElement;\n",
       "  if (objElement.classList.contains('collapsed')) {\n",
       "    objElement.classList.remove('collapsed');\n",
       "    objElement.classList.add('expanded');\n",
       "  } else {\n",
       "    objElement.classList.add('collapsed');\n",
       "    objElement.classList.remove('expanded');\n",
       "  }\n",
       "}\n",
       "</script>\n",
       "<div class=\"tfx-object collapsed\"><div class = \"title\" onclick=\"toggleTfxObject(this)\"><span class=\"expansion-marker\"></span><span class=\"class-name\">Channel</span> of type <span class=\"class-name\">'SchemaPath'</span> (1 artifact)<span class=\"deemphasize\"> at 0x7face81e1f28</span></div><table class=\"attr-table\"><tr><td class=\"attr-name\">.type_name</td><td class = \"attrvalue\">SchemaPath</td></tr><tr><td class=\"attr-name\">._artifacts</td><td class = \"attrvalue\"><table class=\"attr-table\"><tr><td class=\"attr-name\">[0]</td><td class = \"attrvalue\"><style>\n",
       ".tfx-object.expanded {\n",
       "  padding: 4px 8px 4px 8px;\n",
       "  background: white;\n",
       "  border: 1px solid #bbbbbb;\n",
       "  box-shadow: 4px 4px 2px rgba(0,0,0,0.05);\n",
       "}\n",
       ".tfx-object, .tfx-object * {\n",
       "  font-size: 11pt;\n",
       "}\n",
       ".tfx-object > .title {\n",
       "  cursor: pointer;\n",
       "}\n",
       ".tfx-object .expansion-marker {\n",
       "  color: #999999;\n",
       "}\n",
       ".tfx-object.expanded > .title > .expansion-marker:before {\n",
       "  content: '▼';\n",
       "}\n",
       ".tfx-object.collapsed > .title > .expansion-marker:before {\n",
       "  content: '▶';\n",
       "}\n",
       ".tfx-object .class-name {\n",
       "  font-weight: bold;\n",
       "}\n",
       ".tfx-object .deemphasize {\n",
       "  opacity: 0.5;\n",
       "}\n",
       ".tfx-object.collapsed > table.attr-table {\n",
       "  display: none;\n",
       "}\n",
       ".tfx-object.expanded > table.attr-table {\n",
       "  display: block;\n",
       "}\n",
       ".tfx-object table.attr-table {\n",
       "  border: 2px solid white;\n",
       "  margin-top: 5px;\n",
       "}\n",
       ".tfx-object table.attr-table td.attr-name {\n",
       "  vertical-align: top;\n",
       "  font-weight: bold;\n",
       "}\n",
       ".tfx-object table.attr-table td.attrvalue {\n",
       "  text-align: left;\n",
       "}\n",
       "</style>\n",
       "<script>\n",
       "function toggleTfxObject(element) {\n",
       "  var objElement = element.parentElement;\n",
       "  if (objElement.classList.contains('collapsed')) {\n",
       "    objElement.classList.remove('collapsed');\n",
       "    objElement.classList.add('expanded');\n",
       "  } else {\n",
       "    objElement.classList.add('collapsed');\n",
       "    objElement.classList.remove('expanded');\n",
       "  }\n",
       "}\n",
       "</script>\n",
       "<div class=\"tfx-object collapsed\"><div class = \"title\" onclick=\"toggleTfxObject(this)\"><span class=\"expansion-marker\"></span><span class=\"class-name\">Artifact</span> of type <span class=\"class-name\">'SchemaPath'</span> (uri: /tmp/tfx-interactive-2019-09-13T16_46_14.222336-5zedre0a/SchemaGen/output/3/)<span class=\"deemphasize\"> at 0x7fadad8aaf60</span></div><table class=\"attr-table\"><tr><td class=\"attr-name\">.type_name</td><td class = \"attrvalue\">SchemaPath</td></tr><tr><td class=\"attr-name\">.uri</td><td class = \"attrvalue\">/tmp/tfx-interactive-2019-09-13T16_46_14.222336-5zedre0a/SchemaGen/output/3/</td></tr><tr><td class=\"attr-name\">.span</td><td class = \"attrvalue\">0</td></tr><tr><td class=\"attr-name\">.split</td><td class = \"attrvalue\"></td></tr></table></div></td></tr></table></td></tr></table></div></td></tr></table></td></tr><tr><td class=\"attr-name\">.outputs</td><td class = \"attrvalue\"><table class=\"attr-table\"><tr><td class=\"attr-name\">['output']</td><td class = \"attrvalue\"><style>\n",
       ".tfx-object.expanded {\n",
       "  padding: 4px 8px 4px 8px;\n",
       "  background: white;\n",
       "  border: 1px solid #bbbbbb;\n",
       "  box-shadow: 4px 4px 2px rgba(0,0,0,0.05);\n",
       "}\n",
       ".tfx-object, .tfx-object * {\n",
       "  font-size: 11pt;\n",
       "}\n",
       ".tfx-object > .title {\n",
       "  cursor: pointer;\n",
       "}\n",
       ".tfx-object .expansion-marker {\n",
       "  color: #999999;\n",
       "}\n",
       ".tfx-object.expanded > .title > .expansion-marker:before {\n",
       "  content: '▼';\n",
       "}\n",
       ".tfx-object.collapsed > .title > .expansion-marker:before {\n",
       "  content: '▶';\n",
       "}\n",
       ".tfx-object .class-name {\n",
       "  font-weight: bold;\n",
       "}\n",
       ".tfx-object .deemphasize {\n",
       "  opacity: 0.5;\n",
       "}\n",
       ".tfx-object.collapsed > table.attr-table {\n",
       "  display: none;\n",
       "}\n",
       ".tfx-object.expanded > table.attr-table {\n",
       "  display: block;\n",
       "}\n",
       ".tfx-object table.attr-table {\n",
       "  border: 2px solid white;\n",
       "  margin-top: 5px;\n",
       "}\n",
       ".tfx-object table.attr-table td.attr-name {\n",
       "  vertical-align: top;\n",
       "  font-weight: bold;\n",
       "}\n",
       ".tfx-object table.attr-table td.attrvalue {\n",
       "  text-align: left;\n",
       "}\n",
       "</style>\n",
       "<script>\n",
       "function toggleTfxObject(element) {\n",
       "  var objElement = element.parentElement;\n",
       "  if (objElement.classList.contains('collapsed')) {\n",
       "    objElement.classList.remove('collapsed');\n",
       "    objElement.classList.add('expanded');\n",
       "  } else {\n",
       "    objElement.classList.add('collapsed');\n",
       "    objElement.classList.remove('expanded');\n",
       "  }\n",
       "}\n",
       "</script>\n",
       "<div class=\"tfx-object collapsed\"><div class = \"title\" onclick=\"toggleTfxObject(this)\"><span class=\"expansion-marker\"></span><span class=\"class-name\">Channel</span> of type <span class=\"class-name\">'ExampleValidationPath'</span> (1 artifact)<span class=\"deemphasize\"> at 0x7face83efc18</span></div><table class=\"attr-table\"><tr><td class=\"attr-name\">.type_name</td><td class = \"attrvalue\">ExampleValidationPath</td></tr><tr><td class=\"attr-name\">._artifacts</td><td class = \"attrvalue\"><table class=\"attr-table\"><tr><td class=\"attr-name\">[0]</td><td class = \"attrvalue\"><style>\n",
       ".tfx-object.expanded {\n",
       "  padding: 4px 8px 4px 8px;\n",
       "  background: white;\n",
       "  border: 1px solid #bbbbbb;\n",
       "  box-shadow: 4px 4px 2px rgba(0,0,0,0.05);\n",
       "}\n",
       ".tfx-object, .tfx-object * {\n",
       "  font-size: 11pt;\n",
       "}\n",
       ".tfx-object > .title {\n",
       "  cursor: pointer;\n",
       "}\n",
       ".tfx-object .expansion-marker {\n",
       "  color: #999999;\n",
       "}\n",
       ".tfx-object.expanded > .title > .expansion-marker:before {\n",
       "  content: '▼';\n",
       "}\n",
       ".tfx-object.collapsed > .title > .expansion-marker:before {\n",
       "  content: '▶';\n",
       "}\n",
       ".tfx-object .class-name {\n",
       "  font-weight: bold;\n",
       "}\n",
       ".tfx-object .deemphasize {\n",
       "  opacity: 0.5;\n",
       "}\n",
       ".tfx-object.collapsed > table.attr-table {\n",
       "  display: none;\n",
       "}\n",
       ".tfx-object.expanded > table.attr-table {\n",
       "  display: block;\n",
       "}\n",
       ".tfx-object table.attr-table {\n",
       "  border: 2px solid white;\n",
       "  margin-top: 5px;\n",
       "}\n",
       ".tfx-object table.attr-table td.attr-name {\n",
       "  vertical-align: top;\n",
       "  font-weight: bold;\n",
       "}\n",
       ".tfx-object table.attr-table td.attrvalue {\n",
       "  text-align: left;\n",
       "}\n",
       "</style>\n",
       "<script>\n",
       "function toggleTfxObject(element) {\n",
       "  var objElement = element.parentElement;\n",
       "  if (objElement.classList.contains('collapsed')) {\n",
       "    objElement.classList.remove('collapsed');\n",
       "    objElement.classList.add('expanded');\n",
       "  } else {\n",
       "    objElement.classList.add('collapsed');\n",
       "    objElement.classList.remove('expanded');\n",
       "  }\n",
       "}\n",
       "</script>\n",
       "<div class=\"tfx-object collapsed\"><div class = \"title\" onclick=\"toggleTfxObject(this)\"><span class=\"expansion-marker\"></span><span class=\"class-name\">Artifact</span> of type <span class=\"class-name\">'ExampleValidationPath'</span> (uri: /tmp/tfx-interactive-2019-09-13T16_46_14.222336-5zedre0a/ExampleValidator/output/4/)<span class=\"deemphasize\"> at 0x7fade43ceb38</span></div><table class=\"attr-table\"><tr><td class=\"attr-name\">.type_name</td><td class = \"attrvalue\">ExampleValidationPath</td></tr><tr><td class=\"attr-name\">.uri</td><td class = \"attrvalue\">/tmp/tfx-interactive-2019-09-13T16_46_14.222336-5zedre0a/ExampleValidator/output/4/</td></tr><tr><td class=\"attr-name\">.span</td><td class = \"attrvalue\">0</td></tr><tr><td class=\"attr-name\">.split</td><td class = \"attrvalue\"></td></tr></table></div></td></tr></table></td></tr></table></div></td></tr></table></td></tr><tr><td class=\"attr-name\">.exec_properties</td><td class = \"attrvalue\">{}</td></tr></table></div></td></tr><tr><td class=\"attr-name\">.component.inputs</td><td class = \"attrvalue\"><table class=\"attr-table\"><tr><td class=\"attr-name\">['stats']</td><td class = \"attrvalue\"><style>\n",
       ".tfx-object.expanded {\n",
       "  padding: 4px 8px 4px 8px;\n",
       "  background: white;\n",
       "  border: 1px solid #bbbbbb;\n",
       "  box-shadow: 4px 4px 2px rgba(0,0,0,0.05);\n",
       "}\n",
       ".tfx-object, .tfx-object * {\n",
       "  font-size: 11pt;\n",
       "}\n",
       ".tfx-object > .title {\n",
       "  cursor: pointer;\n",
       "}\n",
       ".tfx-object .expansion-marker {\n",
       "  color: #999999;\n",
       "}\n",
       ".tfx-object.expanded > .title > .expansion-marker:before {\n",
       "  content: '▼';\n",
       "}\n",
       ".tfx-object.collapsed > .title > .expansion-marker:before {\n",
       "  content: '▶';\n",
       "}\n",
       ".tfx-object .class-name {\n",
       "  font-weight: bold;\n",
       "}\n",
       ".tfx-object .deemphasize {\n",
       "  opacity: 0.5;\n",
       "}\n",
       ".tfx-object.collapsed > table.attr-table {\n",
       "  display: none;\n",
       "}\n",
       ".tfx-object.expanded > table.attr-table {\n",
       "  display: block;\n",
       "}\n",
       ".tfx-object table.attr-table {\n",
       "  border: 2px solid white;\n",
       "  margin-top: 5px;\n",
       "}\n",
       ".tfx-object table.attr-table td.attr-name {\n",
       "  vertical-align: top;\n",
       "  font-weight: bold;\n",
       "}\n",
       ".tfx-object table.attr-table td.attrvalue {\n",
       "  text-align: left;\n",
       "}\n",
       "</style>\n",
       "<script>\n",
       "function toggleTfxObject(element) {\n",
       "  var objElement = element.parentElement;\n",
       "  if (objElement.classList.contains('collapsed')) {\n",
       "    objElement.classList.remove('collapsed');\n",
       "    objElement.classList.add('expanded');\n",
       "  } else {\n",
       "    objElement.classList.add('collapsed');\n",
       "    objElement.classList.remove('expanded');\n",
       "  }\n",
       "}\n",
       "</script>\n",
       "<div class=\"tfx-object collapsed\"><div class = \"title\" onclick=\"toggleTfxObject(this)\"><span class=\"expansion-marker\"></span><span class=\"class-name\">Channel</span> of type <span class=\"class-name\">'ExampleStatisticsPath'</span> (2 artifacts)<span class=\"deemphasize\"> at 0x7fadadfad9b0</span></div><table class=\"attr-table\"><tr><td class=\"attr-name\">.type_name</td><td class = \"attrvalue\">ExampleStatisticsPath</td></tr><tr><td class=\"attr-name\">._artifacts</td><td class = \"attrvalue\"><table class=\"attr-table\"><tr><td class=\"attr-name\">[0]</td><td class = \"attrvalue\"><style>\n",
       ".tfx-object.expanded {\n",
       "  padding: 4px 8px 4px 8px;\n",
       "  background: white;\n",
       "  border: 1px solid #bbbbbb;\n",
       "  box-shadow: 4px 4px 2px rgba(0,0,0,0.05);\n",
       "}\n",
       ".tfx-object, .tfx-object * {\n",
       "  font-size: 11pt;\n",
       "}\n",
       ".tfx-object > .title {\n",
       "  cursor: pointer;\n",
       "}\n",
       ".tfx-object .expansion-marker {\n",
       "  color: #999999;\n",
       "}\n",
       ".tfx-object.expanded > .title > .expansion-marker:before {\n",
       "  content: '▼';\n",
       "}\n",
       ".tfx-object.collapsed > .title > .expansion-marker:before {\n",
       "  content: '▶';\n",
       "}\n",
       ".tfx-object .class-name {\n",
       "  font-weight: bold;\n",
       "}\n",
       ".tfx-object .deemphasize {\n",
       "  opacity: 0.5;\n",
       "}\n",
       ".tfx-object.collapsed > table.attr-table {\n",
       "  display: none;\n",
       "}\n",
       ".tfx-object.expanded > table.attr-table {\n",
       "  display: block;\n",
       "}\n",
       ".tfx-object table.attr-table {\n",
       "  border: 2px solid white;\n",
       "  margin-top: 5px;\n",
       "}\n",
       ".tfx-object table.attr-table td.attr-name {\n",
       "  vertical-align: top;\n",
       "  font-weight: bold;\n",
       "}\n",
       ".tfx-object table.attr-table td.attrvalue {\n",
       "  text-align: left;\n",
       "}\n",
       "</style>\n",
       "<script>\n",
       "function toggleTfxObject(element) {\n",
       "  var objElement = element.parentElement;\n",
       "  if (objElement.classList.contains('collapsed')) {\n",
       "    objElement.classList.remove('collapsed');\n",
       "    objElement.classList.add('expanded');\n",
       "  } else {\n",
       "    objElement.classList.add('collapsed');\n",
       "    objElement.classList.remove('expanded');\n",
       "  }\n",
       "}\n",
       "</script>\n",
       "<div class=\"tfx-object collapsed\"><div class = \"title\" onclick=\"toggleTfxObject(this)\"><span class=\"expansion-marker\"></span><span class=\"class-name\">Artifact</span> of type <span class=\"class-name\">'ExampleStatisticsPath'</span> (uri: /tmp/tfx-interactive-2019-09-13T16_46_14.222336-5zedre0a/StatisticsGen/output/2/train/)<span class=\"deemphasize\"> at 0x7fadadfade80</span></div><table class=\"attr-table\"><tr><td class=\"attr-name\">.type_name</td><td class = \"attrvalue\">ExampleStatisticsPath</td></tr><tr><td class=\"attr-name\">.uri</td><td class = \"attrvalue\">/tmp/tfx-interactive-2019-09-13T16_46_14.222336-5zedre0a/StatisticsGen/output/2/train/</td></tr><tr><td class=\"attr-name\">.span</td><td class = \"attrvalue\">0</td></tr><tr><td class=\"attr-name\">.split</td><td class = \"attrvalue\">train</td></tr></table></div></td></tr><tr><td class=\"attr-name\">[1]</td><td class = \"attrvalue\"><style>\n",
       ".tfx-object.expanded {\n",
       "  padding: 4px 8px 4px 8px;\n",
       "  background: white;\n",
       "  border: 1px solid #bbbbbb;\n",
       "  box-shadow: 4px 4px 2px rgba(0,0,0,0.05);\n",
       "}\n",
       ".tfx-object, .tfx-object * {\n",
       "  font-size: 11pt;\n",
       "}\n",
       ".tfx-object > .title {\n",
       "  cursor: pointer;\n",
       "}\n",
       ".tfx-object .expansion-marker {\n",
       "  color: #999999;\n",
       "}\n",
       ".tfx-object.expanded > .title > .expansion-marker:before {\n",
       "  content: '▼';\n",
       "}\n",
       ".tfx-object.collapsed > .title > .expansion-marker:before {\n",
       "  content: '▶';\n",
       "}\n",
       ".tfx-object .class-name {\n",
       "  font-weight: bold;\n",
       "}\n",
       ".tfx-object .deemphasize {\n",
       "  opacity: 0.5;\n",
       "}\n",
       ".tfx-object.collapsed > table.attr-table {\n",
       "  display: none;\n",
       "}\n",
       ".tfx-object.expanded > table.attr-table {\n",
       "  display: block;\n",
       "}\n",
       ".tfx-object table.attr-table {\n",
       "  border: 2px solid white;\n",
       "  margin-top: 5px;\n",
       "}\n",
       ".tfx-object table.attr-table td.attr-name {\n",
       "  vertical-align: top;\n",
       "  font-weight: bold;\n",
       "}\n",
       ".tfx-object table.attr-table td.attrvalue {\n",
       "  text-align: left;\n",
       "}\n",
       "</style>\n",
       "<script>\n",
       "function toggleTfxObject(element) {\n",
       "  var objElement = element.parentElement;\n",
       "  if (objElement.classList.contains('collapsed')) {\n",
       "    objElement.classList.remove('collapsed');\n",
       "    objElement.classList.add('expanded');\n",
       "  } else {\n",
       "    objElement.classList.add('collapsed');\n",
       "    objElement.classList.remove('expanded');\n",
       "  }\n",
       "}\n",
       "</script>\n",
       "<div class=\"tfx-object collapsed\"><div class = \"title\" onclick=\"toggleTfxObject(this)\"><span class=\"expansion-marker\"></span><span class=\"class-name\">Artifact</span> of type <span class=\"class-name\">'ExampleStatisticsPath'</span> (uri: /tmp/tfx-interactive-2019-09-13T16_46_14.222336-5zedre0a/StatisticsGen/output/2/eval/)<span class=\"deemphasize\"> at 0x7fadadfad908</span></div><table class=\"attr-table\"><tr><td class=\"attr-name\">.type_name</td><td class = \"attrvalue\">ExampleStatisticsPath</td></tr><tr><td class=\"attr-name\">.uri</td><td class = \"attrvalue\">/tmp/tfx-interactive-2019-09-13T16_46_14.222336-5zedre0a/StatisticsGen/output/2/eval/</td></tr><tr><td class=\"attr-name\">.span</td><td class = \"attrvalue\">0</td></tr><tr><td class=\"attr-name\">.split</td><td class = \"attrvalue\">eval</td></tr></table></div></td></tr></table></td></tr></table></div></td></tr><tr><td class=\"attr-name\">['schema']</td><td class = \"attrvalue\"><style>\n",
       ".tfx-object.expanded {\n",
       "  padding: 4px 8px 4px 8px;\n",
       "  background: white;\n",
       "  border: 1px solid #bbbbbb;\n",
       "  box-shadow: 4px 4px 2px rgba(0,0,0,0.05);\n",
       "}\n",
       ".tfx-object, .tfx-object * {\n",
       "  font-size: 11pt;\n",
       "}\n",
       ".tfx-object > .title {\n",
       "  cursor: pointer;\n",
       "}\n",
       ".tfx-object .expansion-marker {\n",
       "  color: #999999;\n",
       "}\n",
       ".tfx-object.expanded > .title > .expansion-marker:before {\n",
       "  content: '▼';\n",
       "}\n",
       ".tfx-object.collapsed > .title > .expansion-marker:before {\n",
       "  content: '▶';\n",
       "}\n",
       ".tfx-object .class-name {\n",
       "  font-weight: bold;\n",
       "}\n",
       ".tfx-object .deemphasize {\n",
       "  opacity: 0.5;\n",
       "}\n",
       ".tfx-object.collapsed > table.attr-table {\n",
       "  display: none;\n",
       "}\n",
       ".tfx-object.expanded > table.attr-table {\n",
       "  display: block;\n",
       "}\n",
       ".tfx-object table.attr-table {\n",
       "  border: 2px solid white;\n",
       "  margin-top: 5px;\n",
       "}\n",
       ".tfx-object table.attr-table td.attr-name {\n",
       "  vertical-align: top;\n",
       "  font-weight: bold;\n",
       "}\n",
       ".tfx-object table.attr-table td.attrvalue {\n",
       "  text-align: left;\n",
       "}\n",
       "</style>\n",
       "<script>\n",
       "function toggleTfxObject(element) {\n",
       "  var objElement = element.parentElement;\n",
       "  if (objElement.classList.contains('collapsed')) {\n",
       "    objElement.classList.remove('collapsed');\n",
       "    objElement.classList.add('expanded');\n",
       "  } else {\n",
       "    objElement.classList.add('collapsed');\n",
       "    objElement.classList.remove('expanded');\n",
       "  }\n",
       "}\n",
       "</script>\n",
       "<div class=\"tfx-object collapsed\"><div class = \"title\" onclick=\"toggleTfxObject(this)\"><span class=\"expansion-marker\"></span><span class=\"class-name\">Channel</span> of type <span class=\"class-name\">'SchemaPath'</span> (1 artifact)<span class=\"deemphasize\"> at 0x7face81e1f28</span></div><table class=\"attr-table\"><tr><td class=\"attr-name\">.type_name</td><td class = \"attrvalue\">SchemaPath</td></tr><tr><td class=\"attr-name\">._artifacts</td><td class = \"attrvalue\"><table class=\"attr-table\"><tr><td class=\"attr-name\">[0]</td><td class = \"attrvalue\"><style>\n",
       ".tfx-object.expanded {\n",
       "  padding: 4px 8px 4px 8px;\n",
       "  background: white;\n",
       "  border: 1px solid #bbbbbb;\n",
       "  box-shadow: 4px 4px 2px rgba(0,0,0,0.05);\n",
       "}\n",
       ".tfx-object, .tfx-object * {\n",
       "  font-size: 11pt;\n",
       "}\n",
       ".tfx-object > .title {\n",
       "  cursor: pointer;\n",
       "}\n",
       ".tfx-object .expansion-marker {\n",
       "  color: #999999;\n",
       "}\n",
       ".tfx-object.expanded > .title > .expansion-marker:before {\n",
       "  content: '▼';\n",
       "}\n",
       ".tfx-object.collapsed > .title > .expansion-marker:before {\n",
       "  content: '▶';\n",
       "}\n",
       ".tfx-object .class-name {\n",
       "  font-weight: bold;\n",
       "}\n",
       ".tfx-object .deemphasize {\n",
       "  opacity: 0.5;\n",
       "}\n",
       ".tfx-object.collapsed > table.attr-table {\n",
       "  display: none;\n",
       "}\n",
       ".tfx-object.expanded > table.attr-table {\n",
       "  display: block;\n",
       "}\n",
       ".tfx-object table.attr-table {\n",
       "  border: 2px solid white;\n",
       "  margin-top: 5px;\n",
       "}\n",
       ".tfx-object table.attr-table td.attr-name {\n",
       "  vertical-align: top;\n",
       "  font-weight: bold;\n",
       "}\n",
       ".tfx-object table.attr-table td.attrvalue {\n",
       "  text-align: left;\n",
       "}\n",
       "</style>\n",
       "<script>\n",
       "function toggleTfxObject(element) {\n",
       "  var objElement = element.parentElement;\n",
       "  if (objElement.classList.contains('collapsed')) {\n",
       "    objElement.classList.remove('collapsed');\n",
       "    objElement.classList.add('expanded');\n",
       "  } else {\n",
       "    objElement.classList.add('collapsed');\n",
       "    objElement.classList.remove('expanded');\n",
       "  }\n",
       "}\n",
       "</script>\n",
       "<div class=\"tfx-object collapsed\"><div class = \"title\" onclick=\"toggleTfxObject(this)\"><span class=\"expansion-marker\"></span><span class=\"class-name\">Artifact</span> of type <span class=\"class-name\">'SchemaPath'</span> (uri: /tmp/tfx-interactive-2019-09-13T16_46_14.222336-5zedre0a/SchemaGen/output/3/)<span class=\"deemphasize\"> at 0x7fadad8aaf60</span></div><table class=\"attr-table\"><tr><td class=\"attr-name\">.type_name</td><td class = \"attrvalue\">SchemaPath</td></tr><tr><td class=\"attr-name\">.uri</td><td class = \"attrvalue\">/tmp/tfx-interactive-2019-09-13T16_46_14.222336-5zedre0a/SchemaGen/output/3/</td></tr><tr><td class=\"attr-name\">.span</td><td class = \"attrvalue\">0</td></tr><tr><td class=\"attr-name\">.split</td><td class = \"attrvalue\"></td></tr></table></div></td></tr></table></td></tr></table></div></td></tr></table></td></tr><tr><td class=\"attr-name\">.component.outputs</td><td class = \"attrvalue\"><table class=\"attr-table\"><tr><td class=\"attr-name\">['output']</td><td class = \"attrvalue\"><style>\n",
       ".tfx-object.expanded {\n",
       "  padding: 4px 8px 4px 8px;\n",
       "  background: white;\n",
       "  border: 1px solid #bbbbbb;\n",
       "  box-shadow: 4px 4px 2px rgba(0,0,0,0.05);\n",
       "}\n",
       ".tfx-object, .tfx-object * {\n",
       "  font-size: 11pt;\n",
       "}\n",
       ".tfx-object > .title {\n",
       "  cursor: pointer;\n",
       "}\n",
       ".tfx-object .expansion-marker {\n",
       "  color: #999999;\n",
       "}\n",
       ".tfx-object.expanded > .title > .expansion-marker:before {\n",
       "  content: '▼';\n",
       "}\n",
       ".tfx-object.collapsed > .title > .expansion-marker:before {\n",
       "  content: '▶';\n",
       "}\n",
       ".tfx-object .class-name {\n",
       "  font-weight: bold;\n",
       "}\n",
       ".tfx-object .deemphasize {\n",
       "  opacity: 0.5;\n",
       "}\n",
       ".tfx-object.collapsed > table.attr-table {\n",
       "  display: none;\n",
       "}\n",
       ".tfx-object.expanded > table.attr-table {\n",
       "  display: block;\n",
       "}\n",
       ".tfx-object table.attr-table {\n",
       "  border: 2px solid white;\n",
       "  margin-top: 5px;\n",
       "}\n",
       ".tfx-object table.attr-table td.attr-name {\n",
       "  vertical-align: top;\n",
       "  font-weight: bold;\n",
       "}\n",
       ".tfx-object table.attr-table td.attrvalue {\n",
       "  text-align: left;\n",
       "}\n",
       "</style>\n",
       "<script>\n",
       "function toggleTfxObject(element) {\n",
       "  var objElement = element.parentElement;\n",
       "  if (objElement.classList.contains('collapsed')) {\n",
       "    objElement.classList.remove('collapsed');\n",
       "    objElement.classList.add('expanded');\n",
       "  } else {\n",
       "    objElement.classList.add('collapsed');\n",
       "    objElement.classList.remove('expanded');\n",
       "  }\n",
       "}\n",
       "</script>\n",
       "<div class=\"tfx-object collapsed\"><div class = \"title\" onclick=\"toggleTfxObject(this)\"><span class=\"expansion-marker\"></span><span class=\"class-name\">Channel</span> of type <span class=\"class-name\">'ExampleValidationPath'</span> (1 artifact)<span class=\"deemphasize\"> at 0x7face83efc18</span></div><table class=\"attr-table\"><tr><td class=\"attr-name\">.type_name</td><td class = \"attrvalue\">ExampleValidationPath</td></tr><tr><td class=\"attr-name\">._artifacts</td><td class = \"attrvalue\"><table class=\"attr-table\"><tr><td class=\"attr-name\">[0]</td><td class = \"attrvalue\"><style>\n",
       ".tfx-object.expanded {\n",
       "  padding: 4px 8px 4px 8px;\n",
       "  background: white;\n",
       "  border: 1px solid #bbbbbb;\n",
       "  box-shadow: 4px 4px 2px rgba(0,0,0,0.05);\n",
       "}\n",
       ".tfx-object, .tfx-object * {\n",
       "  font-size: 11pt;\n",
       "}\n",
       ".tfx-object > .title {\n",
       "  cursor: pointer;\n",
       "}\n",
       ".tfx-object .expansion-marker {\n",
       "  color: #999999;\n",
       "}\n",
       ".tfx-object.expanded > .title > .expansion-marker:before {\n",
       "  content: '▼';\n",
       "}\n",
       ".tfx-object.collapsed > .title > .expansion-marker:before {\n",
       "  content: '▶';\n",
       "}\n",
       ".tfx-object .class-name {\n",
       "  font-weight: bold;\n",
       "}\n",
       ".tfx-object .deemphasize {\n",
       "  opacity: 0.5;\n",
       "}\n",
       ".tfx-object.collapsed > table.attr-table {\n",
       "  display: none;\n",
       "}\n",
       ".tfx-object.expanded > table.attr-table {\n",
       "  display: block;\n",
       "}\n",
       ".tfx-object table.attr-table {\n",
       "  border: 2px solid white;\n",
       "  margin-top: 5px;\n",
       "}\n",
       ".tfx-object table.attr-table td.attr-name {\n",
       "  vertical-align: top;\n",
       "  font-weight: bold;\n",
       "}\n",
       ".tfx-object table.attr-table td.attrvalue {\n",
       "  text-align: left;\n",
       "}\n",
       "</style>\n",
       "<script>\n",
       "function toggleTfxObject(element) {\n",
       "  var objElement = element.parentElement;\n",
       "  if (objElement.classList.contains('collapsed')) {\n",
       "    objElement.classList.remove('collapsed');\n",
       "    objElement.classList.add('expanded');\n",
       "  } else {\n",
       "    objElement.classList.add('collapsed');\n",
       "    objElement.classList.remove('expanded');\n",
       "  }\n",
       "}\n",
       "</script>\n",
       "<div class=\"tfx-object collapsed\"><div class = \"title\" onclick=\"toggleTfxObject(this)\"><span class=\"expansion-marker\"></span><span class=\"class-name\">Artifact</span> of type <span class=\"class-name\">'ExampleValidationPath'</span> (uri: /tmp/tfx-interactive-2019-09-13T16_46_14.222336-5zedre0a/ExampleValidator/output/4/)<span class=\"deemphasize\"> at 0x7fade43ceb38</span></div><table class=\"attr-table\"><tr><td class=\"attr-name\">.type_name</td><td class = \"attrvalue\">ExampleValidationPath</td></tr><tr><td class=\"attr-name\">.uri</td><td class = \"attrvalue\">/tmp/tfx-interactive-2019-09-13T16_46_14.222336-5zedre0a/ExampleValidator/output/4/</td></tr><tr><td class=\"attr-name\">.span</td><td class = \"attrvalue\">0</td></tr><tr><td class=\"attr-name\">.split</td><td class = \"attrvalue\"></td></tr></table></div></td></tr></table></td></tr></table></div></td></tr></table></td></tr></table></div>"
      ],
      "text/plain": [
       "ExecutionResult(\n",
       "    component_id: ExampleValidator\n",
       "    execution_id: 4\n",
       "    outputs:\n",
       "        output: Channel(\n",
       "            type_name: ExampleValidationPath\n",
       "            artifacts: [Artifact(type_name: ExampleValidationPath, uri: /tmp/tfx-interactive-2019-09-13T16_46_14.222336-5zedre0a/ExampleValidator/output/4/, split: , id: 7)]\n",
       "        ))"
      ]
     },
     "execution_count": 11,
     "metadata": {},
     "output_type": "execute_result"
    }
   ],
   "source": [
    "# Performs anomaly detection based on statistics and data schema.\n",
    "validate_stats = ExampleValidator(\n",
    "    stats=statistics_gen.outputs['output'],\n",
    "    schema=infer_schema.outputs['output'])\n",
    "context.run(validate_stats)"
   ]
  },
  {
   "cell_type": "markdown",
   "metadata": {
    "colab_type": "text",
    "id": "855mrHgJcoer"
   },
   "source": [
    "#### Visualize the detected anomalies"
   ]
  },
  {
   "cell_type": "code",
   "execution_count": 12,
   "metadata": {
    "colab": {},
    "colab_type": "code",
    "id": "TDyAAozQcrk3"
   },
   "outputs": [
    {
     "data": {
      "text/html": [
       "<div>\n",
       "<style scoped>\n",
       "    .dataframe tbody tr th:only-of-type {\n",
       "        vertical-align: middle;\n",
       "    }\n",
       "\n",
       "    .dataframe tbody tr th {\n",
       "        vertical-align: top;\n",
       "    }\n",
       "\n",
       "    .dataframe thead th {\n",
       "        text-align: right;\n",
       "    }\n",
       "</style>\n",
       "<table border=\"1\" class=\"dataframe\">\n",
       "  <thead>\n",
       "    <tr style=\"text-align: right;\">\n",
       "      <th></th>\n",
       "      <th>Anomaly short description</th>\n",
       "      <th>Anomaly long description</th>\n",
       "    </tr>\n",
       "    <tr>\n",
       "      <th>Feature name</th>\n",
       "      <th></th>\n",
       "      <th></th>\n",
       "    </tr>\n",
       "  </thead>\n",
       "  <tbody>\n",
       "    <tr>\n",
       "      <td>'company'</td>\n",
       "      <td>Unexpected string values</td>\n",
       "      <td>Examples contain values missing from the schema: 1085 - 72312 N and W Cab Co (&lt;1%), 2192 - Zeymane Corp (&lt;1%), 2809 - 95474 C &amp; D Cab Co Inc. (&lt;1%), 3897 - 57856 Ilie Malec (&lt;1%), 4615 - Tyrone Henderson (&lt;1%), 585 - Valley Cab Co (&lt;1%), 5874 - Sergey Cab Corp. (&lt;1%), 5997 - AW Services Inc. (&lt;1%), 6057 - 24657 Richard Addo (&lt;1%), 6574 - Babylon Express Inc. (&lt;1%), 6743 - Luhak Corp (&lt;1%).</td>\n",
       "    </tr>\n",
       "  </tbody>\n",
       "</table>\n",
       "</div>"
      ],
      "text/plain": [
       "             Anomaly short description  \\\n",
       "Feature name                             \n",
       "'company'     Unexpected string values   \n",
       "\n",
       "                                                                                                                                                                                                                                                                                                                                                                                               Anomaly long description  \n",
       "Feature name                                                                                                                                                                                                                                                                                                                                                                                                             \n",
       "'company'     Examples contain values missing from the schema: 1085 - 72312 N and W Cab Co (<1%), 2192 - Zeymane Corp (<1%), 2809 - 95474 C & D Cab Co Inc. (<1%), 3897 - 57856 Ilie Malec (<1%), 4615 - Tyrone Henderson (<1%), 585 - Valley Cab Co (<1%), 5874 - Sergey Cab Corp. (<1%), 5997 - AW Services Inc. (<1%), 6057 - 24657 Richard Addo (<1%), 6574 - Babylon Express Inc. (<1%), 6743 - Luhak Corp (<1%).   "
      ]
     },
     "metadata": {},
     "output_type": "display_data"
    }
   ],
   "source": [
    "if check_ipython():\n",
    "  # Get the validation path.\n",
    "  validation_dir = validate_stats.outputs['output'].get()[0].uri\n",
    "  anomalies_path = os.path.join(validation_dir, 'anomalies.pbtxt')\n",
    "\n",
    "  # Load and visualize the anomalies.\n",
    "  anomalies = tfdv.load_anomalies_text(anomalies_path)\n",
    "  tfdv.display_anomalies(anomalies)"
   ]
  },
  {
   "cell_type": "markdown",
   "metadata": {
    "colab_type": "text",
    "id": "JPViEz5RlA36"
   },
   "source": [
    "### Transform\n",
    "`Transform` performs data transformations and feature engineering which are kept in sync for training and serving."
   ]
  },
  {
   "cell_type": "markdown",
   "metadata": {
    "colab_type": "text",
    "id": "wgbmZr3sgbWW"
   },
   "source": [
    "#### Run the Transform component"
   ]
  },
  {
   "cell_type": "code",
   "execution_count": 13,
   "metadata": {
    "colab": {},
    "colab_type": "code",
    "id": "jHfhth_GiZI9"
   },
   "outputs": [
    {
     "name": "stdout",
     "output_type": "stream",
     "text": [
      "INFO:tensorflow:Run driver for Transform\n"
     ]
    },
    {
     "name": "stderr",
     "output_type": "stream",
     "text": [
      "INFO:tensorflow:Run driver for Transform\n"
     ]
    },
    {
     "name": "stdout",
     "output_type": "stream",
     "text": [
      "INFO:tensorflow:Created run context interactive-2019-09-13T16_46_14.222336.2019-09-13T16:46:34.767449.\n"
     ]
    },
    {
     "name": "stderr",
     "output_type": "stream",
     "text": [
      "INFO:tensorflow:Created run context interactive-2019-09-13T16_46_14.222336.2019-09-13T16:46:34.767449.\n"
     ]
    },
    {
     "name": "stdout",
     "output_type": "stream",
     "text": [
      "INFO:tensorflow:ID of run context interactive-2019-09-13T16_46_14.222336.2019-09-13T16:46:34.767449 is 5.\n"
     ]
    },
    {
     "name": "stderr",
     "output_type": "stream",
     "text": [
      "INFO:tensorflow:ID of run context interactive-2019-09-13T16_46_14.222336.2019-09-13T16:46:34.767449 is 5.\n"
     ]
    },
    {
     "name": "stdout",
     "output_type": "stream",
     "text": [
      "INFO:tensorflow:Resolved input artifacts are: {'input_data': [Artifact(type_name: ExamplesPath, uri: /tmp/tfx-interactive-2019-09-13T16_46_14.222336-5zedre0a/CsvExampleGen/examples/1/train/, split: train, id: 2), Artifact(type_name: ExamplesPath, uri: /tmp/tfx-interactive-2019-09-13T16_46_14.222336-5zedre0a/CsvExampleGen/examples/1/eval/, split: eval, id: 3)], 'schema': [Artifact(type_name: SchemaPath, uri: /tmp/tfx-interactive-2019-09-13T16_46_14.222336-5zedre0a/SchemaGen/output/3/, split: , id: 6)]}\n"
     ]
    },
    {
     "name": "stderr",
     "output_type": "stream",
     "text": [
      "INFO:tensorflow:Resolved input artifacts are: {'input_data': [Artifact(type_name: ExamplesPath, uri: /tmp/tfx-interactive-2019-09-13T16_46_14.222336-5zedre0a/CsvExampleGen/examples/1/train/, split: train, id: 2), Artifact(type_name: ExamplesPath, uri: /tmp/tfx-interactive-2019-09-13T16_46_14.222336-5zedre0a/CsvExampleGen/examples/1/eval/, split: eval, id: 3)], 'schema': [Artifact(type_name: SchemaPath, uri: /tmp/tfx-interactive-2019-09-13T16_46_14.222336-5zedre0a/SchemaGen/output/3/, split: , id: 6)]}\n"
     ]
    },
    {
     "name": "stdout",
     "output_type": "stream",
     "text": [
      "INFO:tensorflow:Prepared EXECUTION:\n",
      " type_id: 11\n",
      "properties {\n",
      "  key: \"checksum_md5\"\n",
      "  value {\n",
      "    string_value: \"4e52cfff5d4b939df7b60870c459c181\"\n",
      "  }\n",
      "}\n",
      "properties {\n",
      "  key: \"component_id\"\n",
      "  value {\n",
      "    string_value: \"Transform\"\n",
      "  }\n",
      "}\n",
      "properties {\n",
      "  key: \"module_file\"\n",
      "  value {\n",
      "    string_value: \"/usr/local/google/home/joeyounglee/git-repos/tfx_oss.git/tfx/examples/chicago_taxi_pipeline/taxi_pipeline/local/lib/python3.6/site-packages/tfx/examples/chicago_taxi_pipeline/taxi_utils.py\"\n",
      "  }\n",
      "}\n",
      "properties {\n",
      "  key: \"pipeline_name\"\n",
      "  value {\n",
      "    string_value: \"interactive-2019-09-13T16_46_14.222336\"\n",
      "  }\n",
      "}\n",
      "properties {\n",
      "  key: \"pipeline_root\"\n",
      "  value {\n",
      "    string_value: \"/tmp/tfx-interactive-2019-09-13T16_46_14.222336-5zedre0a\"\n",
      "  }\n",
      "}\n",
      "properties {\n",
      "  key: \"preprocessing_fn\"\n",
      "  value {\n",
      "    string_value: \"None\"\n",
      "  }\n",
      "}\n",
      "properties {\n",
      "  key: \"run_id\"\n",
      "  value {\n",
      "    string_value: \"2019-09-13T16:46:34.767449\"\n",
      "  }\n",
      "}\n",
      "properties {\n",
      "  key: \"state\"\n",
      "  value {\n",
      "    string_value: \"new\"\n",
      "  }\n",
      "}\n",
      "\n"
     ]
    },
    {
     "name": "stderr",
     "output_type": "stream",
     "text": [
      "INFO:tensorflow:Prepared EXECUTION:\n",
      " type_id: 11\n",
      "properties {\n",
      "  key: \"checksum_md5\"\n",
      "  value {\n",
      "    string_value: \"4e52cfff5d4b939df7b60870c459c181\"\n",
      "  }\n",
      "}\n",
      "properties {\n",
      "  key: \"component_id\"\n",
      "  value {\n",
      "    string_value: \"Transform\"\n",
      "  }\n",
      "}\n",
      "properties {\n",
      "  key: \"module_file\"\n",
      "  value {\n",
      "    string_value: \"/usr/local/google/home/joeyounglee/git-repos/tfx_oss.git/tfx/examples/chicago_taxi_pipeline/taxi_pipeline/local/lib/python3.6/site-packages/tfx/examples/chicago_taxi_pipeline/taxi_utils.py\"\n",
      "  }\n",
      "}\n",
      "properties {\n",
      "  key: \"pipeline_name\"\n",
      "  value {\n",
      "    string_value: \"interactive-2019-09-13T16_46_14.222336\"\n",
      "  }\n",
      "}\n",
      "properties {\n",
      "  key: \"pipeline_root\"\n",
      "  value {\n",
      "    string_value: \"/tmp/tfx-interactive-2019-09-13T16_46_14.222336-5zedre0a\"\n",
      "  }\n",
      "}\n",
      "properties {\n",
      "  key: \"preprocessing_fn\"\n",
      "  value {\n",
      "    string_value: \"None\"\n",
      "  }\n",
      "}\n",
      "properties {\n",
      "  key: \"run_id\"\n",
      "  value {\n",
      "    string_value: \"2019-09-13T16:46:34.767449\"\n",
      "  }\n",
      "}\n",
      "properties {\n",
      "  key: \"state\"\n",
      "  value {\n",
      "    string_value: \"new\"\n",
      "  }\n",
      "}\n",
      "\n"
     ]
    },
    {
     "name": "stdout",
     "output_type": "stream",
     "text": [
      "INFO:tensorflow:Execution id of the upcoming component execution is 5\n"
     ]
    },
    {
     "name": "stderr",
     "output_type": "stream",
     "text": [
      "INFO:tensorflow:Execution id of the upcoming component execution is 5\n"
     ]
    },
    {
     "name": "stdout",
     "output_type": "stream",
     "text": [
      "INFO:tensorflow:Checking previous run for execution_type_name tfx.components.transform.component.Transform and input_artifacts {'input_data': [Artifact(type_name: ExamplesPath, uri: /tmp/tfx-interactive-2019-09-13T16_46_14.222336-5zedre0a/CsvExampleGen/examples/1/train/, split: train, id: 2), Artifact(type_name: ExamplesPath, uri: /tmp/tfx-interactive-2019-09-13T16_46_14.222336-5zedre0a/CsvExampleGen/examples/1/eval/, split: eval, id: 3)], 'schema': [Artifact(type_name: SchemaPath, uri: /tmp/tfx-interactive-2019-09-13T16_46_14.222336-5zedre0a/SchemaGen/output/3/, split: , id: 6)]}\n"
     ]
    },
    {
     "name": "stderr",
     "output_type": "stream",
     "text": [
      "INFO:tensorflow:Checking previous run for execution_type_name tfx.components.transform.component.Transform and input_artifacts {'input_data': [Artifact(type_name: ExamplesPath, uri: /tmp/tfx-interactive-2019-09-13T16_46_14.222336-5zedre0a/CsvExampleGen/examples/1/train/, split: train, id: 2), Artifact(type_name: ExamplesPath, uri: /tmp/tfx-interactive-2019-09-13T16_46_14.222336-5zedre0a/CsvExampleGen/examples/1/eval/, split: eval, id: 3)], 'schema': [Artifact(type_name: SchemaPath, uri: /tmp/tfx-interactive-2019-09-13T16_46_14.222336-5zedre0a/SchemaGen/output/3/, split: , id: 6)]}\n"
     ]
    },
    {
     "name": "stdout",
     "output_type": "stream",
     "text": [
      "INFO:tensorflow:Prepared EXECUTION:\n",
      " type_id: 11\n",
      "properties {\n",
      "  key: \"checksum_md5\"\n",
      "  value {\n",
      "    string_value: \"4e52cfff5d4b939df7b60870c459c181\"\n",
      "  }\n",
      "}\n",
      "properties {\n",
      "  key: \"component_id\"\n",
      "  value {\n",
      "    string_value: \"Transform\"\n",
      "  }\n",
      "}\n",
      "properties {\n",
      "  key: \"module_file\"\n",
      "  value {\n",
      "    string_value: \"/usr/local/google/home/joeyounglee/git-repos/tfx_oss.git/tfx/examples/chicago_taxi_pipeline/taxi_pipeline/local/lib/python3.6/site-packages/tfx/examples/chicago_taxi_pipeline/taxi_utils.py\"\n",
      "  }\n",
      "}\n",
      "properties {\n",
      "  key: \"pipeline_name\"\n",
      "  value {\n",
      "    string_value: \"interactive-2019-09-13T16_46_14.222336\"\n",
      "  }\n",
      "}\n",
      "properties {\n",
      "  key: \"pipeline_root\"\n",
      "  value {\n",
      "    string_value: \"/tmp/tfx-interactive-2019-09-13T16_46_14.222336-5zedre0a\"\n",
      "  }\n",
      "}\n",
      "properties {\n",
      "  key: \"preprocessing_fn\"\n",
      "  value {\n",
      "    string_value: \"None\"\n",
      "  }\n",
      "}\n",
      "properties {\n",
      "  key: \"run_id\"\n",
      "  value {\n",
      "    string_value: \"2019-09-13T16:46:34.767449\"\n",
      "  }\n",
      "}\n",
      "properties {\n",
      "  key: \"state\"\n",
      "  value {\n",
      "    string_value: \"complete\"\n",
      "  }\n",
      "}\n",
      "\n"
     ]
    },
    {
     "name": "stderr",
     "output_type": "stream",
     "text": [
      "INFO:tensorflow:Prepared EXECUTION:\n",
      " type_id: 11\n",
      "properties {\n",
      "  key: \"checksum_md5\"\n",
      "  value {\n",
      "    string_value: \"4e52cfff5d4b939df7b60870c459c181\"\n",
      "  }\n",
      "}\n",
      "properties {\n",
      "  key: \"component_id\"\n",
      "  value {\n",
      "    string_value: \"Transform\"\n",
      "  }\n",
      "}\n",
      "properties {\n",
      "  key: \"module_file\"\n",
      "  value {\n",
      "    string_value: \"/usr/local/google/home/joeyounglee/git-repos/tfx_oss.git/tfx/examples/chicago_taxi_pipeline/taxi_pipeline/local/lib/python3.6/site-packages/tfx/examples/chicago_taxi_pipeline/taxi_utils.py\"\n",
      "  }\n",
      "}\n",
      "properties {\n",
      "  key: \"pipeline_name\"\n",
      "  value {\n",
      "    string_value: \"interactive-2019-09-13T16_46_14.222336\"\n",
      "  }\n",
      "}\n",
      "properties {\n",
      "  key: \"pipeline_root\"\n",
      "  value {\n",
      "    string_value: \"/tmp/tfx-interactive-2019-09-13T16_46_14.222336-5zedre0a\"\n",
      "  }\n",
      "}\n",
      "properties {\n",
      "  key: \"preprocessing_fn\"\n",
      "  value {\n",
      "    string_value: \"None\"\n",
      "  }\n",
      "}\n",
      "properties {\n",
      "  key: \"run_id\"\n",
      "  value {\n",
      "    string_value: \"2019-09-13T16:46:34.767449\"\n",
      "  }\n",
      "}\n",
      "properties {\n",
      "  key: \"state\"\n",
      "  value {\n",
      "    string_value: \"complete\"\n",
      "  }\n",
      "}\n",
      "\n"
     ]
    },
    {
     "name": "stdout",
     "output_type": "stream",
     "text": [
      "INFO:tensorflow:No execution matching type id and input artifacts found\n"
     ]
    },
    {
     "name": "stderr",
     "output_type": "stream",
     "text": [
      "INFO:tensorflow:No execution matching type id and input artifacts found\n"
     ]
    },
    {
     "name": "stdout",
     "output_type": "stream",
     "text": [
      "INFO:tensorflow:Cached results not found, move on to new execution\n"
     ]
    },
    {
     "name": "stderr",
     "output_type": "stream",
     "text": [
      "INFO:tensorflow:Cached results not found, move on to new execution\n"
     ]
    },
    {
     "name": "stdout",
     "output_type": "stream",
     "text": [
      "INFO:tensorflow:Creating output artifact uri /tmp/tfx-interactive-2019-09-13T16_46_14.222336-5zedre0a/Transform/transform_output/5/ as directory\n"
     ]
    },
    {
     "name": "stderr",
     "output_type": "stream",
     "text": [
      "INFO:tensorflow:Creating output artifact uri /tmp/tfx-interactive-2019-09-13T16_46_14.222336-5zedre0a/Transform/transform_output/5/ as directory\n"
     ]
    },
    {
     "name": "stdout",
     "output_type": "stream",
     "text": [
      "INFO:tensorflow:Creating output artifact uri /tmp/tfx-interactive-2019-09-13T16_46_14.222336-5zedre0a/Transform/transformed_examples/5/train/ as directory\n"
     ]
    },
    {
     "name": "stderr",
     "output_type": "stream",
     "text": [
      "INFO:tensorflow:Creating output artifact uri /tmp/tfx-interactive-2019-09-13T16_46_14.222336-5zedre0a/Transform/transformed_examples/5/train/ as directory\n"
     ]
    },
    {
     "name": "stdout",
     "output_type": "stream",
     "text": [
      "INFO:tensorflow:Creating output artifact uri /tmp/tfx-interactive-2019-09-13T16_46_14.222336-5zedre0a/Transform/transformed_examples/5/eval/ as directory\n"
     ]
    },
    {
     "name": "stderr",
     "output_type": "stream",
     "text": [
      "INFO:tensorflow:Creating output artifact uri /tmp/tfx-interactive-2019-09-13T16_46_14.222336-5zedre0a/Transform/transformed_examples/5/eval/ as directory\n"
     ]
    },
    {
     "name": "stdout",
     "output_type": "stream",
     "text": [
      "INFO:tensorflow:Output artifacts skeleton for the upcoming execution are: {'transform_output': [Artifact(type_name: TransformPath, uri: /tmp/tfx-interactive-2019-09-13T16_46_14.222336-5zedre0a/Transform/transform_output/5/, split: , id: 0)], 'transformed_examples': [Artifact(type_name: ExamplesPath, uri: /tmp/tfx-interactive-2019-09-13T16_46_14.222336-5zedre0a/Transform/transformed_examples/5/train/, split: train, id: 0), Artifact(type_name: ExamplesPath, uri: /tmp/tfx-interactive-2019-09-13T16_46_14.222336-5zedre0a/Transform/transformed_examples/5/eval/, split: eval, id: 0)]}\n"
     ]
    },
    {
     "name": "stderr",
     "output_type": "stream",
     "text": [
      "INFO:tensorflow:Output artifacts skeleton for the upcoming execution are: {'transform_output': [Artifact(type_name: TransformPath, uri: /tmp/tfx-interactive-2019-09-13T16_46_14.222336-5zedre0a/Transform/transform_output/5/, split: , id: 0)], 'transformed_examples': [Artifact(type_name: ExamplesPath, uri: /tmp/tfx-interactive-2019-09-13T16_46_14.222336-5zedre0a/Transform/transformed_examples/5/train/, split: train, id: 0), Artifact(type_name: ExamplesPath, uri: /tmp/tfx-interactive-2019-09-13T16_46_14.222336-5zedre0a/Transform/transformed_examples/5/eval/, split: eval, id: 0)]}\n"
     ]
    },
    {
     "name": "stdout",
     "output_type": "stream",
     "text": [
      "INFO:tensorflow:Execution properties for the upcoming execution are: {'module_file': '/usr/local/google/home/joeyounglee/git-repos/tfx_oss.git/tfx/examples/chicago_taxi_pipeline/taxi_pipeline/local/lib/python3.6/site-packages/tfx/examples/chicago_taxi_pipeline/taxi_utils.py', 'preprocessing_fn': None}\n"
     ]
    },
    {
     "name": "stderr",
     "output_type": "stream",
     "text": [
      "INFO:tensorflow:Execution properties for the upcoming execution are: {'module_file': '/usr/local/google/home/joeyounglee/git-repos/tfx_oss.git/tfx/examples/chicago_taxi_pipeline/taxi_pipeline/local/lib/python3.6/site-packages/tfx/examples/chicago_taxi_pipeline/taxi_utils.py', 'preprocessing_fn': None}\n"
     ]
    },
    {
     "name": "stdout",
     "output_type": "stream",
     "text": [
      "INFO:tensorflow:Run executor for Transform\n"
     ]
    },
    {
     "name": "stderr",
     "output_type": "stream",
     "text": [
      "INFO:tensorflow:Run executor for Transform\n"
     ]
    },
    {
     "name": "stdout",
     "output_type": "stream",
     "text": [
      "INFO:tensorflow:Starting Executor execution.\n"
     ]
    },
    {
     "name": "stderr",
     "output_type": "stream",
     "text": [
      "INFO:tensorflow:Starting Executor execution.\n"
     ]
    },
    {
     "name": "stdout",
     "output_type": "stream",
     "text": [
      "INFO:tensorflow:Inputs for Executor is: {\"input_data\": [{\"artifact\": {\"id\": \"2\", \"typeId\": \"4\", \"uri\": \"/tmp/tfx-interactive-2019-09-13T16_46_14.222336-5zedre0a/CsvExampleGen/examples/1/train/\", \"properties\": {\"span\": {}, \"pipeline_name\": {\"stringValue\": \"interactive-2019-09-13T16_46_14.222336\"}, \"producer_component\": {\"stringValue\": \"CsvExampleGen\"}, \"split\": {\"stringValue\": \"train\"}, \"name\": {\"stringValue\": \"examples\"}, \"type_name\": {\"stringValue\": \"ExamplesPath\"}, \"state\": {\"stringValue\": \"published\"}}}, \"artifact_type\": {\"id\": \"4\", \"name\": \"ExamplesPath\", \"properties\": {\"name\": \"STRING\", \"type_name\": \"STRING\", \"state\": \"STRING\", \"producer_component\": \"STRING\", \"span\": \"INT\", \"pipeline_name\": \"STRING\", \"split\": \"STRING\"}}}, {\"artifact\": {\"id\": \"3\", \"typeId\": \"4\", \"uri\": \"/tmp/tfx-interactive-2019-09-13T16_46_14.222336-5zedre0a/CsvExampleGen/examples/1/eval/\", \"properties\": {\"split\": {\"stringValue\": \"eval\"}, \"name\": {\"stringValue\": \"examples\"}, \"type_name\": {\"stringValue\": \"ExamplesPath\"}, \"state\": {\"stringValue\": \"published\"}, \"span\": {}, \"pipeline_name\": {\"stringValue\": \"interactive-2019-09-13T16_46_14.222336\"}, \"producer_component\": {\"stringValue\": \"CsvExampleGen\"}}}, \"artifact_type\": {\"id\": \"4\", \"name\": \"ExamplesPath\", \"properties\": {\"name\": \"STRING\", \"type_name\": \"STRING\", \"state\": \"STRING\", \"producer_component\": \"STRING\", \"span\": \"INT\", \"pipeline_name\": \"STRING\", \"split\": \"STRING\"}}}], \"schema\": [{\"artifact\": {\"id\": \"6\", \"typeId\": \"8\", \"uri\": \"/tmp/tfx-interactive-2019-09-13T16_46_14.222336-5zedre0a/SchemaGen/output/3/\", \"properties\": {\"split\": {\"stringValue\": \"\"}, \"name\": {\"stringValue\": \"output\"}, \"type_name\": {\"stringValue\": \"SchemaPath\"}, \"state\": {\"stringValue\": \"published\"}, \"span\": {}, \"pipeline_name\": {\"stringValue\": \"interactive-2019-09-13T16_46_14.222336\"}, \"producer_component\": {\"stringValue\": \"SchemaGen\"}}}, \"artifact_type\": {\"id\": \"8\", \"name\": \"SchemaPath\", \"properties\": {\"name\": \"STRING\", \"type_name\": \"STRING\", \"state\": \"STRING\", \"producer_component\": \"STRING\", \"span\": \"INT\", \"pipeline_name\": \"STRING\", \"split\": \"STRING\"}}}]}\n"
     ]
    },
    {
     "name": "stderr",
     "output_type": "stream",
     "text": [
      "INFO:tensorflow:Inputs for Executor is: {\"input_data\": [{\"artifact\": {\"id\": \"2\", \"typeId\": \"4\", \"uri\": \"/tmp/tfx-interactive-2019-09-13T16_46_14.222336-5zedre0a/CsvExampleGen/examples/1/train/\", \"properties\": {\"span\": {}, \"pipeline_name\": {\"stringValue\": \"interactive-2019-09-13T16_46_14.222336\"}, \"producer_component\": {\"stringValue\": \"CsvExampleGen\"}, \"split\": {\"stringValue\": \"train\"}, \"name\": {\"stringValue\": \"examples\"}, \"type_name\": {\"stringValue\": \"ExamplesPath\"}, \"state\": {\"stringValue\": \"published\"}}}, \"artifact_type\": {\"id\": \"4\", \"name\": \"ExamplesPath\", \"properties\": {\"name\": \"STRING\", \"type_name\": \"STRING\", \"state\": \"STRING\", \"producer_component\": \"STRING\", \"span\": \"INT\", \"pipeline_name\": \"STRING\", \"split\": \"STRING\"}}}, {\"artifact\": {\"id\": \"3\", \"typeId\": \"4\", \"uri\": \"/tmp/tfx-interactive-2019-09-13T16_46_14.222336-5zedre0a/CsvExampleGen/examples/1/eval/\", \"properties\": {\"split\": {\"stringValue\": \"eval\"}, \"name\": {\"stringValue\": \"examples\"}, \"type_name\": {\"stringValue\": \"ExamplesPath\"}, \"state\": {\"stringValue\": \"published\"}, \"span\": {}, \"pipeline_name\": {\"stringValue\": \"interactive-2019-09-13T16_46_14.222336\"}, \"producer_component\": {\"stringValue\": \"CsvExampleGen\"}}}, \"artifact_type\": {\"id\": \"4\", \"name\": \"ExamplesPath\", \"properties\": {\"name\": \"STRING\", \"type_name\": \"STRING\", \"state\": \"STRING\", \"producer_component\": \"STRING\", \"span\": \"INT\", \"pipeline_name\": \"STRING\", \"split\": \"STRING\"}}}], \"schema\": [{\"artifact\": {\"id\": \"6\", \"typeId\": \"8\", \"uri\": \"/tmp/tfx-interactive-2019-09-13T16_46_14.222336-5zedre0a/SchemaGen/output/3/\", \"properties\": {\"split\": {\"stringValue\": \"\"}, \"name\": {\"stringValue\": \"output\"}, \"type_name\": {\"stringValue\": \"SchemaPath\"}, \"state\": {\"stringValue\": \"published\"}, \"span\": {}, \"pipeline_name\": {\"stringValue\": \"interactive-2019-09-13T16_46_14.222336\"}, \"producer_component\": {\"stringValue\": \"SchemaGen\"}}}, \"artifact_type\": {\"id\": \"8\", \"name\": \"SchemaPath\", \"properties\": {\"name\": \"STRING\", \"type_name\": \"STRING\", \"state\": \"STRING\", \"producer_component\": \"STRING\", \"span\": \"INT\", \"pipeline_name\": \"STRING\", \"split\": \"STRING\"}}}]}\n"
     ]
    },
    {
     "name": "stdout",
     "output_type": "stream",
     "text": [
      "INFO:tensorflow:Outputs for Executor is: {\"transform_output\": [{\"artifact\": {\"uri\": \"/tmp/tfx-interactive-2019-09-13T16_46_14.222336-5zedre0a/Transform/transform_output/5/\", \"properties\": {\"split\": {\"stringValue\": \"\"}, \"producer_component\": {\"stringValue\": \"Transform\"}, \"pipeline_name\": {\"stringValue\": \"interactive-2019-09-13T16_46_14.222336\"}, \"name\": {\"stringValue\": \"transform_output\"}, \"type_name\": {\"stringValue\": \"TransformPath\"}}}, \"artifact_type\": {\"name\": \"TransformPath\", \"properties\": {\"split\": \"STRING\", \"name\": \"STRING\", \"type_name\": \"STRING\", \"state\": \"STRING\", \"producer_component\": \"STRING\", \"span\": \"INT\", \"pipeline_name\": \"STRING\"}}}], \"transformed_examples\": [{\"artifact\": {\"uri\": \"/tmp/tfx-interactive-2019-09-13T16_46_14.222336-5zedre0a/Transform/transformed_examples/5/train/\", \"properties\": {\"name\": {\"stringValue\": \"transformed_examples\"}, \"type_name\": {\"stringValue\": \"ExamplesPath\"}, \"split\": {\"stringValue\": \"train\"}, \"producer_component\": {\"stringValue\": \"Transform\"}, \"pipeline_name\": {\"stringValue\": \"interactive-2019-09-13T16_46_14.222336\"}}}, \"artifact_type\": {\"name\": \"ExamplesPath\", \"properties\": {\"name\": \"STRING\", \"type_name\": \"STRING\", \"state\": \"STRING\", \"producer_component\": \"STRING\", \"span\": \"INT\", \"pipeline_name\": \"STRING\", \"split\": \"STRING\"}}}, {\"artifact\": {\"uri\": \"/tmp/tfx-interactive-2019-09-13T16_46_14.222336-5zedre0a/Transform/transformed_examples/5/eval/\", \"properties\": {\"name\": {\"stringValue\": \"transformed_examples\"}, \"type_name\": {\"stringValue\": \"ExamplesPath\"}, \"split\": {\"stringValue\": \"eval\"}, \"producer_component\": {\"stringValue\": \"Transform\"}, \"pipeline_name\": {\"stringValue\": \"interactive-2019-09-13T16_46_14.222336\"}}}, \"artifact_type\": {\"name\": \"ExamplesPath\", \"properties\": {\"split\": \"STRING\", \"name\": \"STRING\", \"type_name\": \"STRING\", \"state\": \"STRING\", \"producer_component\": \"STRING\", \"span\": \"INT\", \"pipeline_name\": \"STRING\"}}}]}\n"
     ]
    },
    {
     "name": "stderr",
     "output_type": "stream",
     "text": [
      "INFO:tensorflow:Outputs for Executor is: {\"transform_output\": [{\"artifact\": {\"uri\": \"/tmp/tfx-interactive-2019-09-13T16_46_14.222336-5zedre0a/Transform/transform_output/5/\", \"properties\": {\"split\": {\"stringValue\": \"\"}, \"producer_component\": {\"stringValue\": \"Transform\"}, \"pipeline_name\": {\"stringValue\": \"interactive-2019-09-13T16_46_14.222336\"}, \"name\": {\"stringValue\": \"transform_output\"}, \"type_name\": {\"stringValue\": \"TransformPath\"}}}, \"artifact_type\": {\"name\": \"TransformPath\", \"properties\": {\"split\": \"STRING\", \"name\": \"STRING\", \"type_name\": \"STRING\", \"state\": \"STRING\", \"producer_component\": \"STRING\", \"span\": \"INT\", \"pipeline_name\": \"STRING\"}}}], \"transformed_examples\": [{\"artifact\": {\"uri\": \"/tmp/tfx-interactive-2019-09-13T16_46_14.222336-5zedre0a/Transform/transformed_examples/5/train/\", \"properties\": {\"name\": {\"stringValue\": \"transformed_examples\"}, \"type_name\": {\"stringValue\": \"ExamplesPath\"}, \"split\": {\"stringValue\": \"train\"}, \"producer_component\": {\"stringValue\": \"Transform\"}, \"pipeline_name\": {\"stringValue\": \"interactive-2019-09-13T16_46_14.222336\"}}}, \"artifact_type\": {\"name\": \"ExamplesPath\", \"properties\": {\"name\": \"STRING\", \"type_name\": \"STRING\", \"state\": \"STRING\", \"producer_component\": \"STRING\", \"span\": \"INT\", \"pipeline_name\": \"STRING\", \"split\": \"STRING\"}}}, {\"artifact\": {\"uri\": \"/tmp/tfx-interactive-2019-09-13T16_46_14.222336-5zedre0a/Transform/transformed_examples/5/eval/\", \"properties\": {\"name\": {\"stringValue\": \"transformed_examples\"}, \"type_name\": {\"stringValue\": \"ExamplesPath\"}, \"split\": {\"stringValue\": \"eval\"}, \"producer_component\": {\"stringValue\": \"Transform\"}, \"pipeline_name\": {\"stringValue\": \"interactive-2019-09-13T16_46_14.222336\"}}}, \"artifact_type\": {\"name\": \"ExamplesPath\", \"properties\": {\"split\": \"STRING\", \"name\": \"STRING\", \"type_name\": \"STRING\", \"state\": \"STRING\", \"producer_component\": \"STRING\", \"span\": \"INT\", \"pipeline_name\": \"STRING\"}}}]}\n"
     ]
    },
    {
     "name": "stdout",
     "output_type": "stream",
     "text": [
      "INFO:tensorflow:Execution properties for Executor is: {\"module_file\": \"/usr/local/google/home/joeyounglee/git-repos/tfx_oss.git/tfx/examples/chicago_taxi_pipeline/taxi_pipeline/local/lib/python3.6/site-packages/tfx/examples/chicago_taxi_pipeline/taxi_utils.py\", \"preprocessing_fn\": null}\n"
     ]
    },
    {
     "name": "stderr",
     "output_type": "stream",
     "text": [
      "INFO:tensorflow:Execution properties for Executor is: {\"module_file\": \"/usr/local/google/home/joeyounglee/git-repos/tfx_oss.git/tfx/examples/chicago_taxi_pipeline/taxi_pipeline/local/lib/python3.6/site-packages/tfx/examples/chicago_taxi_pipeline/taxi_utils.py\", \"preprocessing_fn\": null}\n"
     ]
    },
    {
     "name": "stdout",
     "output_type": "stream",
     "text": [
      "WARNING:tensorflow:From /usr/local/google/home/joeyounglee/git-repos/tfx_oss.git/tfx/examples/chicago_taxi_pipeline/taxi_pipeline/local/lib/python3.6/site-packages/tfx/components/transform/executor.py:241: The name tf.logging.debug is deprecated. Please use tf.compat.v1.logging.debug instead.\n",
      "\n"
     ]
    },
    {
     "name": "stderr",
     "output_type": "stream",
     "text": [
      "WARNING:tensorflow:From /usr/local/google/home/joeyounglee/git-repos/tfx_oss.git/tfx/examples/chicago_taxi_pipeline/taxi_pipeline/local/lib/python3.6/site-packages/tfx/components/transform/executor.py:241: The name tf.logging.debug is deprecated. Please use tf.compat.v1.logging.debug instead.\n",
      "\n"
     ]
    },
    {
     "name": "stdout",
     "output_type": "stream",
     "text": [
      "WARNING:tensorflow:From /usr/local/google/home/joeyounglee/git-repos/tfx_oss.git/tfx/examples/chicago_taxi_pipeline/taxi_pipeline/local/lib/python3.6/site-packages/tfx/components/transform/executor.py:418: Schema (from tensorflow_transform.tf_metadata.dataset_schema) is deprecated and will be removed in a future version.\n",
      "Instructions for updating:\n",
      "Schema is a deprecated, use schema_utils.schema_from_feature_spec to create a `Schema`\n"
     ]
    },
    {
     "name": "stderr",
     "output_type": "stream",
     "text": [
      "WARNING:tensorflow:From /usr/local/google/home/joeyounglee/git-repos/tfx_oss.git/tfx/examples/chicago_taxi_pipeline/taxi_pipeline/local/lib/python3.6/site-packages/tfx/components/transform/executor.py:418: Schema (from tensorflow_transform.tf_metadata.dataset_schema) is deprecated and will be removed in a future version.\n",
      "Instructions for updating:\n",
      "Schema is a deprecated, use schema_utils.schema_from_feature_spec to create a `Schema`\n"
     ]
    },
    {
     "name": "stdout",
     "output_type": "stream",
     "text": [
      "INFO:tensorflow:Inputs to executor.Transform function: {'compute_statistics': False, 'schema_path': '/tmp/tfx-interactive-2019-09-13T16_46_14.222336-5zedre0a/SchemaGen/output/3/schema.pbtxt', 'examples_data_format': 'FORMAT_TF_EXAMPLE', 'analyze_data_paths': '/tmp/tfx-interactive-2019-09-13T16_46_14.222336-5zedre0a/CsvExampleGen/examples/1/train/*', 'analyze_paths_file_formats': 'FORMAT_TFRECORD', 'transform_data_paths': ['/tmp/tfx-interactive-2019-09-13T16_46_14.222336-5zedre0a/CsvExampleGen/examples/1/train/*', '/tmp/tfx-interactive-2019-09-13T16_46_14.222336-5zedre0a/CsvExampleGen/examples/1/eval/*'], 'transform_paths_file_formats': ['FORMAT_TFRECORD', 'FORMAT_TFRECORD'], 'tft_statistics_use_tfdv': True, 'module_file': '/usr/local/google/home/joeyounglee/git-repos/tfx_oss.git/tfx/examples/chicago_taxi_pipeline/taxi_pipeline/local/lib/python3.6/site-packages/tfx/examples/chicago_taxi_pipeline/taxi_utils.py', 'preprocessing_fn': None}\n"
     ]
    },
    {
     "name": "stderr",
     "output_type": "stream",
     "text": [
      "INFO:tensorflow:Inputs to executor.Transform function: {'compute_statistics': False, 'schema_path': '/tmp/tfx-interactive-2019-09-13T16_46_14.222336-5zedre0a/SchemaGen/output/3/schema.pbtxt', 'examples_data_format': 'FORMAT_TF_EXAMPLE', 'analyze_data_paths': '/tmp/tfx-interactive-2019-09-13T16_46_14.222336-5zedre0a/CsvExampleGen/examples/1/train/*', 'analyze_paths_file_formats': 'FORMAT_TFRECORD', 'transform_data_paths': ['/tmp/tfx-interactive-2019-09-13T16_46_14.222336-5zedre0a/CsvExampleGen/examples/1/train/*', '/tmp/tfx-interactive-2019-09-13T16_46_14.222336-5zedre0a/CsvExampleGen/examples/1/eval/*'], 'transform_paths_file_formats': ['FORMAT_TFRECORD', 'FORMAT_TFRECORD'], 'tft_statistics_use_tfdv': True, 'module_file': '/usr/local/google/home/joeyounglee/git-repos/tfx_oss.git/tfx/examples/chicago_taxi_pipeline/taxi_pipeline/local/lib/python3.6/site-packages/tfx/examples/chicago_taxi_pipeline/taxi_utils.py', 'preprocessing_fn': None}\n"
     ]
    },
    {
     "name": "stdout",
     "output_type": "stream",
     "text": [
      "INFO:tensorflow:Outputs to executor.Transform function: {'transform_output_path': '/tmp/tfx-interactive-2019-09-13T16_46_14.222336-5zedre0a/Transform/transform_output/5/', 'transform_materialize_output_paths': ['/tmp/tfx-interactive-2019-09-13T16_46_14.222336-5zedre0a/Transform/transformed_examples/5/train/transformed_examples', '/tmp/tfx-interactive-2019-09-13T16_46_14.222336-5zedre0a/Transform/transformed_examples/5/eval/transformed_examples'], 'temp_path': '/tmp/tfx-interactive-2019-09-13T16_46_14.222336-5zedre0a/Transform/transform_output/5/.temp_path'}\n"
     ]
    },
    {
     "name": "stderr",
     "output_type": "stream",
     "text": [
      "INFO:tensorflow:Outputs to executor.Transform function: {'transform_output_path': '/tmp/tfx-interactive-2019-09-13T16_46_14.222336-5zedre0a/Transform/transform_output/5/', 'transform_materialize_output_paths': ['/tmp/tfx-interactive-2019-09-13T16_46_14.222336-5zedre0a/Transform/transformed_examples/5/train/transformed_examples', '/tmp/tfx-interactive-2019-09-13T16_46_14.222336-5zedre0a/Transform/transformed_examples/5/eval/transformed_examples'], 'temp_path': '/tmp/tfx-interactive-2019-09-13T16_46_14.222336-5zedre0a/Transform/transform_output/5/.temp_path'}\n"
     ]
    },
    {
     "name": "stdout",
     "output_type": "stream",
     "text": [
      "WARNING:tensorflow:From /usr/local/google/home/joeyounglee/git-repos/tfx_oss.git/tfx/examples/chicago_taxi_pipeline/taxi_pipeline/local/lib/python3.6/site-packages/tensorflow_transform/mappers.py:349: add_dispatch_support.<locals>.wrapper (from tensorflow.python.ops.array_ops) is deprecated and will be removed in a future version.\n",
      "Instructions for updating:\n",
      "Use tf.where in 2.0, which has the same broadcast rule as np.where\n"
     ]
    },
    {
     "name": "stderr",
     "output_type": "stream",
     "text": [
      "WARNING:tensorflow:From /usr/local/google/home/joeyounglee/git-repos/tfx_oss.git/tfx/examples/chicago_taxi_pipeline/taxi_pipeline/local/lib/python3.6/site-packages/tensorflow_transform/mappers.py:349: add_dispatch_support.<locals>.wrapper (from tensorflow.python.ops.array_ops) is deprecated and will be removed in a future version.\n",
      "Instructions for updating:\n",
      "Use tf.where in 2.0, which has the same broadcast rule as np.where\n"
     ]
    },
    {
     "name": "stdout",
     "output_type": "stream",
     "text": [
      "WARNING:tensorflow:From /usr/local/google/home/joeyounglee/git-repos/tfx_oss.git/tfx/examples/chicago_taxi_pipeline/taxi_pipeline/local/lib/python3.6/site-packages/tfx/examples/chicago_taxi_pipeline/taxi_utils.py:140: The name tf.is_nan is deprecated. Please use tf.math.is_nan instead.\n",
      "\n"
     ]
    },
    {
     "name": "stderr",
     "output_type": "stream",
     "text": [
      "WARNING:tensorflow:From /usr/local/google/home/joeyounglee/git-repos/tfx_oss.git/tfx/examples/chicago_taxi_pipeline/taxi_pipeline/local/lib/python3.6/site-packages/tfx/examples/chicago_taxi_pipeline/taxi_utils.py:140: The name tf.is_nan is deprecated. Please use tf.math.is_nan instead.\n",
      "\n"
     ]
    },
    {
     "name": "stdout",
     "output_type": "stream",
     "text": [
      "INFO:tensorflow:Analyze data patterns: [(0, '/tmp/tfx-interactive-2019-09-13T16_46_14.222336-5zedre0a/CsvExampleGen/examples/1/train/*')]\n"
     ]
    },
    {
     "name": "stderr",
     "output_type": "stream",
     "text": [
      "INFO:tensorflow:Analyze data patterns: [(0, '/tmp/tfx-interactive-2019-09-13T16_46_14.222336-5zedre0a/CsvExampleGen/examples/1/train/*')]\n"
     ]
    },
    {
     "name": "stdout",
     "output_type": "stream",
     "text": [
      "INFO:tensorflow:Transform data patterns: [(0, '/tmp/tfx-interactive-2019-09-13T16_46_14.222336-5zedre0a/CsvExampleGen/examples/1/train/*'), (1, '/tmp/tfx-interactive-2019-09-13T16_46_14.222336-5zedre0a/CsvExampleGen/examples/1/eval/*')]\n"
     ]
    },
    {
     "name": "stderr",
     "output_type": "stream",
     "text": [
      "INFO:tensorflow:Transform data patterns: [(0, '/tmp/tfx-interactive-2019-09-13T16_46_14.222336-5zedre0a/CsvExampleGen/examples/1/train/*'), (1, '/tmp/tfx-interactive-2019-09-13T16_46_14.222336-5zedre0a/CsvExampleGen/examples/1/eval/*')]\n"
     ]
    },
    {
     "name": "stdout",
     "output_type": "stream",
     "text": [
      "INFO:tensorflow:Transform materialization output paths: [(0, '/tmp/tfx-interactive-2019-09-13T16_46_14.222336-5zedre0a/Transform/transformed_examples/5/train/transformed_examples'), (1, '/tmp/tfx-interactive-2019-09-13T16_46_14.222336-5zedre0a/Transform/transformed_examples/5/eval/transformed_examples')]\n"
     ]
    },
    {
     "name": "stderr",
     "output_type": "stream",
     "text": [
      "INFO:tensorflow:Transform materialization output paths: [(0, '/tmp/tfx-interactive-2019-09-13T16_46_14.222336-5zedre0a/Transform/transformed_examples/5/train/transformed_examples'), (1, '/tmp/tfx-interactive-2019-09-13T16_46_14.222336-5zedre0a/Transform/transformed_examples/5/eval/transformed_examples')]\n"
     ]
    },
    {
     "name": "stdout",
     "output_type": "stream",
     "text": [
      "INFO:tensorflow:Transform output path: /tmp/tfx-interactive-2019-09-13T16_46_14.222336-5zedre0a/Transform/transform_output/5/\n"
     ]
    },
    {
     "name": "stderr",
     "output_type": "stream",
     "text": [
      "INFO:tensorflow:Transform output path: /tmp/tfx-interactive-2019-09-13T16_46_14.222336-5zedre0a/Transform/transform_output/5/\n"
     ]
    },
    {
     "name": "stdout",
     "output_type": "stream",
     "text": [
      "WARNING:tensorflow:From /usr/local/google/home/joeyounglee/git-repos/tfx_oss.git/tfx/examples/chicago_taxi_pipeline/taxi_pipeline/local/lib/python3.6/site-packages/tensorflow/python/saved_model/signature_def_utils_impl.py:201: build_tensor_info (from tensorflow.python.saved_model.utils_impl) is deprecated and will be removed in a future version.\n",
      "Instructions for updating:\n",
      "This function will only be available through the v1 compatibility library as tf.compat.v1.saved_model.utils.build_tensor_info or tf.compat.v1.saved_model.build_tensor_info.\n"
     ]
    },
    {
     "name": "stderr",
     "output_type": "stream",
     "text": [
      "WARNING:tensorflow:From /usr/local/google/home/joeyounglee/git-repos/tfx_oss.git/tfx/examples/chicago_taxi_pipeline/taxi_pipeline/local/lib/python3.6/site-packages/tensorflow/python/saved_model/signature_def_utils_impl.py:201: build_tensor_info (from tensorflow.python.saved_model.utils_impl) is deprecated and will be removed in a future version.\n",
      "Instructions for updating:\n",
      "This function will only be available through the v1 compatibility library as tf.compat.v1.saved_model.utils.build_tensor_info or tf.compat.v1.saved_model.build_tensor_info.\n"
     ]
    },
    {
     "name": "stdout",
     "output_type": "stream",
     "text": [
      "INFO:tensorflow:Assets added to graph.\n"
     ]
    },
    {
     "name": "stderr",
     "output_type": "stream",
     "text": [
      "INFO:tensorflow:Assets added to graph.\n"
     ]
    },
    {
     "name": "stdout",
     "output_type": "stream",
     "text": [
      "INFO:tensorflow:No assets to write.\n"
     ]
    },
    {
     "name": "stderr",
     "output_type": "stream",
     "text": [
      "INFO:tensorflow:No assets to write.\n"
     ]
    },
    {
     "name": "stdout",
     "output_type": "stream",
     "text": [
      "INFO:tensorflow:SavedModel written to: /tmp/tfx-interactive-2019-09-13T16_46_14.222336-5zedre0a/Transform/transform_output/5/.temp_path/tftransform_tmp/27fe4447472148b59e9b9fee310a891d/saved_model.pb\n"
     ]
    },
    {
     "name": "stderr",
     "output_type": "stream",
     "text": [
      "INFO:tensorflow:SavedModel written to: /tmp/tfx-interactive-2019-09-13T16_46_14.222336-5zedre0a/Transform/transform_output/5/.temp_path/tftransform_tmp/27fe4447472148b59e9b9fee310a891d/saved_model.pb\n"
     ]
    },
    {
     "name": "stdout",
     "output_type": "stream",
     "text": [
      "INFO:tensorflow:Assets added to graph.\n"
     ]
    },
    {
     "name": "stderr",
     "output_type": "stream",
     "text": [
      "INFO:tensorflow:Assets added to graph.\n"
     ]
    },
    {
     "name": "stdout",
     "output_type": "stream",
     "text": [
      "INFO:tensorflow:No assets to write.\n"
     ]
    },
    {
     "name": "stderr",
     "output_type": "stream",
     "text": [
      "INFO:tensorflow:No assets to write.\n"
     ]
    },
    {
     "name": "stdout",
     "output_type": "stream",
     "text": [
      "INFO:tensorflow:SavedModel written to: /tmp/tfx-interactive-2019-09-13T16_46_14.222336-5zedre0a/Transform/transform_output/5/.temp_path/tftransform_tmp/ef4ffac207e64990986e7c3b27d221bc/saved_model.pb\n"
     ]
    },
    {
     "name": "stderr",
     "output_type": "stream",
     "text": [
      "INFO:tensorflow:SavedModel written to: /tmp/tfx-interactive-2019-09-13T16_46_14.222336-5zedre0a/Transform/transform_output/5/.temp_path/tftransform_tmp/ef4ffac207e64990986e7c3b27d221bc/saved_model.pb\n"
     ]
    },
    {
     "name": "stdout",
     "output_type": "stream",
     "text": [
      "INFO:tensorflow:Saver not created because there are no variables in the graph to restore\n"
     ]
    },
    {
     "name": "stderr",
     "output_type": "stream",
     "text": [
      "INFO:tensorflow:Saver not created because there are no variables in the graph to restore\n"
     ]
    },
    {
     "name": "stdout",
     "output_type": "stream",
     "text": [
      "INFO:tensorflow:Saver not created because there are no variables in the graph to restore\n"
     ]
    },
    {
     "name": "stderr",
     "output_type": "stream",
     "text": [
      "INFO:tensorflow:Saver not created because there are no variables in the graph to restore\n"
     ]
    },
    {
     "name": "stdout",
     "output_type": "stream",
     "text": [
      "INFO:tensorflow:Assets added to graph.\n"
     ]
    },
    {
     "name": "stderr",
     "output_type": "stream",
     "text": [
      "INFO:tensorflow:Assets added to graph.\n"
     ]
    },
    {
     "name": "stdout",
     "output_type": "stream",
     "text": [
      "INFO:tensorflow:Assets written to: /tmp/tfx-interactive-2019-09-13T16_46_14.222336-5zedre0a/Transform/transform_output/5/.temp_path/tftransform_tmp/6b1a0ca7a7854dcfad2221e3e4a72982/assets\n"
     ]
    },
    {
     "name": "stderr",
     "output_type": "stream",
     "text": [
      "INFO:tensorflow:Assets written to: /tmp/tfx-interactive-2019-09-13T16_46_14.222336-5zedre0a/Transform/transform_output/5/.temp_path/tftransform_tmp/6b1a0ca7a7854dcfad2221e3e4a72982/assets\n"
     ]
    },
    {
     "name": "stdout",
     "output_type": "stream",
     "text": [
      "INFO:tensorflow:SavedModel written to: /tmp/tfx-interactive-2019-09-13T16_46_14.222336-5zedre0a/Transform/transform_output/5/.temp_path/tftransform_tmp/6b1a0ca7a7854dcfad2221e3e4a72982/saved_model.pb\n"
     ]
    },
    {
     "name": "stderr",
     "output_type": "stream",
     "text": [
      "INFO:tensorflow:SavedModel written to: /tmp/tfx-interactive-2019-09-13T16_46_14.222336-5zedre0a/Transform/transform_output/5/.temp_path/tftransform_tmp/6b1a0ca7a7854dcfad2221e3e4a72982/saved_model.pb\n"
     ]
    },
    {
     "name": "stdout",
     "output_type": "stream",
     "text": [
      "WARNING:tensorflow:Expected binary or unicode string, got type_url: \"type.googleapis.com/tensorflow.AssetFileDef\"\n",
      "value: \"\\n\\013\\n\\tConst_7:0\\022-vocab_compute_and_apply_vocabulary_vocabulary\"\n",
      "\n"
     ]
    },
    {
     "name": "stderr",
     "output_type": "stream",
     "text": [
      "WARNING:tensorflow:Expected binary or unicode string, got type_url: \"type.googleapis.com/tensorflow.AssetFileDef\"\n",
      "value: \"\\n\\013\\n\\tConst_7:0\\022-vocab_compute_and_apply_vocabulary_vocabulary\"\n",
      "\n"
     ]
    },
    {
     "name": "stdout",
     "output_type": "stream",
     "text": [
      "WARNING:tensorflow:Expected binary or unicode string, got type_url: \"type.googleapis.com/tensorflow.AssetFileDef\"\n",
      "value: \"\\n\\013\\n\\tConst_9:0\\022/vocab_compute_and_apply_vocabulary_1_vocabulary\"\n",
      "\n"
     ]
    },
    {
     "name": "stderr",
     "output_type": "stream",
     "text": [
      "WARNING:tensorflow:Expected binary or unicode string, got type_url: \"type.googleapis.com/tensorflow.AssetFileDef\"\n",
      "value: \"\\n\\013\\n\\tConst_9:0\\022/vocab_compute_and_apply_vocabulary_1_vocabulary\"\n",
      "\n"
     ]
    },
    {
     "name": "stdout",
     "output_type": "stream",
     "text": [
      "INFO:tensorflow:Saver not created because there are no variables in the graph to restore\n"
     ]
    },
    {
     "name": "stderr",
     "output_type": "stream",
     "text": [
      "INFO:tensorflow:Saver not created because there are no variables in the graph to restore\n"
     ]
    },
    {
     "name": "stdout",
     "output_type": "stream",
     "text": [
      "WARNING:tensorflow:Expected binary or unicode string, got type_url: \"type.googleapis.com/tensorflow.AssetFileDef\"\n",
      "value: \"\\n\\013\\n\\tConst_7:0\\022-vocab_compute_and_apply_vocabulary_vocabulary\"\n",
      "\n"
     ]
    },
    {
     "name": "stderr",
     "output_type": "stream",
     "text": [
      "WARNING:tensorflow:Expected binary or unicode string, got type_url: \"type.googleapis.com/tensorflow.AssetFileDef\"\n",
      "value: \"\\n\\013\\n\\tConst_7:0\\022-vocab_compute_and_apply_vocabulary_vocabulary\"\n",
      "\n"
     ]
    },
    {
     "name": "stdout",
     "output_type": "stream",
     "text": [
      "WARNING:tensorflow:Expected binary or unicode string, got type_url: \"type.googleapis.com/tensorflow.AssetFileDef\"\n",
      "value: \"\\n\\013\\n\\tConst_9:0\\022/vocab_compute_and_apply_vocabulary_1_vocabulary\"\n",
      "\n"
     ]
    },
    {
     "name": "stderr",
     "output_type": "stream",
     "text": [
      "WARNING:tensorflow:Expected binary or unicode string, got type_url: \"type.googleapis.com/tensorflow.AssetFileDef\"\n",
      "value: \"\\n\\013\\n\\tConst_9:0\\022/vocab_compute_and_apply_vocabulary_1_vocabulary\"\n",
      "\n"
     ]
    },
    {
     "name": "stdout",
     "output_type": "stream",
     "text": [
      "INFO:tensorflow:Saver not created because there are no variables in the graph to restore\n"
     ]
    },
    {
     "name": "stderr",
     "output_type": "stream",
     "text": [
      "INFO:tensorflow:Saver not created because there are no variables in the graph to restore\n"
     ]
    },
    {
     "name": "stdout",
     "output_type": "stream",
     "text": [
      "WARNING:tensorflow:Expected binary or unicode string, got type_url: \"type.googleapis.com/tensorflow.AssetFileDef\"\n",
      "value: \"\\n\\013\\n\\tConst_7:0\\022-vocab_compute_and_apply_vocabulary_vocabulary\"\n",
      "\n"
     ]
    },
    {
     "name": "stderr",
     "output_type": "stream",
     "text": [
      "WARNING:tensorflow:Expected binary or unicode string, got type_url: \"type.googleapis.com/tensorflow.AssetFileDef\"\n",
      "value: \"\\n\\013\\n\\tConst_7:0\\022-vocab_compute_and_apply_vocabulary_vocabulary\"\n",
      "\n"
     ]
    },
    {
     "name": "stdout",
     "output_type": "stream",
     "text": [
      "WARNING:tensorflow:Expected binary or unicode string, got type_url: \"type.googleapis.com/tensorflow.AssetFileDef\"\n",
      "value: \"\\n\\013\\n\\tConst_9:0\\022/vocab_compute_and_apply_vocabulary_1_vocabulary\"\n",
      "\n"
     ]
    },
    {
     "name": "stderr",
     "output_type": "stream",
     "text": [
      "WARNING:tensorflow:Expected binary or unicode string, got type_url: \"type.googleapis.com/tensorflow.AssetFileDef\"\n",
      "value: \"\\n\\013\\n\\tConst_9:0\\022/vocab_compute_and_apply_vocabulary_1_vocabulary\"\n",
      "\n"
     ]
    },
    {
     "name": "stdout",
     "output_type": "stream",
     "text": [
      "INFO:tensorflow:Saver not created because there are no variables in the graph to restore\n"
     ]
    },
    {
     "name": "stderr",
     "output_type": "stream",
     "text": [
      "INFO:tensorflow:Saver not created because there are no variables in the graph to restore\n"
     ]
    },
    {
     "name": "stdout",
     "output_type": "stream",
     "text": [
      "INFO:tensorflow:Cleaning up temp path /tmp/tfx-interactive-2019-09-13T16_46_14.222336-5zedre0a/Transform/transform_output/5/.temp_path on executor success\n"
     ]
    },
    {
     "name": "stderr",
     "output_type": "stream",
     "text": [
      "INFO:tensorflow:Cleaning up temp path /tmp/tfx-interactive-2019-09-13T16_46_14.222336-5zedre0a/Transform/transform_output/5/.temp_path on executor success\n"
     ]
    },
    {
     "name": "stdout",
     "output_type": "stream",
     "text": [
      "WARNING:tensorflow:From /usr/local/google/home/joeyounglee/git-repos/tfx_oss.git/tfx/examples/chicago_taxi_pipeline/taxi_pipeline/local/lib/python3.6/site-packages/tfx/utils/io_utils.py:87: The name tf.gfile.IsDirectory is deprecated. Please use tf.io.gfile.isdir instead.\n",
      "\n"
     ]
    },
    {
     "name": "stderr",
     "output_type": "stream",
     "text": [
      "WARNING:tensorflow:From /usr/local/google/home/joeyounglee/git-repos/tfx_oss.git/tfx/examples/chicago_taxi_pipeline/taxi_pipeline/local/lib/python3.6/site-packages/tfx/utils/io_utils.py:87: The name tf.gfile.IsDirectory is deprecated. Please use tf.io.gfile.isdir instead.\n",
      "\n"
     ]
    },
    {
     "name": "stdout",
     "output_type": "stream",
     "text": [
      "WARNING:tensorflow:From /usr/local/google/home/joeyounglee/git-repos/tfx_oss.git/tfx/examples/chicago_taxi_pipeline/taxi_pipeline/local/lib/python3.6/site-packages/tfx/utils/io_utils.py:88: The name tf.gfile.DeleteRecursively is deprecated. Please use tf.io.gfile.rmtree instead.\n",
      "\n"
     ]
    },
    {
     "name": "stderr",
     "output_type": "stream",
     "text": [
      "WARNING:tensorflow:From /usr/local/google/home/joeyounglee/git-repos/tfx_oss.git/tfx/examples/chicago_taxi_pipeline/taxi_pipeline/local/lib/python3.6/site-packages/tfx/utils/io_utils.py:88: The name tf.gfile.DeleteRecursively is deprecated. Please use tf.io.gfile.rmtree instead.\n",
      "\n"
     ]
    },
    {
     "name": "stdout",
     "output_type": "stream",
     "text": [
      "INFO:tensorflow:Run publisher for Transform\n"
     ]
    },
    {
     "name": "stderr",
     "output_type": "stream",
     "text": [
      "INFO:tensorflow:Run publisher for Transform\n"
     ]
    },
    {
     "name": "stdout",
     "output_type": "stream",
     "text": [
      "INFO:tensorflow:Whether cached results are used: False\n"
     ]
    },
    {
     "name": "stderr",
     "output_type": "stream",
     "text": [
      "INFO:tensorflow:Whether cached results are used: False\n"
     ]
    },
    {
     "name": "stdout",
     "output_type": "stream",
     "text": [
      "INFO:tensorflow:Execution id: 5\n"
     ]
    },
    {
     "name": "stderr",
     "output_type": "stream",
     "text": [
      "INFO:tensorflow:Execution id: 5\n"
     ]
    },
    {
     "name": "stdout",
     "output_type": "stream",
     "text": [
      "INFO:tensorflow:Inputs: {'input_data': [Artifact(type_name: ExamplesPath, uri: /tmp/tfx-interactive-2019-09-13T16_46_14.222336-5zedre0a/CsvExampleGen/examples/1/train/, split: train, id: 2), Artifact(type_name: ExamplesPath, uri: /tmp/tfx-interactive-2019-09-13T16_46_14.222336-5zedre0a/CsvExampleGen/examples/1/eval/, split: eval, id: 3)], 'schema': [Artifact(type_name: SchemaPath, uri: /tmp/tfx-interactive-2019-09-13T16_46_14.222336-5zedre0a/SchemaGen/output/3/, split: , id: 6)]}\n"
     ]
    },
    {
     "name": "stderr",
     "output_type": "stream",
     "text": [
      "INFO:tensorflow:Inputs: {'input_data': [Artifact(type_name: ExamplesPath, uri: /tmp/tfx-interactive-2019-09-13T16_46_14.222336-5zedre0a/CsvExampleGen/examples/1/train/, split: train, id: 2), Artifact(type_name: ExamplesPath, uri: /tmp/tfx-interactive-2019-09-13T16_46_14.222336-5zedre0a/CsvExampleGen/examples/1/eval/, split: eval, id: 3)], 'schema': [Artifact(type_name: SchemaPath, uri: /tmp/tfx-interactive-2019-09-13T16_46_14.222336-5zedre0a/SchemaGen/output/3/, split: , id: 6)]}\n"
     ]
    },
    {
     "name": "stdout",
     "output_type": "stream",
     "text": [
      "INFO:tensorflow:Outputs: {'transform_output': [Artifact(type_name: TransformPath, uri: /tmp/tfx-interactive-2019-09-13T16_46_14.222336-5zedre0a/Transform/transform_output/5/, split: , id: 0)], 'transformed_examples': [Artifact(type_name: ExamplesPath, uri: /tmp/tfx-interactive-2019-09-13T16_46_14.222336-5zedre0a/Transform/transformed_examples/5/train/, split: train, id: 0), Artifact(type_name: ExamplesPath, uri: /tmp/tfx-interactive-2019-09-13T16_46_14.222336-5zedre0a/Transform/transformed_examples/5/eval/, split: eval, id: 0)]}\n"
     ]
    },
    {
     "name": "stderr",
     "output_type": "stream",
     "text": [
      "INFO:tensorflow:Outputs: {'transform_output': [Artifact(type_name: TransformPath, uri: /tmp/tfx-interactive-2019-09-13T16_46_14.222336-5zedre0a/Transform/transform_output/5/, split: , id: 0)], 'transformed_examples': [Artifact(type_name: ExamplesPath, uri: /tmp/tfx-interactive-2019-09-13T16_46_14.222336-5zedre0a/Transform/transformed_examples/5/train/, split: train, id: 0), Artifact(type_name: ExamplesPath, uri: /tmp/tfx-interactive-2019-09-13T16_46_14.222336-5zedre0a/Transform/transformed_examples/5/eval/, split: eval, id: 0)]}\n"
     ]
    },
    {
     "name": "stdout",
     "output_type": "stream",
     "text": [
      "INFO:tensorflow:Publishing execution id: 5\n",
      "type_id: 11\n",
      "properties {\n",
      "  key: \"checksum_md5\"\n",
      "  value {\n",
      "    string_value: \"4e52cfff5d4b939df7b60870c459c181\"\n",
      "  }\n",
      "}\n",
      "properties {\n",
      "  key: \"component_id\"\n",
      "  value {\n",
      "    string_value: \"Transform\"\n",
      "  }\n",
      "}\n",
      "properties {\n",
      "  key: \"module_file\"\n",
      "  value {\n",
      "    string_value: \"/usr/local/google/home/joeyounglee/git-repos/tfx_oss.git/tfx/examples/chicago_taxi_pipeline/taxi_pipeline/local/lib/python3.6/site-packages/tfx/examples/chicago_taxi_pipeline/taxi_utils.py\"\n",
      "  }\n",
      "}\n",
      "properties {\n",
      "  key: \"pipeline_name\"\n",
      "  value {\n",
      "    string_value: \"interactive-2019-09-13T16_46_14.222336\"\n",
      "  }\n",
      "}\n",
      "properties {\n",
      "  key: \"pipeline_root\"\n",
      "  value {\n",
      "    string_value: \"/tmp/tfx-interactive-2019-09-13T16_46_14.222336-5zedre0a\"\n",
      "  }\n",
      "}\n",
      "properties {\n",
      "  key: \"preprocessing_fn\"\n",
      "  value {\n",
      "    string_value: \"None\"\n",
      "  }\n",
      "}\n",
      "properties {\n",
      "  key: \"run_id\"\n",
      "  value {\n",
      "    string_value: \"2019-09-13T16:46:34.767449\"\n",
      "  }\n",
      "}\n",
      "properties {\n",
      "  key: \"state\"\n",
      "  value {\n",
      "    string_value: \"complete\"\n",
      "  }\n",
      "}\n",
      ", with inputs {'input_data': [Artifact(type_name: ExamplesPath, uri: /tmp/tfx-interactive-2019-09-13T16_46_14.222336-5zedre0a/CsvExampleGen/examples/1/train/, split: train, id: 2), Artifact(type_name: ExamplesPath, uri: /tmp/tfx-interactive-2019-09-13T16_46_14.222336-5zedre0a/CsvExampleGen/examples/1/eval/, split: eval, id: 3)], 'schema': [Artifact(type_name: SchemaPath, uri: /tmp/tfx-interactive-2019-09-13T16_46_14.222336-5zedre0a/SchemaGen/output/3/, split: , id: 6)]} and outputs {'transform_output': [Artifact(type_name: TransformPath, uri: /tmp/tfx-interactive-2019-09-13T16_46_14.222336-5zedre0a/Transform/transform_output/5/, split: , id: 0)], 'transformed_examples': [Artifact(type_name: ExamplesPath, uri: /tmp/tfx-interactive-2019-09-13T16_46_14.222336-5zedre0a/Transform/transformed_examples/5/train/, split: train, id: 0), Artifact(type_name: ExamplesPath, uri: /tmp/tfx-interactive-2019-09-13T16_46_14.222336-5zedre0a/Transform/transformed_examples/5/eval/, split: eval, id: 0)]}\n"
     ]
    },
    {
     "name": "stderr",
     "output_type": "stream",
     "text": [
      "INFO:tensorflow:Publishing execution id: 5\n",
      "type_id: 11\n",
      "properties {\n",
      "  key: \"checksum_md5\"\n",
      "  value {\n",
      "    string_value: \"4e52cfff5d4b939df7b60870c459c181\"\n",
      "  }\n",
      "}\n",
      "properties {\n",
      "  key: \"component_id\"\n",
      "  value {\n",
      "    string_value: \"Transform\"\n",
      "  }\n",
      "}\n",
      "properties {\n",
      "  key: \"module_file\"\n",
      "  value {\n",
      "    string_value: \"/usr/local/google/home/joeyounglee/git-repos/tfx_oss.git/tfx/examples/chicago_taxi_pipeline/taxi_pipeline/local/lib/python3.6/site-packages/tfx/examples/chicago_taxi_pipeline/taxi_utils.py\"\n",
      "  }\n",
      "}\n",
      "properties {\n",
      "  key: \"pipeline_name\"\n",
      "  value {\n",
      "    string_value: \"interactive-2019-09-13T16_46_14.222336\"\n",
      "  }\n",
      "}\n",
      "properties {\n",
      "  key: \"pipeline_root\"\n",
      "  value {\n",
      "    string_value: \"/tmp/tfx-interactive-2019-09-13T16_46_14.222336-5zedre0a\"\n",
      "  }\n",
      "}\n",
      "properties {\n",
      "  key: \"preprocessing_fn\"\n",
      "  value {\n",
      "    string_value: \"None\"\n",
      "  }\n",
      "}\n",
      "properties {\n",
      "  key: \"run_id\"\n",
      "  value {\n",
      "    string_value: \"2019-09-13T16:46:34.767449\"\n",
      "  }\n",
      "}\n",
      "properties {\n",
      "  key: \"state\"\n",
      "  value {\n",
      "    string_value: \"complete\"\n",
      "  }\n",
      "}\n",
      ", with inputs {'input_data': [Artifact(type_name: ExamplesPath, uri: /tmp/tfx-interactive-2019-09-13T16_46_14.222336-5zedre0a/CsvExampleGen/examples/1/train/, split: train, id: 2), Artifact(type_name: ExamplesPath, uri: /tmp/tfx-interactive-2019-09-13T16_46_14.222336-5zedre0a/CsvExampleGen/examples/1/eval/, split: eval, id: 3)], 'schema': [Artifact(type_name: SchemaPath, uri: /tmp/tfx-interactive-2019-09-13T16_46_14.222336-5zedre0a/SchemaGen/output/3/, split: , id: 6)]} and outputs {'transform_output': [Artifact(type_name: TransformPath, uri: /tmp/tfx-interactive-2019-09-13T16_46_14.222336-5zedre0a/Transform/transform_output/5/, split: , id: 0)], 'transformed_examples': [Artifact(type_name: ExamplesPath, uri: /tmp/tfx-interactive-2019-09-13T16_46_14.222336-5zedre0a/Transform/transformed_examples/5/train/, split: train, id: 0), Artifact(type_name: ExamplesPath, uri: /tmp/tfx-interactive-2019-09-13T16_46_14.222336-5zedre0a/Transform/transformed_examples/5/eval/, split: eval, id: 0)]}\n"
     ]
    },
    {
     "name": "stdout",
     "output_type": "stream",
     "text": [
      "INFO:tensorflow:Published execution with final outputs {'transform_output': [Artifact(type_name: TransformPath, uri: /tmp/tfx-interactive-2019-09-13T16_46_14.222336-5zedre0a/Transform/transform_output/5/, split: , id: 8)], 'transformed_examples': [Artifact(type_name: ExamplesPath, uri: /tmp/tfx-interactive-2019-09-13T16_46_14.222336-5zedre0a/Transform/transformed_examples/5/train/, split: train, id: 9), Artifact(type_name: ExamplesPath, uri: /tmp/tfx-interactive-2019-09-13T16_46_14.222336-5zedre0a/Transform/transformed_examples/5/eval/, split: eval, id: 10)]}\n"
     ]
    },
    {
     "name": "stderr",
     "output_type": "stream",
     "text": [
      "INFO:tensorflow:Published execution with final outputs {'transform_output': [Artifact(type_name: TransformPath, uri: /tmp/tfx-interactive-2019-09-13T16_46_14.222336-5zedre0a/Transform/transform_output/5/, split: , id: 8)], 'transformed_examples': [Artifact(type_name: ExamplesPath, uri: /tmp/tfx-interactive-2019-09-13T16_46_14.222336-5zedre0a/Transform/transformed_examples/5/train/, split: train, id: 9), Artifact(type_name: ExamplesPath, uri: /tmp/tfx-interactive-2019-09-13T16_46_14.222336-5zedre0a/Transform/transformed_examples/5/eval/, split: eval, id: 10)]}\n"
     ]
    },
    {
     "data": {
      "text/html": [
       "<style>\n",
       ".tfx-object.expanded {\n",
       "  padding: 4px 8px 4px 8px;\n",
       "  background: white;\n",
       "  border: 1px solid #bbbbbb;\n",
       "  box-shadow: 4px 4px 2px rgba(0,0,0,0.05);\n",
       "}\n",
       ".tfx-object, .tfx-object * {\n",
       "  font-size: 11pt;\n",
       "}\n",
       ".tfx-object > .title {\n",
       "  cursor: pointer;\n",
       "}\n",
       ".tfx-object .expansion-marker {\n",
       "  color: #999999;\n",
       "}\n",
       ".tfx-object.expanded > .title > .expansion-marker:before {\n",
       "  content: '▼';\n",
       "}\n",
       ".tfx-object.collapsed > .title > .expansion-marker:before {\n",
       "  content: '▶';\n",
       "}\n",
       ".tfx-object .class-name {\n",
       "  font-weight: bold;\n",
       "}\n",
       ".tfx-object .deemphasize {\n",
       "  opacity: 0.5;\n",
       "}\n",
       ".tfx-object.collapsed > table.attr-table {\n",
       "  display: none;\n",
       "}\n",
       ".tfx-object.expanded > table.attr-table {\n",
       "  display: block;\n",
       "}\n",
       ".tfx-object table.attr-table {\n",
       "  border: 2px solid white;\n",
       "  margin-top: 5px;\n",
       "}\n",
       ".tfx-object table.attr-table td.attr-name {\n",
       "  vertical-align: top;\n",
       "  font-weight: bold;\n",
       "}\n",
       ".tfx-object table.attr-table td.attrvalue {\n",
       "  text-align: left;\n",
       "}\n",
       "</style>\n",
       "<script>\n",
       "function toggleTfxObject(element) {\n",
       "  var objElement = element.parentElement;\n",
       "  if (objElement.classList.contains('collapsed')) {\n",
       "    objElement.classList.remove('collapsed');\n",
       "    objElement.classList.add('expanded');\n",
       "  } else {\n",
       "    objElement.classList.add('collapsed');\n",
       "    objElement.classList.remove('expanded');\n",
       "  }\n",
       "}\n",
       "</script>\n",
       "<div class=\"tfx-object expanded\"><div class = \"title\" onclick=\"toggleTfxObject(this)\"><span class=\"expansion-marker\"></span><span class=\"class-name\">ExecutionResult</span><span class=\"deemphasize\"> at 0x7fac2415dcc0</span></div><table class=\"attr-table\"><tr><td class=\"attr-name\">.execution_id</td><td class = \"attrvalue\">5</td></tr><tr><td class=\"attr-name\">.component</td><td class = \"attrvalue\"><style>\n",
       ".tfx-object.expanded {\n",
       "  padding: 4px 8px 4px 8px;\n",
       "  background: white;\n",
       "  border: 1px solid #bbbbbb;\n",
       "  box-shadow: 4px 4px 2px rgba(0,0,0,0.05);\n",
       "}\n",
       ".tfx-object, .tfx-object * {\n",
       "  font-size: 11pt;\n",
       "}\n",
       ".tfx-object > .title {\n",
       "  cursor: pointer;\n",
       "}\n",
       ".tfx-object .expansion-marker {\n",
       "  color: #999999;\n",
       "}\n",
       ".tfx-object.expanded > .title > .expansion-marker:before {\n",
       "  content: '▼';\n",
       "}\n",
       ".tfx-object.collapsed > .title > .expansion-marker:before {\n",
       "  content: '▶';\n",
       "}\n",
       ".tfx-object .class-name {\n",
       "  font-weight: bold;\n",
       "}\n",
       ".tfx-object .deemphasize {\n",
       "  opacity: 0.5;\n",
       "}\n",
       ".tfx-object.collapsed > table.attr-table {\n",
       "  display: none;\n",
       "}\n",
       ".tfx-object.expanded > table.attr-table {\n",
       "  display: block;\n",
       "}\n",
       ".tfx-object table.attr-table {\n",
       "  border: 2px solid white;\n",
       "  margin-top: 5px;\n",
       "}\n",
       ".tfx-object table.attr-table td.attr-name {\n",
       "  vertical-align: top;\n",
       "  font-weight: bold;\n",
       "}\n",
       ".tfx-object table.attr-table td.attrvalue {\n",
       "  text-align: left;\n",
       "}\n",
       "</style>\n",
       "<script>\n",
       "function toggleTfxObject(element) {\n",
       "  var objElement = element.parentElement;\n",
       "  if (objElement.classList.contains('collapsed')) {\n",
       "    objElement.classList.remove('collapsed');\n",
       "    objElement.classList.add('expanded');\n",
       "  } else {\n",
       "    objElement.classList.add('collapsed');\n",
       "    objElement.classList.remove('expanded');\n",
       "  }\n",
       "}\n",
       "</script>\n",
       "<div class=\"tfx-object collapsed\"><div class = \"title\" onclick=\"toggleTfxObject(this)\"><span class=\"expansion-marker\"></span><span class=\"class-name\">Transform</span><span class=\"deemphasize\"> at 0x7fada63d81d0</span></div><table class=\"attr-table\"><tr><td class=\"attr-name\">.inputs</td><td class = \"attrvalue\"><table class=\"attr-table\"><tr><td class=\"attr-name\">['input_data']</td><td class = \"attrvalue\"><style>\n",
       ".tfx-object.expanded {\n",
       "  padding: 4px 8px 4px 8px;\n",
       "  background: white;\n",
       "  border: 1px solid #bbbbbb;\n",
       "  box-shadow: 4px 4px 2px rgba(0,0,0,0.05);\n",
       "}\n",
       ".tfx-object, .tfx-object * {\n",
       "  font-size: 11pt;\n",
       "}\n",
       ".tfx-object > .title {\n",
       "  cursor: pointer;\n",
       "}\n",
       ".tfx-object .expansion-marker {\n",
       "  color: #999999;\n",
       "}\n",
       ".tfx-object.expanded > .title > .expansion-marker:before {\n",
       "  content: '▼';\n",
       "}\n",
       ".tfx-object.collapsed > .title > .expansion-marker:before {\n",
       "  content: '▶';\n",
       "}\n",
       ".tfx-object .class-name {\n",
       "  font-weight: bold;\n",
       "}\n",
       ".tfx-object .deemphasize {\n",
       "  opacity: 0.5;\n",
       "}\n",
       ".tfx-object.collapsed > table.attr-table {\n",
       "  display: none;\n",
       "}\n",
       ".tfx-object.expanded > table.attr-table {\n",
       "  display: block;\n",
       "}\n",
       ".tfx-object table.attr-table {\n",
       "  border: 2px solid white;\n",
       "  margin-top: 5px;\n",
       "}\n",
       ".tfx-object table.attr-table td.attr-name {\n",
       "  vertical-align: top;\n",
       "  font-weight: bold;\n",
       "}\n",
       ".tfx-object table.attr-table td.attrvalue {\n",
       "  text-align: left;\n",
       "}\n",
       "</style>\n",
       "<script>\n",
       "function toggleTfxObject(element) {\n",
       "  var objElement = element.parentElement;\n",
       "  if (objElement.classList.contains('collapsed')) {\n",
       "    objElement.classList.remove('collapsed');\n",
       "    objElement.classList.add('expanded');\n",
       "  } else {\n",
       "    objElement.classList.add('collapsed');\n",
       "    objElement.classList.remove('expanded');\n",
       "  }\n",
       "}\n",
       "</script>\n",
       "<div class=\"tfx-object collapsed\"><div class = \"title\" onclick=\"toggleTfxObject(this)\"><span class=\"expansion-marker\"></span><span class=\"class-name\">Channel</span> of type <span class=\"class-name\">'ExamplesPath'</span> (2 artifacts)<span class=\"deemphasize\"> at 0x7fade432c0f0</span></div><table class=\"attr-table\"><tr><td class=\"attr-name\">.type_name</td><td class = \"attrvalue\">ExamplesPath</td></tr><tr><td class=\"attr-name\">._artifacts</td><td class = \"attrvalue\"><table class=\"attr-table\"><tr><td class=\"attr-name\">[0]</td><td class = \"attrvalue\"><style>\n",
       ".tfx-object.expanded {\n",
       "  padding: 4px 8px 4px 8px;\n",
       "  background: white;\n",
       "  border: 1px solid #bbbbbb;\n",
       "  box-shadow: 4px 4px 2px rgba(0,0,0,0.05);\n",
       "}\n",
       ".tfx-object, .tfx-object * {\n",
       "  font-size: 11pt;\n",
       "}\n",
       ".tfx-object > .title {\n",
       "  cursor: pointer;\n",
       "}\n",
       ".tfx-object .expansion-marker {\n",
       "  color: #999999;\n",
       "}\n",
       ".tfx-object.expanded > .title > .expansion-marker:before {\n",
       "  content: '▼';\n",
       "}\n",
       ".tfx-object.collapsed > .title > .expansion-marker:before {\n",
       "  content: '▶';\n",
       "}\n",
       ".tfx-object .class-name {\n",
       "  font-weight: bold;\n",
       "}\n",
       ".tfx-object .deemphasize {\n",
       "  opacity: 0.5;\n",
       "}\n",
       ".tfx-object.collapsed > table.attr-table {\n",
       "  display: none;\n",
       "}\n",
       ".tfx-object.expanded > table.attr-table {\n",
       "  display: block;\n",
       "}\n",
       ".tfx-object table.attr-table {\n",
       "  border: 2px solid white;\n",
       "  margin-top: 5px;\n",
       "}\n",
       ".tfx-object table.attr-table td.attr-name {\n",
       "  vertical-align: top;\n",
       "  font-weight: bold;\n",
       "}\n",
       ".tfx-object table.attr-table td.attrvalue {\n",
       "  text-align: left;\n",
       "}\n",
       "</style>\n",
       "<script>\n",
       "function toggleTfxObject(element) {\n",
       "  var objElement = element.parentElement;\n",
       "  if (objElement.classList.contains('collapsed')) {\n",
       "    objElement.classList.remove('collapsed');\n",
       "    objElement.classList.add('expanded');\n",
       "  } else {\n",
       "    objElement.classList.add('collapsed');\n",
       "    objElement.classList.remove('expanded');\n",
       "  }\n",
       "}\n",
       "</script>\n",
       "<div class=\"tfx-object collapsed\"><div class = \"title\" onclick=\"toggleTfxObject(this)\"><span class=\"expansion-marker\"></span><span class=\"class-name\">Artifact</span> of type <span class=\"class-name\">'ExamplesPath'</span> (uri: /tmp/tfx-interactive-2019-09-13T16_46_14.222336-5zedre0a/CsvExampleGen/examples/1/train/)<span class=\"deemphasize\"> at 0x7fade432c978</span></div><table class=\"attr-table\"><tr><td class=\"attr-name\">.type_name</td><td class = \"attrvalue\">ExamplesPath</td></tr><tr><td class=\"attr-name\">.uri</td><td class = \"attrvalue\">/tmp/tfx-interactive-2019-09-13T16_46_14.222336-5zedre0a/CsvExampleGen/examples/1/train/</td></tr><tr><td class=\"attr-name\">.span</td><td class = \"attrvalue\">0</td></tr><tr><td class=\"attr-name\">.split</td><td class = \"attrvalue\">train</td></tr></table></div></td></tr><tr><td class=\"attr-name\">[1]</td><td class = \"attrvalue\"><style>\n",
       ".tfx-object.expanded {\n",
       "  padding: 4px 8px 4px 8px;\n",
       "  background: white;\n",
       "  border: 1px solid #bbbbbb;\n",
       "  box-shadow: 4px 4px 2px rgba(0,0,0,0.05);\n",
       "}\n",
       ".tfx-object, .tfx-object * {\n",
       "  font-size: 11pt;\n",
       "}\n",
       ".tfx-object > .title {\n",
       "  cursor: pointer;\n",
       "}\n",
       ".tfx-object .expansion-marker {\n",
       "  color: #999999;\n",
       "}\n",
       ".tfx-object.expanded > .title > .expansion-marker:before {\n",
       "  content: '▼';\n",
       "}\n",
       ".tfx-object.collapsed > .title > .expansion-marker:before {\n",
       "  content: '▶';\n",
       "}\n",
       ".tfx-object .class-name {\n",
       "  font-weight: bold;\n",
       "}\n",
       ".tfx-object .deemphasize {\n",
       "  opacity: 0.5;\n",
       "}\n",
       ".tfx-object.collapsed > table.attr-table {\n",
       "  display: none;\n",
       "}\n",
       ".tfx-object.expanded > table.attr-table {\n",
       "  display: block;\n",
       "}\n",
       ".tfx-object table.attr-table {\n",
       "  border: 2px solid white;\n",
       "  margin-top: 5px;\n",
       "}\n",
       ".tfx-object table.attr-table td.attr-name {\n",
       "  vertical-align: top;\n",
       "  font-weight: bold;\n",
       "}\n",
       ".tfx-object table.attr-table td.attrvalue {\n",
       "  text-align: left;\n",
       "}\n",
       "</style>\n",
       "<script>\n",
       "function toggleTfxObject(element) {\n",
       "  var objElement = element.parentElement;\n",
       "  if (objElement.classList.contains('collapsed')) {\n",
       "    objElement.classList.remove('collapsed');\n",
       "    objElement.classList.add('expanded');\n",
       "  } else {\n",
       "    objElement.classList.add('collapsed');\n",
       "    objElement.classList.remove('expanded');\n",
       "  }\n",
       "}\n",
       "</script>\n",
       "<div class=\"tfx-object collapsed\"><div class = \"title\" onclick=\"toggleTfxObject(this)\"><span class=\"expansion-marker\"></span><span class=\"class-name\">Artifact</span> of type <span class=\"class-name\">'ExamplesPath'</span> (uri: /tmp/tfx-interactive-2019-09-13T16_46_14.222336-5zedre0a/CsvExampleGen/examples/1/eval/)<span class=\"deemphasize\"> at 0x7fade432c198</span></div><table class=\"attr-table\"><tr><td class=\"attr-name\">.type_name</td><td class = \"attrvalue\">ExamplesPath</td></tr><tr><td class=\"attr-name\">.uri</td><td class = \"attrvalue\">/tmp/tfx-interactive-2019-09-13T16_46_14.222336-5zedre0a/CsvExampleGen/examples/1/eval/</td></tr><tr><td class=\"attr-name\">.span</td><td class = \"attrvalue\">0</td></tr><tr><td class=\"attr-name\">.split</td><td class = \"attrvalue\">eval</td></tr></table></div></td></tr></table></td></tr></table></div></td></tr><tr><td class=\"attr-name\">['schema']</td><td class = \"attrvalue\"><style>\n",
       ".tfx-object.expanded {\n",
       "  padding: 4px 8px 4px 8px;\n",
       "  background: white;\n",
       "  border: 1px solid #bbbbbb;\n",
       "  box-shadow: 4px 4px 2px rgba(0,0,0,0.05);\n",
       "}\n",
       ".tfx-object, .tfx-object * {\n",
       "  font-size: 11pt;\n",
       "}\n",
       ".tfx-object > .title {\n",
       "  cursor: pointer;\n",
       "}\n",
       ".tfx-object .expansion-marker {\n",
       "  color: #999999;\n",
       "}\n",
       ".tfx-object.expanded > .title > .expansion-marker:before {\n",
       "  content: '▼';\n",
       "}\n",
       ".tfx-object.collapsed > .title > .expansion-marker:before {\n",
       "  content: '▶';\n",
       "}\n",
       ".tfx-object .class-name {\n",
       "  font-weight: bold;\n",
       "}\n",
       ".tfx-object .deemphasize {\n",
       "  opacity: 0.5;\n",
       "}\n",
       ".tfx-object.collapsed > table.attr-table {\n",
       "  display: none;\n",
       "}\n",
       ".tfx-object.expanded > table.attr-table {\n",
       "  display: block;\n",
       "}\n",
       ".tfx-object table.attr-table {\n",
       "  border: 2px solid white;\n",
       "  margin-top: 5px;\n",
       "}\n",
       ".tfx-object table.attr-table td.attr-name {\n",
       "  vertical-align: top;\n",
       "  font-weight: bold;\n",
       "}\n",
       ".tfx-object table.attr-table td.attrvalue {\n",
       "  text-align: left;\n",
       "}\n",
       "</style>\n",
       "<script>\n",
       "function toggleTfxObject(element) {\n",
       "  var objElement = element.parentElement;\n",
       "  if (objElement.classList.contains('collapsed')) {\n",
       "    objElement.classList.remove('collapsed');\n",
       "    objElement.classList.add('expanded');\n",
       "  } else {\n",
       "    objElement.classList.add('collapsed');\n",
       "    objElement.classList.remove('expanded');\n",
       "  }\n",
       "}\n",
       "</script>\n",
       "<div class=\"tfx-object collapsed\"><div class = \"title\" onclick=\"toggleTfxObject(this)\"><span class=\"expansion-marker\"></span><span class=\"class-name\">Channel</span> of type <span class=\"class-name\">'SchemaPath'</span> (1 artifact)<span class=\"deemphasize\"> at 0x7face81e1f28</span></div><table class=\"attr-table\"><tr><td class=\"attr-name\">.type_name</td><td class = \"attrvalue\">SchemaPath</td></tr><tr><td class=\"attr-name\">._artifacts</td><td class = \"attrvalue\"><table class=\"attr-table\"><tr><td class=\"attr-name\">[0]</td><td class = \"attrvalue\"><style>\n",
       ".tfx-object.expanded {\n",
       "  padding: 4px 8px 4px 8px;\n",
       "  background: white;\n",
       "  border: 1px solid #bbbbbb;\n",
       "  box-shadow: 4px 4px 2px rgba(0,0,0,0.05);\n",
       "}\n",
       ".tfx-object, .tfx-object * {\n",
       "  font-size: 11pt;\n",
       "}\n",
       ".tfx-object > .title {\n",
       "  cursor: pointer;\n",
       "}\n",
       ".tfx-object .expansion-marker {\n",
       "  color: #999999;\n",
       "}\n",
       ".tfx-object.expanded > .title > .expansion-marker:before {\n",
       "  content: '▼';\n",
       "}\n",
       ".tfx-object.collapsed > .title > .expansion-marker:before {\n",
       "  content: '▶';\n",
       "}\n",
       ".tfx-object .class-name {\n",
       "  font-weight: bold;\n",
       "}\n",
       ".tfx-object .deemphasize {\n",
       "  opacity: 0.5;\n",
       "}\n",
       ".tfx-object.collapsed > table.attr-table {\n",
       "  display: none;\n",
       "}\n",
       ".tfx-object.expanded > table.attr-table {\n",
       "  display: block;\n",
       "}\n",
       ".tfx-object table.attr-table {\n",
       "  border: 2px solid white;\n",
       "  margin-top: 5px;\n",
       "}\n",
       ".tfx-object table.attr-table td.attr-name {\n",
       "  vertical-align: top;\n",
       "  font-weight: bold;\n",
       "}\n",
       ".tfx-object table.attr-table td.attrvalue {\n",
       "  text-align: left;\n",
       "}\n",
       "</style>\n",
       "<script>\n",
       "function toggleTfxObject(element) {\n",
       "  var objElement = element.parentElement;\n",
       "  if (objElement.classList.contains('collapsed')) {\n",
       "    objElement.classList.remove('collapsed');\n",
       "    objElement.classList.add('expanded');\n",
       "  } else {\n",
       "    objElement.classList.add('collapsed');\n",
       "    objElement.classList.remove('expanded');\n",
       "  }\n",
       "}\n",
       "</script>\n",
       "<div class=\"tfx-object collapsed\"><div class = \"title\" onclick=\"toggleTfxObject(this)\"><span class=\"expansion-marker\"></span><span class=\"class-name\">Artifact</span> of type <span class=\"class-name\">'SchemaPath'</span> (uri: /tmp/tfx-interactive-2019-09-13T16_46_14.222336-5zedre0a/SchemaGen/output/3/)<span class=\"deemphasize\"> at 0x7fadad8aaf60</span></div><table class=\"attr-table\"><tr><td class=\"attr-name\">.type_name</td><td class = \"attrvalue\">SchemaPath</td></tr><tr><td class=\"attr-name\">.uri</td><td class = \"attrvalue\">/tmp/tfx-interactive-2019-09-13T16_46_14.222336-5zedre0a/SchemaGen/output/3/</td></tr><tr><td class=\"attr-name\">.span</td><td class = \"attrvalue\">0</td></tr><tr><td class=\"attr-name\">.split</td><td class = \"attrvalue\"></td></tr></table></div></td></tr></table></td></tr></table></div></td></tr></table></td></tr><tr><td class=\"attr-name\">.outputs</td><td class = \"attrvalue\"><table class=\"attr-table\"><tr><td class=\"attr-name\">['transform_output']</td><td class = \"attrvalue\"><style>\n",
       ".tfx-object.expanded {\n",
       "  padding: 4px 8px 4px 8px;\n",
       "  background: white;\n",
       "  border: 1px solid #bbbbbb;\n",
       "  box-shadow: 4px 4px 2px rgba(0,0,0,0.05);\n",
       "}\n",
       ".tfx-object, .tfx-object * {\n",
       "  font-size: 11pt;\n",
       "}\n",
       ".tfx-object > .title {\n",
       "  cursor: pointer;\n",
       "}\n",
       ".tfx-object .expansion-marker {\n",
       "  color: #999999;\n",
       "}\n",
       ".tfx-object.expanded > .title > .expansion-marker:before {\n",
       "  content: '▼';\n",
       "}\n",
       ".tfx-object.collapsed > .title > .expansion-marker:before {\n",
       "  content: '▶';\n",
       "}\n",
       ".tfx-object .class-name {\n",
       "  font-weight: bold;\n",
       "}\n",
       ".tfx-object .deemphasize {\n",
       "  opacity: 0.5;\n",
       "}\n",
       ".tfx-object.collapsed > table.attr-table {\n",
       "  display: none;\n",
       "}\n",
       ".tfx-object.expanded > table.attr-table {\n",
       "  display: block;\n",
       "}\n",
       ".tfx-object table.attr-table {\n",
       "  border: 2px solid white;\n",
       "  margin-top: 5px;\n",
       "}\n",
       ".tfx-object table.attr-table td.attr-name {\n",
       "  vertical-align: top;\n",
       "  font-weight: bold;\n",
       "}\n",
       ".tfx-object table.attr-table td.attrvalue {\n",
       "  text-align: left;\n",
       "}\n",
       "</style>\n",
       "<script>\n",
       "function toggleTfxObject(element) {\n",
       "  var objElement = element.parentElement;\n",
       "  if (objElement.classList.contains('collapsed')) {\n",
       "    objElement.classList.remove('collapsed');\n",
       "    objElement.classList.add('expanded');\n",
       "  } else {\n",
       "    objElement.classList.add('collapsed');\n",
       "    objElement.classList.remove('expanded');\n",
       "  }\n",
       "}\n",
       "</script>\n",
       "<div class=\"tfx-object collapsed\"><div class = \"title\" onclick=\"toggleTfxObject(this)\"><span class=\"expansion-marker\"></span><span class=\"class-name\">Channel</span> of type <span class=\"class-name\">'TransformPath'</span> (1 artifact)<span class=\"deemphasize\"> at 0x7fada63d87f0</span></div><table class=\"attr-table\"><tr><td class=\"attr-name\">.type_name</td><td class = \"attrvalue\">TransformPath</td></tr><tr><td class=\"attr-name\">._artifacts</td><td class = \"attrvalue\"><table class=\"attr-table\"><tr><td class=\"attr-name\">[0]</td><td class = \"attrvalue\"><style>\n",
       ".tfx-object.expanded {\n",
       "  padding: 4px 8px 4px 8px;\n",
       "  background: white;\n",
       "  border: 1px solid #bbbbbb;\n",
       "  box-shadow: 4px 4px 2px rgba(0,0,0,0.05);\n",
       "}\n",
       ".tfx-object, .tfx-object * {\n",
       "  font-size: 11pt;\n",
       "}\n",
       ".tfx-object > .title {\n",
       "  cursor: pointer;\n",
       "}\n",
       ".tfx-object .expansion-marker {\n",
       "  color: #999999;\n",
       "}\n",
       ".tfx-object.expanded > .title > .expansion-marker:before {\n",
       "  content: '▼';\n",
       "}\n",
       ".tfx-object.collapsed > .title > .expansion-marker:before {\n",
       "  content: '▶';\n",
       "}\n",
       ".tfx-object .class-name {\n",
       "  font-weight: bold;\n",
       "}\n",
       ".tfx-object .deemphasize {\n",
       "  opacity: 0.5;\n",
       "}\n",
       ".tfx-object.collapsed > table.attr-table {\n",
       "  display: none;\n",
       "}\n",
       ".tfx-object.expanded > table.attr-table {\n",
       "  display: block;\n",
       "}\n",
       ".tfx-object table.attr-table {\n",
       "  border: 2px solid white;\n",
       "  margin-top: 5px;\n",
       "}\n",
       ".tfx-object table.attr-table td.attr-name {\n",
       "  vertical-align: top;\n",
       "  font-weight: bold;\n",
       "}\n",
       ".tfx-object table.attr-table td.attrvalue {\n",
       "  text-align: left;\n",
       "}\n",
       "</style>\n",
       "<script>\n",
       "function toggleTfxObject(element) {\n",
       "  var objElement = element.parentElement;\n",
       "  if (objElement.classList.contains('collapsed')) {\n",
       "    objElement.classList.remove('collapsed');\n",
       "    objElement.classList.add('expanded');\n",
       "  } else {\n",
       "    objElement.classList.add('collapsed');\n",
       "    objElement.classList.remove('expanded');\n",
       "  }\n",
       "}\n",
       "</script>\n",
       "<div class=\"tfx-object collapsed\"><div class = \"title\" onclick=\"toggleTfxObject(this)\"><span class=\"expansion-marker\"></span><span class=\"class-name\">Artifact</span> of type <span class=\"class-name\">'TransformPath'</span> (uri: /tmp/tfx-interactive-2019-09-13T16_46_14.222336-5zedre0a/Transform/transform_output/5/)<span class=\"deemphasize\"> at 0x7fada63d8b00</span></div><table class=\"attr-table\"><tr><td class=\"attr-name\">.type_name</td><td class = \"attrvalue\">TransformPath</td></tr><tr><td class=\"attr-name\">.uri</td><td class = \"attrvalue\">/tmp/tfx-interactive-2019-09-13T16_46_14.222336-5zedre0a/Transform/transform_output/5/</td></tr><tr><td class=\"attr-name\">.span</td><td class = \"attrvalue\">0</td></tr><tr><td class=\"attr-name\">.split</td><td class = \"attrvalue\"></td></tr></table></div></td></tr></table></td></tr></table></div></td></tr><tr><td class=\"attr-name\">['transformed_examples']</td><td class = \"attrvalue\"><style>\n",
       ".tfx-object.expanded {\n",
       "  padding: 4px 8px 4px 8px;\n",
       "  background: white;\n",
       "  border: 1px solid #bbbbbb;\n",
       "  box-shadow: 4px 4px 2px rgba(0,0,0,0.05);\n",
       "}\n",
       ".tfx-object, .tfx-object * {\n",
       "  font-size: 11pt;\n",
       "}\n",
       ".tfx-object > .title {\n",
       "  cursor: pointer;\n",
       "}\n",
       ".tfx-object .expansion-marker {\n",
       "  color: #999999;\n",
       "}\n",
       ".tfx-object.expanded > .title > .expansion-marker:before {\n",
       "  content: '▼';\n",
       "}\n",
       ".tfx-object.collapsed > .title > .expansion-marker:before {\n",
       "  content: '▶';\n",
       "}\n",
       ".tfx-object .class-name {\n",
       "  font-weight: bold;\n",
       "}\n",
       ".tfx-object .deemphasize {\n",
       "  opacity: 0.5;\n",
       "}\n",
       ".tfx-object.collapsed > table.attr-table {\n",
       "  display: none;\n",
       "}\n",
       ".tfx-object.expanded > table.attr-table {\n",
       "  display: block;\n",
       "}\n",
       ".tfx-object table.attr-table {\n",
       "  border: 2px solid white;\n",
       "  margin-top: 5px;\n",
       "}\n",
       ".tfx-object table.attr-table td.attr-name {\n",
       "  vertical-align: top;\n",
       "  font-weight: bold;\n",
       "}\n",
       ".tfx-object table.attr-table td.attrvalue {\n",
       "  text-align: left;\n",
       "}\n",
       "</style>\n",
       "<script>\n",
       "function toggleTfxObject(element) {\n",
       "  var objElement = element.parentElement;\n",
       "  if (objElement.classList.contains('collapsed')) {\n",
       "    objElement.classList.remove('collapsed');\n",
       "    objElement.classList.add('expanded');\n",
       "  } else {\n",
       "    objElement.classList.add('collapsed');\n",
       "    objElement.classList.remove('expanded');\n",
       "  }\n",
       "}\n",
       "</script>\n",
       "<div class=\"tfx-object collapsed\"><div class = \"title\" onclick=\"toggleTfxObject(this)\"><span class=\"expansion-marker\"></span><span class=\"class-name\">Channel</span> of type <span class=\"class-name\">'ExamplesPath'</span> (2 artifacts)<span class=\"deemphasize\"> at 0x7fada63d8198</span></div><table class=\"attr-table\"><tr><td class=\"attr-name\">.type_name</td><td class = \"attrvalue\">ExamplesPath</td></tr><tr><td class=\"attr-name\">._artifacts</td><td class = \"attrvalue\"><table class=\"attr-table\"><tr><td class=\"attr-name\">[0]</td><td class = \"attrvalue\"><style>\n",
       ".tfx-object.expanded {\n",
       "  padding: 4px 8px 4px 8px;\n",
       "  background: white;\n",
       "  border: 1px solid #bbbbbb;\n",
       "  box-shadow: 4px 4px 2px rgba(0,0,0,0.05);\n",
       "}\n",
       ".tfx-object, .tfx-object * {\n",
       "  font-size: 11pt;\n",
       "}\n",
       ".tfx-object > .title {\n",
       "  cursor: pointer;\n",
       "}\n",
       ".tfx-object .expansion-marker {\n",
       "  color: #999999;\n",
       "}\n",
       ".tfx-object.expanded > .title > .expansion-marker:before {\n",
       "  content: '▼';\n",
       "}\n",
       ".tfx-object.collapsed > .title > .expansion-marker:before {\n",
       "  content: '▶';\n",
       "}\n",
       ".tfx-object .class-name {\n",
       "  font-weight: bold;\n",
       "}\n",
       ".tfx-object .deemphasize {\n",
       "  opacity: 0.5;\n",
       "}\n",
       ".tfx-object.collapsed > table.attr-table {\n",
       "  display: none;\n",
       "}\n",
       ".tfx-object.expanded > table.attr-table {\n",
       "  display: block;\n",
       "}\n",
       ".tfx-object table.attr-table {\n",
       "  border: 2px solid white;\n",
       "  margin-top: 5px;\n",
       "}\n",
       ".tfx-object table.attr-table td.attr-name {\n",
       "  vertical-align: top;\n",
       "  font-weight: bold;\n",
       "}\n",
       ".tfx-object table.attr-table td.attrvalue {\n",
       "  text-align: left;\n",
       "}\n",
       "</style>\n",
       "<script>\n",
       "function toggleTfxObject(element) {\n",
       "  var objElement = element.parentElement;\n",
       "  if (objElement.classList.contains('collapsed')) {\n",
       "    objElement.classList.remove('collapsed');\n",
       "    objElement.classList.add('expanded');\n",
       "  } else {\n",
       "    objElement.classList.add('collapsed');\n",
       "    objElement.classList.remove('expanded');\n",
       "  }\n",
       "}\n",
       "</script>\n",
       "<div class=\"tfx-object collapsed\"><div class = \"title\" onclick=\"toggleTfxObject(this)\"><span class=\"expansion-marker\"></span><span class=\"class-name\">Artifact</span> of type <span class=\"class-name\">'ExamplesPath'</span> (uri: /tmp/tfx-interactive-2019-09-13T16_46_14.222336-5zedre0a/Transform/transformed_examples/5/train/)<span class=\"deemphasize\"> at 0x7fada63d8828</span></div><table class=\"attr-table\"><tr><td class=\"attr-name\">.type_name</td><td class = \"attrvalue\">ExamplesPath</td></tr><tr><td class=\"attr-name\">.uri</td><td class = \"attrvalue\">/tmp/tfx-interactive-2019-09-13T16_46_14.222336-5zedre0a/Transform/transformed_examples/5/train/</td></tr><tr><td class=\"attr-name\">.span</td><td class = \"attrvalue\">0</td></tr><tr><td class=\"attr-name\">.split</td><td class = \"attrvalue\">train</td></tr></table></div></td></tr><tr><td class=\"attr-name\">[1]</td><td class = \"attrvalue\"><style>\n",
       ".tfx-object.expanded {\n",
       "  padding: 4px 8px 4px 8px;\n",
       "  background: white;\n",
       "  border: 1px solid #bbbbbb;\n",
       "  box-shadow: 4px 4px 2px rgba(0,0,0,0.05);\n",
       "}\n",
       ".tfx-object, .tfx-object * {\n",
       "  font-size: 11pt;\n",
       "}\n",
       ".tfx-object > .title {\n",
       "  cursor: pointer;\n",
       "}\n",
       ".tfx-object .expansion-marker {\n",
       "  color: #999999;\n",
       "}\n",
       ".tfx-object.expanded > .title > .expansion-marker:before {\n",
       "  content: '▼';\n",
       "}\n",
       ".tfx-object.collapsed > .title > .expansion-marker:before {\n",
       "  content: '▶';\n",
       "}\n",
       ".tfx-object .class-name {\n",
       "  font-weight: bold;\n",
       "}\n",
       ".tfx-object .deemphasize {\n",
       "  opacity: 0.5;\n",
       "}\n",
       ".tfx-object.collapsed > table.attr-table {\n",
       "  display: none;\n",
       "}\n",
       ".tfx-object.expanded > table.attr-table {\n",
       "  display: block;\n",
       "}\n",
       ".tfx-object table.attr-table {\n",
       "  border: 2px solid white;\n",
       "  margin-top: 5px;\n",
       "}\n",
       ".tfx-object table.attr-table td.attr-name {\n",
       "  vertical-align: top;\n",
       "  font-weight: bold;\n",
       "}\n",
       ".tfx-object table.attr-table td.attrvalue {\n",
       "  text-align: left;\n",
       "}\n",
       "</style>\n",
       "<script>\n",
       "function toggleTfxObject(element) {\n",
       "  var objElement = element.parentElement;\n",
       "  if (objElement.classList.contains('collapsed')) {\n",
       "    objElement.classList.remove('collapsed');\n",
       "    objElement.classList.add('expanded');\n",
       "  } else {\n",
       "    objElement.classList.add('collapsed');\n",
       "    objElement.classList.remove('expanded');\n",
       "  }\n",
       "}\n",
       "</script>\n",
       "<div class=\"tfx-object collapsed\"><div class = \"title\" onclick=\"toggleTfxObject(this)\"><span class=\"expansion-marker\"></span><span class=\"class-name\">Artifact</span> of type <span class=\"class-name\">'ExamplesPath'</span> (uri: /tmp/tfx-interactive-2019-09-13T16_46_14.222336-5zedre0a/Transform/transformed_examples/5/eval/)<span class=\"deemphasize\"> at 0x7fada63d8a20</span></div><table class=\"attr-table\"><tr><td class=\"attr-name\">.type_name</td><td class = \"attrvalue\">ExamplesPath</td></tr><tr><td class=\"attr-name\">.uri</td><td class = \"attrvalue\">/tmp/tfx-interactive-2019-09-13T16_46_14.222336-5zedre0a/Transform/transformed_examples/5/eval/</td></tr><tr><td class=\"attr-name\">.span</td><td class = \"attrvalue\">0</td></tr><tr><td class=\"attr-name\">.split</td><td class = \"attrvalue\">eval</td></tr></table></div></td></tr></table></td></tr></table></div></td></tr></table></td></tr><tr><td class=\"attr-name\">.exec_properties</td><td class = \"attrvalue\"><table class=\"attr-table\"><tr><td class=\"attr-name\">['module_file']</td><td class = \"attrvalue\">/usr/local/google/home/joeyounglee/git-repos/tfx_oss.git/tfx/examples/chicago_taxi_pipeline/taxi_pipeline/local/lib/python3.6/site-packages/tfx/examples/chicago_taxi_pipeline/taxi_utils.py</td></tr><tr><td class=\"attr-name\">['preprocessing_fn']</td><td class = \"attrvalue\">None</td></tr></table></td></tr></table></div></td></tr><tr><td class=\"attr-name\">.component.inputs</td><td class = \"attrvalue\"><table class=\"attr-table\"><tr><td class=\"attr-name\">['input_data']</td><td class = \"attrvalue\"><style>\n",
       ".tfx-object.expanded {\n",
       "  padding: 4px 8px 4px 8px;\n",
       "  background: white;\n",
       "  border: 1px solid #bbbbbb;\n",
       "  box-shadow: 4px 4px 2px rgba(0,0,0,0.05);\n",
       "}\n",
       ".tfx-object, .tfx-object * {\n",
       "  font-size: 11pt;\n",
       "}\n",
       ".tfx-object > .title {\n",
       "  cursor: pointer;\n",
       "}\n",
       ".tfx-object .expansion-marker {\n",
       "  color: #999999;\n",
       "}\n",
       ".tfx-object.expanded > .title > .expansion-marker:before {\n",
       "  content: '▼';\n",
       "}\n",
       ".tfx-object.collapsed > .title > .expansion-marker:before {\n",
       "  content: '▶';\n",
       "}\n",
       ".tfx-object .class-name {\n",
       "  font-weight: bold;\n",
       "}\n",
       ".tfx-object .deemphasize {\n",
       "  opacity: 0.5;\n",
       "}\n",
       ".tfx-object.collapsed > table.attr-table {\n",
       "  display: none;\n",
       "}\n",
       ".tfx-object.expanded > table.attr-table {\n",
       "  display: block;\n",
       "}\n",
       ".tfx-object table.attr-table {\n",
       "  border: 2px solid white;\n",
       "  margin-top: 5px;\n",
       "}\n",
       ".tfx-object table.attr-table td.attr-name {\n",
       "  vertical-align: top;\n",
       "  font-weight: bold;\n",
       "}\n",
       ".tfx-object table.attr-table td.attrvalue {\n",
       "  text-align: left;\n",
       "}\n",
       "</style>\n",
       "<script>\n",
       "function toggleTfxObject(element) {\n",
       "  var objElement = element.parentElement;\n",
       "  if (objElement.classList.contains('collapsed')) {\n",
       "    objElement.classList.remove('collapsed');\n",
       "    objElement.classList.add('expanded');\n",
       "  } else {\n",
       "    objElement.classList.add('collapsed');\n",
       "    objElement.classList.remove('expanded');\n",
       "  }\n",
       "}\n",
       "</script>\n",
       "<div class=\"tfx-object collapsed\"><div class = \"title\" onclick=\"toggleTfxObject(this)\"><span class=\"expansion-marker\"></span><span class=\"class-name\">Channel</span> of type <span class=\"class-name\">'ExamplesPath'</span> (2 artifacts)<span class=\"deemphasize\"> at 0x7fade432c0f0</span></div><table class=\"attr-table\"><tr><td class=\"attr-name\">.type_name</td><td class = \"attrvalue\">ExamplesPath</td></tr><tr><td class=\"attr-name\">._artifacts</td><td class = \"attrvalue\"><table class=\"attr-table\"><tr><td class=\"attr-name\">[0]</td><td class = \"attrvalue\"><style>\n",
       ".tfx-object.expanded {\n",
       "  padding: 4px 8px 4px 8px;\n",
       "  background: white;\n",
       "  border: 1px solid #bbbbbb;\n",
       "  box-shadow: 4px 4px 2px rgba(0,0,0,0.05);\n",
       "}\n",
       ".tfx-object, .tfx-object * {\n",
       "  font-size: 11pt;\n",
       "}\n",
       ".tfx-object > .title {\n",
       "  cursor: pointer;\n",
       "}\n",
       ".tfx-object .expansion-marker {\n",
       "  color: #999999;\n",
       "}\n",
       ".tfx-object.expanded > .title > .expansion-marker:before {\n",
       "  content: '▼';\n",
       "}\n",
       ".tfx-object.collapsed > .title > .expansion-marker:before {\n",
       "  content: '▶';\n",
       "}\n",
       ".tfx-object .class-name {\n",
       "  font-weight: bold;\n",
       "}\n",
       ".tfx-object .deemphasize {\n",
       "  opacity: 0.5;\n",
       "}\n",
       ".tfx-object.collapsed > table.attr-table {\n",
       "  display: none;\n",
       "}\n",
       ".tfx-object.expanded > table.attr-table {\n",
       "  display: block;\n",
       "}\n",
       ".tfx-object table.attr-table {\n",
       "  border: 2px solid white;\n",
       "  margin-top: 5px;\n",
       "}\n",
       ".tfx-object table.attr-table td.attr-name {\n",
       "  vertical-align: top;\n",
       "  font-weight: bold;\n",
       "}\n",
       ".tfx-object table.attr-table td.attrvalue {\n",
       "  text-align: left;\n",
       "}\n",
       "</style>\n",
       "<script>\n",
       "function toggleTfxObject(element) {\n",
       "  var objElement = element.parentElement;\n",
       "  if (objElement.classList.contains('collapsed')) {\n",
       "    objElement.classList.remove('collapsed');\n",
       "    objElement.classList.add('expanded');\n",
       "  } else {\n",
       "    objElement.classList.add('collapsed');\n",
       "    objElement.classList.remove('expanded');\n",
       "  }\n",
       "}\n",
       "</script>\n",
       "<div class=\"tfx-object collapsed\"><div class = \"title\" onclick=\"toggleTfxObject(this)\"><span class=\"expansion-marker\"></span><span class=\"class-name\">Artifact</span> of type <span class=\"class-name\">'ExamplesPath'</span> (uri: /tmp/tfx-interactive-2019-09-13T16_46_14.222336-5zedre0a/CsvExampleGen/examples/1/train/)<span class=\"deemphasize\"> at 0x7fade432c978</span></div><table class=\"attr-table\"><tr><td class=\"attr-name\">.type_name</td><td class = \"attrvalue\">ExamplesPath</td></tr><tr><td class=\"attr-name\">.uri</td><td class = \"attrvalue\">/tmp/tfx-interactive-2019-09-13T16_46_14.222336-5zedre0a/CsvExampleGen/examples/1/train/</td></tr><tr><td class=\"attr-name\">.span</td><td class = \"attrvalue\">0</td></tr><tr><td class=\"attr-name\">.split</td><td class = \"attrvalue\">train</td></tr></table></div></td></tr><tr><td class=\"attr-name\">[1]</td><td class = \"attrvalue\"><style>\n",
       ".tfx-object.expanded {\n",
       "  padding: 4px 8px 4px 8px;\n",
       "  background: white;\n",
       "  border: 1px solid #bbbbbb;\n",
       "  box-shadow: 4px 4px 2px rgba(0,0,0,0.05);\n",
       "}\n",
       ".tfx-object, .tfx-object * {\n",
       "  font-size: 11pt;\n",
       "}\n",
       ".tfx-object > .title {\n",
       "  cursor: pointer;\n",
       "}\n",
       ".tfx-object .expansion-marker {\n",
       "  color: #999999;\n",
       "}\n",
       ".tfx-object.expanded > .title > .expansion-marker:before {\n",
       "  content: '▼';\n",
       "}\n",
       ".tfx-object.collapsed > .title > .expansion-marker:before {\n",
       "  content: '▶';\n",
       "}\n",
       ".tfx-object .class-name {\n",
       "  font-weight: bold;\n",
       "}\n",
       ".tfx-object .deemphasize {\n",
       "  opacity: 0.5;\n",
       "}\n",
       ".tfx-object.collapsed > table.attr-table {\n",
       "  display: none;\n",
       "}\n",
       ".tfx-object.expanded > table.attr-table {\n",
       "  display: block;\n",
       "}\n",
       ".tfx-object table.attr-table {\n",
       "  border: 2px solid white;\n",
       "  margin-top: 5px;\n",
       "}\n",
       ".tfx-object table.attr-table td.attr-name {\n",
       "  vertical-align: top;\n",
       "  font-weight: bold;\n",
       "}\n",
       ".tfx-object table.attr-table td.attrvalue {\n",
       "  text-align: left;\n",
       "}\n",
       "</style>\n",
       "<script>\n",
       "function toggleTfxObject(element) {\n",
       "  var objElement = element.parentElement;\n",
       "  if (objElement.classList.contains('collapsed')) {\n",
       "    objElement.classList.remove('collapsed');\n",
       "    objElement.classList.add('expanded');\n",
       "  } else {\n",
       "    objElement.classList.add('collapsed');\n",
       "    objElement.classList.remove('expanded');\n",
       "  }\n",
       "}\n",
       "</script>\n",
       "<div class=\"tfx-object collapsed\"><div class = \"title\" onclick=\"toggleTfxObject(this)\"><span class=\"expansion-marker\"></span><span class=\"class-name\">Artifact</span> of type <span class=\"class-name\">'ExamplesPath'</span> (uri: /tmp/tfx-interactive-2019-09-13T16_46_14.222336-5zedre0a/CsvExampleGen/examples/1/eval/)<span class=\"deemphasize\"> at 0x7fade432c198</span></div><table class=\"attr-table\"><tr><td class=\"attr-name\">.type_name</td><td class = \"attrvalue\">ExamplesPath</td></tr><tr><td class=\"attr-name\">.uri</td><td class = \"attrvalue\">/tmp/tfx-interactive-2019-09-13T16_46_14.222336-5zedre0a/CsvExampleGen/examples/1/eval/</td></tr><tr><td class=\"attr-name\">.span</td><td class = \"attrvalue\">0</td></tr><tr><td class=\"attr-name\">.split</td><td class = \"attrvalue\">eval</td></tr></table></div></td></tr></table></td></tr></table></div></td></tr><tr><td class=\"attr-name\">['schema']</td><td class = \"attrvalue\"><style>\n",
       ".tfx-object.expanded {\n",
       "  padding: 4px 8px 4px 8px;\n",
       "  background: white;\n",
       "  border: 1px solid #bbbbbb;\n",
       "  box-shadow: 4px 4px 2px rgba(0,0,0,0.05);\n",
       "}\n",
       ".tfx-object, .tfx-object * {\n",
       "  font-size: 11pt;\n",
       "}\n",
       ".tfx-object > .title {\n",
       "  cursor: pointer;\n",
       "}\n",
       ".tfx-object .expansion-marker {\n",
       "  color: #999999;\n",
       "}\n",
       ".tfx-object.expanded > .title > .expansion-marker:before {\n",
       "  content: '▼';\n",
       "}\n",
       ".tfx-object.collapsed > .title > .expansion-marker:before {\n",
       "  content: '▶';\n",
       "}\n",
       ".tfx-object .class-name {\n",
       "  font-weight: bold;\n",
       "}\n",
       ".tfx-object .deemphasize {\n",
       "  opacity: 0.5;\n",
       "}\n",
       ".tfx-object.collapsed > table.attr-table {\n",
       "  display: none;\n",
       "}\n",
       ".tfx-object.expanded > table.attr-table {\n",
       "  display: block;\n",
       "}\n",
       ".tfx-object table.attr-table {\n",
       "  border: 2px solid white;\n",
       "  margin-top: 5px;\n",
       "}\n",
       ".tfx-object table.attr-table td.attr-name {\n",
       "  vertical-align: top;\n",
       "  font-weight: bold;\n",
       "}\n",
       ".tfx-object table.attr-table td.attrvalue {\n",
       "  text-align: left;\n",
       "}\n",
       "</style>\n",
       "<script>\n",
       "function toggleTfxObject(element) {\n",
       "  var objElement = element.parentElement;\n",
       "  if (objElement.classList.contains('collapsed')) {\n",
       "    objElement.classList.remove('collapsed');\n",
       "    objElement.classList.add('expanded');\n",
       "  } else {\n",
       "    objElement.classList.add('collapsed');\n",
       "    objElement.classList.remove('expanded');\n",
       "  }\n",
       "}\n",
       "</script>\n",
       "<div class=\"tfx-object collapsed\"><div class = \"title\" onclick=\"toggleTfxObject(this)\"><span class=\"expansion-marker\"></span><span class=\"class-name\">Channel</span> of type <span class=\"class-name\">'SchemaPath'</span> (1 artifact)<span class=\"deemphasize\"> at 0x7face81e1f28</span></div><table class=\"attr-table\"><tr><td class=\"attr-name\">.type_name</td><td class = \"attrvalue\">SchemaPath</td></tr><tr><td class=\"attr-name\">._artifacts</td><td class = \"attrvalue\"><table class=\"attr-table\"><tr><td class=\"attr-name\">[0]</td><td class = \"attrvalue\"><style>\n",
       ".tfx-object.expanded {\n",
       "  padding: 4px 8px 4px 8px;\n",
       "  background: white;\n",
       "  border: 1px solid #bbbbbb;\n",
       "  box-shadow: 4px 4px 2px rgba(0,0,0,0.05);\n",
       "}\n",
       ".tfx-object, .tfx-object * {\n",
       "  font-size: 11pt;\n",
       "}\n",
       ".tfx-object > .title {\n",
       "  cursor: pointer;\n",
       "}\n",
       ".tfx-object .expansion-marker {\n",
       "  color: #999999;\n",
       "}\n",
       ".tfx-object.expanded > .title > .expansion-marker:before {\n",
       "  content: '▼';\n",
       "}\n",
       ".tfx-object.collapsed > .title > .expansion-marker:before {\n",
       "  content: '▶';\n",
       "}\n",
       ".tfx-object .class-name {\n",
       "  font-weight: bold;\n",
       "}\n",
       ".tfx-object .deemphasize {\n",
       "  opacity: 0.5;\n",
       "}\n",
       ".tfx-object.collapsed > table.attr-table {\n",
       "  display: none;\n",
       "}\n",
       ".tfx-object.expanded > table.attr-table {\n",
       "  display: block;\n",
       "}\n",
       ".tfx-object table.attr-table {\n",
       "  border: 2px solid white;\n",
       "  margin-top: 5px;\n",
       "}\n",
       ".tfx-object table.attr-table td.attr-name {\n",
       "  vertical-align: top;\n",
       "  font-weight: bold;\n",
       "}\n",
       ".tfx-object table.attr-table td.attrvalue {\n",
       "  text-align: left;\n",
       "}\n",
       "</style>\n",
       "<script>\n",
       "function toggleTfxObject(element) {\n",
       "  var objElement = element.parentElement;\n",
       "  if (objElement.classList.contains('collapsed')) {\n",
       "    objElement.classList.remove('collapsed');\n",
       "    objElement.classList.add('expanded');\n",
       "  } else {\n",
       "    objElement.classList.add('collapsed');\n",
       "    objElement.classList.remove('expanded');\n",
       "  }\n",
       "}\n",
       "</script>\n",
       "<div class=\"tfx-object collapsed\"><div class = \"title\" onclick=\"toggleTfxObject(this)\"><span class=\"expansion-marker\"></span><span class=\"class-name\">Artifact</span> of type <span class=\"class-name\">'SchemaPath'</span> (uri: /tmp/tfx-interactive-2019-09-13T16_46_14.222336-5zedre0a/SchemaGen/output/3/)<span class=\"deemphasize\"> at 0x7fadad8aaf60</span></div><table class=\"attr-table\"><tr><td class=\"attr-name\">.type_name</td><td class = \"attrvalue\">SchemaPath</td></tr><tr><td class=\"attr-name\">.uri</td><td class = \"attrvalue\">/tmp/tfx-interactive-2019-09-13T16_46_14.222336-5zedre0a/SchemaGen/output/3/</td></tr><tr><td class=\"attr-name\">.span</td><td class = \"attrvalue\">0</td></tr><tr><td class=\"attr-name\">.split</td><td class = \"attrvalue\"></td></tr></table></div></td></tr></table></td></tr></table></div></td></tr></table></td></tr><tr><td class=\"attr-name\">.component.outputs</td><td class = \"attrvalue\"><table class=\"attr-table\"><tr><td class=\"attr-name\">['transform_output']</td><td class = \"attrvalue\"><style>\n",
       ".tfx-object.expanded {\n",
       "  padding: 4px 8px 4px 8px;\n",
       "  background: white;\n",
       "  border: 1px solid #bbbbbb;\n",
       "  box-shadow: 4px 4px 2px rgba(0,0,0,0.05);\n",
       "}\n",
       ".tfx-object, .tfx-object * {\n",
       "  font-size: 11pt;\n",
       "}\n",
       ".tfx-object > .title {\n",
       "  cursor: pointer;\n",
       "}\n",
       ".tfx-object .expansion-marker {\n",
       "  color: #999999;\n",
       "}\n",
       ".tfx-object.expanded > .title > .expansion-marker:before {\n",
       "  content: '▼';\n",
       "}\n",
       ".tfx-object.collapsed > .title > .expansion-marker:before {\n",
       "  content: '▶';\n",
       "}\n",
       ".tfx-object .class-name {\n",
       "  font-weight: bold;\n",
       "}\n",
       ".tfx-object .deemphasize {\n",
       "  opacity: 0.5;\n",
       "}\n",
       ".tfx-object.collapsed > table.attr-table {\n",
       "  display: none;\n",
       "}\n",
       ".tfx-object.expanded > table.attr-table {\n",
       "  display: block;\n",
       "}\n",
       ".tfx-object table.attr-table {\n",
       "  border: 2px solid white;\n",
       "  margin-top: 5px;\n",
       "}\n",
       ".tfx-object table.attr-table td.attr-name {\n",
       "  vertical-align: top;\n",
       "  font-weight: bold;\n",
       "}\n",
       ".tfx-object table.attr-table td.attrvalue {\n",
       "  text-align: left;\n",
       "}\n",
       "</style>\n",
       "<script>\n",
       "function toggleTfxObject(element) {\n",
       "  var objElement = element.parentElement;\n",
       "  if (objElement.classList.contains('collapsed')) {\n",
       "    objElement.classList.remove('collapsed');\n",
       "    objElement.classList.add('expanded');\n",
       "  } else {\n",
       "    objElement.classList.add('collapsed');\n",
       "    objElement.classList.remove('expanded');\n",
       "  }\n",
       "}\n",
       "</script>\n",
       "<div class=\"tfx-object collapsed\"><div class = \"title\" onclick=\"toggleTfxObject(this)\"><span class=\"expansion-marker\"></span><span class=\"class-name\">Channel</span> of type <span class=\"class-name\">'TransformPath'</span> (1 artifact)<span class=\"deemphasize\"> at 0x7fada63d87f0</span></div><table class=\"attr-table\"><tr><td class=\"attr-name\">.type_name</td><td class = \"attrvalue\">TransformPath</td></tr><tr><td class=\"attr-name\">._artifacts</td><td class = \"attrvalue\"><table class=\"attr-table\"><tr><td class=\"attr-name\">[0]</td><td class = \"attrvalue\"><style>\n",
       ".tfx-object.expanded {\n",
       "  padding: 4px 8px 4px 8px;\n",
       "  background: white;\n",
       "  border: 1px solid #bbbbbb;\n",
       "  box-shadow: 4px 4px 2px rgba(0,0,0,0.05);\n",
       "}\n",
       ".tfx-object, .tfx-object * {\n",
       "  font-size: 11pt;\n",
       "}\n",
       ".tfx-object > .title {\n",
       "  cursor: pointer;\n",
       "}\n",
       ".tfx-object .expansion-marker {\n",
       "  color: #999999;\n",
       "}\n",
       ".tfx-object.expanded > .title > .expansion-marker:before {\n",
       "  content: '▼';\n",
       "}\n",
       ".tfx-object.collapsed > .title > .expansion-marker:before {\n",
       "  content: '▶';\n",
       "}\n",
       ".tfx-object .class-name {\n",
       "  font-weight: bold;\n",
       "}\n",
       ".tfx-object .deemphasize {\n",
       "  opacity: 0.5;\n",
       "}\n",
       ".tfx-object.collapsed > table.attr-table {\n",
       "  display: none;\n",
       "}\n",
       ".tfx-object.expanded > table.attr-table {\n",
       "  display: block;\n",
       "}\n",
       ".tfx-object table.attr-table {\n",
       "  border: 2px solid white;\n",
       "  margin-top: 5px;\n",
       "}\n",
       ".tfx-object table.attr-table td.attr-name {\n",
       "  vertical-align: top;\n",
       "  font-weight: bold;\n",
       "}\n",
       ".tfx-object table.attr-table td.attrvalue {\n",
       "  text-align: left;\n",
       "}\n",
       "</style>\n",
       "<script>\n",
       "function toggleTfxObject(element) {\n",
       "  var objElement = element.parentElement;\n",
       "  if (objElement.classList.contains('collapsed')) {\n",
       "    objElement.classList.remove('collapsed');\n",
       "    objElement.classList.add('expanded');\n",
       "  } else {\n",
       "    objElement.classList.add('collapsed');\n",
       "    objElement.classList.remove('expanded');\n",
       "  }\n",
       "}\n",
       "</script>\n",
       "<div class=\"tfx-object collapsed\"><div class = \"title\" onclick=\"toggleTfxObject(this)\"><span class=\"expansion-marker\"></span><span class=\"class-name\">Artifact</span> of type <span class=\"class-name\">'TransformPath'</span> (uri: /tmp/tfx-interactive-2019-09-13T16_46_14.222336-5zedre0a/Transform/transform_output/5/)<span class=\"deemphasize\"> at 0x7fada63d8b00</span></div><table class=\"attr-table\"><tr><td class=\"attr-name\">.type_name</td><td class = \"attrvalue\">TransformPath</td></tr><tr><td class=\"attr-name\">.uri</td><td class = \"attrvalue\">/tmp/tfx-interactive-2019-09-13T16_46_14.222336-5zedre0a/Transform/transform_output/5/</td></tr><tr><td class=\"attr-name\">.span</td><td class = \"attrvalue\">0</td></tr><tr><td class=\"attr-name\">.split</td><td class = \"attrvalue\"></td></tr></table></div></td></tr></table></td></tr></table></div></td></tr><tr><td class=\"attr-name\">['transformed_examples']</td><td class = \"attrvalue\"><style>\n",
       ".tfx-object.expanded {\n",
       "  padding: 4px 8px 4px 8px;\n",
       "  background: white;\n",
       "  border: 1px solid #bbbbbb;\n",
       "  box-shadow: 4px 4px 2px rgba(0,0,0,0.05);\n",
       "}\n",
       ".tfx-object, .tfx-object * {\n",
       "  font-size: 11pt;\n",
       "}\n",
       ".tfx-object > .title {\n",
       "  cursor: pointer;\n",
       "}\n",
       ".tfx-object .expansion-marker {\n",
       "  color: #999999;\n",
       "}\n",
       ".tfx-object.expanded > .title > .expansion-marker:before {\n",
       "  content: '▼';\n",
       "}\n",
       ".tfx-object.collapsed > .title > .expansion-marker:before {\n",
       "  content: '▶';\n",
       "}\n",
       ".tfx-object .class-name {\n",
       "  font-weight: bold;\n",
       "}\n",
       ".tfx-object .deemphasize {\n",
       "  opacity: 0.5;\n",
       "}\n",
       ".tfx-object.collapsed > table.attr-table {\n",
       "  display: none;\n",
       "}\n",
       ".tfx-object.expanded > table.attr-table {\n",
       "  display: block;\n",
       "}\n",
       ".tfx-object table.attr-table {\n",
       "  border: 2px solid white;\n",
       "  margin-top: 5px;\n",
       "}\n",
       ".tfx-object table.attr-table td.attr-name {\n",
       "  vertical-align: top;\n",
       "  font-weight: bold;\n",
       "}\n",
       ".tfx-object table.attr-table td.attrvalue {\n",
       "  text-align: left;\n",
       "}\n",
       "</style>\n",
       "<script>\n",
       "function toggleTfxObject(element) {\n",
       "  var objElement = element.parentElement;\n",
       "  if (objElement.classList.contains('collapsed')) {\n",
       "    objElement.classList.remove('collapsed');\n",
       "    objElement.classList.add('expanded');\n",
       "  } else {\n",
       "    objElement.classList.add('collapsed');\n",
       "    objElement.classList.remove('expanded');\n",
       "  }\n",
       "}\n",
       "</script>\n",
       "<div class=\"tfx-object collapsed\"><div class = \"title\" onclick=\"toggleTfxObject(this)\"><span class=\"expansion-marker\"></span><span class=\"class-name\">Channel</span> of type <span class=\"class-name\">'ExamplesPath'</span> (2 artifacts)<span class=\"deemphasize\"> at 0x7fada63d8198</span></div><table class=\"attr-table\"><tr><td class=\"attr-name\">.type_name</td><td class = \"attrvalue\">ExamplesPath</td></tr><tr><td class=\"attr-name\">._artifacts</td><td class = \"attrvalue\"><table class=\"attr-table\"><tr><td class=\"attr-name\">[0]</td><td class = \"attrvalue\"><style>\n",
       ".tfx-object.expanded {\n",
       "  padding: 4px 8px 4px 8px;\n",
       "  background: white;\n",
       "  border: 1px solid #bbbbbb;\n",
       "  box-shadow: 4px 4px 2px rgba(0,0,0,0.05);\n",
       "}\n",
       ".tfx-object, .tfx-object * {\n",
       "  font-size: 11pt;\n",
       "}\n",
       ".tfx-object > .title {\n",
       "  cursor: pointer;\n",
       "}\n",
       ".tfx-object .expansion-marker {\n",
       "  color: #999999;\n",
       "}\n",
       ".tfx-object.expanded > .title > .expansion-marker:before {\n",
       "  content: '▼';\n",
       "}\n",
       ".tfx-object.collapsed > .title > .expansion-marker:before {\n",
       "  content: '▶';\n",
       "}\n",
       ".tfx-object .class-name {\n",
       "  font-weight: bold;\n",
       "}\n",
       ".tfx-object .deemphasize {\n",
       "  opacity: 0.5;\n",
       "}\n",
       ".tfx-object.collapsed > table.attr-table {\n",
       "  display: none;\n",
       "}\n",
       ".tfx-object.expanded > table.attr-table {\n",
       "  display: block;\n",
       "}\n",
       ".tfx-object table.attr-table {\n",
       "  border: 2px solid white;\n",
       "  margin-top: 5px;\n",
       "}\n",
       ".tfx-object table.attr-table td.attr-name {\n",
       "  vertical-align: top;\n",
       "  font-weight: bold;\n",
       "}\n",
       ".tfx-object table.attr-table td.attrvalue {\n",
       "  text-align: left;\n",
       "}\n",
       "</style>\n",
       "<script>\n",
       "function toggleTfxObject(element) {\n",
       "  var objElement = element.parentElement;\n",
       "  if (objElement.classList.contains('collapsed')) {\n",
       "    objElement.classList.remove('collapsed');\n",
       "    objElement.classList.add('expanded');\n",
       "  } else {\n",
       "    objElement.classList.add('collapsed');\n",
       "    objElement.classList.remove('expanded');\n",
       "  }\n",
       "}\n",
       "</script>\n",
       "<div class=\"tfx-object collapsed\"><div class = \"title\" onclick=\"toggleTfxObject(this)\"><span class=\"expansion-marker\"></span><span class=\"class-name\">Artifact</span> of type <span class=\"class-name\">'ExamplesPath'</span> (uri: /tmp/tfx-interactive-2019-09-13T16_46_14.222336-5zedre0a/Transform/transformed_examples/5/train/)<span class=\"deemphasize\"> at 0x7fada63d8828</span></div><table class=\"attr-table\"><tr><td class=\"attr-name\">.type_name</td><td class = \"attrvalue\">ExamplesPath</td></tr><tr><td class=\"attr-name\">.uri</td><td class = \"attrvalue\">/tmp/tfx-interactive-2019-09-13T16_46_14.222336-5zedre0a/Transform/transformed_examples/5/train/</td></tr><tr><td class=\"attr-name\">.span</td><td class = \"attrvalue\">0</td></tr><tr><td class=\"attr-name\">.split</td><td class = \"attrvalue\">train</td></tr></table></div></td></tr><tr><td class=\"attr-name\">[1]</td><td class = \"attrvalue\"><style>\n",
       ".tfx-object.expanded {\n",
       "  padding: 4px 8px 4px 8px;\n",
       "  background: white;\n",
       "  border: 1px solid #bbbbbb;\n",
       "  box-shadow: 4px 4px 2px rgba(0,0,0,0.05);\n",
       "}\n",
       ".tfx-object, .tfx-object * {\n",
       "  font-size: 11pt;\n",
       "}\n",
       ".tfx-object > .title {\n",
       "  cursor: pointer;\n",
       "}\n",
       ".tfx-object .expansion-marker {\n",
       "  color: #999999;\n",
       "}\n",
       ".tfx-object.expanded > .title > .expansion-marker:before {\n",
       "  content: '▼';\n",
       "}\n",
       ".tfx-object.collapsed > .title > .expansion-marker:before {\n",
       "  content: '▶';\n",
       "}\n",
       ".tfx-object .class-name {\n",
       "  font-weight: bold;\n",
       "}\n",
       ".tfx-object .deemphasize {\n",
       "  opacity: 0.5;\n",
       "}\n",
       ".tfx-object.collapsed > table.attr-table {\n",
       "  display: none;\n",
       "}\n",
       ".tfx-object.expanded > table.attr-table {\n",
       "  display: block;\n",
       "}\n",
       ".tfx-object table.attr-table {\n",
       "  border: 2px solid white;\n",
       "  margin-top: 5px;\n",
       "}\n",
       ".tfx-object table.attr-table td.attr-name {\n",
       "  vertical-align: top;\n",
       "  font-weight: bold;\n",
       "}\n",
       ".tfx-object table.attr-table td.attrvalue {\n",
       "  text-align: left;\n",
       "}\n",
       "</style>\n",
       "<script>\n",
       "function toggleTfxObject(element) {\n",
       "  var objElement = element.parentElement;\n",
       "  if (objElement.classList.contains('collapsed')) {\n",
       "    objElement.classList.remove('collapsed');\n",
       "    objElement.classList.add('expanded');\n",
       "  } else {\n",
       "    objElement.classList.add('collapsed');\n",
       "    objElement.classList.remove('expanded');\n",
       "  }\n",
       "}\n",
       "</script>\n",
       "<div class=\"tfx-object collapsed\"><div class = \"title\" onclick=\"toggleTfxObject(this)\"><span class=\"expansion-marker\"></span><span class=\"class-name\">Artifact</span> of type <span class=\"class-name\">'ExamplesPath'</span> (uri: /tmp/tfx-interactive-2019-09-13T16_46_14.222336-5zedre0a/Transform/transformed_examples/5/eval/)<span class=\"deemphasize\"> at 0x7fada63d8a20</span></div><table class=\"attr-table\"><tr><td class=\"attr-name\">.type_name</td><td class = \"attrvalue\">ExamplesPath</td></tr><tr><td class=\"attr-name\">.uri</td><td class = \"attrvalue\">/tmp/tfx-interactive-2019-09-13T16_46_14.222336-5zedre0a/Transform/transformed_examples/5/eval/</td></tr><tr><td class=\"attr-name\">.span</td><td class = \"attrvalue\">0</td></tr><tr><td class=\"attr-name\">.split</td><td class = \"attrvalue\">eval</td></tr></table></div></td></tr></table></td></tr></table></div></td></tr></table></td></tr></table></div>"
      ],
      "text/plain": [
       "ExecutionResult(\n",
       "    component_id: Transform\n",
       "    execution_id: 5\n",
       "    outputs:\n",
       "        transform_output: Channel(\n",
       "            type_name: TransformPath\n",
       "            artifacts: [Artifact(type_name: TransformPath, uri: /tmp/tfx-interactive-2019-09-13T16_46_14.222336-5zedre0a/Transform/transform_output/5/, split: , id: 8)]\n",
       "        )\n",
       "        transformed_examples: Channel(\n",
       "            type_name: ExamplesPath\n",
       "            artifacts: [Artifact(type_name: ExamplesPath, uri: /tmp/tfx-interactive-2019-09-13T16_46_14.222336-5zedre0a/Transform/transformed_examples/5/train/, split: train, id: 9)\n",
       "            Artifact(type_name: ExamplesPath, uri: /tmp/tfx-interactive-2019-09-13T16_46_14.222336-5zedre0a/Transform/transformed_examples/5/eval/, split: eval, id: 10)]\n",
       "        ))"
      ]
     },
     "execution_count": 13,
     "metadata": {},
     "output_type": "execute_result"
    }
   ],
   "source": [
    "# Performs transformations and feature engineering in training and serving.\n",
    "transform = Transform(\n",
    "    input_data=example_gen.outputs['examples'],\n",
    "    schema=infer_schema.outputs['output'],\n",
    "    module_file=_taxi_module_file)\n",
    "context.run(transform)"
   ]
  },
  {
   "cell_type": "markdown",
   "metadata": {
    "colab_type": "text",
    "id": "OBJFtnl6lCg9"
   },
   "source": [
    "### Trainer\n",
    "`Trainer` trains your custom model using TF-Learn."
   ]
  },
  {
   "cell_type": "code",
   "execution_count": 14,
   "metadata": {
    "colab": {},
    "colab_type": "code",
    "id": "429-vvCWibO0"
   },
   "outputs": [
    {
     "name": "stdout",
     "output_type": "stream",
     "text": [
      "INFO:tensorflow:Run driver for Trainer\n"
     ]
    },
    {
     "name": "stderr",
     "output_type": "stream",
     "text": [
      "INFO:tensorflow:Run driver for Trainer\n"
     ]
    },
    {
     "name": "stdout",
     "output_type": "stream",
     "text": [
      "INFO:tensorflow:Created run context interactive-2019-09-13T16_46_14.222336.2019-09-13T16:46:54.357939.\n"
     ]
    },
    {
     "name": "stderr",
     "output_type": "stream",
     "text": [
      "INFO:tensorflow:Created run context interactive-2019-09-13T16_46_14.222336.2019-09-13T16:46:54.357939.\n"
     ]
    },
    {
     "name": "stdout",
     "output_type": "stream",
     "text": [
      "INFO:tensorflow:ID of run context interactive-2019-09-13T16_46_14.222336.2019-09-13T16:46:54.357939 is 6.\n"
     ]
    },
    {
     "name": "stderr",
     "output_type": "stream",
     "text": [
      "INFO:tensorflow:ID of run context interactive-2019-09-13T16_46_14.222336.2019-09-13T16:46:54.357939 is 6.\n"
     ]
    },
    {
     "name": "stdout",
     "output_type": "stream",
     "text": [
      "INFO:tensorflow:Resolved input artifacts are: {'examples': [Artifact(type_name: ExamplesPath, uri: /tmp/tfx-interactive-2019-09-13T16_46_14.222336-5zedre0a/Transform/transformed_examples/5/train/, split: train, id: 9), Artifact(type_name: ExamplesPath, uri: /tmp/tfx-interactive-2019-09-13T16_46_14.222336-5zedre0a/Transform/transformed_examples/5/eval/, split: eval, id: 10)], 'transform_output': [Artifact(type_name: TransformPath, uri: /tmp/tfx-interactive-2019-09-13T16_46_14.222336-5zedre0a/Transform/transform_output/5/, split: , id: 8)], 'schema': [Artifact(type_name: SchemaPath, uri: /tmp/tfx-interactive-2019-09-13T16_46_14.222336-5zedre0a/SchemaGen/output/3/, split: , id: 6)]}\n"
     ]
    },
    {
     "name": "stderr",
     "output_type": "stream",
     "text": [
      "INFO:tensorflow:Resolved input artifacts are: {'examples': [Artifact(type_name: ExamplesPath, uri: /tmp/tfx-interactive-2019-09-13T16_46_14.222336-5zedre0a/Transform/transformed_examples/5/train/, split: train, id: 9), Artifact(type_name: ExamplesPath, uri: /tmp/tfx-interactive-2019-09-13T16_46_14.222336-5zedre0a/Transform/transformed_examples/5/eval/, split: eval, id: 10)], 'transform_output': [Artifact(type_name: TransformPath, uri: /tmp/tfx-interactive-2019-09-13T16_46_14.222336-5zedre0a/Transform/transform_output/5/, split: , id: 8)], 'schema': [Artifact(type_name: SchemaPath, uri: /tmp/tfx-interactive-2019-09-13T16_46_14.222336-5zedre0a/SchemaGen/output/3/, split: , id: 6)]}\n"
     ]
    },
    {
     "name": "stdout",
     "output_type": "stream",
     "text": [
      "INFO:tensorflow:Prepared EXECUTION:\n",
      " type_id: 13\n",
      "properties {\n",
      "  key: \"checksum_md5\"\n",
      "  value {\n",
      "    string_value: \"4e52cfff5d4b939df7b60870c459c181\"\n",
      "  }\n",
      "}\n",
      "properties {\n",
      "  key: \"component_id\"\n",
      "  value {\n",
      "    string_value: \"Trainer\"\n",
      "  }\n",
      "}\n",
      "properties {\n",
      "  key: \"custom_config\"\n",
      "  value {\n",
      "    string_value: \"None\"\n",
      "  }\n",
      "}\n",
      "properties {\n",
      "  key: \"eval_args\"\n",
      "  value {\n",
      "    string_value: \"{\\n  \\\"numSteps\\\": 125\\n}\"\n",
      "  }\n",
      "}\n",
      "properties {\n",
      "  key: \"module_file\"\n",
      "  value {\n",
      "    string_value: \"/usr/local/google/home/joeyounglee/git-repos/tfx_oss.git/tfx/examples/chicago_taxi_pipeline/taxi_pipeline/local/lib/python3.6/site-packages/tfx/examples/chicago_taxi_pipeline/taxi_utils.py\"\n",
      "  }\n",
      "}\n",
      "properties {\n",
      "  key: \"pipeline_name\"\n",
      "  value {\n",
      "    string_value: \"interactive-2019-09-13T16_46_14.222336\"\n",
      "  }\n",
      "}\n",
      "properties {\n",
      "  key: \"pipeline_root\"\n",
      "  value {\n",
      "    string_value: \"/tmp/tfx-interactive-2019-09-13T16_46_14.222336-5zedre0a\"\n",
      "  }\n",
      "}\n",
      "properties {\n",
      "  key: \"run_id\"\n",
      "  value {\n",
      "    string_value: \"2019-09-13T16:46:54.357939\"\n",
      "  }\n",
      "}\n",
      "properties {\n",
      "  key: \"state\"\n",
      "  value {\n",
      "    string_value: \"new\"\n",
      "  }\n",
      "}\n",
      "properties {\n",
      "  key: \"train_args\"\n",
      "  value {\n",
      "    string_value: \"{\\n  \\\"numSteps\\\": 250\\n}\"\n",
      "  }\n",
      "}\n",
      "properties {\n",
      "  key: \"trainer_fn\"\n",
      "  value {\n",
      "    string_value: \"None\"\n",
      "  }\n",
      "}\n",
      "\n"
     ]
    },
    {
     "name": "stderr",
     "output_type": "stream",
     "text": [
      "INFO:tensorflow:Prepared EXECUTION:\n",
      " type_id: 13\n",
      "properties {\n",
      "  key: \"checksum_md5\"\n",
      "  value {\n",
      "    string_value: \"4e52cfff5d4b939df7b60870c459c181\"\n",
      "  }\n",
      "}\n",
      "properties {\n",
      "  key: \"component_id\"\n",
      "  value {\n",
      "    string_value: \"Trainer\"\n",
      "  }\n",
      "}\n",
      "properties {\n",
      "  key: \"custom_config\"\n",
      "  value {\n",
      "    string_value: \"None\"\n",
      "  }\n",
      "}\n",
      "properties {\n",
      "  key: \"eval_args\"\n",
      "  value {\n",
      "    string_value: \"{\\n  \\\"numSteps\\\": 125\\n}\"\n",
      "  }\n",
      "}\n",
      "properties {\n",
      "  key: \"module_file\"\n",
      "  value {\n",
      "    string_value: \"/usr/local/google/home/joeyounglee/git-repos/tfx_oss.git/tfx/examples/chicago_taxi_pipeline/taxi_pipeline/local/lib/python3.6/site-packages/tfx/examples/chicago_taxi_pipeline/taxi_utils.py\"\n",
      "  }\n",
      "}\n",
      "properties {\n",
      "  key: \"pipeline_name\"\n",
      "  value {\n",
      "    string_value: \"interactive-2019-09-13T16_46_14.222336\"\n",
      "  }\n",
      "}\n",
      "properties {\n",
      "  key: \"pipeline_root\"\n",
      "  value {\n",
      "    string_value: \"/tmp/tfx-interactive-2019-09-13T16_46_14.222336-5zedre0a\"\n",
      "  }\n",
      "}\n",
      "properties {\n",
      "  key: \"run_id\"\n",
      "  value {\n",
      "    string_value: \"2019-09-13T16:46:54.357939\"\n",
      "  }\n",
      "}\n",
      "properties {\n",
      "  key: \"state\"\n",
      "  value {\n",
      "    string_value: \"new\"\n",
      "  }\n",
      "}\n",
      "properties {\n",
      "  key: \"train_args\"\n",
      "  value {\n",
      "    string_value: \"{\\n  \\\"numSteps\\\": 250\\n}\"\n",
      "  }\n",
      "}\n",
      "properties {\n",
      "  key: \"trainer_fn\"\n",
      "  value {\n",
      "    string_value: \"None\"\n",
      "  }\n",
      "}\n",
      "\n"
     ]
    },
    {
     "name": "stdout",
     "output_type": "stream",
     "text": [
      "INFO:tensorflow:Execution id of the upcoming component execution is 6\n"
     ]
    },
    {
     "name": "stderr",
     "output_type": "stream",
     "text": [
      "INFO:tensorflow:Execution id of the upcoming component execution is 6\n"
     ]
    },
    {
     "name": "stdout",
     "output_type": "stream",
     "text": [
      "INFO:tensorflow:Checking previous run for execution_type_name tfx.components.trainer.component.Trainer and input_artifacts {'examples': [Artifact(type_name: ExamplesPath, uri: /tmp/tfx-interactive-2019-09-13T16_46_14.222336-5zedre0a/Transform/transformed_examples/5/train/, split: train, id: 9), Artifact(type_name: ExamplesPath, uri: /tmp/tfx-interactive-2019-09-13T16_46_14.222336-5zedre0a/Transform/transformed_examples/5/eval/, split: eval, id: 10)], 'transform_output': [Artifact(type_name: TransformPath, uri: /tmp/tfx-interactive-2019-09-13T16_46_14.222336-5zedre0a/Transform/transform_output/5/, split: , id: 8)], 'schema': [Artifact(type_name: SchemaPath, uri: /tmp/tfx-interactive-2019-09-13T16_46_14.222336-5zedre0a/SchemaGen/output/3/, split: , id: 6)]}\n"
     ]
    },
    {
     "name": "stderr",
     "output_type": "stream",
     "text": [
      "INFO:tensorflow:Checking previous run for execution_type_name tfx.components.trainer.component.Trainer and input_artifacts {'examples': [Artifact(type_name: ExamplesPath, uri: /tmp/tfx-interactive-2019-09-13T16_46_14.222336-5zedre0a/Transform/transformed_examples/5/train/, split: train, id: 9), Artifact(type_name: ExamplesPath, uri: /tmp/tfx-interactive-2019-09-13T16_46_14.222336-5zedre0a/Transform/transformed_examples/5/eval/, split: eval, id: 10)], 'transform_output': [Artifact(type_name: TransformPath, uri: /tmp/tfx-interactive-2019-09-13T16_46_14.222336-5zedre0a/Transform/transform_output/5/, split: , id: 8)], 'schema': [Artifact(type_name: SchemaPath, uri: /tmp/tfx-interactive-2019-09-13T16_46_14.222336-5zedre0a/SchemaGen/output/3/, split: , id: 6)]}\n"
     ]
    },
    {
     "name": "stdout",
     "output_type": "stream",
     "text": [
      "INFO:tensorflow:Prepared EXECUTION:\n",
      " type_id: 13\n",
      "properties {\n",
      "  key: \"checksum_md5\"\n",
      "  value {\n",
      "    string_value: \"4e52cfff5d4b939df7b60870c459c181\"\n",
      "  }\n",
      "}\n",
      "properties {\n",
      "  key: \"component_id\"\n",
      "  value {\n",
      "    string_value: \"Trainer\"\n",
      "  }\n",
      "}\n",
      "properties {\n",
      "  key: \"custom_config\"\n",
      "  value {\n",
      "    string_value: \"None\"\n",
      "  }\n",
      "}\n",
      "properties {\n",
      "  key: \"eval_args\"\n",
      "  value {\n",
      "    string_value: \"{\\n  \\\"numSteps\\\": 125\\n}\"\n",
      "  }\n",
      "}\n",
      "properties {\n",
      "  key: \"module_file\"\n",
      "  value {\n",
      "    string_value: \"/usr/local/google/home/joeyounglee/git-repos/tfx_oss.git/tfx/examples/chicago_taxi_pipeline/taxi_pipeline/local/lib/python3.6/site-packages/tfx/examples/chicago_taxi_pipeline/taxi_utils.py\"\n",
      "  }\n",
      "}\n",
      "properties {\n",
      "  key: \"pipeline_name\"\n",
      "  value {\n",
      "    string_value: \"interactive-2019-09-13T16_46_14.222336\"\n",
      "  }\n",
      "}\n",
      "properties {\n",
      "  key: \"pipeline_root\"\n",
      "  value {\n",
      "    string_value: \"/tmp/tfx-interactive-2019-09-13T16_46_14.222336-5zedre0a\"\n",
      "  }\n",
      "}\n",
      "properties {\n",
      "  key: \"run_id\"\n",
      "  value {\n",
      "    string_value: \"2019-09-13T16:46:54.357939\"\n",
      "  }\n",
      "}\n",
      "properties {\n",
      "  key: \"state\"\n",
      "  value {\n",
      "    string_value: \"complete\"\n",
      "  }\n",
      "}\n",
      "properties {\n",
      "  key: \"train_args\"\n",
      "  value {\n",
      "    string_value: \"{\\n  \\\"numSteps\\\": 250\\n}\"\n",
      "  }\n",
      "}\n",
      "properties {\n",
      "  key: \"trainer_fn\"\n",
      "  value {\n",
      "    string_value: \"None\"\n",
      "  }\n",
      "}\n",
      "\n"
     ]
    },
    {
     "name": "stderr",
     "output_type": "stream",
     "text": [
      "INFO:tensorflow:Prepared EXECUTION:\n",
      " type_id: 13\n",
      "properties {\n",
      "  key: \"checksum_md5\"\n",
      "  value {\n",
      "    string_value: \"4e52cfff5d4b939df7b60870c459c181\"\n",
      "  }\n",
      "}\n",
      "properties {\n",
      "  key: \"component_id\"\n",
      "  value {\n",
      "    string_value: \"Trainer\"\n",
      "  }\n",
      "}\n",
      "properties {\n",
      "  key: \"custom_config\"\n",
      "  value {\n",
      "    string_value: \"None\"\n",
      "  }\n",
      "}\n",
      "properties {\n",
      "  key: \"eval_args\"\n",
      "  value {\n",
      "    string_value: \"{\\n  \\\"numSteps\\\": 125\\n}\"\n",
      "  }\n",
      "}\n",
      "properties {\n",
      "  key: \"module_file\"\n",
      "  value {\n",
      "    string_value: \"/usr/local/google/home/joeyounglee/git-repos/tfx_oss.git/tfx/examples/chicago_taxi_pipeline/taxi_pipeline/local/lib/python3.6/site-packages/tfx/examples/chicago_taxi_pipeline/taxi_utils.py\"\n",
      "  }\n",
      "}\n",
      "properties {\n",
      "  key: \"pipeline_name\"\n",
      "  value {\n",
      "    string_value: \"interactive-2019-09-13T16_46_14.222336\"\n",
      "  }\n",
      "}\n",
      "properties {\n",
      "  key: \"pipeline_root\"\n",
      "  value {\n",
      "    string_value: \"/tmp/tfx-interactive-2019-09-13T16_46_14.222336-5zedre0a\"\n",
      "  }\n",
      "}\n",
      "properties {\n",
      "  key: \"run_id\"\n",
      "  value {\n",
      "    string_value: \"2019-09-13T16:46:54.357939\"\n",
      "  }\n",
      "}\n",
      "properties {\n",
      "  key: \"state\"\n",
      "  value {\n",
      "    string_value: \"complete\"\n",
      "  }\n",
      "}\n",
      "properties {\n",
      "  key: \"train_args\"\n",
      "  value {\n",
      "    string_value: \"{\\n  \\\"numSteps\\\": 250\\n}\"\n",
      "  }\n",
      "}\n",
      "properties {\n",
      "  key: \"trainer_fn\"\n",
      "  value {\n",
      "    string_value: \"None\"\n",
      "  }\n",
      "}\n",
      "\n"
     ]
    },
    {
     "name": "stdout",
     "output_type": "stream",
     "text": [
      "INFO:tensorflow:No execution matching type id and input artifacts found\n"
     ]
    },
    {
     "name": "stderr",
     "output_type": "stream",
     "text": [
      "INFO:tensorflow:No execution matching type id and input artifacts found\n"
     ]
    },
    {
     "name": "stdout",
     "output_type": "stream",
     "text": [
      "INFO:tensorflow:Cached results not found, move on to new execution\n"
     ]
    },
    {
     "name": "stderr",
     "output_type": "stream",
     "text": [
      "INFO:tensorflow:Cached results not found, move on to new execution\n"
     ]
    },
    {
     "name": "stdout",
     "output_type": "stream",
     "text": [
      "INFO:tensorflow:Creating output artifact uri /tmp/tfx-interactive-2019-09-13T16_46_14.222336-5zedre0a/Trainer/output/6/ as directory\n"
     ]
    },
    {
     "name": "stderr",
     "output_type": "stream",
     "text": [
      "INFO:tensorflow:Creating output artifact uri /tmp/tfx-interactive-2019-09-13T16_46_14.222336-5zedre0a/Trainer/output/6/ as directory\n"
     ]
    },
    {
     "name": "stdout",
     "output_type": "stream",
     "text": [
      "INFO:tensorflow:Output artifacts skeleton for the upcoming execution are: {'output': [Artifact(type_name: ModelExportPath, uri: /tmp/tfx-interactive-2019-09-13T16_46_14.222336-5zedre0a/Trainer/output/6/, split: , id: 0)]}\n"
     ]
    },
    {
     "name": "stderr",
     "output_type": "stream",
     "text": [
      "INFO:tensorflow:Output artifacts skeleton for the upcoming execution are: {'output': [Artifact(type_name: ModelExportPath, uri: /tmp/tfx-interactive-2019-09-13T16_46_14.222336-5zedre0a/Trainer/output/6/, split: , id: 0)]}\n"
     ]
    },
    {
     "name": "stdout",
     "output_type": "stream",
     "text": [
      "INFO:tensorflow:Execution properties for the upcoming execution are: {'train_args': '{\\n  \"numSteps\": 250\\n}', 'eval_args': '{\\n  \"numSteps\": 125\\n}', 'module_file': '/usr/local/google/home/joeyounglee/git-repos/tfx_oss.git/tfx/examples/chicago_taxi_pipeline/taxi_pipeline/local/lib/python3.6/site-packages/tfx/examples/chicago_taxi_pipeline/taxi_utils.py', 'trainer_fn': None, 'custom_config': None}\n"
     ]
    },
    {
     "name": "stderr",
     "output_type": "stream",
     "text": [
      "INFO:tensorflow:Execution properties for the upcoming execution are: {'train_args': '{\\n  \"numSteps\": 250\\n}', 'eval_args': '{\\n  \"numSteps\": 125\\n}', 'module_file': '/usr/local/google/home/joeyounglee/git-repos/tfx_oss.git/tfx/examples/chicago_taxi_pipeline/taxi_pipeline/local/lib/python3.6/site-packages/tfx/examples/chicago_taxi_pipeline/taxi_utils.py', 'trainer_fn': None, 'custom_config': None}\n"
     ]
    },
    {
     "name": "stdout",
     "output_type": "stream",
     "text": [
      "INFO:tensorflow:Run executor for Trainer\n"
     ]
    },
    {
     "name": "stderr",
     "output_type": "stream",
     "text": [
      "INFO:tensorflow:Run executor for Trainer\n"
     ]
    },
    {
     "name": "stdout",
     "output_type": "stream",
     "text": [
      "INFO:tensorflow:Starting Executor execution.\n"
     ]
    },
    {
     "name": "stderr",
     "output_type": "stream",
     "text": [
      "INFO:tensorflow:Starting Executor execution.\n"
     ]
    },
    {
     "name": "stdout",
     "output_type": "stream",
     "text": [
      "INFO:tensorflow:Inputs for Executor is: {\"examples\": [{\"artifact\": {\"id\": \"9\", \"typeId\": \"4\", \"uri\": \"/tmp/tfx-interactive-2019-09-13T16_46_14.222336-5zedre0a/Transform/transformed_examples/5/train/\", \"properties\": {\"name\": {\"stringValue\": \"transformed_examples\"}, \"type_name\": {\"stringValue\": \"ExamplesPath\"}, \"state\": {\"stringValue\": \"published\"}, \"span\": {}, \"pipeline_name\": {\"stringValue\": \"interactive-2019-09-13T16_46_14.222336\"}, \"producer_component\": {\"stringValue\": \"Transform\"}, \"split\": {\"stringValue\": \"train\"}}}, \"artifact_type\": {\"id\": \"4\", \"name\": \"ExamplesPath\", \"properties\": {\"name\": \"STRING\", \"type_name\": \"STRING\", \"state\": \"STRING\", \"producer_component\": \"STRING\", \"span\": \"INT\", \"pipeline_name\": \"STRING\", \"split\": \"STRING\"}}}, {\"artifact\": {\"id\": \"10\", \"typeId\": \"4\", \"uri\": \"/tmp/tfx-interactive-2019-09-13T16_46_14.222336-5zedre0a/Transform/transformed_examples/5/eval/\", \"properties\": {\"name\": {\"stringValue\": \"transformed_examples\"}, \"type_name\": {\"stringValue\": \"ExamplesPath\"}, \"state\": {\"stringValue\": \"published\"}, \"span\": {}, \"pipeline_name\": {\"stringValue\": \"interactive-2019-09-13T16_46_14.222336\"}, \"producer_component\": {\"stringValue\": \"Transform\"}, \"split\": {\"stringValue\": \"eval\"}}}, \"artifact_type\": {\"id\": \"4\", \"name\": \"ExamplesPath\", \"properties\": {\"split\": \"STRING\", \"name\": \"STRING\", \"type_name\": \"STRING\", \"state\": \"STRING\", \"producer_component\": \"STRING\", \"span\": \"INT\", \"pipeline_name\": \"STRING\"}}}], \"transform_output\": [{\"artifact\": {\"id\": \"8\", \"typeId\": \"12\", \"uri\": \"/tmp/tfx-interactive-2019-09-13T16_46_14.222336-5zedre0a/Transform/transform_output/5/\", \"properties\": {\"split\": {\"stringValue\": \"\"}, \"name\": {\"stringValue\": \"transform_output\"}, \"type_name\": {\"stringValue\": \"TransformPath\"}, \"state\": {\"stringValue\": \"published\"}, \"span\": {}, \"pipeline_name\": {\"stringValue\": \"interactive-2019-09-13T16_46_14.222336\"}, \"producer_component\": {\"stringValue\": \"Transform\"}}}, \"artifact_type\": {\"id\": \"12\", \"name\": \"TransformPath\", \"properties\": {\"split\": \"STRING\", \"name\": \"STRING\", \"type_name\": \"STRING\", \"state\": \"STRING\", \"producer_component\": \"STRING\", \"span\": \"INT\", \"pipeline_name\": \"STRING\"}}}], \"schema\": [{\"artifact\": {\"id\": \"6\", \"typeId\": \"8\", \"uri\": \"/tmp/tfx-interactive-2019-09-13T16_46_14.222336-5zedre0a/SchemaGen/output/3/\", \"properties\": {\"split\": {\"stringValue\": \"\"}, \"name\": {\"stringValue\": \"output\"}, \"type_name\": {\"stringValue\": \"SchemaPath\"}, \"state\": {\"stringValue\": \"published\"}, \"span\": {}, \"pipeline_name\": {\"stringValue\": \"interactive-2019-09-13T16_46_14.222336\"}, \"producer_component\": {\"stringValue\": \"SchemaGen\"}}}, \"artifact_type\": {\"id\": \"8\", \"name\": \"SchemaPath\", \"properties\": {\"name\": \"STRING\", \"type_name\": \"STRING\", \"state\": \"STRING\", \"producer_component\": \"STRING\", \"span\": \"INT\", \"pipeline_name\": \"STRING\", \"split\": \"STRING\"}}}]}\n"
     ]
    },
    {
     "name": "stderr",
     "output_type": "stream",
     "text": [
      "INFO:tensorflow:Inputs for Executor is: {\"examples\": [{\"artifact\": {\"id\": \"9\", \"typeId\": \"4\", \"uri\": \"/tmp/tfx-interactive-2019-09-13T16_46_14.222336-5zedre0a/Transform/transformed_examples/5/train/\", \"properties\": {\"name\": {\"stringValue\": \"transformed_examples\"}, \"type_name\": {\"stringValue\": \"ExamplesPath\"}, \"state\": {\"stringValue\": \"published\"}, \"span\": {}, \"pipeline_name\": {\"stringValue\": \"interactive-2019-09-13T16_46_14.222336\"}, \"producer_component\": {\"stringValue\": \"Transform\"}, \"split\": {\"stringValue\": \"train\"}}}, \"artifact_type\": {\"id\": \"4\", \"name\": \"ExamplesPath\", \"properties\": {\"name\": \"STRING\", \"type_name\": \"STRING\", \"state\": \"STRING\", \"producer_component\": \"STRING\", \"span\": \"INT\", \"pipeline_name\": \"STRING\", \"split\": \"STRING\"}}}, {\"artifact\": {\"id\": \"10\", \"typeId\": \"4\", \"uri\": \"/tmp/tfx-interactive-2019-09-13T16_46_14.222336-5zedre0a/Transform/transformed_examples/5/eval/\", \"properties\": {\"name\": {\"stringValue\": \"transformed_examples\"}, \"type_name\": {\"stringValue\": \"ExamplesPath\"}, \"state\": {\"stringValue\": \"published\"}, \"span\": {}, \"pipeline_name\": {\"stringValue\": \"interactive-2019-09-13T16_46_14.222336\"}, \"producer_component\": {\"stringValue\": \"Transform\"}, \"split\": {\"stringValue\": \"eval\"}}}, \"artifact_type\": {\"id\": \"4\", \"name\": \"ExamplesPath\", \"properties\": {\"split\": \"STRING\", \"name\": \"STRING\", \"type_name\": \"STRING\", \"state\": \"STRING\", \"producer_component\": \"STRING\", \"span\": \"INT\", \"pipeline_name\": \"STRING\"}}}], \"transform_output\": [{\"artifact\": {\"id\": \"8\", \"typeId\": \"12\", \"uri\": \"/tmp/tfx-interactive-2019-09-13T16_46_14.222336-5zedre0a/Transform/transform_output/5/\", \"properties\": {\"split\": {\"stringValue\": \"\"}, \"name\": {\"stringValue\": \"transform_output\"}, \"type_name\": {\"stringValue\": \"TransformPath\"}, \"state\": {\"stringValue\": \"published\"}, \"span\": {}, \"pipeline_name\": {\"stringValue\": \"interactive-2019-09-13T16_46_14.222336\"}, \"producer_component\": {\"stringValue\": \"Transform\"}}}, \"artifact_type\": {\"id\": \"12\", \"name\": \"TransformPath\", \"properties\": {\"split\": \"STRING\", \"name\": \"STRING\", \"type_name\": \"STRING\", \"state\": \"STRING\", \"producer_component\": \"STRING\", \"span\": \"INT\", \"pipeline_name\": \"STRING\"}}}], \"schema\": [{\"artifact\": {\"id\": \"6\", \"typeId\": \"8\", \"uri\": \"/tmp/tfx-interactive-2019-09-13T16_46_14.222336-5zedre0a/SchemaGen/output/3/\", \"properties\": {\"split\": {\"stringValue\": \"\"}, \"name\": {\"stringValue\": \"output\"}, \"type_name\": {\"stringValue\": \"SchemaPath\"}, \"state\": {\"stringValue\": \"published\"}, \"span\": {}, \"pipeline_name\": {\"stringValue\": \"interactive-2019-09-13T16_46_14.222336\"}, \"producer_component\": {\"stringValue\": \"SchemaGen\"}}}, \"artifact_type\": {\"id\": \"8\", \"name\": \"SchemaPath\", \"properties\": {\"name\": \"STRING\", \"type_name\": \"STRING\", \"state\": \"STRING\", \"producer_component\": \"STRING\", \"span\": \"INT\", \"pipeline_name\": \"STRING\", \"split\": \"STRING\"}}}]}\n"
     ]
    },
    {
     "name": "stdout",
     "output_type": "stream",
     "text": [
      "INFO:tensorflow:Outputs for Executor is: {\"output\": [{\"artifact\": {\"uri\": \"/tmp/tfx-interactive-2019-09-13T16_46_14.222336-5zedre0a/Trainer/output/6/\", \"properties\": {\"type_name\": {\"stringValue\": \"ModelExportPath\"}, \"split\": {\"stringValue\": \"\"}, \"producer_component\": {\"stringValue\": \"Trainer\"}, \"pipeline_name\": {\"stringValue\": \"interactive-2019-09-13T16_46_14.222336\"}, \"name\": {\"stringValue\": \"output\"}}}, \"artifact_type\": {\"name\": \"ModelExportPath\", \"properties\": {\"producer_component\": \"STRING\", \"span\": \"INT\", \"pipeline_name\": \"STRING\", \"split\": \"STRING\", \"name\": \"STRING\", \"type_name\": \"STRING\", \"state\": \"STRING\"}}}]}\n"
     ]
    },
    {
     "name": "stderr",
     "output_type": "stream",
     "text": [
      "INFO:tensorflow:Outputs for Executor is: {\"output\": [{\"artifact\": {\"uri\": \"/tmp/tfx-interactive-2019-09-13T16_46_14.222336-5zedre0a/Trainer/output/6/\", \"properties\": {\"type_name\": {\"stringValue\": \"ModelExportPath\"}, \"split\": {\"stringValue\": \"\"}, \"producer_component\": {\"stringValue\": \"Trainer\"}, \"pipeline_name\": {\"stringValue\": \"interactive-2019-09-13T16_46_14.222336\"}, \"name\": {\"stringValue\": \"output\"}}}, \"artifact_type\": {\"name\": \"ModelExportPath\", \"properties\": {\"producer_component\": \"STRING\", \"span\": \"INT\", \"pipeline_name\": \"STRING\", \"split\": \"STRING\", \"name\": \"STRING\", \"type_name\": \"STRING\", \"state\": \"STRING\"}}}]}\n"
     ]
    },
    {
     "name": "stdout",
     "output_type": "stream",
     "text": [
      "INFO:tensorflow:Execution properties for Executor is: {\"train_args\": \"{\\n  \\\"numSteps\\\": 250\\n}\", \"eval_args\": \"{\\n  \\\"numSteps\\\": 125\\n}\", \"module_file\": \"/usr/local/google/home/joeyounglee/git-repos/tfx_oss.git/tfx/examples/chicago_taxi_pipeline/taxi_pipeline/local/lib/python3.6/site-packages/tfx/examples/chicago_taxi_pipeline/taxi_utils.py\", \"trainer_fn\": null, \"custom_config\": null}\n"
     ]
    },
    {
     "name": "stderr",
     "output_type": "stream",
     "text": [
      "INFO:tensorflow:Execution properties for Executor is: {\"train_args\": \"{\\n  \\\"numSteps\\\": 250\\n}\", \"eval_args\": \"{\\n  \\\"numSteps\\\": 125\\n}\", \"module_file\": \"/usr/local/google/home/joeyounglee/git-repos/tfx_oss.git/tfx/examples/chicago_taxi_pipeline/taxi_pipeline/local/lib/python3.6/site-packages/tfx/examples/chicago_taxi_pipeline/taxi_utils.py\", \"trainer_fn\": null, \"custom_config\": null}\n"
     ]
    },
    {
     "name": "stdout",
     "output_type": "stream",
     "text": [
      "INFO:tensorflow:Using config: {'_model_dir': '/tmp/tfx-interactive-2019-09-13T16_46_14.222336-5zedre0a/Trainer/output/6/serving_model_dir', '_tf_random_seed': None, '_save_summary_steps': 100, '_save_checkpoints_steps': 999, '_save_checkpoints_secs': None, '_session_config': allow_soft_placement: true\n",
      "graph_options {\n",
      "  rewrite_options {\n",
      "    meta_optimizer_iterations: ONE\n",
      "  }\n",
      "}\n",
      ", '_keep_checkpoint_max': 1, '_keep_checkpoint_every_n_hours': 10000, '_log_step_count_steps': 100, '_train_distribute': None, '_device_fn': None, '_protocol': None, '_eval_distribute': None, '_experimental_distribute': None, '_experimental_max_worker_delay_secs': None, '_service': None, '_cluster_spec': <tensorflow.python.training.server_lib.ClusterSpec object at 0x7fada64a1208>, '_task_type': 'worker', '_task_id': 0, '_global_id_in_cluster': 0, '_master': '', '_evaluation_master': '', '_is_chief': True, '_num_ps_replicas': 0, '_num_worker_replicas': 1}\n"
     ]
    },
    {
     "name": "stderr",
     "output_type": "stream",
     "text": [
      "INFO:tensorflow:Using config: {'_model_dir': '/tmp/tfx-interactive-2019-09-13T16_46_14.222336-5zedre0a/Trainer/output/6/serving_model_dir', '_tf_random_seed': None, '_save_summary_steps': 100, '_save_checkpoints_steps': 999, '_save_checkpoints_secs': None, '_session_config': allow_soft_placement: true\n",
      "graph_options {\n",
      "  rewrite_options {\n",
      "    meta_optimizer_iterations: ONE\n",
      "  }\n",
      "}\n",
      ", '_keep_checkpoint_max': 1, '_keep_checkpoint_every_n_hours': 10000, '_log_step_count_steps': 100, '_train_distribute': None, '_device_fn': None, '_protocol': None, '_eval_distribute': None, '_experimental_distribute': None, '_experimental_max_worker_delay_secs': None, '_service': None, '_cluster_spec': <tensorflow.python.training.server_lib.ClusterSpec object at 0x7fada64a1208>, '_task_type': 'worker', '_task_id': 0, '_global_id_in_cluster': 0, '_master': '', '_evaluation_master': '', '_is_chief': True, '_num_ps_replicas': 0, '_num_worker_replicas': 1}\n"
     ]
    },
    {
     "name": "stdout",
     "output_type": "stream",
     "text": [
      "INFO:tensorflow:Training model.\n"
     ]
    },
    {
     "name": "stderr",
     "output_type": "stream",
     "text": [
      "INFO:tensorflow:Training model.\n"
     ]
    },
    {
     "name": "stdout",
     "output_type": "stream",
     "text": [
      "INFO:tensorflow:Not using Distribute Coordinator.\n"
     ]
    },
    {
     "name": "stderr",
     "output_type": "stream",
     "text": [
      "INFO:tensorflow:Not using Distribute Coordinator.\n"
     ]
    },
    {
     "name": "stdout",
     "output_type": "stream",
     "text": [
      "INFO:tensorflow:Running training and evaluation locally (non-distributed).\n"
     ]
    },
    {
     "name": "stderr",
     "output_type": "stream",
     "text": [
      "INFO:tensorflow:Running training and evaluation locally (non-distributed).\n"
     ]
    },
    {
     "name": "stdout",
     "output_type": "stream",
     "text": [
      "INFO:tensorflow:Start train and evaluate loop. The evaluate will happen after every checkpoint. Checkpoint frequency is determined based on RunConfig arguments: save_checkpoints_steps 999 or save_checkpoints_secs None.\n"
     ]
    },
    {
     "name": "stderr",
     "output_type": "stream",
     "text": [
      "INFO:tensorflow:Start train and evaluate loop. The evaluate will happen after every checkpoint. Checkpoint frequency is determined based on RunConfig arguments: save_checkpoints_steps 999 or save_checkpoints_secs None.\n"
     ]
    },
    {
     "name": "stdout",
     "output_type": "stream",
     "text": [
      "WARNING:tensorflow:From /usr/local/google/home/joeyounglee/git-repos/tfx_oss.git/tfx/examples/chicago_taxi_pipeline/taxi_pipeline/local/lib/python3.6/site-packages/tensorflow/python/training/training_util.py:236: Variable.initialized_value (from tensorflow.python.ops.variables) is deprecated and will be removed in a future version.\n",
      "Instructions for updating:\n",
      "Use Variable.read_value. Variables in 2.X are initialized automatically both in eager and graph (inside tf.defun) contexts.\n"
     ]
    },
    {
     "name": "stderr",
     "output_type": "stream",
     "text": [
      "WARNING:tensorflow:From /usr/local/google/home/joeyounglee/git-repos/tfx_oss.git/tfx/examples/chicago_taxi_pipeline/taxi_pipeline/local/lib/python3.6/site-packages/tensorflow/python/training/training_util.py:236: Variable.initialized_value (from tensorflow.python.ops.variables) is deprecated and will be removed in a future version.\n",
      "Instructions for updating:\n",
      "Use Variable.read_value. Variables in 2.X are initialized automatically both in eager and graph (inside tf.defun) contexts.\n"
     ]
    },
    {
     "name": "stdout",
     "output_type": "stream",
     "text": [
      "WARNING:tensorflow:From /usr/local/google/home/joeyounglee/git-repos/tfx_oss.git/tfx/examples/chicago_taxi_pipeline/taxi_pipeline/local/lib/python3.6/site-packages/tensorflow/python/data/experimental/ops/readers.py:835: parallel_interleave (from tensorflow.python.data.experimental.ops.interleave_ops) is deprecated and will be removed in a future version.\n",
      "Instructions for updating:\n",
      "Use `tf.data.Dataset.interleave(map_func, cycle_length, block_length, num_parallel_calls=tf.data.experimental.AUTOTUNE)` instead. If sloppy execution is desired, use `tf.data.Options.experimental_determinstic`.\n"
     ]
    },
    {
     "name": "stderr",
     "output_type": "stream",
     "text": [
      "WARNING:tensorflow:From /usr/local/google/home/joeyounglee/git-repos/tfx_oss.git/tfx/examples/chicago_taxi_pipeline/taxi_pipeline/local/lib/python3.6/site-packages/tensorflow/python/data/experimental/ops/readers.py:835: parallel_interleave (from tensorflow.python.data.experimental.ops.interleave_ops) is deprecated and will be removed in a future version.\n",
      "Instructions for updating:\n",
      "Use `tf.data.Dataset.interleave(map_func, cycle_length, block_length, num_parallel_calls=tf.data.experimental.AUTOTUNE)` instead. If sloppy execution is desired, use `tf.data.Options.experimental_determinstic`.\n"
     ]
    },
    {
     "name": "stdout",
     "output_type": "stream",
     "text": [
      "WARNING:tensorflow:From /usr/local/google/home/joeyounglee/git-repos/tfx_oss.git/tfx/examples/chicago_taxi_pipeline/taxi_pipeline/local/lib/python3.6/site-packages/tensorflow/python/data/experimental/ops/readers.py:212: shuffle_and_repeat (from tensorflow.python.data.experimental.ops.shuffle_ops) is deprecated and will be removed in a future version.\n",
      "Instructions for updating:\n",
      "Use `tf.data.Dataset.shuffle(buffer_size, seed)` followed by `tf.data.Dataset.repeat(count)`. Static tf.data optimizations will take care of using the fused implementation.\n"
     ]
    },
    {
     "name": "stderr",
     "output_type": "stream",
     "text": [
      "WARNING:tensorflow:From /usr/local/google/home/joeyounglee/git-repos/tfx_oss.git/tfx/examples/chicago_taxi_pipeline/taxi_pipeline/local/lib/python3.6/site-packages/tensorflow/python/data/experimental/ops/readers.py:212: shuffle_and_repeat (from tensorflow.python.data.experimental.ops.shuffle_ops) is deprecated and will be removed in a future version.\n",
      "Instructions for updating:\n",
      "Use `tf.data.Dataset.shuffle(buffer_size, seed)` followed by `tf.data.Dataset.repeat(count)`. Static tf.data optimizations will take care of using the fused implementation.\n"
     ]
    },
    {
     "name": "stdout",
     "output_type": "stream",
     "text": [
      "WARNING:tensorflow:From /usr/local/google/home/joeyounglee/git-repos/tfx_oss.git/tfx/examples/chicago_taxi_pipeline/taxi_pipeline/local/lib/python3.6/site-packages/tfx/examples/chicago_taxi_pipeline/taxi_utils.py:279: DatasetV1.make_one_shot_iterator (from tensorflow.python.data.ops.dataset_ops) is deprecated and will be removed in a future version.\n",
      "Instructions for updating:\n",
      "Use `for ... in dataset:` to iterate over a dataset. If using `tf.estimator`, return the `Dataset` object directly from your input function. As a last resort, you can use `tf.compat.v1.data.make_one_shot_iterator(dataset)`.\n"
     ]
    },
    {
     "name": "stderr",
     "output_type": "stream",
     "text": [
      "WARNING:tensorflow:From /usr/local/google/home/joeyounglee/git-repos/tfx_oss.git/tfx/examples/chicago_taxi_pipeline/taxi_pipeline/local/lib/python3.6/site-packages/tfx/examples/chicago_taxi_pipeline/taxi_utils.py:279: DatasetV1.make_one_shot_iterator (from tensorflow.python.data.ops.dataset_ops) is deprecated and will be removed in a future version.\n",
      "Instructions for updating:\n",
      "Use `for ... in dataset:` to iterate over a dataset. If using `tf.estimator`, return the `Dataset` object directly from your input function. As a last resort, you can use `tf.compat.v1.data.make_one_shot_iterator(dataset)`.\n"
     ]
    },
    {
     "name": "stdout",
     "output_type": "stream",
     "text": [
      "INFO:tensorflow:Calling model_fn.\n"
     ]
    },
    {
     "name": "stderr",
     "output_type": "stream",
     "text": [
      "INFO:tensorflow:Calling model_fn.\n"
     ]
    },
    {
     "name": "stdout",
     "output_type": "stream",
     "text": [
      "WARNING:tensorflow:From /usr/local/google/home/joeyounglee/git-repos/tfx_oss.git/tfx/examples/chicago_taxi_pipeline/taxi_pipeline/local/lib/python3.6/site-packages/tensorflow/python/ops/init_ops.py:1251: calling VarianceScaling.__init__ (from tensorflow.python.ops.init_ops) with dtype is deprecated and will be removed in a future version.\n",
      "Instructions for updating:\n",
      "Call initializer instance with the dtype argument instead of passing it to the constructor\n"
     ]
    },
    {
     "name": "stderr",
     "output_type": "stream",
     "text": [
      "WARNING:tensorflow:From /usr/local/google/home/joeyounglee/git-repos/tfx_oss.git/tfx/examples/chicago_taxi_pipeline/taxi_pipeline/local/lib/python3.6/site-packages/tensorflow/python/ops/init_ops.py:1251: calling VarianceScaling.__init__ (from tensorflow.python.ops.init_ops) with dtype is deprecated and will be removed in a future version.\n",
      "Instructions for updating:\n",
      "Call initializer instance with the dtype argument instead of passing it to the constructor\n"
     ]
    },
    {
     "name": "stdout",
     "output_type": "stream",
     "text": [
      "WARNING:tensorflow:From /usr/local/google/home/joeyounglee/git-repos/tfx_oss.git/tfx/examples/chicago_taxi_pipeline/taxi_pipeline/local/lib/python3.6/site-packages/tensorflow_estimator/python/estimator/canned/linear.py:308: to_float (from tensorflow.python.ops.math_ops) is deprecated and will be removed in a future version.\n",
      "Instructions for updating:\n",
      "Use `tf.cast` instead.\n"
     ]
    },
    {
     "name": "stderr",
     "output_type": "stream",
     "text": [
      "WARNING:tensorflow:From /usr/local/google/home/joeyounglee/git-repos/tfx_oss.git/tfx/examples/chicago_taxi_pipeline/taxi_pipeline/local/lib/python3.6/site-packages/tensorflow_estimator/python/estimator/canned/linear.py:308: to_float (from tensorflow.python.ops.math_ops) is deprecated and will be removed in a future version.\n",
      "Instructions for updating:\n",
      "Use `tf.cast` instead.\n"
     ]
    },
    {
     "name": "stdout",
     "output_type": "stream",
     "text": [
      "WARNING:tensorflow:From /usr/local/google/home/joeyounglee/git-repos/tfx_oss.git/tfx/examples/chicago_taxi_pipeline/taxi_pipeline/local/lib/python3.6/site-packages/tensorflow/python/training/adagrad.py:76: calling Constant.__init__ (from tensorflow.python.ops.init_ops) with dtype is deprecated and will be removed in a future version.\n",
      "Instructions for updating:\n",
      "Call initializer instance with the dtype argument instead of passing it to the constructor\n"
     ]
    },
    {
     "name": "stderr",
     "output_type": "stream",
     "text": [
      "WARNING:tensorflow:From /usr/local/google/home/joeyounglee/git-repos/tfx_oss.git/tfx/examples/chicago_taxi_pipeline/taxi_pipeline/local/lib/python3.6/site-packages/tensorflow/python/training/adagrad.py:76: calling Constant.__init__ (from tensorflow.python.ops.init_ops) with dtype is deprecated and will be removed in a future version.\n",
      "Instructions for updating:\n",
      "Call initializer instance with the dtype argument instead of passing it to the constructor\n"
     ]
    },
    {
     "name": "stdout",
     "output_type": "stream",
     "text": [
      "INFO:tensorflow:Done calling model_fn.\n"
     ]
    },
    {
     "name": "stderr",
     "output_type": "stream",
     "text": [
      "INFO:tensorflow:Done calling model_fn.\n"
     ]
    },
    {
     "name": "stdout",
     "output_type": "stream",
     "text": [
      "INFO:tensorflow:Create CheckpointSaverHook.\n"
     ]
    },
    {
     "name": "stderr",
     "output_type": "stream",
     "text": [
      "INFO:tensorflow:Create CheckpointSaverHook.\n"
     ]
    },
    {
     "name": "stdout",
     "output_type": "stream",
     "text": [
      "INFO:tensorflow:Graph was finalized.\n"
     ]
    },
    {
     "name": "stderr",
     "output_type": "stream",
     "text": [
      "INFO:tensorflow:Graph was finalized.\n"
     ]
    },
    {
     "name": "stdout",
     "output_type": "stream",
     "text": [
      "INFO:tensorflow:Running local_init_op.\n"
     ]
    },
    {
     "name": "stderr",
     "output_type": "stream",
     "text": [
      "INFO:tensorflow:Running local_init_op.\n"
     ]
    },
    {
     "name": "stdout",
     "output_type": "stream",
     "text": [
      "INFO:tensorflow:Done running local_init_op.\n"
     ]
    },
    {
     "name": "stderr",
     "output_type": "stream",
     "text": [
      "INFO:tensorflow:Done running local_init_op.\n"
     ]
    },
    {
     "name": "stdout",
     "output_type": "stream",
     "text": [
      "INFO:tensorflow:Saving checkpoints for 0 into /tmp/tfx-interactive-2019-09-13T16_46_14.222336-5zedre0a/Trainer/output/6/serving_model_dir/model.ckpt.\n"
     ]
    },
    {
     "name": "stderr",
     "output_type": "stream",
     "text": [
      "INFO:tensorflow:Saving checkpoints for 0 into /tmp/tfx-interactive-2019-09-13T16_46_14.222336-5zedre0a/Trainer/output/6/serving_model_dir/model.ckpt.\n"
     ]
    },
    {
     "name": "stdout",
     "output_type": "stream",
     "text": [
      "INFO:tensorflow:loss = 28.230358, step = 1\n"
     ]
    },
    {
     "name": "stderr",
     "output_type": "stream",
     "text": [
      "INFO:tensorflow:loss = 28.230358, step = 1\n"
     ]
    },
    {
     "name": "stdout",
     "output_type": "stream",
     "text": [
      "INFO:tensorflow:global_step/sec: 159.464\n"
     ]
    },
    {
     "name": "stderr",
     "output_type": "stream",
     "text": [
      "INFO:tensorflow:global_step/sec: 159.464\n"
     ]
    },
    {
     "name": "stdout",
     "output_type": "stream",
     "text": [
      "INFO:tensorflow:loss = 21.612656, step = 101 (0.630 sec)\n"
     ]
    },
    {
     "name": "stderr",
     "output_type": "stream",
     "text": [
      "INFO:tensorflow:loss = 21.612656, step = 101 (0.630 sec)\n"
     ]
    },
    {
     "name": "stdout",
     "output_type": "stream",
     "text": [
      "INFO:tensorflow:global_step/sec: 255.12\n"
     ]
    },
    {
     "name": "stderr",
     "output_type": "stream",
     "text": [
      "INFO:tensorflow:global_step/sec: 255.12\n"
     ]
    },
    {
     "name": "stdout",
     "output_type": "stream",
     "text": [
      "INFO:tensorflow:loss = 23.38359, step = 201 (0.392 sec)\n"
     ]
    },
    {
     "name": "stderr",
     "output_type": "stream",
     "text": [
      "INFO:tensorflow:loss = 23.38359, step = 201 (0.392 sec)\n"
     ]
    },
    {
     "name": "stdout",
     "output_type": "stream",
     "text": [
      "INFO:tensorflow:Saving checkpoints for 250 into /tmp/tfx-interactive-2019-09-13T16_46_14.222336-5zedre0a/Trainer/output/6/serving_model_dir/model.ckpt.\n"
     ]
    },
    {
     "name": "stderr",
     "output_type": "stream",
     "text": [
      "INFO:tensorflow:Saving checkpoints for 250 into /tmp/tfx-interactive-2019-09-13T16_46_14.222336-5zedre0a/Trainer/output/6/serving_model_dir/model.ckpt.\n"
     ]
    },
    {
     "name": "stdout",
     "output_type": "stream",
     "text": [
      "WARNING:tensorflow:From /usr/local/google/home/joeyounglee/git-repos/tfx_oss.git/tfx/examples/chicago_taxi_pipeline/taxi_pipeline/local/lib/python3.6/site-packages/tensorflow/python/training/saver.py:960: remove_checkpoint (from tensorflow.python.training.checkpoint_management) is deprecated and will be removed in a future version.\n",
      "Instructions for updating:\n",
      "Use standard file APIs to delete files with this prefix.\n"
     ]
    },
    {
     "name": "stderr",
     "output_type": "stream",
     "text": [
      "WARNING:tensorflow:From /usr/local/google/home/joeyounglee/git-repos/tfx_oss.git/tfx/examples/chicago_taxi_pipeline/taxi_pipeline/local/lib/python3.6/site-packages/tensorflow/python/training/saver.py:960: remove_checkpoint (from tensorflow.python.training.checkpoint_management) is deprecated and will be removed in a future version.\n",
      "Instructions for updating:\n",
      "Use standard file APIs to delete files with this prefix.\n"
     ]
    },
    {
     "name": "stdout",
     "output_type": "stream",
     "text": [
      "INFO:tensorflow:Calling model_fn.\n"
     ]
    },
    {
     "name": "stderr",
     "output_type": "stream",
     "text": [
      "INFO:tensorflow:Calling model_fn.\n"
     ]
    },
    {
     "name": "stdout",
     "output_type": "stream",
     "text": [
      "WARNING:tensorflow:From /usr/local/google/home/joeyounglee/git-repos/tfx_oss.git/tfx/examples/chicago_taxi_pipeline/taxi_pipeline/local/lib/python3.6/site-packages/tensorflow/python/ops/metrics_impl.py:2027: div (from tensorflow.python.ops.math_ops) is deprecated and will be removed in a future version.\n",
      "Instructions for updating:\n",
      "Deprecated in favor of operator or tf.math.divide.\n"
     ]
    },
    {
     "name": "stderr",
     "output_type": "stream",
     "text": [
      "WARNING:tensorflow:From /usr/local/google/home/joeyounglee/git-repos/tfx_oss.git/tfx/examples/chicago_taxi_pipeline/taxi_pipeline/local/lib/python3.6/site-packages/tensorflow/python/ops/metrics_impl.py:2027: div (from tensorflow.python.ops.math_ops) is deprecated and will be removed in a future version.\n",
      "Instructions for updating:\n",
      "Deprecated in favor of operator or tf.math.divide.\n"
     ]
    },
    {
     "name": "stdout",
     "output_type": "stream",
     "text": [
      "WARNING:tensorflow:Trapezoidal rule is known to produce incorrect PR-AUCs; please switch to \"careful_interpolation\" instead.\n"
     ]
    },
    {
     "name": "stderr",
     "output_type": "stream",
     "text": [
      "WARNING:tensorflow:Trapezoidal rule is known to produce incorrect PR-AUCs; please switch to \"careful_interpolation\" instead.\n"
     ]
    },
    {
     "name": "stdout",
     "output_type": "stream",
     "text": [
      "WARNING:tensorflow:Trapezoidal rule is known to produce incorrect PR-AUCs; please switch to \"careful_interpolation\" instead.\n"
     ]
    },
    {
     "name": "stderr",
     "output_type": "stream",
     "text": [
      "WARNING:tensorflow:Trapezoidal rule is known to produce incorrect PR-AUCs; please switch to \"careful_interpolation\" instead.\n"
     ]
    },
    {
     "name": "stdout",
     "output_type": "stream",
     "text": [
      "INFO:tensorflow:Done calling model_fn.\n"
     ]
    },
    {
     "name": "stderr",
     "output_type": "stream",
     "text": [
      "INFO:tensorflow:Done calling model_fn.\n"
     ]
    },
    {
     "name": "stdout",
     "output_type": "stream",
     "text": [
      "INFO:tensorflow:Starting evaluation at 2019-09-13T16:47:02Z\n"
     ]
    },
    {
     "name": "stderr",
     "output_type": "stream",
     "text": [
      "INFO:tensorflow:Starting evaluation at 2019-09-13T16:47:02Z\n"
     ]
    },
    {
     "name": "stdout",
     "output_type": "stream",
     "text": [
      "INFO:tensorflow:Graph was finalized.\n"
     ]
    },
    {
     "name": "stderr",
     "output_type": "stream",
     "text": [
      "INFO:tensorflow:Graph was finalized.\n"
     ]
    },
    {
     "name": "stdout",
     "output_type": "stream",
     "text": [
      "WARNING:tensorflow:From /usr/local/google/home/joeyounglee/git-repos/tfx_oss.git/tfx/examples/chicago_taxi_pipeline/taxi_pipeline/local/lib/python3.6/site-packages/tensorflow/python/training/saver.py:1276: checkpoint_exists (from tensorflow.python.training.checkpoint_management) is deprecated and will be removed in a future version.\n",
      "Instructions for updating:\n",
      "Use standard file APIs to check for files with this prefix.\n"
     ]
    },
    {
     "name": "stderr",
     "output_type": "stream",
     "text": [
      "WARNING:tensorflow:From /usr/local/google/home/joeyounglee/git-repos/tfx_oss.git/tfx/examples/chicago_taxi_pipeline/taxi_pipeline/local/lib/python3.6/site-packages/tensorflow/python/training/saver.py:1276: checkpoint_exists (from tensorflow.python.training.checkpoint_management) is deprecated and will be removed in a future version.\n",
      "Instructions for updating:\n",
      "Use standard file APIs to check for files with this prefix.\n"
     ]
    },
    {
     "name": "stdout",
     "output_type": "stream",
     "text": [
      "INFO:tensorflow:Restoring parameters from /tmp/tfx-interactive-2019-09-13T16_46_14.222336-5zedre0a/Trainer/output/6/serving_model_dir/model.ckpt-250\n"
     ]
    },
    {
     "name": "stderr",
     "output_type": "stream",
     "text": [
      "INFO:tensorflow:Restoring parameters from /tmp/tfx-interactive-2019-09-13T16_46_14.222336-5zedre0a/Trainer/output/6/serving_model_dir/model.ckpt-250\n"
     ]
    },
    {
     "name": "stdout",
     "output_type": "stream",
     "text": [
      "INFO:tensorflow:Running local_init_op.\n"
     ]
    },
    {
     "name": "stderr",
     "output_type": "stream",
     "text": [
      "INFO:tensorflow:Running local_init_op.\n"
     ]
    },
    {
     "name": "stdout",
     "output_type": "stream",
     "text": [
      "INFO:tensorflow:Done running local_init_op.\n"
     ]
    },
    {
     "name": "stderr",
     "output_type": "stream",
     "text": [
      "INFO:tensorflow:Done running local_init_op.\n"
     ]
    },
    {
     "name": "stdout",
     "output_type": "stream",
     "text": [
      "INFO:tensorflow:Evaluation [12/125]\n"
     ]
    },
    {
     "name": "stderr",
     "output_type": "stream",
     "text": [
      "INFO:tensorflow:Evaluation [12/125]\n"
     ]
    },
    {
     "name": "stdout",
     "output_type": "stream",
     "text": [
      "INFO:tensorflow:Evaluation [24/125]\n"
     ]
    },
    {
     "name": "stderr",
     "output_type": "stream",
     "text": [
      "INFO:tensorflow:Evaluation [24/125]\n"
     ]
    },
    {
     "name": "stdout",
     "output_type": "stream",
     "text": [
      "INFO:tensorflow:Evaluation [36/125]\n"
     ]
    },
    {
     "name": "stderr",
     "output_type": "stream",
     "text": [
      "INFO:tensorflow:Evaluation [36/125]\n"
     ]
    },
    {
     "name": "stdout",
     "output_type": "stream",
     "text": [
      "INFO:tensorflow:Evaluation [48/125]\n"
     ]
    },
    {
     "name": "stderr",
     "output_type": "stream",
     "text": [
      "INFO:tensorflow:Evaluation [48/125]\n"
     ]
    },
    {
     "name": "stdout",
     "output_type": "stream",
     "text": [
      "INFO:tensorflow:Evaluation [60/125]\n"
     ]
    },
    {
     "name": "stderr",
     "output_type": "stream",
     "text": [
      "INFO:tensorflow:Evaluation [60/125]\n"
     ]
    },
    {
     "name": "stdout",
     "output_type": "stream",
     "text": [
      "INFO:tensorflow:Evaluation [72/125]\n"
     ]
    },
    {
     "name": "stderr",
     "output_type": "stream",
     "text": [
      "INFO:tensorflow:Evaluation [72/125]\n"
     ]
    },
    {
     "name": "stdout",
     "output_type": "stream",
     "text": [
      "INFO:tensorflow:Evaluation [84/125]\n"
     ]
    },
    {
     "name": "stderr",
     "output_type": "stream",
     "text": [
      "INFO:tensorflow:Evaluation [84/125]\n"
     ]
    },
    {
     "name": "stdout",
     "output_type": "stream",
     "text": [
      "INFO:tensorflow:Evaluation [96/125]\n"
     ]
    },
    {
     "name": "stderr",
     "output_type": "stream",
     "text": [
      "INFO:tensorflow:Evaluation [96/125]\n"
     ]
    },
    {
     "name": "stdout",
     "output_type": "stream",
     "text": [
      "INFO:tensorflow:Evaluation [108/125]\n"
     ]
    },
    {
     "name": "stderr",
     "output_type": "stream",
     "text": [
      "INFO:tensorflow:Evaluation [108/125]\n"
     ]
    },
    {
     "name": "stdout",
     "output_type": "stream",
     "text": [
      "INFO:tensorflow:Evaluation [120/125]\n"
     ]
    },
    {
     "name": "stderr",
     "output_type": "stream",
     "text": [
      "INFO:tensorflow:Evaluation [120/125]\n"
     ]
    },
    {
     "name": "stdout",
     "output_type": "stream",
     "text": [
      "INFO:tensorflow:Evaluation [125/125]\n"
     ]
    },
    {
     "name": "stderr",
     "output_type": "stream",
     "text": [
      "INFO:tensorflow:Evaluation [125/125]\n"
     ]
    },
    {
     "name": "stdout",
     "output_type": "stream",
     "text": [
      "INFO:tensorflow:Finished evaluation at 2019-09-13-16:47:04\n"
     ]
    },
    {
     "name": "stderr",
     "output_type": "stream",
     "text": [
      "INFO:tensorflow:Finished evaluation at 2019-09-13-16:47:04\n"
     ]
    },
    {
     "name": "stdout",
     "output_type": "stream",
     "text": [
      "INFO:tensorflow:Saving dict for global step 250: accuracy = 0.77, accuracy_baseline = 0.77, auc = 0.8751246, auc_precision_recall = 0.58723295, average_loss = 0.49781045, global_step = 250, label/mean = 0.23, loss = 19.912418, precision = 0.0, prediction/mean = 0.25716022, recall = 0.0\n"
     ]
    },
    {
     "name": "stderr",
     "output_type": "stream",
     "text": [
      "INFO:tensorflow:Saving dict for global step 250: accuracy = 0.77, accuracy_baseline = 0.77, auc = 0.8751246, auc_precision_recall = 0.58723295, average_loss = 0.49781045, global_step = 250, label/mean = 0.23, loss = 19.912418, precision = 0.0, prediction/mean = 0.25716022, recall = 0.0\n"
     ]
    },
    {
     "name": "stdout",
     "output_type": "stream",
     "text": [
      "INFO:tensorflow:Saving 'checkpoint_path' summary for global step 250: /tmp/tfx-interactive-2019-09-13T16_46_14.222336-5zedre0a/Trainer/output/6/serving_model_dir/model.ckpt-250\n"
     ]
    },
    {
     "name": "stderr",
     "output_type": "stream",
     "text": [
      "INFO:tensorflow:Saving 'checkpoint_path' summary for global step 250: /tmp/tfx-interactive-2019-09-13T16_46_14.222336-5zedre0a/Trainer/output/6/serving_model_dir/model.ckpt-250\n"
     ]
    },
    {
     "name": "stdout",
     "output_type": "stream",
     "text": [
      "INFO:tensorflow:Performing the final export in the end of training.\n"
     ]
    },
    {
     "name": "stderr",
     "output_type": "stream",
     "text": [
      "INFO:tensorflow:Performing the final export in the end of training.\n"
     ]
    },
    {
     "name": "stdout",
     "output_type": "stream",
     "text": [
      "WARNING:tensorflow:Expected binary or unicode string, got type_url: \"type.googleapis.com/tensorflow.AssetFileDef\"\n",
      "value: \"\\n\\013\\n\\tConst_7:0\\022-vocab_compute_and_apply_vocabulary_vocabulary\"\n",
      "\n"
     ]
    },
    {
     "name": "stderr",
     "output_type": "stream",
     "text": [
      "WARNING:tensorflow:Expected binary or unicode string, got type_url: \"type.googleapis.com/tensorflow.AssetFileDef\"\n",
      "value: \"\\n\\013\\n\\tConst_7:0\\022-vocab_compute_and_apply_vocabulary_vocabulary\"\n",
      "\n"
     ]
    },
    {
     "name": "stdout",
     "output_type": "stream",
     "text": [
      "WARNING:tensorflow:Expected binary or unicode string, got type_url: \"type.googleapis.com/tensorflow.AssetFileDef\"\n",
      "value: \"\\n\\013\\n\\tConst_9:0\\022/vocab_compute_and_apply_vocabulary_1_vocabulary\"\n",
      "\n"
     ]
    },
    {
     "name": "stderr",
     "output_type": "stream",
     "text": [
      "WARNING:tensorflow:Expected binary or unicode string, got type_url: \"type.googleapis.com/tensorflow.AssetFileDef\"\n",
      "value: \"\\n\\013\\n\\tConst_9:0\\022/vocab_compute_and_apply_vocabulary_1_vocabulary\"\n",
      "\n"
     ]
    },
    {
     "name": "stdout",
     "output_type": "stream",
     "text": [
      "INFO:tensorflow:Saver not created because there are no variables in the graph to restore\n"
     ]
    },
    {
     "name": "stderr",
     "output_type": "stream",
     "text": [
      "INFO:tensorflow:Saver not created because there are no variables in the graph to restore\n"
     ]
    },
    {
     "name": "stdout",
     "output_type": "stream",
     "text": [
      "INFO:tensorflow:Calling model_fn.\n"
     ]
    },
    {
     "name": "stderr",
     "output_type": "stream",
     "text": [
      "INFO:tensorflow:Calling model_fn.\n"
     ]
    },
    {
     "name": "stdout",
     "output_type": "stream",
     "text": [
      "INFO:tensorflow:Done calling model_fn.\n"
     ]
    },
    {
     "name": "stderr",
     "output_type": "stream",
     "text": [
      "INFO:tensorflow:Done calling model_fn.\n"
     ]
    },
    {
     "name": "stdout",
     "output_type": "stream",
     "text": [
      "INFO:tensorflow:Signatures INCLUDED in export for Classify: ['serving_default', 'classification']\n"
     ]
    },
    {
     "name": "stderr",
     "output_type": "stream",
     "text": [
      "INFO:tensorflow:Signatures INCLUDED in export for Classify: ['serving_default', 'classification']\n"
     ]
    },
    {
     "name": "stdout",
     "output_type": "stream",
     "text": [
      "INFO:tensorflow:Signatures INCLUDED in export for Regress: ['regression']\n"
     ]
    },
    {
     "name": "stderr",
     "output_type": "stream",
     "text": [
      "INFO:tensorflow:Signatures INCLUDED in export for Regress: ['regression']\n"
     ]
    },
    {
     "name": "stdout",
     "output_type": "stream",
     "text": [
      "INFO:tensorflow:Signatures INCLUDED in export for Predict: ['predict']\n"
     ]
    },
    {
     "name": "stderr",
     "output_type": "stream",
     "text": [
      "INFO:tensorflow:Signatures INCLUDED in export for Predict: ['predict']\n"
     ]
    },
    {
     "name": "stdout",
     "output_type": "stream",
     "text": [
      "INFO:tensorflow:Signatures INCLUDED in export for Train: None\n"
     ]
    },
    {
     "name": "stderr",
     "output_type": "stream",
     "text": [
      "INFO:tensorflow:Signatures INCLUDED in export for Train: None\n"
     ]
    },
    {
     "name": "stdout",
     "output_type": "stream",
     "text": [
      "INFO:tensorflow:Signatures INCLUDED in export for Eval: None\n"
     ]
    },
    {
     "name": "stderr",
     "output_type": "stream",
     "text": [
      "INFO:tensorflow:Signatures INCLUDED in export for Eval: None\n"
     ]
    },
    {
     "name": "stdout",
     "output_type": "stream",
     "text": [
      "INFO:tensorflow:Restoring parameters from /tmp/tfx-interactive-2019-09-13T16_46_14.222336-5zedre0a/Trainer/output/6/serving_model_dir/model.ckpt-250\n"
     ]
    },
    {
     "name": "stderr",
     "output_type": "stream",
     "text": [
      "INFO:tensorflow:Restoring parameters from /tmp/tfx-interactive-2019-09-13T16_46_14.222336-5zedre0a/Trainer/output/6/serving_model_dir/model.ckpt-250\n"
     ]
    },
    {
     "name": "stdout",
     "output_type": "stream",
     "text": [
      "INFO:tensorflow:Assets added to graph.\n"
     ]
    },
    {
     "name": "stderr",
     "output_type": "stream",
     "text": [
      "INFO:tensorflow:Assets added to graph.\n"
     ]
    },
    {
     "name": "stdout",
     "output_type": "stream",
     "text": [
      "INFO:tensorflow:Assets written to: /tmp/tfx-interactive-2019-09-13T16_46_14.222336-5zedre0a/Trainer/output/6/serving_model_dir/export/chicago-taxi/temp-b'1568418424'/assets\n"
     ]
    },
    {
     "name": "stderr",
     "output_type": "stream",
     "text": [
      "INFO:tensorflow:Assets written to: /tmp/tfx-interactive-2019-09-13T16_46_14.222336-5zedre0a/Trainer/output/6/serving_model_dir/export/chicago-taxi/temp-b'1568418424'/assets\n"
     ]
    },
    {
     "name": "stdout",
     "output_type": "stream",
     "text": [
      "INFO:tensorflow:SavedModel written to: /tmp/tfx-interactive-2019-09-13T16_46_14.222336-5zedre0a/Trainer/output/6/serving_model_dir/export/chicago-taxi/temp-b'1568418424'/saved_model.pb\n"
     ]
    },
    {
     "name": "stderr",
     "output_type": "stream",
     "text": [
      "INFO:tensorflow:SavedModel written to: /tmp/tfx-interactive-2019-09-13T16_46_14.222336-5zedre0a/Trainer/output/6/serving_model_dir/export/chicago-taxi/temp-b'1568418424'/saved_model.pb\n"
     ]
    },
    {
     "name": "stdout",
     "output_type": "stream",
     "text": [
      "INFO:tensorflow:Loss for final step: 18.517681.\n"
     ]
    },
    {
     "name": "stderr",
     "output_type": "stream",
     "text": [
      "INFO:tensorflow:Loss for final step: 18.517681.\n"
     ]
    },
    {
     "name": "stdout",
     "output_type": "stream",
     "text": [
      "INFO:tensorflow:Training complete.  Model written to /tmp/tfx-interactive-2019-09-13T16_46_14.222336-5zedre0a/Trainer/output/6/serving_model_dir\n"
     ]
    },
    {
     "name": "stderr",
     "output_type": "stream",
     "text": [
      "INFO:tensorflow:Training complete.  Model written to /tmp/tfx-interactive-2019-09-13T16_46_14.222336-5zedre0a/Trainer/output/6/serving_model_dir\n"
     ]
    },
    {
     "name": "stdout",
     "output_type": "stream",
     "text": [
      "INFO:tensorflow:Exporting eval_savedmodel for TFMA.\n"
     ]
    },
    {
     "name": "stderr",
     "output_type": "stream",
     "text": [
      "INFO:tensorflow:Exporting eval_savedmodel for TFMA.\n"
     ]
    },
    {
     "name": "stdout",
     "output_type": "stream",
     "text": [
      "WARNING:tensorflow:From /usr/local/google/home/joeyounglee/git-repos/tfx_oss.git/tfx/examples/chicago_taxi_pipeline/taxi_pipeline/local/lib/python3.6/site-packages/tfx/examples/chicago_taxi_pipeline/taxi_utils.py:236: The name tf.placeholder is deprecated. Please use tf.compat.v1.placeholder instead.\n",
      "\n"
     ]
    },
    {
     "name": "stderr",
     "output_type": "stream",
     "text": [
      "WARNING:tensorflow:From /usr/local/google/home/joeyounglee/git-repos/tfx_oss.git/tfx/examples/chicago_taxi_pipeline/taxi_pipeline/local/lib/python3.6/site-packages/tfx/examples/chicago_taxi_pipeline/taxi_utils.py:236: The name tf.placeholder is deprecated. Please use tf.compat.v1.placeholder instead.\n",
      "\n"
     ]
    },
    {
     "name": "stdout",
     "output_type": "stream",
     "text": [
      "WARNING:tensorflow:From /usr/local/google/home/joeyounglee/git-repos/tfx_oss.git/tfx/examples/chicago_taxi_pipeline/taxi_pipeline/local/lib/python3.6/site-packages/tfx/examples/chicago_taxi_pipeline/taxi_utils.py:241: The name tf.parse_example is deprecated. Please use tf.io.parse_example instead.\n",
      "\n"
     ]
    },
    {
     "name": "stderr",
     "output_type": "stream",
     "text": [
      "WARNING:tensorflow:From /usr/local/google/home/joeyounglee/git-repos/tfx_oss.git/tfx/examples/chicago_taxi_pipeline/taxi_pipeline/local/lib/python3.6/site-packages/tfx/examples/chicago_taxi_pipeline/taxi_utils.py:241: The name tf.parse_example is deprecated. Please use tf.io.parse_example instead.\n",
      "\n"
     ]
    },
    {
     "name": "stdout",
     "output_type": "stream",
     "text": [
      "WARNING:tensorflow:Expected binary or unicode string, got type_url: \"type.googleapis.com/tensorflow.AssetFileDef\"\n",
      "value: \"\\n\\013\\n\\tConst_7:0\\022-vocab_compute_and_apply_vocabulary_vocabulary\"\n",
      "\n"
     ]
    },
    {
     "name": "stderr",
     "output_type": "stream",
     "text": [
      "WARNING:tensorflow:Expected binary or unicode string, got type_url: \"type.googleapis.com/tensorflow.AssetFileDef\"\n",
      "value: \"\\n\\013\\n\\tConst_7:0\\022-vocab_compute_and_apply_vocabulary_vocabulary\"\n",
      "\n"
     ]
    },
    {
     "name": "stdout",
     "output_type": "stream",
     "text": [
      "WARNING:tensorflow:Expected binary or unicode string, got type_url: \"type.googleapis.com/tensorflow.AssetFileDef\"\n",
      "value: \"\\n\\013\\n\\tConst_9:0\\022/vocab_compute_and_apply_vocabulary_1_vocabulary\"\n",
      "\n"
     ]
    },
    {
     "name": "stderr",
     "output_type": "stream",
     "text": [
      "WARNING:tensorflow:Expected binary or unicode string, got type_url: \"type.googleapis.com/tensorflow.AssetFileDef\"\n",
      "value: \"\\n\\013\\n\\tConst_9:0\\022/vocab_compute_and_apply_vocabulary_1_vocabulary\"\n",
      "\n"
     ]
    },
    {
     "name": "stdout",
     "output_type": "stream",
     "text": [
      "INFO:tensorflow:Saver not created because there are no variables in the graph to restore\n"
     ]
    },
    {
     "name": "stderr",
     "output_type": "stream",
     "text": [
      "INFO:tensorflow:Saver not created because there are no variables in the graph to restore\n"
     ]
    },
    {
     "name": "stdout",
     "output_type": "stream",
     "text": [
      "INFO:tensorflow:Calling model_fn.\n"
     ]
    },
    {
     "name": "stderr",
     "output_type": "stream",
     "text": [
      "INFO:tensorflow:Calling model_fn.\n"
     ]
    },
    {
     "name": "stdout",
     "output_type": "stream",
     "text": [
      "WARNING:tensorflow:Trapezoidal rule is known to produce incorrect PR-AUCs; please switch to \"careful_interpolation\" instead.\n"
     ]
    },
    {
     "name": "stderr",
     "output_type": "stream",
     "text": [
      "WARNING:tensorflow:Trapezoidal rule is known to produce incorrect PR-AUCs; please switch to \"careful_interpolation\" instead.\n"
     ]
    },
    {
     "name": "stdout",
     "output_type": "stream",
     "text": [
      "WARNING:tensorflow:Trapezoidal rule is known to produce incorrect PR-AUCs; please switch to \"careful_interpolation\" instead.\n"
     ]
    },
    {
     "name": "stderr",
     "output_type": "stream",
     "text": [
      "WARNING:tensorflow:Trapezoidal rule is known to produce incorrect PR-AUCs; please switch to \"careful_interpolation\" instead.\n"
     ]
    },
    {
     "name": "stdout",
     "output_type": "stream",
     "text": [
      "INFO:tensorflow:Done calling model_fn.\n"
     ]
    },
    {
     "name": "stderr",
     "output_type": "stream",
     "text": [
      "INFO:tensorflow:Done calling model_fn.\n"
     ]
    },
    {
     "name": "stdout",
     "output_type": "stream",
     "text": [
      "INFO:tensorflow:Signatures INCLUDED in export for Classify: None\n"
     ]
    },
    {
     "name": "stderr",
     "output_type": "stream",
     "text": [
      "INFO:tensorflow:Signatures INCLUDED in export for Classify: None\n"
     ]
    },
    {
     "name": "stdout",
     "output_type": "stream",
     "text": [
      "INFO:tensorflow:Signatures INCLUDED in export for Regress: None\n"
     ]
    },
    {
     "name": "stderr",
     "output_type": "stream",
     "text": [
      "INFO:tensorflow:Signatures INCLUDED in export for Regress: None\n"
     ]
    },
    {
     "name": "stdout",
     "output_type": "stream",
     "text": [
      "INFO:tensorflow:Signatures INCLUDED in export for Predict: None\n"
     ]
    },
    {
     "name": "stderr",
     "output_type": "stream",
     "text": [
      "INFO:tensorflow:Signatures INCLUDED in export for Predict: None\n"
     ]
    },
    {
     "name": "stdout",
     "output_type": "stream",
     "text": [
      "INFO:tensorflow:Signatures INCLUDED in export for Train: None\n"
     ]
    },
    {
     "name": "stderr",
     "output_type": "stream",
     "text": [
      "INFO:tensorflow:Signatures INCLUDED in export for Train: None\n"
     ]
    },
    {
     "name": "stdout",
     "output_type": "stream",
     "text": [
      "INFO:tensorflow:Signatures INCLUDED in export for Eval: ['eval']\n"
     ]
    },
    {
     "name": "stderr",
     "output_type": "stream",
     "text": [
      "INFO:tensorflow:Signatures INCLUDED in export for Eval: ['eval']\n"
     ]
    },
    {
     "name": "stdout",
     "output_type": "stream",
     "text": [
      "WARNING:tensorflow:Export includes no default signature!\n"
     ]
    },
    {
     "name": "stderr",
     "output_type": "stream",
     "text": [
      "WARNING:tensorflow:Export includes no default signature!\n"
     ]
    },
    {
     "name": "stdout",
     "output_type": "stream",
     "text": [
      "INFO:tensorflow:Restoring parameters from /tmp/tfx-interactive-2019-09-13T16_46_14.222336-5zedre0a/Trainer/output/6/serving_model_dir/model.ckpt-250\n"
     ]
    },
    {
     "name": "stderr",
     "output_type": "stream",
     "text": [
      "INFO:tensorflow:Restoring parameters from /tmp/tfx-interactive-2019-09-13T16_46_14.222336-5zedre0a/Trainer/output/6/serving_model_dir/model.ckpt-250\n"
     ]
    },
    {
     "name": "stdout",
     "output_type": "stream",
     "text": [
      "INFO:tensorflow:Assets added to graph.\n"
     ]
    },
    {
     "name": "stderr",
     "output_type": "stream",
     "text": [
      "INFO:tensorflow:Assets added to graph.\n"
     ]
    },
    {
     "name": "stdout",
     "output_type": "stream",
     "text": [
      "INFO:tensorflow:Assets written to: /tmp/tfx-interactive-2019-09-13T16_46_14.222336-5zedre0a/Trainer/output/6/eval_model_dir/temp-b'1568418426'/assets\n"
     ]
    },
    {
     "name": "stderr",
     "output_type": "stream",
     "text": [
      "INFO:tensorflow:Assets written to: /tmp/tfx-interactive-2019-09-13T16_46_14.222336-5zedre0a/Trainer/output/6/eval_model_dir/temp-b'1568418426'/assets\n"
     ]
    },
    {
     "name": "stdout",
     "output_type": "stream",
     "text": [
      "INFO:tensorflow:SavedModel written to: /tmp/tfx-interactive-2019-09-13T16_46_14.222336-5zedre0a/Trainer/output/6/eval_model_dir/temp-b'1568418426'/saved_model.pb\n"
     ]
    },
    {
     "name": "stderr",
     "output_type": "stream",
     "text": [
      "INFO:tensorflow:SavedModel written to: /tmp/tfx-interactive-2019-09-13T16_46_14.222336-5zedre0a/Trainer/output/6/eval_model_dir/temp-b'1568418426'/saved_model.pb\n"
     ]
    },
    {
     "name": "stdout",
     "output_type": "stream",
     "text": [
      "INFO:tensorflow:Exported eval_savedmodel to /tmp/tfx-interactive-2019-09-13T16_46_14.222336-5zedre0a/Trainer/output/6/eval_model_dir.\n"
     ]
    },
    {
     "name": "stderr",
     "output_type": "stream",
     "text": [
      "INFO:tensorflow:Exported eval_savedmodel to /tmp/tfx-interactive-2019-09-13T16_46_14.222336-5zedre0a/Trainer/output/6/eval_model_dir.\n"
     ]
    },
    {
     "name": "stdout",
     "output_type": "stream",
     "text": [
      "INFO:tensorflow:Run publisher for Trainer\n"
     ]
    },
    {
     "name": "stderr",
     "output_type": "stream",
     "text": [
      "INFO:tensorflow:Run publisher for Trainer\n"
     ]
    },
    {
     "name": "stdout",
     "output_type": "stream",
     "text": [
      "INFO:tensorflow:Whether cached results are used: False\n"
     ]
    },
    {
     "name": "stderr",
     "output_type": "stream",
     "text": [
      "INFO:tensorflow:Whether cached results are used: False\n"
     ]
    },
    {
     "name": "stdout",
     "output_type": "stream",
     "text": [
      "INFO:tensorflow:Execution id: 6\n"
     ]
    },
    {
     "name": "stderr",
     "output_type": "stream",
     "text": [
      "INFO:tensorflow:Execution id: 6\n"
     ]
    },
    {
     "name": "stdout",
     "output_type": "stream",
     "text": [
      "INFO:tensorflow:Inputs: {'examples': [Artifact(type_name: ExamplesPath, uri: /tmp/tfx-interactive-2019-09-13T16_46_14.222336-5zedre0a/Transform/transformed_examples/5/train/, split: train, id: 9), Artifact(type_name: ExamplesPath, uri: /tmp/tfx-interactive-2019-09-13T16_46_14.222336-5zedre0a/Transform/transformed_examples/5/eval/, split: eval, id: 10)], 'transform_output': [Artifact(type_name: TransformPath, uri: /tmp/tfx-interactive-2019-09-13T16_46_14.222336-5zedre0a/Transform/transform_output/5/, split: , id: 8)], 'schema': [Artifact(type_name: SchemaPath, uri: /tmp/tfx-interactive-2019-09-13T16_46_14.222336-5zedre0a/SchemaGen/output/3/, split: , id: 6)]}\n"
     ]
    },
    {
     "name": "stderr",
     "output_type": "stream",
     "text": [
      "INFO:tensorflow:Inputs: {'examples': [Artifact(type_name: ExamplesPath, uri: /tmp/tfx-interactive-2019-09-13T16_46_14.222336-5zedre0a/Transform/transformed_examples/5/train/, split: train, id: 9), Artifact(type_name: ExamplesPath, uri: /tmp/tfx-interactive-2019-09-13T16_46_14.222336-5zedre0a/Transform/transformed_examples/5/eval/, split: eval, id: 10)], 'transform_output': [Artifact(type_name: TransformPath, uri: /tmp/tfx-interactive-2019-09-13T16_46_14.222336-5zedre0a/Transform/transform_output/5/, split: , id: 8)], 'schema': [Artifact(type_name: SchemaPath, uri: /tmp/tfx-interactive-2019-09-13T16_46_14.222336-5zedre0a/SchemaGen/output/3/, split: , id: 6)]}\n"
     ]
    },
    {
     "name": "stdout",
     "output_type": "stream",
     "text": [
      "INFO:tensorflow:Outputs: {'output': [Artifact(type_name: ModelExportPath, uri: /tmp/tfx-interactive-2019-09-13T16_46_14.222336-5zedre0a/Trainer/output/6/, split: , id: 0)]}\n"
     ]
    },
    {
     "name": "stderr",
     "output_type": "stream",
     "text": [
      "INFO:tensorflow:Outputs: {'output': [Artifact(type_name: ModelExportPath, uri: /tmp/tfx-interactive-2019-09-13T16_46_14.222336-5zedre0a/Trainer/output/6/, split: , id: 0)]}\n"
     ]
    },
    {
     "name": "stdout",
     "output_type": "stream",
     "text": [
      "INFO:tensorflow:Publishing execution id: 6\n",
      "type_id: 13\n",
      "properties {\n",
      "  key: \"checksum_md5\"\n",
      "  value {\n",
      "    string_value: \"4e52cfff5d4b939df7b60870c459c181\"\n",
      "  }\n",
      "}\n",
      "properties {\n",
      "  key: \"component_id\"\n",
      "  value {\n",
      "    string_value: \"Trainer\"\n",
      "  }\n",
      "}\n",
      "properties {\n",
      "  key: \"custom_config\"\n",
      "  value {\n",
      "    string_value: \"None\"\n",
      "  }\n",
      "}\n",
      "properties {\n",
      "  key: \"eval_args\"\n",
      "  value {\n",
      "    string_value: \"{\\n  \\\"numSteps\\\": 125\\n}\"\n",
      "  }\n",
      "}\n",
      "properties {\n",
      "  key: \"module_file\"\n",
      "  value {\n",
      "    string_value: \"/usr/local/google/home/joeyounglee/git-repos/tfx_oss.git/tfx/examples/chicago_taxi_pipeline/taxi_pipeline/local/lib/python3.6/site-packages/tfx/examples/chicago_taxi_pipeline/taxi_utils.py\"\n",
      "  }\n",
      "}\n",
      "properties {\n",
      "  key: \"pipeline_name\"\n",
      "  value {\n",
      "    string_value: \"interactive-2019-09-13T16_46_14.222336\"\n",
      "  }\n",
      "}\n",
      "properties {\n",
      "  key: \"pipeline_root\"\n",
      "  value {\n",
      "    string_value: \"/tmp/tfx-interactive-2019-09-13T16_46_14.222336-5zedre0a\"\n",
      "  }\n",
      "}\n",
      "properties {\n",
      "  key: \"run_id\"\n",
      "  value {\n",
      "    string_value: \"2019-09-13T16:46:54.357939\"\n",
      "  }\n",
      "}\n",
      "properties {\n",
      "  key: \"state\"\n",
      "  value {\n",
      "    string_value: \"complete\"\n",
      "  }\n",
      "}\n",
      "properties {\n",
      "  key: \"train_args\"\n",
      "  value {\n",
      "    string_value: \"{\\n  \\\"numSteps\\\": 250\\n}\"\n",
      "  }\n",
      "}\n",
      "properties {\n",
      "  key: \"trainer_fn\"\n",
      "  value {\n",
      "    string_value: \"None\"\n",
      "  }\n",
      "}\n",
      ", with inputs {'examples': [Artifact(type_name: ExamplesPath, uri: /tmp/tfx-interactive-2019-09-13T16_46_14.222336-5zedre0a/Transform/transformed_examples/5/train/, split: train, id: 9), Artifact(type_name: ExamplesPath, uri: /tmp/tfx-interactive-2019-09-13T16_46_14.222336-5zedre0a/Transform/transformed_examples/5/eval/, split: eval, id: 10)], 'transform_output': [Artifact(type_name: TransformPath, uri: /tmp/tfx-interactive-2019-09-13T16_46_14.222336-5zedre0a/Transform/transform_output/5/, split: , id: 8)], 'schema': [Artifact(type_name: SchemaPath, uri: /tmp/tfx-interactive-2019-09-13T16_46_14.222336-5zedre0a/SchemaGen/output/3/, split: , id: 6)]} and outputs {'output': [Artifact(type_name: ModelExportPath, uri: /tmp/tfx-interactive-2019-09-13T16_46_14.222336-5zedre0a/Trainer/output/6/, split: , id: 0)]}\n"
     ]
    },
    {
     "name": "stderr",
     "output_type": "stream",
     "text": [
      "INFO:tensorflow:Publishing execution id: 6\n",
      "type_id: 13\n",
      "properties {\n",
      "  key: \"checksum_md5\"\n",
      "  value {\n",
      "    string_value: \"4e52cfff5d4b939df7b60870c459c181\"\n",
      "  }\n",
      "}\n",
      "properties {\n",
      "  key: \"component_id\"\n",
      "  value {\n",
      "    string_value: \"Trainer\"\n",
      "  }\n",
      "}\n",
      "properties {\n",
      "  key: \"custom_config\"\n",
      "  value {\n",
      "    string_value: \"None\"\n",
      "  }\n",
      "}\n",
      "properties {\n",
      "  key: \"eval_args\"\n",
      "  value {\n",
      "    string_value: \"{\\n  \\\"numSteps\\\": 125\\n}\"\n",
      "  }\n",
      "}\n",
      "properties {\n",
      "  key: \"module_file\"\n",
      "  value {\n",
      "    string_value: \"/usr/local/google/home/joeyounglee/git-repos/tfx_oss.git/tfx/examples/chicago_taxi_pipeline/taxi_pipeline/local/lib/python3.6/site-packages/tfx/examples/chicago_taxi_pipeline/taxi_utils.py\"\n",
      "  }\n",
      "}\n",
      "properties {\n",
      "  key: \"pipeline_name\"\n",
      "  value {\n",
      "    string_value: \"interactive-2019-09-13T16_46_14.222336\"\n",
      "  }\n",
      "}\n",
      "properties {\n",
      "  key: \"pipeline_root\"\n",
      "  value {\n",
      "    string_value: \"/tmp/tfx-interactive-2019-09-13T16_46_14.222336-5zedre0a\"\n",
      "  }\n",
      "}\n",
      "properties {\n",
      "  key: \"run_id\"\n",
      "  value {\n",
      "    string_value: \"2019-09-13T16:46:54.357939\"\n",
      "  }\n",
      "}\n",
      "properties {\n",
      "  key: \"state\"\n",
      "  value {\n",
      "    string_value: \"complete\"\n",
      "  }\n",
      "}\n",
      "properties {\n",
      "  key: \"train_args\"\n",
      "  value {\n",
      "    string_value: \"{\\n  \\\"numSteps\\\": 250\\n}\"\n",
      "  }\n",
      "}\n",
      "properties {\n",
      "  key: \"trainer_fn\"\n",
      "  value {\n",
      "    string_value: \"None\"\n",
      "  }\n",
      "}\n",
      ", with inputs {'examples': [Artifact(type_name: ExamplesPath, uri: /tmp/tfx-interactive-2019-09-13T16_46_14.222336-5zedre0a/Transform/transformed_examples/5/train/, split: train, id: 9), Artifact(type_name: ExamplesPath, uri: /tmp/tfx-interactive-2019-09-13T16_46_14.222336-5zedre0a/Transform/transformed_examples/5/eval/, split: eval, id: 10)], 'transform_output': [Artifact(type_name: TransformPath, uri: /tmp/tfx-interactive-2019-09-13T16_46_14.222336-5zedre0a/Transform/transform_output/5/, split: , id: 8)], 'schema': [Artifact(type_name: SchemaPath, uri: /tmp/tfx-interactive-2019-09-13T16_46_14.222336-5zedre0a/SchemaGen/output/3/, split: , id: 6)]} and outputs {'output': [Artifact(type_name: ModelExportPath, uri: /tmp/tfx-interactive-2019-09-13T16_46_14.222336-5zedre0a/Trainer/output/6/, split: , id: 0)]}\n"
     ]
    },
    {
     "name": "stdout",
     "output_type": "stream",
     "text": [
      "INFO:tensorflow:Published execution with final outputs {'output': [Artifact(type_name: ModelExportPath, uri: /tmp/tfx-interactive-2019-09-13T16_46_14.222336-5zedre0a/Trainer/output/6/, split: , id: 11)]}\n"
     ]
    },
    {
     "name": "stderr",
     "output_type": "stream",
     "text": [
      "INFO:tensorflow:Published execution with final outputs {'output': [Artifact(type_name: ModelExportPath, uri: /tmp/tfx-interactive-2019-09-13T16_46_14.222336-5zedre0a/Trainer/output/6/, split: , id: 11)]}\n"
     ]
    },
    {
     "data": {
      "text/html": [
       "<style>\n",
       ".tfx-object.expanded {\n",
       "  padding: 4px 8px 4px 8px;\n",
       "  background: white;\n",
       "  border: 1px solid #bbbbbb;\n",
       "  box-shadow: 4px 4px 2px rgba(0,0,0,0.05);\n",
       "}\n",
       ".tfx-object, .tfx-object * {\n",
       "  font-size: 11pt;\n",
       "}\n",
       ".tfx-object > .title {\n",
       "  cursor: pointer;\n",
       "}\n",
       ".tfx-object .expansion-marker {\n",
       "  color: #999999;\n",
       "}\n",
       ".tfx-object.expanded > .title > .expansion-marker:before {\n",
       "  content: '▼';\n",
       "}\n",
       ".tfx-object.collapsed > .title > .expansion-marker:before {\n",
       "  content: '▶';\n",
       "}\n",
       ".tfx-object .class-name {\n",
       "  font-weight: bold;\n",
       "}\n",
       ".tfx-object .deemphasize {\n",
       "  opacity: 0.5;\n",
       "}\n",
       ".tfx-object.collapsed > table.attr-table {\n",
       "  display: none;\n",
       "}\n",
       ".tfx-object.expanded > table.attr-table {\n",
       "  display: block;\n",
       "}\n",
       ".tfx-object table.attr-table {\n",
       "  border: 2px solid white;\n",
       "  margin-top: 5px;\n",
       "}\n",
       ".tfx-object table.attr-table td.attr-name {\n",
       "  vertical-align: top;\n",
       "  font-weight: bold;\n",
       "}\n",
       ".tfx-object table.attr-table td.attrvalue {\n",
       "  text-align: left;\n",
       "}\n",
       "</style>\n",
       "<script>\n",
       "function toggleTfxObject(element) {\n",
       "  var objElement = element.parentElement;\n",
       "  if (objElement.classList.contains('collapsed')) {\n",
       "    objElement.classList.remove('collapsed');\n",
       "    objElement.classList.add('expanded');\n",
       "  } else {\n",
       "    objElement.classList.add('collapsed');\n",
       "    objElement.classList.remove('expanded');\n",
       "  }\n",
       "}\n",
       "</script>\n",
       "<div class=\"tfx-object expanded\"><div class = \"title\" onclick=\"toggleTfxObject(this)\"><span class=\"expansion-marker\"></span><span class=\"class-name\">ExecutionResult</span><span class=\"deemphasize\"> at 0x7face852c390</span></div><table class=\"attr-table\"><tr><td class=\"attr-name\">.execution_id</td><td class = \"attrvalue\">6</td></tr><tr><td class=\"attr-name\">.component</td><td class = \"attrvalue\"><style>\n",
       ".tfx-object.expanded {\n",
       "  padding: 4px 8px 4px 8px;\n",
       "  background: white;\n",
       "  border: 1px solid #bbbbbb;\n",
       "  box-shadow: 4px 4px 2px rgba(0,0,0,0.05);\n",
       "}\n",
       ".tfx-object, .tfx-object * {\n",
       "  font-size: 11pt;\n",
       "}\n",
       ".tfx-object > .title {\n",
       "  cursor: pointer;\n",
       "}\n",
       ".tfx-object .expansion-marker {\n",
       "  color: #999999;\n",
       "}\n",
       ".tfx-object.expanded > .title > .expansion-marker:before {\n",
       "  content: '▼';\n",
       "}\n",
       ".tfx-object.collapsed > .title > .expansion-marker:before {\n",
       "  content: '▶';\n",
       "}\n",
       ".tfx-object .class-name {\n",
       "  font-weight: bold;\n",
       "}\n",
       ".tfx-object .deemphasize {\n",
       "  opacity: 0.5;\n",
       "}\n",
       ".tfx-object.collapsed > table.attr-table {\n",
       "  display: none;\n",
       "}\n",
       ".tfx-object.expanded > table.attr-table {\n",
       "  display: block;\n",
       "}\n",
       ".tfx-object table.attr-table {\n",
       "  border: 2px solid white;\n",
       "  margin-top: 5px;\n",
       "}\n",
       ".tfx-object table.attr-table td.attr-name {\n",
       "  vertical-align: top;\n",
       "  font-weight: bold;\n",
       "}\n",
       ".tfx-object table.attr-table td.attrvalue {\n",
       "  text-align: left;\n",
       "}\n",
       "</style>\n",
       "<script>\n",
       "function toggleTfxObject(element) {\n",
       "  var objElement = element.parentElement;\n",
       "  if (objElement.classList.contains('collapsed')) {\n",
       "    objElement.classList.remove('collapsed');\n",
       "    objElement.classList.add('expanded');\n",
       "  } else {\n",
       "    objElement.classList.add('collapsed');\n",
       "    objElement.classList.remove('expanded');\n",
       "  }\n",
       "}\n",
       "</script>\n",
       "<div class=\"tfx-object collapsed\"><div class = \"title\" onclick=\"toggleTfxObject(this)\"><span class=\"expansion-marker\"></span><span class=\"class-name\">Trainer</span><span class=\"deemphasize\"> at 0x7fac24103b70</span></div><table class=\"attr-table\"><tr><td class=\"attr-name\">.inputs</td><td class = \"attrvalue\"><table class=\"attr-table\"><tr><td class=\"attr-name\">['examples']</td><td class = \"attrvalue\"><style>\n",
       ".tfx-object.expanded {\n",
       "  padding: 4px 8px 4px 8px;\n",
       "  background: white;\n",
       "  border: 1px solid #bbbbbb;\n",
       "  box-shadow: 4px 4px 2px rgba(0,0,0,0.05);\n",
       "}\n",
       ".tfx-object, .tfx-object * {\n",
       "  font-size: 11pt;\n",
       "}\n",
       ".tfx-object > .title {\n",
       "  cursor: pointer;\n",
       "}\n",
       ".tfx-object .expansion-marker {\n",
       "  color: #999999;\n",
       "}\n",
       ".tfx-object.expanded > .title > .expansion-marker:before {\n",
       "  content: '▼';\n",
       "}\n",
       ".tfx-object.collapsed > .title > .expansion-marker:before {\n",
       "  content: '▶';\n",
       "}\n",
       ".tfx-object .class-name {\n",
       "  font-weight: bold;\n",
       "}\n",
       ".tfx-object .deemphasize {\n",
       "  opacity: 0.5;\n",
       "}\n",
       ".tfx-object.collapsed > table.attr-table {\n",
       "  display: none;\n",
       "}\n",
       ".tfx-object.expanded > table.attr-table {\n",
       "  display: block;\n",
       "}\n",
       ".tfx-object table.attr-table {\n",
       "  border: 2px solid white;\n",
       "  margin-top: 5px;\n",
       "}\n",
       ".tfx-object table.attr-table td.attr-name {\n",
       "  vertical-align: top;\n",
       "  font-weight: bold;\n",
       "}\n",
       ".tfx-object table.attr-table td.attrvalue {\n",
       "  text-align: left;\n",
       "}\n",
       "</style>\n",
       "<script>\n",
       "function toggleTfxObject(element) {\n",
       "  var objElement = element.parentElement;\n",
       "  if (objElement.classList.contains('collapsed')) {\n",
       "    objElement.classList.remove('collapsed');\n",
       "    objElement.classList.add('expanded');\n",
       "  } else {\n",
       "    objElement.classList.add('collapsed');\n",
       "    objElement.classList.remove('expanded');\n",
       "  }\n",
       "}\n",
       "</script>\n",
       "<div class=\"tfx-object collapsed\"><div class = \"title\" onclick=\"toggleTfxObject(this)\"><span class=\"expansion-marker\"></span><span class=\"class-name\">Channel</span> of type <span class=\"class-name\">'ExamplesPath'</span> (2 artifacts)<span class=\"deemphasize\"> at 0x7fada63d8198</span></div><table class=\"attr-table\"><tr><td class=\"attr-name\">.type_name</td><td class = \"attrvalue\">ExamplesPath</td></tr><tr><td class=\"attr-name\">._artifacts</td><td class = \"attrvalue\"><table class=\"attr-table\"><tr><td class=\"attr-name\">[0]</td><td class = \"attrvalue\"><style>\n",
       ".tfx-object.expanded {\n",
       "  padding: 4px 8px 4px 8px;\n",
       "  background: white;\n",
       "  border: 1px solid #bbbbbb;\n",
       "  box-shadow: 4px 4px 2px rgba(0,0,0,0.05);\n",
       "}\n",
       ".tfx-object, .tfx-object * {\n",
       "  font-size: 11pt;\n",
       "}\n",
       ".tfx-object > .title {\n",
       "  cursor: pointer;\n",
       "}\n",
       ".tfx-object .expansion-marker {\n",
       "  color: #999999;\n",
       "}\n",
       ".tfx-object.expanded > .title > .expansion-marker:before {\n",
       "  content: '▼';\n",
       "}\n",
       ".tfx-object.collapsed > .title > .expansion-marker:before {\n",
       "  content: '▶';\n",
       "}\n",
       ".tfx-object .class-name {\n",
       "  font-weight: bold;\n",
       "}\n",
       ".tfx-object .deemphasize {\n",
       "  opacity: 0.5;\n",
       "}\n",
       ".tfx-object.collapsed > table.attr-table {\n",
       "  display: none;\n",
       "}\n",
       ".tfx-object.expanded > table.attr-table {\n",
       "  display: block;\n",
       "}\n",
       ".tfx-object table.attr-table {\n",
       "  border: 2px solid white;\n",
       "  margin-top: 5px;\n",
       "}\n",
       ".tfx-object table.attr-table td.attr-name {\n",
       "  vertical-align: top;\n",
       "  font-weight: bold;\n",
       "}\n",
       ".tfx-object table.attr-table td.attrvalue {\n",
       "  text-align: left;\n",
       "}\n",
       "</style>\n",
       "<script>\n",
       "function toggleTfxObject(element) {\n",
       "  var objElement = element.parentElement;\n",
       "  if (objElement.classList.contains('collapsed')) {\n",
       "    objElement.classList.remove('collapsed');\n",
       "    objElement.classList.add('expanded');\n",
       "  } else {\n",
       "    objElement.classList.add('collapsed');\n",
       "    objElement.classList.remove('expanded');\n",
       "  }\n",
       "}\n",
       "</script>\n",
       "<div class=\"tfx-object collapsed\"><div class = \"title\" onclick=\"toggleTfxObject(this)\"><span class=\"expansion-marker\"></span><span class=\"class-name\">Artifact</span> of type <span class=\"class-name\">'ExamplesPath'</span> (uri: /tmp/tfx-interactive-2019-09-13T16_46_14.222336-5zedre0a/Transform/transformed_examples/5/train/)<span class=\"deemphasize\"> at 0x7fada63d8828</span></div><table class=\"attr-table\"><tr><td class=\"attr-name\">.type_name</td><td class = \"attrvalue\">ExamplesPath</td></tr><tr><td class=\"attr-name\">.uri</td><td class = \"attrvalue\">/tmp/tfx-interactive-2019-09-13T16_46_14.222336-5zedre0a/Transform/transformed_examples/5/train/</td></tr><tr><td class=\"attr-name\">.span</td><td class = \"attrvalue\">0</td></tr><tr><td class=\"attr-name\">.split</td><td class = \"attrvalue\">train</td></tr></table></div></td></tr><tr><td class=\"attr-name\">[1]</td><td class = \"attrvalue\"><style>\n",
       ".tfx-object.expanded {\n",
       "  padding: 4px 8px 4px 8px;\n",
       "  background: white;\n",
       "  border: 1px solid #bbbbbb;\n",
       "  box-shadow: 4px 4px 2px rgba(0,0,0,0.05);\n",
       "}\n",
       ".tfx-object, .tfx-object * {\n",
       "  font-size: 11pt;\n",
       "}\n",
       ".tfx-object > .title {\n",
       "  cursor: pointer;\n",
       "}\n",
       ".tfx-object .expansion-marker {\n",
       "  color: #999999;\n",
       "}\n",
       ".tfx-object.expanded > .title > .expansion-marker:before {\n",
       "  content: '▼';\n",
       "}\n",
       ".tfx-object.collapsed > .title > .expansion-marker:before {\n",
       "  content: '▶';\n",
       "}\n",
       ".tfx-object .class-name {\n",
       "  font-weight: bold;\n",
       "}\n",
       ".tfx-object .deemphasize {\n",
       "  opacity: 0.5;\n",
       "}\n",
       ".tfx-object.collapsed > table.attr-table {\n",
       "  display: none;\n",
       "}\n",
       ".tfx-object.expanded > table.attr-table {\n",
       "  display: block;\n",
       "}\n",
       ".tfx-object table.attr-table {\n",
       "  border: 2px solid white;\n",
       "  margin-top: 5px;\n",
       "}\n",
       ".tfx-object table.attr-table td.attr-name {\n",
       "  vertical-align: top;\n",
       "  font-weight: bold;\n",
       "}\n",
       ".tfx-object table.attr-table td.attrvalue {\n",
       "  text-align: left;\n",
       "}\n",
       "</style>\n",
       "<script>\n",
       "function toggleTfxObject(element) {\n",
       "  var objElement = element.parentElement;\n",
       "  if (objElement.classList.contains('collapsed')) {\n",
       "    objElement.classList.remove('collapsed');\n",
       "    objElement.classList.add('expanded');\n",
       "  } else {\n",
       "    objElement.classList.add('collapsed');\n",
       "    objElement.classList.remove('expanded');\n",
       "  }\n",
       "}\n",
       "</script>\n",
       "<div class=\"tfx-object collapsed\"><div class = \"title\" onclick=\"toggleTfxObject(this)\"><span class=\"expansion-marker\"></span><span class=\"class-name\">Artifact</span> of type <span class=\"class-name\">'ExamplesPath'</span> (uri: /tmp/tfx-interactive-2019-09-13T16_46_14.222336-5zedre0a/Transform/transformed_examples/5/eval/)<span class=\"deemphasize\"> at 0x7fada63d8a20</span></div><table class=\"attr-table\"><tr><td class=\"attr-name\">.type_name</td><td class = \"attrvalue\">ExamplesPath</td></tr><tr><td class=\"attr-name\">.uri</td><td class = \"attrvalue\">/tmp/tfx-interactive-2019-09-13T16_46_14.222336-5zedre0a/Transform/transformed_examples/5/eval/</td></tr><tr><td class=\"attr-name\">.span</td><td class = \"attrvalue\">0</td></tr><tr><td class=\"attr-name\">.split</td><td class = \"attrvalue\">eval</td></tr></table></div></td></tr></table></td></tr></table></div></td></tr><tr><td class=\"attr-name\">['transform_output']</td><td class = \"attrvalue\"><style>\n",
       ".tfx-object.expanded {\n",
       "  padding: 4px 8px 4px 8px;\n",
       "  background: white;\n",
       "  border: 1px solid #bbbbbb;\n",
       "  box-shadow: 4px 4px 2px rgba(0,0,0,0.05);\n",
       "}\n",
       ".tfx-object, .tfx-object * {\n",
       "  font-size: 11pt;\n",
       "}\n",
       ".tfx-object > .title {\n",
       "  cursor: pointer;\n",
       "}\n",
       ".tfx-object .expansion-marker {\n",
       "  color: #999999;\n",
       "}\n",
       ".tfx-object.expanded > .title > .expansion-marker:before {\n",
       "  content: '▼';\n",
       "}\n",
       ".tfx-object.collapsed > .title > .expansion-marker:before {\n",
       "  content: '▶';\n",
       "}\n",
       ".tfx-object .class-name {\n",
       "  font-weight: bold;\n",
       "}\n",
       ".tfx-object .deemphasize {\n",
       "  opacity: 0.5;\n",
       "}\n",
       ".tfx-object.collapsed > table.attr-table {\n",
       "  display: none;\n",
       "}\n",
       ".tfx-object.expanded > table.attr-table {\n",
       "  display: block;\n",
       "}\n",
       ".tfx-object table.attr-table {\n",
       "  border: 2px solid white;\n",
       "  margin-top: 5px;\n",
       "}\n",
       ".tfx-object table.attr-table td.attr-name {\n",
       "  vertical-align: top;\n",
       "  font-weight: bold;\n",
       "}\n",
       ".tfx-object table.attr-table td.attrvalue {\n",
       "  text-align: left;\n",
       "}\n",
       "</style>\n",
       "<script>\n",
       "function toggleTfxObject(element) {\n",
       "  var objElement = element.parentElement;\n",
       "  if (objElement.classList.contains('collapsed')) {\n",
       "    objElement.classList.remove('collapsed');\n",
       "    objElement.classList.add('expanded');\n",
       "  } else {\n",
       "    objElement.classList.add('collapsed');\n",
       "    objElement.classList.remove('expanded');\n",
       "  }\n",
       "}\n",
       "</script>\n",
       "<div class=\"tfx-object collapsed\"><div class = \"title\" onclick=\"toggleTfxObject(this)\"><span class=\"expansion-marker\"></span><span class=\"class-name\">Channel</span> of type <span class=\"class-name\">'TransformPath'</span> (1 artifact)<span class=\"deemphasize\"> at 0x7fada63d87f0</span></div><table class=\"attr-table\"><tr><td class=\"attr-name\">.type_name</td><td class = \"attrvalue\">TransformPath</td></tr><tr><td class=\"attr-name\">._artifacts</td><td class = \"attrvalue\"><table class=\"attr-table\"><tr><td class=\"attr-name\">[0]</td><td class = \"attrvalue\"><style>\n",
       ".tfx-object.expanded {\n",
       "  padding: 4px 8px 4px 8px;\n",
       "  background: white;\n",
       "  border: 1px solid #bbbbbb;\n",
       "  box-shadow: 4px 4px 2px rgba(0,0,0,0.05);\n",
       "}\n",
       ".tfx-object, .tfx-object * {\n",
       "  font-size: 11pt;\n",
       "}\n",
       ".tfx-object > .title {\n",
       "  cursor: pointer;\n",
       "}\n",
       ".tfx-object .expansion-marker {\n",
       "  color: #999999;\n",
       "}\n",
       ".tfx-object.expanded > .title > .expansion-marker:before {\n",
       "  content: '▼';\n",
       "}\n",
       ".tfx-object.collapsed > .title > .expansion-marker:before {\n",
       "  content: '▶';\n",
       "}\n",
       ".tfx-object .class-name {\n",
       "  font-weight: bold;\n",
       "}\n",
       ".tfx-object .deemphasize {\n",
       "  opacity: 0.5;\n",
       "}\n",
       ".tfx-object.collapsed > table.attr-table {\n",
       "  display: none;\n",
       "}\n",
       ".tfx-object.expanded > table.attr-table {\n",
       "  display: block;\n",
       "}\n",
       ".tfx-object table.attr-table {\n",
       "  border: 2px solid white;\n",
       "  margin-top: 5px;\n",
       "}\n",
       ".tfx-object table.attr-table td.attr-name {\n",
       "  vertical-align: top;\n",
       "  font-weight: bold;\n",
       "}\n",
       ".tfx-object table.attr-table td.attrvalue {\n",
       "  text-align: left;\n",
       "}\n",
       "</style>\n",
       "<script>\n",
       "function toggleTfxObject(element) {\n",
       "  var objElement = element.parentElement;\n",
       "  if (objElement.classList.contains('collapsed')) {\n",
       "    objElement.classList.remove('collapsed');\n",
       "    objElement.classList.add('expanded');\n",
       "  } else {\n",
       "    objElement.classList.add('collapsed');\n",
       "    objElement.classList.remove('expanded');\n",
       "  }\n",
       "}\n",
       "</script>\n",
       "<div class=\"tfx-object collapsed\"><div class = \"title\" onclick=\"toggleTfxObject(this)\"><span class=\"expansion-marker\"></span><span class=\"class-name\">Artifact</span> of type <span class=\"class-name\">'TransformPath'</span> (uri: /tmp/tfx-interactive-2019-09-13T16_46_14.222336-5zedre0a/Transform/transform_output/5/)<span class=\"deemphasize\"> at 0x7fada63d8b00</span></div><table class=\"attr-table\"><tr><td class=\"attr-name\">.type_name</td><td class = \"attrvalue\">TransformPath</td></tr><tr><td class=\"attr-name\">.uri</td><td class = \"attrvalue\">/tmp/tfx-interactive-2019-09-13T16_46_14.222336-5zedre0a/Transform/transform_output/5/</td></tr><tr><td class=\"attr-name\">.span</td><td class = \"attrvalue\">0</td></tr><tr><td class=\"attr-name\">.split</td><td class = \"attrvalue\"></td></tr></table></div></td></tr></table></td></tr></table></div></td></tr><tr><td class=\"attr-name\">['schema']</td><td class = \"attrvalue\"><style>\n",
       ".tfx-object.expanded {\n",
       "  padding: 4px 8px 4px 8px;\n",
       "  background: white;\n",
       "  border: 1px solid #bbbbbb;\n",
       "  box-shadow: 4px 4px 2px rgba(0,0,0,0.05);\n",
       "}\n",
       ".tfx-object, .tfx-object * {\n",
       "  font-size: 11pt;\n",
       "}\n",
       ".tfx-object > .title {\n",
       "  cursor: pointer;\n",
       "}\n",
       ".tfx-object .expansion-marker {\n",
       "  color: #999999;\n",
       "}\n",
       ".tfx-object.expanded > .title > .expansion-marker:before {\n",
       "  content: '▼';\n",
       "}\n",
       ".tfx-object.collapsed > .title > .expansion-marker:before {\n",
       "  content: '▶';\n",
       "}\n",
       ".tfx-object .class-name {\n",
       "  font-weight: bold;\n",
       "}\n",
       ".tfx-object .deemphasize {\n",
       "  opacity: 0.5;\n",
       "}\n",
       ".tfx-object.collapsed > table.attr-table {\n",
       "  display: none;\n",
       "}\n",
       ".tfx-object.expanded > table.attr-table {\n",
       "  display: block;\n",
       "}\n",
       ".tfx-object table.attr-table {\n",
       "  border: 2px solid white;\n",
       "  margin-top: 5px;\n",
       "}\n",
       ".tfx-object table.attr-table td.attr-name {\n",
       "  vertical-align: top;\n",
       "  font-weight: bold;\n",
       "}\n",
       ".tfx-object table.attr-table td.attrvalue {\n",
       "  text-align: left;\n",
       "}\n",
       "</style>\n",
       "<script>\n",
       "function toggleTfxObject(element) {\n",
       "  var objElement = element.parentElement;\n",
       "  if (objElement.classList.contains('collapsed')) {\n",
       "    objElement.classList.remove('collapsed');\n",
       "    objElement.classList.add('expanded');\n",
       "  } else {\n",
       "    objElement.classList.add('collapsed');\n",
       "    objElement.classList.remove('expanded');\n",
       "  }\n",
       "}\n",
       "</script>\n",
       "<div class=\"tfx-object collapsed\"><div class = \"title\" onclick=\"toggleTfxObject(this)\"><span class=\"expansion-marker\"></span><span class=\"class-name\">Channel</span> of type <span class=\"class-name\">'SchemaPath'</span> (1 artifact)<span class=\"deemphasize\"> at 0x7face81e1f28</span></div><table class=\"attr-table\"><tr><td class=\"attr-name\">.type_name</td><td class = \"attrvalue\">SchemaPath</td></tr><tr><td class=\"attr-name\">._artifacts</td><td class = \"attrvalue\"><table class=\"attr-table\"><tr><td class=\"attr-name\">[0]</td><td class = \"attrvalue\"><style>\n",
       ".tfx-object.expanded {\n",
       "  padding: 4px 8px 4px 8px;\n",
       "  background: white;\n",
       "  border: 1px solid #bbbbbb;\n",
       "  box-shadow: 4px 4px 2px rgba(0,0,0,0.05);\n",
       "}\n",
       ".tfx-object, .tfx-object * {\n",
       "  font-size: 11pt;\n",
       "}\n",
       ".tfx-object > .title {\n",
       "  cursor: pointer;\n",
       "}\n",
       ".tfx-object .expansion-marker {\n",
       "  color: #999999;\n",
       "}\n",
       ".tfx-object.expanded > .title > .expansion-marker:before {\n",
       "  content: '▼';\n",
       "}\n",
       ".tfx-object.collapsed > .title > .expansion-marker:before {\n",
       "  content: '▶';\n",
       "}\n",
       ".tfx-object .class-name {\n",
       "  font-weight: bold;\n",
       "}\n",
       ".tfx-object .deemphasize {\n",
       "  opacity: 0.5;\n",
       "}\n",
       ".tfx-object.collapsed > table.attr-table {\n",
       "  display: none;\n",
       "}\n",
       ".tfx-object.expanded > table.attr-table {\n",
       "  display: block;\n",
       "}\n",
       ".tfx-object table.attr-table {\n",
       "  border: 2px solid white;\n",
       "  margin-top: 5px;\n",
       "}\n",
       ".tfx-object table.attr-table td.attr-name {\n",
       "  vertical-align: top;\n",
       "  font-weight: bold;\n",
       "}\n",
       ".tfx-object table.attr-table td.attrvalue {\n",
       "  text-align: left;\n",
       "}\n",
       "</style>\n",
       "<script>\n",
       "function toggleTfxObject(element) {\n",
       "  var objElement = element.parentElement;\n",
       "  if (objElement.classList.contains('collapsed')) {\n",
       "    objElement.classList.remove('collapsed');\n",
       "    objElement.classList.add('expanded');\n",
       "  } else {\n",
       "    objElement.classList.add('collapsed');\n",
       "    objElement.classList.remove('expanded');\n",
       "  }\n",
       "}\n",
       "</script>\n",
       "<div class=\"tfx-object collapsed\"><div class = \"title\" onclick=\"toggleTfxObject(this)\"><span class=\"expansion-marker\"></span><span class=\"class-name\">Artifact</span> of type <span class=\"class-name\">'SchemaPath'</span> (uri: /tmp/tfx-interactive-2019-09-13T16_46_14.222336-5zedre0a/SchemaGen/output/3/)<span class=\"deemphasize\"> at 0x7fadad8aaf60</span></div><table class=\"attr-table\"><tr><td class=\"attr-name\">.type_name</td><td class = \"attrvalue\">SchemaPath</td></tr><tr><td class=\"attr-name\">.uri</td><td class = \"attrvalue\">/tmp/tfx-interactive-2019-09-13T16_46_14.222336-5zedre0a/SchemaGen/output/3/</td></tr><tr><td class=\"attr-name\">.span</td><td class = \"attrvalue\">0</td></tr><tr><td class=\"attr-name\">.split</td><td class = \"attrvalue\"></td></tr></table></div></td></tr></table></td></tr></table></div></td></tr></table></td></tr><tr><td class=\"attr-name\">.outputs</td><td class = \"attrvalue\"><table class=\"attr-table\"><tr><td class=\"attr-name\">['output']</td><td class = \"attrvalue\"><style>\n",
       ".tfx-object.expanded {\n",
       "  padding: 4px 8px 4px 8px;\n",
       "  background: white;\n",
       "  border: 1px solid #bbbbbb;\n",
       "  box-shadow: 4px 4px 2px rgba(0,0,0,0.05);\n",
       "}\n",
       ".tfx-object, .tfx-object * {\n",
       "  font-size: 11pt;\n",
       "}\n",
       ".tfx-object > .title {\n",
       "  cursor: pointer;\n",
       "}\n",
       ".tfx-object .expansion-marker {\n",
       "  color: #999999;\n",
       "}\n",
       ".tfx-object.expanded > .title > .expansion-marker:before {\n",
       "  content: '▼';\n",
       "}\n",
       ".tfx-object.collapsed > .title > .expansion-marker:before {\n",
       "  content: '▶';\n",
       "}\n",
       ".tfx-object .class-name {\n",
       "  font-weight: bold;\n",
       "}\n",
       ".tfx-object .deemphasize {\n",
       "  opacity: 0.5;\n",
       "}\n",
       ".tfx-object.collapsed > table.attr-table {\n",
       "  display: none;\n",
       "}\n",
       ".tfx-object.expanded > table.attr-table {\n",
       "  display: block;\n",
       "}\n",
       ".tfx-object table.attr-table {\n",
       "  border: 2px solid white;\n",
       "  margin-top: 5px;\n",
       "}\n",
       ".tfx-object table.attr-table td.attr-name {\n",
       "  vertical-align: top;\n",
       "  font-weight: bold;\n",
       "}\n",
       ".tfx-object table.attr-table td.attrvalue {\n",
       "  text-align: left;\n",
       "}\n",
       "</style>\n",
       "<script>\n",
       "function toggleTfxObject(element) {\n",
       "  var objElement = element.parentElement;\n",
       "  if (objElement.classList.contains('collapsed')) {\n",
       "    objElement.classList.remove('collapsed');\n",
       "    objElement.classList.add('expanded');\n",
       "  } else {\n",
       "    objElement.classList.add('collapsed');\n",
       "    objElement.classList.remove('expanded');\n",
       "  }\n",
       "}\n",
       "</script>\n",
       "<div class=\"tfx-object collapsed\"><div class = \"title\" onclick=\"toggleTfxObject(this)\"><span class=\"expansion-marker\"></span><span class=\"class-name\">Channel</span> of type <span class=\"class-name\">'ModelExportPath'</span> (1 artifact)<span class=\"deemphasize\"> at 0x7face15a15c0</span></div><table class=\"attr-table\"><tr><td class=\"attr-name\">.type_name</td><td class = \"attrvalue\">ModelExportPath</td></tr><tr><td class=\"attr-name\">._artifacts</td><td class = \"attrvalue\"><table class=\"attr-table\"><tr><td class=\"attr-name\">[0]</td><td class = \"attrvalue\"><style>\n",
       ".tfx-object.expanded {\n",
       "  padding: 4px 8px 4px 8px;\n",
       "  background: white;\n",
       "  border: 1px solid #bbbbbb;\n",
       "  box-shadow: 4px 4px 2px rgba(0,0,0,0.05);\n",
       "}\n",
       ".tfx-object, .tfx-object * {\n",
       "  font-size: 11pt;\n",
       "}\n",
       ".tfx-object > .title {\n",
       "  cursor: pointer;\n",
       "}\n",
       ".tfx-object .expansion-marker {\n",
       "  color: #999999;\n",
       "}\n",
       ".tfx-object.expanded > .title > .expansion-marker:before {\n",
       "  content: '▼';\n",
       "}\n",
       ".tfx-object.collapsed > .title > .expansion-marker:before {\n",
       "  content: '▶';\n",
       "}\n",
       ".tfx-object .class-name {\n",
       "  font-weight: bold;\n",
       "}\n",
       ".tfx-object .deemphasize {\n",
       "  opacity: 0.5;\n",
       "}\n",
       ".tfx-object.collapsed > table.attr-table {\n",
       "  display: none;\n",
       "}\n",
       ".tfx-object.expanded > table.attr-table {\n",
       "  display: block;\n",
       "}\n",
       ".tfx-object table.attr-table {\n",
       "  border: 2px solid white;\n",
       "  margin-top: 5px;\n",
       "}\n",
       ".tfx-object table.attr-table td.attr-name {\n",
       "  vertical-align: top;\n",
       "  font-weight: bold;\n",
       "}\n",
       ".tfx-object table.attr-table td.attrvalue {\n",
       "  text-align: left;\n",
       "}\n",
       "</style>\n",
       "<script>\n",
       "function toggleTfxObject(element) {\n",
       "  var objElement = element.parentElement;\n",
       "  if (objElement.classList.contains('collapsed')) {\n",
       "    objElement.classList.remove('collapsed');\n",
       "    objElement.classList.add('expanded');\n",
       "  } else {\n",
       "    objElement.classList.add('collapsed');\n",
       "    objElement.classList.remove('expanded');\n",
       "  }\n",
       "}\n",
       "</script>\n",
       "<div class=\"tfx-object collapsed\"><div class = \"title\" onclick=\"toggleTfxObject(this)\"><span class=\"expansion-marker\"></span><span class=\"class-name\">Artifact</span> of type <span class=\"class-name\">'ModelExportPath'</span> (uri: /tmp/tfx-interactive-2019-09-13T16_46_14.222336-5zedre0a/Trainer/output/6/)<span class=\"deemphasize\"> at 0x7fac844948d0</span></div><table class=\"attr-table\"><tr><td class=\"attr-name\">.type_name</td><td class = \"attrvalue\">ModelExportPath</td></tr><tr><td class=\"attr-name\">.uri</td><td class = \"attrvalue\">/tmp/tfx-interactive-2019-09-13T16_46_14.222336-5zedre0a/Trainer/output/6/</td></tr><tr><td class=\"attr-name\">.span</td><td class = \"attrvalue\">0</td></tr><tr><td class=\"attr-name\">.split</td><td class = \"attrvalue\"></td></tr></table></div></td></tr></table></td></tr></table></div></td></tr></table></td></tr><tr><td class=\"attr-name\">.exec_properties</td><td class = \"attrvalue\"><table class=\"attr-table\"><tr><td class=\"attr-name\">['train_args']</td><td class = \"attrvalue\">{\n",
       "  \"numSteps\": 250\n",
       "}</td></tr><tr><td class=\"attr-name\">['eval_args']</td><td class = \"attrvalue\">{\n",
       "  \"numSteps\": 125\n",
       "}</td></tr><tr><td class=\"attr-name\">['module_file']</td><td class = \"attrvalue\">/usr/local/google/home/joeyounglee/git-repos/tfx_oss.git/tfx/examples/chicago_taxi_pipeline/taxi_pipeline/local/lib/python3.6/site-packages/tfx/examples/chicago_taxi_pipeline/taxi_utils.py</td></tr><tr><td class=\"attr-name\">['trainer_fn']</td><td class = \"attrvalue\">None</td></tr><tr><td class=\"attr-name\">['custom_config']</td><td class = \"attrvalue\">None</td></tr></table></td></tr></table></div></td></tr><tr><td class=\"attr-name\">.component.inputs</td><td class = \"attrvalue\"><table class=\"attr-table\"><tr><td class=\"attr-name\">['examples']</td><td class = \"attrvalue\"><style>\n",
       ".tfx-object.expanded {\n",
       "  padding: 4px 8px 4px 8px;\n",
       "  background: white;\n",
       "  border: 1px solid #bbbbbb;\n",
       "  box-shadow: 4px 4px 2px rgba(0,0,0,0.05);\n",
       "}\n",
       ".tfx-object, .tfx-object * {\n",
       "  font-size: 11pt;\n",
       "}\n",
       ".tfx-object > .title {\n",
       "  cursor: pointer;\n",
       "}\n",
       ".tfx-object .expansion-marker {\n",
       "  color: #999999;\n",
       "}\n",
       ".tfx-object.expanded > .title > .expansion-marker:before {\n",
       "  content: '▼';\n",
       "}\n",
       ".tfx-object.collapsed > .title > .expansion-marker:before {\n",
       "  content: '▶';\n",
       "}\n",
       ".tfx-object .class-name {\n",
       "  font-weight: bold;\n",
       "}\n",
       ".tfx-object .deemphasize {\n",
       "  opacity: 0.5;\n",
       "}\n",
       ".tfx-object.collapsed > table.attr-table {\n",
       "  display: none;\n",
       "}\n",
       ".tfx-object.expanded > table.attr-table {\n",
       "  display: block;\n",
       "}\n",
       ".tfx-object table.attr-table {\n",
       "  border: 2px solid white;\n",
       "  margin-top: 5px;\n",
       "}\n",
       ".tfx-object table.attr-table td.attr-name {\n",
       "  vertical-align: top;\n",
       "  font-weight: bold;\n",
       "}\n",
       ".tfx-object table.attr-table td.attrvalue {\n",
       "  text-align: left;\n",
       "}\n",
       "</style>\n",
       "<script>\n",
       "function toggleTfxObject(element) {\n",
       "  var objElement = element.parentElement;\n",
       "  if (objElement.classList.contains('collapsed')) {\n",
       "    objElement.classList.remove('collapsed');\n",
       "    objElement.classList.add('expanded');\n",
       "  } else {\n",
       "    objElement.classList.add('collapsed');\n",
       "    objElement.classList.remove('expanded');\n",
       "  }\n",
       "}\n",
       "</script>\n",
       "<div class=\"tfx-object collapsed\"><div class = \"title\" onclick=\"toggleTfxObject(this)\"><span class=\"expansion-marker\"></span><span class=\"class-name\">Channel</span> of type <span class=\"class-name\">'ExamplesPath'</span> (2 artifacts)<span class=\"deemphasize\"> at 0x7fada63d8198</span></div><table class=\"attr-table\"><tr><td class=\"attr-name\">.type_name</td><td class = \"attrvalue\">ExamplesPath</td></tr><tr><td class=\"attr-name\">._artifacts</td><td class = \"attrvalue\"><table class=\"attr-table\"><tr><td class=\"attr-name\">[0]</td><td class = \"attrvalue\"><style>\n",
       ".tfx-object.expanded {\n",
       "  padding: 4px 8px 4px 8px;\n",
       "  background: white;\n",
       "  border: 1px solid #bbbbbb;\n",
       "  box-shadow: 4px 4px 2px rgba(0,0,0,0.05);\n",
       "}\n",
       ".tfx-object, .tfx-object * {\n",
       "  font-size: 11pt;\n",
       "}\n",
       ".tfx-object > .title {\n",
       "  cursor: pointer;\n",
       "}\n",
       ".tfx-object .expansion-marker {\n",
       "  color: #999999;\n",
       "}\n",
       ".tfx-object.expanded > .title > .expansion-marker:before {\n",
       "  content: '▼';\n",
       "}\n",
       ".tfx-object.collapsed > .title > .expansion-marker:before {\n",
       "  content: '▶';\n",
       "}\n",
       ".tfx-object .class-name {\n",
       "  font-weight: bold;\n",
       "}\n",
       ".tfx-object .deemphasize {\n",
       "  opacity: 0.5;\n",
       "}\n",
       ".tfx-object.collapsed > table.attr-table {\n",
       "  display: none;\n",
       "}\n",
       ".tfx-object.expanded > table.attr-table {\n",
       "  display: block;\n",
       "}\n",
       ".tfx-object table.attr-table {\n",
       "  border: 2px solid white;\n",
       "  margin-top: 5px;\n",
       "}\n",
       ".tfx-object table.attr-table td.attr-name {\n",
       "  vertical-align: top;\n",
       "  font-weight: bold;\n",
       "}\n",
       ".tfx-object table.attr-table td.attrvalue {\n",
       "  text-align: left;\n",
       "}\n",
       "</style>\n",
       "<script>\n",
       "function toggleTfxObject(element) {\n",
       "  var objElement = element.parentElement;\n",
       "  if (objElement.classList.contains('collapsed')) {\n",
       "    objElement.classList.remove('collapsed');\n",
       "    objElement.classList.add('expanded');\n",
       "  } else {\n",
       "    objElement.classList.add('collapsed');\n",
       "    objElement.classList.remove('expanded');\n",
       "  }\n",
       "}\n",
       "</script>\n",
       "<div class=\"tfx-object collapsed\"><div class = \"title\" onclick=\"toggleTfxObject(this)\"><span class=\"expansion-marker\"></span><span class=\"class-name\">Artifact</span> of type <span class=\"class-name\">'ExamplesPath'</span> (uri: /tmp/tfx-interactive-2019-09-13T16_46_14.222336-5zedre0a/Transform/transformed_examples/5/train/)<span class=\"deemphasize\"> at 0x7fada63d8828</span></div><table class=\"attr-table\"><tr><td class=\"attr-name\">.type_name</td><td class = \"attrvalue\">ExamplesPath</td></tr><tr><td class=\"attr-name\">.uri</td><td class = \"attrvalue\">/tmp/tfx-interactive-2019-09-13T16_46_14.222336-5zedre0a/Transform/transformed_examples/5/train/</td></tr><tr><td class=\"attr-name\">.span</td><td class = \"attrvalue\">0</td></tr><tr><td class=\"attr-name\">.split</td><td class = \"attrvalue\">train</td></tr></table></div></td></tr><tr><td class=\"attr-name\">[1]</td><td class = \"attrvalue\"><style>\n",
       ".tfx-object.expanded {\n",
       "  padding: 4px 8px 4px 8px;\n",
       "  background: white;\n",
       "  border: 1px solid #bbbbbb;\n",
       "  box-shadow: 4px 4px 2px rgba(0,0,0,0.05);\n",
       "}\n",
       ".tfx-object, .tfx-object * {\n",
       "  font-size: 11pt;\n",
       "}\n",
       ".tfx-object > .title {\n",
       "  cursor: pointer;\n",
       "}\n",
       ".tfx-object .expansion-marker {\n",
       "  color: #999999;\n",
       "}\n",
       ".tfx-object.expanded > .title > .expansion-marker:before {\n",
       "  content: '▼';\n",
       "}\n",
       ".tfx-object.collapsed > .title > .expansion-marker:before {\n",
       "  content: '▶';\n",
       "}\n",
       ".tfx-object .class-name {\n",
       "  font-weight: bold;\n",
       "}\n",
       ".tfx-object .deemphasize {\n",
       "  opacity: 0.5;\n",
       "}\n",
       ".tfx-object.collapsed > table.attr-table {\n",
       "  display: none;\n",
       "}\n",
       ".tfx-object.expanded > table.attr-table {\n",
       "  display: block;\n",
       "}\n",
       ".tfx-object table.attr-table {\n",
       "  border: 2px solid white;\n",
       "  margin-top: 5px;\n",
       "}\n",
       ".tfx-object table.attr-table td.attr-name {\n",
       "  vertical-align: top;\n",
       "  font-weight: bold;\n",
       "}\n",
       ".tfx-object table.attr-table td.attrvalue {\n",
       "  text-align: left;\n",
       "}\n",
       "</style>\n",
       "<script>\n",
       "function toggleTfxObject(element) {\n",
       "  var objElement = element.parentElement;\n",
       "  if (objElement.classList.contains('collapsed')) {\n",
       "    objElement.classList.remove('collapsed');\n",
       "    objElement.classList.add('expanded');\n",
       "  } else {\n",
       "    objElement.classList.add('collapsed');\n",
       "    objElement.classList.remove('expanded');\n",
       "  }\n",
       "}\n",
       "</script>\n",
       "<div class=\"tfx-object collapsed\"><div class = \"title\" onclick=\"toggleTfxObject(this)\"><span class=\"expansion-marker\"></span><span class=\"class-name\">Artifact</span> of type <span class=\"class-name\">'ExamplesPath'</span> (uri: /tmp/tfx-interactive-2019-09-13T16_46_14.222336-5zedre0a/Transform/transformed_examples/5/eval/)<span class=\"deemphasize\"> at 0x7fada63d8a20</span></div><table class=\"attr-table\"><tr><td class=\"attr-name\">.type_name</td><td class = \"attrvalue\">ExamplesPath</td></tr><tr><td class=\"attr-name\">.uri</td><td class = \"attrvalue\">/tmp/tfx-interactive-2019-09-13T16_46_14.222336-5zedre0a/Transform/transformed_examples/5/eval/</td></tr><tr><td class=\"attr-name\">.span</td><td class = \"attrvalue\">0</td></tr><tr><td class=\"attr-name\">.split</td><td class = \"attrvalue\">eval</td></tr></table></div></td></tr></table></td></tr></table></div></td></tr><tr><td class=\"attr-name\">['transform_output']</td><td class = \"attrvalue\"><style>\n",
       ".tfx-object.expanded {\n",
       "  padding: 4px 8px 4px 8px;\n",
       "  background: white;\n",
       "  border: 1px solid #bbbbbb;\n",
       "  box-shadow: 4px 4px 2px rgba(0,0,0,0.05);\n",
       "}\n",
       ".tfx-object, .tfx-object * {\n",
       "  font-size: 11pt;\n",
       "}\n",
       ".tfx-object > .title {\n",
       "  cursor: pointer;\n",
       "}\n",
       ".tfx-object .expansion-marker {\n",
       "  color: #999999;\n",
       "}\n",
       ".tfx-object.expanded > .title > .expansion-marker:before {\n",
       "  content: '▼';\n",
       "}\n",
       ".tfx-object.collapsed > .title > .expansion-marker:before {\n",
       "  content: '▶';\n",
       "}\n",
       ".tfx-object .class-name {\n",
       "  font-weight: bold;\n",
       "}\n",
       ".tfx-object .deemphasize {\n",
       "  opacity: 0.5;\n",
       "}\n",
       ".tfx-object.collapsed > table.attr-table {\n",
       "  display: none;\n",
       "}\n",
       ".tfx-object.expanded > table.attr-table {\n",
       "  display: block;\n",
       "}\n",
       ".tfx-object table.attr-table {\n",
       "  border: 2px solid white;\n",
       "  margin-top: 5px;\n",
       "}\n",
       ".tfx-object table.attr-table td.attr-name {\n",
       "  vertical-align: top;\n",
       "  font-weight: bold;\n",
       "}\n",
       ".tfx-object table.attr-table td.attrvalue {\n",
       "  text-align: left;\n",
       "}\n",
       "</style>\n",
       "<script>\n",
       "function toggleTfxObject(element) {\n",
       "  var objElement = element.parentElement;\n",
       "  if (objElement.classList.contains('collapsed')) {\n",
       "    objElement.classList.remove('collapsed');\n",
       "    objElement.classList.add('expanded');\n",
       "  } else {\n",
       "    objElement.classList.add('collapsed');\n",
       "    objElement.classList.remove('expanded');\n",
       "  }\n",
       "}\n",
       "</script>\n",
       "<div class=\"tfx-object collapsed\"><div class = \"title\" onclick=\"toggleTfxObject(this)\"><span class=\"expansion-marker\"></span><span class=\"class-name\">Channel</span> of type <span class=\"class-name\">'TransformPath'</span> (1 artifact)<span class=\"deemphasize\"> at 0x7fada63d87f0</span></div><table class=\"attr-table\"><tr><td class=\"attr-name\">.type_name</td><td class = \"attrvalue\">TransformPath</td></tr><tr><td class=\"attr-name\">._artifacts</td><td class = \"attrvalue\"><table class=\"attr-table\"><tr><td class=\"attr-name\">[0]</td><td class = \"attrvalue\"><style>\n",
       ".tfx-object.expanded {\n",
       "  padding: 4px 8px 4px 8px;\n",
       "  background: white;\n",
       "  border: 1px solid #bbbbbb;\n",
       "  box-shadow: 4px 4px 2px rgba(0,0,0,0.05);\n",
       "}\n",
       ".tfx-object, .tfx-object * {\n",
       "  font-size: 11pt;\n",
       "}\n",
       ".tfx-object > .title {\n",
       "  cursor: pointer;\n",
       "}\n",
       ".tfx-object .expansion-marker {\n",
       "  color: #999999;\n",
       "}\n",
       ".tfx-object.expanded > .title > .expansion-marker:before {\n",
       "  content: '▼';\n",
       "}\n",
       ".tfx-object.collapsed > .title > .expansion-marker:before {\n",
       "  content: '▶';\n",
       "}\n",
       ".tfx-object .class-name {\n",
       "  font-weight: bold;\n",
       "}\n",
       ".tfx-object .deemphasize {\n",
       "  opacity: 0.5;\n",
       "}\n",
       ".tfx-object.collapsed > table.attr-table {\n",
       "  display: none;\n",
       "}\n",
       ".tfx-object.expanded > table.attr-table {\n",
       "  display: block;\n",
       "}\n",
       ".tfx-object table.attr-table {\n",
       "  border: 2px solid white;\n",
       "  margin-top: 5px;\n",
       "}\n",
       ".tfx-object table.attr-table td.attr-name {\n",
       "  vertical-align: top;\n",
       "  font-weight: bold;\n",
       "}\n",
       ".tfx-object table.attr-table td.attrvalue {\n",
       "  text-align: left;\n",
       "}\n",
       "</style>\n",
       "<script>\n",
       "function toggleTfxObject(element) {\n",
       "  var objElement = element.parentElement;\n",
       "  if (objElement.classList.contains('collapsed')) {\n",
       "    objElement.classList.remove('collapsed');\n",
       "    objElement.classList.add('expanded');\n",
       "  } else {\n",
       "    objElement.classList.add('collapsed');\n",
       "    objElement.classList.remove('expanded');\n",
       "  }\n",
       "}\n",
       "</script>\n",
       "<div class=\"tfx-object collapsed\"><div class = \"title\" onclick=\"toggleTfxObject(this)\"><span class=\"expansion-marker\"></span><span class=\"class-name\">Artifact</span> of type <span class=\"class-name\">'TransformPath'</span> (uri: /tmp/tfx-interactive-2019-09-13T16_46_14.222336-5zedre0a/Transform/transform_output/5/)<span class=\"deemphasize\"> at 0x7fada63d8b00</span></div><table class=\"attr-table\"><tr><td class=\"attr-name\">.type_name</td><td class = \"attrvalue\">TransformPath</td></tr><tr><td class=\"attr-name\">.uri</td><td class = \"attrvalue\">/tmp/tfx-interactive-2019-09-13T16_46_14.222336-5zedre0a/Transform/transform_output/5/</td></tr><tr><td class=\"attr-name\">.span</td><td class = \"attrvalue\">0</td></tr><tr><td class=\"attr-name\">.split</td><td class = \"attrvalue\"></td></tr></table></div></td></tr></table></td></tr></table></div></td></tr><tr><td class=\"attr-name\">['schema']</td><td class = \"attrvalue\"><style>\n",
       ".tfx-object.expanded {\n",
       "  padding: 4px 8px 4px 8px;\n",
       "  background: white;\n",
       "  border: 1px solid #bbbbbb;\n",
       "  box-shadow: 4px 4px 2px rgba(0,0,0,0.05);\n",
       "}\n",
       ".tfx-object, .tfx-object * {\n",
       "  font-size: 11pt;\n",
       "}\n",
       ".tfx-object > .title {\n",
       "  cursor: pointer;\n",
       "}\n",
       ".tfx-object .expansion-marker {\n",
       "  color: #999999;\n",
       "}\n",
       ".tfx-object.expanded > .title > .expansion-marker:before {\n",
       "  content: '▼';\n",
       "}\n",
       ".tfx-object.collapsed > .title > .expansion-marker:before {\n",
       "  content: '▶';\n",
       "}\n",
       ".tfx-object .class-name {\n",
       "  font-weight: bold;\n",
       "}\n",
       ".tfx-object .deemphasize {\n",
       "  opacity: 0.5;\n",
       "}\n",
       ".tfx-object.collapsed > table.attr-table {\n",
       "  display: none;\n",
       "}\n",
       ".tfx-object.expanded > table.attr-table {\n",
       "  display: block;\n",
       "}\n",
       ".tfx-object table.attr-table {\n",
       "  border: 2px solid white;\n",
       "  margin-top: 5px;\n",
       "}\n",
       ".tfx-object table.attr-table td.attr-name {\n",
       "  vertical-align: top;\n",
       "  font-weight: bold;\n",
       "}\n",
       ".tfx-object table.attr-table td.attrvalue {\n",
       "  text-align: left;\n",
       "}\n",
       "</style>\n",
       "<script>\n",
       "function toggleTfxObject(element) {\n",
       "  var objElement = element.parentElement;\n",
       "  if (objElement.classList.contains('collapsed')) {\n",
       "    objElement.classList.remove('collapsed');\n",
       "    objElement.classList.add('expanded');\n",
       "  } else {\n",
       "    objElement.classList.add('collapsed');\n",
       "    objElement.classList.remove('expanded');\n",
       "  }\n",
       "}\n",
       "</script>\n",
       "<div class=\"tfx-object collapsed\"><div class = \"title\" onclick=\"toggleTfxObject(this)\"><span class=\"expansion-marker\"></span><span class=\"class-name\">Channel</span> of type <span class=\"class-name\">'SchemaPath'</span> (1 artifact)<span class=\"deemphasize\"> at 0x7face81e1f28</span></div><table class=\"attr-table\"><tr><td class=\"attr-name\">.type_name</td><td class = \"attrvalue\">SchemaPath</td></tr><tr><td class=\"attr-name\">._artifacts</td><td class = \"attrvalue\"><table class=\"attr-table\"><tr><td class=\"attr-name\">[0]</td><td class = \"attrvalue\"><style>\n",
       ".tfx-object.expanded {\n",
       "  padding: 4px 8px 4px 8px;\n",
       "  background: white;\n",
       "  border: 1px solid #bbbbbb;\n",
       "  box-shadow: 4px 4px 2px rgba(0,0,0,0.05);\n",
       "}\n",
       ".tfx-object, .tfx-object * {\n",
       "  font-size: 11pt;\n",
       "}\n",
       ".tfx-object > .title {\n",
       "  cursor: pointer;\n",
       "}\n",
       ".tfx-object .expansion-marker {\n",
       "  color: #999999;\n",
       "}\n",
       ".tfx-object.expanded > .title > .expansion-marker:before {\n",
       "  content: '▼';\n",
       "}\n",
       ".tfx-object.collapsed > .title > .expansion-marker:before {\n",
       "  content: '▶';\n",
       "}\n",
       ".tfx-object .class-name {\n",
       "  font-weight: bold;\n",
       "}\n",
       ".tfx-object .deemphasize {\n",
       "  opacity: 0.5;\n",
       "}\n",
       ".tfx-object.collapsed > table.attr-table {\n",
       "  display: none;\n",
       "}\n",
       ".tfx-object.expanded > table.attr-table {\n",
       "  display: block;\n",
       "}\n",
       ".tfx-object table.attr-table {\n",
       "  border: 2px solid white;\n",
       "  margin-top: 5px;\n",
       "}\n",
       ".tfx-object table.attr-table td.attr-name {\n",
       "  vertical-align: top;\n",
       "  font-weight: bold;\n",
       "}\n",
       ".tfx-object table.attr-table td.attrvalue {\n",
       "  text-align: left;\n",
       "}\n",
       "</style>\n",
       "<script>\n",
       "function toggleTfxObject(element) {\n",
       "  var objElement = element.parentElement;\n",
       "  if (objElement.classList.contains('collapsed')) {\n",
       "    objElement.classList.remove('collapsed');\n",
       "    objElement.classList.add('expanded');\n",
       "  } else {\n",
       "    objElement.classList.add('collapsed');\n",
       "    objElement.classList.remove('expanded');\n",
       "  }\n",
       "}\n",
       "</script>\n",
       "<div class=\"tfx-object collapsed\"><div class = \"title\" onclick=\"toggleTfxObject(this)\"><span class=\"expansion-marker\"></span><span class=\"class-name\">Artifact</span> of type <span class=\"class-name\">'SchemaPath'</span> (uri: /tmp/tfx-interactive-2019-09-13T16_46_14.222336-5zedre0a/SchemaGen/output/3/)<span class=\"deemphasize\"> at 0x7fadad8aaf60</span></div><table class=\"attr-table\"><tr><td class=\"attr-name\">.type_name</td><td class = \"attrvalue\">SchemaPath</td></tr><tr><td class=\"attr-name\">.uri</td><td class = \"attrvalue\">/tmp/tfx-interactive-2019-09-13T16_46_14.222336-5zedre0a/SchemaGen/output/3/</td></tr><tr><td class=\"attr-name\">.span</td><td class = \"attrvalue\">0</td></tr><tr><td class=\"attr-name\">.split</td><td class = \"attrvalue\"></td></tr></table></div></td></tr></table></td></tr></table></div></td></tr></table></td></tr><tr><td class=\"attr-name\">.component.outputs</td><td class = \"attrvalue\"><table class=\"attr-table\"><tr><td class=\"attr-name\">['output']</td><td class = \"attrvalue\"><style>\n",
       ".tfx-object.expanded {\n",
       "  padding: 4px 8px 4px 8px;\n",
       "  background: white;\n",
       "  border: 1px solid #bbbbbb;\n",
       "  box-shadow: 4px 4px 2px rgba(0,0,0,0.05);\n",
       "}\n",
       ".tfx-object, .tfx-object * {\n",
       "  font-size: 11pt;\n",
       "}\n",
       ".tfx-object > .title {\n",
       "  cursor: pointer;\n",
       "}\n",
       ".tfx-object .expansion-marker {\n",
       "  color: #999999;\n",
       "}\n",
       ".tfx-object.expanded > .title > .expansion-marker:before {\n",
       "  content: '▼';\n",
       "}\n",
       ".tfx-object.collapsed > .title > .expansion-marker:before {\n",
       "  content: '▶';\n",
       "}\n",
       ".tfx-object .class-name {\n",
       "  font-weight: bold;\n",
       "}\n",
       ".tfx-object .deemphasize {\n",
       "  opacity: 0.5;\n",
       "}\n",
       ".tfx-object.collapsed > table.attr-table {\n",
       "  display: none;\n",
       "}\n",
       ".tfx-object.expanded > table.attr-table {\n",
       "  display: block;\n",
       "}\n",
       ".tfx-object table.attr-table {\n",
       "  border: 2px solid white;\n",
       "  margin-top: 5px;\n",
       "}\n",
       ".tfx-object table.attr-table td.attr-name {\n",
       "  vertical-align: top;\n",
       "  font-weight: bold;\n",
       "}\n",
       ".tfx-object table.attr-table td.attrvalue {\n",
       "  text-align: left;\n",
       "}\n",
       "</style>\n",
       "<script>\n",
       "function toggleTfxObject(element) {\n",
       "  var objElement = element.parentElement;\n",
       "  if (objElement.classList.contains('collapsed')) {\n",
       "    objElement.classList.remove('collapsed');\n",
       "    objElement.classList.add('expanded');\n",
       "  } else {\n",
       "    objElement.classList.add('collapsed');\n",
       "    objElement.classList.remove('expanded');\n",
       "  }\n",
       "}\n",
       "</script>\n",
       "<div class=\"tfx-object collapsed\"><div class = \"title\" onclick=\"toggleTfxObject(this)\"><span class=\"expansion-marker\"></span><span class=\"class-name\">Channel</span> of type <span class=\"class-name\">'ModelExportPath'</span> (1 artifact)<span class=\"deemphasize\"> at 0x7face15a15c0</span></div><table class=\"attr-table\"><tr><td class=\"attr-name\">.type_name</td><td class = \"attrvalue\">ModelExportPath</td></tr><tr><td class=\"attr-name\">._artifacts</td><td class = \"attrvalue\"><table class=\"attr-table\"><tr><td class=\"attr-name\">[0]</td><td class = \"attrvalue\"><style>\n",
       ".tfx-object.expanded {\n",
       "  padding: 4px 8px 4px 8px;\n",
       "  background: white;\n",
       "  border: 1px solid #bbbbbb;\n",
       "  box-shadow: 4px 4px 2px rgba(0,0,0,0.05);\n",
       "}\n",
       ".tfx-object, .tfx-object * {\n",
       "  font-size: 11pt;\n",
       "}\n",
       ".tfx-object > .title {\n",
       "  cursor: pointer;\n",
       "}\n",
       ".tfx-object .expansion-marker {\n",
       "  color: #999999;\n",
       "}\n",
       ".tfx-object.expanded > .title > .expansion-marker:before {\n",
       "  content: '▼';\n",
       "}\n",
       ".tfx-object.collapsed > .title > .expansion-marker:before {\n",
       "  content: '▶';\n",
       "}\n",
       ".tfx-object .class-name {\n",
       "  font-weight: bold;\n",
       "}\n",
       ".tfx-object .deemphasize {\n",
       "  opacity: 0.5;\n",
       "}\n",
       ".tfx-object.collapsed > table.attr-table {\n",
       "  display: none;\n",
       "}\n",
       ".tfx-object.expanded > table.attr-table {\n",
       "  display: block;\n",
       "}\n",
       ".tfx-object table.attr-table {\n",
       "  border: 2px solid white;\n",
       "  margin-top: 5px;\n",
       "}\n",
       ".tfx-object table.attr-table td.attr-name {\n",
       "  vertical-align: top;\n",
       "  font-weight: bold;\n",
       "}\n",
       ".tfx-object table.attr-table td.attrvalue {\n",
       "  text-align: left;\n",
       "}\n",
       "</style>\n",
       "<script>\n",
       "function toggleTfxObject(element) {\n",
       "  var objElement = element.parentElement;\n",
       "  if (objElement.classList.contains('collapsed')) {\n",
       "    objElement.classList.remove('collapsed');\n",
       "    objElement.classList.add('expanded');\n",
       "  } else {\n",
       "    objElement.classList.add('collapsed');\n",
       "    objElement.classList.remove('expanded');\n",
       "  }\n",
       "}\n",
       "</script>\n",
       "<div class=\"tfx-object collapsed\"><div class = \"title\" onclick=\"toggleTfxObject(this)\"><span class=\"expansion-marker\"></span><span class=\"class-name\">Artifact</span> of type <span class=\"class-name\">'ModelExportPath'</span> (uri: /tmp/tfx-interactive-2019-09-13T16_46_14.222336-5zedre0a/Trainer/output/6/)<span class=\"deemphasize\"> at 0x7fac844948d0</span></div><table class=\"attr-table\"><tr><td class=\"attr-name\">.type_name</td><td class = \"attrvalue\">ModelExportPath</td></tr><tr><td class=\"attr-name\">.uri</td><td class = \"attrvalue\">/tmp/tfx-interactive-2019-09-13T16_46_14.222336-5zedre0a/Trainer/output/6/</td></tr><tr><td class=\"attr-name\">.span</td><td class = \"attrvalue\">0</td></tr><tr><td class=\"attr-name\">.split</td><td class = \"attrvalue\"></td></tr></table></div></td></tr></table></td></tr></table></div></td></tr></table></td></tr></table></div>"
      ],
      "text/plain": [
       "ExecutionResult(\n",
       "    component_id: Trainer\n",
       "    execution_id: 6\n",
       "    outputs:\n",
       "        output: Channel(\n",
       "            type_name: ModelExportPath\n",
       "            artifacts: [Artifact(type_name: ModelExportPath, uri: /tmp/tfx-interactive-2019-09-13T16_46_14.222336-5zedre0a/Trainer/output/6/, split: , id: 11)]\n",
       "        ))"
      ]
     },
     "execution_count": 14,
     "metadata": {},
     "output_type": "execute_result"
    }
   ],
   "source": [
    "# Uses user-provided Python function that implements a model using TF-Learn.\n",
    "trainer = Trainer(\n",
    "    module_file=_taxi_module_file,\n",
    "    transformed_examples=transform.outputs['transformed_examples'],\n",
    "    schema=infer_schema.outputs['output'],\n",
    "    transform_output=transform.outputs['transform_output'],\n",
    "    train_args=trainer_pb2.TrainArgs(num_steps=10000),\n",
    "    eval_args=trainer_pb2.EvalArgs(num_steps=5000))\n",
    "context.run(trainer)"
   ]
  },
  {
   "cell_type": "markdown",
   "metadata": {
    "colab_type": "text",
    "id": "FmPftrv0lEQy"
   },
   "source": [
    "### Evaluator (using Tensorflow Model Analysis)\n",
    "The `Evaluator` computes evaluation statistics over features of your model using [Tensorflow Model Analysis](https://www.tensorflow.org/tfx/model_analysis/get_started). In this section, we run TFMA in our TFX pipeline and then visualize the results to analyze the performance of our model."
   ]
  },
  {
   "cell_type": "markdown",
   "metadata": {
    "colab_type": "text",
    "id": "kGcid3lXJsBf"
   },
   "source": [
    "#### Run TFMA using the Evaluator component\n",
    "\n",
    "Here, we first define slicing specs for analyzing our data. Next, we run TFMA using these specs to generate results."
   ]
  },
  {
   "cell_type": "code",
   "execution_count": 15,
   "metadata": {
    "colab": {},
    "colab_type": "code",
    "id": "fVhfzzh9PDEx"
   },
   "outputs": [],
   "source": [
    "# An empty slice spec means the overall slice, that is, the whole dataset.\n",
    "OVERALL_SLICE_SPEC = evaluator_pb2.SingleSlicingSpec()\n",
    "\n",
    "# Data can be sliced along a feature column\n",
    "# In this case, data is sliced along feature column trip_start_hour.\n",
    "FEATURE_COLUMN_SLICE_SPEC = evaluator_pb2.SingleSlicingSpec(\n",
    "    column_for_slicing=['trip_start_hour'])\n",
    "\n",
    "# Data can be sliced by crossing feature columns\n",
    "# In this case, slices are computed for trip_start_day x trip_start_month.\n",
    "FEATURE_COLUMN_CROSS_SPEC = evaluator_pb2.SingleSlicingSpec(\n",
    "    column_for_slicing=['trip_start_day', 'trip_start_month'])\n",
    "\n",
    "ALL_SPECS = [\n",
    "    OVERALL_SLICE_SPEC,\n",
    "    FEATURE_COLUMN_SLICE_SPEC,\n",
    "    FEATURE_COLUMN_CROSS_SPEC,\n",
    "]"
   ]
  },
  {
   "cell_type": "code",
   "execution_count": 16,
   "metadata": {
    "colab": {},
    "colab_type": "code",
    "id": "Zjcx8g6mihSt"
   },
   "outputs": [
    {
     "name": "stdout",
     "output_type": "stream",
     "text": [
      "INFO:tensorflow:Run driver for Evaluator\n"
     ]
    },
    {
     "name": "stderr",
     "output_type": "stream",
     "text": [
      "INFO:tensorflow:Run driver for Evaluator\n"
     ]
    },
    {
     "name": "stdout",
     "output_type": "stream",
     "text": [
      "INFO:tensorflow:Created run context interactive-2019-09-13T16_46_14.222336.2019-09-13T16:47:08.773079.\n"
     ]
    },
    {
     "name": "stderr",
     "output_type": "stream",
     "text": [
      "INFO:tensorflow:Created run context interactive-2019-09-13T16_46_14.222336.2019-09-13T16:47:08.773079.\n"
     ]
    },
    {
     "name": "stdout",
     "output_type": "stream",
     "text": [
      "INFO:tensorflow:ID of run context interactive-2019-09-13T16_46_14.222336.2019-09-13T16:47:08.773079 is 7.\n"
     ]
    },
    {
     "name": "stderr",
     "output_type": "stream",
     "text": [
      "INFO:tensorflow:ID of run context interactive-2019-09-13T16_46_14.222336.2019-09-13T16:47:08.773079 is 7.\n"
     ]
    },
    {
     "name": "stdout",
     "output_type": "stream",
     "text": [
      "INFO:tensorflow:Resolved input artifacts are: {'examples': [Artifact(type_name: ExamplesPath, uri: /tmp/tfx-interactive-2019-09-13T16_46_14.222336-5zedre0a/CsvExampleGen/examples/1/train/, split: train, id: 2), Artifact(type_name: ExamplesPath, uri: /tmp/tfx-interactive-2019-09-13T16_46_14.222336-5zedre0a/CsvExampleGen/examples/1/eval/, split: eval, id: 3)], 'model_exports': [Artifact(type_name: ModelExportPath, uri: /tmp/tfx-interactive-2019-09-13T16_46_14.222336-5zedre0a/Trainer/output/6/, split: , id: 11)]}\n"
     ]
    },
    {
     "name": "stderr",
     "output_type": "stream",
     "text": [
      "INFO:tensorflow:Resolved input artifacts are: {'examples': [Artifact(type_name: ExamplesPath, uri: /tmp/tfx-interactive-2019-09-13T16_46_14.222336-5zedre0a/CsvExampleGen/examples/1/train/, split: train, id: 2), Artifact(type_name: ExamplesPath, uri: /tmp/tfx-interactive-2019-09-13T16_46_14.222336-5zedre0a/CsvExampleGen/examples/1/eval/, split: eval, id: 3)], 'model_exports': [Artifact(type_name: ModelExportPath, uri: /tmp/tfx-interactive-2019-09-13T16_46_14.222336-5zedre0a/Trainer/output/6/, split: , id: 11)]}\n"
     ]
    },
    {
     "name": "stdout",
     "output_type": "stream",
     "text": [
      "INFO:tensorflow:Prepared EXECUTION:\n",
      " type_id: 15\n",
      "properties {\n",
      "  key: \"component_id\"\n",
      "  value {\n",
      "    string_value: \"Evaluator\"\n",
      "  }\n",
      "}\n",
      "properties {\n",
      "  key: \"feature_slicing_spec\"\n",
      "  value {\n",
      "    string_value: \"{\\n  \\\"specs\\\": [\\n    {},\\n    {\\n      \\\"columnForSlicing\\\": [\\n        \\\"trip_start_hour\\\"\\n      ]\\n    },\\n    {\\n      \\\"columnForSlicing\\\": [\\n        \\\"trip_start_day\\\",\\n        \\\"trip_start_month\\\"\\n      ]\\n    }\\n  ]\\n}\"\n",
      "  }\n",
      "}\n",
      "properties {\n",
      "  key: \"pipeline_name\"\n",
      "  value {\n",
      "    string_value: \"interactive-2019-09-13T16_46_14.222336\"\n",
      "  }\n",
      "}\n",
      "properties {\n",
      "  key: \"pipeline_root\"\n",
      "  value {\n",
      "    string_value: \"/tmp/tfx-interactive-2019-09-13T16_46_14.222336-5zedre0a\"\n",
      "  }\n",
      "}\n",
      "properties {\n",
      "  key: \"run_id\"\n",
      "  value {\n",
      "    string_value: \"2019-09-13T16:47:08.773079\"\n",
      "  }\n",
      "}\n",
      "properties {\n",
      "  key: \"state\"\n",
      "  value {\n",
      "    string_value: \"new\"\n",
      "  }\n",
      "}\n",
      "\n"
     ]
    },
    {
     "name": "stderr",
     "output_type": "stream",
     "text": [
      "INFO:tensorflow:Prepared EXECUTION:\n",
      " type_id: 15\n",
      "properties {\n",
      "  key: \"component_id\"\n",
      "  value {\n",
      "    string_value: \"Evaluator\"\n",
      "  }\n",
      "}\n",
      "properties {\n",
      "  key: \"feature_slicing_spec\"\n",
      "  value {\n",
      "    string_value: \"{\\n  \\\"specs\\\": [\\n    {},\\n    {\\n      \\\"columnForSlicing\\\": [\\n        \\\"trip_start_hour\\\"\\n      ]\\n    },\\n    {\\n      \\\"columnForSlicing\\\": [\\n        \\\"trip_start_day\\\",\\n        \\\"trip_start_month\\\"\\n      ]\\n    }\\n  ]\\n}\"\n",
      "  }\n",
      "}\n",
      "properties {\n",
      "  key: \"pipeline_name\"\n",
      "  value {\n",
      "    string_value: \"interactive-2019-09-13T16_46_14.222336\"\n",
      "  }\n",
      "}\n",
      "properties {\n",
      "  key: \"pipeline_root\"\n",
      "  value {\n",
      "    string_value: \"/tmp/tfx-interactive-2019-09-13T16_46_14.222336-5zedre0a\"\n",
      "  }\n",
      "}\n",
      "properties {\n",
      "  key: \"run_id\"\n",
      "  value {\n",
      "    string_value: \"2019-09-13T16:47:08.773079\"\n",
      "  }\n",
      "}\n",
      "properties {\n",
      "  key: \"state\"\n",
      "  value {\n",
      "    string_value: \"new\"\n",
      "  }\n",
      "}\n",
      "\n"
     ]
    },
    {
     "name": "stdout",
     "output_type": "stream",
     "text": [
      "INFO:tensorflow:Execution id of the upcoming component execution is 7\n"
     ]
    },
    {
     "name": "stderr",
     "output_type": "stream",
     "text": [
      "INFO:tensorflow:Execution id of the upcoming component execution is 7\n"
     ]
    },
    {
     "name": "stdout",
     "output_type": "stream",
     "text": [
      "INFO:tensorflow:Checking previous run for execution_type_name tfx.components.evaluator.component.Evaluator and input_artifacts {'examples': [Artifact(type_name: ExamplesPath, uri: /tmp/tfx-interactive-2019-09-13T16_46_14.222336-5zedre0a/CsvExampleGen/examples/1/train/, split: train, id: 2), Artifact(type_name: ExamplesPath, uri: /tmp/tfx-interactive-2019-09-13T16_46_14.222336-5zedre0a/CsvExampleGen/examples/1/eval/, split: eval, id: 3)], 'model_exports': [Artifact(type_name: ModelExportPath, uri: /tmp/tfx-interactive-2019-09-13T16_46_14.222336-5zedre0a/Trainer/output/6/, split: , id: 11)]}\n"
     ]
    },
    {
     "name": "stderr",
     "output_type": "stream",
     "text": [
      "INFO:tensorflow:Checking previous run for execution_type_name tfx.components.evaluator.component.Evaluator and input_artifacts {'examples': [Artifact(type_name: ExamplesPath, uri: /tmp/tfx-interactive-2019-09-13T16_46_14.222336-5zedre0a/CsvExampleGen/examples/1/train/, split: train, id: 2), Artifact(type_name: ExamplesPath, uri: /tmp/tfx-interactive-2019-09-13T16_46_14.222336-5zedre0a/CsvExampleGen/examples/1/eval/, split: eval, id: 3)], 'model_exports': [Artifact(type_name: ModelExportPath, uri: /tmp/tfx-interactive-2019-09-13T16_46_14.222336-5zedre0a/Trainer/output/6/, split: , id: 11)]}\n"
     ]
    },
    {
     "name": "stdout",
     "output_type": "stream",
     "text": [
      "INFO:tensorflow:Prepared EXECUTION:\n",
      " type_id: 15\n",
      "properties {\n",
      "  key: \"component_id\"\n",
      "  value {\n",
      "    string_value: \"Evaluator\"\n",
      "  }\n",
      "}\n",
      "properties {\n",
      "  key: \"feature_slicing_spec\"\n",
      "  value {\n",
      "    string_value: \"{\\n  \\\"specs\\\": [\\n    {},\\n    {\\n      \\\"columnForSlicing\\\": [\\n        \\\"trip_start_hour\\\"\\n      ]\\n    },\\n    {\\n      \\\"columnForSlicing\\\": [\\n        \\\"trip_start_day\\\",\\n        \\\"trip_start_month\\\"\\n      ]\\n    }\\n  ]\\n}\"\n",
      "  }\n",
      "}\n",
      "properties {\n",
      "  key: \"pipeline_name\"\n",
      "  value {\n",
      "    string_value: \"interactive-2019-09-13T16_46_14.222336\"\n",
      "  }\n",
      "}\n",
      "properties {\n",
      "  key: \"pipeline_root\"\n",
      "  value {\n",
      "    string_value: \"/tmp/tfx-interactive-2019-09-13T16_46_14.222336-5zedre0a\"\n",
      "  }\n",
      "}\n",
      "properties {\n",
      "  key: \"run_id\"\n",
      "  value {\n",
      "    string_value: \"2019-09-13T16:47:08.773079\"\n",
      "  }\n",
      "}\n",
      "properties {\n",
      "  key: \"state\"\n",
      "  value {\n",
      "    string_value: \"complete\"\n",
      "  }\n",
      "}\n",
      "\n"
     ]
    },
    {
     "name": "stderr",
     "output_type": "stream",
     "text": [
      "INFO:tensorflow:Prepared EXECUTION:\n",
      " type_id: 15\n",
      "properties {\n",
      "  key: \"component_id\"\n",
      "  value {\n",
      "    string_value: \"Evaluator\"\n",
      "  }\n",
      "}\n",
      "properties {\n",
      "  key: \"feature_slicing_spec\"\n",
      "  value {\n",
      "    string_value: \"{\\n  \\\"specs\\\": [\\n    {},\\n    {\\n      \\\"columnForSlicing\\\": [\\n        \\\"trip_start_hour\\\"\\n      ]\\n    },\\n    {\\n      \\\"columnForSlicing\\\": [\\n        \\\"trip_start_day\\\",\\n        \\\"trip_start_month\\\"\\n      ]\\n    }\\n  ]\\n}\"\n",
      "  }\n",
      "}\n",
      "properties {\n",
      "  key: \"pipeline_name\"\n",
      "  value {\n",
      "    string_value: \"interactive-2019-09-13T16_46_14.222336\"\n",
      "  }\n",
      "}\n",
      "properties {\n",
      "  key: \"pipeline_root\"\n",
      "  value {\n",
      "    string_value: \"/tmp/tfx-interactive-2019-09-13T16_46_14.222336-5zedre0a\"\n",
      "  }\n",
      "}\n",
      "properties {\n",
      "  key: \"run_id\"\n",
      "  value {\n",
      "    string_value: \"2019-09-13T16:47:08.773079\"\n",
      "  }\n",
      "}\n",
      "properties {\n",
      "  key: \"state\"\n",
      "  value {\n",
      "    string_value: \"complete\"\n",
      "  }\n",
      "}\n",
      "\n"
     ]
    },
    {
     "name": "stdout",
     "output_type": "stream",
     "text": [
      "INFO:tensorflow:No execution matching type id and input artifacts found\n"
     ]
    },
    {
     "name": "stderr",
     "output_type": "stream",
     "text": [
      "INFO:tensorflow:No execution matching type id and input artifacts found\n"
     ]
    },
    {
     "name": "stdout",
     "output_type": "stream",
     "text": [
      "INFO:tensorflow:Cached results not found, move on to new execution\n"
     ]
    },
    {
     "name": "stderr",
     "output_type": "stream",
     "text": [
      "INFO:tensorflow:Cached results not found, move on to new execution\n"
     ]
    },
    {
     "name": "stdout",
     "output_type": "stream",
     "text": [
      "INFO:tensorflow:Creating output artifact uri /tmp/tfx-interactive-2019-09-13T16_46_14.222336-5zedre0a/Evaluator/output/7/ as directory\n"
     ]
    },
    {
     "name": "stderr",
     "output_type": "stream",
     "text": [
      "INFO:tensorflow:Creating output artifact uri /tmp/tfx-interactive-2019-09-13T16_46_14.222336-5zedre0a/Evaluator/output/7/ as directory\n"
     ]
    },
    {
     "name": "stdout",
     "output_type": "stream",
     "text": [
      "INFO:tensorflow:Output artifacts skeleton for the upcoming execution are: {'output': [Artifact(type_name: ModelEvalPath, uri: /tmp/tfx-interactive-2019-09-13T16_46_14.222336-5zedre0a/Evaluator/output/7/, split: , id: 0)]}\n"
     ]
    },
    {
     "name": "stderr",
     "output_type": "stream",
     "text": [
      "INFO:tensorflow:Output artifacts skeleton for the upcoming execution are: {'output': [Artifact(type_name: ModelEvalPath, uri: /tmp/tfx-interactive-2019-09-13T16_46_14.222336-5zedre0a/Evaluator/output/7/, split: , id: 0)]}\n"
     ]
    },
    {
     "name": "stdout",
     "output_type": "stream",
     "text": [
      "INFO:tensorflow:Execution properties for the upcoming execution are: {'feature_slicing_spec': '{\\n  \"specs\": [\\n    {},\\n    {\\n      \"columnForSlicing\": [\\n        \"trip_start_hour\"\\n      ]\\n    },\\n    {\\n      \"columnForSlicing\": [\\n        \"trip_start_day\",\\n        \"trip_start_month\"\\n      ]\\n    }\\n  ]\\n}'}\n"
     ]
    },
    {
     "name": "stderr",
     "output_type": "stream",
     "text": [
      "INFO:tensorflow:Execution properties for the upcoming execution are: {'feature_slicing_spec': '{\\n  \"specs\": [\\n    {},\\n    {\\n      \"columnForSlicing\": [\\n        \"trip_start_hour\"\\n      ]\\n    },\\n    {\\n      \"columnForSlicing\": [\\n        \"trip_start_day\",\\n        \"trip_start_month\"\\n      ]\\n    }\\n  ]\\n}'}\n"
     ]
    },
    {
     "name": "stdout",
     "output_type": "stream",
     "text": [
      "INFO:tensorflow:Run executor for Evaluator\n"
     ]
    },
    {
     "name": "stderr",
     "output_type": "stream",
     "text": [
      "INFO:tensorflow:Run executor for Evaluator\n"
     ]
    },
    {
     "name": "stdout",
     "output_type": "stream",
     "text": [
      "INFO:tensorflow:Starting Executor execution.\n"
     ]
    },
    {
     "name": "stderr",
     "output_type": "stream",
     "text": [
      "INFO:tensorflow:Starting Executor execution.\n"
     ]
    },
    {
     "name": "stdout",
     "output_type": "stream",
     "text": [
      "INFO:tensorflow:Inputs for Executor is: {\"examples\": [{\"artifact\": {\"id\": \"2\", \"typeId\": \"4\", \"uri\": \"/tmp/tfx-interactive-2019-09-13T16_46_14.222336-5zedre0a/CsvExampleGen/examples/1/train/\", \"properties\": {\"span\": {}, \"pipeline_name\": {\"stringValue\": \"interactive-2019-09-13T16_46_14.222336\"}, \"producer_component\": {\"stringValue\": \"CsvExampleGen\"}, \"split\": {\"stringValue\": \"train\"}, \"name\": {\"stringValue\": \"examples\"}, \"type_name\": {\"stringValue\": \"ExamplesPath\"}, \"state\": {\"stringValue\": \"published\"}}}, \"artifact_type\": {\"id\": \"4\", \"name\": \"ExamplesPath\", \"properties\": {\"name\": \"STRING\", \"type_name\": \"STRING\", \"state\": \"STRING\", \"producer_component\": \"STRING\", \"span\": \"INT\", \"pipeline_name\": \"STRING\", \"split\": \"STRING\"}}}, {\"artifact\": {\"id\": \"3\", \"typeId\": \"4\", \"uri\": \"/tmp/tfx-interactive-2019-09-13T16_46_14.222336-5zedre0a/CsvExampleGen/examples/1/eval/\", \"properties\": {\"split\": {\"stringValue\": \"eval\"}, \"name\": {\"stringValue\": \"examples\"}, \"type_name\": {\"stringValue\": \"ExamplesPath\"}, \"state\": {\"stringValue\": \"published\"}, \"span\": {}, \"pipeline_name\": {\"stringValue\": \"interactive-2019-09-13T16_46_14.222336\"}, \"producer_component\": {\"stringValue\": \"CsvExampleGen\"}}}, \"artifact_type\": {\"id\": \"4\", \"name\": \"ExamplesPath\", \"properties\": {\"name\": \"STRING\", \"type_name\": \"STRING\", \"state\": \"STRING\", \"producer_component\": \"STRING\", \"span\": \"INT\", \"pipeline_name\": \"STRING\", \"split\": \"STRING\"}}}], \"model_exports\": [{\"artifact\": {\"id\": \"11\", \"typeId\": \"14\", \"uri\": \"/tmp/tfx-interactive-2019-09-13T16_46_14.222336-5zedre0a/Trainer/output/6/\", \"properties\": {\"split\": {\"stringValue\": \"\"}, \"name\": {\"stringValue\": \"output\"}, \"type_name\": {\"stringValue\": \"ModelExportPath\"}, \"state\": {\"stringValue\": \"published\"}, \"span\": {}, \"pipeline_name\": {\"stringValue\": \"interactive-2019-09-13T16_46_14.222336\"}, \"producer_component\": {\"stringValue\": \"Trainer\"}}}, \"artifact_type\": {\"id\": \"14\", \"name\": \"ModelExportPath\", \"properties\": {\"producer_component\": \"STRING\", \"span\": \"INT\", \"pipeline_name\": \"STRING\", \"split\": \"STRING\", \"name\": \"STRING\", \"type_name\": \"STRING\", \"state\": \"STRING\"}}}]}\n"
     ]
    },
    {
     "name": "stderr",
     "output_type": "stream",
     "text": [
      "INFO:tensorflow:Inputs for Executor is: {\"examples\": [{\"artifact\": {\"id\": \"2\", \"typeId\": \"4\", \"uri\": \"/tmp/tfx-interactive-2019-09-13T16_46_14.222336-5zedre0a/CsvExampleGen/examples/1/train/\", \"properties\": {\"span\": {}, \"pipeline_name\": {\"stringValue\": \"interactive-2019-09-13T16_46_14.222336\"}, \"producer_component\": {\"stringValue\": \"CsvExampleGen\"}, \"split\": {\"stringValue\": \"train\"}, \"name\": {\"stringValue\": \"examples\"}, \"type_name\": {\"stringValue\": \"ExamplesPath\"}, \"state\": {\"stringValue\": \"published\"}}}, \"artifact_type\": {\"id\": \"4\", \"name\": \"ExamplesPath\", \"properties\": {\"name\": \"STRING\", \"type_name\": \"STRING\", \"state\": \"STRING\", \"producer_component\": \"STRING\", \"span\": \"INT\", \"pipeline_name\": \"STRING\", \"split\": \"STRING\"}}}, {\"artifact\": {\"id\": \"3\", \"typeId\": \"4\", \"uri\": \"/tmp/tfx-interactive-2019-09-13T16_46_14.222336-5zedre0a/CsvExampleGen/examples/1/eval/\", \"properties\": {\"split\": {\"stringValue\": \"eval\"}, \"name\": {\"stringValue\": \"examples\"}, \"type_name\": {\"stringValue\": \"ExamplesPath\"}, \"state\": {\"stringValue\": \"published\"}, \"span\": {}, \"pipeline_name\": {\"stringValue\": \"interactive-2019-09-13T16_46_14.222336\"}, \"producer_component\": {\"stringValue\": \"CsvExampleGen\"}}}, \"artifact_type\": {\"id\": \"4\", \"name\": \"ExamplesPath\", \"properties\": {\"name\": \"STRING\", \"type_name\": \"STRING\", \"state\": \"STRING\", \"producer_component\": \"STRING\", \"span\": \"INT\", \"pipeline_name\": \"STRING\", \"split\": \"STRING\"}}}], \"model_exports\": [{\"artifact\": {\"id\": \"11\", \"typeId\": \"14\", \"uri\": \"/tmp/tfx-interactive-2019-09-13T16_46_14.222336-5zedre0a/Trainer/output/6/\", \"properties\": {\"split\": {\"stringValue\": \"\"}, \"name\": {\"stringValue\": \"output\"}, \"type_name\": {\"stringValue\": \"ModelExportPath\"}, \"state\": {\"stringValue\": \"published\"}, \"span\": {}, \"pipeline_name\": {\"stringValue\": \"interactive-2019-09-13T16_46_14.222336\"}, \"producer_component\": {\"stringValue\": \"Trainer\"}}}, \"artifact_type\": {\"id\": \"14\", \"name\": \"ModelExportPath\", \"properties\": {\"producer_component\": \"STRING\", \"span\": \"INT\", \"pipeline_name\": \"STRING\", \"split\": \"STRING\", \"name\": \"STRING\", \"type_name\": \"STRING\", \"state\": \"STRING\"}}}]}\n"
     ]
    },
    {
     "name": "stdout",
     "output_type": "stream",
     "text": [
      "INFO:tensorflow:Outputs for Executor is: {\"output\": [{\"artifact\": {\"uri\": \"/tmp/tfx-interactive-2019-09-13T16_46_14.222336-5zedre0a/Evaluator/output/7/\", \"properties\": {\"name\": {\"stringValue\": \"output\"}, \"type_name\": {\"stringValue\": \"ModelEvalPath\"}, \"split\": {\"stringValue\": \"\"}, \"producer_component\": {\"stringValue\": \"Evaluator\"}, \"pipeline_name\": {\"stringValue\": \"interactive-2019-09-13T16_46_14.222336\"}}}, \"artifact_type\": {\"name\": \"ModelEvalPath\", \"properties\": {\"split\": \"STRING\", \"name\": \"STRING\", \"type_name\": \"STRING\", \"state\": \"STRING\", \"producer_component\": \"STRING\", \"span\": \"INT\", \"pipeline_name\": \"STRING\"}}}]}\n"
     ]
    },
    {
     "name": "stderr",
     "output_type": "stream",
     "text": [
      "INFO:tensorflow:Outputs for Executor is: {\"output\": [{\"artifact\": {\"uri\": \"/tmp/tfx-interactive-2019-09-13T16_46_14.222336-5zedre0a/Evaluator/output/7/\", \"properties\": {\"name\": {\"stringValue\": \"output\"}, \"type_name\": {\"stringValue\": \"ModelEvalPath\"}, \"split\": {\"stringValue\": \"\"}, \"producer_component\": {\"stringValue\": \"Evaluator\"}, \"pipeline_name\": {\"stringValue\": \"interactive-2019-09-13T16_46_14.222336\"}}}, \"artifact_type\": {\"name\": \"ModelEvalPath\", \"properties\": {\"split\": \"STRING\", \"name\": \"STRING\", \"type_name\": \"STRING\", \"state\": \"STRING\", \"producer_component\": \"STRING\", \"span\": \"INT\", \"pipeline_name\": \"STRING\"}}}]}\n"
     ]
    },
    {
     "name": "stdout",
     "output_type": "stream",
     "text": [
      "INFO:tensorflow:Execution properties for Executor is: {\"feature_slicing_spec\": \"{\\n  \\\"specs\\\": [\\n    {},\\n    {\\n      \\\"columnForSlicing\\\": [\\n        \\\"trip_start_hour\\\"\\n      ]\\n    },\\n    {\\n      \\\"columnForSlicing\\\": [\\n        \\\"trip_start_day\\\",\\n        \\\"trip_start_month\\\"\\n      ]\\n    }\\n  ]\\n}\"}\n"
     ]
    },
    {
     "name": "stderr",
     "output_type": "stream",
     "text": [
      "INFO:tensorflow:Execution properties for Executor is: {\"feature_slicing_spec\": \"{\\n  \\\"specs\\\": [\\n    {},\\n    {\\n      \\\"columnForSlicing\\\": [\\n        \\\"trip_start_hour\\\"\\n      ]\\n    },\\n    {\\n      \\\"columnForSlicing\\\": [\\n        \\\"trip_start_day\\\",\\n        \\\"trip_start_month\\\"\\n      ]\\n    }\\n  ]\\n}\"}\n"
     ]
    },
    {
     "name": "stdout",
     "output_type": "stream",
     "text": [
      "INFO:tensorflow:Using /tmp/tfx-interactive-2019-09-13T16_46_14.222336-5zedre0a/Trainer/output/6/eval_model_dir/1568418426 for model eval.\n"
     ]
    },
    {
     "name": "stderr",
     "output_type": "stream",
     "text": [
      "INFO:tensorflow:Using /tmp/tfx-interactive-2019-09-13T16_46_14.222336-5zedre0a/Trainer/output/6/eval_model_dir/1568418426 for model eval.\n"
     ]
    },
    {
     "name": "stdout",
     "output_type": "stream",
     "text": [
      "INFO:tensorflow:Evaluating model.\n"
     ]
    },
    {
     "name": "stderr",
     "output_type": "stream",
     "text": [
      "INFO:tensorflow:Evaluating model.\n"
     ]
    },
    {
     "name": "stdout",
     "output_type": "stream",
     "text": [
      "WARNING:tensorflow:From /usr/local/google/home/joeyounglee/git-repos/tfx_oss.git/tfx/examples/chicago_taxi_pipeline/taxi_pipeline/local/lib/python3.6/site-packages/tensorflow_model_analysis/eval_saved_model/load.py:163: load (from tensorflow.python.saved_model.loader_impl) is deprecated and will be removed in a future version.\n",
      "Instructions for updating:\n",
      "This function will only be available through the v1 compatibility library as tf.compat.v1.saved_model.loader.load or tf.compat.v1.saved_model.load. There will be a new function for importing SavedModels in Tensorflow 2.0.\n"
     ]
    },
    {
     "name": "stderr",
     "output_type": "stream",
     "text": [
      "WARNING:tensorflow:From /usr/local/google/home/joeyounglee/git-repos/tfx_oss.git/tfx/examples/chicago_taxi_pipeline/taxi_pipeline/local/lib/python3.6/site-packages/tensorflow_model_analysis/eval_saved_model/load.py:163: load (from tensorflow.python.saved_model.loader_impl) is deprecated and will be removed in a future version.\n",
      "Instructions for updating:\n",
      "This function will only be available through the v1 compatibility library as tf.compat.v1.saved_model.loader.load or tf.compat.v1.saved_model.load. There will be a new function for importing SavedModels in Tensorflow 2.0.\n"
     ]
    },
    {
     "name": "stdout",
     "output_type": "stream",
     "text": [
      "INFO:tensorflow:Restoring parameters from /tmp/tfx-interactive-2019-09-13T16_46_14.222336-5zedre0a/Trainer/output/6/eval_model_dir/1568418426/variables/variables\n"
     ]
    },
    {
     "name": "stderr",
     "output_type": "stream",
     "text": [
      "INFO:tensorflow:Restoring parameters from /tmp/tfx-interactive-2019-09-13T16_46_14.222336-5zedre0a/Trainer/output/6/eval_model_dir/1568418426/variables/variables\n"
     ]
    },
    {
     "name": "stdout",
     "output_type": "stream",
     "text": [
      "WARNING:tensorflow:From /usr/local/google/home/joeyounglee/git-repos/tfx_oss.git/tfx/examples/chicago_taxi_pipeline/taxi_pipeline/local/lib/python3.6/site-packages/tensorflow_model_analysis/eval_saved_model/graph_ref.py:189: get_tensor_from_tensor_info (from tensorflow.python.saved_model.utils_impl) is deprecated and will be removed in a future version.\n",
      "Instructions for updating:\n",
      "This function will only be available through the v1 compatibility library as tf.compat.v1.saved_model.utils.get_tensor_from_tensor_info or tf.compat.v1.saved_model.get_tensor_from_tensor_info.\n"
     ]
    },
    {
     "name": "stderr",
     "output_type": "stream",
     "text": [
      "WARNING:tensorflow:From /usr/local/google/home/joeyounglee/git-repos/tfx_oss.git/tfx/examples/chicago_taxi_pipeline/taxi_pipeline/local/lib/python3.6/site-packages/tensorflow_model_analysis/eval_saved_model/graph_ref.py:189: get_tensor_from_tensor_info (from tensorflow.python.saved_model.utils_impl) is deprecated and will be removed in a future version.\n",
      "Instructions for updating:\n",
      "This function will only be available through the v1 compatibility library as tf.compat.v1.saved_model.utils.get_tensor_from_tensor_info or tf.compat.v1.saved_model.get_tensor_from_tensor_info.\n"
     ]
    },
    {
     "name": "stdout",
     "output_type": "stream",
     "text": [
      "INFO:tensorflow:Evaluation complete. Results written to /tmp/tfx-interactive-2019-09-13T16_46_14.222336-5zedre0a/Evaluator/output/7/.\n"
     ]
    },
    {
     "name": "stderr",
     "output_type": "stream",
     "text": [
      "INFO:tensorflow:Evaluation complete. Results written to /tmp/tfx-interactive-2019-09-13T16_46_14.222336-5zedre0a/Evaluator/output/7/.\n"
     ]
    },
    {
     "name": "stdout",
     "output_type": "stream",
     "text": [
      "INFO:tensorflow:Run publisher for Evaluator\n"
     ]
    },
    {
     "name": "stderr",
     "output_type": "stream",
     "text": [
      "INFO:tensorflow:Run publisher for Evaluator\n"
     ]
    },
    {
     "name": "stdout",
     "output_type": "stream",
     "text": [
      "INFO:tensorflow:Whether cached results are used: False\n"
     ]
    },
    {
     "name": "stderr",
     "output_type": "stream",
     "text": [
      "INFO:tensorflow:Whether cached results are used: False\n"
     ]
    },
    {
     "name": "stdout",
     "output_type": "stream",
     "text": [
      "INFO:tensorflow:Execution id: 7\n"
     ]
    },
    {
     "name": "stderr",
     "output_type": "stream",
     "text": [
      "INFO:tensorflow:Execution id: 7\n"
     ]
    },
    {
     "name": "stdout",
     "output_type": "stream",
     "text": [
      "INFO:tensorflow:Inputs: {'examples': [Artifact(type_name: ExamplesPath, uri: /tmp/tfx-interactive-2019-09-13T16_46_14.222336-5zedre0a/CsvExampleGen/examples/1/train/, split: train, id: 2), Artifact(type_name: ExamplesPath, uri: /tmp/tfx-interactive-2019-09-13T16_46_14.222336-5zedre0a/CsvExampleGen/examples/1/eval/, split: eval, id: 3)], 'model_exports': [Artifact(type_name: ModelExportPath, uri: /tmp/tfx-interactive-2019-09-13T16_46_14.222336-5zedre0a/Trainer/output/6/, split: , id: 11)]}\n"
     ]
    },
    {
     "name": "stderr",
     "output_type": "stream",
     "text": [
      "INFO:tensorflow:Inputs: {'examples': [Artifact(type_name: ExamplesPath, uri: /tmp/tfx-interactive-2019-09-13T16_46_14.222336-5zedre0a/CsvExampleGen/examples/1/train/, split: train, id: 2), Artifact(type_name: ExamplesPath, uri: /tmp/tfx-interactive-2019-09-13T16_46_14.222336-5zedre0a/CsvExampleGen/examples/1/eval/, split: eval, id: 3)], 'model_exports': [Artifact(type_name: ModelExportPath, uri: /tmp/tfx-interactive-2019-09-13T16_46_14.222336-5zedre0a/Trainer/output/6/, split: , id: 11)]}\n"
     ]
    },
    {
     "name": "stdout",
     "output_type": "stream",
     "text": [
      "INFO:tensorflow:Outputs: {'output': [Artifact(type_name: ModelEvalPath, uri: /tmp/tfx-interactive-2019-09-13T16_46_14.222336-5zedre0a/Evaluator/output/7/, split: , id: 0)]}\n"
     ]
    },
    {
     "name": "stderr",
     "output_type": "stream",
     "text": [
      "INFO:tensorflow:Outputs: {'output': [Artifact(type_name: ModelEvalPath, uri: /tmp/tfx-interactive-2019-09-13T16_46_14.222336-5zedre0a/Evaluator/output/7/, split: , id: 0)]}\n"
     ]
    },
    {
     "name": "stdout",
     "output_type": "stream",
     "text": [
      "INFO:tensorflow:Publishing execution id: 7\n",
      "type_id: 15\n",
      "properties {\n",
      "  key: \"component_id\"\n",
      "  value {\n",
      "    string_value: \"Evaluator\"\n",
      "  }\n",
      "}\n",
      "properties {\n",
      "  key: \"feature_slicing_spec\"\n",
      "  value {\n",
      "    string_value: \"{\\n  \\\"specs\\\": [\\n    {},\\n    {\\n      \\\"columnForSlicing\\\": [\\n        \\\"trip_start_hour\\\"\\n      ]\\n    },\\n    {\\n      \\\"columnForSlicing\\\": [\\n        \\\"trip_start_day\\\",\\n        \\\"trip_start_month\\\"\\n      ]\\n    }\\n  ]\\n}\"\n",
      "  }\n",
      "}\n",
      "properties {\n",
      "  key: \"pipeline_name\"\n",
      "  value {\n",
      "    string_value: \"interactive-2019-09-13T16_46_14.222336\"\n",
      "  }\n",
      "}\n",
      "properties {\n",
      "  key: \"pipeline_root\"\n",
      "  value {\n",
      "    string_value: \"/tmp/tfx-interactive-2019-09-13T16_46_14.222336-5zedre0a\"\n",
      "  }\n",
      "}\n",
      "properties {\n",
      "  key: \"run_id\"\n",
      "  value {\n",
      "    string_value: \"2019-09-13T16:47:08.773079\"\n",
      "  }\n",
      "}\n",
      "properties {\n",
      "  key: \"state\"\n",
      "  value {\n",
      "    string_value: \"complete\"\n",
      "  }\n",
      "}\n",
      ", with inputs {'examples': [Artifact(type_name: ExamplesPath, uri: /tmp/tfx-interactive-2019-09-13T16_46_14.222336-5zedre0a/CsvExampleGen/examples/1/train/, split: train, id: 2), Artifact(type_name: ExamplesPath, uri: /tmp/tfx-interactive-2019-09-13T16_46_14.222336-5zedre0a/CsvExampleGen/examples/1/eval/, split: eval, id: 3)], 'model_exports': [Artifact(type_name: ModelExportPath, uri: /tmp/tfx-interactive-2019-09-13T16_46_14.222336-5zedre0a/Trainer/output/6/, split: , id: 11)]} and outputs {'output': [Artifact(type_name: ModelEvalPath, uri: /tmp/tfx-interactive-2019-09-13T16_46_14.222336-5zedre0a/Evaluator/output/7/, split: , id: 0)]}\n"
     ]
    },
    {
     "name": "stderr",
     "output_type": "stream",
     "text": [
      "INFO:tensorflow:Publishing execution id: 7\n",
      "type_id: 15\n",
      "properties {\n",
      "  key: \"component_id\"\n",
      "  value {\n",
      "    string_value: \"Evaluator\"\n",
      "  }\n",
      "}\n",
      "properties {\n",
      "  key: \"feature_slicing_spec\"\n",
      "  value {\n",
      "    string_value: \"{\\n  \\\"specs\\\": [\\n    {},\\n    {\\n      \\\"columnForSlicing\\\": [\\n        \\\"trip_start_hour\\\"\\n      ]\\n    },\\n    {\\n      \\\"columnForSlicing\\\": [\\n        \\\"trip_start_day\\\",\\n        \\\"trip_start_month\\\"\\n      ]\\n    }\\n  ]\\n}\"\n",
      "  }\n",
      "}\n",
      "properties {\n",
      "  key: \"pipeline_name\"\n",
      "  value {\n",
      "    string_value: \"interactive-2019-09-13T16_46_14.222336\"\n",
      "  }\n",
      "}\n",
      "properties {\n",
      "  key: \"pipeline_root\"\n",
      "  value {\n",
      "    string_value: \"/tmp/tfx-interactive-2019-09-13T16_46_14.222336-5zedre0a\"\n",
      "  }\n",
      "}\n",
      "properties {\n",
      "  key: \"run_id\"\n",
      "  value {\n",
      "    string_value: \"2019-09-13T16:47:08.773079\"\n",
      "  }\n",
      "}\n",
      "properties {\n",
      "  key: \"state\"\n",
      "  value {\n",
      "    string_value: \"complete\"\n",
      "  }\n",
      "}\n",
      ", with inputs {'examples': [Artifact(type_name: ExamplesPath, uri: /tmp/tfx-interactive-2019-09-13T16_46_14.222336-5zedre0a/CsvExampleGen/examples/1/train/, split: train, id: 2), Artifact(type_name: ExamplesPath, uri: /tmp/tfx-interactive-2019-09-13T16_46_14.222336-5zedre0a/CsvExampleGen/examples/1/eval/, split: eval, id: 3)], 'model_exports': [Artifact(type_name: ModelExportPath, uri: /tmp/tfx-interactive-2019-09-13T16_46_14.222336-5zedre0a/Trainer/output/6/, split: , id: 11)]} and outputs {'output': [Artifact(type_name: ModelEvalPath, uri: /tmp/tfx-interactive-2019-09-13T16_46_14.222336-5zedre0a/Evaluator/output/7/, split: , id: 0)]}\n"
     ]
    },
    {
     "name": "stdout",
     "output_type": "stream",
     "text": [
      "INFO:tensorflow:Published execution with final outputs {'output': [Artifact(type_name: ModelEvalPath, uri: /tmp/tfx-interactive-2019-09-13T16_46_14.222336-5zedre0a/Evaluator/output/7/, split: , id: 12)]}\n"
     ]
    },
    {
     "name": "stderr",
     "output_type": "stream",
     "text": [
      "INFO:tensorflow:Published execution with final outputs {'output': [Artifact(type_name: ModelEvalPath, uri: /tmp/tfx-interactive-2019-09-13T16_46_14.222336-5zedre0a/Evaluator/output/7/, split: , id: 12)]}\n"
     ]
    },
    {
     "data": {
      "text/html": [
       "<style>\n",
       ".tfx-object.expanded {\n",
       "  padding: 4px 8px 4px 8px;\n",
       "  background: white;\n",
       "  border: 1px solid #bbbbbb;\n",
       "  box-shadow: 4px 4px 2px rgba(0,0,0,0.05);\n",
       "}\n",
       ".tfx-object, .tfx-object * {\n",
       "  font-size: 11pt;\n",
       "}\n",
       ".tfx-object > .title {\n",
       "  cursor: pointer;\n",
       "}\n",
       ".tfx-object .expansion-marker {\n",
       "  color: #999999;\n",
       "}\n",
       ".tfx-object.expanded > .title > .expansion-marker:before {\n",
       "  content: '▼';\n",
       "}\n",
       ".tfx-object.collapsed > .title > .expansion-marker:before {\n",
       "  content: '▶';\n",
       "}\n",
       ".tfx-object .class-name {\n",
       "  font-weight: bold;\n",
       "}\n",
       ".tfx-object .deemphasize {\n",
       "  opacity: 0.5;\n",
       "}\n",
       ".tfx-object.collapsed > table.attr-table {\n",
       "  display: none;\n",
       "}\n",
       ".tfx-object.expanded > table.attr-table {\n",
       "  display: block;\n",
       "}\n",
       ".tfx-object table.attr-table {\n",
       "  border: 2px solid white;\n",
       "  margin-top: 5px;\n",
       "}\n",
       ".tfx-object table.attr-table td.attr-name {\n",
       "  vertical-align: top;\n",
       "  font-weight: bold;\n",
       "}\n",
       ".tfx-object table.attr-table td.attrvalue {\n",
       "  text-align: left;\n",
       "}\n",
       "</style>\n",
       "<script>\n",
       "function toggleTfxObject(element) {\n",
       "  var objElement = element.parentElement;\n",
       "  if (objElement.classList.contains('collapsed')) {\n",
       "    objElement.classList.remove('collapsed');\n",
       "    objElement.classList.add('expanded');\n",
       "  } else {\n",
       "    objElement.classList.add('collapsed');\n",
       "    objElement.classList.remove('expanded');\n",
       "  }\n",
       "}\n",
       "</script>\n",
       "<div class=\"tfx-object expanded\"><div class = \"title\" onclick=\"toggleTfxObject(this)\"><span class=\"expansion-marker\"></span><span class=\"class-name\">ExecutionResult</span><span class=\"deemphasize\"> at 0x7faa4c606320</span></div><table class=\"attr-table\"><tr><td class=\"attr-name\">.execution_id</td><td class = \"attrvalue\">7</td></tr><tr><td class=\"attr-name\">.component</td><td class = \"attrvalue\"><style>\n",
       ".tfx-object.expanded {\n",
       "  padding: 4px 8px 4px 8px;\n",
       "  background: white;\n",
       "  border: 1px solid #bbbbbb;\n",
       "  box-shadow: 4px 4px 2px rgba(0,0,0,0.05);\n",
       "}\n",
       ".tfx-object, .tfx-object * {\n",
       "  font-size: 11pt;\n",
       "}\n",
       ".tfx-object > .title {\n",
       "  cursor: pointer;\n",
       "}\n",
       ".tfx-object .expansion-marker {\n",
       "  color: #999999;\n",
       "}\n",
       ".tfx-object.expanded > .title > .expansion-marker:before {\n",
       "  content: '▼';\n",
       "}\n",
       ".tfx-object.collapsed > .title > .expansion-marker:before {\n",
       "  content: '▶';\n",
       "}\n",
       ".tfx-object .class-name {\n",
       "  font-weight: bold;\n",
       "}\n",
       ".tfx-object .deemphasize {\n",
       "  opacity: 0.5;\n",
       "}\n",
       ".tfx-object.collapsed > table.attr-table {\n",
       "  display: none;\n",
       "}\n",
       ".tfx-object.expanded > table.attr-table {\n",
       "  display: block;\n",
       "}\n",
       ".tfx-object table.attr-table {\n",
       "  border: 2px solid white;\n",
       "  margin-top: 5px;\n",
       "}\n",
       ".tfx-object table.attr-table td.attr-name {\n",
       "  vertical-align: top;\n",
       "  font-weight: bold;\n",
       "}\n",
       ".tfx-object table.attr-table td.attrvalue {\n",
       "  text-align: left;\n",
       "}\n",
       "</style>\n",
       "<script>\n",
       "function toggleTfxObject(element) {\n",
       "  var objElement = element.parentElement;\n",
       "  if (objElement.classList.contains('collapsed')) {\n",
       "    objElement.classList.remove('collapsed');\n",
       "    objElement.classList.add('expanded');\n",
       "  } else {\n",
       "    objElement.classList.add('collapsed');\n",
       "    objElement.classList.remove('expanded');\n",
       "  }\n",
       "}\n",
       "</script>\n",
       "<div class=\"tfx-object collapsed\"><div class = \"title\" onclick=\"toggleTfxObject(this)\"><span class=\"expansion-marker\"></span><span class=\"class-name\">Evaluator</span><span class=\"deemphasize\"> at 0x7fada64a1b70</span></div><table class=\"attr-table\"><tr><td class=\"attr-name\">.inputs</td><td class = \"attrvalue\"><table class=\"attr-table\"><tr><td class=\"attr-name\">['examples']</td><td class = \"attrvalue\"><style>\n",
       ".tfx-object.expanded {\n",
       "  padding: 4px 8px 4px 8px;\n",
       "  background: white;\n",
       "  border: 1px solid #bbbbbb;\n",
       "  box-shadow: 4px 4px 2px rgba(0,0,0,0.05);\n",
       "}\n",
       ".tfx-object, .tfx-object * {\n",
       "  font-size: 11pt;\n",
       "}\n",
       ".tfx-object > .title {\n",
       "  cursor: pointer;\n",
       "}\n",
       ".tfx-object .expansion-marker {\n",
       "  color: #999999;\n",
       "}\n",
       ".tfx-object.expanded > .title > .expansion-marker:before {\n",
       "  content: '▼';\n",
       "}\n",
       ".tfx-object.collapsed > .title > .expansion-marker:before {\n",
       "  content: '▶';\n",
       "}\n",
       ".tfx-object .class-name {\n",
       "  font-weight: bold;\n",
       "}\n",
       ".tfx-object .deemphasize {\n",
       "  opacity: 0.5;\n",
       "}\n",
       ".tfx-object.collapsed > table.attr-table {\n",
       "  display: none;\n",
       "}\n",
       ".tfx-object.expanded > table.attr-table {\n",
       "  display: block;\n",
       "}\n",
       ".tfx-object table.attr-table {\n",
       "  border: 2px solid white;\n",
       "  margin-top: 5px;\n",
       "}\n",
       ".tfx-object table.attr-table td.attr-name {\n",
       "  vertical-align: top;\n",
       "  font-weight: bold;\n",
       "}\n",
       ".tfx-object table.attr-table td.attrvalue {\n",
       "  text-align: left;\n",
       "}\n",
       "</style>\n",
       "<script>\n",
       "function toggleTfxObject(element) {\n",
       "  var objElement = element.parentElement;\n",
       "  if (objElement.classList.contains('collapsed')) {\n",
       "    objElement.classList.remove('collapsed');\n",
       "    objElement.classList.add('expanded');\n",
       "  } else {\n",
       "    objElement.classList.add('collapsed');\n",
       "    objElement.classList.remove('expanded');\n",
       "  }\n",
       "}\n",
       "</script>\n",
       "<div class=\"tfx-object collapsed\"><div class = \"title\" onclick=\"toggleTfxObject(this)\"><span class=\"expansion-marker\"></span><span class=\"class-name\">Channel</span> of type <span class=\"class-name\">'ExamplesPath'</span> (2 artifacts)<span class=\"deemphasize\"> at 0x7fade432c0f0</span></div><table class=\"attr-table\"><tr><td class=\"attr-name\">.type_name</td><td class = \"attrvalue\">ExamplesPath</td></tr><tr><td class=\"attr-name\">._artifacts</td><td class = \"attrvalue\"><table class=\"attr-table\"><tr><td class=\"attr-name\">[0]</td><td class = \"attrvalue\"><style>\n",
       ".tfx-object.expanded {\n",
       "  padding: 4px 8px 4px 8px;\n",
       "  background: white;\n",
       "  border: 1px solid #bbbbbb;\n",
       "  box-shadow: 4px 4px 2px rgba(0,0,0,0.05);\n",
       "}\n",
       ".tfx-object, .tfx-object * {\n",
       "  font-size: 11pt;\n",
       "}\n",
       ".tfx-object > .title {\n",
       "  cursor: pointer;\n",
       "}\n",
       ".tfx-object .expansion-marker {\n",
       "  color: #999999;\n",
       "}\n",
       ".tfx-object.expanded > .title > .expansion-marker:before {\n",
       "  content: '▼';\n",
       "}\n",
       ".tfx-object.collapsed > .title > .expansion-marker:before {\n",
       "  content: '▶';\n",
       "}\n",
       ".tfx-object .class-name {\n",
       "  font-weight: bold;\n",
       "}\n",
       ".tfx-object .deemphasize {\n",
       "  opacity: 0.5;\n",
       "}\n",
       ".tfx-object.collapsed > table.attr-table {\n",
       "  display: none;\n",
       "}\n",
       ".tfx-object.expanded > table.attr-table {\n",
       "  display: block;\n",
       "}\n",
       ".tfx-object table.attr-table {\n",
       "  border: 2px solid white;\n",
       "  margin-top: 5px;\n",
       "}\n",
       ".tfx-object table.attr-table td.attr-name {\n",
       "  vertical-align: top;\n",
       "  font-weight: bold;\n",
       "}\n",
       ".tfx-object table.attr-table td.attrvalue {\n",
       "  text-align: left;\n",
       "}\n",
       "</style>\n",
       "<script>\n",
       "function toggleTfxObject(element) {\n",
       "  var objElement = element.parentElement;\n",
       "  if (objElement.classList.contains('collapsed')) {\n",
       "    objElement.classList.remove('collapsed');\n",
       "    objElement.classList.add('expanded');\n",
       "  } else {\n",
       "    objElement.classList.add('collapsed');\n",
       "    objElement.classList.remove('expanded');\n",
       "  }\n",
       "}\n",
       "</script>\n",
       "<div class=\"tfx-object collapsed\"><div class = \"title\" onclick=\"toggleTfxObject(this)\"><span class=\"expansion-marker\"></span><span class=\"class-name\">Artifact</span> of type <span class=\"class-name\">'ExamplesPath'</span> (uri: /tmp/tfx-interactive-2019-09-13T16_46_14.222336-5zedre0a/CsvExampleGen/examples/1/train/)<span class=\"deemphasize\"> at 0x7fade432c978</span></div><table class=\"attr-table\"><tr><td class=\"attr-name\">.type_name</td><td class = \"attrvalue\">ExamplesPath</td></tr><tr><td class=\"attr-name\">.uri</td><td class = \"attrvalue\">/tmp/tfx-interactive-2019-09-13T16_46_14.222336-5zedre0a/CsvExampleGen/examples/1/train/</td></tr><tr><td class=\"attr-name\">.span</td><td class = \"attrvalue\">0</td></tr><tr><td class=\"attr-name\">.split</td><td class = \"attrvalue\">train</td></tr></table></div></td></tr><tr><td class=\"attr-name\">[1]</td><td class = \"attrvalue\"><style>\n",
       ".tfx-object.expanded {\n",
       "  padding: 4px 8px 4px 8px;\n",
       "  background: white;\n",
       "  border: 1px solid #bbbbbb;\n",
       "  box-shadow: 4px 4px 2px rgba(0,0,0,0.05);\n",
       "}\n",
       ".tfx-object, .tfx-object * {\n",
       "  font-size: 11pt;\n",
       "}\n",
       ".tfx-object > .title {\n",
       "  cursor: pointer;\n",
       "}\n",
       ".tfx-object .expansion-marker {\n",
       "  color: #999999;\n",
       "}\n",
       ".tfx-object.expanded > .title > .expansion-marker:before {\n",
       "  content: '▼';\n",
       "}\n",
       ".tfx-object.collapsed > .title > .expansion-marker:before {\n",
       "  content: '▶';\n",
       "}\n",
       ".tfx-object .class-name {\n",
       "  font-weight: bold;\n",
       "}\n",
       ".tfx-object .deemphasize {\n",
       "  opacity: 0.5;\n",
       "}\n",
       ".tfx-object.collapsed > table.attr-table {\n",
       "  display: none;\n",
       "}\n",
       ".tfx-object.expanded > table.attr-table {\n",
       "  display: block;\n",
       "}\n",
       ".tfx-object table.attr-table {\n",
       "  border: 2px solid white;\n",
       "  margin-top: 5px;\n",
       "}\n",
       ".tfx-object table.attr-table td.attr-name {\n",
       "  vertical-align: top;\n",
       "  font-weight: bold;\n",
       "}\n",
       ".tfx-object table.attr-table td.attrvalue {\n",
       "  text-align: left;\n",
       "}\n",
       "</style>\n",
       "<script>\n",
       "function toggleTfxObject(element) {\n",
       "  var objElement = element.parentElement;\n",
       "  if (objElement.classList.contains('collapsed')) {\n",
       "    objElement.classList.remove('collapsed');\n",
       "    objElement.classList.add('expanded');\n",
       "  } else {\n",
       "    objElement.classList.add('collapsed');\n",
       "    objElement.classList.remove('expanded');\n",
       "  }\n",
       "}\n",
       "</script>\n",
       "<div class=\"tfx-object collapsed\"><div class = \"title\" onclick=\"toggleTfxObject(this)\"><span class=\"expansion-marker\"></span><span class=\"class-name\">Artifact</span> of type <span class=\"class-name\">'ExamplesPath'</span> (uri: /tmp/tfx-interactive-2019-09-13T16_46_14.222336-5zedre0a/CsvExampleGen/examples/1/eval/)<span class=\"deemphasize\"> at 0x7fade432c198</span></div><table class=\"attr-table\"><tr><td class=\"attr-name\">.type_name</td><td class = \"attrvalue\">ExamplesPath</td></tr><tr><td class=\"attr-name\">.uri</td><td class = \"attrvalue\">/tmp/tfx-interactive-2019-09-13T16_46_14.222336-5zedre0a/CsvExampleGen/examples/1/eval/</td></tr><tr><td class=\"attr-name\">.span</td><td class = \"attrvalue\">0</td></tr><tr><td class=\"attr-name\">.split</td><td class = \"attrvalue\">eval</td></tr></table></div></td></tr></table></td></tr></table></div></td></tr><tr><td class=\"attr-name\">['model_exports']</td><td class = \"attrvalue\"><style>\n",
       ".tfx-object.expanded {\n",
       "  padding: 4px 8px 4px 8px;\n",
       "  background: white;\n",
       "  border: 1px solid #bbbbbb;\n",
       "  box-shadow: 4px 4px 2px rgba(0,0,0,0.05);\n",
       "}\n",
       ".tfx-object, .tfx-object * {\n",
       "  font-size: 11pt;\n",
       "}\n",
       ".tfx-object > .title {\n",
       "  cursor: pointer;\n",
       "}\n",
       ".tfx-object .expansion-marker {\n",
       "  color: #999999;\n",
       "}\n",
       ".tfx-object.expanded > .title > .expansion-marker:before {\n",
       "  content: '▼';\n",
       "}\n",
       ".tfx-object.collapsed > .title > .expansion-marker:before {\n",
       "  content: '▶';\n",
       "}\n",
       ".tfx-object .class-name {\n",
       "  font-weight: bold;\n",
       "}\n",
       ".tfx-object .deemphasize {\n",
       "  opacity: 0.5;\n",
       "}\n",
       ".tfx-object.collapsed > table.attr-table {\n",
       "  display: none;\n",
       "}\n",
       ".tfx-object.expanded > table.attr-table {\n",
       "  display: block;\n",
       "}\n",
       ".tfx-object table.attr-table {\n",
       "  border: 2px solid white;\n",
       "  margin-top: 5px;\n",
       "}\n",
       ".tfx-object table.attr-table td.attr-name {\n",
       "  vertical-align: top;\n",
       "  font-weight: bold;\n",
       "}\n",
       ".tfx-object table.attr-table td.attrvalue {\n",
       "  text-align: left;\n",
       "}\n",
       "</style>\n",
       "<script>\n",
       "function toggleTfxObject(element) {\n",
       "  var objElement = element.parentElement;\n",
       "  if (objElement.classList.contains('collapsed')) {\n",
       "    objElement.classList.remove('collapsed');\n",
       "    objElement.classList.add('expanded');\n",
       "  } else {\n",
       "    objElement.classList.add('collapsed');\n",
       "    objElement.classList.remove('expanded');\n",
       "  }\n",
       "}\n",
       "</script>\n",
       "<div class=\"tfx-object collapsed\"><div class = \"title\" onclick=\"toggleTfxObject(this)\"><span class=\"expansion-marker\"></span><span class=\"class-name\">Channel</span> of type <span class=\"class-name\">'ModelExportPath'</span> (1 artifact)<span class=\"deemphasize\"> at 0x7face15a15c0</span></div><table class=\"attr-table\"><tr><td class=\"attr-name\">.type_name</td><td class = \"attrvalue\">ModelExportPath</td></tr><tr><td class=\"attr-name\">._artifacts</td><td class = \"attrvalue\"><table class=\"attr-table\"><tr><td class=\"attr-name\">[0]</td><td class = \"attrvalue\"><style>\n",
       ".tfx-object.expanded {\n",
       "  padding: 4px 8px 4px 8px;\n",
       "  background: white;\n",
       "  border: 1px solid #bbbbbb;\n",
       "  box-shadow: 4px 4px 2px rgba(0,0,0,0.05);\n",
       "}\n",
       ".tfx-object, .tfx-object * {\n",
       "  font-size: 11pt;\n",
       "}\n",
       ".tfx-object > .title {\n",
       "  cursor: pointer;\n",
       "}\n",
       ".tfx-object .expansion-marker {\n",
       "  color: #999999;\n",
       "}\n",
       ".tfx-object.expanded > .title > .expansion-marker:before {\n",
       "  content: '▼';\n",
       "}\n",
       ".tfx-object.collapsed > .title > .expansion-marker:before {\n",
       "  content: '▶';\n",
       "}\n",
       ".tfx-object .class-name {\n",
       "  font-weight: bold;\n",
       "}\n",
       ".tfx-object .deemphasize {\n",
       "  opacity: 0.5;\n",
       "}\n",
       ".tfx-object.collapsed > table.attr-table {\n",
       "  display: none;\n",
       "}\n",
       ".tfx-object.expanded > table.attr-table {\n",
       "  display: block;\n",
       "}\n",
       ".tfx-object table.attr-table {\n",
       "  border: 2px solid white;\n",
       "  margin-top: 5px;\n",
       "}\n",
       ".tfx-object table.attr-table td.attr-name {\n",
       "  vertical-align: top;\n",
       "  font-weight: bold;\n",
       "}\n",
       ".tfx-object table.attr-table td.attrvalue {\n",
       "  text-align: left;\n",
       "}\n",
       "</style>\n",
       "<script>\n",
       "function toggleTfxObject(element) {\n",
       "  var objElement = element.parentElement;\n",
       "  if (objElement.classList.contains('collapsed')) {\n",
       "    objElement.classList.remove('collapsed');\n",
       "    objElement.classList.add('expanded');\n",
       "  } else {\n",
       "    objElement.classList.add('collapsed');\n",
       "    objElement.classList.remove('expanded');\n",
       "  }\n",
       "}\n",
       "</script>\n",
       "<div class=\"tfx-object collapsed\"><div class = \"title\" onclick=\"toggleTfxObject(this)\"><span class=\"expansion-marker\"></span><span class=\"class-name\">Artifact</span> of type <span class=\"class-name\">'ModelExportPath'</span> (uri: /tmp/tfx-interactive-2019-09-13T16_46_14.222336-5zedre0a/Trainer/output/6/)<span class=\"deemphasize\"> at 0x7fac844948d0</span></div><table class=\"attr-table\"><tr><td class=\"attr-name\">.type_name</td><td class = \"attrvalue\">ModelExportPath</td></tr><tr><td class=\"attr-name\">.uri</td><td class = \"attrvalue\">/tmp/tfx-interactive-2019-09-13T16_46_14.222336-5zedre0a/Trainer/output/6/</td></tr><tr><td class=\"attr-name\">.span</td><td class = \"attrvalue\">0</td></tr><tr><td class=\"attr-name\">.split</td><td class = \"attrvalue\"></td></tr></table></div></td></tr></table></td></tr></table></div></td></tr></table></td></tr><tr><td class=\"attr-name\">.outputs</td><td class = \"attrvalue\"><table class=\"attr-table\"><tr><td class=\"attr-name\">['output']</td><td class = \"attrvalue\"><style>\n",
       ".tfx-object.expanded {\n",
       "  padding: 4px 8px 4px 8px;\n",
       "  background: white;\n",
       "  border: 1px solid #bbbbbb;\n",
       "  box-shadow: 4px 4px 2px rgba(0,0,0,0.05);\n",
       "}\n",
       ".tfx-object, .tfx-object * {\n",
       "  font-size: 11pt;\n",
       "}\n",
       ".tfx-object > .title {\n",
       "  cursor: pointer;\n",
       "}\n",
       ".tfx-object .expansion-marker {\n",
       "  color: #999999;\n",
       "}\n",
       ".tfx-object.expanded > .title > .expansion-marker:before {\n",
       "  content: '▼';\n",
       "}\n",
       ".tfx-object.collapsed > .title > .expansion-marker:before {\n",
       "  content: '▶';\n",
       "}\n",
       ".tfx-object .class-name {\n",
       "  font-weight: bold;\n",
       "}\n",
       ".tfx-object .deemphasize {\n",
       "  opacity: 0.5;\n",
       "}\n",
       ".tfx-object.collapsed > table.attr-table {\n",
       "  display: none;\n",
       "}\n",
       ".tfx-object.expanded > table.attr-table {\n",
       "  display: block;\n",
       "}\n",
       ".tfx-object table.attr-table {\n",
       "  border: 2px solid white;\n",
       "  margin-top: 5px;\n",
       "}\n",
       ".tfx-object table.attr-table td.attr-name {\n",
       "  vertical-align: top;\n",
       "  font-weight: bold;\n",
       "}\n",
       ".tfx-object table.attr-table td.attrvalue {\n",
       "  text-align: left;\n",
       "}\n",
       "</style>\n",
       "<script>\n",
       "function toggleTfxObject(element) {\n",
       "  var objElement = element.parentElement;\n",
       "  if (objElement.classList.contains('collapsed')) {\n",
       "    objElement.classList.remove('collapsed');\n",
       "    objElement.classList.add('expanded');\n",
       "  } else {\n",
       "    objElement.classList.add('collapsed');\n",
       "    objElement.classList.remove('expanded');\n",
       "  }\n",
       "}\n",
       "</script>\n",
       "<div class=\"tfx-object collapsed\"><div class = \"title\" onclick=\"toggleTfxObject(this)\"><span class=\"expansion-marker\"></span><span class=\"class-name\">Channel</span> of type <span class=\"class-name\">'ModelEvalPath'</span> (1 artifact)<span class=\"deemphasize\"> at 0x7faa4c365080</span></div><table class=\"attr-table\"><tr><td class=\"attr-name\">.type_name</td><td class = \"attrvalue\">ModelEvalPath</td></tr><tr><td class=\"attr-name\">._artifacts</td><td class = \"attrvalue\"><table class=\"attr-table\"><tr><td class=\"attr-name\">[0]</td><td class = \"attrvalue\"><style>\n",
       ".tfx-object.expanded {\n",
       "  padding: 4px 8px 4px 8px;\n",
       "  background: white;\n",
       "  border: 1px solid #bbbbbb;\n",
       "  box-shadow: 4px 4px 2px rgba(0,0,0,0.05);\n",
       "}\n",
       ".tfx-object, .tfx-object * {\n",
       "  font-size: 11pt;\n",
       "}\n",
       ".tfx-object > .title {\n",
       "  cursor: pointer;\n",
       "}\n",
       ".tfx-object .expansion-marker {\n",
       "  color: #999999;\n",
       "}\n",
       ".tfx-object.expanded > .title > .expansion-marker:before {\n",
       "  content: '▼';\n",
       "}\n",
       ".tfx-object.collapsed > .title > .expansion-marker:before {\n",
       "  content: '▶';\n",
       "}\n",
       ".tfx-object .class-name {\n",
       "  font-weight: bold;\n",
       "}\n",
       ".tfx-object .deemphasize {\n",
       "  opacity: 0.5;\n",
       "}\n",
       ".tfx-object.collapsed > table.attr-table {\n",
       "  display: none;\n",
       "}\n",
       ".tfx-object.expanded > table.attr-table {\n",
       "  display: block;\n",
       "}\n",
       ".tfx-object table.attr-table {\n",
       "  border: 2px solid white;\n",
       "  margin-top: 5px;\n",
       "}\n",
       ".tfx-object table.attr-table td.attr-name {\n",
       "  vertical-align: top;\n",
       "  font-weight: bold;\n",
       "}\n",
       ".tfx-object table.attr-table td.attrvalue {\n",
       "  text-align: left;\n",
       "}\n",
       "</style>\n",
       "<script>\n",
       "function toggleTfxObject(element) {\n",
       "  var objElement = element.parentElement;\n",
       "  if (objElement.classList.contains('collapsed')) {\n",
       "    objElement.classList.remove('collapsed');\n",
       "    objElement.classList.add('expanded');\n",
       "  } else {\n",
       "    objElement.classList.add('collapsed');\n",
       "    objElement.classList.remove('expanded');\n",
       "  }\n",
       "}\n",
       "</script>\n",
       "<div class=\"tfx-object collapsed\"><div class = \"title\" onclick=\"toggleTfxObject(this)\"><span class=\"expansion-marker\"></span><span class=\"class-name\">Artifact</span> of type <span class=\"class-name\">'ModelEvalPath'</span> (uri: /tmp/tfx-interactive-2019-09-13T16_46_14.222336-5zedre0a/Evaluator/output/7/)<span class=\"deemphasize\"> at 0x7fada64a1208</span></div><table class=\"attr-table\"><tr><td class=\"attr-name\">.type_name</td><td class = \"attrvalue\">ModelEvalPath</td></tr><tr><td class=\"attr-name\">.uri</td><td class = \"attrvalue\">/tmp/tfx-interactive-2019-09-13T16_46_14.222336-5zedre0a/Evaluator/output/7/</td></tr><tr><td class=\"attr-name\">.span</td><td class = \"attrvalue\">0</td></tr><tr><td class=\"attr-name\">.split</td><td class = \"attrvalue\"></td></tr></table></div></td></tr></table></td></tr></table></div></td></tr></table></td></tr><tr><td class=\"attr-name\">.exec_properties</td><td class = \"attrvalue\"><table class=\"attr-table\"><tr><td class=\"attr-name\">['feature_slicing_spec']</td><td class = \"attrvalue\">{\n",
       "  \"specs\": [\n",
       "    {},\n",
       "    {\n",
       "      \"columnForSlicing\": [\n",
       "        \"trip_start_hour\"\n",
       "      ]\n",
       "    },\n",
       "    {\n",
       "      \"columnForSlicing\": [\n",
       "        \"trip_start_day\",\n",
       "        \"trip_start_month\"\n",
       "      ]\n",
       "    }\n",
       "  ]\n",
       "}</td></tr></table></td></tr></table></div></td></tr><tr><td class=\"attr-name\">.component.inputs</td><td class = \"attrvalue\"><table class=\"attr-table\"><tr><td class=\"attr-name\">['examples']</td><td class = \"attrvalue\"><style>\n",
       ".tfx-object.expanded {\n",
       "  padding: 4px 8px 4px 8px;\n",
       "  background: white;\n",
       "  border: 1px solid #bbbbbb;\n",
       "  box-shadow: 4px 4px 2px rgba(0,0,0,0.05);\n",
       "}\n",
       ".tfx-object, .tfx-object * {\n",
       "  font-size: 11pt;\n",
       "}\n",
       ".tfx-object > .title {\n",
       "  cursor: pointer;\n",
       "}\n",
       ".tfx-object .expansion-marker {\n",
       "  color: #999999;\n",
       "}\n",
       ".tfx-object.expanded > .title > .expansion-marker:before {\n",
       "  content: '▼';\n",
       "}\n",
       ".tfx-object.collapsed > .title > .expansion-marker:before {\n",
       "  content: '▶';\n",
       "}\n",
       ".tfx-object .class-name {\n",
       "  font-weight: bold;\n",
       "}\n",
       ".tfx-object .deemphasize {\n",
       "  opacity: 0.5;\n",
       "}\n",
       ".tfx-object.collapsed > table.attr-table {\n",
       "  display: none;\n",
       "}\n",
       ".tfx-object.expanded > table.attr-table {\n",
       "  display: block;\n",
       "}\n",
       ".tfx-object table.attr-table {\n",
       "  border: 2px solid white;\n",
       "  margin-top: 5px;\n",
       "}\n",
       ".tfx-object table.attr-table td.attr-name {\n",
       "  vertical-align: top;\n",
       "  font-weight: bold;\n",
       "}\n",
       ".tfx-object table.attr-table td.attrvalue {\n",
       "  text-align: left;\n",
       "}\n",
       "</style>\n",
       "<script>\n",
       "function toggleTfxObject(element) {\n",
       "  var objElement = element.parentElement;\n",
       "  if (objElement.classList.contains('collapsed')) {\n",
       "    objElement.classList.remove('collapsed');\n",
       "    objElement.classList.add('expanded');\n",
       "  } else {\n",
       "    objElement.classList.add('collapsed');\n",
       "    objElement.classList.remove('expanded');\n",
       "  }\n",
       "}\n",
       "</script>\n",
       "<div class=\"tfx-object collapsed\"><div class = \"title\" onclick=\"toggleTfxObject(this)\"><span class=\"expansion-marker\"></span><span class=\"class-name\">Channel</span> of type <span class=\"class-name\">'ExamplesPath'</span> (2 artifacts)<span class=\"deemphasize\"> at 0x7fade432c0f0</span></div><table class=\"attr-table\"><tr><td class=\"attr-name\">.type_name</td><td class = \"attrvalue\">ExamplesPath</td></tr><tr><td class=\"attr-name\">._artifacts</td><td class = \"attrvalue\"><table class=\"attr-table\"><tr><td class=\"attr-name\">[0]</td><td class = \"attrvalue\"><style>\n",
       ".tfx-object.expanded {\n",
       "  padding: 4px 8px 4px 8px;\n",
       "  background: white;\n",
       "  border: 1px solid #bbbbbb;\n",
       "  box-shadow: 4px 4px 2px rgba(0,0,0,0.05);\n",
       "}\n",
       ".tfx-object, .tfx-object * {\n",
       "  font-size: 11pt;\n",
       "}\n",
       ".tfx-object > .title {\n",
       "  cursor: pointer;\n",
       "}\n",
       ".tfx-object .expansion-marker {\n",
       "  color: #999999;\n",
       "}\n",
       ".tfx-object.expanded > .title > .expansion-marker:before {\n",
       "  content: '▼';\n",
       "}\n",
       ".tfx-object.collapsed > .title > .expansion-marker:before {\n",
       "  content: '▶';\n",
       "}\n",
       ".tfx-object .class-name {\n",
       "  font-weight: bold;\n",
       "}\n",
       ".tfx-object .deemphasize {\n",
       "  opacity: 0.5;\n",
       "}\n",
       ".tfx-object.collapsed > table.attr-table {\n",
       "  display: none;\n",
       "}\n",
       ".tfx-object.expanded > table.attr-table {\n",
       "  display: block;\n",
       "}\n",
       ".tfx-object table.attr-table {\n",
       "  border: 2px solid white;\n",
       "  margin-top: 5px;\n",
       "}\n",
       ".tfx-object table.attr-table td.attr-name {\n",
       "  vertical-align: top;\n",
       "  font-weight: bold;\n",
       "}\n",
       ".tfx-object table.attr-table td.attrvalue {\n",
       "  text-align: left;\n",
       "}\n",
       "</style>\n",
       "<script>\n",
       "function toggleTfxObject(element) {\n",
       "  var objElement = element.parentElement;\n",
       "  if (objElement.classList.contains('collapsed')) {\n",
       "    objElement.classList.remove('collapsed');\n",
       "    objElement.classList.add('expanded');\n",
       "  } else {\n",
       "    objElement.classList.add('collapsed');\n",
       "    objElement.classList.remove('expanded');\n",
       "  }\n",
       "}\n",
       "</script>\n",
       "<div class=\"tfx-object collapsed\"><div class = \"title\" onclick=\"toggleTfxObject(this)\"><span class=\"expansion-marker\"></span><span class=\"class-name\">Artifact</span> of type <span class=\"class-name\">'ExamplesPath'</span> (uri: /tmp/tfx-interactive-2019-09-13T16_46_14.222336-5zedre0a/CsvExampleGen/examples/1/train/)<span class=\"deemphasize\"> at 0x7fade432c978</span></div><table class=\"attr-table\"><tr><td class=\"attr-name\">.type_name</td><td class = \"attrvalue\">ExamplesPath</td></tr><tr><td class=\"attr-name\">.uri</td><td class = \"attrvalue\">/tmp/tfx-interactive-2019-09-13T16_46_14.222336-5zedre0a/CsvExampleGen/examples/1/train/</td></tr><tr><td class=\"attr-name\">.span</td><td class = \"attrvalue\">0</td></tr><tr><td class=\"attr-name\">.split</td><td class = \"attrvalue\">train</td></tr></table></div></td></tr><tr><td class=\"attr-name\">[1]</td><td class = \"attrvalue\"><style>\n",
       ".tfx-object.expanded {\n",
       "  padding: 4px 8px 4px 8px;\n",
       "  background: white;\n",
       "  border: 1px solid #bbbbbb;\n",
       "  box-shadow: 4px 4px 2px rgba(0,0,0,0.05);\n",
       "}\n",
       ".tfx-object, .tfx-object * {\n",
       "  font-size: 11pt;\n",
       "}\n",
       ".tfx-object > .title {\n",
       "  cursor: pointer;\n",
       "}\n",
       ".tfx-object .expansion-marker {\n",
       "  color: #999999;\n",
       "}\n",
       ".tfx-object.expanded > .title > .expansion-marker:before {\n",
       "  content: '▼';\n",
       "}\n",
       ".tfx-object.collapsed > .title > .expansion-marker:before {\n",
       "  content: '▶';\n",
       "}\n",
       ".tfx-object .class-name {\n",
       "  font-weight: bold;\n",
       "}\n",
       ".tfx-object .deemphasize {\n",
       "  opacity: 0.5;\n",
       "}\n",
       ".tfx-object.collapsed > table.attr-table {\n",
       "  display: none;\n",
       "}\n",
       ".tfx-object.expanded > table.attr-table {\n",
       "  display: block;\n",
       "}\n",
       ".tfx-object table.attr-table {\n",
       "  border: 2px solid white;\n",
       "  margin-top: 5px;\n",
       "}\n",
       ".tfx-object table.attr-table td.attr-name {\n",
       "  vertical-align: top;\n",
       "  font-weight: bold;\n",
       "}\n",
       ".tfx-object table.attr-table td.attrvalue {\n",
       "  text-align: left;\n",
       "}\n",
       "</style>\n",
       "<script>\n",
       "function toggleTfxObject(element) {\n",
       "  var objElement = element.parentElement;\n",
       "  if (objElement.classList.contains('collapsed')) {\n",
       "    objElement.classList.remove('collapsed');\n",
       "    objElement.classList.add('expanded');\n",
       "  } else {\n",
       "    objElement.classList.add('collapsed');\n",
       "    objElement.classList.remove('expanded');\n",
       "  }\n",
       "}\n",
       "</script>\n",
       "<div class=\"tfx-object collapsed\"><div class = \"title\" onclick=\"toggleTfxObject(this)\"><span class=\"expansion-marker\"></span><span class=\"class-name\">Artifact</span> of type <span class=\"class-name\">'ExamplesPath'</span> (uri: /tmp/tfx-interactive-2019-09-13T16_46_14.222336-5zedre0a/CsvExampleGen/examples/1/eval/)<span class=\"deemphasize\"> at 0x7fade432c198</span></div><table class=\"attr-table\"><tr><td class=\"attr-name\">.type_name</td><td class = \"attrvalue\">ExamplesPath</td></tr><tr><td class=\"attr-name\">.uri</td><td class = \"attrvalue\">/tmp/tfx-interactive-2019-09-13T16_46_14.222336-5zedre0a/CsvExampleGen/examples/1/eval/</td></tr><tr><td class=\"attr-name\">.span</td><td class = \"attrvalue\">0</td></tr><tr><td class=\"attr-name\">.split</td><td class = \"attrvalue\">eval</td></tr></table></div></td></tr></table></td></tr></table></div></td></tr><tr><td class=\"attr-name\">['model_exports']</td><td class = \"attrvalue\"><style>\n",
       ".tfx-object.expanded {\n",
       "  padding: 4px 8px 4px 8px;\n",
       "  background: white;\n",
       "  border: 1px solid #bbbbbb;\n",
       "  box-shadow: 4px 4px 2px rgba(0,0,0,0.05);\n",
       "}\n",
       ".tfx-object, .tfx-object * {\n",
       "  font-size: 11pt;\n",
       "}\n",
       ".tfx-object > .title {\n",
       "  cursor: pointer;\n",
       "}\n",
       ".tfx-object .expansion-marker {\n",
       "  color: #999999;\n",
       "}\n",
       ".tfx-object.expanded > .title > .expansion-marker:before {\n",
       "  content: '▼';\n",
       "}\n",
       ".tfx-object.collapsed > .title > .expansion-marker:before {\n",
       "  content: '▶';\n",
       "}\n",
       ".tfx-object .class-name {\n",
       "  font-weight: bold;\n",
       "}\n",
       ".tfx-object .deemphasize {\n",
       "  opacity: 0.5;\n",
       "}\n",
       ".tfx-object.collapsed > table.attr-table {\n",
       "  display: none;\n",
       "}\n",
       ".tfx-object.expanded > table.attr-table {\n",
       "  display: block;\n",
       "}\n",
       ".tfx-object table.attr-table {\n",
       "  border: 2px solid white;\n",
       "  margin-top: 5px;\n",
       "}\n",
       ".tfx-object table.attr-table td.attr-name {\n",
       "  vertical-align: top;\n",
       "  font-weight: bold;\n",
       "}\n",
       ".tfx-object table.attr-table td.attrvalue {\n",
       "  text-align: left;\n",
       "}\n",
       "</style>\n",
       "<script>\n",
       "function toggleTfxObject(element) {\n",
       "  var objElement = element.parentElement;\n",
       "  if (objElement.classList.contains('collapsed')) {\n",
       "    objElement.classList.remove('collapsed');\n",
       "    objElement.classList.add('expanded');\n",
       "  } else {\n",
       "    objElement.classList.add('collapsed');\n",
       "    objElement.classList.remove('expanded');\n",
       "  }\n",
       "}\n",
       "</script>\n",
       "<div class=\"tfx-object collapsed\"><div class = \"title\" onclick=\"toggleTfxObject(this)\"><span class=\"expansion-marker\"></span><span class=\"class-name\">Channel</span> of type <span class=\"class-name\">'ModelExportPath'</span> (1 artifact)<span class=\"deemphasize\"> at 0x7face15a15c0</span></div><table class=\"attr-table\"><tr><td class=\"attr-name\">.type_name</td><td class = \"attrvalue\">ModelExportPath</td></tr><tr><td class=\"attr-name\">._artifacts</td><td class = \"attrvalue\"><table class=\"attr-table\"><tr><td class=\"attr-name\">[0]</td><td class = \"attrvalue\"><style>\n",
       ".tfx-object.expanded {\n",
       "  padding: 4px 8px 4px 8px;\n",
       "  background: white;\n",
       "  border: 1px solid #bbbbbb;\n",
       "  box-shadow: 4px 4px 2px rgba(0,0,0,0.05);\n",
       "}\n",
       ".tfx-object, .tfx-object * {\n",
       "  font-size: 11pt;\n",
       "}\n",
       ".tfx-object > .title {\n",
       "  cursor: pointer;\n",
       "}\n",
       ".tfx-object .expansion-marker {\n",
       "  color: #999999;\n",
       "}\n",
       ".tfx-object.expanded > .title > .expansion-marker:before {\n",
       "  content: '▼';\n",
       "}\n",
       ".tfx-object.collapsed > .title > .expansion-marker:before {\n",
       "  content: '▶';\n",
       "}\n",
       ".tfx-object .class-name {\n",
       "  font-weight: bold;\n",
       "}\n",
       ".tfx-object .deemphasize {\n",
       "  opacity: 0.5;\n",
       "}\n",
       ".tfx-object.collapsed > table.attr-table {\n",
       "  display: none;\n",
       "}\n",
       ".tfx-object.expanded > table.attr-table {\n",
       "  display: block;\n",
       "}\n",
       ".tfx-object table.attr-table {\n",
       "  border: 2px solid white;\n",
       "  margin-top: 5px;\n",
       "}\n",
       ".tfx-object table.attr-table td.attr-name {\n",
       "  vertical-align: top;\n",
       "  font-weight: bold;\n",
       "}\n",
       ".tfx-object table.attr-table td.attrvalue {\n",
       "  text-align: left;\n",
       "}\n",
       "</style>\n",
       "<script>\n",
       "function toggleTfxObject(element) {\n",
       "  var objElement = element.parentElement;\n",
       "  if (objElement.classList.contains('collapsed')) {\n",
       "    objElement.classList.remove('collapsed');\n",
       "    objElement.classList.add('expanded');\n",
       "  } else {\n",
       "    objElement.classList.add('collapsed');\n",
       "    objElement.classList.remove('expanded');\n",
       "  }\n",
       "}\n",
       "</script>\n",
       "<div class=\"tfx-object collapsed\"><div class = \"title\" onclick=\"toggleTfxObject(this)\"><span class=\"expansion-marker\"></span><span class=\"class-name\">Artifact</span> of type <span class=\"class-name\">'ModelExportPath'</span> (uri: /tmp/tfx-interactive-2019-09-13T16_46_14.222336-5zedre0a/Trainer/output/6/)<span class=\"deemphasize\"> at 0x7fac844948d0</span></div><table class=\"attr-table\"><tr><td class=\"attr-name\">.type_name</td><td class = \"attrvalue\">ModelExportPath</td></tr><tr><td class=\"attr-name\">.uri</td><td class = \"attrvalue\">/tmp/tfx-interactive-2019-09-13T16_46_14.222336-5zedre0a/Trainer/output/6/</td></tr><tr><td class=\"attr-name\">.span</td><td class = \"attrvalue\">0</td></tr><tr><td class=\"attr-name\">.split</td><td class = \"attrvalue\"></td></tr></table></div></td></tr></table></td></tr></table></div></td></tr></table></td></tr><tr><td class=\"attr-name\">.component.outputs</td><td class = \"attrvalue\"><table class=\"attr-table\"><tr><td class=\"attr-name\">['output']</td><td class = \"attrvalue\"><style>\n",
       ".tfx-object.expanded {\n",
       "  padding: 4px 8px 4px 8px;\n",
       "  background: white;\n",
       "  border: 1px solid #bbbbbb;\n",
       "  box-shadow: 4px 4px 2px rgba(0,0,0,0.05);\n",
       "}\n",
       ".tfx-object, .tfx-object * {\n",
       "  font-size: 11pt;\n",
       "}\n",
       ".tfx-object > .title {\n",
       "  cursor: pointer;\n",
       "}\n",
       ".tfx-object .expansion-marker {\n",
       "  color: #999999;\n",
       "}\n",
       ".tfx-object.expanded > .title > .expansion-marker:before {\n",
       "  content: '▼';\n",
       "}\n",
       ".tfx-object.collapsed > .title > .expansion-marker:before {\n",
       "  content: '▶';\n",
       "}\n",
       ".tfx-object .class-name {\n",
       "  font-weight: bold;\n",
       "}\n",
       ".tfx-object .deemphasize {\n",
       "  opacity: 0.5;\n",
       "}\n",
       ".tfx-object.collapsed > table.attr-table {\n",
       "  display: none;\n",
       "}\n",
       ".tfx-object.expanded > table.attr-table {\n",
       "  display: block;\n",
       "}\n",
       ".tfx-object table.attr-table {\n",
       "  border: 2px solid white;\n",
       "  margin-top: 5px;\n",
       "}\n",
       ".tfx-object table.attr-table td.attr-name {\n",
       "  vertical-align: top;\n",
       "  font-weight: bold;\n",
       "}\n",
       ".tfx-object table.attr-table td.attrvalue {\n",
       "  text-align: left;\n",
       "}\n",
       "</style>\n",
       "<script>\n",
       "function toggleTfxObject(element) {\n",
       "  var objElement = element.parentElement;\n",
       "  if (objElement.classList.contains('collapsed')) {\n",
       "    objElement.classList.remove('collapsed');\n",
       "    objElement.classList.add('expanded');\n",
       "  } else {\n",
       "    objElement.classList.add('collapsed');\n",
       "    objElement.classList.remove('expanded');\n",
       "  }\n",
       "}\n",
       "</script>\n",
       "<div class=\"tfx-object collapsed\"><div class = \"title\" onclick=\"toggleTfxObject(this)\"><span class=\"expansion-marker\"></span><span class=\"class-name\">Channel</span> of type <span class=\"class-name\">'ModelEvalPath'</span> (1 artifact)<span class=\"deemphasize\"> at 0x7faa4c365080</span></div><table class=\"attr-table\"><tr><td class=\"attr-name\">.type_name</td><td class = \"attrvalue\">ModelEvalPath</td></tr><tr><td class=\"attr-name\">._artifacts</td><td class = \"attrvalue\"><table class=\"attr-table\"><tr><td class=\"attr-name\">[0]</td><td class = \"attrvalue\"><style>\n",
       ".tfx-object.expanded {\n",
       "  padding: 4px 8px 4px 8px;\n",
       "  background: white;\n",
       "  border: 1px solid #bbbbbb;\n",
       "  box-shadow: 4px 4px 2px rgba(0,0,0,0.05);\n",
       "}\n",
       ".tfx-object, .tfx-object * {\n",
       "  font-size: 11pt;\n",
       "}\n",
       ".tfx-object > .title {\n",
       "  cursor: pointer;\n",
       "}\n",
       ".tfx-object .expansion-marker {\n",
       "  color: #999999;\n",
       "}\n",
       ".tfx-object.expanded > .title > .expansion-marker:before {\n",
       "  content: '▼';\n",
       "}\n",
       ".tfx-object.collapsed > .title > .expansion-marker:before {\n",
       "  content: '▶';\n",
       "}\n",
       ".tfx-object .class-name {\n",
       "  font-weight: bold;\n",
       "}\n",
       ".tfx-object .deemphasize {\n",
       "  opacity: 0.5;\n",
       "}\n",
       ".tfx-object.collapsed > table.attr-table {\n",
       "  display: none;\n",
       "}\n",
       ".tfx-object.expanded > table.attr-table {\n",
       "  display: block;\n",
       "}\n",
       ".tfx-object table.attr-table {\n",
       "  border: 2px solid white;\n",
       "  margin-top: 5px;\n",
       "}\n",
       ".tfx-object table.attr-table td.attr-name {\n",
       "  vertical-align: top;\n",
       "  font-weight: bold;\n",
       "}\n",
       ".tfx-object table.attr-table td.attrvalue {\n",
       "  text-align: left;\n",
       "}\n",
       "</style>\n",
       "<script>\n",
       "function toggleTfxObject(element) {\n",
       "  var objElement = element.parentElement;\n",
       "  if (objElement.classList.contains('collapsed')) {\n",
       "    objElement.classList.remove('collapsed');\n",
       "    objElement.classList.add('expanded');\n",
       "  } else {\n",
       "    objElement.classList.add('collapsed');\n",
       "    objElement.classList.remove('expanded');\n",
       "  }\n",
       "}\n",
       "</script>\n",
       "<div class=\"tfx-object collapsed\"><div class = \"title\" onclick=\"toggleTfxObject(this)\"><span class=\"expansion-marker\"></span><span class=\"class-name\">Artifact</span> of type <span class=\"class-name\">'ModelEvalPath'</span> (uri: /tmp/tfx-interactive-2019-09-13T16_46_14.222336-5zedre0a/Evaluator/output/7/)<span class=\"deemphasize\"> at 0x7fada64a1208</span></div><table class=\"attr-table\"><tr><td class=\"attr-name\">.type_name</td><td class = \"attrvalue\">ModelEvalPath</td></tr><tr><td class=\"attr-name\">.uri</td><td class = \"attrvalue\">/tmp/tfx-interactive-2019-09-13T16_46_14.222336-5zedre0a/Evaluator/output/7/</td></tr><tr><td class=\"attr-name\">.span</td><td class = \"attrvalue\">0</td></tr><tr><td class=\"attr-name\">.split</td><td class = \"attrvalue\"></td></tr></table></div></td></tr></table></td></tr></table></div></td></tr></table></td></tr></table></div>"
      ],
      "text/plain": [
       "ExecutionResult(\n",
       "    component_id: Evaluator\n",
       "    execution_id: 7\n",
       "    outputs:\n",
       "        output: Channel(\n",
       "            type_name: ModelEvalPath\n",
       "            artifacts: [Artifact(type_name: ModelEvalPath, uri: /tmp/tfx-interactive-2019-09-13T16_46_14.222336-5zedre0a/Evaluator/output/7/, split: , id: 12)]\n",
       "        ))"
      ]
     },
     "execution_count": 16,
     "metadata": {},
     "output_type": "execute_result"
    }
   ],
   "source": [
    "# Use TFMA to compute a evaluation statistics over features of a model.\n",
    "model_analyzer = Evaluator(\n",
    "    examples=example_gen.outputs['examples'],\n",
    "    model_exports=trainer.outputs['output'],\n",
    "    feature_slicing_spec=evaluator_pb2.FeatureSlicingSpec(\n",
    "        specs=ALL_SPECS\n",
    "    ))\n",
    "context.run(model_analyzer)"
   ]
  },
  {
   "cell_type": "markdown",
   "metadata": {
    "colab_type": "text",
    "id": "X2VKvr3NJwii"
   },
   "source": [
    "#### Get the TFMA output result path"
   ]
  },
  {
   "cell_type": "code",
   "execution_count": 17,
   "metadata": {
    "colab": {},
    "colab_type": "code",
    "id": "pyis6iy0HLdi"
   },
   "outputs": [],
   "source": [
    "PATH_TO_RESULT = model_analyzer.outputs['output'].get()[0].uri"
   ]
  },
  {
   "cell_type": "markdown",
   "metadata": {
    "colab_type": "text",
    "id": "L9YNBXsQKW63"
   },
   "source": [
    "#### Import TFMA and load the result"
   ]
  },
  {
   "cell_type": "code",
   "execution_count": 18,
   "metadata": {
    "colab": {},
    "colab_type": "code",
    "id": "7SeuBh8aHZ9S"
   },
   "outputs": [],
   "source": [
    "if check_ipython():\n",
    "  import tensorflow_model_analysis as tfma\n",
    "  \n",
    "  tfma_result = tfma.load_eval_result(PATH_TO_RESULT)"
   ]
  },
  {
   "cell_type": "markdown",
   "metadata": {
    "colab_type": "text",
    "id": "LdLc25OnKs0G"
   },
   "source": [
    "#### Visualization: Slicing Metrics\n",
    "\n",
    "To see the slices, either use the name of the column (by setting slicing_column) or provide a tfma.slicer.SingleSliceSpec (by setting slicing_spec). If neither is provided, an overall visualization will be displayed.\n",
    "\n",
    "The default visualization is the **slice overview** when the number of slices is small. It shows the value of a metric for each slice, sorted by the another metric. It is also possible to set a threshold to filter out slices with smaller weights.\n",
    "\n",
    "This view also supports the **metrics histogram** as an alternative visualization. It is also the default view when the number of slices is large. The results will be divided into buckets and the number of slices / total weights / both can be visualized. Slices with small weights can be filtered out by setting the threshold. Further filtering can be applied by dragging the grey band. To reset the range, double click the band. Filtering can be used to remove outliers in the visualization and the metrics table below."
   ]
  },
  {
   "cell_type": "code",
   "execution_count": 19,
   "metadata": {
    "colab": {},
    "colab_type": "code",
    "id": "SYvXSBANHdmZ"
   },
   "outputs": [],
   "source": [
    "if check_ipython():\n",
    "  # Show data sliced along feature column trip_start_hour.\n",
    "  tfma.view.render_slicing_metrics(tfma_result, slicing_column='trip_start_hour')"
   ]
  },
  {
   "cell_type": "code",
   "execution_count": 20,
   "metadata": {
    "colab": {},
    "colab_type": "code",
    "id": "IGADc5R7Q8yo"
   },
   "outputs": [],
   "source": [
    "if check_ipython():\n",
    "  # Show metrics sliced by 'trip_start_day' x 'trip_start_month'.\n",
    "  tfma.view.render_slicing_metrics(\n",
    "      tfma_result,\n",
    "      slicing_spec=tfma.slicer.SingleSliceSpec(\n",
    "          columns=['trip_start_day','trip_start_month']))"
   ]
  },
  {
   "cell_type": "code",
   "execution_count": 21,
   "metadata": {
    "colab": {},
    "colab_type": "code",
    "id": "WFvfzTTZL_0a"
   },
   "outputs": [],
   "source": [
    "if check_ipython():\n",
    "  # Show overall metrics.\n",
    "  tfma.view.render_slicing_metrics(tfma_result)"
   ]
  },
  {
   "cell_type": "markdown",
   "metadata": {
    "colab_type": "text",
    "id": "76Mil-7FlF_y"
   },
   "source": [
    "### ModelValidator\n",
    "`ModelValidator` performs validation of your candidate model compared to a baseline."
   ]
  },
  {
   "cell_type": "code",
   "execution_count": 22,
   "metadata": {
    "colab": {},
    "colab_type": "code",
    "id": "FXk1MA7sijCr"
   },
   "outputs": [
    {
     "name": "stdout",
     "output_type": "stream",
     "text": [
      "INFO:tensorflow:Run driver for ModelValidator\n"
     ]
    },
    {
     "name": "stderr",
     "output_type": "stream",
     "text": [
      "INFO:tensorflow:Run driver for ModelValidator\n"
     ]
    },
    {
     "name": "stdout",
     "output_type": "stream",
     "text": [
      "INFO:tensorflow:Created run context interactive-2019-09-13T16_46_14.222336.2019-09-13T16:47:15.976440.\n"
     ]
    },
    {
     "name": "stderr",
     "output_type": "stream",
     "text": [
      "INFO:tensorflow:Created run context interactive-2019-09-13T16_46_14.222336.2019-09-13T16:47:15.976440.\n"
     ]
    },
    {
     "name": "stdout",
     "output_type": "stream",
     "text": [
      "INFO:tensorflow:ID of run context interactive-2019-09-13T16_46_14.222336.2019-09-13T16:47:15.976440 is 8.\n"
     ]
    },
    {
     "name": "stderr",
     "output_type": "stream",
     "text": [
      "INFO:tensorflow:ID of run context interactive-2019-09-13T16_46_14.222336.2019-09-13T16:47:15.976440 is 8.\n"
     ]
    },
    {
     "name": "stdout",
     "output_type": "stream",
     "text": [
      "INFO:tensorflow:Resolved input artifacts are: {'examples': [Artifact(type_name: ExamplesPath, uri: /tmp/tfx-interactive-2019-09-13T16_46_14.222336-5zedre0a/CsvExampleGen/examples/1/train/, split: train, id: 2), Artifact(type_name: ExamplesPath, uri: /tmp/tfx-interactive-2019-09-13T16_46_14.222336-5zedre0a/CsvExampleGen/examples/1/eval/, split: eval, id: 3)], 'model': [Artifact(type_name: ModelExportPath, uri: /tmp/tfx-interactive-2019-09-13T16_46_14.222336-5zedre0a/Trainer/output/6/, split: , id: 11)]}\n"
     ]
    },
    {
     "name": "stderr",
     "output_type": "stream",
     "text": [
      "INFO:tensorflow:Resolved input artifacts are: {'examples': [Artifact(type_name: ExamplesPath, uri: /tmp/tfx-interactive-2019-09-13T16_46_14.222336-5zedre0a/CsvExampleGen/examples/1/train/, split: train, id: 2), Artifact(type_name: ExamplesPath, uri: /tmp/tfx-interactive-2019-09-13T16_46_14.222336-5zedre0a/CsvExampleGen/examples/1/eval/, split: eval, id: 3)], 'model': [Artifact(type_name: ModelExportPath, uri: /tmp/tfx-interactive-2019-09-13T16_46_14.222336-5zedre0a/Trainer/output/6/, split: , id: 11)]}\n"
     ]
    },
    {
     "name": "stdout",
     "output_type": "stream",
     "text": [
      "INFO:tensorflow:Prepared EXECUTION:\n",
      " type_id: 17\n",
      "properties {\n",
      "  key: \"component_id\"\n",
      "  value {\n",
      "    string_value: \"ModelValidator\"\n",
      "  }\n",
      "}\n",
      "properties {\n",
      "  key: \"pipeline_name\"\n",
      "  value {\n",
      "    string_value: \"interactive-2019-09-13T16_46_14.222336\"\n",
      "  }\n",
      "}\n",
      "properties {\n",
      "  key: \"pipeline_root\"\n",
      "  value {\n",
      "    string_value: \"/tmp/tfx-interactive-2019-09-13T16_46_14.222336-5zedre0a\"\n",
      "  }\n",
      "}\n",
      "properties {\n",
      "  key: \"run_id\"\n",
      "  value {\n",
      "    string_value: \"2019-09-13T16:47:15.976440\"\n",
      "  }\n",
      "}\n",
      "properties {\n",
      "  key: \"state\"\n",
      "  value {\n",
      "    string_value: \"new\"\n",
      "  }\n",
      "}\n",
      "\n"
     ]
    },
    {
     "name": "stderr",
     "output_type": "stream",
     "text": [
      "INFO:tensorflow:Prepared EXECUTION:\n",
      " type_id: 17\n",
      "properties {\n",
      "  key: \"component_id\"\n",
      "  value {\n",
      "    string_value: \"ModelValidator\"\n",
      "  }\n",
      "}\n",
      "properties {\n",
      "  key: \"pipeline_name\"\n",
      "  value {\n",
      "    string_value: \"interactive-2019-09-13T16_46_14.222336\"\n",
      "  }\n",
      "}\n",
      "properties {\n",
      "  key: \"pipeline_root\"\n",
      "  value {\n",
      "    string_value: \"/tmp/tfx-interactive-2019-09-13T16_46_14.222336-5zedre0a\"\n",
      "  }\n",
      "}\n",
      "properties {\n",
      "  key: \"run_id\"\n",
      "  value {\n",
      "    string_value: \"2019-09-13T16:47:15.976440\"\n",
      "  }\n",
      "}\n",
      "properties {\n",
      "  key: \"state\"\n",
      "  value {\n",
      "    string_value: \"new\"\n",
      "  }\n",
      "}\n",
      "\n"
     ]
    },
    {
     "name": "stdout",
     "output_type": "stream",
     "text": [
      "INFO:tensorflow:Execution id of the upcoming component execution is 8\n"
     ]
    },
    {
     "name": "stderr",
     "output_type": "stream",
     "text": [
      "INFO:tensorflow:Execution id of the upcoming component execution is 8\n"
     ]
    },
    {
     "name": "stdout",
     "output_type": "stream",
     "text": [
      "INFO:tensorflow:Checking previous run for execution_type_name tfx.components.model_validator.component.ModelValidator and input_artifacts {'examples': [Artifact(type_name: ExamplesPath, uri: /tmp/tfx-interactive-2019-09-13T16_46_14.222336-5zedre0a/CsvExampleGen/examples/1/train/, split: train, id: 2), Artifact(type_name: ExamplesPath, uri: /tmp/tfx-interactive-2019-09-13T16_46_14.222336-5zedre0a/CsvExampleGen/examples/1/eval/, split: eval, id: 3)], 'model': [Artifact(type_name: ModelExportPath, uri: /tmp/tfx-interactive-2019-09-13T16_46_14.222336-5zedre0a/Trainer/output/6/, split: , id: 11)]}\n"
     ]
    },
    {
     "name": "stderr",
     "output_type": "stream",
     "text": [
      "INFO:tensorflow:Checking previous run for execution_type_name tfx.components.model_validator.component.ModelValidator and input_artifacts {'examples': [Artifact(type_name: ExamplesPath, uri: /tmp/tfx-interactive-2019-09-13T16_46_14.222336-5zedre0a/CsvExampleGen/examples/1/train/, split: train, id: 2), Artifact(type_name: ExamplesPath, uri: /tmp/tfx-interactive-2019-09-13T16_46_14.222336-5zedre0a/CsvExampleGen/examples/1/eval/, split: eval, id: 3)], 'model': [Artifact(type_name: ModelExportPath, uri: /tmp/tfx-interactive-2019-09-13T16_46_14.222336-5zedre0a/Trainer/output/6/, split: , id: 11)]}\n"
     ]
    },
    {
     "name": "stdout",
     "output_type": "stream",
     "text": [
      "INFO:tensorflow:Prepared EXECUTION:\n",
      " type_id: 17\n",
      "properties {\n",
      "  key: \"component_id\"\n",
      "  value {\n",
      "    string_value: \"ModelValidator\"\n",
      "  }\n",
      "}\n",
      "properties {\n",
      "  key: \"pipeline_name\"\n",
      "  value {\n",
      "    string_value: \"interactive-2019-09-13T16_46_14.222336\"\n",
      "  }\n",
      "}\n",
      "properties {\n",
      "  key: \"pipeline_root\"\n",
      "  value {\n",
      "    string_value: \"/tmp/tfx-interactive-2019-09-13T16_46_14.222336-5zedre0a\"\n",
      "  }\n",
      "}\n",
      "properties {\n",
      "  key: \"run_id\"\n",
      "  value {\n",
      "    string_value: \"2019-09-13T16:47:15.976440\"\n",
      "  }\n",
      "}\n",
      "properties {\n",
      "  key: \"state\"\n",
      "  value {\n",
      "    string_value: \"complete\"\n",
      "  }\n",
      "}\n",
      "\n"
     ]
    },
    {
     "name": "stderr",
     "output_type": "stream",
     "text": [
      "INFO:tensorflow:Prepared EXECUTION:\n",
      " type_id: 17\n",
      "properties {\n",
      "  key: \"component_id\"\n",
      "  value {\n",
      "    string_value: \"ModelValidator\"\n",
      "  }\n",
      "}\n",
      "properties {\n",
      "  key: \"pipeline_name\"\n",
      "  value {\n",
      "    string_value: \"interactive-2019-09-13T16_46_14.222336\"\n",
      "  }\n",
      "}\n",
      "properties {\n",
      "  key: \"pipeline_root\"\n",
      "  value {\n",
      "    string_value: \"/tmp/tfx-interactive-2019-09-13T16_46_14.222336-5zedre0a\"\n",
      "  }\n",
      "}\n",
      "properties {\n",
      "  key: \"run_id\"\n",
      "  value {\n",
      "    string_value: \"2019-09-13T16:47:15.976440\"\n",
      "  }\n",
      "}\n",
      "properties {\n",
      "  key: \"state\"\n",
      "  value {\n",
      "    string_value: \"complete\"\n",
      "  }\n",
      "}\n",
      "\n"
     ]
    },
    {
     "name": "stdout",
     "output_type": "stream",
     "text": [
      "INFO:tensorflow:No execution matching type id and input artifacts found\n"
     ]
    },
    {
     "name": "stderr",
     "output_type": "stream",
     "text": [
      "INFO:tensorflow:No execution matching type id and input artifacts found\n"
     ]
    },
    {
     "name": "stdout",
     "output_type": "stream",
     "text": [
      "INFO:tensorflow:Cached results not found, move on to new execution\n"
     ]
    },
    {
     "name": "stderr",
     "output_type": "stream",
     "text": [
      "INFO:tensorflow:Cached results not found, move on to new execution\n"
     ]
    },
    {
     "name": "stdout",
     "output_type": "stream",
     "text": [
      "INFO:tensorflow:Creating output artifact uri /tmp/tfx-interactive-2019-09-13T16_46_14.222336-5zedre0a/ModelValidator/blessing/8/ as directory\n"
     ]
    },
    {
     "name": "stderr",
     "output_type": "stream",
     "text": [
      "INFO:tensorflow:Creating output artifact uri /tmp/tfx-interactive-2019-09-13T16_46_14.222336-5zedre0a/ModelValidator/blessing/8/ as directory\n"
     ]
    },
    {
     "name": "stdout",
     "output_type": "stream",
     "text": [
      "INFO:tensorflow:Output artifacts skeleton for the upcoming execution are: {'blessing': [Artifact(type_name: ModelBlessingPath, uri: /tmp/tfx-interactive-2019-09-13T16_46_14.222336-5zedre0a/ModelValidator/blessing/8/, split: , id: 0)]}\n"
     ]
    },
    {
     "name": "stderr",
     "output_type": "stream",
     "text": [
      "INFO:tensorflow:Output artifacts skeleton for the upcoming execution are: {'blessing': [Artifact(type_name: ModelBlessingPath, uri: /tmp/tfx-interactive-2019-09-13T16_46_14.222336-5zedre0a/ModelValidator/blessing/8/, split: , id: 0)]}\n"
     ]
    },
    {
     "name": "stdout",
     "output_type": "stream",
     "text": [
      "INFO:tensorflow:Resolved last blessed model None\n"
     ]
    },
    {
     "name": "stderr",
     "output_type": "stream",
     "text": [
      "INFO:tensorflow:Resolved last blessed model None\n"
     ]
    },
    {
     "name": "stdout",
     "output_type": "stream",
     "text": [
      "INFO:tensorflow:Execution properties for the upcoming execution are: {'blessed_model': None, 'blessed_model_id': None, 'component_id': 'ModelValidator'}\n"
     ]
    },
    {
     "name": "stderr",
     "output_type": "stream",
     "text": [
      "INFO:tensorflow:Execution properties for the upcoming execution are: {'blessed_model': None, 'blessed_model_id': None, 'component_id': 'ModelValidator'}\n"
     ]
    },
    {
     "name": "stdout",
     "output_type": "stream",
     "text": [
      "INFO:tensorflow:Run executor for ModelValidator\n"
     ]
    },
    {
     "name": "stderr",
     "output_type": "stream",
     "text": [
      "INFO:tensorflow:Run executor for ModelValidator\n"
     ]
    },
    {
     "name": "stdout",
     "output_type": "stream",
     "text": [
      "INFO:tensorflow:Starting Executor execution.\n"
     ]
    },
    {
     "name": "stderr",
     "output_type": "stream",
     "text": [
      "INFO:tensorflow:Starting Executor execution.\n"
     ]
    },
    {
     "name": "stdout",
     "output_type": "stream",
     "text": [
      "INFO:tensorflow:Inputs for Executor is: {\"examples\": [{\"artifact\": {\"id\": \"2\", \"typeId\": \"4\", \"uri\": \"/tmp/tfx-interactive-2019-09-13T16_46_14.222336-5zedre0a/CsvExampleGen/examples/1/train/\", \"properties\": {\"span\": {}, \"pipeline_name\": {\"stringValue\": \"interactive-2019-09-13T16_46_14.222336\"}, \"producer_component\": {\"stringValue\": \"CsvExampleGen\"}, \"split\": {\"stringValue\": \"train\"}, \"name\": {\"stringValue\": \"examples\"}, \"type_name\": {\"stringValue\": \"ExamplesPath\"}, \"state\": {\"stringValue\": \"published\"}}}, \"artifact_type\": {\"id\": \"4\", \"name\": \"ExamplesPath\", \"properties\": {\"name\": \"STRING\", \"type_name\": \"STRING\", \"state\": \"STRING\", \"producer_component\": \"STRING\", \"span\": \"INT\", \"pipeline_name\": \"STRING\", \"split\": \"STRING\"}}}, {\"artifact\": {\"id\": \"3\", \"typeId\": \"4\", \"uri\": \"/tmp/tfx-interactive-2019-09-13T16_46_14.222336-5zedre0a/CsvExampleGen/examples/1/eval/\", \"properties\": {\"split\": {\"stringValue\": \"eval\"}, \"name\": {\"stringValue\": \"examples\"}, \"type_name\": {\"stringValue\": \"ExamplesPath\"}, \"state\": {\"stringValue\": \"published\"}, \"span\": {}, \"pipeline_name\": {\"stringValue\": \"interactive-2019-09-13T16_46_14.222336\"}, \"producer_component\": {\"stringValue\": \"CsvExampleGen\"}}}, \"artifact_type\": {\"id\": \"4\", \"name\": \"ExamplesPath\", \"properties\": {\"name\": \"STRING\", \"type_name\": \"STRING\", \"state\": \"STRING\", \"producer_component\": \"STRING\", \"span\": \"INT\", \"pipeline_name\": \"STRING\", \"split\": \"STRING\"}}}], \"model\": [{\"artifact\": {\"id\": \"11\", \"typeId\": \"14\", \"uri\": \"/tmp/tfx-interactive-2019-09-13T16_46_14.222336-5zedre0a/Trainer/output/6/\", \"properties\": {\"split\": {\"stringValue\": \"\"}, \"name\": {\"stringValue\": \"output\"}, \"type_name\": {\"stringValue\": \"ModelExportPath\"}, \"state\": {\"stringValue\": \"published\"}, \"span\": {}, \"pipeline_name\": {\"stringValue\": \"interactive-2019-09-13T16_46_14.222336\"}, \"producer_component\": {\"stringValue\": \"Trainer\"}}}, \"artifact_type\": {\"id\": \"14\", \"name\": \"ModelExportPath\", \"properties\": {\"producer_component\": \"STRING\", \"span\": \"INT\", \"pipeline_name\": \"STRING\", \"split\": \"STRING\", \"name\": \"STRING\", \"type_name\": \"STRING\", \"state\": \"STRING\"}}}]}\n"
     ]
    },
    {
     "name": "stderr",
     "output_type": "stream",
     "text": [
      "INFO:tensorflow:Inputs for Executor is: {\"examples\": [{\"artifact\": {\"id\": \"2\", \"typeId\": \"4\", \"uri\": \"/tmp/tfx-interactive-2019-09-13T16_46_14.222336-5zedre0a/CsvExampleGen/examples/1/train/\", \"properties\": {\"span\": {}, \"pipeline_name\": {\"stringValue\": \"interactive-2019-09-13T16_46_14.222336\"}, \"producer_component\": {\"stringValue\": \"CsvExampleGen\"}, \"split\": {\"stringValue\": \"train\"}, \"name\": {\"stringValue\": \"examples\"}, \"type_name\": {\"stringValue\": \"ExamplesPath\"}, \"state\": {\"stringValue\": \"published\"}}}, \"artifact_type\": {\"id\": \"4\", \"name\": \"ExamplesPath\", \"properties\": {\"name\": \"STRING\", \"type_name\": \"STRING\", \"state\": \"STRING\", \"producer_component\": \"STRING\", \"span\": \"INT\", \"pipeline_name\": \"STRING\", \"split\": \"STRING\"}}}, {\"artifact\": {\"id\": \"3\", \"typeId\": \"4\", \"uri\": \"/tmp/tfx-interactive-2019-09-13T16_46_14.222336-5zedre0a/CsvExampleGen/examples/1/eval/\", \"properties\": {\"split\": {\"stringValue\": \"eval\"}, \"name\": {\"stringValue\": \"examples\"}, \"type_name\": {\"stringValue\": \"ExamplesPath\"}, \"state\": {\"stringValue\": \"published\"}, \"span\": {}, \"pipeline_name\": {\"stringValue\": \"interactive-2019-09-13T16_46_14.222336\"}, \"producer_component\": {\"stringValue\": \"CsvExampleGen\"}}}, \"artifact_type\": {\"id\": \"4\", \"name\": \"ExamplesPath\", \"properties\": {\"name\": \"STRING\", \"type_name\": \"STRING\", \"state\": \"STRING\", \"producer_component\": \"STRING\", \"span\": \"INT\", \"pipeline_name\": \"STRING\", \"split\": \"STRING\"}}}], \"model\": [{\"artifact\": {\"id\": \"11\", \"typeId\": \"14\", \"uri\": \"/tmp/tfx-interactive-2019-09-13T16_46_14.222336-5zedre0a/Trainer/output/6/\", \"properties\": {\"split\": {\"stringValue\": \"\"}, \"name\": {\"stringValue\": \"output\"}, \"type_name\": {\"stringValue\": \"ModelExportPath\"}, \"state\": {\"stringValue\": \"published\"}, \"span\": {}, \"pipeline_name\": {\"stringValue\": \"interactive-2019-09-13T16_46_14.222336\"}, \"producer_component\": {\"stringValue\": \"Trainer\"}}}, \"artifact_type\": {\"id\": \"14\", \"name\": \"ModelExportPath\", \"properties\": {\"producer_component\": \"STRING\", \"span\": \"INT\", \"pipeline_name\": \"STRING\", \"split\": \"STRING\", \"name\": \"STRING\", \"type_name\": \"STRING\", \"state\": \"STRING\"}}}]}\n"
     ]
    },
    {
     "name": "stdout",
     "output_type": "stream",
     "text": [
      "INFO:tensorflow:Outputs for Executor is: {\"blessing\": [{\"artifact\": {\"uri\": \"/tmp/tfx-interactive-2019-09-13T16_46_14.222336-5zedre0a/ModelValidator/blessing/8/\", \"properties\": {\"producer_component\": {\"stringValue\": \"ModelValidator\"}, \"pipeline_name\": {\"stringValue\": \"interactive-2019-09-13T16_46_14.222336\"}, \"name\": {\"stringValue\": \"blessing\"}, \"type_name\": {\"stringValue\": \"ModelBlessingPath\"}, \"split\": {\"stringValue\": \"\"}}}, \"artifact_type\": {\"name\": \"ModelBlessingPath\", \"properties\": {\"name\": \"STRING\", \"type_name\": \"STRING\", \"state\": \"STRING\", \"producer_component\": \"STRING\", \"span\": \"INT\", \"pipeline_name\": \"STRING\", \"split\": \"STRING\"}}}]}\n"
     ]
    },
    {
     "name": "stderr",
     "output_type": "stream",
     "text": [
      "INFO:tensorflow:Outputs for Executor is: {\"blessing\": [{\"artifact\": {\"uri\": \"/tmp/tfx-interactive-2019-09-13T16_46_14.222336-5zedre0a/ModelValidator/blessing/8/\", \"properties\": {\"producer_component\": {\"stringValue\": \"ModelValidator\"}, \"pipeline_name\": {\"stringValue\": \"interactive-2019-09-13T16_46_14.222336\"}, \"name\": {\"stringValue\": \"blessing\"}, \"type_name\": {\"stringValue\": \"ModelBlessingPath\"}, \"split\": {\"stringValue\": \"\"}}}, \"artifact_type\": {\"name\": \"ModelBlessingPath\", \"properties\": {\"name\": \"STRING\", \"type_name\": \"STRING\", \"state\": \"STRING\", \"producer_component\": \"STRING\", \"span\": \"INT\", \"pipeline_name\": \"STRING\", \"split\": \"STRING\"}}}]}\n"
     ]
    },
    {
     "name": "stdout",
     "output_type": "stream",
     "text": [
      "INFO:tensorflow:Execution properties for Executor is: {\"blessed_model\": null, \"blessed_model_id\": null, \"component_id\": \"ModelValidator\"}\n"
     ]
    },
    {
     "name": "stderr",
     "output_type": "stream",
     "text": [
      "INFO:tensorflow:Execution properties for Executor is: {\"blessed_model\": null, \"blessed_model_id\": null, \"component_id\": \"ModelValidator\"}\n"
     ]
    },
    {
     "name": "stdout",
     "output_type": "stream",
     "text": [
      "INFO:tensorflow:Creating temp directory at /tmp/tfx-interactive-2019-09-13T16_46_14.222336-5zedre0a/.temp/8/\n"
     ]
    },
    {
     "name": "stderr",
     "output_type": "stream",
     "text": [
      "INFO:tensorflow:Creating temp directory at /tmp/tfx-interactive-2019-09-13T16_46_14.222336-5zedre0a/.temp/8/\n"
     ]
    },
    {
     "name": "stdout",
     "output_type": "stream",
     "text": [
      "INFO:tensorflow:Using temp path /tmp/tfx-interactive-2019-09-13T16_46_14.222336-5zedre0a/.temp/8/ for tft.beam\n"
     ]
    },
    {
     "name": "stderr",
     "output_type": "stream",
     "text": [
      "INFO:tensorflow:Using temp path /tmp/tfx-interactive-2019-09-13T16_46_14.222336-5zedre0a/.temp/8/ for tft.beam\n"
     ]
    },
    {
     "name": "stdout",
     "output_type": "stream",
     "text": [
      "INFO:tensorflow:Using /tmp/tfx-interactive-2019-09-13T16_46_14.222336-5zedre0a/Trainer/output/6/ as current model.\n"
     ]
    },
    {
     "name": "stderr",
     "output_type": "stream",
     "text": [
      "INFO:tensorflow:Using /tmp/tfx-interactive-2019-09-13T16_46_14.222336-5zedre0a/Trainer/output/6/ as current model.\n"
     ]
    },
    {
     "name": "stdout",
     "output_type": "stream",
     "text": [
      "INFO:tensorflow:Using None as blessed model.\n"
     ]
    },
    {
     "name": "stderr",
     "output_type": "stream",
     "text": [
      "INFO:tensorflow:Using None as blessed model.\n"
     ]
    },
    {
     "name": "stdout",
     "output_type": "stream",
     "text": [
      "INFO:tensorflow:Validating model.\n"
     ]
    },
    {
     "name": "stderr",
     "output_type": "stream",
     "text": [
      "INFO:tensorflow:Validating model.\n"
     ]
    },
    {
     "name": "stdout",
     "output_type": "stream",
     "text": [
      "INFO:tensorflow:Restoring parameters from /tmp/tfx-interactive-2019-09-13T16_46_14.222336-5zedre0a/Trainer/output/6/eval_model_dir/1568418426/variables/variables\n"
     ]
    },
    {
     "name": "stderr",
     "output_type": "stream",
     "text": [
      "INFO:tensorflow:Restoring parameters from /tmp/tfx-interactive-2019-09-13T16_46_14.222336-5zedre0a/Trainer/output/6/eval_model_dir/1568418426/variables/variables\n"
     ]
    },
    {
     "name": "stdout",
     "output_type": "stream",
     "text": [
      "INFO:tensorflow:Current model passes threshold.\n"
     ]
    },
    {
     "name": "stderr",
     "output_type": "stream",
     "text": [
      "INFO:tensorflow:Current model passes threshold.\n"
     ]
    },
    {
     "name": "stdout",
     "output_type": "stream",
     "text": [
      "INFO:tensorflow:No blessed model yet.\n"
     ]
    },
    {
     "name": "stderr",
     "output_type": "stream",
     "text": [
      "INFO:tensorflow:No blessed model yet.\n"
     ]
    },
    {
     "name": "stdout",
     "output_type": "stream",
     "text": [
      "INFO:tensorflow:Blessing result True written to /tmp/tfx-interactive-2019-09-13T16_46_14.222336-5zedre0a/ModelValidator/blessing/8/.\n"
     ]
    },
    {
     "name": "stderr",
     "output_type": "stream",
     "text": [
      "INFO:tensorflow:Blessing result True written to /tmp/tfx-interactive-2019-09-13T16_46_14.222336-5zedre0a/ModelValidator/blessing/8/.\n"
     ]
    },
    {
     "name": "stdout",
     "output_type": "stream",
     "text": [
      "INFO:tensorflow:Cleaned up temp path /tmp/tfx-interactive-2019-09-13T16_46_14.222336-5zedre0a/.temp/8/ on executor success.\n"
     ]
    },
    {
     "name": "stderr",
     "output_type": "stream",
     "text": [
      "INFO:tensorflow:Cleaned up temp path /tmp/tfx-interactive-2019-09-13T16_46_14.222336-5zedre0a/.temp/8/ on executor success.\n"
     ]
    },
    {
     "name": "stdout",
     "output_type": "stream",
     "text": [
      "INFO:tensorflow:Run publisher for ModelValidator\n"
     ]
    },
    {
     "name": "stderr",
     "output_type": "stream",
     "text": [
      "INFO:tensorflow:Run publisher for ModelValidator\n"
     ]
    },
    {
     "name": "stdout",
     "output_type": "stream",
     "text": [
      "INFO:tensorflow:Whether cached results are used: False\n"
     ]
    },
    {
     "name": "stderr",
     "output_type": "stream",
     "text": [
      "INFO:tensorflow:Whether cached results are used: False\n"
     ]
    },
    {
     "name": "stdout",
     "output_type": "stream",
     "text": [
      "INFO:tensorflow:Execution id: 8\n"
     ]
    },
    {
     "name": "stderr",
     "output_type": "stream",
     "text": [
      "INFO:tensorflow:Execution id: 8\n"
     ]
    },
    {
     "name": "stdout",
     "output_type": "stream",
     "text": [
      "INFO:tensorflow:Inputs: {'examples': [Artifact(type_name: ExamplesPath, uri: /tmp/tfx-interactive-2019-09-13T16_46_14.222336-5zedre0a/CsvExampleGen/examples/1/train/, split: train, id: 2), Artifact(type_name: ExamplesPath, uri: /tmp/tfx-interactive-2019-09-13T16_46_14.222336-5zedre0a/CsvExampleGen/examples/1/eval/, split: eval, id: 3)], 'model': [Artifact(type_name: ModelExportPath, uri: /tmp/tfx-interactive-2019-09-13T16_46_14.222336-5zedre0a/Trainer/output/6/, split: , id: 11)]}\n"
     ]
    },
    {
     "name": "stderr",
     "output_type": "stream",
     "text": [
      "INFO:tensorflow:Inputs: {'examples': [Artifact(type_name: ExamplesPath, uri: /tmp/tfx-interactive-2019-09-13T16_46_14.222336-5zedre0a/CsvExampleGen/examples/1/train/, split: train, id: 2), Artifact(type_name: ExamplesPath, uri: /tmp/tfx-interactive-2019-09-13T16_46_14.222336-5zedre0a/CsvExampleGen/examples/1/eval/, split: eval, id: 3)], 'model': [Artifact(type_name: ModelExportPath, uri: /tmp/tfx-interactive-2019-09-13T16_46_14.222336-5zedre0a/Trainer/output/6/, split: , id: 11)]}\n"
     ]
    },
    {
     "name": "stdout",
     "output_type": "stream",
     "text": [
      "INFO:tensorflow:Outputs: {'blessing': [Artifact(type_name: ModelBlessingPath, uri: /tmp/tfx-interactive-2019-09-13T16_46_14.222336-5zedre0a/ModelValidator/blessing/8/, split: , id: 0)]}\n"
     ]
    },
    {
     "name": "stderr",
     "output_type": "stream",
     "text": [
      "INFO:tensorflow:Outputs: {'blessing': [Artifact(type_name: ModelBlessingPath, uri: /tmp/tfx-interactive-2019-09-13T16_46_14.222336-5zedre0a/ModelValidator/blessing/8/, split: , id: 0)]}\n"
     ]
    },
    {
     "name": "stdout",
     "output_type": "stream",
     "text": [
      "INFO:tensorflow:Publishing execution id: 8\n",
      "type_id: 17\n",
      "properties {\n",
      "  key: \"component_id\"\n",
      "  value {\n",
      "    string_value: \"ModelValidator\"\n",
      "  }\n",
      "}\n",
      "properties {\n",
      "  key: \"pipeline_name\"\n",
      "  value {\n",
      "    string_value: \"interactive-2019-09-13T16_46_14.222336\"\n",
      "  }\n",
      "}\n",
      "properties {\n",
      "  key: \"pipeline_root\"\n",
      "  value {\n",
      "    string_value: \"/tmp/tfx-interactive-2019-09-13T16_46_14.222336-5zedre0a\"\n",
      "  }\n",
      "}\n",
      "properties {\n",
      "  key: \"run_id\"\n",
      "  value {\n",
      "    string_value: \"2019-09-13T16:47:15.976440\"\n",
      "  }\n",
      "}\n",
      "properties {\n",
      "  key: \"state\"\n",
      "  value {\n",
      "    string_value: \"complete\"\n",
      "  }\n",
      "}\n",
      ", with inputs {'examples': [Artifact(type_name: ExamplesPath, uri: /tmp/tfx-interactive-2019-09-13T16_46_14.222336-5zedre0a/CsvExampleGen/examples/1/train/, split: train, id: 2), Artifact(type_name: ExamplesPath, uri: /tmp/tfx-interactive-2019-09-13T16_46_14.222336-5zedre0a/CsvExampleGen/examples/1/eval/, split: eval, id: 3)], 'model': [Artifact(type_name: ModelExportPath, uri: /tmp/tfx-interactive-2019-09-13T16_46_14.222336-5zedre0a/Trainer/output/6/, split: , id: 11)]} and outputs {'blessing': [Artifact(type_name: ModelBlessingPath, uri: /tmp/tfx-interactive-2019-09-13T16_46_14.222336-5zedre0a/ModelValidator/blessing/8/, split: , id: 0)]}\n"
     ]
    },
    {
     "name": "stderr",
     "output_type": "stream",
     "text": [
      "INFO:tensorflow:Publishing execution id: 8\n",
      "type_id: 17\n",
      "properties {\n",
      "  key: \"component_id\"\n",
      "  value {\n",
      "    string_value: \"ModelValidator\"\n",
      "  }\n",
      "}\n",
      "properties {\n",
      "  key: \"pipeline_name\"\n",
      "  value {\n",
      "    string_value: \"interactive-2019-09-13T16_46_14.222336\"\n",
      "  }\n",
      "}\n",
      "properties {\n",
      "  key: \"pipeline_root\"\n",
      "  value {\n",
      "    string_value: \"/tmp/tfx-interactive-2019-09-13T16_46_14.222336-5zedre0a\"\n",
      "  }\n",
      "}\n",
      "properties {\n",
      "  key: \"run_id\"\n",
      "  value {\n",
      "    string_value: \"2019-09-13T16:47:15.976440\"\n",
      "  }\n",
      "}\n",
      "properties {\n",
      "  key: \"state\"\n",
      "  value {\n",
      "    string_value: \"complete\"\n",
      "  }\n",
      "}\n",
      ", with inputs {'examples': [Artifact(type_name: ExamplesPath, uri: /tmp/tfx-interactive-2019-09-13T16_46_14.222336-5zedre0a/CsvExampleGen/examples/1/train/, split: train, id: 2), Artifact(type_name: ExamplesPath, uri: /tmp/tfx-interactive-2019-09-13T16_46_14.222336-5zedre0a/CsvExampleGen/examples/1/eval/, split: eval, id: 3)], 'model': [Artifact(type_name: ModelExportPath, uri: /tmp/tfx-interactive-2019-09-13T16_46_14.222336-5zedre0a/Trainer/output/6/, split: , id: 11)]} and outputs {'blessing': [Artifact(type_name: ModelBlessingPath, uri: /tmp/tfx-interactive-2019-09-13T16_46_14.222336-5zedre0a/ModelValidator/blessing/8/, split: , id: 0)]}\n"
     ]
    },
    {
     "name": "stdout",
     "output_type": "stream",
     "text": [
      "INFO:tensorflow:Published execution with final outputs {'blessing': [Artifact(type_name: ModelBlessingPath, uri: /tmp/tfx-interactive-2019-09-13T16_46_14.222336-5zedre0a/ModelValidator/blessing/8/, split: , id: 13)]}\n"
     ]
    },
    {
     "name": "stderr",
     "output_type": "stream",
     "text": [
      "INFO:tensorflow:Published execution with final outputs {'blessing': [Artifact(type_name: ModelBlessingPath, uri: /tmp/tfx-interactive-2019-09-13T16_46_14.222336-5zedre0a/ModelValidator/blessing/8/, split: , id: 13)]}\n"
     ]
    },
    {
     "data": {
      "text/html": [
       "<style>\n",
       ".tfx-object.expanded {\n",
       "  padding: 4px 8px 4px 8px;\n",
       "  background: white;\n",
       "  border: 1px solid #bbbbbb;\n",
       "  box-shadow: 4px 4px 2px rgba(0,0,0,0.05);\n",
       "}\n",
       ".tfx-object, .tfx-object * {\n",
       "  font-size: 11pt;\n",
       "}\n",
       ".tfx-object > .title {\n",
       "  cursor: pointer;\n",
       "}\n",
       ".tfx-object .expansion-marker {\n",
       "  color: #999999;\n",
       "}\n",
       ".tfx-object.expanded > .title > .expansion-marker:before {\n",
       "  content: '▼';\n",
       "}\n",
       ".tfx-object.collapsed > .title > .expansion-marker:before {\n",
       "  content: '▶';\n",
       "}\n",
       ".tfx-object .class-name {\n",
       "  font-weight: bold;\n",
       "}\n",
       ".tfx-object .deemphasize {\n",
       "  opacity: 0.5;\n",
       "}\n",
       ".tfx-object.collapsed > table.attr-table {\n",
       "  display: none;\n",
       "}\n",
       ".tfx-object.expanded > table.attr-table {\n",
       "  display: block;\n",
       "}\n",
       ".tfx-object table.attr-table {\n",
       "  border: 2px solid white;\n",
       "  margin-top: 5px;\n",
       "}\n",
       ".tfx-object table.attr-table td.attr-name {\n",
       "  vertical-align: top;\n",
       "  font-weight: bold;\n",
       "}\n",
       ".tfx-object table.attr-table td.attrvalue {\n",
       "  text-align: left;\n",
       "}\n",
       "</style>\n",
       "<script>\n",
       "function toggleTfxObject(element) {\n",
       "  var objElement = element.parentElement;\n",
       "  if (objElement.classList.contains('collapsed')) {\n",
       "    objElement.classList.remove('collapsed');\n",
       "    objElement.classList.add('expanded');\n",
       "  } else {\n",
       "    objElement.classList.add('collapsed');\n",
       "    objElement.classList.remove('expanded');\n",
       "  }\n",
       "}\n",
       "</script>\n",
       "<div class=\"tfx-object expanded\"><div class = \"title\" onclick=\"toggleTfxObject(this)\"><span class=\"expansion-marker\"></span><span class=\"class-name\">ExecutionResult</span><span class=\"deemphasize\"> at 0x7fade432c160</span></div><table class=\"attr-table\"><tr><td class=\"attr-name\">.execution_id</td><td class = \"attrvalue\">8</td></tr><tr><td class=\"attr-name\">.component</td><td class = \"attrvalue\"><style>\n",
       ".tfx-object.expanded {\n",
       "  padding: 4px 8px 4px 8px;\n",
       "  background: white;\n",
       "  border: 1px solid #bbbbbb;\n",
       "  box-shadow: 4px 4px 2px rgba(0,0,0,0.05);\n",
       "}\n",
       ".tfx-object, .tfx-object * {\n",
       "  font-size: 11pt;\n",
       "}\n",
       ".tfx-object > .title {\n",
       "  cursor: pointer;\n",
       "}\n",
       ".tfx-object .expansion-marker {\n",
       "  color: #999999;\n",
       "}\n",
       ".tfx-object.expanded > .title > .expansion-marker:before {\n",
       "  content: '▼';\n",
       "}\n",
       ".tfx-object.collapsed > .title > .expansion-marker:before {\n",
       "  content: '▶';\n",
       "}\n",
       ".tfx-object .class-name {\n",
       "  font-weight: bold;\n",
       "}\n",
       ".tfx-object .deemphasize {\n",
       "  opacity: 0.5;\n",
       "}\n",
       ".tfx-object.collapsed > table.attr-table {\n",
       "  display: none;\n",
       "}\n",
       ".tfx-object.expanded > table.attr-table {\n",
       "  display: block;\n",
       "}\n",
       ".tfx-object table.attr-table {\n",
       "  border: 2px solid white;\n",
       "  margin-top: 5px;\n",
       "}\n",
       ".tfx-object table.attr-table td.attr-name {\n",
       "  vertical-align: top;\n",
       "  font-weight: bold;\n",
       "}\n",
       ".tfx-object table.attr-table td.attrvalue {\n",
       "  text-align: left;\n",
       "}\n",
       "</style>\n",
       "<script>\n",
       "function toggleTfxObject(element) {\n",
       "  var objElement = element.parentElement;\n",
       "  if (objElement.classList.contains('collapsed')) {\n",
       "    objElement.classList.remove('collapsed');\n",
       "    objElement.classList.add('expanded');\n",
       "  } else {\n",
       "    objElement.classList.add('collapsed');\n",
       "    objElement.classList.remove('expanded');\n",
       "  }\n",
       "}\n",
       "</script>\n",
       "<div class=\"tfx-object collapsed\"><div class = \"title\" onclick=\"toggleTfxObject(this)\"><span class=\"expansion-marker\"></span><span class=\"class-name\">ModelValidator</span><span class=\"deemphasize\"> at 0x7faa4c412160</span></div><table class=\"attr-table\"><tr><td class=\"attr-name\">.inputs</td><td class = \"attrvalue\"><table class=\"attr-table\"><tr><td class=\"attr-name\">['examples']</td><td class = \"attrvalue\"><style>\n",
       ".tfx-object.expanded {\n",
       "  padding: 4px 8px 4px 8px;\n",
       "  background: white;\n",
       "  border: 1px solid #bbbbbb;\n",
       "  box-shadow: 4px 4px 2px rgba(0,0,0,0.05);\n",
       "}\n",
       ".tfx-object, .tfx-object * {\n",
       "  font-size: 11pt;\n",
       "}\n",
       ".tfx-object > .title {\n",
       "  cursor: pointer;\n",
       "}\n",
       ".tfx-object .expansion-marker {\n",
       "  color: #999999;\n",
       "}\n",
       ".tfx-object.expanded > .title > .expansion-marker:before {\n",
       "  content: '▼';\n",
       "}\n",
       ".tfx-object.collapsed > .title > .expansion-marker:before {\n",
       "  content: '▶';\n",
       "}\n",
       ".tfx-object .class-name {\n",
       "  font-weight: bold;\n",
       "}\n",
       ".tfx-object .deemphasize {\n",
       "  opacity: 0.5;\n",
       "}\n",
       ".tfx-object.collapsed > table.attr-table {\n",
       "  display: none;\n",
       "}\n",
       ".tfx-object.expanded > table.attr-table {\n",
       "  display: block;\n",
       "}\n",
       ".tfx-object table.attr-table {\n",
       "  border: 2px solid white;\n",
       "  margin-top: 5px;\n",
       "}\n",
       ".tfx-object table.attr-table td.attr-name {\n",
       "  vertical-align: top;\n",
       "  font-weight: bold;\n",
       "}\n",
       ".tfx-object table.attr-table td.attrvalue {\n",
       "  text-align: left;\n",
       "}\n",
       "</style>\n",
       "<script>\n",
       "function toggleTfxObject(element) {\n",
       "  var objElement = element.parentElement;\n",
       "  if (objElement.classList.contains('collapsed')) {\n",
       "    objElement.classList.remove('collapsed');\n",
       "    objElement.classList.add('expanded');\n",
       "  } else {\n",
       "    objElement.classList.add('collapsed');\n",
       "    objElement.classList.remove('expanded');\n",
       "  }\n",
       "}\n",
       "</script>\n",
       "<div class=\"tfx-object collapsed\"><div class = \"title\" onclick=\"toggleTfxObject(this)\"><span class=\"expansion-marker\"></span><span class=\"class-name\">Channel</span> of type <span class=\"class-name\">'ExamplesPath'</span> (2 artifacts)<span class=\"deemphasize\"> at 0x7fade432c0f0</span></div><table class=\"attr-table\"><tr><td class=\"attr-name\">.type_name</td><td class = \"attrvalue\">ExamplesPath</td></tr><tr><td class=\"attr-name\">._artifacts</td><td class = \"attrvalue\"><table class=\"attr-table\"><tr><td class=\"attr-name\">[0]</td><td class = \"attrvalue\"><style>\n",
       ".tfx-object.expanded {\n",
       "  padding: 4px 8px 4px 8px;\n",
       "  background: white;\n",
       "  border: 1px solid #bbbbbb;\n",
       "  box-shadow: 4px 4px 2px rgba(0,0,0,0.05);\n",
       "}\n",
       ".tfx-object, .tfx-object * {\n",
       "  font-size: 11pt;\n",
       "}\n",
       ".tfx-object > .title {\n",
       "  cursor: pointer;\n",
       "}\n",
       ".tfx-object .expansion-marker {\n",
       "  color: #999999;\n",
       "}\n",
       ".tfx-object.expanded > .title > .expansion-marker:before {\n",
       "  content: '▼';\n",
       "}\n",
       ".tfx-object.collapsed > .title > .expansion-marker:before {\n",
       "  content: '▶';\n",
       "}\n",
       ".tfx-object .class-name {\n",
       "  font-weight: bold;\n",
       "}\n",
       ".tfx-object .deemphasize {\n",
       "  opacity: 0.5;\n",
       "}\n",
       ".tfx-object.collapsed > table.attr-table {\n",
       "  display: none;\n",
       "}\n",
       ".tfx-object.expanded > table.attr-table {\n",
       "  display: block;\n",
       "}\n",
       ".tfx-object table.attr-table {\n",
       "  border: 2px solid white;\n",
       "  margin-top: 5px;\n",
       "}\n",
       ".tfx-object table.attr-table td.attr-name {\n",
       "  vertical-align: top;\n",
       "  font-weight: bold;\n",
       "}\n",
       ".tfx-object table.attr-table td.attrvalue {\n",
       "  text-align: left;\n",
       "}\n",
       "</style>\n",
       "<script>\n",
       "function toggleTfxObject(element) {\n",
       "  var objElement = element.parentElement;\n",
       "  if (objElement.classList.contains('collapsed')) {\n",
       "    objElement.classList.remove('collapsed');\n",
       "    objElement.classList.add('expanded');\n",
       "  } else {\n",
       "    objElement.classList.add('collapsed');\n",
       "    objElement.classList.remove('expanded');\n",
       "  }\n",
       "}\n",
       "</script>\n",
       "<div class=\"tfx-object collapsed\"><div class = \"title\" onclick=\"toggleTfxObject(this)\"><span class=\"expansion-marker\"></span><span class=\"class-name\">Artifact</span> of type <span class=\"class-name\">'ExamplesPath'</span> (uri: /tmp/tfx-interactive-2019-09-13T16_46_14.222336-5zedre0a/CsvExampleGen/examples/1/train/)<span class=\"deemphasize\"> at 0x7fade432c978</span></div><table class=\"attr-table\"><tr><td class=\"attr-name\">.type_name</td><td class = \"attrvalue\">ExamplesPath</td></tr><tr><td class=\"attr-name\">.uri</td><td class = \"attrvalue\">/tmp/tfx-interactive-2019-09-13T16_46_14.222336-5zedre0a/CsvExampleGen/examples/1/train/</td></tr><tr><td class=\"attr-name\">.span</td><td class = \"attrvalue\">0</td></tr><tr><td class=\"attr-name\">.split</td><td class = \"attrvalue\">train</td></tr></table></div></td></tr><tr><td class=\"attr-name\">[1]</td><td class = \"attrvalue\"><style>\n",
       ".tfx-object.expanded {\n",
       "  padding: 4px 8px 4px 8px;\n",
       "  background: white;\n",
       "  border: 1px solid #bbbbbb;\n",
       "  box-shadow: 4px 4px 2px rgba(0,0,0,0.05);\n",
       "}\n",
       ".tfx-object, .tfx-object * {\n",
       "  font-size: 11pt;\n",
       "}\n",
       ".tfx-object > .title {\n",
       "  cursor: pointer;\n",
       "}\n",
       ".tfx-object .expansion-marker {\n",
       "  color: #999999;\n",
       "}\n",
       ".tfx-object.expanded > .title > .expansion-marker:before {\n",
       "  content: '▼';\n",
       "}\n",
       ".tfx-object.collapsed > .title > .expansion-marker:before {\n",
       "  content: '▶';\n",
       "}\n",
       ".tfx-object .class-name {\n",
       "  font-weight: bold;\n",
       "}\n",
       ".tfx-object .deemphasize {\n",
       "  opacity: 0.5;\n",
       "}\n",
       ".tfx-object.collapsed > table.attr-table {\n",
       "  display: none;\n",
       "}\n",
       ".tfx-object.expanded > table.attr-table {\n",
       "  display: block;\n",
       "}\n",
       ".tfx-object table.attr-table {\n",
       "  border: 2px solid white;\n",
       "  margin-top: 5px;\n",
       "}\n",
       ".tfx-object table.attr-table td.attr-name {\n",
       "  vertical-align: top;\n",
       "  font-weight: bold;\n",
       "}\n",
       ".tfx-object table.attr-table td.attrvalue {\n",
       "  text-align: left;\n",
       "}\n",
       "</style>\n",
       "<script>\n",
       "function toggleTfxObject(element) {\n",
       "  var objElement = element.parentElement;\n",
       "  if (objElement.classList.contains('collapsed')) {\n",
       "    objElement.classList.remove('collapsed');\n",
       "    objElement.classList.add('expanded');\n",
       "  } else {\n",
       "    objElement.classList.add('collapsed');\n",
       "    objElement.classList.remove('expanded');\n",
       "  }\n",
       "}\n",
       "</script>\n",
       "<div class=\"tfx-object collapsed\"><div class = \"title\" onclick=\"toggleTfxObject(this)\"><span class=\"expansion-marker\"></span><span class=\"class-name\">Artifact</span> of type <span class=\"class-name\">'ExamplesPath'</span> (uri: /tmp/tfx-interactive-2019-09-13T16_46_14.222336-5zedre0a/CsvExampleGen/examples/1/eval/)<span class=\"deemphasize\"> at 0x7fade432c198</span></div><table class=\"attr-table\"><tr><td class=\"attr-name\">.type_name</td><td class = \"attrvalue\">ExamplesPath</td></tr><tr><td class=\"attr-name\">.uri</td><td class = \"attrvalue\">/tmp/tfx-interactive-2019-09-13T16_46_14.222336-5zedre0a/CsvExampleGen/examples/1/eval/</td></tr><tr><td class=\"attr-name\">.span</td><td class = \"attrvalue\">0</td></tr><tr><td class=\"attr-name\">.split</td><td class = \"attrvalue\">eval</td></tr></table></div></td></tr></table></td></tr></table></div></td></tr><tr><td class=\"attr-name\">['model']</td><td class = \"attrvalue\"><style>\n",
       ".tfx-object.expanded {\n",
       "  padding: 4px 8px 4px 8px;\n",
       "  background: white;\n",
       "  border: 1px solid #bbbbbb;\n",
       "  box-shadow: 4px 4px 2px rgba(0,0,0,0.05);\n",
       "}\n",
       ".tfx-object, .tfx-object * {\n",
       "  font-size: 11pt;\n",
       "}\n",
       ".tfx-object > .title {\n",
       "  cursor: pointer;\n",
       "}\n",
       ".tfx-object .expansion-marker {\n",
       "  color: #999999;\n",
       "}\n",
       ".tfx-object.expanded > .title > .expansion-marker:before {\n",
       "  content: '▼';\n",
       "}\n",
       ".tfx-object.collapsed > .title > .expansion-marker:before {\n",
       "  content: '▶';\n",
       "}\n",
       ".tfx-object .class-name {\n",
       "  font-weight: bold;\n",
       "}\n",
       ".tfx-object .deemphasize {\n",
       "  opacity: 0.5;\n",
       "}\n",
       ".tfx-object.collapsed > table.attr-table {\n",
       "  display: none;\n",
       "}\n",
       ".tfx-object.expanded > table.attr-table {\n",
       "  display: block;\n",
       "}\n",
       ".tfx-object table.attr-table {\n",
       "  border: 2px solid white;\n",
       "  margin-top: 5px;\n",
       "}\n",
       ".tfx-object table.attr-table td.attr-name {\n",
       "  vertical-align: top;\n",
       "  font-weight: bold;\n",
       "}\n",
       ".tfx-object table.attr-table td.attrvalue {\n",
       "  text-align: left;\n",
       "}\n",
       "</style>\n",
       "<script>\n",
       "function toggleTfxObject(element) {\n",
       "  var objElement = element.parentElement;\n",
       "  if (objElement.classList.contains('collapsed')) {\n",
       "    objElement.classList.remove('collapsed');\n",
       "    objElement.classList.add('expanded');\n",
       "  } else {\n",
       "    objElement.classList.add('collapsed');\n",
       "    objElement.classList.remove('expanded');\n",
       "  }\n",
       "}\n",
       "</script>\n",
       "<div class=\"tfx-object collapsed\"><div class = \"title\" onclick=\"toggleTfxObject(this)\"><span class=\"expansion-marker\"></span><span class=\"class-name\">Channel</span> of type <span class=\"class-name\">'ModelExportPath'</span> (1 artifact)<span class=\"deemphasize\"> at 0x7face15a15c0</span></div><table class=\"attr-table\"><tr><td class=\"attr-name\">.type_name</td><td class = \"attrvalue\">ModelExportPath</td></tr><tr><td class=\"attr-name\">._artifacts</td><td class = \"attrvalue\"><table class=\"attr-table\"><tr><td class=\"attr-name\">[0]</td><td class = \"attrvalue\"><style>\n",
       ".tfx-object.expanded {\n",
       "  padding: 4px 8px 4px 8px;\n",
       "  background: white;\n",
       "  border: 1px solid #bbbbbb;\n",
       "  box-shadow: 4px 4px 2px rgba(0,0,0,0.05);\n",
       "}\n",
       ".tfx-object, .tfx-object * {\n",
       "  font-size: 11pt;\n",
       "}\n",
       ".tfx-object > .title {\n",
       "  cursor: pointer;\n",
       "}\n",
       ".tfx-object .expansion-marker {\n",
       "  color: #999999;\n",
       "}\n",
       ".tfx-object.expanded > .title > .expansion-marker:before {\n",
       "  content: '▼';\n",
       "}\n",
       ".tfx-object.collapsed > .title > .expansion-marker:before {\n",
       "  content: '▶';\n",
       "}\n",
       ".tfx-object .class-name {\n",
       "  font-weight: bold;\n",
       "}\n",
       ".tfx-object .deemphasize {\n",
       "  opacity: 0.5;\n",
       "}\n",
       ".tfx-object.collapsed > table.attr-table {\n",
       "  display: none;\n",
       "}\n",
       ".tfx-object.expanded > table.attr-table {\n",
       "  display: block;\n",
       "}\n",
       ".tfx-object table.attr-table {\n",
       "  border: 2px solid white;\n",
       "  margin-top: 5px;\n",
       "}\n",
       ".tfx-object table.attr-table td.attr-name {\n",
       "  vertical-align: top;\n",
       "  font-weight: bold;\n",
       "}\n",
       ".tfx-object table.attr-table td.attrvalue {\n",
       "  text-align: left;\n",
       "}\n",
       "</style>\n",
       "<script>\n",
       "function toggleTfxObject(element) {\n",
       "  var objElement = element.parentElement;\n",
       "  if (objElement.classList.contains('collapsed')) {\n",
       "    objElement.classList.remove('collapsed');\n",
       "    objElement.classList.add('expanded');\n",
       "  } else {\n",
       "    objElement.classList.add('collapsed');\n",
       "    objElement.classList.remove('expanded');\n",
       "  }\n",
       "}\n",
       "</script>\n",
       "<div class=\"tfx-object collapsed\"><div class = \"title\" onclick=\"toggleTfxObject(this)\"><span class=\"expansion-marker\"></span><span class=\"class-name\">Artifact</span> of type <span class=\"class-name\">'ModelExportPath'</span> (uri: /tmp/tfx-interactive-2019-09-13T16_46_14.222336-5zedre0a/Trainer/output/6/)<span class=\"deemphasize\"> at 0x7fac844948d0</span></div><table class=\"attr-table\"><tr><td class=\"attr-name\">.type_name</td><td class = \"attrvalue\">ModelExportPath</td></tr><tr><td class=\"attr-name\">.uri</td><td class = \"attrvalue\">/tmp/tfx-interactive-2019-09-13T16_46_14.222336-5zedre0a/Trainer/output/6/</td></tr><tr><td class=\"attr-name\">.span</td><td class = \"attrvalue\">0</td></tr><tr><td class=\"attr-name\">.split</td><td class = \"attrvalue\"></td></tr></table></div></td></tr></table></td></tr></table></div></td></tr></table></td></tr><tr><td class=\"attr-name\">.outputs</td><td class = \"attrvalue\"><table class=\"attr-table\"><tr><td class=\"attr-name\">['blessing']</td><td class = \"attrvalue\"><style>\n",
       ".tfx-object.expanded {\n",
       "  padding: 4px 8px 4px 8px;\n",
       "  background: white;\n",
       "  border: 1px solid #bbbbbb;\n",
       "  box-shadow: 4px 4px 2px rgba(0,0,0,0.05);\n",
       "}\n",
       ".tfx-object, .tfx-object * {\n",
       "  font-size: 11pt;\n",
       "}\n",
       ".tfx-object > .title {\n",
       "  cursor: pointer;\n",
       "}\n",
       ".tfx-object .expansion-marker {\n",
       "  color: #999999;\n",
       "}\n",
       ".tfx-object.expanded > .title > .expansion-marker:before {\n",
       "  content: '▼';\n",
       "}\n",
       ".tfx-object.collapsed > .title > .expansion-marker:before {\n",
       "  content: '▶';\n",
       "}\n",
       ".tfx-object .class-name {\n",
       "  font-weight: bold;\n",
       "}\n",
       ".tfx-object .deemphasize {\n",
       "  opacity: 0.5;\n",
       "}\n",
       ".tfx-object.collapsed > table.attr-table {\n",
       "  display: none;\n",
       "}\n",
       ".tfx-object.expanded > table.attr-table {\n",
       "  display: block;\n",
       "}\n",
       ".tfx-object table.attr-table {\n",
       "  border: 2px solid white;\n",
       "  margin-top: 5px;\n",
       "}\n",
       ".tfx-object table.attr-table td.attr-name {\n",
       "  vertical-align: top;\n",
       "  font-weight: bold;\n",
       "}\n",
       ".tfx-object table.attr-table td.attrvalue {\n",
       "  text-align: left;\n",
       "}\n",
       "</style>\n",
       "<script>\n",
       "function toggleTfxObject(element) {\n",
       "  var objElement = element.parentElement;\n",
       "  if (objElement.classList.contains('collapsed')) {\n",
       "    objElement.classList.remove('collapsed');\n",
       "    objElement.classList.add('expanded');\n",
       "  } else {\n",
       "    objElement.classList.add('collapsed');\n",
       "    objElement.classList.remove('expanded');\n",
       "  }\n",
       "}\n",
       "</script>\n",
       "<div class=\"tfx-object collapsed\"><div class = \"title\" onclick=\"toggleTfxObject(this)\"><span class=\"expansion-marker\"></span><span class=\"class-name\">Channel</span> of type <span class=\"class-name\">'ModelBlessingPath'</span> (1 artifact)<span class=\"deemphasize\"> at 0x7faa4c412320</span></div><table class=\"attr-table\"><tr><td class=\"attr-name\">.type_name</td><td class = \"attrvalue\">ModelBlessingPath</td></tr><tr><td class=\"attr-name\">._artifacts</td><td class = \"attrvalue\"><table class=\"attr-table\"><tr><td class=\"attr-name\">[0]</td><td class = \"attrvalue\"><style>\n",
       ".tfx-object.expanded {\n",
       "  padding: 4px 8px 4px 8px;\n",
       "  background: white;\n",
       "  border: 1px solid #bbbbbb;\n",
       "  box-shadow: 4px 4px 2px rgba(0,0,0,0.05);\n",
       "}\n",
       ".tfx-object, .tfx-object * {\n",
       "  font-size: 11pt;\n",
       "}\n",
       ".tfx-object > .title {\n",
       "  cursor: pointer;\n",
       "}\n",
       ".tfx-object .expansion-marker {\n",
       "  color: #999999;\n",
       "}\n",
       ".tfx-object.expanded > .title > .expansion-marker:before {\n",
       "  content: '▼';\n",
       "}\n",
       ".tfx-object.collapsed > .title > .expansion-marker:before {\n",
       "  content: '▶';\n",
       "}\n",
       ".tfx-object .class-name {\n",
       "  font-weight: bold;\n",
       "}\n",
       ".tfx-object .deemphasize {\n",
       "  opacity: 0.5;\n",
       "}\n",
       ".tfx-object.collapsed > table.attr-table {\n",
       "  display: none;\n",
       "}\n",
       ".tfx-object.expanded > table.attr-table {\n",
       "  display: block;\n",
       "}\n",
       ".tfx-object table.attr-table {\n",
       "  border: 2px solid white;\n",
       "  margin-top: 5px;\n",
       "}\n",
       ".tfx-object table.attr-table td.attr-name {\n",
       "  vertical-align: top;\n",
       "  font-weight: bold;\n",
       "}\n",
       ".tfx-object table.attr-table td.attrvalue {\n",
       "  text-align: left;\n",
       "}\n",
       "</style>\n",
       "<script>\n",
       "function toggleTfxObject(element) {\n",
       "  var objElement = element.parentElement;\n",
       "  if (objElement.classList.contains('collapsed')) {\n",
       "    objElement.classList.remove('collapsed');\n",
       "    objElement.classList.add('expanded');\n",
       "  } else {\n",
       "    objElement.classList.add('collapsed');\n",
       "    objElement.classList.remove('expanded');\n",
       "  }\n",
       "}\n",
       "</script>\n",
       "<div class=\"tfx-object collapsed\"><div class = \"title\" onclick=\"toggleTfxObject(this)\"><span class=\"expansion-marker\"></span><span class=\"class-name\">Artifact</span> of type <span class=\"class-name\">'ModelBlessingPath'</span> (uri: /tmp/tfx-interactive-2019-09-13T16_46_14.222336-5zedre0a/ModelValidator/blessing/8/)<span class=\"deemphasize\"> at 0x7faa4c4124a8</span></div><table class=\"attr-table\"><tr><td class=\"attr-name\">.type_name</td><td class = \"attrvalue\">ModelBlessingPath</td></tr><tr><td class=\"attr-name\">.uri</td><td class = \"attrvalue\">/tmp/tfx-interactive-2019-09-13T16_46_14.222336-5zedre0a/ModelValidator/blessing/8/</td></tr><tr><td class=\"attr-name\">.span</td><td class = \"attrvalue\">0</td></tr><tr><td class=\"attr-name\">.split</td><td class = \"attrvalue\"></td></tr></table></div></td></tr></table></td></tr></table></div></td></tr></table></td></tr><tr><td class=\"attr-name\">.exec_properties</td><td class = \"attrvalue\"><table class=\"attr-table\"><tr><td class=\"attr-name\">['blessed_model']</td><td class = \"attrvalue\">None</td></tr><tr><td class=\"attr-name\">['blessed_model_id']</td><td class = \"attrvalue\">None</td></tr><tr><td class=\"attr-name\">['component_id']</td><td class = \"attrvalue\">ModelValidator</td></tr></table></td></tr></table></div></td></tr><tr><td class=\"attr-name\">.component.inputs</td><td class = \"attrvalue\"><table class=\"attr-table\"><tr><td class=\"attr-name\">['examples']</td><td class = \"attrvalue\"><style>\n",
       ".tfx-object.expanded {\n",
       "  padding: 4px 8px 4px 8px;\n",
       "  background: white;\n",
       "  border: 1px solid #bbbbbb;\n",
       "  box-shadow: 4px 4px 2px rgba(0,0,0,0.05);\n",
       "}\n",
       ".tfx-object, .tfx-object * {\n",
       "  font-size: 11pt;\n",
       "}\n",
       ".tfx-object > .title {\n",
       "  cursor: pointer;\n",
       "}\n",
       ".tfx-object .expansion-marker {\n",
       "  color: #999999;\n",
       "}\n",
       ".tfx-object.expanded > .title > .expansion-marker:before {\n",
       "  content: '▼';\n",
       "}\n",
       ".tfx-object.collapsed > .title > .expansion-marker:before {\n",
       "  content: '▶';\n",
       "}\n",
       ".tfx-object .class-name {\n",
       "  font-weight: bold;\n",
       "}\n",
       ".tfx-object .deemphasize {\n",
       "  opacity: 0.5;\n",
       "}\n",
       ".tfx-object.collapsed > table.attr-table {\n",
       "  display: none;\n",
       "}\n",
       ".tfx-object.expanded > table.attr-table {\n",
       "  display: block;\n",
       "}\n",
       ".tfx-object table.attr-table {\n",
       "  border: 2px solid white;\n",
       "  margin-top: 5px;\n",
       "}\n",
       ".tfx-object table.attr-table td.attr-name {\n",
       "  vertical-align: top;\n",
       "  font-weight: bold;\n",
       "}\n",
       ".tfx-object table.attr-table td.attrvalue {\n",
       "  text-align: left;\n",
       "}\n",
       "</style>\n",
       "<script>\n",
       "function toggleTfxObject(element) {\n",
       "  var objElement = element.parentElement;\n",
       "  if (objElement.classList.contains('collapsed')) {\n",
       "    objElement.classList.remove('collapsed');\n",
       "    objElement.classList.add('expanded');\n",
       "  } else {\n",
       "    objElement.classList.add('collapsed');\n",
       "    objElement.classList.remove('expanded');\n",
       "  }\n",
       "}\n",
       "</script>\n",
       "<div class=\"tfx-object collapsed\"><div class = \"title\" onclick=\"toggleTfxObject(this)\"><span class=\"expansion-marker\"></span><span class=\"class-name\">Channel</span> of type <span class=\"class-name\">'ExamplesPath'</span> (2 artifacts)<span class=\"deemphasize\"> at 0x7fade432c0f0</span></div><table class=\"attr-table\"><tr><td class=\"attr-name\">.type_name</td><td class = \"attrvalue\">ExamplesPath</td></tr><tr><td class=\"attr-name\">._artifacts</td><td class = \"attrvalue\"><table class=\"attr-table\"><tr><td class=\"attr-name\">[0]</td><td class = \"attrvalue\"><style>\n",
       ".tfx-object.expanded {\n",
       "  padding: 4px 8px 4px 8px;\n",
       "  background: white;\n",
       "  border: 1px solid #bbbbbb;\n",
       "  box-shadow: 4px 4px 2px rgba(0,0,0,0.05);\n",
       "}\n",
       ".tfx-object, .tfx-object * {\n",
       "  font-size: 11pt;\n",
       "}\n",
       ".tfx-object > .title {\n",
       "  cursor: pointer;\n",
       "}\n",
       ".tfx-object .expansion-marker {\n",
       "  color: #999999;\n",
       "}\n",
       ".tfx-object.expanded > .title > .expansion-marker:before {\n",
       "  content: '▼';\n",
       "}\n",
       ".tfx-object.collapsed > .title > .expansion-marker:before {\n",
       "  content: '▶';\n",
       "}\n",
       ".tfx-object .class-name {\n",
       "  font-weight: bold;\n",
       "}\n",
       ".tfx-object .deemphasize {\n",
       "  opacity: 0.5;\n",
       "}\n",
       ".tfx-object.collapsed > table.attr-table {\n",
       "  display: none;\n",
       "}\n",
       ".tfx-object.expanded > table.attr-table {\n",
       "  display: block;\n",
       "}\n",
       ".tfx-object table.attr-table {\n",
       "  border: 2px solid white;\n",
       "  margin-top: 5px;\n",
       "}\n",
       ".tfx-object table.attr-table td.attr-name {\n",
       "  vertical-align: top;\n",
       "  font-weight: bold;\n",
       "}\n",
       ".tfx-object table.attr-table td.attrvalue {\n",
       "  text-align: left;\n",
       "}\n",
       "</style>\n",
       "<script>\n",
       "function toggleTfxObject(element) {\n",
       "  var objElement = element.parentElement;\n",
       "  if (objElement.classList.contains('collapsed')) {\n",
       "    objElement.classList.remove('collapsed');\n",
       "    objElement.classList.add('expanded');\n",
       "  } else {\n",
       "    objElement.classList.add('collapsed');\n",
       "    objElement.classList.remove('expanded');\n",
       "  }\n",
       "}\n",
       "</script>\n",
       "<div class=\"tfx-object collapsed\"><div class = \"title\" onclick=\"toggleTfxObject(this)\"><span class=\"expansion-marker\"></span><span class=\"class-name\">Artifact</span> of type <span class=\"class-name\">'ExamplesPath'</span> (uri: /tmp/tfx-interactive-2019-09-13T16_46_14.222336-5zedre0a/CsvExampleGen/examples/1/train/)<span class=\"deemphasize\"> at 0x7fade432c978</span></div><table class=\"attr-table\"><tr><td class=\"attr-name\">.type_name</td><td class = \"attrvalue\">ExamplesPath</td></tr><tr><td class=\"attr-name\">.uri</td><td class = \"attrvalue\">/tmp/tfx-interactive-2019-09-13T16_46_14.222336-5zedre0a/CsvExampleGen/examples/1/train/</td></tr><tr><td class=\"attr-name\">.span</td><td class = \"attrvalue\">0</td></tr><tr><td class=\"attr-name\">.split</td><td class = \"attrvalue\">train</td></tr></table></div></td></tr><tr><td class=\"attr-name\">[1]</td><td class = \"attrvalue\"><style>\n",
       ".tfx-object.expanded {\n",
       "  padding: 4px 8px 4px 8px;\n",
       "  background: white;\n",
       "  border: 1px solid #bbbbbb;\n",
       "  box-shadow: 4px 4px 2px rgba(0,0,0,0.05);\n",
       "}\n",
       ".tfx-object, .tfx-object * {\n",
       "  font-size: 11pt;\n",
       "}\n",
       ".tfx-object > .title {\n",
       "  cursor: pointer;\n",
       "}\n",
       ".tfx-object .expansion-marker {\n",
       "  color: #999999;\n",
       "}\n",
       ".tfx-object.expanded > .title > .expansion-marker:before {\n",
       "  content: '▼';\n",
       "}\n",
       ".tfx-object.collapsed > .title > .expansion-marker:before {\n",
       "  content: '▶';\n",
       "}\n",
       ".tfx-object .class-name {\n",
       "  font-weight: bold;\n",
       "}\n",
       ".tfx-object .deemphasize {\n",
       "  opacity: 0.5;\n",
       "}\n",
       ".tfx-object.collapsed > table.attr-table {\n",
       "  display: none;\n",
       "}\n",
       ".tfx-object.expanded > table.attr-table {\n",
       "  display: block;\n",
       "}\n",
       ".tfx-object table.attr-table {\n",
       "  border: 2px solid white;\n",
       "  margin-top: 5px;\n",
       "}\n",
       ".tfx-object table.attr-table td.attr-name {\n",
       "  vertical-align: top;\n",
       "  font-weight: bold;\n",
       "}\n",
       ".tfx-object table.attr-table td.attrvalue {\n",
       "  text-align: left;\n",
       "}\n",
       "</style>\n",
       "<script>\n",
       "function toggleTfxObject(element) {\n",
       "  var objElement = element.parentElement;\n",
       "  if (objElement.classList.contains('collapsed')) {\n",
       "    objElement.classList.remove('collapsed');\n",
       "    objElement.classList.add('expanded');\n",
       "  } else {\n",
       "    objElement.classList.add('collapsed');\n",
       "    objElement.classList.remove('expanded');\n",
       "  }\n",
       "}\n",
       "</script>\n",
       "<div class=\"tfx-object collapsed\"><div class = \"title\" onclick=\"toggleTfxObject(this)\"><span class=\"expansion-marker\"></span><span class=\"class-name\">Artifact</span> of type <span class=\"class-name\">'ExamplesPath'</span> (uri: /tmp/tfx-interactive-2019-09-13T16_46_14.222336-5zedre0a/CsvExampleGen/examples/1/eval/)<span class=\"deemphasize\"> at 0x7fade432c198</span></div><table class=\"attr-table\"><tr><td class=\"attr-name\">.type_name</td><td class = \"attrvalue\">ExamplesPath</td></tr><tr><td class=\"attr-name\">.uri</td><td class = \"attrvalue\">/tmp/tfx-interactive-2019-09-13T16_46_14.222336-5zedre0a/CsvExampleGen/examples/1/eval/</td></tr><tr><td class=\"attr-name\">.span</td><td class = \"attrvalue\">0</td></tr><tr><td class=\"attr-name\">.split</td><td class = \"attrvalue\">eval</td></tr></table></div></td></tr></table></td></tr></table></div></td></tr><tr><td class=\"attr-name\">['model']</td><td class = \"attrvalue\"><style>\n",
       ".tfx-object.expanded {\n",
       "  padding: 4px 8px 4px 8px;\n",
       "  background: white;\n",
       "  border: 1px solid #bbbbbb;\n",
       "  box-shadow: 4px 4px 2px rgba(0,0,0,0.05);\n",
       "}\n",
       ".tfx-object, .tfx-object * {\n",
       "  font-size: 11pt;\n",
       "}\n",
       ".tfx-object > .title {\n",
       "  cursor: pointer;\n",
       "}\n",
       ".tfx-object .expansion-marker {\n",
       "  color: #999999;\n",
       "}\n",
       ".tfx-object.expanded > .title > .expansion-marker:before {\n",
       "  content: '▼';\n",
       "}\n",
       ".tfx-object.collapsed > .title > .expansion-marker:before {\n",
       "  content: '▶';\n",
       "}\n",
       ".tfx-object .class-name {\n",
       "  font-weight: bold;\n",
       "}\n",
       ".tfx-object .deemphasize {\n",
       "  opacity: 0.5;\n",
       "}\n",
       ".tfx-object.collapsed > table.attr-table {\n",
       "  display: none;\n",
       "}\n",
       ".tfx-object.expanded > table.attr-table {\n",
       "  display: block;\n",
       "}\n",
       ".tfx-object table.attr-table {\n",
       "  border: 2px solid white;\n",
       "  margin-top: 5px;\n",
       "}\n",
       ".tfx-object table.attr-table td.attr-name {\n",
       "  vertical-align: top;\n",
       "  font-weight: bold;\n",
       "}\n",
       ".tfx-object table.attr-table td.attrvalue {\n",
       "  text-align: left;\n",
       "}\n",
       "</style>\n",
       "<script>\n",
       "function toggleTfxObject(element) {\n",
       "  var objElement = element.parentElement;\n",
       "  if (objElement.classList.contains('collapsed')) {\n",
       "    objElement.classList.remove('collapsed');\n",
       "    objElement.classList.add('expanded');\n",
       "  } else {\n",
       "    objElement.classList.add('collapsed');\n",
       "    objElement.classList.remove('expanded');\n",
       "  }\n",
       "}\n",
       "</script>\n",
       "<div class=\"tfx-object collapsed\"><div class = \"title\" onclick=\"toggleTfxObject(this)\"><span class=\"expansion-marker\"></span><span class=\"class-name\">Channel</span> of type <span class=\"class-name\">'ModelExportPath'</span> (1 artifact)<span class=\"deemphasize\"> at 0x7face15a15c0</span></div><table class=\"attr-table\"><tr><td class=\"attr-name\">.type_name</td><td class = \"attrvalue\">ModelExportPath</td></tr><tr><td class=\"attr-name\">._artifacts</td><td class = \"attrvalue\"><table class=\"attr-table\"><tr><td class=\"attr-name\">[0]</td><td class = \"attrvalue\"><style>\n",
       ".tfx-object.expanded {\n",
       "  padding: 4px 8px 4px 8px;\n",
       "  background: white;\n",
       "  border: 1px solid #bbbbbb;\n",
       "  box-shadow: 4px 4px 2px rgba(0,0,0,0.05);\n",
       "}\n",
       ".tfx-object, .tfx-object * {\n",
       "  font-size: 11pt;\n",
       "}\n",
       ".tfx-object > .title {\n",
       "  cursor: pointer;\n",
       "}\n",
       ".tfx-object .expansion-marker {\n",
       "  color: #999999;\n",
       "}\n",
       ".tfx-object.expanded > .title > .expansion-marker:before {\n",
       "  content: '▼';\n",
       "}\n",
       ".tfx-object.collapsed > .title > .expansion-marker:before {\n",
       "  content: '▶';\n",
       "}\n",
       ".tfx-object .class-name {\n",
       "  font-weight: bold;\n",
       "}\n",
       ".tfx-object .deemphasize {\n",
       "  opacity: 0.5;\n",
       "}\n",
       ".tfx-object.collapsed > table.attr-table {\n",
       "  display: none;\n",
       "}\n",
       ".tfx-object.expanded > table.attr-table {\n",
       "  display: block;\n",
       "}\n",
       ".tfx-object table.attr-table {\n",
       "  border: 2px solid white;\n",
       "  margin-top: 5px;\n",
       "}\n",
       ".tfx-object table.attr-table td.attr-name {\n",
       "  vertical-align: top;\n",
       "  font-weight: bold;\n",
       "}\n",
       ".tfx-object table.attr-table td.attrvalue {\n",
       "  text-align: left;\n",
       "}\n",
       "</style>\n",
       "<script>\n",
       "function toggleTfxObject(element) {\n",
       "  var objElement = element.parentElement;\n",
       "  if (objElement.classList.contains('collapsed')) {\n",
       "    objElement.classList.remove('collapsed');\n",
       "    objElement.classList.add('expanded');\n",
       "  } else {\n",
       "    objElement.classList.add('collapsed');\n",
       "    objElement.classList.remove('expanded');\n",
       "  }\n",
       "}\n",
       "</script>\n",
       "<div class=\"tfx-object collapsed\"><div class = \"title\" onclick=\"toggleTfxObject(this)\"><span class=\"expansion-marker\"></span><span class=\"class-name\">Artifact</span> of type <span class=\"class-name\">'ModelExportPath'</span> (uri: /tmp/tfx-interactive-2019-09-13T16_46_14.222336-5zedre0a/Trainer/output/6/)<span class=\"deemphasize\"> at 0x7fac844948d0</span></div><table class=\"attr-table\"><tr><td class=\"attr-name\">.type_name</td><td class = \"attrvalue\">ModelExportPath</td></tr><tr><td class=\"attr-name\">.uri</td><td class = \"attrvalue\">/tmp/tfx-interactive-2019-09-13T16_46_14.222336-5zedre0a/Trainer/output/6/</td></tr><tr><td class=\"attr-name\">.span</td><td class = \"attrvalue\">0</td></tr><tr><td class=\"attr-name\">.split</td><td class = \"attrvalue\"></td></tr></table></div></td></tr></table></td></tr></table></div></td></tr></table></td></tr><tr><td class=\"attr-name\">.component.outputs</td><td class = \"attrvalue\"><table class=\"attr-table\"><tr><td class=\"attr-name\">['blessing']</td><td class = \"attrvalue\"><style>\n",
       ".tfx-object.expanded {\n",
       "  padding: 4px 8px 4px 8px;\n",
       "  background: white;\n",
       "  border: 1px solid #bbbbbb;\n",
       "  box-shadow: 4px 4px 2px rgba(0,0,0,0.05);\n",
       "}\n",
       ".tfx-object, .tfx-object * {\n",
       "  font-size: 11pt;\n",
       "}\n",
       ".tfx-object > .title {\n",
       "  cursor: pointer;\n",
       "}\n",
       ".tfx-object .expansion-marker {\n",
       "  color: #999999;\n",
       "}\n",
       ".tfx-object.expanded > .title > .expansion-marker:before {\n",
       "  content: '▼';\n",
       "}\n",
       ".tfx-object.collapsed > .title > .expansion-marker:before {\n",
       "  content: '▶';\n",
       "}\n",
       ".tfx-object .class-name {\n",
       "  font-weight: bold;\n",
       "}\n",
       ".tfx-object .deemphasize {\n",
       "  opacity: 0.5;\n",
       "}\n",
       ".tfx-object.collapsed > table.attr-table {\n",
       "  display: none;\n",
       "}\n",
       ".tfx-object.expanded > table.attr-table {\n",
       "  display: block;\n",
       "}\n",
       ".tfx-object table.attr-table {\n",
       "  border: 2px solid white;\n",
       "  margin-top: 5px;\n",
       "}\n",
       ".tfx-object table.attr-table td.attr-name {\n",
       "  vertical-align: top;\n",
       "  font-weight: bold;\n",
       "}\n",
       ".tfx-object table.attr-table td.attrvalue {\n",
       "  text-align: left;\n",
       "}\n",
       "</style>\n",
       "<script>\n",
       "function toggleTfxObject(element) {\n",
       "  var objElement = element.parentElement;\n",
       "  if (objElement.classList.contains('collapsed')) {\n",
       "    objElement.classList.remove('collapsed');\n",
       "    objElement.classList.add('expanded');\n",
       "  } else {\n",
       "    objElement.classList.add('collapsed');\n",
       "    objElement.classList.remove('expanded');\n",
       "  }\n",
       "}\n",
       "</script>\n",
       "<div class=\"tfx-object collapsed\"><div class = \"title\" onclick=\"toggleTfxObject(this)\"><span class=\"expansion-marker\"></span><span class=\"class-name\">Channel</span> of type <span class=\"class-name\">'ModelBlessingPath'</span> (1 artifact)<span class=\"deemphasize\"> at 0x7faa4c412320</span></div><table class=\"attr-table\"><tr><td class=\"attr-name\">.type_name</td><td class = \"attrvalue\">ModelBlessingPath</td></tr><tr><td class=\"attr-name\">._artifacts</td><td class = \"attrvalue\"><table class=\"attr-table\"><tr><td class=\"attr-name\">[0]</td><td class = \"attrvalue\"><style>\n",
       ".tfx-object.expanded {\n",
       "  padding: 4px 8px 4px 8px;\n",
       "  background: white;\n",
       "  border: 1px solid #bbbbbb;\n",
       "  box-shadow: 4px 4px 2px rgba(0,0,0,0.05);\n",
       "}\n",
       ".tfx-object, .tfx-object * {\n",
       "  font-size: 11pt;\n",
       "}\n",
       ".tfx-object > .title {\n",
       "  cursor: pointer;\n",
       "}\n",
       ".tfx-object .expansion-marker {\n",
       "  color: #999999;\n",
       "}\n",
       ".tfx-object.expanded > .title > .expansion-marker:before {\n",
       "  content: '▼';\n",
       "}\n",
       ".tfx-object.collapsed > .title > .expansion-marker:before {\n",
       "  content: '▶';\n",
       "}\n",
       ".tfx-object .class-name {\n",
       "  font-weight: bold;\n",
       "}\n",
       ".tfx-object .deemphasize {\n",
       "  opacity: 0.5;\n",
       "}\n",
       ".tfx-object.collapsed > table.attr-table {\n",
       "  display: none;\n",
       "}\n",
       ".tfx-object.expanded > table.attr-table {\n",
       "  display: block;\n",
       "}\n",
       ".tfx-object table.attr-table {\n",
       "  border: 2px solid white;\n",
       "  margin-top: 5px;\n",
       "}\n",
       ".tfx-object table.attr-table td.attr-name {\n",
       "  vertical-align: top;\n",
       "  font-weight: bold;\n",
       "}\n",
       ".tfx-object table.attr-table td.attrvalue {\n",
       "  text-align: left;\n",
       "}\n",
       "</style>\n",
       "<script>\n",
       "function toggleTfxObject(element) {\n",
       "  var objElement = element.parentElement;\n",
       "  if (objElement.classList.contains('collapsed')) {\n",
       "    objElement.classList.remove('collapsed');\n",
       "    objElement.classList.add('expanded');\n",
       "  } else {\n",
       "    objElement.classList.add('collapsed');\n",
       "    objElement.classList.remove('expanded');\n",
       "  }\n",
       "}\n",
       "</script>\n",
       "<div class=\"tfx-object collapsed\"><div class = \"title\" onclick=\"toggleTfxObject(this)\"><span class=\"expansion-marker\"></span><span class=\"class-name\">Artifact</span> of type <span class=\"class-name\">'ModelBlessingPath'</span> (uri: /tmp/tfx-interactive-2019-09-13T16_46_14.222336-5zedre0a/ModelValidator/blessing/8/)<span class=\"deemphasize\"> at 0x7faa4c4124a8</span></div><table class=\"attr-table\"><tr><td class=\"attr-name\">.type_name</td><td class = \"attrvalue\">ModelBlessingPath</td></tr><tr><td class=\"attr-name\">.uri</td><td class = \"attrvalue\">/tmp/tfx-interactive-2019-09-13T16_46_14.222336-5zedre0a/ModelValidator/blessing/8/</td></tr><tr><td class=\"attr-name\">.span</td><td class = \"attrvalue\">0</td></tr><tr><td class=\"attr-name\">.split</td><td class = \"attrvalue\"></td></tr></table></div></td></tr></table></td></tr></table></div></td></tr></table></td></tr></table></div>"
      ],
      "text/plain": [
       "ExecutionResult(\n",
       "    component_id: ModelValidator\n",
       "    execution_id: 8\n",
       "    outputs:\n",
       "        blessing: Channel(\n",
       "            type_name: ModelBlessingPath\n",
       "            artifacts: [Artifact(type_name: ModelBlessingPath, uri: /tmp/tfx-interactive-2019-09-13T16_46_14.222336-5zedre0a/ModelValidator/blessing/8/, split: , id: 13)]\n",
       "        ))"
      ]
     },
     "execution_count": 22,
     "metadata": {},
     "output_type": "execute_result"
    }
   ],
   "source": [
    "# Performs quality validation of a candidate model (compared to a baseline).\n",
    "model_validator = ModelValidator(\n",
    "    examples=example_gen.outputs['examples'],\n",
    "    model=trainer.outputs['output'])\n",
    "context.run(model_validator)"
   ]
  },
  {
   "cell_type": "markdown",
   "metadata": {
    "colab_type": "text",
    "id": "T8DYekCZlHfj"
   },
   "source": [
    "### Pusher\n",
    "`Pusher` checks whether a model has passed validation, and if so, pushes the model to a file destination."
   ]
  },
  {
   "cell_type": "code",
   "execution_count": 23,
   "metadata": {
    "colab": {},
    "colab_type": "code",
    "id": "r45nQ69eikc9"
   },
   "outputs": [
    {
     "name": "stdout",
     "output_type": "stream",
     "text": [
      "INFO:tensorflow:Run driver for Pusher\n"
     ]
    },
    {
     "name": "stderr",
     "output_type": "stream",
     "text": [
      "INFO:tensorflow:Run driver for Pusher\n"
     ]
    },
    {
     "name": "stdout",
     "output_type": "stream",
     "text": [
      "INFO:tensorflow:Created run context interactive-2019-09-13T16_46_14.222336.2019-09-13T16:47:21.651273.\n"
     ]
    },
    {
     "name": "stderr",
     "output_type": "stream",
     "text": [
      "INFO:tensorflow:Created run context interactive-2019-09-13T16_46_14.222336.2019-09-13T16:47:21.651273.\n"
     ]
    },
    {
     "name": "stdout",
     "output_type": "stream",
     "text": [
      "INFO:tensorflow:ID of run context interactive-2019-09-13T16_46_14.222336.2019-09-13T16:47:21.651273 is 9.\n"
     ]
    },
    {
     "name": "stderr",
     "output_type": "stream",
     "text": [
      "INFO:tensorflow:ID of run context interactive-2019-09-13T16_46_14.222336.2019-09-13T16:47:21.651273 is 9.\n"
     ]
    },
    {
     "name": "stdout",
     "output_type": "stream",
     "text": [
      "INFO:tensorflow:Resolved input artifacts are: {'model_export': [Artifact(type_name: ModelExportPath, uri: /tmp/tfx-interactive-2019-09-13T16_46_14.222336-5zedre0a/Trainer/output/6/, split: , id: 11)], 'model_blessing': [Artifact(type_name: ModelBlessingPath, uri: /tmp/tfx-interactive-2019-09-13T16_46_14.222336-5zedre0a/ModelValidator/blessing/8/, split: , id: 13)]}\n"
     ]
    },
    {
     "name": "stderr",
     "output_type": "stream",
     "text": [
      "INFO:tensorflow:Resolved input artifacts are: {'model_export': [Artifact(type_name: ModelExportPath, uri: /tmp/tfx-interactive-2019-09-13T16_46_14.222336-5zedre0a/Trainer/output/6/, split: , id: 11)], 'model_blessing': [Artifact(type_name: ModelBlessingPath, uri: /tmp/tfx-interactive-2019-09-13T16_46_14.222336-5zedre0a/ModelValidator/blessing/8/, split: , id: 13)]}\n"
     ]
    },
    {
     "name": "stdout",
     "output_type": "stream",
     "text": [
      "INFO:tensorflow:Prepared EXECUTION:\n",
      " type_id: 19\n",
      "properties {\n",
      "  key: \"component_id\"\n",
      "  value {\n",
      "    string_value: \"Pusher\"\n",
      "  }\n",
      "}\n",
      "properties {\n",
      "  key: \"custom_config\"\n",
      "  value {\n",
      "    string_value: \"None\"\n",
      "  }\n",
      "}\n",
      "properties {\n",
      "  key: \"pipeline_name\"\n",
      "  value {\n",
      "    string_value: \"interactive-2019-09-13T16_46_14.222336\"\n",
      "  }\n",
      "}\n",
      "properties {\n",
      "  key: \"pipeline_root\"\n",
      "  value {\n",
      "    string_value: \"/tmp/tfx-interactive-2019-09-13T16_46_14.222336-5zedre0a\"\n",
      "  }\n",
      "}\n",
      "properties {\n",
      "  key: \"push_destination\"\n",
      "  value {\n",
      "    string_value: \"{\\n  \\\"filesystem\\\": {\\n    \\\"baseDirectory\\\": \\\"/tmp/tmp7thxyl6i/serving_model/taxi_simple\\\"\\n  }\\n}\"\n",
      "  }\n",
      "}\n",
      "properties {\n",
      "  key: \"run_id\"\n",
      "  value {\n",
      "    string_value: \"2019-09-13T16:47:21.651273\"\n",
      "  }\n",
      "}\n",
      "properties {\n",
      "  key: \"state\"\n",
      "  value {\n",
      "    string_value: \"new\"\n",
      "  }\n",
      "}\n",
      "\n"
     ]
    },
    {
     "name": "stderr",
     "output_type": "stream",
     "text": [
      "INFO:tensorflow:Prepared EXECUTION:\n",
      " type_id: 19\n",
      "properties {\n",
      "  key: \"component_id\"\n",
      "  value {\n",
      "    string_value: \"Pusher\"\n",
      "  }\n",
      "}\n",
      "properties {\n",
      "  key: \"custom_config\"\n",
      "  value {\n",
      "    string_value: \"None\"\n",
      "  }\n",
      "}\n",
      "properties {\n",
      "  key: \"pipeline_name\"\n",
      "  value {\n",
      "    string_value: \"interactive-2019-09-13T16_46_14.222336\"\n",
      "  }\n",
      "}\n",
      "properties {\n",
      "  key: \"pipeline_root\"\n",
      "  value {\n",
      "    string_value: \"/tmp/tfx-interactive-2019-09-13T16_46_14.222336-5zedre0a\"\n",
      "  }\n",
      "}\n",
      "properties {\n",
      "  key: \"push_destination\"\n",
      "  value {\n",
      "    string_value: \"{\\n  \\\"filesystem\\\": {\\n    \\\"baseDirectory\\\": \\\"/tmp/tmp7thxyl6i/serving_model/taxi_simple\\\"\\n  }\\n}\"\n",
      "  }\n",
      "}\n",
      "properties {\n",
      "  key: \"run_id\"\n",
      "  value {\n",
      "    string_value: \"2019-09-13T16:47:21.651273\"\n",
      "  }\n",
      "}\n",
      "properties {\n",
      "  key: \"state\"\n",
      "  value {\n",
      "    string_value: \"new\"\n",
      "  }\n",
      "}\n",
      "\n"
     ]
    },
    {
     "name": "stdout",
     "output_type": "stream",
     "text": [
      "INFO:tensorflow:Execution id of the upcoming component execution is 9\n"
     ]
    },
    {
     "name": "stderr",
     "output_type": "stream",
     "text": [
      "INFO:tensorflow:Execution id of the upcoming component execution is 9\n"
     ]
    },
    {
     "name": "stdout",
     "output_type": "stream",
     "text": [
      "INFO:tensorflow:Checking previous run for execution_type_name tfx.components.pusher.component.Pusher and input_artifacts {'model_export': [Artifact(type_name: ModelExportPath, uri: /tmp/tfx-interactive-2019-09-13T16_46_14.222336-5zedre0a/Trainer/output/6/, split: , id: 11)], 'model_blessing': [Artifact(type_name: ModelBlessingPath, uri: /tmp/tfx-interactive-2019-09-13T16_46_14.222336-5zedre0a/ModelValidator/blessing/8/, split: , id: 13)]}\n"
     ]
    },
    {
     "name": "stderr",
     "output_type": "stream",
     "text": [
      "INFO:tensorflow:Checking previous run for execution_type_name tfx.components.pusher.component.Pusher and input_artifacts {'model_export': [Artifact(type_name: ModelExportPath, uri: /tmp/tfx-interactive-2019-09-13T16_46_14.222336-5zedre0a/Trainer/output/6/, split: , id: 11)], 'model_blessing': [Artifact(type_name: ModelBlessingPath, uri: /tmp/tfx-interactive-2019-09-13T16_46_14.222336-5zedre0a/ModelValidator/blessing/8/, split: , id: 13)]}\n"
     ]
    },
    {
     "name": "stdout",
     "output_type": "stream",
     "text": [
      "INFO:tensorflow:Prepared EXECUTION:\n",
      " type_id: 19\n",
      "properties {\n",
      "  key: \"component_id\"\n",
      "  value {\n",
      "    string_value: \"Pusher\"\n",
      "  }\n",
      "}\n",
      "properties {\n",
      "  key: \"custom_config\"\n",
      "  value {\n",
      "    string_value: \"None\"\n",
      "  }\n",
      "}\n",
      "properties {\n",
      "  key: \"pipeline_name\"\n",
      "  value {\n",
      "    string_value: \"interactive-2019-09-13T16_46_14.222336\"\n",
      "  }\n",
      "}\n",
      "properties {\n",
      "  key: \"pipeline_root\"\n",
      "  value {\n",
      "    string_value: \"/tmp/tfx-interactive-2019-09-13T16_46_14.222336-5zedre0a\"\n",
      "  }\n",
      "}\n",
      "properties {\n",
      "  key: \"push_destination\"\n",
      "  value {\n",
      "    string_value: \"{\\n  \\\"filesystem\\\": {\\n    \\\"baseDirectory\\\": \\\"/tmp/tmp7thxyl6i/serving_model/taxi_simple\\\"\\n  }\\n}\"\n",
      "  }\n",
      "}\n",
      "properties {\n",
      "  key: \"run_id\"\n",
      "  value {\n",
      "    string_value: \"2019-09-13T16:47:21.651273\"\n",
      "  }\n",
      "}\n",
      "properties {\n",
      "  key: \"state\"\n",
      "  value {\n",
      "    string_value: \"complete\"\n",
      "  }\n",
      "}\n",
      "\n"
     ]
    },
    {
     "name": "stderr",
     "output_type": "stream",
     "text": [
      "INFO:tensorflow:Prepared EXECUTION:\n",
      " type_id: 19\n",
      "properties {\n",
      "  key: \"component_id\"\n",
      "  value {\n",
      "    string_value: \"Pusher\"\n",
      "  }\n",
      "}\n",
      "properties {\n",
      "  key: \"custom_config\"\n",
      "  value {\n",
      "    string_value: \"None\"\n",
      "  }\n",
      "}\n",
      "properties {\n",
      "  key: \"pipeline_name\"\n",
      "  value {\n",
      "    string_value: \"interactive-2019-09-13T16_46_14.222336\"\n",
      "  }\n",
      "}\n",
      "properties {\n",
      "  key: \"pipeline_root\"\n",
      "  value {\n",
      "    string_value: \"/tmp/tfx-interactive-2019-09-13T16_46_14.222336-5zedre0a\"\n",
      "  }\n",
      "}\n",
      "properties {\n",
      "  key: \"push_destination\"\n",
      "  value {\n",
      "    string_value: \"{\\n  \\\"filesystem\\\": {\\n    \\\"baseDirectory\\\": \\\"/tmp/tmp7thxyl6i/serving_model/taxi_simple\\\"\\n  }\\n}\"\n",
      "  }\n",
      "}\n",
      "properties {\n",
      "  key: \"run_id\"\n",
      "  value {\n",
      "    string_value: \"2019-09-13T16:47:21.651273\"\n",
      "  }\n",
      "}\n",
      "properties {\n",
      "  key: \"state\"\n",
      "  value {\n",
      "    string_value: \"complete\"\n",
      "  }\n",
      "}\n",
      "\n"
     ]
    },
    {
     "name": "stdout",
     "output_type": "stream",
     "text": [
      "INFO:tensorflow:No execution matching type id and input artifacts found\n"
     ]
    },
    {
     "name": "stderr",
     "output_type": "stream",
     "text": [
      "INFO:tensorflow:No execution matching type id and input artifacts found\n"
     ]
    },
    {
     "name": "stdout",
     "output_type": "stream",
     "text": [
      "INFO:tensorflow:Cached results not found, move on to new execution\n"
     ]
    },
    {
     "name": "stderr",
     "output_type": "stream",
     "text": [
      "INFO:tensorflow:Cached results not found, move on to new execution\n"
     ]
    },
    {
     "name": "stdout",
     "output_type": "stream",
     "text": [
      "INFO:tensorflow:Creating output artifact uri /tmp/tfx-interactive-2019-09-13T16_46_14.222336-5zedre0a/Pusher/model_push/9/ as directory\n"
     ]
    },
    {
     "name": "stderr",
     "output_type": "stream",
     "text": [
      "INFO:tensorflow:Creating output artifact uri /tmp/tfx-interactive-2019-09-13T16_46_14.222336-5zedre0a/Pusher/model_push/9/ as directory\n"
     ]
    },
    {
     "name": "stdout",
     "output_type": "stream",
     "text": [
      "INFO:tensorflow:Output artifacts skeleton for the upcoming execution are: {'model_push': [Artifact(type_name: ModelPushPath, uri: /tmp/tfx-interactive-2019-09-13T16_46_14.222336-5zedre0a/Pusher/model_push/9/, split: , id: 0)]}\n"
     ]
    },
    {
     "name": "stderr",
     "output_type": "stream",
     "text": [
      "INFO:tensorflow:Output artifacts skeleton for the upcoming execution are: {'model_push': [Artifact(type_name: ModelPushPath, uri: /tmp/tfx-interactive-2019-09-13T16_46_14.222336-5zedre0a/Pusher/model_push/9/, split: , id: 0)]}\n"
     ]
    },
    {
     "name": "stdout",
     "output_type": "stream",
     "text": [
      "INFO:tensorflow:Execution properties for the upcoming execution are: {'push_destination': '{\\n  \"filesystem\": {\\n    \"baseDirectory\": \"/tmp/tmp7thxyl6i/serving_model/taxi_simple\"\\n  }\\n}', 'custom_config': None}\n"
     ]
    },
    {
     "name": "stderr",
     "output_type": "stream",
     "text": [
      "INFO:tensorflow:Execution properties for the upcoming execution are: {'push_destination': '{\\n  \"filesystem\": {\\n    \"baseDirectory\": \"/tmp/tmp7thxyl6i/serving_model/taxi_simple\"\\n  }\\n}', 'custom_config': None}\n"
     ]
    },
    {
     "name": "stdout",
     "output_type": "stream",
     "text": [
      "INFO:tensorflow:Run executor for Pusher\n"
     ]
    },
    {
     "name": "stderr",
     "output_type": "stream",
     "text": [
      "INFO:tensorflow:Run executor for Pusher\n"
     ]
    },
    {
     "name": "stdout",
     "output_type": "stream",
     "text": [
      "INFO:tensorflow:Starting Executor execution.\n"
     ]
    },
    {
     "name": "stderr",
     "output_type": "stream",
     "text": [
      "INFO:tensorflow:Starting Executor execution.\n"
     ]
    },
    {
     "name": "stdout",
     "output_type": "stream",
     "text": [
      "INFO:tensorflow:Inputs for Executor is: {\"model_export\": [{\"artifact\": {\"id\": \"11\", \"typeId\": \"14\", \"uri\": \"/tmp/tfx-interactive-2019-09-13T16_46_14.222336-5zedre0a/Trainer/output/6/\", \"properties\": {\"split\": {\"stringValue\": \"\"}, \"name\": {\"stringValue\": \"output\"}, \"type_name\": {\"stringValue\": \"ModelExportPath\"}, \"state\": {\"stringValue\": \"published\"}, \"span\": {}, \"pipeline_name\": {\"stringValue\": \"interactive-2019-09-13T16_46_14.222336\"}, \"producer_component\": {\"stringValue\": \"Trainer\"}}}, \"artifact_type\": {\"id\": \"14\", \"name\": \"ModelExportPath\", \"properties\": {\"producer_component\": \"STRING\", \"span\": \"INT\", \"pipeline_name\": \"STRING\", \"split\": \"STRING\", \"name\": \"STRING\", \"type_name\": \"STRING\", \"state\": \"STRING\"}}}], \"model_blessing\": [{\"artifact\": {\"id\": \"13\", \"typeId\": \"18\", \"uri\": \"/tmp/tfx-interactive-2019-09-13T16_46_14.222336-5zedre0a/ModelValidator/blessing/8/\", \"properties\": {\"span\": {}, \"pipeline_name\": {\"stringValue\": \"interactive-2019-09-13T16_46_14.222336\"}, \"producer_component\": {\"stringValue\": \"ModelValidator\"}, \"split\": {\"stringValue\": \"\"}, \"name\": {\"stringValue\": \"blessing\"}, \"type_name\": {\"stringValue\": \"ModelBlessingPath\"}, \"state\": {\"stringValue\": \"published\"}}, \"customProperties\": {\"current_model_id\": {\"intValue\": \"11\"}, \"blessed\": {\"intValue\": \"1\"}, \"component_id\": {\"stringValue\": \"ModelValidator\"}, \"current_model\": {\"stringValue\": \"/tmp/tfx-interactive-2019-09-13T16_46_14.222336-5zedre0a/Trainer/output/6/\"}}}, \"artifact_type\": {\"id\": \"18\", \"name\": \"ModelBlessingPath\", \"properties\": {\"name\": \"STRING\", \"type_name\": \"STRING\", \"state\": \"STRING\", \"producer_component\": \"STRING\", \"span\": \"INT\", \"pipeline_name\": \"STRING\", \"split\": \"STRING\"}}}]}\n"
     ]
    },
    {
     "name": "stderr",
     "output_type": "stream",
     "text": [
      "INFO:tensorflow:Inputs for Executor is: {\"model_export\": [{\"artifact\": {\"id\": \"11\", \"typeId\": \"14\", \"uri\": \"/tmp/tfx-interactive-2019-09-13T16_46_14.222336-5zedre0a/Trainer/output/6/\", \"properties\": {\"split\": {\"stringValue\": \"\"}, \"name\": {\"stringValue\": \"output\"}, \"type_name\": {\"stringValue\": \"ModelExportPath\"}, \"state\": {\"stringValue\": \"published\"}, \"span\": {}, \"pipeline_name\": {\"stringValue\": \"interactive-2019-09-13T16_46_14.222336\"}, \"producer_component\": {\"stringValue\": \"Trainer\"}}}, \"artifact_type\": {\"id\": \"14\", \"name\": \"ModelExportPath\", \"properties\": {\"producer_component\": \"STRING\", \"span\": \"INT\", \"pipeline_name\": \"STRING\", \"split\": \"STRING\", \"name\": \"STRING\", \"type_name\": \"STRING\", \"state\": \"STRING\"}}}], \"model_blessing\": [{\"artifact\": {\"id\": \"13\", \"typeId\": \"18\", \"uri\": \"/tmp/tfx-interactive-2019-09-13T16_46_14.222336-5zedre0a/ModelValidator/blessing/8/\", \"properties\": {\"span\": {}, \"pipeline_name\": {\"stringValue\": \"interactive-2019-09-13T16_46_14.222336\"}, \"producer_component\": {\"stringValue\": \"ModelValidator\"}, \"split\": {\"stringValue\": \"\"}, \"name\": {\"stringValue\": \"blessing\"}, \"type_name\": {\"stringValue\": \"ModelBlessingPath\"}, \"state\": {\"stringValue\": \"published\"}}, \"customProperties\": {\"current_model_id\": {\"intValue\": \"11\"}, \"blessed\": {\"intValue\": \"1\"}, \"component_id\": {\"stringValue\": \"ModelValidator\"}, \"current_model\": {\"stringValue\": \"/tmp/tfx-interactive-2019-09-13T16_46_14.222336-5zedre0a/Trainer/output/6/\"}}}, \"artifact_type\": {\"id\": \"18\", \"name\": \"ModelBlessingPath\", \"properties\": {\"name\": \"STRING\", \"type_name\": \"STRING\", \"state\": \"STRING\", \"producer_component\": \"STRING\", \"span\": \"INT\", \"pipeline_name\": \"STRING\", \"split\": \"STRING\"}}}]}\n"
     ]
    },
    {
     "name": "stdout",
     "output_type": "stream",
     "text": [
      "INFO:tensorflow:Outputs for Executor is: {\"model_push\": [{\"artifact\": {\"uri\": \"/tmp/tfx-interactive-2019-09-13T16_46_14.222336-5zedre0a/Pusher/model_push/9/\", \"properties\": {\"name\": {\"stringValue\": \"model_push\"}, \"type_name\": {\"stringValue\": \"ModelPushPath\"}, \"split\": {\"stringValue\": \"\"}, \"producer_component\": {\"stringValue\": \"Pusher\"}, \"pipeline_name\": {\"stringValue\": \"interactive-2019-09-13T16_46_14.222336\"}}}, \"artifact_type\": {\"name\": \"ModelPushPath\", \"properties\": {\"name\": \"STRING\", \"type_name\": \"STRING\", \"state\": \"STRING\", \"producer_component\": \"STRING\", \"span\": \"INT\", \"pipeline_name\": \"STRING\", \"split\": \"STRING\"}}}]}\n"
     ]
    },
    {
     "name": "stderr",
     "output_type": "stream",
     "text": [
      "INFO:tensorflow:Outputs for Executor is: {\"model_push\": [{\"artifact\": {\"uri\": \"/tmp/tfx-interactive-2019-09-13T16_46_14.222336-5zedre0a/Pusher/model_push/9/\", \"properties\": {\"name\": {\"stringValue\": \"model_push\"}, \"type_name\": {\"stringValue\": \"ModelPushPath\"}, \"split\": {\"stringValue\": \"\"}, \"producer_component\": {\"stringValue\": \"Pusher\"}, \"pipeline_name\": {\"stringValue\": \"interactive-2019-09-13T16_46_14.222336\"}}}, \"artifact_type\": {\"name\": \"ModelPushPath\", \"properties\": {\"name\": \"STRING\", \"type_name\": \"STRING\", \"state\": \"STRING\", \"producer_component\": \"STRING\", \"span\": \"INT\", \"pipeline_name\": \"STRING\", \"split\": \"STRING\"}}}]}\n"
     ]
    },
    {
     "name": "stdout",
     "output_type": "stream",
     "text": [
      "INFO:tensorflow:Execution properties for Executor is: {\"push_destination\": \"{\\n  \\\"filesystem\\\": {\\n    \\\"baseDirectory\\\": \\\"/tmp/tmp7thxyl6i/serving_model/taxi_simple\\\"\\n  }\\n}\", \"custom_config\": null}\n"
     ]
    },
    {
     "name": "stderr",
     "output_type": "stream",
     "text": [
      "INFO:tensorflow:Execution properties for Executor is: {\"push_destination\": \"{\\n  \\\"filesystem\\\": {\\n    \\\"baseDirectory\\\": \\\"/tmp/tmp7thxyl6i/serving_model/taxi_simple\\\"\\n  }\\n}\", \"custom_config\": null}\n"
     ]
    },
    {
     "name": "stdout",
     "output_type": "stream",
     "text": [
      "INFO:tensorflow:Model pushing.\n"
     ]
    },
    {
     "name": "stderr",
     "output_type": "stream",
     "text": [
      "INFO:tensorflow:Model pushing.\n"
     ]
    },
    {
     "name": "stdout",
     "output_type": "stream",
     "text": [
      "INFO:tensorflow:Model version is 1568418424\n"
     ]
    },
    {
     "name": "stderr",
     "output_type": "stream",
     "text": [
      "INFO:tensorflow:Model version is 1568418424\n"
     ]
    },
    {
     "name": "stdout",
     "output_type": "stream",
     "text": [
      "INFO:tensorflow:Model written to /tmp/tfx-interactive-2019-09-13T16_46_14.222336-5zedre0a/Pusher/model_push/9/.\n"
     ]
    },
    {
     "name": "stderr",
     "output_type": "stream",
     "text": [
      "INFO:tensorflow:Model written to /tmp/tfx-interactive-2019-09-13T16_46_14.222336-5zedre0a/Pusher/model_push/9/.\n"
     ]
    },
    {
     "name": "stdout",
     "output_type": "stream",
     "text": [
      "INFO:tensorflow:Model written to serving path /tmp/tmp7thxyl6i/serving_model/taxi_simple/1568418424.\n"
     ]
    },
    {
     "name": "stderr",
     "output_type": "stream",
     "text": [
      "INFO:tensorflow:Model written to serving path /tmp/tmp7thxyl6i/serving_model/taxi_simple/1568418424.\n"
     ]
    },
    {
     "name": "stdout",
     "output_type": "stream",
     "text": [
      "INFO:tensorflow:Model pushed to /tmp/tmp7thxyl6i/serving_model/taxi_simple/1568418424.\n"
     ]
    },
    {
     "name": "stderr",
     "output_type": "stream",
     "text": [
      "INFO:tensorflow:Model pushed to /tmp/tmp7thxyl6i/serving_model/taxi_simple/1568418424.\n"
     ]
    },
    {
     "name": "stdout",
     "output_type": "stream",
     "text": [
      "INFO:tensorflow:Run publisher for Pusher\n"
     ]
    },
    {
     "name": "stderr",
     "output_type": "stream",
     "text": [
      "INFO:tensorflow:Run publisher for Pusher\n"
     ]
    },
    {
     "name": "stdout",
     "output_type": "stream",
     "text": [
      "INFO:tensorflow:Whether cached results are used: False\n"
     ]
    },
    {
     "name": "stderr",
     "output_type": "stream",
     "text": [
      "INFO:tensorflow:Whether cached results are used: False\n"
     ]
    },
    {
     "name": "stdout",
     "output_type": "stream",
     "text": [
      "INFO:tensorflow:Execution id: 9\n"
     ]
    },
    {
     "name": "stderr",
     "output_type": "stream",
     "text": [
      "INFO:tensorflow:Execution id: 9\n"
     ]
    },
    {
     "name": "stdout",
     "output_type": "stream",
     "text": [
      "INFO:tensorflow:Inputs: {'model_export': [Artifact(type_name: ModelExportPath, uri: /tmp/tfx-interactive-2019-09-13T16_46_14.222336-5zedre0a/Trainer/output/6/, split: , id: 11)], 'model_blessing': [Artifact(type_name: ModelBlessingPath, uri: /tmp/tfx-interactive-2019-09-13T16_46_14.222336-5zedre0a/ModelValidator/blessing/8/, split: , id: 13)]}\n"
     ]
    },
    {
     "name": "stderr",
     "output_type": "stream",
     "text": [
      "INFO:tensorflow:Inputs: {'model_export': [Artifact(type_name: ModelExportPath, uri: /tmp/tfx-interactive-2019-09-13T16_46_14.222336-5zedre0a/Trainer/output/6/, split: , id: 11)], 'model_blessing': [Artifact(type_name: ModelBlessingPath, uri: /tmp/tfx-interactive-2019-09-13T16_46_14.222336-5zedre0a/ModelValidator/blessing/8/, split: , id: 13)]}\n"
     ]
    },
    {
     "name": "stdout",
     "output_type": "stream",
     "text": [
      "INFO:tensorflow:Outputs: {'model_push': [Artifact(type_name: ModelPushPath, uri: /tmp/tfx-interactive-2019-09-13T16_46_14.222336-5zedre0a/Pusher/model_push/9/, split: , id: 0)]}\n"
     ]
    },
    {
     "name": "stderr",
     "output_type": "stream",
     "text": [
      "INFO:tensorflow:Outputs: {'model_push': [Artifact(type_name: ModelPushPath, uri: /tmp/tfx-interactive-2019-09-13T16_46_14.222336-5zedre0a/Pusher/model_push/9/, split: , id: 0)]}\n"
     ]
    },
    {
     "name": "stdout",
     "output_type": "stream",
     "text": [
      "INFO:tensorflow:Publishing execution id: 9\n",
      "type_id: 19\n",
      "properties {\n",
      "  key: \"component_id\"\n",
      "  value {\n",
      "    string_value: \"Pusher\"\n",
      "  }\n",
      "}\n",
      "properties {\n",
      "  key: \"custom_config\"\n",
      "  value {\n",
      "    string_value: \"None\"\n",
      "  }\n",
      "}\n",
      "properties {\n",
      "  key: \"pipeline_name\"\n",
      "  value {\n",
      "    string_value: \"interactive-2019-09-13T16_46_14.222336\"\n",
      "  }\n",
      "}\n",
      "properties {\n",
      "  key: \"pipeline_root\"\n",
      "  value {\n",
      "    string_value: \"/tmp/tfx-interactive-2019-09-13T16_46_14.222336-5zedre0a\"\n",
      "  }\n",
      "}\n",
      "properties {\n",
      "  key: \"push_destination\"\n",
      "  value {\n",
      "    string_value: \"{\\n  \\\"filesystem\\\": {\\n    \\\"baseDirectory\\\": \\\"/tmp/tmp7thxyl6i/serving_model/taxi_simple\\\"\\n  }\\n}\"\n",
      "  }\n",
      "}\n",
      "properties {\n",
      "  key: \"run_id\"\n",
      "  value {\n",
      "    string_value: \"2019-09-13T16:47:21.651273\"\n",
      "  }\n",
      "}\n",
      "properties {\n",
      "  key: \"state\"\n",
      "  value {\n",
      "    string_value: \"complete\"\n",
      "  }\n",
      "}\n",
      ", with inputs {'model_export': [Artifact(type_name: ModelExportPath, uri: /tmp/tfx-interactive-2019-09-13T16_46_14.222336-5zedre0a/Trainer/output/6/, split: , id: 11)], 'model_blessing': [Artifact(type_name: ModelBlessingPath, uri: /tmp/tfx-interactive-2019-09-13T16_46_14.222336-5zedre0a/ModelValidator/blessing/8/, split: , id: 13)]} and outputs {'model_push': [Artifact(type_name: ModelPushPath, uri: /tmp/tfx-interactive-2019-09-13T16_46_14.222336-5zedre0a/Pusher/model_push/9/, split: , id: 0)]}\n"
     ]
    },
    {
     "name": "stderr",
     "output_type": "stream",
     "text": [
      "INFO:tensorflow:Publishing execution id: 9\n",
      "type_id: 19\n",
      "properties {\n",
      "  key: \"component_id\"\n",
      "  value {\n",
      "    string_value: \"Pusher\"\n",
      "  }\n",
      "}\n",
      "properties {\n",
      "  key: \"custom_config\"\n",
      "  value {\n",
      "    string_value: \"None\"\n",
      "  }\n",
      "}\n",
      "properties {\n",
      "  key: \"pipeline_name\"\n",
      "  value {\n",
      "    string_value: \"interactive-2019-09-13T16_46_14.222336\"\n",
      "  }\n",
      "}\n",
      "properties {\n",
      "  key: \"pipeline_root\"\n",
      "  value {\n",
      "    string_value: \"/tmp/tfx-interactive-2019-09-13T16_46_14.222336-5zedre0a\"\n",
      "  }\n",
      "}\n",
      "properties {\n",
      "  key: \"push_destination\"\n",
      "  value {\n",
      "    string_value: \"{\\n  \\\"filesystem\\\": {\\n    \\\"baseDirectory\\\": \\\"/tmp/tmp7thxyl6i/serving_model/taxi_simple\\\"\\n  }\\n}\"\n",
      "  }\n",
      "}\n",
      "properties {\n",
      "  key: \"run_id\"\n",
      "  value {\n",
      "    string_value: \"2019-09-13T16:47:21.651273\"\n",
      "  }\n",
      "}\n",
      "properties {\n",
      "  key: \"state\"\n",
      "  value {\n",
      "    string_value: \"complete\"\n",
      "  }\n",
      "}\n",
      ", with inputs {'model_export': [Artifact(type_name: ModelExportPath, uri: /tmp/tfx-interactive-2019-09-13T16_46_14.222336-5zedre0a/Trainer/output/6/, split: , id: 11)], 'model_blessing': [Artifact(type_name: ModelBlessingPath, uri: /tmp/tfx-interactive-2019-09-13T16_46_14.222336-5zedre0a/ModelValidator/blessing/8/, split: , id: 13)]} and outputs {'model_push': [Artifact(type_name: ModelPushPath, uri: /tmp/tfx-interactive-2019-09-13T16_46_14.222336-5zedre0a/Pusher/model_push/9/, split: , id: 0)]}\n"
     ]
    },
    {
     "name": "stdout",
     "output_type": "stream",
     "text": [
      "INFO:tensorflow:Published execution with final outputs {'model_push': [Artifact(type_name: ModelPushPath, uri: /tmp/tfx-interactive-2019-09-13T16_46_14.222336-5zedre0a/Pusher/model_push/9/, split: , id: 14)]}\n"
     ]
    },
    {
     "name": "stderr",
     "output_type": "stream",
     "text": [
      "INFO:tensorflow:Published execution with final outputs {'model_push': [Artifact(type_name: ModelPushPath, uri: /tmp/tfx-interactive-2019-09-13T16_46_14.222336-5zedre0a/Pusher/model_push/9/, split: , id: 14)]}\n"
     ]
    },
    {
     "data": {
      "text/html": [
       "<style>\n",
       ".tfx-object.expanded {\n",
       "  padding: 4px 8px 4px 8px;\n",
       "  background: white;\n",
       "  border: 1px solid #bbbbbb;\n",
       "  box-shadow: 4px 4px 2px rgba(0,0,0,0.05);\n",
       "}\n",
       ".tfx-object, .tfx-object * {\n",
       "  font-size: 11pt;\n",
       "}\n",
       ".tfx-object > .title {\n",
       "  cursor: pointer;\n",
       "}\n",
       ".tfx-object .expansion-marker {\n",
       "  color: #999999;\n",
       "}\n",
       ".tfx-object.expanded > .title > .expansion-marker:before {\n",
       "  content: '▼';\n",
       "}\n",
       ".tfx-object.collapsed > .title > .expansion-marker:before {\n",
       "  content: '▶';\n",
       "}\n",
       ".tfx-object .class-name {\n",
       "  font-weight: bold;\n",
       "}\n",
       ".tfx-object .deemphasize {\n",
       "  opacity: 0.5;\n",
       "}\n",
       ".tfx-object.collapsed > table.attr-table {\n",
       "  display: none;\n",
       "}\n",
       ".tfx-object.expanded > table.attr-table {\n",
       "  display: block;\n",
       "}\n",
       ".tfx-object table.attr-table {\n",
       "  border: 2px solid white;\n",
       "  margin-top: 5px;\n",
       "}\n",
       ".tfx-object table.attr-table td.attr-name {\n",
       "  vertical-align: top;\n",
       "  font-weight: bold;\n",
       "}\n",
       ".tfx-object table.attr-table td.attrvalue {\n",
       "  text-align: left;\n",
       "}\n",
       "</style>\n",
       "<script>\n",
       "function toggleTfxObject(element) {\n",
       "  var objElement = element.parentElement;\n",
       "  if (objElement.classList.contains('collapsed')) {\n",
       "    objElement.classList.remove('collapsed');\n",
       "    objElement.classList.add('expanded');\n",
       "  } else {\n",
       "    objElement.classList.add('collapsed');\n",
       "    objElement.classList.remove('expanded');\n",
       "  }\n",
       "}\n",
       "</script>\n",
       "<div class=\"tfx-object expanded\"><div class = \"title\" onclick=\"toggleTfxObject(this)\"><span class=\"expansion-marker\"></span><span class=\"class-name\">ExecutionResult</span><span class=\"deemphasize\"> at 0x7faa4c5566a0</span></div><table class=\"attr-table\"><tr><td class=\"attr-name\">.execution_id</td><td class = \"attrvalue\">9</td></tr><tr><td class=\"attr-name\">.component</td><td class = \"attrvalue\"><style>\n",
       ".tfx-object.expanded {\n",
       "  padding: 4px 8px 4px 8px;\n",
       "  background: white;\n",
       "  border: 1px solid #bbbbbb;\n",
       "  box-shadow: 4px 4px 2px rgba(0,0,0,0.05);\n",
       "}\n",
       ".tfx-object, .tfx-object * {\n",
       "  font-size: 11pt;\n",
       "}\n",
       ".tfx-object > .title {\n",
       "  cursor: pointer;\n",
       "}\n",
       ".tfx-object .expansion-marker {\n",
       "  color: #999999;\n",
       "}\n",
       ".tfx-object.expanded > .title > .expansion-marker:before {\n",
       "  content: '▼';\n",
       "}\n",
       ".tfx-object.collapsed > .title > .expansion-marker:before {\n",
       "  content: '▶';\n",
       "}\n",
       ".tfx-object .class-name {\n",
       "  font-weight: bold;\n",
       "}\n",
       ".tfx-object .deemphasize {\n",
       "  opacity: 0.5;\n",
       "}\n",
       ".tfx-object.collapsed > table.attr-table {\n",
       "  display: none;\n",
       "}\n",
       ".tfx-object.expanded > table.attr-table {\n",
       "  display: block;\n",
       "}\n",
       ".tfx-object table.attr-table {\n",
       "  border: 2px solid white;\n",
       "  margin-top: 5px;\n",
       "}\n",
       ".tfx-object table.attr-table td.attr-name {\n",
       "  vertical-align: top;\n",
       "  font-weight: bold;\n",
       "}\n",
       ".tfx-object table.attr-table td.attrvalue {\n",
       "  text-align: left;\n",
       "}\n",
       "</style>\n",
       "<script>\n",
       "function toggleTfxObject(element) {\n",
       "  var objElement = element.parentElement;\n",
       "  if (objElement.classList.contains('collapsed')) {\n",
       "    objElement.classList.remove('collapsed');\n",
       "    objElement.classList.add('expanded');\n",
       "  } else {\n",
       "    objElement.classList.add('collapsed');\n",
       "    objElement.classList.remove('expanded');\n",
       "  }\n",
       "}\n",
       "</script>\n",
       "<div class=\"tfx-object collapsed\"><div class = \"title\" onclick=\"toggleTfxObject(this)\"><span class=\"expansion-marker\"></span><span class=\"class-name\">Pusher</span><span class=\"deemphasize\"> at 0x7faa4c5563c8</span></div><table class=\"attr-table\"><tr><td class=\"attr-name\">.inputs</td><td class = \"attrvalue\"><table class=\"attr-table\"><tr><td class=\"attr-name\">['model_export']</td><td class = \"attrvalue\"><style>\n",
       ".tfx-object.expanded {\n",
       "  padding: 4px 8px 4px 8px;\n",
       "  background: white;\n",
       "  border: 1px solid #bbbbbb;\n",
       "  box-shadow: 4px 4px 2px rgba(0,0,0,0.05);\n",
       "}\n",
       ".tfx-object, .tfx-object * {\n",
       "  font-size: 11pt;\n",
       "}\n",
       ".tfx-object > .title {\n",
       "  cursor: pointer;\n",
       "}\n",
       ".tfx-object .expansion-marker {\n",
       "  color: #999999;\n",
       "}\n",
       ".tfx-object.expanded > .title > .expansion-marker:before {\n",
       "  content: '▼';\n",
       "}\n",
       ".tfx-object.collapsed > .title > .expansion-marker:before {\n",
       "  content: '▶';\n",
       "}\n",
       ".tfx-object .class-name {\n",
       "  font-weight: bold;\n",
       "}\n",
       ".tfx-object .deemphasize {\n",
       "  opacity: 0.5;\n",
       "}\n",
       ".tfx-object.collapsed > table.attr-table {\n",
       "  display: none;\n",
       "}\n",
       ".tfx-object.expanded > table.attr-table {\n",
       "  display: block;\n",
       "}\n",
       ".tfx-object table.attr-table {\n",
       "  border: 2px solid white;\n",
       "  margin-top: 5px;\n",
       "}\n",
       ".tfx-object table.attr-table td.attr-name {\n",
       "  vertical-align: top;\n",
       "  font-weight: bold;\n",
       "}\n",
       ".tfx-object table.attr-table td.attrvalue {\n",
       "  text-align: left;\n",
       "}\n",
       "</style>\n",
       "<script>\n",
       "function toggleTfxObject(element) {\n",
       "  var objElement = element.parentElement;\n",
       "  if (objElement.classList.contains('collapsed')) {\n",
       "    objElement.classList.remove('collapsed');\n",
       "    objElement.classList.add('expanded');\n",
       "  } else {\n",
       "    objElement.classList.add('collapsed');\n",
       "    objElement.classList.remove('expanded');\n",
       "  }\n",
       "}\n",
       "</script>\n",
       "<div class=\"tfx-object collapsed\"><div class = \"title\" onclick=\"toggleTfxObject(this)\"><span class=\"expansion-marker\"></span><span class=\"class-name\">Channel</span> of type <span class=\"class-name\">'ModelExportPath'</span> (1 artifact)<span class=\"deemphasize\"> at 0x7face15a15c0</span></div><table class=\"attr-table\"><tr><td class=\"attr-name\">.type_name</td><td class = \"attrvalue\">ModelExportPath</td></tr><tr><td class=\"attr-name\">._artifacts</td><td class = \"attrvalue\"><table class=\"attr-table\"><tr><td class=\"attr-name\">[0]</td><td class = \"attrvalue\"><style>\n",
       ".tfx-object.expanded {\n",
       "  padding: 4px 8px 4px 8px;\n",
       "  background: white;\n",
       "  border: 1px solid #bbbbbb;\n",
       "  box-shadow: 4px 4px 2px rgba(0,0,0,0.05);\n",
       "}\n",
       ".tfx-object, .tfx-object * {\n",
       "  font-size: 11pt;\n",
       "}\n",
       ".tfx-object > .title {\n",
       "  cursor: pointer;\n",
       "}\n",
       ".tfx-object .expansion-marker {\n",
       "  color: #999999;\n",
       "}\n",
       ".tfx-object.expanded > .title > .expansion-marker:before {\n",
       "  content: '▼';\n",
       "}\n",
       ".tfx-object.collapsed > .title > .expansion-marker:before {\n",
       "  content: '▶';\n",
       "}\n",
       ".tfx-object .class-name {\n",
       "  font-weight: bold;\n",
       "}\n",
       ".tfx-object .deemphasize {\n",
       "  opacity: 0.5;\n",
       "}\n",
       ".tfx-object.collapsed > table.attr-table {\n",
       "  display: none;\n",
       "}\n",
       ".tfx-object.expanded > table.attr-table {\n",
       "  display: block;\n",
       "}\n",
       ".tfx-object table.attr-table {\n",
       "  border: 2px solid white;\n",
       "  margin-top: 5px;\n",
       "}\n",
       ".tfx-object table.attr-table td.attr-name {\n",
       "  vertical-align: top;\n",
       "  font-weight: bold;\n",
       "}\n",
       ".tfx-object table.attr-table td.attrvalue {\n",
       "  text-align: left;\n",
       "}\n",
       "</style>\n",
       "<script>\n",
       "function toggleTfxObject(element) {\n",
       "  var objElement = element.parentElement;\n",
       "  if (objElement.classList.contains('collapsed')) {\n",
       "    objElement.classList.remove('collapsed');\n",
       "    objElement.classList.add('expanded');\n",
       "  } else {\n",
       "    objElement.classList.add('collapsed');\n",
       "    objElement.classList.remove('expanded');\n",
       "  }\n",
       "}\n",
       "</script>\n",
       "<div class=\"tfx-object collapsed\"><div class = \"title\" onclick=\"toggleTfxObject(this)\"><span class=\"expansion-marker\"></span><span class=\"class-name\">Artifact</span> of type <span class=\"class-name\">'ModelExportPath'</span> (uri: /tmp/tfx-interactive-2019-09-13T16_46_14.222336-5zedre0a/Trainer/output/6/)<span class=\"deemphasize\"> at 0x7fac844948d0</span></div><table class=\"attr-table\"><tr><td class=\"attr-name\">.type_name</td><td class = \"attrvalue\">ModelExportPath</td></tr><tr><td class=\"attr-name\">.uri</td><td class = \"attrvalue\">/tmp/tfx-interactive-2019-09-13T16_46_14.222336-5zedre0a/Trainer/output/6/</td></tr><tr><td class=\"attr-name\">.span</td><td class = \"attrvalue\">0</td></tr><tr><td class=\"attr-name\">.split</td><td class = \"attrvalue\"></td></tr></table></div></td></tr></table></td></tr></table></div></td></tr><tr><td class=\"attr-name\">['model_blessing']</td><td class = \"attrvalue\"><style>\n",
       ".tfx-object.expanded {\n",
       "  padding: 4px 8px 4px 8px;\n",
       "  background: white;\n",
       "  border: 1px solid #bbbbbb;\n",
       "  box-shadow: 4px 4px 2px rgba(0,0,0,0.05);\n",
       "}\n",
       ".tfx-object, .tfx-object * {\n",
       "  font-size: 11pt;\n",
       "}\n",
       ".tfx-object > .title {\n",
       "  cursor: pointer;\n",
       "}\n",
       ".tfx-object .expansion-marker {\n",
       "  color: #999999;\n",
       "}\n",
       ".tfx-object.expanded > .title > .expansion-marker:before {\n",
       "  content: '▼';\n",
       "}\n",
       ".tfx-object.collapsed > .title > .expansion-marker:before {\n",
       "  content: '▶';\n",
       "}\n",
       ".tfx-object .class-name {\n",
       "  font-weight: bold;\n",
       "}\n",
       ".tfx-object .deemphasize {\n",
       "  opacity: 0.5;\n",
       "}\n",
       ".tfx-object.collapsed > table.attr-table {\n",
       "  display: none;\n",
       "}\n",
       ".tfx-object.expanded > table.attr-table {\n",
       "  display: block;\n",
       "}\n",
       ".tfx-object table.attr-table {\n",
       "  border: 2px solid white;\n",
       "  margin-top: 5px;\n",
       "}\n",
       ".tfx-object table.attr-table td.attr-name {\n",
       "  vertical-align: top;\n",
       "  font-weight: bold;\n",
       "}\n",
       ".tfx-object table.attr-table td.attrvalue {\n",
       "  text-align: left;\n",
       "}\n",
       "</style>\n",
       "<script>\n",
       "function toggleTfxObject(element) {\n",
       "  var objElement = element.parentElement;\n",
       "  if (objElement.classList.contains('collapsed')) {\n",
       "    objElement.classList.remove('collapsed');\n",
       "    objElement.classList.add('expanded');\n",
       "  } else {\n",
       "    objElement.classList.add('collapsed');\n",
       "    objElement.classList.remove('expanded');\n",
       "  }\n",
       "}\n",
       "</script>\n",
       "<div class=\"tfx-object collapsed\"><div class = \"title\" onclick=\"toggleTfxObject(this)\"><span class=\"expansion-marker\"></span><span class=\"class-name\">Channel</span> of type <span class=\"class-name\">'ModelBlessingPath'</span> (1 artifact)<span class=\"deemphasize\"> at 0x7faa4c412320</span></div><table class=\"attr-table\"><tr><td class=\"attr-name\">.type_name</td><td class = \"attrvalue\">ModelBlessingPath</td></tr><tr><td class=\"attr-name\">._artifacts</td><td class = \"attrvalue\"><table class=\"attr-table\"><tr><td class=\"attr-name\">[0]</td><td class = \"attrvalue\"><style>\n",
       ".tfx-object.expanded {\n",
       "  padding: 4px 8px 4px 8px;\n",
       "  background: white;\n",
       "  border: 1px solid #bbbbbb;\n",
       "  box-shadow: 4px 4px 2px rgba(0,0,0,0.05);\n",
       "}\n",
       ".tfx-object, .tfx-object * {\n",
       "  font-size: 11pt;\n",
       "}\n",
       ".tfx-object > .title {\n",
       "  cursor: pointer;\n",
       "}\n",
       ".tfx-object .expansion-marker {\n",
       "  color: #999999;\n",
       "}\n",
       ".tfx-object.expanded > .title > .expansion-marker:before {\n",
       "  content: '▼';\n",
       "}\n",
       ".tfx-object.collapsed > .title > .expansion-marker:before {\n",
       "  content: '▶';\n",
       "}\n",
       ".tfx-object .class-name {\n",
       "  font-weight: bold;\n",
       "}\n",
       ".tfx-object .deemphasize {\n",
       "  opacity: 0.5;\n",
       "}\n",
       ".tfx-object.collapsed > table.attr-table {\n",
       "  display: none;\n",
       "}\n",
       ".tfx-object.expanded > table.attr-table {\n",
       "  display: block;\n",
       "}\n",
       ".tfx-object table.attr-table {\n",
       "  border: 2px solid white;\n",
       "  margin-top: 5px;\n",
       "}\n",
       ".tfx-object table.attr-table td.attr-name {\n",
       "  vertical-align: top;\n",
       "  font-weight: bold;\n",
       "}\n",
       ".tfx-object table.attr-table td.attrvalue {\n",
       "  text-align: left;\n",
       "}\n",
       "</style>\n",
       "<script>\n",
       "function toggleTfxObject(element) {\n",
       "  var objElement = element.parentElement;\n",
       "  if (objElement.classList.contains('collapsed')) {\n",
       "    objElement.classList.remove('collapsed');\n",
       "    objElement.classList.add('expanded');\n",
       "  } else {\n",
       "    objElement.classList.add('collapsed');\n",
       "    objElement.classList.remove('expanded');\n",
       "  }\n",
       "}\n",
       "</script>\n",
       "<div class=\"tfx-object collapsed\"><div class = \"title\" onclick=\"toggleTfxObject(this)\"><span class=\"expansion-marker\"></span><span class=\"class-name\">Artifact</span> of type <span class=\"class-name\">'ModelBlessingPath'</span> (uri: /tmp/tfx-interactive-2019-09-13T16_46_14.222336-5zedre0a/ModelValidator/blessing/8/)<span class=\"deemphasize\"> at 0x7faa4c4124a8</span></div><table class=\"attr-table\"><tr><td class=\"attr-name\">.type_name</td><td class = \"attrvalue\">ModelBlessingPath</td></tr><tr><td class=\"attr-name\">.uri</td><td class = \"attrvalue\">/tmp/tfx-interactive-2019-09-13T16_46_14.222336-5zedre0a/ModelValidator/blessing/8/</td></tr><tr><td class=\"attr-name\">.span</td><td class = \"attrvalue\">0</td></tr><tr><td class=\"attr-name\">.split</td><td class = \"attrvalue\"></td></tr></table></div></td></tr></table></td></tr></table></div></td></tr></table></td></tr><tr><td class=\"attr-name\">.outputs</td><td class = \"attrvalue\"><table class=\"attr-table\"><tr><td class=\"attr-name\">['model_push']</td><td class = \"attrvalue\"><style>\n",
       ".tfx-object.expanded {\n",
       "  padding: 4px 8px 4px 8px;\n",
       "  background: white;\n",
       "  border: 1px solid #bbbbbb;\n",
       "  box-shadow: 4px 4px 2px rgba(0,0,0,0.05);\n",
       "}\n",
       ".tfx-object, .tfx-object * {\n",
       "  font-size: 11pt;\n",
       "}\n",
       ".tfx-object > .title {\n",
       "  cursor: pointer;\n",
       "}\n",
       ".tfx-object .expansion-marker {\n",
       "  color: #999999;\n",
       "}\n",
       ".tfx-object.expanded > .title > .expansion-marker:before {\n",
       "  content: '▼';\n",
       "}\n",
       ".tfx-object.collapsed > .title > .expansion-marker:before {\n",
       "  content: '▶';\n",
       "}\n",
       ".tfx-object .class-name {\n",
       "  font-weight: bold;\n",
       "}\n",
       ".tfx-object .deemphasize {\n",
       "  opacity: 0.5;\n",
       "}\n",
       ".tfx-object.collapsed > table.attr-table {\n",
       "  display: none;\n",
       "}\n",
       ".tfx-object.expanded > table.attr-table {\n",
       "  display: block;\n",
       "}\n",
       ".tfx-object table.attr-table {\n",
       "  border: 2px solid white;\n",
       "  margin-top: 5px;\n",
       "}\n",
       ".tfx-object table.attr-table td.attr-name {\n",
       "  vertical-align: top;\n",
       "  font-weight: bold;\n",
       "}\n",
       ".tfx-object table.attr-table td.attrvalue {\n",
       "  text-align: left;\n",
       "}\n",
       "</style>\n",
       "<script>\n",
       "function toggleTfxObject(element) {\n",
       "  var objElement = element.parentElement;\n",
       "  if (objElement.classList.contains('collapsed')) {\n",
       "    objElement.classList.remove('collapsed');\n",
       "    objElement.classList.add('expanded');\n",
       "  } else {\n",
       "    objElement.classList.add('collapsed');\n",
       "    objElement.classList.remove('expanded');\n",
       "  }\n",
       "}\n",
       "</script>\n",
       "<div class=\"tfx-object collapsed\"><div class = \"title\" onclick=\"toggleTfxObject(this)\"><span class=\"expansion-marker\"></span><span class=\"class-name\">Channel</span> of type <span class=\"class-name\">'ModelPushPath'</span> (1 artifact)<span class=\"deemphasize\"> at 0x7fabec11b0b8</span></div><table class=\"attr-table\"><tr><td class=\"attr-name\">.type_name</td><td class = \"attrvalue\">ModelPushPath</td></tr><tr><td class=\"attr-name\">._artifacts</td><td class = \"attrvalue\"><table class=\"attr-table\"><tr><td class=\"attr-name\">[0]</td><td class = \"attrvalue\"><style>\n",
       ".tfx-object.expanded {\n",
       "  padding: 4px 8px 4px 8px;\n",
       "  background: white;\n",
       "  border: 1px solid #bbbbbb;\n",
       "  box-shadow: 4px 4px 2px rgba(0,0,0,0.05);\n",
       "}\n",
       ".tfx-object, .tfx-object * {\n",
       "  font-size: 11pt;\n",
       "}\n",
       ".tfx-object > .title {\n",
       "  cursor: pointer;\n",
       "}\n",
       ".tfx-object .expansion-marker {\n",
       "  color: #999999;\n",
       "}\n",
       ".tfx-object.expanded > .title > .expansion-marker:before {\n",
       "  content: '▼';\n",
       "}\n",
       ".tfx-object.collapsed > .title > .expansion-marker:before {\n",
       "  content: '▶';\n",
       "}\n",
       ".tfx-object .class-name {\n",
       "  font-weight: bold;\n",
       "}\n",
       ".tfx-object .deemphasize {\n",
       "  opacity: 0.5;\n",
       "}\n",
       ".tfx-object.collapsed > table.attr-table {\n",
       "  display: none;\n",
       "}\n",
       ".tfx-object.expanded > table.attr-table {\n",
       "  display: block;\n",
       "}\n",
       ".tfx-object table.attr-table {\n",
       "  border: 2px solid white;\n",
       "  margin-top: 5px;\n",
       "}\n",
       ".tfx-object table.attr-table td.attr-name {\n",
       "  vertical-align: top;\n",
       "  font-weight: bold;\n",
       "}\n",
       ".tfx-object table.attr-table td.attrvalue {\n",
       "  text-align: left;\n",
       "}\n",
       "</style>\n",
       "<script>\n",
       "function toggleTfxObject(element) {\n",
       "  var objElement = element.parentElement;\n",
       "  if (objElement.classList.contains('collapsed')) {\n",
       "    objElement.classList.remove('collapsed');\n",
       "    objElement.classList.add('expanded');\n",
       "  } else {\n",
       "    objElement.classList.add('collapsed');\n",
       "    objElement.classList.remove('expanded');\n",
       "  }\n",
       "}\n",
       "</script>\n",
       "<div class=\"tfx-object collapsed\"><div class = \"title\" onclick=\"toggleTfxObject(this)\"><span class=\"expansion-marker\"></span><span class=\"class-name\">Artifact</span> of type <span class=\"class-name\">'ModelPushPath'</span> (uri: /tmp/tfx-interactive-2019-09-13T16_46_14.222336-5zedre0a/Pusher/model_push/9/)<span class=\"deemphasize\"> at 0x7fabec11b470</span></div><table class=\"attr-table\"><tr><td class=\"attr-name\">.type_name</td><td class = \"attrvalue\">ModelPushPath</td></tr><tr><td class=\"attr-name\">.uri</td><td class = \"attrvalue\">/tmp/tfx-interactive-2019-09-13T16_46_14.222336-5zedre0a/Pusher/model_push/9/</td></tr><tr><td class=\"attr-name\">.span</td><td class = \"attrvalue\">0</td></tr><tr><td class=\"attr-name\">.split</td><td class = \"attrvalue\"></td></tr></table></div></td></tr></table></td></tr></table></div></td></tr></table></td></tr><tr><td class=\"attr-name\">.exec_properties</td><td class = \"attrvalue\"><table class=\"attr-table\"><tr><td class=\"attr-name\">['push_destination']</td><td class = \"attrvalue\">{\n",
       "  \"filesystem\": {\n",
       "    \"baseDirectory\": \"/tmp/tmp7thxyl6i/serving_model/taxi_simple\"\n",
       "  }\n",
       "}</td></tr><tr><td class=\"attr-name\">['custom_config']</td><td class = \"attrvalue\">None</td></tr></table></td></tr></table></div></td></tr><tr><td class=\"attr-name\">.component.inputs</td><td class = \"attrvalue\"><table class=\"attr-table\"><tr><td class=\"attr-name\">['model_export']</td><td class = \"attrvalue\"><style>\n",
       ".tfx-object.expanded {\n",
       "  padding: 4px 8px 4px 8px;\n",
       "  background: white;\n",
       "  border: 1px solid #bbbbbb;\n",
       "  box-shadow: 4px 4px 2px rgba(0,0,0,0.05);\n",
       "}\n",
       ".tfx-object, .tfx-object * {\n",
       "  font-size: 11pt;\n",
       "}\n",
       ".tfx-object > .title {\n",
       "  cursor: pointer;\n",
       "}\n",
       ".tfx-object .expansion-marker {\n",
       "  color: #999999;\n",
       "}\n",
       ".tfx-object.expanded > .title > .expansion-marker:before {\n",
       "  content: '▼';\n",
       "}\n",
       ".tfx-object.collapsed > .title > .expansion-marker:before {\n",
       "  content: '▶';\n",
       "}\n",
       ".tfx-object .class-name {\n",
       "  font-weight: bold;\n",
       "}\n",
       ".tfx-object .deemphasize {\n",
       "  opacity: 0.5;\n",
       "}\n",
       ".tfx-object.collapsed > table.attr-table {\n",
       "  display: none;\n",
       "}\n",
       ".tfx-object.expanded > table.attr-table {\n",
       "  display: block;\n",
       "}\n",
       ".tfx-object table.attr-table {\n",
       "  border: 2px solid white;\n",
       "  margin-top: 5px;\n",
       "}\n",
       ".tfx-object table.attr-table td.attr-name {\n",
       "  vertical-align: top;\n",
       "  font-weight: bold;\n",
       "}\n",
       ".tfx-object table.attr-table td.attrvalue {\n",
       "  text-align: left;\n",
       "}\n",
       "</style>\n",
       "<script>\n",
       "function toggleTfxObject(element) {\n",
       "  var objElement = element.parentElement;\n",
       "  if (objElement.classList.contains('collapsed')) {\n",
       "    objElement.classList.remove('collapsed');\n",
       "    objElement.classList.add('expanded');\n",
       "  } else {\n",
       "    objElement.classList.add('collapsed');\n",
       "    objElement.classList.remove('expanded');\n",
       "  }\n",
       "}\n",
       "</script>\n",
       "<div class=\"tfx-object collapsed\"><div class = \"title\" onclick=\"toggleTfxObject(this)\"><span class=\"expansion-marker\"></span><span class=\"class-name\">Channel</span> of type <span class=\"class-name\">'ModelExportPath'</span> (1 artifact)<span class=\"deemphasize\"> at 0x7face15a15c0</span></div><table class=\"attr-table\"><tr><td class=\"attr-name\">.type_name</td><td class = \"attrvalue\">ModelExportPath</td></tr><tr><td class=\"attr-name\">._artifacts</td><td class = \"attrvalue\"><table class=\"attr-table\"><tr><td class=\"attr-name\">[0]</td><td class = \"attrvalue\"><style>\n",
       ".tfx-object.expanded {\n",
       "  padding: 4px 8px 4px 8px;\n",
       "  background: white;\n",
       "  border: 1px solid #bbbbbb;\n",
       "  box-shadow: 4px 4px 2px rgba(0,0,0,0.05);\n",
       "}\n",
       ".tfx-object, .tfx-object * {\n",
       "  font-size: 11pt;\n",
       "}\n",
       ".tfx-object > .title {\n",
       "  cursor: pointer;\n",
       "}\n",
       ".tfx-object .expansion-marker {\n",
       "  color: #999999;\n",
       "}\n",
       ".tfx-object.expanded > .title > .expansion-marker:before {\n",
       "  content: '▼';\n",
       "}\n",
       ".tfx-object.collapsed > .title > .expansion-marker:before {\n",
       "  content: '▶';\n",
       "}\n",
       ".tfx-object .class-name {\n",
       "  font-weight: bold;\n",
       "}\n",
       ".tfx-object .deemphasize {\n",
       "  opacity: 0.5;\n",
       "}\n",
       ".tfx-object.collapsed > table.attr-table {\n",
       "  display: none;\n",
       "}\n",
       ".tfx-object.expanded > table.attr-table {\n",
       "  display: block;\n",
       "}\n",
       ".tfx-object table.attr-table {\n",
       "  border: 2px solid white;\n",
       "  margin-top: 5px;\n",
       "}\n",
       ".tfx-object table.attr-table td.attr-name {\n",
       "  vertical-align: top;\n",
       "  font-weight: bold;\n",
       "}\n",
       ".tfx-object table.attr-table td.attrvalue {\n",
       "  text-align: left;\n",
       "}\n",
       "</style>\n",
       "<script>\n",
       "function toggleTfxObject(element) {\n",
       "  var objElement = element.parentElement;\n",
       "  if (objElement.classList.contains('collapsed')) {\n",
       "    objElement.classList.remove('collapsed');\n",
       "    objElement.classList.add('expanded');\n",
       "  } else {\n",
       "    objElement.classList.add('collapsed');\n",
       "    objElement.classList.remove('expanded');\n",
       "  }\n",
       "}\n",
       "</script>\n",
       "<div class=\"tfx-object collapsed\"><div class = \"title\" onclick=\"toggleTfxObject(this)\"><span class=\"expansion-marker\"></span><span class=\"class-name\">Artifact</span> of type <span class=\"class-name\">'ModelExportPath'</span> (uri: /tmp/tfx-interactive-2019-09-13T16_46_14.222336-5zedre0a/Trainer/output/6/)<span class=\"deemphasize\"> at 0x7fac844948d0</span></div><table class=\"attr-table\"><tr><td class=\"attr-name\">.type_name</td><td class = \"attrvalue\">ModelExportPath</td></tr><tr><td class=\"attr-name\">.uri</td><td class = \"attrvalue\">/tmp/tfx-interactive-2019-09-13T16_46_14.222336-5zedre0a/Trainer/output/6/</td></tr><tr><td class=\"attr-name\">.span</td><td class = \"attrvalue\">0</td></tr><tr><td class=\"attr-name\">.split</td><td class = \"attrvalue\"></td></tr></table></div></td></tr></table></td></tr></table></div></td></tr><tr><td class=\"attr-name\">['model_blessing']</td><td class = \"attrvalue\"><style>\n",
       ".tfx-object.expanded {\n",
       "  padding: 4px 8px 4px 8px;\n",
       "  background: white;\n",
       "  border: 1px solid #bbbbbb;\n",
       "  box-shadow: 4px 4px 2px rgba(0,0,0,0.05);\n",
       "}\n",
       ".tfx-object, .tfx-object * {\n",
       "  font-size: 11pt;\n",
       "}\n",
       ".tfx-object > .title {\n",
       "  cursor: pointer;\n",
       "}\n",
       ".tfx-object .expansion-marker {\n",
       "  color: #999999;\n",
       "}\n",
       ".tfx-object.expanded > .title > .expansion-marker:before {\n",
       "  content: '▼';\n",
       "}\n",
       ".tfx-object.collapsed > .title > .expansion-marker:before {\n",
       "  content: '▶';\n",
       "}\n",
       ".tfx-object .class-name {\n",
       "  font-weight: bold;\n",
       "}\n",
       ".tfx-object .deemphasize {\n",
       "  opacity: 0.5;\n",
       "}\n",
       ".tfx-object.collapsed > table.attr-table {\n",
       "  display: none;\n",
       "}\n",
       ".tfx-object.expanded > table.attr-table {\n",
       "  display: block;\n",
       "}\n",
       ".tfx-object table.attr-table {\n",
       "  border: 2px solid white;\n",
       "  margin-top: 5px;\n",
       "}\n",
       ".tfx-object table.attr-table td.attr-name {\n",
       "  vertical-align: top;\n",
       "  font-weight: bold;\n",
       "}\n",
       ".tfx-object table.attr-table td.attrvalue {\n",
       "  text-align: left;\n",
       "}\n",
       "</style>\n",
       "<script>\n",
       "function toggleTfxObject(element) {\n",
       "  var objElement = element.parentElement;\n",
       "  if (objElement.classList.contains('collapsed')) {\n",
       "    objElement.classList.remove('collapsed');\n",
       "    objElement.classList.add('expanded');\n",
       "  } else {\n",
       "    objElement.classList.add('collapsed');\n",
       "    objElement.classList.remove('expanded');\n",
       "  }\n",
       "}\n",
       "</script>\n",
       "<div class=\"tfx-object collapsed\"><div class = \"title\" onclick=\"toggleTfxObject(this)\"><span class=\"expansion-marker\"></span><span class=\"class-name\">Channel</span> of type <span class=\"class-name\">'ModelBlessingPath'</span> (1 artifact)<span class=\"deemphasize\"> at 0x7faa4c412320</span></div><table class=\"attr-table\"><tr><td class=\"attr-name\">.type_name</td><td class = \"attrvalue\">ModelBlessingPath</td></tr><tr><td class=\"attr-name\">._artifacts</td><td class = \"attrvalue\"><table class=\"attr-table\"><tr><td class=\"attr-name\">[0]</td><td class = \"attrvalue\"><style>\n",
       ".tfx-object.expanded {\n",
       "  padding: 4px 8px 4px 8px;\n",
       "  background: white;\n",
       "  border: 1px solid #bbbbbb;\n",
       "  box-shadow: 4px 4px 2px rgba(0,0,0,0.05);\n",
       "}\n",
       ".tfx-object, .tfx-object * {\n",
       "  font-size: 11pt;\n",
       "}\n",
       ".tfx-object > .title {\n",
       "  cursor: pointer;\n",
       "}\n",
       ".tfx-object .expansion-marker {\n",
       "  color: #999999;\n",
       "}\n",
       ".tfx-object.expanded > .title > .expansion-marker:before {\n",
       "  content: '▼';\n",
       "}\n",
       ".tfx-object.collapsed > .title > .expansion-marker:before {\n",
       "  content: '▶';\n",
       "}\n",
       ".tfx-object .class-name {\n",
       "  font-weight: bold;\n",
       "}\n",
       ".tfx-object .deemphasize {\n",
       "  opacity: 0.5;\n",
       "}\n",
       ".tfx-object.collapsed > table.attr-table {\n",
       "  display: none;\n",
       "}\n",
       ".tfx-object.expanded > table.attr-table {\n",
       "  display: block;\n",
       "}\n",
       ".tfx-object table.attr-table {\n",
       "  border: 2px solid white;\n",
       "  margin-top: 5px;\n",
       "}\n",
       ".tfx-object table.attr-table td.attr-name {\n",
       "  vertical-align: top;\n",
       "  font-weight: bold;\n",
       "}\n",
       ".tfx-object table.attr-table td.attrvalue {\n",
       "  text-align: left;\n",
       "}\n",
       "</style>\n",
       "<script>\n",
       "function toggleTfxObject(element) {\n",
       "  var objElement = element.parentElement;\n",
       "  if (objElement.classList.contains('collapsed')) {\n",
       "    objElement.classList.remove('collapsed');\n",
       "    objElement.classList.add('expanded');\n",
       "  } else {\n",
       "    objElement.classList.add('collapsed');\n",
       "    objElement.classList.remove('expanded');\n",
       "  }\n",
       "}\n",
       "</script>\n",
       "<div class=\"tfx-object collapsed\"><div class = \"title\" onclick=\"toggleTfxObject(this)\"><span class=\"expansion-marker\"></span><span class=\"class-name\">Artifact</span> of type <span class=\"class-name\">'ModelBlessingPath'</span> (uri: /tmp/tfx-interactive-2019-09-13T16_46_14.222336-5zedre0a/ModelValidator/blessing/8/)<span class=\"deemphasize\"> at 0x7faa4c4124a8</span></div><table class=\"attr-table\"><tr><td class=\"attr-name\">.type_name</td><td class = \"attrvalue\">ModelBlessingPath</td></tr><tr><td class=\"attr-name\">.uri</td><td class = \"attrvalue\">/tmp/tfx-interactive-2019-09-13T16_46_14.222336-5zedre0a/ModelValidator/blessing/8/</td></tr><tr><td class=\"attr-name\">.span</td><td class = \"attrvalue\">0</td></tr><tr><td class=\"attr-name\">.split</td><td class = \"attrvalue\"></td></tr></table></div></td></tr></table></td></tr></table></div></td></tr></table></td></tr><tr><td class=\"attr-name\">.component.outputs</td><td class = \"attrvalue\"><table class=\"attr-table\"><tr><td class=\"attr-name\">['model_push']</td><td class = \"attrvalue\"><style>\n",
       ".tfx-object.expanded {\n",
       "  padding: 4px 8px 4px 8px;\n",
       "  background: white;\n",
       "  border: 1px solid #bbbbbb;\n",
       "  box-shadow: 4px 4px 2px rgba(0,0,0,0.05);\n",
       "}\n",
       ".tfx-object, .tfx-object * {\n",
       "  font-size: 11pt;\n",
       "}\n",
       ".tfx-object > .title {\n",
       "  cursor: pointer;\n",
       "}\n",
       ".tfx-object .expansion-marker {\n",
       "  color: #999999;\n",
       "}\n",
       ".tfx-object.expanded > .title > .expansion-marker:before {\n",
       "  content: '▼';\n",
       "}\n",
       ".tfx-object.collapsed > .title > .expansion-marker:before {\n",
       "  content: '▶';\n",
       "}\n",
       ".tfx-object .class-name {\n",
       "  font-weight: bold;\n",
       "}\n",
       ".tfx-object .deemphasize {\n",
       "  opacity: 0.5;\n",
       "}\n",
       ".tfx-object.collapsed > table.attr-table {\n",
       "  display: none;\n",
       "}\n",
       ".tfx-object.expanded > table.attr-table {\n",
       "  display: block;\n",
       "}\n",
       ".tfx-object table.attr-table {\n",
       "  border: 2px solid white;\n",
       "  margin-top: 5px;\n",
       "}\n",
       ".tfx-object table.attr-table td.attr-name {\n",
       "  vertical-align: top;\n",
       "  font-weight: bold;\n",
       "}\n",
       ".tfx-object table.attr-table td.attrvalue {\n",
       "  text-align: left;\n",
       "}\n",
       "</style>\n",
       "<script>\n",
       "function toggleTfxObject(element) {\n",
       "  var objElement = element.parentElement;\n",
       "  if (objElement.classList.contains('collapsed')) {\n",
       "    objElement.classList.remove('collapsed');\n",
       "    objElement.classList.add('expanded');\n",
       "  } else {\n",
       "    objElement.classList.add('collapsed');\n",
       "    objElement.classList.remove('expanded');\n",
       "  }\n",
       "}\n",
       "</script>\n",
       "<div class=\"tfx-object collapsed\"><div class = \"title\" onclick=\"toggleTfxObject(this)\"><span class=\"expansion-marker\"></span><span class=\"class-name\">Channel</span> of type <span class=\"class-name\">'ModelPushPath'</span> (1 artifact)<span class=\"deemphasize\"> at 0x7fabec11b0b8</span></div><table class=\"attr-table\"><tr><td class=\"attr-name\">.type_name</td><td class = \"attrvalue\">ModelPushPath</td></tr><tr><td class=\"attr-name\">._artifacts</td><td class = \"attrvalue\"><table class=\"attr-table\"><tr><td class=\"attr-name\">[0]</td><td class = \"attrvalue\"><style>\n",
       ".tfx-object.expanded {\n",
       "  padding: 4px 8px 4px 8px;\n",
       "  background: white;\n",
       "  border: 1px solid #bbbbbb;\n",
       "  box-shadow: 4px 4px 2px rgba(0,0,0,0.05);\n",
       "}\n",
       ".tfx-object, .tfx-object * {\n",
       "  font-size: 11pt;\n",
       "}\n",
       ".tfx-object > .title {\n",
       "  cursor: pointer;\n",
       "}\n",
       ".tfx-object .expansion-marker {\n",
       "  color: #999999;\n",
       "}\n",
       ".tfx-object.expanded > .title > .expansion-marker:before {\n",
       "  content: '▼';\n",
       "}\n",
       ".tfx-object.collapsed > .title > .expansion-marker:before {\n",
       "  content: '▶';\n",
       "}\n",
       ".tfx-object .class-name {\n",
       "  font-weight: bold;\n",
       "}\n",
       ".tfx-object .deemphasize {\n",
       "  opacity: 0.5;\n",
       "}\n",
       ".tfx-object.collapsed > table.attr-table {\n",
       "  display: none;\n",
       "}\n",
       ".tfx-object.expanded > table.attr-table {\n",
       "  display: block;\n",
       "}\n",
       ".tfx-object table.attr-table {\n",
       "  border: 2px solid white;\n",
       "  margin-top: 5px;\n",
       "}\n",
       ".tfx-object table.attr-table td.attr-name {\n",
       "  vertical-align: top;\n",
       "  font-weight: bold;\n",
       "}\n",
       ".tfx-object table.attr-table td.attrvalue {\n",
       "  text-align: left;\n",
       "}\n",
       "</style>\n",
       "<script>\n",
       "function toggleTfxObject(element) {\n",
       "  var objElement = element.parentElement;\n",
       "  if (objElement.classList.contains('collapsed')) {\n",
       "    objElement.classList.remove('collapsed');\n",
       "    objElement.classList.add('expanded');\n",
       "  } else {\n",
       "    objElement.classList.add('collapsed');\n",
       "    objElement.classList.remove('expanded');\n",
       "  }\n",
       "}\n",
       "</script>\n",
       "<div class=\"tfx-object collapsed\"><div class = \"title\" onclick=\"toggleTfxObject(this)\"><span class=\"expansion-marker\"></span><span class=\"class-name\">Artifact</span> of type <span class=\"class-name\">'ModelPushPath'</span> (uri: /tmp/tfx-interactive-2019-09-13T16_46_14.222336-5zedre0a/Pusher/model_push/9/)<span class=\"deemphasize\"> at 0x7fabec11b470</span></div><table class=\"attr-table\"><tr><td class=\"attr-name\">.type_name</td><td class = \"attrvalue\">ModelPushPath</td></tr><tr><td class=\"attr-name\">.uri</td><td class = \"attrvalue\">/tmp/tfx-interactive-2019-09-13T16_46_14.222336-5zedre0a/Pusher/model_push/9/</td></tr><tr><td class=\"attr-name\">.span</td><td class = \"attrvalue\">0</td></tr><tr><td class=\"attr-name\">.split</td><td class = \"attrvalue\"></td></tr></table></div></td></tr></table></td></tr></table></div></td></tr></table></td></tr></table></div>"
      ],
      "text/plain": [
       "ExecutionResult(\n",
       "    component_id: Pusher\n",
       "    execution_id: 9\n",
       "    outputs:\n",
       "        model_push: Channel(\n",
       "            type_name: ModelPushPath\n",
       "            artifacts: [Artifact(type_name: ModelPushPath, uri: /tmp/tfx-interactive-2019-09-13T16_46_14.222336-5zedre0a/Pusher/model_push/9/, split: , id: 14)]\n",
       "        ))"
      ]
     },
     "execution_count": 23,
     "metadata": {},
     "output_type": "execute_result"
    }
   ],
   "source": [
    "# Checks whether the model passed the validation steps and pushes the model\n",
    "# to a file destination if check passed.\n",
    "pusher = Pusher(\n",
    "    model_export=trainer.outputs['output'],\n",
    "    model_blessing=model_validator.outputs['blessing'],\n",
    "    push_destination=pusher_pb2.PushDestination(\n",
    "        filesystem=pusher_pb2.PushDestination.Filesystem(\n",
    "            base_directory=_serving_model_dir)))\n",
    "context.run(pusher)"
   ]
  },
  {
   "cell_type": "code",
   "execution_count": 24,
   "metadata": {},
   "outputs": [
    {
     "name": "stdout",
     "output_type": "stream",
     "text": [
      "Caller filepath: <ipython-input-24-722c1df61a14>\n",
      "Exporting contents of %s to %s. /usr/local/google/home/joeyounglee/git-repos/tfx_oss.git/tfx/examples/chicago_taxi_pipeline/taxi_pipeline_interactive.ipynb /usr/local/google/home/joeyounglee/git-repos/tfx_oss.git/tfx/examples/chicago_taxi_pipeline/taxi_pipeline_interactive_export.py\n"
     ]
    }
   ],
   "source": [
    "# Beam pipeline export template.\n",
    "\n",
    "from tfx.orchestration.beam.beam_dag_runner import BeamDagRunner\n",
    "\n",
    "\n",
    "components = [\n",
    "    example_gen, statistics_gen, infer_schema, validate_stats, transform,\n",
    "    trainer, model_analyzer, model_validator, pusher\n",
    "]\n",
    "\n",
    "tf.logging.set_verbosity(tf.logging.INFO)\n",
    "\n",
    "beam_pipeline = pipeline.Pipeline(\n",
    "    pipeline_name=_pipeline_name,\n",
    "    pipeline_root=_pipeline_root,\n",
    "    components=components,\n",
    "    enable_cache=True,\n",
    "    metadata_connection_config=metadata.sqlite_metadata_connection_config(_metadata_path),\n",
    "    additional_pipeline_args={})\n",
    "\n",
    "if not check_ipython():\n",
    "  BeamDagRunner().run(beam_pipeline)\n",
    "\n",
    "context.export_to_pipeline(notebook_filename='taxi_pipeline_interactive.ipynb',\n",
    "                           pipeline_filename=None)"
   ]
  }
 ],
 "metadata": {
  "colab": {
   "collapsed_sections": [],
   "name": "taxi_pipeline_interactive.ipynb",
   "provenance": [],
   "version": "0.3.2"
  },
  "kernelspec": {
   "display_name": "Python 3",
   "language": "python",
   "name": "python3"
  },
  "language_info": {
   "codemirror_mode": {
    "name": "ipython",
    "version": 3
   },
   "file_extension": ".py",
   "mimetype": "text/x-python",
   "name": "python",
   "nbconvert_exporter": "python",
   "pygments_lexer": "ipython3",
   "version": "3.6.8rc1"
  }
 },
 "nbformat": 4,
 "nbformat_minor": 1
}
